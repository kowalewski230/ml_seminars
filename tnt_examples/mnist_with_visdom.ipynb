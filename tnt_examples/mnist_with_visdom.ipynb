{
 "cells": [
  {
   "cell_type": "markdown",
   "metadata": {},
   "source": [
    "    Run MNIST example and log to visdom\n",
    "    Notes:\n",
    "        - Visdom must be installed (pip works)\n",
    "        - the Visdom server must be running at start!\n",
    "\n",
    "    Example:\n",
    "        $ python -m visdom.server -port 8097 &\n",
    "        $ python mnist_with_visdom.py"
   ]
  },
  {
   "cell_type": "code",
   "execution_count": 1,
   "metadata": {},
   "outputs": [],
   "source": [
    "from tqdm import tqdm\n",
    "import torch\n",
    "import torch.optim\n",
    "import torchnet as tnt\n",
    "from torch.autograd import Variable\n",
    "import torch.nn.functional as F\n",
    "from torch.nn.init import kaiming_normal\n",
    "from torchnet.engine import Engine\n",
    "from torchnet.logger import VisdomPlotLogger, VisdomLogger\n",
    "from torchvision.datasets.mnist import MNIST"
   ]
  },
  {
   "cell_type": "code",
   "execution_count": 2,
   "metadata": {},
   "outputs": [],
   "source": [
    "def get_iterator(mode):\n",
    "    ds = MNIST(root='./', download=True, train=mode)\n",
    "    data = getattr(ds, 'train_data' if mode else 'test_data')\n",
    "    labels = getattr(ds, 'train_labels' if mode else 'test_labels')\n",
    "    tds = tnt.dataset.TensorDataset([data, labels])\n",
    "    return tds.parallel(batch_size=128, num_workers=4, shuffle=mode)\n",
    "\n",
    "\n",
    "def conv_init(ni, no, k):\n",
    "    return kaiming_normal(torch.Tensor(no, ni, k, k))\n",
    "\n",
    "\n",
    "def linear_init(ni, no):\n",
    "    return kaiming_normal(torch.Tensor(no, ni))\n",
    "\n",
    "\n",
    "def f(params, inputs, mode):\n",
    "    o = inputs.view(inputs.size(0), 1, 28, 28)\n",
    "    o = F.conv2d(o, params['conv0.weight'], params['conv0.bias'], stride=2)\n",
    "    o = F.relu(o)\n",
    "    o = F.conv2d(o, params['conv1.weight'], params['conv1.bias'], stride=2)\n",
    "    o = F.relu(o)\n",
    "    o = o.view(o.size(0), -1)\n",
    "    o = F.linear(o, params['linear2.weight'], params['linear2.bias'])\n",
    "    o = F.relu(o)\n",
    "    o = F.linear(o, params['linear3.weight'], params['linear3.bias'])\n",
    "    return o"
   ]
  },
  {
   "cell_type": "code",
   "execution_count": 3,
   "metadata": {},
   "outputs": [],
   "source": [
    "def main():\n",
    "    params = {\n",
    "        'conv0.weight': conv_init(1, 50, 5), 'conv0.bias': torch.zeros(50),\n",
    "        'conv1.weight': conv_init(50, 50, 5), 'conv1.bias': torch.zeros(50),\n",
    "        'linear2.weight': linear_init(800, 512), 'linear2.bias': torch.zeros(512),\n",
    "        'linear3.weight': linear_init(512, 10), 'linear3.bias': torch.zeros(10),\n",
    "    }\n",
    "    params = {k: Variable(v, requires_grad=True) for k, v in params.items()}\n",
    "\n",
    "    optimizer = torch.optim.SGD(\n",
    "        params.values(), lr=0.01, momentum=0.9, weight_decay=0.0005)\n",
    "\n",
    "    engine = Engine()\n",
    "    meter_loss = tnt.meter.AverageValueMeter()\n",
    "    classerr = tnt.meter.ClassErrorMeter(accuracy=True)\n",
    "    confusion_meter = tnt.meter.ConfusionMeter(10, normalized=True)\n",
    "\n",
    "    port = 8097\n",
    "    train_loss_logger = VisdomPlotLogger(\n",
    "        'line', port=port, opts={'title': 'Train Loss'})\n",
    "    train_err_logger = VisdomPlotLogger(\n",
    "        'line', port=port, opts={'title': 'Train Class Error'})\n",
    "    test_loss_logger = VisdomPlotLogger(\n",
    "        'line', port=port, opts={'title': 'Test Loss'})\n",
    "    test_err_logger = VisdomPlotLogger(\n",
    "        'line', port=port, opts={'title': 'Test Class Error'})\n",
    "    confusion_logger = VisdomLogger('heatmap', port=port, opts={'title': 'Confusion matrix',\n",
    "                                                                'columnnames': list(range(10)),\n",
    "                                                                'rownames': list(range(10))})\n",
    "\n",
    "    def h(sample):\n",
    "        inputs = Variable(sample[0].float() / 255.0)\n",
    "        targets = Variable(torch.LongTensor(sample[1]))\n",
    "        o = f(params, inputs, sample[2])\n",
    "        return F.cross_entropy(o, targets), o\n",
    "\n",
    "    def reset_meters():\n",
    "        classerr.reset()\n",
    "        meter_loss.reset()\n",
    "        confusion_meter.reset()\n",
    "\n",
    "    def on_sample(state):\n",
    "        state['sample'].append(state['train'])\n",
    "\n",
    "    def on_forward(state):\n",
    "        classerr.add(state['output'].data,\n",
    "                     torch.LongTensor(state['sample'][1]))\n",
    "        confusion_meter.add(state['output'].data,\n",
    "                            torch.LongTensor(state['sample'][1]))\n",
    "        meter_loss.add(state['loss'].data[0])\n",
    "\n",
    "    def on_start_epoch(state):\n",
    "        reset_meters()\n",
    "        state['iterator'] = tqdm(state['iterator'])\n",
    "\n",
    "    def on_end_epoch(state):\n",
    "        print('Training loss: %.4f, accuracy: %.2f%%' % (meter_loss.value()[0], classerr.value()[0]))\n",
    "        train_loss_logger.log(state['epoch'], meter_loss.value()[0])\n",
    "        train_err_logger.log(state['epoch'], classerr.value()[0])\n",
    "\n",
    "        # do validation at the end of each epoch\n",
    "        reset_meters()\n",
    "        engine.test(h, get_iterator(False))\n",
    "        test_loss_logger.log(state['epoch'], meter_loss.value()[0])\n",
    "        test_err_logger.log(state['epoch'], classerr.value()[0])\n",
    "        confusion_logger.log(confusion_meter.value())\n",
    "        print('Testing loss: %.4f, accuracy: %.2f%%' % (meter_loss.value()[0], classerr.value()[0]))\n",
    "\n",
    "    engine.hooks['on_sample'] = on_sample\n",
    "    engine.hooks['on_forward'] = on_forward\n",
    "    engine.hooks['on_start_epoch'] = on_start_epoch\n",
    "    engine.hooks['on_end_epoch'] = on_end_epoch\n",
    "    engine.train(h, get_iterator(True), maxepoch=10, optimizer=optimizer)"
   ]
  },
  {
   "cell_type": "code",
   "execution_count": 4,
   "metadata": {},
   "outputs": [
    {
     "name": "stderr",
     "output_type": "stream",
     "text": [
      "100%|██████████| 469/469 [00:34<00:00, 13.48it/s]\n"
     ]
    },
    {
     "name": "stdout",
     "output_type": "stream",
     "text": [
      "Training loss: 0.2520, accuracy: 92.35%\n"
     ]
    },
    {
     "name": "stderr",
     "output_type": "stream",
     "text": [
      "  0%|          | 0/469 [00:00<?, ?it/s]"
     ]
    },
    {
     "name": "stdout",
     "output_type": "stream",
     "text": [
      "Testing loss: 0.0975, accuracy: 97.03%\n"
     ]
    },
    {
     "name": "stderr",
     "output_type": "stream",
     "text": [
      "100%|██████████| 469/469 [00:37<00:00, 12.36it/s]"
     ]
    },
    {
     "name": "stdout",
     "output_type": "stream",
     "text": [
      "Training loss: 0.0882, accuracy: 97.37%\n"
     ]
    },
    {
     "name": "stderr",
     "output_type": "stream",
     "text": [
      "\n",
      "  0%|          | 0/469 [00:00<?, ?it/s]"
     ]
    },
    {
     "name": "stdout",
     "output_type": "stream",
     "text": [
      "Testing loss: 0.0759, accuracy: 97.72%\n"
     ]
    },
    {
     "name": "stderr",
     "output_type": "stream",
     "text": [
      "100%|██████████| 469/469 [00:38<00:00, 12.27it/s]"
     ]
    },
    {
     "name": "stdout",
     "output_type": "stream",
     "text": [
      "Training loss: 0.0618, accuracy: 98.12%\n"
     ]
    },
    {
     "name": "stderr",
     "output_type": "stream",
     "text": [
      "\n",
      "  0%|          | 0/469 [00:00<?, ?it/s]"
     ]
    },
    {
     "name": "stdout",
     "output_type": "stream",
     "text": [
      "Testing loss: 0.0555, accuracy: 98.31%\n"
     ]
    },
    {
     "name": "stderr",
     "output_type": "stream",
     "text": [
      "100%|██████████| 469/469 [00:36<00:00, 12.70it/s]"
     ]
    },
    {
     "name": "stdout",
     "output_type": "stream",
     "text": [
      "Training loss: 0.0500, accuracy: 98.46%\n"
     ]
    },
    {
     "name": "stderr",
     "output_type": "stream",
     "text": [
      "\n",
      "  0%|          | 0/469 [00:00<?, ?it/s]"
     ]
    },
    {
     "name": "stdout",
     "output_type": "stream",
     "text": [
      "Testing loss: 0.0512, accuracy: 98.39%\n"
     ]
    },
    {
     "name": "stderr",
     "output_type": "stream",
     "text": [
      "100%|██████████| 469/469 [00:37<00:00, 12.55it/s]"
     ]
    },
    {
     "name": "stdout",
     "output_type": "stream",
     "text": [
      "Training loss: 0.0385, accuracy: 98.83%\n"
     ]
    },
    {
     "name": "stderr",
     "output_type": "stream",
     "text": [
      "\n",
      "  0%|          | 0/469 [00:00<?, ?it/s]"
     ]
    },
    {
     "name": "stdout",
     "output_type": "stream",
     "text": [
      "Testing loss: 0.0466, accuracy: 98.40%\n"
     ]
    },
    {
     "name": "stderr",
     "output_type": "stream",
     "text": [
      "100%|██████████| 469/469 [00:36<00:00, 12.71it/s]"
     ]
    },
    {
     "name": "stdout",
     "output_type": "stream",
     "text": [
      "Training loss: 0.0329, accuracy: 99.01%\n"
     ]
    },
    {
     "name": "stderr",
     "output_type": "stream",
     "text": [
      "\n",
      "  0%|          | 0/469 [00:00<?, ?it/s]"
     ]
    },
    {
     "name": "stdout",
     "output_type": "stream",
     "text": [
      "Testing loss: 0.0414, accuracy: 98.63%\n"
     ]
    },
    {
     "name": "stderr",
     "output_type": "stream",
     "text": [
      "100%|██████████| 469/469 [00:37<00:00, 12.65it/s]"
     ]
    },
    {
     "name": "stdout",
     "output_type": "stream",
     "text": [
      "Training loss: 0.0272, accuracy: 99.19%\n"
     ]
    },
    {
     "name": "stderr",
     "output_type": "stream",
     "text": [
      "\n",
      "  0%|          | 0/469 [00:00<?, ?it/s]"
     ]
    },
    {
     "name": "stdout",
     "output_type": "stream",
     "text": [
      "Testing loss: 0.0388, accuracy: 98.78%\n"
     ]
    },
    {
     "name": "stderr",
     "output_type": "stream",
     "text": [
      "100%|██████████| 469/469 [00:39<00:00, 11.92it/s]"
     ]
    },
    {
     "name": "stdout",
     "output_type": "stream",
     "text": [
      "Training loss: 0.0234, accuracy: 99.31%\n"
     ]
    },
    {
     "name": "stderr",
     "output_type": "stream",
     "text": [
      "\n",
      "  0%|          | 0/469 [00:00<?, ?it/s]"
     ]
    },
    {
     "name": "stdout",
     "output_type": "stream",
     "text": [
      "Testing loss: 0.0395, accuracy: 98.70%\n"
     ]
    },
    {
     "name": "stderr",
     "output_type": "stream",
     "text": [
      "100%|██████████| 469/469 [00:40<00:00, 11.53it/s]"
     ]
    },
    {
     "name": "stdout",
     "output_type": "stream",
     "text": [
      "Training loss: 0.0209, accuracy: 99.43%\n"
     ]
    },
    {
     "name": "stderr",
     "output_type": "stream",
     "text": [
      "\n",
      "  0%|          | 0/469 [00:00<?, ?it/s]"
     ]
    },
    {
     "name": "stdout",
     "output_type": "stream",
     "text": [
      "Testing loss: 0.0387, accuracy: 98.74%\n"
     ]
    },
    {
     "name": "stderr",
     "output_type": "stream",
     "text": [
      "100%|██████████| 469/469 [00:39<00:00, 11.85it/s]"
     ]
    },
    {
     "name": "stdout",
     "output_type": "stream",
     "text": [
      "Training loss: 0.0190, accuracy: 99.42%\n"
     ]
    },
    {
     "name": "stderr",
     "output_type": "stream",
     "text": [
      "\n"
     ]
    },
    {
     "name": "stdout",
     "output_type": "stream",
     "text": [
      "Testing loss: 0.0439, accuracy: 98.64%\n"
     ]
    },
    {
     "name": "stderr",
     "output_type": "stream",
     "text": [
      "error from callback <function Visdom.setup_socket.<locals>.on_error at 0x118d8d9d8>: 'WebSocketConnectionClosedException' object has no attribute 'errno'\n",
      "error from callback <function Visdom.setup_socket.<locals>.on_error at 0x118d97d90>: 'WebSocketConnectionClosedException' object has no attribute 'errno'\n",
      "error from callback <function Visdom.setup_socket.<locals>.on_error at 0x118d97158>: 'WebSocketConnectionClosedException' object has no attribute 'errno'\n",
      "error from callback <function Visdom.setup_socket.<locals>.on_error at 0x118d84598>: 'WebSocketConnectionClosedException' object has no attribute 'errno'\n",
      "error from callback <function Visdom.setup_socket.<locals>.on_error at 0x118d5fe18>: 'WebSocketConnectionClosedException' object has no attribute 'errno'\n"
     ]
    }
   ],
   "source": [
    "if __name__ == '__main__':\n",
    "    main()"
   ]
  },
  {
   "cell_type": "code",
   "execution_count": null,
   "metadata": {},
   "outputs": [],
   "source": []
  }
 ],
 "metadata": {
  "kernelspec": {
   "display_name": "Python 3",
   "language": "python",
   "name": "python3"
  },
  "language_info": {
   "codemirror_mode": {
    "name": "ipython",
    "version": 3
   },
   "file_extension": ".py",
   "mimetype": "text/x-python",
   "name": "python",
   "nbconvert_exporter": "python",
   "pygments_lexer": "ipython3",
   "version": "3.6.5"
  }
 },
 "nbformat": 4,
 "nbformat_minor": 2
}
