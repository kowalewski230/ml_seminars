{
 "cells": [
  {
   "cell_type": "markdown",
   "metadata": {},
   "source": [
    "    Run MNIST example and log to visdom\n",
    "    Notes:\n",
    "        - Visdom must be installed (pip works)\n",
    "        - the Visdom server must be running at start!\n",
    "\n",
    "    Example:\n",
    "        $ python -m visdom.server -port 8097 &\n",
    "        $ python mnist_with_visdom.py\n"
   ]
  },
  {
   "cell_type": "code",
   "execution_count": 1,
   "metadata": {},
   "outputs": [],
   "source": [
    "from tqdm import tqdm\n",
    "import torch\n",
    "import torch.optim\n",
    "import torchnet as tnt\n",
    "from torch.autograd import Variable\n",
    "import torch.nn.functional as F\n",
    "from torch.nn.init import kaiming_normal\n",
    "from torchnet.engine import Engine\n",
    "from torchnet.logger import MeterLogger\n",
    "from torchvision.datasets.mnist import MNIST"
   ]
  },
  {
   "cell_type": "code",
   "execution_count": 2,
   "metadata": {},
   "outputs": [],
   "source": [
    "def get_iterator(mode):\n",
    "    ds = MNIST(root='./', download=True, train=mode)\n",
    "    data = getattr(ds, 'train_data' if mode else 'test_data')\n",
    "    labels = getattr(ds, 'train_labels' if mode else 'test_labels')\n",
    "    tds = tnt.dataset.TensorDataset([data, labels])\n",
    "    return tds.parallel(batch_size=128, num_workers=4, shuffle=mode)\n",
    "\n",
    "\n",
    "def conv_init(ni, no, k):\n",
    "    return kaiming_normal(torch.Tensor(no, ni, k, k))\n",
    "\n",
    "\n",
    "def linear_init(ni, no):\n",
    "    return kaiming_normal(torch.Tensor(no, ni))\n",
    "\n",
    "\n",
    "def f(params, inputs, mode):\n",
    "    o = inputs.view(inputs.size(0), 1, 28, 28)\n",
    "    o = F.conv2d(o, params['conv0.weight'], params['conv0.bias'], stride=2)\n",
    "    o = F.relu(o)\n",
    "    o = F.conv2d(o, params['conv1.weight'], params['conv1.bias'], stride=2)\n",
    "    o = F.relu(o)\n",
    "    o = o.view(o.size(0), -1)\n",
    "    o = F.linear(o, params['linear2.weight'], params['linear2.bias'])\n",
    "    o = F.relu(o)\n",
    "    o = F.linear(o, params['linear3.weight'], params['linear3.bias'])\n",
    "    return o"
   ]
  },
  {
   "cell_type": "code",
   "execution_count": 3,
   "metadata": {},
   "outputs": [],
   "source": [
    "def main():\n",
    "    params = {\n",
    "        'conv0.weight': conv_init(1, 50, 5), 'conv0.bias': torch.zeros(50),\n",
    "        'conv1.weight': conv_init(50, 50, 5), 'conv1.bias': torch.zeros(50),\n",
    "        'linear2.weight': linear_init(800, 512), 'linear2.bias': torch.zeros(512),\n",
    "        'linear3.weight': linear_init(512, 10), 'linear3.bias': torch.zeros(10),\n",
    "    }\n",
    "    params = {k: Variable(v, requires_grad=True) for k, v in params.items()}\n",
    "\n",
    "    optimizer = torch.optim.SGD(\n",
    "        params.values(), lr=0.01, momentum=0.9, weight_decay=0.0005)\n",
    "\n",
    "    engine = Engine()\n",
    "\n",
    "    mlog = MeterLogger(server='localhost', port=8097, nclass=10, title=\"mnist_meterlogger\")\n",
    "\n",
    "    def h(sample):\n",
    "        inputs = Variable(sample[0].float() / 255.0)\n",
    "        targets = Variable(torch.LongTensor(sample[1]))\n",
    "        o = f(params, inputs, sample[2])\n",
    "        return F.cross_entropy(o, targets), o\n",
    "\n",
    "    def on_sample(state):\n",
    "        state['sample'].append(state['train'])\n",
    "\n",
    "    def on_forward(state):\n",
    "        loss = state['loss']\n",
    "        output = state['output']\n",
    "        target = state['sample'][1]\n",
    "        # online ploter\n",
    "        mlog.update_loss(loss, meter='loss')\n",
    "        mlog.update_meter(output, target, meters={'accuracy', 'map', 'confusion'})\n",
    "\n",
    "    def on_start_epoch(state):\n",
    "        mlog.timer.reset()\n",
    "        state['iterator'] = tqdm(state['iterator'])\n",
    "\n",
    "    def on_end_epoch(state):\n",
    "        mlog.print_meter(mode=\"Train\", iepoch=state['epoch'])\n",
    "        mlog.reset_meter(mode=\"Train\", iepoch=state['epoch'])\n",
    "\n",
    "        # do validation at the end of each epoch\n",
    "        engine.test(h, get_iterator(False))\n",
    "        mlog.print_meter(mode=\"Test\", iepoch=state['epoch'])\n",
    "        mlog.reset_meter(mode=\"Test\", iepoch=state['epoch'])\n",
    "\n",
    "    engine.hooks['on_sample'] = on_sample\n",
    "    engine.hooks['on_forward'] = on_forward\n",
    "    engine.hooks['on_start_epoch'] = on_start_epoch\n",
    "    engine.hooks['on_end_epoch'] = on_end_epoch\n",
    "    engine.train(h, get_iterator(True), maxepoch=10, optimizer=optimizer)"
   ]
  },
  {
   "cell_type": "code",
   "execution_count": 4,
   "metadata": {},
   "outputs": [
    {
     "name": "stderr",
     "output_type": "stream",
     "text": [
      "100%|██████████| 469/469 [00:36<00:00, 12.88it/s]\n"
     ]
    },
    {
     "name": "stdout",
     "output_type": "stream",
     "text": [
      "Train:\t[1][1/1] \tloss 0.147 (0.251)\t 36.41s/its\t\n"
     ]
    },
    {
     "name": "stderr",
     "output_type": "stream",
     "text": [
      "  0%|          | 0/469 [00:00<?, ?it/s]"
     ]
    },
    {
     "name": "stdout",
     "output_type": "stream",
     "text": [
      "Test:\t[1][1/1] \tloss 0.005 (0.112)\t 1.66s/its\t\n"
     ]
    },
    {
     "name": "stderr",
     "output_type": "stream",
     "text": [
      "100%|██████████| 469/469 [00:38<00:00, 12.17it/s]\n"
     ]
    },
    {
     "name": "stdout",
     "output_type": "stream",
     "text": [
      "Train:\t[2][1/1] \tloss 0.019 (0.087)\t 38.54s/its\t\n"
     ]
    },
    {
     "name": "stderr",
     "output_type": "stream",
     "text": [
      "  0%|          | 0/469 [00:00<?, ?it/s]"
     ]
    },
    {
     "name": "stdout",
     "output_type": "stream",
     "text": [
      "Test:\t[2][1/1] \tloss 0.002 (0.069)\t 1.94s/its\t\n"
     ]
    },
    {
     "name": "stderr",
     "output_type": "stream",
     "text": [
      "100%|██████████| 469/469 [00:42<00:00, 11.04it/s]\n"
     ]
    },
    {
     "name": "stdout",
     "output_type": "stream",
     "text": [
      "Train:\t[3][1/1] \tloss 0.168 (0.060)\t 42.48s/its\t\n"
     ]
    },
    {
     "name": "stderr",
     "output_type": "stream",
     "text": [
      "  0%|          | 0/469 [00:00<?, ?it/s]"
     ]
    },
    {
     "name": "stdout",
     "output_type": "stream",
     "text": [
      "Test:\t[3][1/1] \tloss 0.001 (0.055)\t 2.17s/its\t\n"
     ]
    },
    {
     "name": "stderr",
     "output_type": "stream",
     "text": [
      "100%|██████████| 469/469 [00:40<00:00, 11.48it/s]\n"
     ]
    },
    {
     "name": "stdout",
     "output_type": "stream",
     "text": [
      "Train:\t[4][1/1] \tloss 0.025 (0.047)\t 40.87s/its\t\n"
     ]
    },
    {
     "name": "stderr",
     "output_type": "stream",
     "text": [
      "  0%|          | 0/469 [00:00<?, ?it/s]"
     ]
    },
    {
     "name": "stdout",
     "output_type": "stream",
     "text": [
      "Test:\t[4][1/1] \tloss 0.002 (0.052)\t 1.74s/its\t\n"
     ]
    },
    {
     "name": "stderr",
     "output_type": "stream",
     "text": [
      "100%|██████████| 469/469 [00:40<00:00, 11.66it/s]\n"
     ]
    },
    {
     "name": "stdout",
     "output_type": "stream",
     "text": [
      "Train:\t[5][1/1] \tloss 0.015 (0.038)\t 40.22s/its\t\n"
     ]
    },
    {
     "name": "stderr",
     "output_type": "stream",
     "text": [
      "  0%|          | 0/469 [00:00<?, ?it/s]"
     ]
    },
    {
     "name": "stdout",
     "output_type": "stream",
     "text": [
      "Test:\t[5][1/1] \tloss 0.001 (0.047)\t 1.75s/its\t\n"
     ]
    },
    {
     "name": "stderr",
     "output_type": "stream",
     "text": [
      "100%|██████████| 469/469 [00:40<00:00, 11.56it/s]\n"
     ]
    },
    {
     "name": "stdout",
     "output_type": "stream",
     "text": [
      "Train:\t[6][1/1] \tloss 0.023 (0.032)\t 40.58s/its\t\n"
     ]
    },
    {
     "name": "stderr",
     "output_type": "stream",
     "text": [
      "  0%|          | 0/469 [00:00<?, ?it/s]"
     ]
    },
    {
     "name": "stdout",
     "output_type": "stream",
     "text": [
      "Test:\t[6][1/1] \tloss 0.001 (0.042)\t 1.78s/its\t\n"
     ]
    },
    {
     "name": "stderr",
     "output_type": "stream",
     "text": [
      "100%|██████████| 469/469 [00:40<00:00, 11.46it/s]\n"
     ]
    },
    {
     "name": "stdout",
     "output_type": "stream",
     "text": [
      "Train:\t[7][1/1] \tloss 0.049 (0.028)\t 40.93s/its\t\n"
     ]
    },
    {
     "name": "stderr",
     "output_type": "stream",
     "text": [
      "  0%|          | 0/469 [00:00<?, ?it/s]"
     ]
    },
    {
     "name": "stdout",
     "output_type": "stream",
     "text": [
      "Test:\t[7][1/1] \tloss 0.000 (0.040)\t 1.61s/its\t\n"
     ]
    },
    {
     "name": "stderr",
     "output_type": "stream",
     "text": [
      "100%|██████████| 469/469 [00:37<00:00, 12.35it/s]\n"
     ]
    },
    {
     "name": "stdout",
     "output_type": "stream",
     "text": [
      "Train:\t[8][1/1] \tloss 0.017 (0.024)\t 37.98s/its\t\n"
     ]
    },
    {
     "name": "stderr",
     "output_type": "stream",
     "text": [
      "  0%|          | 0/469 [00:00<?, ?it/s]"
     ]
    },
    {
     "name": "stdout",
     "output_type": "stream",
     "text": [
      "Test:\t[8][1/1] \tloss 0.000 (0.039)\t 1.41s/its\t\n"
     ]
    },
    {
     "name": "stderr",
     "output_type": "stream",
     "text": [
      "100%|██████████| 469/469 [00:37<00:00, 12.50it/s]\n"
     ]
    },
    {
     "name": "stdout",
     "output_type": "stream",
     "text": [
      "Train:\t[9][1/1] \tloss 0.006 (0.022)\t 37.52s/its\t\n"
     ]
    },
    {
     "name": "stderr",
     "output_type": "stream",
     "text": [
      "  0%|          | 0/469 [00:00<?, ?it/s]"
     ]
    },
    {
     "name": "stdout",
     "output_type": "stream",
     "text": [
      "Test:\t[9][1/1] \tloss 0.000 (0.043)\t 1.53s/its\t\n"
     ]
    },
    {
     "name": "stderr",
     "output_type": "stream",
     "text": [
      "100%|██████████| 469/469 [00:38<00:00, 12.25it/s]\n"
     ]
    },
    {
     "name": "stdout",
     "output_type": "stream",
     "text": [
      "Train:\t[10][1/1] \tloss 0.056 (0.018)\t 38.29s/its\t\n",
      "Test:\t[10][1/1] \tloss 0.000 (0.042)\t 1.67s/its\t\n"
     ]
    },
    {
     "name": "stderr",
     "output_type": "stream",
     "text": [
      "error from callback <function Visdom.setup_socket.<locals>.on_error at 0x112296b70>: 'WebSocketConnectionClosedException' object has no attribute 'errno'\n",
      "error from callback <function Visdom.setup_socket.<locals>.on_error at 0x11005f730>: 'WebSocketConnectionClosedException' object has no attribute 'errno'\n",
      "error from callback <function Visdom.setup_socket.<locals>.on_error at 0x110064f28>: 'WebSocketConnectionClosedException' object has no attribute 'errno'\n",
      "error from callback <function Visdom.setup_socket.<locals>.on_error at 0x110064378>: 'WebSocketConnectionClosedException' object has no attribute 'errno'\n",
      "error from callback <function Visdom.setup_socket.<locals>.on_error at 0x11229c730>: 'WebSocketConnectionClosedException' object has no attribute 'errno'\n"
     ]
    }
   ],
   "source": [
    "if __name__ == '__main__':\n",
    "    main()"
   ]
  },
  {
   "cell_type": "code",
   "execution_count": null,
   "metadata": {},
   "outputs": [],
   "source": []
  }
 ],
 "metadata": {
  "kernelspec": {
   "display_name": "Python 3",
   "language": "python",
   "name": "python3"
  },
  "language_info": {
   "codemirror_mode": {
    "name": "ipython",
    "version": 3
   },
   "file_extension": ".py",
   "mimetype": "text/x-python",
   "name": "python",
   "nbconvert_exporter": "python",
   "pygments_lexer": "ipython3",
   "version": "3.6.5"
  }
 },
 "nbformat": 4,
 "nbformat_minor": 2
}
