{
  "nbformat": 4,
  "nbformat_minor": 0,
  "metadata": {
    "colab": {
      "name": "seq2seq-translation-wcz1.ipynb",
      "version": "0.3.2",
      "views": {},
      "default_view": {},
      "provenance": [
        {
          "file_id": "12dCzHNaE_-_qJAeAnC3DDG6s3UmET7uF",
          "timestamp": 1524841868377
        }
      ],
      "collapsed_sections": [
        "96tGic0YqCMx"
      ]
    },
    "kernelspec": {
      "display_name": "Python [default]",
      "language": "python",
      "name": "python3"
    },
    "accelerator": "GPU"
  },
  "cells": [
    {
      "metadata": {
        "id": "vS_5FVn8qCML",
        "colab_type": "text"
      },
      "cell_type": "markdown",
      "source": [
        "![](https://i.imgur.com/eBRPvWB.png)\n",
        "\n",
        "# Tłumaczenie typu Sequence 2 Sequence \n",
        "\n",
        "\n",
        "W tym projekcie nauczymy sieci neuronowej, aby przetłumaczyć z angielskiego na polski, przykłady jednak poniższe pokazują zasadę działania na przykładzie tłumaczenia z francuskiego na angielski.\n",
        "\n",
        "```\n",
        "[KEY: > input, = target, < output]\n",
        "\n",
        "> il est en train de peindre un tableau .\n",
        "= he is painting a picture .\n",
        "< he is painting a picture .\n",
        "\n",
        "> pourquoi ne pas essayer ce vin delicieux ?\n",
        "= why not try that delicious wine ?\n",
        "< why not try that delicious wine ?\n",
        "\n",
        "> elle n est pas poete mais romanciere .\n",
        "= she is not a poet but a novelist .\n",
        "< she not not a poet but a novelist .\n",
        "\n",
        "> vous etes trop maigre .\n",
        "= you re too skinny .\n",
        "< you re all alone .\n",
        "```\n",
        "\n",
        "\n",
        "... w różnym stopniu sukcesu.\n",
        "\n",
        "Jest to możliwe dzięki prostej, ale mocnej idei [sekwencji do sekwencji sieci](http://arxiv.org/abs/1409.3215), w której dwie powtarzające się sieci neuronowe współpracują ze sobą, aby przekształcić jedną sekwencję w drugą. Sieć koderów skrapla sekwencję wejściową do pojedynczego wektora, a sieć dekodera rozwija ten wektor w nową sekwencję.\n",
        "\n",
        "Aby ulepszyć ten model, użyjemy [mechanizmu uwagi](https://arxiv.org/abs/1409.0473), który pozwoli dekodowi nauczyć się skupiać na określonym zakresie sekwencji wejściowych."
      ]
    },
    {
      "metadata": {
        "id": "9bOVTQfpqCMM",
        "colab_type": "text"
      },
      "cell_type": "markdown",
      "source": [
        "# Model Sequence 2 Sequence\n",
        "\n",
        "\n",
        "Sieć [Sequence to Sequence](http://arxiv.org/abs/1409.3215) lub seq2seq network lub [Encoder Decoder network](https://arxiv.org/pdf/1406.1078v3.pdf), jest to model składający się z dwóch oddzielnych RNN zwanych **enkoderem** i **dekoderem**. Enkoder odczytuje sekwencję wejściową po jednym elemencie i wyprowadza wektor na każdym kroku. Końcowy wynik enkodera jest utrzymywany jako **kontekst**. Dekoder wykorzystuje ten wektor kontekstowy, aby wytworzyć sekwencję wyjść jeden krok na raz.\n",
        "\n",
        "![](https://i.imgur.com/tVtHhNp.png)\n",
        "\n",
        "Podczas korzystania z pojedynczego RNN istnieje relacja jeden do jednego pomiędzy wejściami i wyjściami. Szybko napotkaliśmy problemy z różnymi kolejnościami i długościami, które są częste podczas tłumaczenia. Rozważ proste zdanie \"Je ne suis pas le chat noir\" & rarr; \"I am not the black cat\" (\"Nie jestem czarnym kotem\"). Wiele słów ma całkiem bezpośrednie tłumaczenie, na przykład \"chat\" i rarr; \"cat\". Jednak różne gramatyki powodują, że słowa występują w różnych rzędach, np. \"chat noir\" i \"black cat\". Istnieje również \"ne ... pas\" i rarr; \"not\" konstrukcja, która sprawia, że dwa zdania mają różne długości.\n",
        "\n",
        "W modelu seq2seq, kodując wiele wejść do jednego wektora i dekodując z jednego wektora na wiele wyjść, jesteśmy uwolnieni od ograniczeń kolejności i długości sekwencji. Zakodowana sekwencja jest reprezentowana przez pojedynczy wektor, pojedynczy punkt w N-wymiarowej przestrzeni sekwencji. W idealnym przypadku punkt ten można uznać za \"znaczenie\" sekwencji.\n",
        "\n",
        "Ten pomysł może zostać przedłużony poza sekwencje. Zadania tworzenia napisów pobierają [obraz jako dane wejściowe i wypisują opis](https://arxiv.org/abs/1411.4555) obrazu (img2seq). Niektóre zadania generowania obrazów pobierają [opis jako dane wyjściowe i wygenerowany obraz](https://arxiv.org/abs/1511.02793) (seq2img). Modele te można ogólnie określić jako sieci \"enkodera dekodera\"."
      ]
    },
    {
      "metadata": {
        "id": "mT3Nrd1FqCMN",
        "colab_type": "text"
      },
      "cell_type": "markdown",
      "source": [
        "## Mechanizm Atencji\n",
        "\n",
        "Wektor o stałej długości niesie ze sobą obciążenie kodowaniem całego \"znaczenia\" sekwencji wejściowej, bez względu na to, jak długo to trwa. Przy całej wariancji językowej jest to bardzo trudny problem. Wyobraź sobie dwa prawie identyczne zdania, dwadzieścia słów, z jednym tylko słowem innym. Zarówno enkodery, jak i dekodery muszą być wystarczająco zniuansowane, aby reprezentować tę zmianę jako bardzo nieznacznie inny punkt w przestrzeni.\n",
        "\n",
        "Mechanizm **attention** [wprowadzony przez Bahdanau i innych](https://arxiv.org/abs/1409.0473) rozwiązuje ten problem, dając dekoderowi możliwość \"zwrócenia uwagi\" na części danych wejściowych, zamiast polegania na nich. na jednym wektorze. Dla każdego kroku dekoder może wybrać inną część zdania wejściowego do rozważenia.\n",
        "\n",
        "![](https://i.imgur.com/5y6SCvU.png)\n",
        "\n",
        "Atencja jest obliczana za pomocą kolejnej warstwy feedforward w dekoderze. Ta warstwa użyje bieżącego wejścia i stanu ukrytego, aby utworzyć nowy wektor, który ma taki sam rozmiar jak sekwencja wejściowa (w praktyce stała maksymalna długość). Wektor ten jest przetwarzany przez softmax, aby utworzyć *attention weights*, które są mnożone przez wyjścia enkoderów w celu utworzenia nowego wektora kontekstowego, który jest następnie wykorzystywany do przewidywania następnego wyniku.\n",
        "\n",
        "![](https://i.imgur.com/K1qMPxs.png)\n",
        "\n"
      ]
    },
    {
      "metadata": {
        "id": "8X6nZMpaqCMO",
        "colab_type": "text"
      },
      "cell_type": "markdown",
      "source": [
        "# Wymagania\n",
        "\n",
        "Będziesz potrzebował [PyTorch](http://pytorch.org/), aby zbudować i wyszkolić modele, i [matplotlib](https://matplotlib.org/), aby wykreślić trenowanie i zwizualizować później wyniki atencji."
      ]
    },
    {
      "metadata": {
        "id": "jz4KITqPqCMO",
        "colab_type": "code",
        "colab": {
          "autoexec": {
            "startup": false,
            "wait_interval": 0
          }
        }
      },
      "cell_type": "code",
      "source": [
        "import unicodedata\n",
        "import string\n",
        "import re\n",
        "import random\n",
        "import time\n",
        "import math\n",
        "\n",
        "import torch\n",
        "import torch.nn as nn\n",
        "from torch.autograd import Variable\n",
        "from torch import optim\n",
        "import torch.nn.functional as F"
      ],
      "execution_count": 0,
      "outputs": []
    },
    {
      "metadata": {
        "id": "EPlcFi60qCMR",
        "colab_type": "text"
      },
      "cell_type": "markdown",
      "source": [
        "Tutaj również zdefiniujemy stałą, aby zdecydować, czy użyć GPU (w szczególności z CUDA), czy procesora. **Jeśli nie masz GPU, ustaw dla niego wartość `False`**. Później, kiedy stworzymy tensory, zmienna ta będzie używana do decydowania o tym, czy zachowamy je na procesorze, czy przeniesiemy na GPU."
      ]
    },
    {
      "metadata": {
        "id": "T6F5eHVVqCMS",
        "colab_type": "code",
        "colab": {
          "autoexec": {
            "startup": false,
            "wait_interval": 0
          }
        }
      },
      "cell_type": "code",
      "source": [
        "USE_CUDA = True"
      ],
      "execution_count": 0,
      "outputs": []
    },
    {
      "metadata": {
        "id": "U79w4F8rqCMV",
        "colab_type": "text"
      },
      "cell_type": "markdown",
      "source": [
        "# Ładowanie plików danych\n",
        "\n",
        "Dane do tego projektu to zbiór wielu tysięcy par tłumaczeń z angielskiego na francuski.\n",
        "\n",
        "[To pytanie na temat Open Data Stack Exchange](http://opendata.stackexchange.com/questions/3888/dataset-of-sentences-translated-into-many-languages) skierowało mnie na stronę otwartego tłumaczenia http://tatoeba.org/ który ma pliki do pobrania dostępne na stronie http://tatoeba.org/eng/downloads - a jeszcze lepiej, ktoś wykonał dodatkową pracę polegającą na podzieleniu par językowych na poszczególne pliki tekstowe tutaj: http://www.manythings.org/anki/\n",
        "\n",
        "Angielsko-francuskie pary są zbyt duże, by je uwzględnić w repozytorium, więc pobierz plik `fra-eng.zip`, wypakuj plik tekstowy i zmień jego nazwę na`data/eng-fra.txt` przed kontynuowaniem (z jakiegoś powodu plik zip nazywa się wstecz). Plik jest oddzielonymi tabulatorami parami tłumaczeń:\n",
        "\n",
        "```\n",
        "I am cold.    Je suis froid.\n",
        "```"
      ]
    },
    {
      "metadata": {
        "id": "DNvMX4y4qCMV",
        "colab_type": "text"
      },
      "cell_type": "markdown",
      "source": [
        "Podobnie jak w przypadku kodowania używanego w RNN na poziomie znaków, będziemy reprezentować każde słowo w języku jako wektor lub gigantyczny wektor zer, z wyjątkiem pojedynczego (w indeksie słowa). W porównaniu z dziesiątkami znaków, które mogą istnieć w języku, istnieje wiele wiele słów, więc wektor kodowania jest znacznie większy. Będziemy jednak trochę oszukiwać i trymować dane, aby używać tylko kilku tysięcy słów na język."
      ]
    },
    {
      "metadata": {
        "id": "3xvk0r6yqCMW",
        "colab_type": "text"
      },
      "cell_type": "markdown",
      "source": [
        "### Indeksowanie słów\n",
        "\n",
        "Będziemy potrzebować unikalnego indeksu dla każdego słowa słowa, który później posłuży jako dane wejściowe i wyjściowe. Aby śledzić to wszystko, użyjemy klasy pomocniczej o nazwie `Lang`, która ma słowniki słowo &rarr; indeks (`word2index`) i indeks &rarr; słowo (`index2word`), a także licznik każdego słowa `word2count`, którego można użyć do późniejszego zastąpienia rzadkich słów."
      ]
    },
    {
      "metadata": {
        "id": "0QkYF1u_qCMW",
        "colab_type": "code",
        "colab": {
          "autoexec": {
            "startup": false,
            "wait_interval": 0
          }
        }
      },
      "cell_type": "code",
      "source": [
        "SOS_token = 0\n",
        "EOS_token = 1\n",
        "\n",
        "class Lang:\n",
        "    def __init__(self, name):\n",
        "        self.name = name\n",
        "        self.word2index = {}\n",
        "        self.word2count = {}\n",
        "        self.index2word = {0: \"SOS\", 1: \"EOS\"}\n",
        "        self.n_words = 2 # Count SOS and EOS\n",
        "      \n",
        "    def index_words(self, sentence):\n",
        "        for word in sentence.split(' '):\n",
        "            self.index_word(word)\n",
        "\n",
        "    def index_word(self, word):\n",
        "        if word not in self.word2index:\n",
        "            self.word2index[word] = self.n_words\n",
        "            self.word2count[word] = 1\n",
        "            self.index2word[self.n_words] = word\n",
        "            self.n_words += 1\n",
        "        else:\n",
        "            self.word2count[word] += 1"
      ],
      "execution_count": 0,
      "outputs": []
    },
    {
      "metadata": {
        "id": "Mqy_96mhqCMZ",
        "colab_type": "text"
      },
      "cell_type": "markdown",
      "source": [
        "### Czytanie i dekodowanie plików\n",
        "\n",
        "Wszystkie pliki są w Unicode, aby uprościć, zamienimy znaki Unicode na ASCII, zrobimy wszystko małymi literami i wycinamy większość znaków interpunkcyjnych."
      ]
    },
    {
      "metadata": {
        "id": "Dk2VVbj8qCMa",
        "colab_type": "code",
        "colab": {
          "autoexec": {
            "startup": false,
            "wait_interval": 0
          },
          "base_uri": "https://localhost:8080/",
          "height": 34
        },
        "outputId": "0b5d395e-f81a-43ca-ae24-e51d7de1e806",
        "executionInfo": {
          "status": "ok",
          "timestamp": 1525863915851,
          "user_tz": -120,
          "elapsed": 547,
          "user": {
            "displayName": "Kamsiulek Malutki",
            "photoUrl": "https://lh3.googleusercontent.com/a/default-user=s128",
            "userId": "118138569128465864586"
          }
        }
      },
      "cell_type": "code",
      "source": [
        "# Turn a Unicode string to plain ASCII, thanks to http://stackoverflow.com/a/518232/2809427\n",
        "# def unicode_to_ascii(s):\n",
        "#     return ''.join(\n",
        "#         c for c in unicodedata.normalize('NFD', s)\n",
        "#         if unicodedata.category(c) != 'Mn'\n",
        "#     )\n",
        "\n",
        "# don't kill Polish diacritics\n",
        "  \n",
        "# Lowercase, trim, and remove non-letter characters\n",
        "def normalize_string(s):\n",
        "#     s = unicode_to_ascii(s.lower().strip())\n",
        "    s = s.lower().strip()\n",
        "    s = re.sub(r\"([.!?])\", r\" \\1\", s)\n",
        "#     s = re.sub(r\"[^a-zA-Z.!?]+\", r\" \", s)\n",
        "    return s\n",
        "  \n",
        "normalize_string('ala ma kota ąćęłńóśźż ĄĆĘŁŃÓŚŹŻ')"
      ],
      "execution_count": 4,
      "outputs": [
        {
          "output_type": "execute_result",
          "data": {
            "text/plain": [
              "'ala ma kota ąćęłńóśźż ąćęłńóśźż'"
            ]
          },
          "metadata": {
            "tags": []
          },
          "execution_count": 4
        }
      ]
    },
    {
      "metadata": {
        "id": "Qld_D7cyqCMd",
        "colab_type": "text"
      },
      "cell_type": "markdown",
      "source": [
        "Aby odczytać plik danych, podzielimy go na linie, a następnie podzielimy linie na pary. Wszystkie pliki są angielskie  &rarr; Inny język, więc jeśli chcemy przetłumaczyć z Innego języka &rarr; Angielski dodana została flaga `reverse`, aby odwrócić pary."
      ]
    },
    {
      "metadata": {
        "id": "hlRjHG3fqCMd",
        "colab_type": "code",
        "colab": {
          "autoexec": {
            "startup": false,
            "wait_interval": 0
          }
        }
      },
      "cell_type": "code",
      "source": [
        "def read_langs(lang1, lang2, reverse=False):\n",
        "    print(\"Reading lines...\")\n",
        "\n",
        "    # Read the file and split into lines\n",
        "    lines = open('data/seq2seq/%s-%s.txt' % (lang1, lang2)).read().strip().split('\\n')\n",
        "    \n",
        "    # Split every line into pairs and normalize\n",
        "    pairs = [[normalize_string(s) for s in l.split('\\t')] for l in lines]\n",
        "    \n",
        "    # Reverse pairs, make Lang instances\n",
        "    if reverse:\n",
        "        pairs = [list(reversed(p)) for p in pairs]\n",
        "        input_lang = Lang(lang2)\n",
        "        output_lang = Lang(lang1)\n",
        "    else:\n",
        "        input_lang = Lang(lang1)\n",
        "        output_lang = Lang(lang2)\n",
        "        \n",
        "    return input_lang, output_lang, pairs\n",
        "  \n",
        "  \n",
        "# input_lang, output_lang, pairs = read_langs('eng', 'pol', reverse=False)\n",
        "# pairs[0]"
      ],
      "execution_count": 0,
      "outputs": []
    },
    {
      "metadata": {
        "id": "A0SgBukVqCMg",
        "colab_type": "text"
      },
      "cell_type": "markdown",
      "source": [
        "### Filtrowanie zdań\n",
        "\n",
        "Ponieważ istnieje *dużo* przykładowych zdań i chcemy szybko coś wytrenować, zmienimy zestaw danych tylko na względnie krótkie i proste zdania. Tutaj maksymalna długość to 10 słów (w tym interpunkcja), a my filtrujemy zdania, które tłumaczą się na formę \"Jestem\" (I am) lub \"Jest\" (He is) itd. (Z uwzględnieniem usuwania apostrofów)."
      ]
    },
    {
      "metadata": {
        "id": "AqvPyu02qCMg",
        "colab_type": "code",
        "colab": {
          "autoexec": {
            "startup": false,
            "wait_interval": 0
          }
        }
      },
      "cell_type": "code",
      "source": [
        "MAX_LENGTH = 10\n",
        "\n",
        "good_prefixes = (\n",
        "    \"i am \", \"i m \",\n",
        "    \"he is\", \"he s \",\n",
        "    \"she is\", \"she s\",\n",
        "    \"you are\", \"you re \"\n",
        ")\n",
        "\n",
        "def filter_pair(p):\n",
        "    return len(p[0].split(' ')) < MAX_LENGTH and len(p[1].split(' ')) < MAX_LENGTH and \\\n",
        "        (p[1].startswith(good_prefixes) or p[0].startswith(good_prefixes))\n",
        "\n",
        "def filter_pairs(pairs):\n",
        "    return [pair for pair in pairs if filter_pair(pair)]\n",
        "  \n",
        "  \n",
        "# print(pairs[0])\n",
        "\n",
        "# print(filter_pairs(pairs))\n",
        "# print(filter_pair(pairs[0]))"
      ],
      "execution_count": 0,
      "outputs": []
    },
    {
      "metadata": {
        "id": "ECVbDDL8qCMj",
        "colab_type": "text"
      },
      "cell_type": "markdown",
      "source": [
        "Pełny proces przygotowywania danych to:\n",
        "\n",
        "* Czytaj plik tekstowy i podziel na linie, podziel linie na pary\n",
        "* Normalizuj tekst, filtruj według długości i zawartości\n",
        "* Twórz listy słów ze zdań w parach"
      ]
    },
    {
      "metadata": {
        "id": "EyTegneDqCMk",
        "colab_type": "code",
        "colab": {
          "autoexec": {
            "startup": false,
            "wait_interval": 0
          },
          "base_uri": "https://localhost:8080/",
          "height": 136
        },
        "outputId": "f6ce3f78-b5a8-4a19-8d11-69f30b1f7b3a",
        "executionInfo": {
          "status": "ok",
          "timestamp": 1525863918019,
          "user_tz": -120,
          "elapsed": 984,
          "user": {
            "displayName": "Kamsiulek Malutki",
            "photoUrl": "https://lh3.googleusercontent.com/a/default-user=s128",
            "userId": "118138569128465864586"
          }
        }
      },
      "cell_type": "code",
      "source": [
        "def prepare_data(lang1_name, lang2_name, reverse=False):\n",
        "    input_lang, output_lang, pairs = read_langs(lang1_name, lang2_name, reverse)\n",
        "    print(pairs[0])\n",
        "    print(\"Read %s sentence pairs\" % len(pairs))\n",
        "    # %debug \n",
        "    pairs = filter_pairs(pairs)\n",
        "    print(\"Trimmed to %s sentence pairs\" % len(pairs))\n",
        "    print(pairs[0])\n",
        "    \n",
        "    print(\"Indexing words...\")\n",
        "    for pair in pairs:\n",
        "        input_lang.index_words(pair[0])\n",
        "        output_lang.index_words(pair[1])\n",
        "\n",
        "    return input_lang, output_lang, pairs\n",
        "\n",
        "input_lang, output_lang, pairs = prepare_data('eng', 'pol', reverse=False)\n",
        "\n",
        "# Print an example pair\n",
        "print(random.choice(pairs))"
      ],
      "execution_count": 7,
      "outputs": [
        {
          "output_type": "stream",
          "text": [
            "Reading lines...\n",
            "['hi .', 'cześć .']\n",
            "Read 36856 sentence pairs\n",
            "Trimmed to 615 sentence pairs\n",
            "['i am hot .', 'jest mi gorąco .']\n",
            "Indexing words...\n",
            "['i am just going for a walk .', 'wychodzę tylko na spacer .']\n"
          ],
          "name": "stdout"
        }
      ]
    },
    {
      "metadata": {
        "id": "EFvcomtzqCMp",
        "colab_type": "text"
      },
      "cell_type": "markdown",
      "source": [
        "## Włączanie danych treningowych do Tensorów / Zmiennych\n",
        "\n",
        "Aby trenować, musimy przekształcić zdania w coś, co sieć neuronowa może zrozumieć, co oczywiście oznacza liczby. Każde zdanie zostanie podzielone na słowa i przekształcone w Tensor, gdzie każde słowo zostanie zastąpione indeksem (z wcześniejszych indeksów Langa). Podczas tworzenia tych tensorów dodamy również token EOS, aby zasygnalizować, że zdanie jest skończone.\n",
        "\n",
        "![](https://i.imgur.com/LzocpGH.png)\n",
        "\n",
        "Tensor jest wielowymiarową tablicą liczb, określoną za pomocą pewnego typu, np. FloatTensor lub LongTensor. W tym przypadku użyjemy LongTensor do reprezentowania tablicy indeksów całkowitych.\n",
        "\n",
        "Szkolne moduły PyTorch przyjmują zmienne jako dane wejściowe, a nie zwykłe Tensory. Zmienna jest w zasadzie tensorem, który jest w stanie śledzić stan wykresu, co umożliwia automatyczne autogradzanie (automatyczne obliczanie gradientów wstecznych)."
      ]
    },
    {
      "metadata": {
        "id": "KRDETJ_UqCMp",
        "colab_type": "code",
        "colab": {
          "autoexec": {
            "startup": false,
            "wait_interval": 0
          }
        }
      },
      "cell_type": "code",
      "source": [
        "# Return a list of indexes, one for each word in the sentence\n",
        "def indexes_from_sentence(lang, sentence):\n",
        "    return [lang.word2index[word] for word in sentence.split(' ')]\n",
        "\n",
        "def variable_from_sentence(lang, sentence):\n",
        "    indexes = indexes_from_sentence(lang, sentence)\n",
        "    indexes.append(EOS_token)\n",
        "    var = Variable(torch.LongTensor(indexes).view(-1, 1))\n",
        "#     print('var =', var)\n",
        "    if USE_CUDA: var = var.cuda()\n",
        "    return var\n",
        "\n",
        "def variables_from_pair(pair):\n",
        "    input_variable = variable_from_sentence(input_lang, pair[0])\n",
        "    target_variable = variable_from_sentence(output_lang, pair[1])\n",
        "    return (input_variable, target_variable)"
      ],
      "execution_count": 0,
      "outputs": []
    },
    {
      "metadata": {
        "id": "HSmwPIyBqCMr",
        "colab_type": "text"
      },
      "cell_type": "markdown",
      "source": [
        "# Budowanie modeli"
      ]
    },
    {
      "metadata": {
        "id": "hcfQdKnzqCMs",
        "colab_type": "text"
      },
      "cell_type": "markdown",
      "source": [
        "## Enkoder\n",
        "\n",
        "<img src=\"https://github.com/spro/practical-pytorch/blob/master/seq2seq-translation/images/encoder-network.png?raw=true\" style=\"float: right\" />\n",
        "\n",
        "Enkoder sieci seq2seq to RNN, który wyprowadza pewną wartość dla każdego słowa ze zdania wejściowego. Dla każdego słowa wejściowego enkoder wyprowadza wektor i stan ukryty oraz wykorzystuje stan ukryty dla następnego słowa wejściowego.\n"
      ]
    },
    {
      "metadata": {
        "id": "8G-nHvrmqCMt",
        "colab_type": "code",
        "colab": {
          "autoexec": {
            "startup": false,
            "wait_interval": 0
          }
        }
      },
      "cell_type": "code",
      "source": [
        "class EncoderRNN(nn.Module):\n",
        "    def __init__(self, input_size, hidden_size, n_layers=1):\n",
        "        super(EncoderRNN, self).__init__()\n",
        "        \n",
        "        self.input_size = input_size\n",
        "        self.hidden_size = hidden_size\n",
        "        self.n_layers = n_layers\n",
        "        \n",
        "        self.embedding = nn.Embedding(input_size, hidden_size)\n",
        "        self.gru = nn.GRU(hidden_size, hidden_size, n_layers)\n",
        "        \n",
        "    def forward(self, word_inputs, hidden):\n",
        "        # Note: we run this all at once (over the whole input sequence)\n",
        "        seq_len = len(word_inputs)\n",
        "        embedded = self.embedding(word_inputs).view(seq_len, 1, -1)\n",
        "        output, hidden = self.gru(embedded, hidden)\n",
        "        return output, hidden\n",
        "\n",
        "    def init_hidden(self):\n",
        "        hidden = Variable(torch.zeros(self.n_layers, 1, self.hidden_size))\n",
        "        if USE_CUDA: hidden = hidden.cuda()\n",
        "        return hidden"
      ],
      "execution_count": 0,
      "outputs": []
    },
    {
      "metadata": {
        "id": "CNscuzMYqCMv",
        "colab_type": "text"
      },
      "cell_type": "markdown",
      "source": [
        "## Dekoder Atencji"
      ]
    },
    {
      "metadata": {
        "id": "96tGic0YqCMx",
        "colab_type": "text"
      },
      "cell_type": "markdown",
      "source": [
        "### Interpretacja modelu Bahdanau\n",
        "\n",
        "Model atencji w [Neurowe tłumaczenie maszynowe przez wspólne uczenie się wyrównywania i tłumaczenia](https://arxiv.org/abs/1409.0473) jest opisany jako następująca seria równań:\n",
        "\n",
        "Każde wyjście dekodera jest uwarunkowane poprzednimi wyjściami i pewnym $\\mathbf x$, gdzie $\\mathbf x $składa się z bieżącego stanu ukrytego (który bierze pod uwagę poprzednie wyjścia) i \"kontekstu\" uwagi, który jest obliczany poniżej. Funkcja $g$ jest w pełni połączoną warstwą z nieliniową aktywacją, która jako dane wejściowe przyjmuje połączone wartości $y_{i-1}$, $s_i$ i $c_i$.\n",
        "\n",
        "\n",
        "$$\n",
        "p(y_i \\mid \\{y_1,...,y_{i-1}\\},\\mathbf{x}) = g(y_{i-1}, s_i, c_i)\n",
        "$$\n",
        "\n",
        "Bieżący stan ukryty $s_i$ jest obliczany przez RNN $f$ z ostatnim ukrytym stanem $s_{i-1}$, ostatnią wartością wyjściową dekodera $y_{i-1}$  i wektorem kontekstowym $c_i$.\n",
        "W kodzie RNN będzie warstwą `nn.GRU`, ukryty stan $s_i$ będzie nazywany `hidden`, wyjście $y_i$ zwane `output` oraz kontekst $c_i$ zwany `context`.\n",
        "\n",
        "\n",
        "$$\n",
        "s_i = f(s_{i-1}, y_{i-1}, c_i)\n",
        "$$\n",
        "\n",
        "Wektor kontekstowy $c_i$ jest ważoną sumą wszystkich wyników enkodera, gdzie każda waga $a_{ij}$ jest ilością \"atencji\" przekazanej na odpowiednie wyjście enkodera $h_j$.\n",
        "\n",
        "\n",
        "$$\n",
        "c_i = \\sum_{j=1}^{T_x} a_{ij} h_j\n",
        "$$\n",
        "\n",
        "... gdzie każda waga $a_{ij}$ to znormalizowana (ponad wszystkie kroki) atencja \"energia\" $e_{ij}$ ...\n",
        "\n",
        "$$\n",
        "a_{ij} = \\dfrac{exp(e_{ij})}{\\sum_{k=1}^{T} exp(e_{ik})}\n",
        "$$\n",
        "\n",
        "... gdzie każda energia atencji jest obliczana za pomocą funkcji $a$ (takiej jak inna warstwa liniowa) przy użyciu ostatniego ukrytego stanu $s_{i-1}$ i tego konkretnego wyjścia enkodera $h_j$:\n",
        "\n",
        "$$\n",
        "e_{ij} = a(s_{i-1}, h_j)\n",
        "$$"
      ]
    },
    {
      "metadata": {
        "id": "n8cuQlLGqCMy",
        "colab_type": "text"
      },
      "cell_type": "markdown",
      "source": [
        "### Implementacja modelu Bahdanau\n",
        "\n",
        "Podsumowując, nasz dekoder powinien składać się z czterech głównych części - warstwy osadzającej, zamieniającej słowo wejściowe w wektor; warstwa do obliczenia energii uwagi na wyjście enkodera; warstwa RNN; i warstwę wyjściową.\n",
        "\n",
        "Wejścia dekodera są ostatnim ukrytym stanem RNN $s_{i-1}$, ostatnie wyjście $y_{i-1}$ oraz wszystkie wyjścia enkodera $h_*$.\n",
        "\n",
        "* warstwa osadzania z wejściami $y_{i-1}$\n",
        "    * `embedded = embedding(last_rnn_output)`\n",
        "* warstwa atencji $a$ z wejściami $(s_{i-1}, h_j)$ i wyjściami $e_{ij}$, znormalizowanymi w celu utworzenia $a_{ij}$\n",
        "    * `attn_energies[j] = attn_layer(last_hidden, encoder_outputs[j])`\n",
        "    * `attn_weights = normalize(attn_energies)`\n",
        "* wektor kontekstowy $c_i$ jako średnia ważona wyjść enkodera\n",
        "    * `context = sum(attn_weights * encoder_outputs)`\n",
        "* warstwa (warstwy) RNN $f$ z wejściami $(s_{i-1}, y_{i-1}, c_i)$ i wewnętrznym stanem ukrytym, wyprowadzanie $s_i$\n",
        "    * `rnn_input = concat(embedded, context)`\n",
        "    * `rnn_output, rnn_hidden = rnn(rnn_input, last_hidden)`\n",
        "* warstwa wyjściowa $g$ z wejściami $(y_{i-1}, s_i, c_i)$, wyprowadzanie $y_i$\n",
        "    * `output = out(embedded, rnn_output, context)`\n",
        "\n"
      ]
    },
    {
      "metadata": {
        "id": "DhhLcYsUqCMz",
        "colab_type": "code",
        "colab": {
          "autoexec": {
            "startup": false,
            "wait_interval": 0
          }
        }
      },
      "cell_type": "code",
      "source": [
        "class BahdanauAttnDecoderRNN(nn.Module):\n",
        "    def __init__(self, hidden_size, output_size, n_layers=1, dropout_p=0.1):\n",
        "        super(AttnDecoderRNN, self).__init__()\n",
        "        \n",
        "        # Define parameters\n",
        "        self.hidden_size = hidden_size\n",
        "        self.output_size = output_size\n",
        "        self.n_layers = n_layers\n",
        "        self.dropout_p = dropout_p\n",
        "        self.max_length = max_length\n",
        "        \n",
        "        # Define layers\n",
        "        self.embedding = nn.Embedding(output_size, hidden_size)\n",
        "        self.dropout = nn.Dropout(dropout_p)\n",
        "        self.attn = GeneralAttn(hidden_size)\n",
        "        self.gru = nn.GRU(hidden_size * 2, hidden_size, n_layers, dropout=dropout_p)\n",
        "        self.out = nn.Linear(hidden_size, output_size)\n",
        "    \n",
        "    def forward(self, word_input, last_hidden, encoder_outputs):\n",
        "        # Note that we will only be running forward for a single decoder time step, but will use all encoder outputs\n",
        "        \n",
        "        # Get the embedding of the current input word (last output word)\n",
        "        word_embedded = self.embedding(word_input).view(1, 1, -1) # S=1 x B x N\n",
        "        word_embedded = self.dropout(word_embedded)\n",
        "        \n",
        "        # Calculate attention weights and apply to encoder outputs\n",
        "        attn_weights = self.attn(last_hidden[-1], encoder_outputs)\n",
        "        context = attn_weights.bmm(encoder_outputs.transpose(0, 1)) # B x 1 x N\n",
        "        \n",
        "        # Combine embedded input word and attended context, run through RNN\n",
        "        rnn_input = torch.cat((word_embedded, context), 2)\n",
        "        output, hidden = self.gru(rnn_input, last_hidden)\n",
        "        \n",
        "        # Final output layer\n",
        "        output = output.squeeze(0) # B x N\n",
        "        output = F.log_softmax(self.out(torch.cat((output, context), 1)))\n",
        "        \n",
        "        # Return final output, hidden state, and attention weights (for visualization)\n",
        "        return output, hidden, attn_weights"
      ],
      "execution_count": 0,
      "outputs": []
    },
    {
      "metadata": {
        "id": "id3LheMVqCM1",
        "colab_type": "text"
      },
      "cell_type": "markdown",
      "source": [
        "### Interpretacja modelu Luong'a"
      ]
    },
    {
      "metadata": {
        "id": "NT4RZ060qCM1",
        "colab_type": "text"
      },
      "cell_type": "markdown",
      "source": [
        "\n",
        "\n",
        "[Skuteczne podejście do neuronowego tłumaczenia maszynowego z naciskiem na atencję](https://arxiv.org/abs/1508.04025) autorstwa Luonga i innych. opisuje kilka modeli atencji, które oferują ulepszenia i uproszczenia. Opisują kilka modeli \"globalnej atencji\", a rozróżnienie między nimi jest sposobem obliczania wyników atencji.\n",
        "\n",
        "Ogólna forma obliczania atencji opiera się na ukrytym stanie po stronie docelowej (dekodera) i odpowiednim stanie bocznym źródła (enkodera), znormalizowanym dla wszystkich stanów, aby uzyskać wartości zsumowane do 1:\n",
        "\n",
        "$$\n",
        "a_t(s) = align(h_t, \\bar h_s)  = \\dfrac{exp(score(h_t, \\bar h_s))}{\\sum_{s'} exp(score(h_t, \\bar h_{s'}))}\n",
        "$$\n",
        "\n",
        "Konkretną funkcją \"wyniku\" (score), która porównuje dwa stany, jest albo *dot* (kropka), prosty produkt punktowy między stanami; *general* (ogólnie), produkt kropki między ukrytym stanem dekodera a liniową transformacją stanu kodera; lub *concat*, produkt kropki między nowym parametrem $v_a$ a liniową transformacją stanów połączonych ze sobą.\n",
        "\n",
        "\n",
        "$$\n",
        "score(h_t, \\bar h_s) =\n",
        "\\begin{cases}\n",
        "h_t ^\\top \\bar h_s & dot \\\\\n",
        "h_t ^\\top \\textbf{W}_a \\bar h_s & general \\\\\n",
        "v_a ^\\top \\textbf{W}_a [ h_t ; \\bar h_s ] & concat\n",
        "\\end{cases}\n",
        "$$\n",
        "\n",
        "Modułowa definicja tych funkcji ewaluacji daje nam możliwość zbudowania specjalnego modułu atencji, który może przełączać się między różnymi metodami punktacji. Wejście do tego modułu jest zawsze stanem ukrytym (dekodera RNN) i zestawem wyjść enkodera.\n"
      ]
    },
    {
      "metadata": {
        "id": "sQRSwWwnqCM2",
        "colab_type": "code",
        "colab": {
          "autoexec": {
            "startup": false,
            "wait_interval": 0
          }
        }
      },
      "cell_type": "code",
      "source": [
        "class Attn(nn.Module):\n",
        "    def __init__(self, method, hidden_size, max_length=MAX_LENGTH):\n",
        "        super(Attn, self).__init__()\n",
        "        \n",
        "        self.method = method\n",
        "        self.hidden_size = hidden_size\n",
        "        \n",
        "        if self.method == 'general':\n",
        "            self.attn = nn.Linear(self.hidden_size, hidden_size)\n",
        "\n",
        "        elif self.method == 'concat':\n",
        "            self.attn = nn.Linear(self.hidden_size * 2, hidden_size)\n",
        "            self.other = nn.Parameter(torch.FloatTensor(1, hidden_size))\n",
        "\n",
        "    def forward(self, hidden, encoder_outputs):\n",
        "        seq_len = len(encoder_outputs)\n",
        "\n",
        "        # Create variable to store attention energies\n",
        "        attn_energies = Variable(torch.zeros(seq_len)) # B x 1 x S\n",
        "        if USE_CUDA: attn_energies = attn_energies.cuda()\n",
        "\n",
        "        # Calculate energies for each encoder output\n",
        "        for i in range(seq_len):\n",
        "            attn_energies[i] = self.score(hidden, encoder_outputs[i])\n",
        "\n",
        "        # Normalize energies to weights in range 0 to 1, resize to 1 x 1 x seq_len\n",
        "        # return F.softmax(attn_energies).unsqueeze(0).unsqueeze(0)\n",
        "        return F.softmax(attn_energies, dim=-1).unsqueeze(0).unsqueeze(0)\n",
        "    \n",
        "#     def score(self, hidden, encoder_output):\n",
        "        \n",
        "#         if self.method == 'dot':\n",
        "#             energy = hidden.dot(encoder_output)\n",
        "#             return energy\n",
        "        \n",
        "#         elif self.method == 'general':\n",
        "#             energy = self.attn(encoder_output)\n",
        "#             energy = hidden.dot(energy)\n",
        "#             return energy\n",
        "        \n",
        "#         elif self.method == 'concat':\n",
        "#             energy = self.attn(torch.cat((hidden, encoder_output), 1))\n",
        "#             energy = self.other.dot(energy)\n",
        "#             return energy\n",
        "          \n",
        "    def score(self, hidden, encoder_output):\n",
        "        if self.method == 'dot':\n",
        "            energy =torch.dot(hidden.view(-1), encoder_output.view(-1))\n",
        "        elif self.method == 'general':\n",
        "            energy = self.attn(encoder_output)\n",
        "            energy = torch.dot(hidden.view(-1), energy.view(-1))\n",
        "        elif self.method == 'concat':\n",
        "            energy = self.attn(torch.cat((hidden, encoder_output), 1))\n",
        "            energy = torch.dot(self.v.view(-1), energy.view(-1))\n",
        "        return energy"
      ],
      "execution_count": 0,
      "outputs": []
    },
    {
      "metadata": {
        "id": "RyXfJU0vqCM4",
        "colab_type": "text"
      },
      "cell_type": "markdown",
      "source": [
        "Teraz możemy zbudować dekoder, który podłącza ten moduł Attn za RNN, aby obliczyć wagi atencji, i zastosować te wagi do wyjść enkodera, aby uzyskać wektor kontekstu.\n"
      ]
    },
    {
      "metadata": {
        "id": "FSCzNr01qCM4",
        "colab_type": "code",
        "colab": {
          "autoexec": {
            "startup": false,
            "wait_interval": 0
          }
        }
      },
      "cell_type": "code",
      "source": [
        "class AttnDecoderRNN(nn.Module):\n",
        "    def __init__(self, attn_model, hidden_size, output_size, n_layers=1, dropout_p=0.1):\n",
        "        super(AttnDecoderRNN, self).__init__()\n",
        "        \n",
        "        # Keep parameters for reference\n",
        "        self.attn_model = attn_model\n",
        "        self.hidden_size = hidden_size\n",
        "        self.output_size = output_size\n",
        "        self.n_layers = n_layers\n",
        "        self.dropout_p = dropout_p\n",
        "        \n",
        "        # Define layers\n",
        "        self.embedding = nn.Embedding(output_size, hidden_size)\n",
        "        self.gru = nn.GRU(hidden_size * 2, hidden_size, n_layers, dropout=dropout_p)\n",
        "        self.out = nn.Linear(hidden_size * 2, output_size)\n",
        "        \n",
        "        # Choose attention model\n",
        "        if attn_model != 'none':\n",
        "            self.attn = Attn(attn_model, hidden_size)\n",
        "    \n",
        "    def forward(self, word_input, last_context, last_hidden, encoder_outputs):\n",
        "        # Note: we run this one step at a time\n",
        "        \n",
        "        # Get the embedding of the current input word (last output word)\n",
        "        word_embedded = self.embedding(word_input).view(1, 1, -1) # S=1 x B x N\n",
        "        \n",
        "        # Combine embedded input word and last context, run through RNN\n",
        "        rnn_input = torch.cat((word_embedded, last_context.unsqueeze(0)), 2)\n",
        "        rnn_output, hidden = self.gru(rnn_input, last_hidden)\n",
        "\n",
        "        # Calculate attention from current RNN state and all encoder outputs; apply to encoder outputs\n",
        "        attn_weights = self.attn(rnn_output.squeeze(0), encoder_outputs)\n",
        "        context = attn_weights.bmm(encoder_outputs.transpose(0, 1)) # B x 1 x N\n",
        "        \n",
        "        # Final output layer (next word prediction) using the RNN hidden state and context vector\n",
        "        rnn_output = rnn_output.squeeze(0) # S=1 x B x N -> B x N\n",
        "        context = context.squeeze(1)       # B x S=1 x N -> B x N\n",
        "        # output = F.log_softmax(self.out(torch.cat((rnn_output, context), 1)))\n",
        "        output = F.log_softmax(self.out(torch.cat((rnn_output, context), 1)), dim=-1)\n",
        "        \n",
        "        # Return final output, hidden state, and attention weights (for visualization)\n",
        "        return output, context, hidden, attn_weights"
      ],
      "execution_count": 0,
      "outputs": []
    },
    {
      "metadata": {
        "id": "Cb7GaKyxqCM9",
        "colab_type": "text"
      },
      "cell_type": "markdown",
      "source": [
        "### Testowanie modelu\n",
        "\n",
        "Aby upewnić się, że model kodera i dekodera działa (i współpracują ze sobą), wykonamy szybki test z fałszywymi słowami wejściowymi:\n"
      ]
    },
    {
      "metadata": {
        "id": "imx2Z0ybqCM-",
        "colab_type": "code",
        "colab": {
          "autoexec": {
            "startup": false,
            "wait_interval": 0
          },
          "base_uri": "https://localhost:8080/",
          "height": 272
        },
        "outputId": "2eef47bc-7de4-4d3c-ba4f-fb1d7d397db3",
        "executionInfo": {
          "status": "ok",
          "timestamp": 1525863925834,
          "user_tz": -120,
          "elapsed": 4814,
          "user": {
            "displayName": "Kamsiulek Malutki",
            "photoUrl": "https://lh3.googleusercontent.com/a/default-user=s128",
            "userId": "118138569128465864586"
          }
        }
      },
      "cell_type": "code",
      "source": [
        "encoder_test = EncoderRNN(10, 10, 2)\n",
        "decoder_test = AttnDecoderRNN('general', 10, 10, 2)\n",
        "print(encoder_test)\n",
        "print(decoder_test)\n",
        "\n",
        "encoder_hidden = encoder_test.init_hidden()\n",
        "word_input = Variable(torch.LongTensor([1, 2, 3]))\n",
        "if USE_CUDA:\n",
        "    encoder_test.cuda()\n",
        "    word_input = word_input.cuda()\n",
        "encoder_outputs, encoder_hidden = encoder_test(word_input, encoder_hidden)\n",
        "\n",
        "word_inputs = Variable(torch.LongTensor([1, 2, 3]))\n",
        "decoder_attns = torch.zeros(1, 3, 3)\n",
        "decoder_hidden = encoder_hidden\n",
        "decoder_context = Variable(torch.zeros(1, decoder_test.hidden_size))\n",
        "\n",
        "if USE_CUDA:\n",
        "    decoder_test.cuda()\n",
        "    word_inputs = word_inputs.cuda()\n",
        "    decoder_context = decoder_context.cuda()\n",
        "\n",
        "for i in range(3):\n",
        "    decoder_output, decoder_context, decoder_hidden, decoder_attn = decoder_test(word_inputs[i], decoder_context, decoder_hidden, encoder_outputs)\n",
        "    print(decoder_output.size(), decoder_hidden.size(), decoder_attn.size())\n",
        "    decoder_attns[0, i] = decoder_attn.squeeze(0).cpu().data"
      ],
      "execution_count": 13,
      "outputs": [
        {
          "output_type": "stream",
          "text": [
            "EncoderRNN(\n",
            "  (embedding): Embedding(10, 10)\n",
            "  (gru): GRU(10, 10, num_layers=2)\n",
            ")\n",
            "AttnDecoderRNN(\n",
            "  (embedding): Embedding(10, 10)\n",
            "  (gru): GRU(20, 10, num_layers=2, dropout=0.1)\n",
            "  (out): Linear(in_features=20, out_features=10, bias=True)\n",
            "  (attn): Attn(\n",
            "    (attn): Linear(in_features=10, out_features=10, bias=True)\n",
            "  )\n",
            ")\n",
            "torch.Size([1, 10]) torch.Size([2, 1, 10]) torch.Size([1, 1, 3])\n",
            "torch.Size([1, 10]) torch.Size([2, 1, 10]) torch.Size([1, 1, 3])\n",
            "torch.Size([1, 10]) torch.Size([2, 1, 10]) torch.Size([1, 1, 3])\n"
          ],
          "name": "stdout"
        }
      ]
    },
    {
      "metadata": {
        "id": "rDk8PVuoqCNB",
        "colab_type": "text"
      },
      "cell_type": "markdown",
      "source": [
        "# Trenowanie\n",
        "\n",
        "## Definiowanie iteracji treningu\n",
        "\n",
        "Aby ćwiczyć, najpierw uruchamiamy zdanie wejściowe za pomocą enkodera słowo po słowie i śledzimy każde wyjście i ostatni stan ukryty. Następnie dekoder otrzymuje ostatni ukryty stan dekodera jako swój pierwszy ukryty stan, a token \"<SOS>\" jako pierwsze wejście. Stąd przechodzimy do przepowiadania następnego tokena z dekodera.\n",
        "\n",
        "### \"Wymuszanie nauczycieli\" i planowe pobieranie próbek\n",
        "\n",
        "\"Wymuszanie nauczycieli\" lub pobieranie próbek o największej wiarygodności oznacza wykorzystanie rzeczywistych wyników docelowych jako każdego następnego wejścia podczas treningu. Alternatywą jest użycie własnego odgadnięcia przez dekoder jako następnego wejścia. Korzystanie z wymuszania nauczyciela może spowodować szybsze zbieganie się sieci, ale [kiedy wyszkolona sieć jest wykorzystywana, może wykazywać niestabilność](http://minds.jacobs-university.de/sites/default/files/uploads/papers/ESNTutorialRev.pdf).\n",
        "\n",
        "Możesz obserwować wyniki wymuszonych przez nauczyciela sieci, które czytają ze spójną gramatyką, ale oddalają się od prawidłowego tłumaczenia - możesz myśleć o tym, że nauczyłeś się słuchać instrukcji nauczyciela, nie ucząc się samodzielnego wyjścia.\n",
        "\n",
        "Rozwiązanie problemu \"wymuszania\" nauczyciela jest znane jako [Zaplanowane próbkowanie](https://arxiv.org/abs/1506.03099), które po prostu przełącza się między wartościami docelowymi i przewidywanymi wartościami podczas trenowania. My losowo wybieramy użycie wymuszania nauczyciela instrukcją if podczas treningu - czasami będziemy podawać rzeczywisty cel jako wejście (ignorując wyjście dekodera), czasami użyjemy wyjścia dekodera.\n"
      ]
    },
    {
      "metadata": {
        "id": "fxCxfVYmqCNB",
        "colab_type": "code",
        "colab": {
          "autoexec": {
            "startup": false,
            "wait_interval": 0
          }
        }
      },
      "cell_type": "code",
      "source": [
        "teacher_forcing_ratio = 0.5\n",
        "clip = 5.0\n",
        "\n",
        "def train(input_variable, target_variable, encoder, decoder, encoder_optimizer, decoder_optimizer, criterion, max_length=MAX_LENGTH):\n",
        "\n",
        "    # Zero gradients of both optimizers\n",
        "    encoder_optimizer.zero_grad()\n",
        "    decoder_optimizer.zero_grad()\n",
        "    loss = 0 # Added onto for each word\n",
        "\n",
        "    # Get size of input and target sentences\n",
        "    input_length = input_variable.size()[0]\n",
        "    target_length = target_variable.size()[0]\n",
        "\n",
        "    # Run words through encoder\n",
        "    encoder_hidden = encoder.init_hidden()\n",
        "    encoder_outputs, encoder_hidden = encoder(input_variable, encoder_hidden)\n",
        "    \n",
        "    # Prepare input and output variables\n",
        "    decoder_input = Variable(torch.LongTensor([[SOS_token]]))\n",
        "    decoder_context = Variable(torch.zeros(1, decoder.hidden_size))\n",
        "    decoder_hidden = encoder_hidden # Use last hidden state from encoder to start decoder\n",
        "    if USE_CUDA:\n",
        "        decoder_input = decoder_input.cuda()\n",
        "        decoder_context = decoder_context.cuda()\n",
        "\n",
        "    # Choose whether to use teacher forcing\n",
        "    use_teacher_forcing = random.random() < teacher_forcing_ratio\n",
        "    if use_teacher_forcing:\n",
        "        \n",
        "        # Teacher forcing: Use the ground-truth target as the next input\n",
        "        for di in range(target_length):\n",
        "            decoder_output, decoder_context, decoder_hidden, decoder_attention = decoder(decoder_input, decoder_context, decoder_hidden, encoder_outputs)\n",
        "            # loss += criterion(decoder_output[0], target_variable[di])\n",
        "            loss += criterion(decoder_output, target_variable[di])\n",
        "            decoder_input = target_variable[di] # Next target is next input\n",
        "\n",
        "    else:\n",
        "        # Without teacher forcing: use network's own prediction as the next input\n",
        "        for di in range(target_length):\n",
        "            decoder_output, decoder_context, decoder_hidden, decoder_attention = decoder(decoder_input, decoder_context, decoder_hidden, encoder_outputs)\n",
        "            # loss += criterion(decoder_output[0], target_variable[di])\n",
        "            loss += criterion(decoder_output, target_variable[di])\n",
        "            \n",
        "            # Get most likely word index (highest value) from output\n",
        "            topv, topi = decoder_output.data.topk(1)\n",
        "            ni = topi[0][0]\n",
        "            \n",
        "            decoder_input = Variable(torch.LongTensor([[ni]])) # Chosen word is next input\n",
        "            if USE_CUDA: decoder_input = decoder_input.cuda()\n",
        "\n",
        "            # Stop at end of sentence (not necessary when using known targets)\n",
        "            if ni == EOS_token: break\n",
        "\n",
        "    # Backpropagation\n",
        "    loss.backward()\n",
        "    # torch.nn.utils.clip_grad_norm(encoder.parameters(), clip)\n",
        "    # torch.nn.utils.clip_grad_norm(decoder.parameters(), clip)\n",
        "    torch.nn.utils.clip_grad_norm_(encoder.parameters(), clip)\n",
        "    torch.nn.utils.clip_grad_norm_(decoder.parameters(), clip)\n",
        "    \n",
        "    encoder_optimizer.step()\n",
        "    decoder_optimizer.step()\n",
        "    \n",
        "    # return loss.data[0] / target_length\n",
        "    return loss.item() / target_length"
      ],
      "execution_count": 0,
      "outputs": []
    },
    {
      "metadata": {
        "id": "CYvCc3uiqCNC",
        "colab_type": "text"
      },
      "cell_type": "markdown",
      "source": [
        "Wreszcie funkcje pomocnicze do wydrukowania czasu i szacowanego czasu pozostałego do końca, biorąc pod uwagę aktualny czas i postęp.\n"
      ]
    },
    {
      "metadata": {
        "id": "tyGU0fgOqCND",
        "colab_type": "code",
        "colab": {
          "autoexec": {
            "startup": false,
            "wait_interval": 0
          }
        }
      },
      "cell_type": "code",
      "source": [
        "def as_minutes(s):\n",
        "    m = math.floor(s / 60)\n",
        "    s -= m * 60\n",
        "    return '%dm %ds' % (m, s)\n",
        "\n",
        "def time_since(since, percent):\n",
        "    now = time.time()\n",
        "    s = now - since\n",
        "    es = s / (percent)\n",
        "    rs = es - s\n",
        "    return '%s (- %s)' % (as_minutes(s), as_minutes(rs))"
      ],
      "execution_count": 0,
      "outputs": []
    },
    {
      "metadata": {
        "id": "oLX0i-iYqCNE",
        "colab_type": "text"
      },
      "cell_type": "markdown",
      "source": [
        "## Uruchamianie treningu\n",
        "\n",
        "Gdy wszystko jest gotowe, możemy zainicjować sieć i rozpocząć trening.\n",
        "\n",
        "Na początek uruchamiamy modele, optymalizatory i funkcję utraty (kryterium)."
      ]
    },
    {
      "metadata": {
        "id": "j65NWOMeqCNF",
        "colab_type": "code",
        "colab": {
          "autoexec": {
            "startup": false,
            "wait_interval": 0
          }
        }
      },
      "cell_type": "code",
      "source": [
        "attn_model = 'general'\n",
        "hidden_size = 500\n",
        "n_layers = 2\n",
        "dropout_p = 0.05\n",
        "\n",
        "# Initialize models\n",
        "encoder = EncoderRNN(input_lang.n_words, hidden_size, n_layers)\n",
        "decoder = AttnDecoderRNN(attn_model, hidden_size, output_lang.n_words, n_layers, dropout_p=dropout_p)\n",
        "\n",
        "# Move models to GPU\n",
        "if USE_CUDA:\n",
        "    encoder.cuda()\n",
        "    decoder.cuda()\n",
        "\n",
        "# Initialize optimizers and criterion\n",
        "learning_rate = 0.0001\n",
        "encoder_optimizer = optim.Adam(encoder.parameters(), lr=learning_rate)\n",
        "decoder_optimizer = optim.Adam(decoder.parameters(), lr=learning_rate)\n",
        "criterion = nn.NLLLoss()"
      ],
      "execution_count": 0,
      "outputs": []
    },
    {
      "metadata": {
        "id": "922PwYdDqCNH",
        "colab_type": "text"
      },
      "cell_type": "markdown",
      "source": [
        "Następnie skonfiguruj zmienne do drukowania i śledzenia postępu:"
      ]
    },
    {
      "metadata": {
        "id": "u897P9fZqCNH",
        "colab_type": "code",
        "colab": {
          "autoexec": {
            "startup": false,
            "wait_interval": 0
          }
        }
      },
      "cell_type": "code",
      "source": [
        "# Configuring training\n",
        "n_epochs = 1000 # 50000\n",
        "plot_every = 200\n",
        "print_every = 500\n",
        "\n",
        "# Keep track of time elapsed and running averages\n",
        "start = time.time()\n",
        "plot_losses = []\n",
        "print_loss_total = 0 # Reset every print_every\n",
        "plot_loss_total = 0 # Reset every plot_every"
      ],
      "execution_count": 0,
      "outputs": []
    },
    {
      "metadata": {
        "id": "J2gBVV8RqCNJ",
        "colab_type": "text"
      },
      "cell_type": "markdown",
      "source": [
        "Żeby przeprowadziwy właściwy trening, wielokrotnie wywołujemy funkcję treningową.\n"
      ]
    },
    {
      "metadata": {
        "id": "gLkeSOzwqCNK",
        "colab_type": "code",
        "colab": {
          "autoexec": {
            "startup": false,
            "wait_interval": 0
          },
          "base_uri": "https://localhost:8080/",
          "height": 52
        },
        "outputId": "9786f3a0-2e04-4833-9c2e-8da9de5a3fbd",
        "executionInfo": {
          "status": "ok",
          "timestamp": 1525864016327,
          "user_tz": -120,
          "elapsed": 88114,
          "user": {
            "displayName": "Kamsiulek Malutki",
            "photoUrl": "https://lh3.googleusercontent.com/a/default-user=s128",
            "userId": "118138569128465864586"
          }
        }
      },
      "cell_type": "code",
      "source": [
        "# Begin!\n",
        "for epoch in range(1, n_epochs + 1):\n",
        "    \n",
        "    # Get training data for this cycle\n",
        "    training_pair = variables_from_pair(random.choice(pairs))\n",
        "    input_variable = training_pair[0]\n",
        "    target_variable = training_pair[1]\n",
        "\n",
        "    # Run the train function\n",
        "    loss = train(input_variable, target_variable, encoder, decoder, encoder_optimizer, decoder_optimizer, criterion)\n",
        "\n",
        "    # Keep track of loss\n",
        "    print_loss_total += loss\n",
        "    plot_loss_total += loss\n",
        "\n",
        "    if epoch == 0: continue\n",
        "\n",
        "    if epoch % print_every == 0:\n",
        "        print_loss_avg = print_loss_total / print_every\n",
        "        print_loss_total = 0\n",
        "        print_summary = '%s (%d %d%%) %.4f' % (time_since(start, epoch / n_epochs), epoch, epoch / n_epochs * 100, print_loss_avg)\n",
        "        print(print_summary)\n",
        "\n",
        "    if epoch % plot_every == 0:\n",
        "        plot_loss_avg = plot_loss_total / plot_every\n",
        "        plot_losses.append(plot_loss_avg)\n",
        "        plot_loss_total = 0"
      ],
      "execution_count": 18,
      "outputs": [
        {
          "output_type": "stream",
          "text": [
            "0m 43s (- 0m 43s) (500 50%) 3.9487\n",
            "1m 28s (- 0m 0s) (1000 100%) 3.5206\n"
          ],
          "name": "stdout"
        }
      ]
    },
    {
      "metadata": {
        "id": "9xGnaovgqCNM",
        "colab_type": "text"
      },
      "cell_type": "markdown",
      "source": [
        "## Wyrysowywanie strat treningowych\n",
        "\n",
        "Wykreślanie odbywa się za pomocą matplotlib, przy użyciu macierzy `plot_losses`, która została utworzona podczas treningu.\n"
      ]
    },
    {
      "metadata": {
        "id": "JNBSiYGVqCNN",
        "colab_type": "code",
        "colab": {
          "autoexec": {
            "startup": false,
            "wait_interval": 0
          },
          "base_uri": "https://localhost:8080/",
          "height": 365
        },
        "outputId": "fe176b53-c54b-40f4-ab4d-5423c59fac80",
        "executionInfo": {
          "status": "ok",
          "timestamp": 1525864016906,
          "user_tz": -120,
          "elapsed": 564,
          "user": {
            "displayName": "Kamsiulek Malutki",
            "photoUrl": "https://lh3.googleusercontent.com/a/default-user=s128",
            "userId": "118138569128465864586"
          }
        }
      },
      "cell_type": "code",
      "source": [
        "import matplotlib.pyplot as plt\n",
        "import matplotlib.ticker as ticker\n",
        "# import matplotlib.style\n",
        "import matplotlib as mpl\n",
        "import numpy as np\n",
        "# %matplotlib inline\n",
        "# mpl.style.use('default')\n",
        "mpl.style.use('seaborn')\n",
        "# mpl.style.use('classic')\n",
        "# mpl.style.use('bmh')\n",
        "# mpl.style.use('seaborn-ticks')\n",
        "# %config InlineBackend.figure_format = 'retina'\n",
        "\n",
        "def show_plot(points):\n",
        "    plt.figure()\n",
        "    fig, ax = plt.subplots()\n",
        "    loc = ticker.MultipleLocator(base=0.2) # put ticks at regular intervals\n",
        "    ax.yaxis.set_major_locator(loc)\n",
        "    plt.plot(points)\n",
        "\n",
        "show_plot(plot_losses)"
      ],
      "execution_count": 19,
      "outputs": [
        {
          "output_type": "display_data",
          "data": {
            "text/plain": [
              "<matplotlib.figure.Figure at 0x7f7c8485d400>"
            ]
          },
          "metadata": {
            "tags": []
          }
        },
        {
          "output_type": "display_data",
          "data": {
            "image/png": "[encoded data removed]",
            "text/plain": [
              "<matplotlib.figure.Figure at 0x7f7c8484d160>"
            ]
          },
          "metadata": {
            "tags": []
          }
        }
      ]
    },
    {
      "metadata": {
        "id": "OD_o_11jqCNP",
        "colab_type": "text"
      },
      "cell_type": "markdown",
      "source": [
        "# Ewaluacja sieci\n",
        "\n",
        "Ewaluacja jest w większości taka sama jak w przypadku treningu, ale nie ma żadnych wyników. Zamiast tego zawsze podajemy prognozy dekodera z powrotem do siebie. Za każdym razem, gdy przewiduje słowo, dodajemy je do ciągu wyjściowego. Jeśli przewiduje to token EOS, zatrzymujemy się tam. Przechowujemy także wyniki uwagi dekodera dla każdego kroku, aby wyświetlić później.\n"
      ]
    },
    {
      "metadata": {
        "id": "FnVX5h8xqCNP",
        "colab_type": "code",
        "colab": {
          "autoexec": {
            "startup": false,
            "wait_interval": 0
          }
        }
      },
      "cell_type": "code",
      "source": [
        "def evaluate(sentence, max_length=MAX_LENGTH):\n",
        "    input_variable = variable_from_sentence(input_lang, sentence)\n",
        "    input_length = input_variable.size()[0]\n",
        "    \n",
        "    # Run through encoder\n",
        "    encoder_hidden = encoder.init_hidden()\n",
        "    encoder_outputs, encoder_hidden = encoder(input_variable, encoder_hidden)\n",
        "\n",
        "    # Create starting vectors for decoder\n",
        "    decoder_input = Variable(torch.LongTensor([[SOS_token]])) # SOS\n",
        "    decoder_context = Variable(torch.zeros(1, decoder.hidden_size))\n",
        "    if USE_CUDA:\n",
        "        decoder_input = decoder_input.cuda()\n",
        "        decoder_context = decoder_context.cuda()\n",
        "\n",
        "    decoder_hidden = encoder_hidden\n",
        "    \n",
        "    decoded_words = []\n",
        "    decoder_attentions = torch.zeros(max_length, max_length)\n",
        "    \n",
        "    # Run through decoder\n",
        "    for di in range(max_length):\n",
        "        decoder_output, decoder_context, decoder_hidden, decoder_attention = decoder(decoder_input, decoder_context, decoder_hidden, encoder_outputs)\n",
        "        decoder_attentions[di,:decoder_attention.size(2)] += decoder_attention.squeeze(0).squeeze(0).cpu().data\n",
        "\n",
        "        # Choose top word from output\n",
        "        topv, topi = decoder_output.data.topk(1)\n",
        "        ni = topi[0][0]\n",
        "        if ni == EOS_token:\n",
        "            decoded_words.append('<EOS>')\n",
        "            break\n",
        "        else:\n",
        "            # decoded_words.append(output_lang.index2word[ni])\n",
        "            decoded_words.append(output_lang.index2word[ni.item()])\n",
        "            \n",
        "        # Next input is chosen word\n",
        "        decoder_input = Variable(torch.LongTensor([[ni]]))\n",
        "        if USE_CUDA: decoder_input = decoder_input.cuda()\n",
        "    \n",
        "    return decoded_words, decoder_attentions[:di+1, :len(encoder_outputs)]"
      ],
      "execution_count": 0,
      "outputs": []
    },
    {
      "metadata": {
        "id": "Opje0jKbqCNR",
        "colab_type": "text"
      },
      "cell_type": "markdown",
      "source": [
        "Możemy oceniać losowe zdania z zestawu treningowego i drukować dane wejściowe, docelowe i wyjściowe w celu dokonania subiektywnej oceny jakości:"
      ]
    },
    {
      "metadata": {
        "id": "bDbrEEx0qCNS",
        "colab_type": "code",
        "colab": {
          "autoexec": {
            "startup": false,
            "wait_interval": 0
          }
        }
      },
      "cell_type": "code",
      "source": [
        "def evaluate_randomly():\n",
        "    pair = random.choice(pairs)\n",
        "    \n",
        "    output_words, decoder_attn = evaluate(pair[0])\n",
        "    output_sentence = ' '.join(output_words)\n",
        "    \n",
        "    print('>', pair[0])\n",
        "    print('=', pair[1])\n",
        "    print('<', output_sentence)\n",
        "    print('')"
      ],
      "execution_count": 0,
      "outputs": []
    },
    {
      "metadata": {
        "id": "xIWGPfpFqCNU",
        "colab_type": "code",
        "colab": {
          "autoexec": {
            "startup": false,
            "wait_interval": 0
          },
          "base_uri": "https://localhost:8080/",
          "height": 86
        },
        "outputId": "7926520a-0f02-4344-9962-374355778351",
        "executionInfo": {
          "status": "ok",
          "timestamp": 1525864018674,
          "user_tz": -120,
          "elapsed": 565,
          "user": {
            "displayName": "Kamsiulek Malutki",
            "photoUrl": "https://lh3.googleusercontent.com/a/default-user=s128",
            "userId": "118138569128465864586"
          }
        }
      },
      "cell_type": "code",
      "source": [
        "evaluate_randomly()"
      ],
      "execution_count": 22,
      "outputs": [
        {
          "output_type": "stream",
          "text": [
            "> she spoke rapidly .\n",
            "= mówiła szybko .\n",
            "< ona się . <EOS>\n",
            "\n"
          ],
          "name": "stdout"
        }
      ]
    },
    {
      "metadata": {
        "id": "pB6DcPSCqCNX",
        "colab_type": "text"
      },
      "cell_type": "markdown",
      "source": [
        "# Wizualizacja atencji\n",
        "\n",
        "Użyteczną właściwością mechanizmu atencji są jego wysoce interpretowalne wyniki. Ponieważ jest on używany do ważenia określonych wyjść kodera sekwencji wejściowej, możemy sobie wyobrazić, gdzie najlepiej jest skupić się w sieci na każdym kroku.\n",
        "\n",
        "Możesz po prostu uruchomić `plt.matshow(attentions)`, aby zobaczyć wyniki atencji wyświetlane jako matryca, z kolumnami będącymi krokami wejściowymi i wierszami będącymi krokami wyjściowymi:"
      ]
    },
    {
      "metadata": {
        "id": "1bTVUPPi1Qko",
        "colab_type": "code",
        "colab": {
          "autoexec": {
            "startup": false,
            "wait_interval": 0
          },
          "base_uri": "https://localhost:8080/",
          "height": 190
        },
        "outputId": "a17a2ff1-d119-4bb5-fca0-5dba579be863",
        "executionInfo": {
          "status": "ok",
          "timestamp": 1525864019315,
          "user_tz": -120,
          "elapsed": 615,
          "user": {
            "displayName": "Kamsiulek Malutki",
            "photoUrl": "https://lh3.googleusercontent.com/a/default-user=s128",
            "userId": "118138569128465864586"
          }
        }
      },
      "cell_type": "code",
      "source": [
        "xxx=[print(random.choice(pairs)) for i in range(10)]"
      ],
      "execution_count": 23,
      "outputs": [
        {
          "output_type": "stream",
          "text": [
            "['he is very direct about it .', 'on jest co do tego bardzo bezpośredni .']\n",
            "['i am anxious about the future .', 'martwię się o przyszłość .']\n",
            "['you are supposed to come in person .', 'masz przyjść osobiście .']\n",
            "['he is hunted by the police .', 'on jest ścigany przez policję .']\n",
            "['he is the fastest runner in his class .', 'jest najszybszym biegaczem w swojej klasie .']\n",
            "['she stood up and walked to the window .', 'wstała i podeszła do okna .']\n",
            "['i am a member of the tennis club .', 'jestem członkiem klubu tenisowego .']\n",
            "['she is the one who feeds our dog .', 'to ona karmi naszego psa .']\n",
            "['i am a student at london university .', 'studiuję na uniwersytecie londyńskim .']\n",
            "['he is a man of great ability .', 'to człowiek bardzo utalentowany .']\n"
          ],
          "name": "stdout"
        }
      ]
    },
    {
      "metadata": {
        "id": "XT5hikFxqCNX",
        "colab_type": "code",
        "colab": {
          "autoexec": {
            "startup": false,
            "wait_interval": 0
          },
          "base_uri": "https://localhost:8080/",
          "height": 368
        },
        "outputId": "9403cb75-d31e-4ee5-dc5b-580c210f4ef0",
        "executionInfo": {
          "status": "ok",
          "timestamp": 1525864019908,
          "user_tz": -120,
          "elapsed": 547,
          "user": {
            "displayName": "Kamsiulek Malutki",
            "photoUrl": "https://lh3.googleusercontent.com/a/default-user=s128",
            "userId": "118138569128465864586"
          }
        }
      },
      "cell_type": "code",
      "source": [
        "# mpl.style.use('default')\n",
        "mpl.style.use('seaborn')\n",
        "# mpl.style.use('classic')\n",
        "# mpl.style.use('bmh')\n",
        "mpl.style.use('seaborn-ticks')\n",
        "# %config InlineBackend.figure_format = 'retina'\n",
        "\n",
        "output_words, attentions = evaluate(\"i am hot .\")\n",
        "fig=plt.matshow(attentions.numpy())"
      ],
      "execution_count": 24,
      "outputs": [
        {
          "output_type": "display_data",
          "data": {
            "image/png": "[encoded data removed]",
            "text/plain": [
              "<matplotlib.figure.Figure at 0x7f7c848566a0>"
            ]
          },
          "metadata": {
            "tags": []
          }
        }
      ]
    },
    {
      "metadata": {
        "id": "GKpinWbwqCNZ",
        "colab_type": "text"
      },
      "cell_type": "markdown",
      "source": [
        "Aby uzyskać lepsze wrażenia wizualne, wykonamy dodatkową pracę dodawania osi i etykiet:"
      ]
    },
    {
      "metadata": {
        "id": "J6MGZxHwqCNa",
        "colab_type": "code",
        "colab": {
          "autoexec": {
            "startup": false,
            "wait_interval": 0
          }
        }
      },
      "cell_type": "code",
      "source": [
        "def show_attention(input_sentence, output_words, attentions):\n",
        "    # Set up figure with colorbar\n",
        "    fig = plt.figure()\n",
        "    ax = fig.add_subplot(111)\n",
        "    cax = ax.matshow(attentions.numpy(), cmap='bone')\n",
        "    fig.colorbar(cax)\n",
        "\n",
        "    # Set up axes\n",
        "    ax.set_xticklabels([''] + input_sentence.split(' ') + ['<EOS>'], rotation=90)\n",
        "    ax.set_yticklabels([''] + output_words)\n",
        "\n",
        "    # Show label at every tick\n",
        "    ax.xaxis.set_major_locator(ticker.MultipleLocator(1))\n",
        "    ax.yaxis.set_major_locator(ticker.MultipleLocator(1))\n",
        "\n",
        "    plt.show()\n",
        "    plt.close()\n",
        "\n",
        "def evaluate_and_show_attention(input_sentence):\n",
        "    output_words, attentions = evaluate(input_sentence)\n",
        "    print('input =', input_sentence)\n",
        "    print('output =', ' '.join(output_words))\n",
        "    show_attention(input_sentence, output_words, attentions)"
      ],
      "execution_count": 0,
      "outputs": []
    },
    {
      "metadata": {
        "id": "VfvSNLZyqCNc",
        "colab_type": "code",
        "colab": {
          "autoexec": {
            "startup": false,
            "wait_interval": 0
          },
          "base_uri": "https://localhost:8080/",
          "height": 417
        },
        "outputId": "73a976fa-3566-4aed-e451-f3e0941c2da1",
        "executionInfo": {
          "status": "ok",
          "timestamp": 1525864021485,
          "user_tz": -120,
          "elapsed": 760,
          "user": {
            "displayName": "Kamsiulek Malutki",
            "photoUrl": "https://lh3.googleusercontent.com/a/default-user=s128",
            "userId": "118138569128465864586"
          }
        }
      },
      "cell_type": "code",
      "source": [
        "evaluate_and_show_attention(\"he is ill .\")"
      ],
      "execution_count": 26,
      "outputs": [
        {
          "output_type": "stream",
          "text": [
            "input = he is ill .\n",
            "output = on jest . . <EOS>\n"
          ],
          "name": "stdout"
        },
        {
          "output_type": "display_data",
          "data": {
            "image/png": "[encoded data removed]",
            "text/plain": [
              "<matplotlib.figure.Figure at 0x7f7c848569e8>"
            ]
          },
          "metadata": {
            "tags": []
          }
        }
      ]
    },
    {
      "metadata": {
        "id": "Rt0e4aGgqCNe",
        "colab_type": "code",
        "colab": {
          "autoexec": {
            "startup": false,
            "wait_interval": 0
          },
          "base_uri": "https://localhost:8080/",
          "height": 377
        },
        "outputId": "0c857ce2-d6f3-4ab5-b399-34daf35ccf00",
        "executionInfo": {
          "status": "ok",
          "timestamp": 1525864022265,
          "user_tz": -120,
          "elapsed": 735,
          "user": {
            "displayName": "Kamsiulek Malutki",
            "photoUrl": "https://lh3.googleusercontent.com/a/default-user=s128",
            "userId": "118138569128465864586"
          }
        }
      },
      "cell_type": "code",
      "source": [
        "evaluate_and_show_attention(\"she spoke to me in spanish .\")"
      ],
      "execution_count": 27,
      "outputs": [
        {
          "output_type": "stream",
          "text": [
            "input = she spoke to me in spanish .\n",
            "output = ona się . <EOS>\n"
          ],
          "name": "stdout"
        },
        {
          "output_type": "display_data",
          "data": {
            "image/png": "[encoded data removed]",
            "text/plain": [
              "<matplotlib.figure.Figure at 0x7f7cb71bf080>"
            ]
          },
          "metadata": {
            "tags": []
          }
        }
      ]
    },
    {
      "metadata": {
        "id": "G1MMryCkqCNh",
        "colab_type": "code",
        "colab": {
          "autoexec": {
            "startup": false,
            "wait_interval": 0
          },
          "base_uri": "https://localhost:8080/",
          "height": 410
        },
        "outputId": "50ceb784-0712-4a97-bab0-fe89743c9b85",
        "executionInfo": {
          "status": "ok",
          "timestamp": 1525864023112,
          "user_tz": -120,
          "elapsed": 805,
          "user": {
            "displayName": "Kamsiulek Malutki",
            "photoUrl": "https://lh3.googleusercontent.com/a/default-user=s128",
            "userId": "118138569128465864586"
          }
        }
      },
      "cell_type": "code",
      "source": [
        "evaluate_and_show_attention(\"i am good .\")"
      ],
      "execution_count": 28,
      "outputs": [
        {
          "output_type": "stream",
          "text": [
            "input = i am good .\n",
            "output = jestem z . <EOS>\n"
          ],
          "name": "stdout"
        },
        {
          "output_type": "display_data",
          "data": {
            "image/png": "[encoded data removed]",
            "text/plain": [
              "<matplotlib.figure.Figure at 0x7f7c841124e0>"
            ]
          },
          "metadata": {
            "tags": []
          }
        }
      ]
    },
    {
      "metadata": {
        "id": "L7PKdfVeqCNj",
        "colab_type": "code",
        "colab": {
          "autoexec": {
            "startup": false,
            "wait_interval": 0
          },
          "base_uri": "https://localhost:8080/",
          "height": 410
        },
        "outputId": "f24eb17a-cf0f-46dc-bab8-c8b22546a00a",
        "executionInfo": {
          "status": "ok",
          "timestamp": 1525864023943,
          "user_tz": -120,
          "elapsed": 805,
          "user": {
            "displayName": "Kamsiulek Malutki",
            "photoUrl": "https://lh3.googleusercontent.com/a/default-user=s128",
            "userId": "118138569128465864586"
          }
        }
      },
      "cell_type": "code",
      "source": [
        "evaluate_and_show_attention(\"i am tall .\")"
      ],
      "execution_count": 29,
      "outputs": [
        {
          "output_type": "stream",
          "text": [
            "input = i am tall .\n",
            "output = jestem z . <EOS>\n"
          ],
          "name": "stdout"
        },
        {
          "output_type": "display_data",
          "data": {
            "image/png": "[encoded data removed]",
            "text/plain": [
              "<matplotlib.figure.Figure at 0x7f7c83d0b208>"
            ]
          },
          "metadata": {
            "tags": []
          }
        }
      ]
    },
    {
      "metadata": {
        "id": "smXfGiv5qCNn",
        "colab_type": "text"
      },
      "cell_type": "markdown",
      "source": [
        "# Ćwiczenia\n",
        "\n",
        "* Spróbuj użyć innego zestawu danych\n",
        "     * Kolejna para językowa\n",
        "     * Człowiek &rarr; Maszyna (np. Komendy IOT)\n",
        "     * Czat irarr; Odpowiedź\n",
        "     * Pytanie irarr; Odpowiedź\n",
        "* Zastąp osadzone wcześniej słowa, takie jak word2vec lub GloVe\n",
        "* Wypróbuj więcej warstw, więcej ukrytych jednostek i więcej zdań. Porównaj czas trenowania i wyniki.\n",
        "* Jeśli używasz pliku tłumaczenia, w którym pary mają dwie takie same frazy (`I am test \\t I am test`), możesz użyć tego jako automatycznego enkodera. Spróbuj tego:\n",
        "     * Trenuj jako autoencoder\n",
        "     * Zapisz tylko sieć Encoder\n",
        "     * Wytrenuj nowy Dekoder do tłumaczenia z tego miejsca\n"
      ]
    }
  ]
}