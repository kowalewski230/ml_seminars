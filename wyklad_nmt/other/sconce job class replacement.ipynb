{
 "cells": [
  {
   "cell_type": "code",
   "execution_count": 1,
   "metadata": {},
   "outputs": [],
   "source": [
    "import time\n",
    "import random\n",
    "import math\n",
    "import os\n",
    "import sys\n",
    "import numpy as np\n"
   ]
  },
  {
   "cell_type": "code",
   "execution_count": 2,
   "metadata": {},
   "outputs": [],
   "source": [
    "def time_since(since):\n",
    "    now = time.time()\n",
    "    s = now - since\n",
    "    m = math.floor(s / 60)\n",
    "    s -= m * 60\n",
    "    return '%dm %ds' % (m, s)\n",
    "\n",
    "def req(method, path, json):\n",
    "    print(f'req({method}, {path}, {json})')\n",
    "    return None"
   ]
  },
  {
   "cell_type": "code",
   "execution_count": 3,
   "metadata": {},
   "outputs": [],
   "source": [
    "from torchnet.logger import VisdomPlotLogger, VisdomLogger, VisdomTextLogger\n",
    "from tqdm import tqdm\n",
    "import io\n",
    "import json"
   ]
  },
  {
   "cell_type": "code",
   "execution_count": 15,
   "metadata": {},
   "outputs": [],
   "source": [
    "# Start a job\n",
    "\n",
    "class Job:\n",
    "    def __init__(self, name, params={}, hostname='localhost', port=8890, n_epochs=10):\n",
    "        self.name = name\n",
    "        self.params = params\n",
    "        self.hostname = hostname\n",
    "        self.avg_train_loss_logger = VisdomPlotLogger(\n",
    "        'line', port=port, opts={'title': f'{name}_Train Loss'})\n",
    "        self.job_logger = VisdomTextLogger(port=port, opts={'title': f'{name}_Job Info'})\n",
    "        self.log_logger = VisdomTextLogger(port=port, opts={'title': f'{name}_Train Loss Log'}, update_type='APPEND')\n",
    "        self.pbar = tqdm(total=n_epochs, ncols=60, mininterval=1.0, ascii=True, file=io.StringIO())\n",
    "        self.progress_logger = VisdomTextLogger(port=port, opts=dict(title=f'{name}_Progress Bar',\n",
    "            width=500,\n",
    "            height=50,\n",
    "        ))\n",
    "\n",
    "        self.start()\n",
    "\n",
    "    def start(self):\n",
    "#         j = {'name': self.name, 'params': self.params, 'hostname': self.hostname}\n",
    "        j_str = json.dumps(self.params, indent=4)\n",
    "        j_str = j_str.replace('\\n', '<br/>\\n').replace(' ', '&nbsp;')\n",
    "        self.job_logger.log(f'{j_str}')\n",
    "\n",
    "        self.job_id = '#job_id'# body['id']\n",
    "        print(\"Starting job %s at %s\" % (self.job_id, time.strftime('%Y-%m-%d %H:%M:%S', time.localtime())))\n",
    "        self.start_time = time.time()\n",
    "\n",
    "        self.log_every = 50\n",
    "        self.plot_every = 50\n",
    "        self.loss_avg = 0\n",
    "\n",
    "    def stop(self, ):\n",
    "        j = {'status': 'done'}\n",
    "        print(j)\n",
    "\n",
    "    def log(self, l):\n",
    "        def time_since(since):\n",
    "            now = time.time()\n",
    "            s = now - since\n",
    "            m = math.floor(s / 60)\n",
    "            s -= m * 60\n",
    "            return '%dm %ds' % (m, s)\n",
    "        # print('[log] %s' % time_since(self.start_time), l)\n",
    "        self.log_logger.log(l)\n",
    "\n",
    "    def plot(self, x, y):\n",
    "        # print(f'[plot] ({x}, {y})')\n",
    "        self.avg_train_loss_logger.log(x, y)\n",
    "\n",
    "    def record(self, e, loss):\n",
    "        self.loss_avg += loss\n",
    "\n",
    "        if e > 0 and e % self.log_every == 0:\n",
    "            self.log('(%s) %.4f' % (e, loss))\n",
    "\n",
    "        if e > 0 and e % self.plot_every == 0:\n",
    "            self.plot(e, self.loss_avg / self.plot_every)\n",
    "            self.loss_avg = 0\n",
    "\n",
    "    def update_progress(self, ):\n",
    "        self.pbar.update(1)\n",
    "        text = f'{self.pbar}'.replace(' ', '<font color=\"white\">#</font>')\n",
    "        self.progress_logger.log(text)"
   ]
  },
  {
   "cell_type": "code",
   "execution_count": 16,
   "metadata": {},
   "outputs": [
    {
     "name": "stdout",
     "output_type": "stream",
     "text": [
      "Starting job #job_id at 2018-05-06 22:41:00\n"
     ]
    }
   ],
   "source": [
    "n_epochs = 10\n",
    "job = Job('seq2seq-translate', {\n",
    "    'attn_model': 'ala',\n",
    "    'n_layers': 3,\n",
    "    'dropout': 0.3,\n",
    "    'hidden_size': 1000,\n",
    "    'learning_rate': 0.001,\n",
    "    'clip': 0.1,\n",
    "    'teacher_forcing_ratio': 0.1,\n",
    "    'decoder_learning_ratio': 0.2,\n",
    "}, n_epochs)\n",
    "job.plot_every = 500\n",
    "job.log_every = 100"
   ]
  },
  {
   "cell_type": "code",
   "execution_count": 17,
   "metadata": {},
   "outputs": [
    {
     "name": "stdout",
     "output_type": "stream",
     "text": [
      "  0%|                                | 0/10 [00:00<?, ?it/s]\n",
      " 10%|##4                     | 1/10 [00:02<00:23,  2.59s/it]\n",
      " 20%|####8                   | 2/10 [00:04<00:10,  1.29s/it]\n",
      " 30%|#######2                | 3/10 [00:06<00:10,  1.51s/it]\n",
      " 40%|#########6              | 4/10 [00:08<00:09,  1.66s/it]\n",
      " 50%|############            | 5/10 [00:10<00:08,  1.76s/it]\n",
      " 60%|##############4         | 6/10 [00:12<00:07,  1.84s/it]\n",
      " 70%|################7       | 7/10 [00:14<00:05,  1.89s/it]\n",
      " 80%|###################2    | 8/10 [00:16<00:03,  1.92s/it]\n",
      "{'status': 'done'}\n"
     ]
    },
    {
     "ename": "NameError",
     "evalue": "name 'pbar' is not defined",
     "output_type": "error",
     "traceback": [
      "\u001b[0;31m---------------------------------------------------------------------------\u001b[0m",
      "\u001b[0;31mNameError\u001b[0m                                 Traceback (most recent call last)",
      "\u001b[0;32m<ipython-input-17-99e9fb1d0979>\u001b[0m in \u001b[0;36m<module>\u001b[0;34m()\u001b[0m\n\u001b[1;32m     11\u001b[0m \u001b[0;34m\u001b[0m\u001b[0m\n\u001b[1;32m     12\u001b[0m \u001b[0mjob\u001b[0m\u001b[0;34m.\u001b[0m\u001b[0mstop\u001b[0m\u001b[0;34m(\u001b[0m\u001b[0;34m)\u001b[0m\u001b[0;34m\u001b[0m\u001b[0m\n\u001b[0;32m---> 13\u001b[0;31m \u001b[0mpbar\u001b[0m\u001b[0;34m.\u001b[0m\u001b[0mclose\u001b[0m\u001b[0;34m(\u001b[0m\u001b[0;34m)\u001b[0m\u001b[0;34m\u001b[0m\u001b[0m\n\u001b[0m",
      "\u001b[0;31mNameError\u001b[0m: name 'pbar' is not defined"
     ]
    }
   ],
   "source": [
    "epoch = 1\n",
    "\n",
    "while epoch < n_epochs:\n",
    "    loss = random.random()\n",
    "    job.record(epoch, loss)\n",
    "    print(f'{job.pbar}')\n",
    "    job.update_progress()\n",
    "\n",
    "    epoch += 1\n",
    "    time.sleep(2.0)    \n",
    "    \n",
    "job.stop()\n",
    "pbar.close()"
   ]
  },
  {
   "cell_type": "code",
   "execution_count": null,
   "metadata": {},
   "outputs": [],
   "source": []
  },
  {
   "cell_type": "code",
   "execution_count": null,
   "metadata": {},
   "outputs": [],
   "source": []
  }
 ],
 "metadata": {
  "kernelspec": {
   "display_name": "Python 3",
   "language": "python",
   "name": "python3"
  },
  "language_info": {
   "codemirror_mode": {
    "name": "ipython",
    "version": 3
   },
   "file_extension": ".py",
   "mimetype": "text/x-python",
   "name": "python",
   "nbconvert_exporter": "python",
   "pygments_lexer": "ipython3",
   "version": "3.6.5"
  }
 },
 "nbformat": 4,
 "nbformat_minor": 2
}
