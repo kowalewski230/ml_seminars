{
  "nbformat": 4,
  "nbformat_minor": 0,
  "metadata": {
    "colab": {
      "name": "seq2seq-translation-batched-wcz2.ipynb",
      "version": "0.3.2",
      "views": {},
      "default_view": {},
      "provenance": [
        {
          "file_id": "1LdwpSTwV_jrnw7vx0ponFH2q2vq2Nsug",
          "timestamp": 1524856859127
        }
      ],
      "collapsed_sections": [
        "yHtNHu50jM_O",
        "8zBBVHQXjNAS"
      ],
      "toc_visible": true
    },
    "kernelspec": {
      "display_name": "Python 3",
      "language": "python",
      "name": "python3"
    },
    "accelerator": "GPU"
  },
  "cells": [
    {
      "metadata": {
        "id": "0pi0-vQzjM-a",
        "colab_type": "text"
      },
      "cell_type": "markdown",
      "source": [
        "![](https://i.imgur.com/eBRPvWB.png)\n",
        "\n",
        "# Tłumaczenie typu Sequence 2 Sequence \n",
        "\n",
        "\n",
        "W tym projekcie nauczymy sieci neuronowej, aby przetłumaczyć z angielskiego na polski, przykłady jednak poniższe pokazują zasadę działania na przykładzie tłumaczenia z francuskiego na angielski.\n",
        "\n",
        "```\n",
        "[KEY: > input, = target, < output]\n",
        "\n",
        "> il est en train de peindre un tableau .\n",
        "= he is painting a picture .\n",
        "< he is painting a picture .\n",
        "\n",
        "> pourquoi ne pas essayer ce vin delicieux ?\n",
        "= why not try that delicious wine ?\n",
        "< why not try that delicious wine ?\n",
        "\n",
        "> elle n est pas poete mais romanciere .\n",
        "= she is not a poet but a novelist .\n",
        "< she not not a poet but a novelist .\n",
        "\n",
        "> vous etes trop maigre .\n",
        "= you re too skinny .\n",
        "< you re all alone .\n",
        "```\n",
        "\n",
        "\n",
        "... w różnym stopniu sukcesu.\n",
        "\n",
        "Jest to możliwe dzięki prostej, ale mocnej idei [sekwencji do sekwencji sieci](http://arxiv.org/abs/1409.3215), w której dwie powtarzające się sieci neuronowe współpracują ze sobą, aby przekształcić jedną sekwencję w drugą. Sieć koderów skrapla sekwencję wejściową do pojedynczego wektora, a sieć dekodera rozwija ten wektor w nową sekwencję.\n",
        "\n",
        "Aby ulepszyć ten model, użyjemy [mechanizmu uwagi](https://arxiv.org/abs/1409.0473), który pozwoli dekodowi nauczyć się skupiać na określonym zakresie sekwencji wejściowych."
      ]
    },
    {
      "metadata": {
        "id": "bO8jBTPCjM-b",
        "colab_type": "text"
      },
      "cell_type": "markdown",
      "source": [
        "# Model Sequence 2 Sequence\n",
        "\n",
        "\n",
        "Sieć [Sequence to Sequence](http://arxiv.org/abs/1409.3215) lub seq2seq network lub [Encoder Decoder network](https://arxiv.org/pdf/1406.1078v3.pdf), jest to model składający się z dwóch oddzielnych RNN zwanych **enkoderem** i **dekoderem**. Enkoder odczytuje sekwencję wejściową po jednym elemencie i wyprowadza wektor na każdym kroku. Końcowy wynik enkodera jest utrzymywany jako **kontekst**. Dekoder wykorzystuje ten wektor kontekstowy, aby wytworzyć sekwencję wyjść jeden krok na raz.\n",
        "\n",
        "![](https://i.imgur.com/tVtHhNp.png)\n",
        "\n",
        "Podczas korzystania z pojedynczego RNN istnieje relacja jeden do jednego pomiędzy wejściami i wyjściami. Szybko napotkaliśmy problemy z różnymi kolejnościami i długościami, które są częste podczas tłumaczenia. Rozważ proste zdanie \"Je ne suis pas le chat noir\" & rarr; \"I am not the black cat\" (\"Nie jestem czarnym kotem\"). Wiele słów ma całkiem bezpośrednie tłumaczenie, na przykład \"chat\" &rarr; \"cat\". Jednak różne gramatyki powodują, że słowa występują w różnych rzędach, np. \"chat noir\" &rarr; \"black cat\". Istnieje również \"ne ... pas\" &rarr; \"not\" konstrukcja, która sprawia, że dwa zdania mają różne długości.\n",
        "\n",
        "W modelu seq2seq, kodując wiele wejść do jednego wektora i dekodując z jednego wektora na wiele wyjść, jesteśmy uwolnieni od ograniczeń kolejności i długości sekwencji. Zakodowana sekwencja jest reprezentowana przez pojedynczy wektor, pojedynczy punkt w N-wymiarowej przestrzeni sekwencji. W idealnym przypadku punkt ten można uznać za \"znaczenie\" sekwencji.\n",
        "\n",
        "Ten pomysł może zostać przedłużony poza sekwencje. Zadania tworzenia napisów pobierają [obraz jako dane wejściowe i wypisują opis](https://arxiv.org/abs/1411.4555) obrazu (img2seq). Niektóre zadania generowania obrazów pobierają [opis jako dane wyjściowe i wygenerowany obraz](https://arxiv.org/abs/1511.02793) (seq2img). Modele te można ogólnie określić jako sieci \"enkodera dekodera\"."
      ]
    },
    {
      "metadata": {
        "id": "FgcvjusvjM-c",
        "colab_type": "text"
      },
      "cell_type": "markdown",
      "source": [
        "## Mechanizm Atencji\n",
        "\n",
        "Wektor o stałej długości niesie ze sobą obciążenie kodowaniem całego \"znaczenia\" sekwencji wejściowej, bez względu na to, jak długo to trwa. Przy całej wariancji językowej jest to bardzo trudny problem. Wyobraź sobie dwa prawie identyczne zdania, dwadzieścia słów, z jednym tylko słowem innym. Zarówno enkodery, jak i dekodery muszą być wystarczająco zniuansowane, aby reprezentować tę zmianę jako bardzo nieznacznie inny punkt w przestrzeni.\n",
        "\n",
        "Mechanizm **attention** [wprowadzony przez Bahdanau i innych](https://arxiv.org/abs/1409.0473) rozwiązuje ten problem, dając dekoderowi możliwość \"zwrócenia uwagi\" na części danych wejściowych, zamiast polegania na nich. na jednym wektorze. Dla każdego kroku dekoder może wybrać inną część zdania wejściowego do rozważenia.\n",
        "\n",
        "![](https://i.imgur.com/5y6SCvU.png)\n",
        "\n",
        "Atencja jest obliczana za pomocą kolejnej warstwy feedforward w dekoderze. Ta warstwa użyje bieżącego wejścia i stanu ukrytego, aby utworzyć nowy wektor, który ma taki sam rozmiar jak sekwencja wejściowa (w praktyce stała maksymalna długość). Wektor ten jest przetwarzany przez softmax, aby utworzyć *attention weights*, które są mnożone przez wyjścia enkoderów w celu utworzenia nowego wektora kontekstowego, który jest następnie wykorzystywany do przewidywania następnego wyniku.\n",
        "\n",
        "![](https://i.imgur.com/K1qMPxs.png)\n",
        "\n"
      ]
    },
    {
      "metadata": {
        "id": "DzYe2wPrjM-c",
        "colab_type": "text"
      },
      "cell_type": "markdown",
      "source": [
        "# Wymagania\n",
        "\n",
        "Będziesz potrzebował [PyTorch](http://pytorch.org/), aby zbudować i wyszkolić modele, i [matplotlib](https://matplotlib.org/), aby wykreślić trenowanie i zwizualizować później wyniki atencji."
      ]
    },
    {
      "metadata": {
        "id": "HapeGWyXjM-e",
        "colab_type": "code",
        "colab": {
          "autoexec": {
            "startup": false,
            "wait_interval": 0
          }
        }
      },
      "cell_type": "code",
      "source": [
        "import unicodedata\n",
        "import string\n",
        "import re\n",
        "import random\n",
        "import time\n",
        "import datetime\n",
        "import math\n",
        "import socket\n",
        "hostname = socket.gethostname()\n",
        "\n",
        "import torch\n",
        "import torch.nn as nn\n",
        "from torch.autograd import Variable\n",
        "from torch import optim\n",
        "import torch.nn.functional as F\n",
        "from torch.nn.utils.rnn import pad_packed_sequence, pack_padded_sequence#, masked_cross_entropy\n",
        "from masked_cross_entropy import *\n",
        "\n",
        "import matplotlib.pyplot as plt\n",
        "import matplotlib.ticker as ticker\n",
        "import matplotlib as mpl\n",
        "import numpy as np\n",
        "# %matplotlib inline"
      ],
      "execution_count": 0,
      "outputs": []
    },
    {
      "metadata": {
        "id": "Qk60_vl_jM-h",
        "colab_type": "text"
      },
      "cell_type": "markdown",
      "source": [
        "Tutaj również zdefiniujemy stałą, aby zdecydować, czy użyć GPU (w szczególności z CUDA), czy procesora. **Jeśli nie masz GPU, ustaw dla niego wartość `False`**. Później, kiedy stworzymy tensory, zmienna ta będzie używana do decydowania o tym, czy zachowamy je na procesorze, czy przeniesiemy na GPU."
      ]
    },
    {
      "metadata": {
        "id": "TXlXt0dGjM-h",
        "colab_type": "code",
        "colab": {
          "autoexec": {
            "startup": false,
            "wait_interval": 0
          }
        }
      },
      "cell_type": "code",
      "source": [
        "USE_CUDA = True"
      ],
      "execution_count": 0,
      "outputs": []
    },
    {
      "metadata": {
        "id": "FCNzsA7ujM-k",
        "colab_type": "text"
      },
      "cell_type": "markdown",
      "source": [
        "# Ładowanie plików danych\n",
        "\n",
        "Dane do tego projektu to zbiór wielu tysięcy par tłumaczeń z angielskiego na francuski.\n",
        "\n",
        "[To pytanie na temat Open Data Stack Exchange](http://opendata.stackexchange.com/questions/3888/dataset-of-sentences-translated-into-many-languages) skierowało mnie na stronę otwartego tłumaczenia http://tatoeba.org/ który ma pliki do pobrania dostępne na stronie http://tatoeba.org/eng/downloads - a jeszcze lepiej, ktoś wykonał dodatkową pracę polegającą na podzieleniu par językowych na poszczególne pliki tekstowe tutaj: http://www.manythings.org/anki/\n",
        "\n",
        "Angielsko-francuskie pary są zbyt duże, by je uwzględnić w repozytorium, więc pobierz plik `fra-eng.zip`, wypakuj plik tekstowy i zmień jego nazwę na`data/eng-fra.txt` przed kontynuowaniem (z jakiegoś powodu plik zip nazywa się wstecz). Plik jest oddzielonymi tabulatorami parami tłumaczeń:\n",
        "\n",
        "```\n",
        "I am cold.    Je suis froid.\n",
        "```"
      ]
    },
    {
      "metadata": {
        "id": "DJoHRQsMjM-k",
        "colab_type": "text"
      },
      "cell_type": "markdown",
      "source": [
        "Podobnie jak w przypadku kodowania używanego w RNN na poziomie znaków, będziemy reprezentować każde słowo w języku jako wektor lub gigantyczny wektor zer, z wyjątkiem pojedynczego (w indeksie słowa). W porównaniu z dziesiątkami znaków, które mogą istnieć w języku, istnieje wiele wiele słów, więc wektor kodowania jest znacznie większy. Będziemy jednak trochę oszukiwać i trymować dane, aby używać tylko kilku tysięcy słów na język."
      ]
    },
    {
      "metadata": {
        "id": "eVdtUNzxjM-l",
        "colab_type": "text"
      },
      "cell_type": "markdown",
      "source": [
        "### Indeksowanie słów\n",
        "\n",
        "Będziemy potrzebować unikalnego indeksu dla każdego słowa słowa, który później posłuży jako dane wejściowe i wyjściowe. Aby śledzić to wszystko, użyjemy klasy pomocniczej o nazwie `Lang`, która ma słowniki słowo &rarr; indeks (`word2index`) i indeks &rarr; słowo (`index2word`), a także licznik każdego słowa `word2count`, którego można użyć do późniejszego zastąpienia rzadkich słów."
      ]
    },
    {
      "metadata": {
        "id": "38CWcoJijM-m",
        "colab_type": "code",
        "colab": {
          "autoexec": {
            "startup": false,
            "wait_interval": 0
          }
        }
      },
      "cell_type": "code",
      "source": [
        "PAD_token = 0\n",
        "SOS_token = 1\n",
        "EOS_token = 2\n",
        "\n",
        "class Lang:\n",
        "    def __init__(self, name):\n",
        "        self.name = name\n",
        "        self.trimmed = False\n",
        "        self.word2index = {}\n",
        "        self.word2count = {}\n",
        "        self.index2word = {0: \"PAD\", 1: \"SOS\", 2: \"EOS\"}\n",
        "        self.n_words = 3 # Count default tokens\n",
        "\n",
        "    def index_words(self, sentence):\n",
        "        for word in sentence.split(' '):\n",
        "            self.index_word(word)\n",
        "\n",
        "    def index_word(self, word):\n",
        "        if word not in self.word2index:\n",
        "            self.word2index[word] = self.n_words\n",
        "            self.word2count[word] = 1\n",
        "            self.index2word[self.n_words] = word\n",
        "            self.n_words += 1\n",
        "        else:\n",
        "            self.word2count[word] += 1\n",
        "\n",
        "    # Remove words below a certain count threshold\n",
        "    def trim(self, min_count):\n",
        "        if self.trimmed: return\n",
        "        self.trimmed = True\n",
        "        \n",
        "        keep_words = []\n",
        "        \n",
        "        for k, v in self.word2count.items():\n",
        "            if v >= min_count:\n",
        "                keep_words.append(k)\n",
        "\n",
        "        print('keep_words %s / %s = %.4f' % (\n",
        "            len(keep_words), len(self.word2index), len(keep_words) / len(self.word2index)\n",
        "        ))\n",
        "\n",
        "        # Reinitialize dictionaries\n",
        "        self.word2index = {}\n",
        "        self.word2count = {}\n",
        "        self.index2word = {0: \"PAD\", 1: \"SOS\", 2: \"EOS\"}\n",
        "        self.n_words = 3 # Count default tokens\n",
        "\n",
        "        for word in keep_words:\n",
        "            self.index_word(word)"
      ],
      "execution_count": 0,
      "outputs": []
    },
    {
      "metadata": {
        "id": "MrjDYa90jM-o",
        "colab_type": "text"
      },
      "cell_type": "markdown",
      "source": [
        "### Czytanie i dekodowanie plików\n",
        "\n",
        "Wszystkie pliki są w Unicode, aby uprościć, zamienimy znaki Unicode na ASCII, zrobimy wszystko małymi literami i wycinamy większość znaków interpunkcyjnych."
      ]
    },
    {
      "metadata": {
        "id": "y-uANRyqjM-p",
        "colab_type": "code",
        "colab": {
          "autoexec": {
            "startup": false,
            "wait_interval": 0
          },
          "base_uri": "https://localhost:8080/",
          "height": 34
        },
        "outputId": "05429291-5467-4870-d0c7-e96cd339ca11",
        "executionInfo": {
          "status": "ok",
          "timestamp": 1525693598389,
          "user_tz": -120,
          "elapsed": 635,
          "user": {
            "displayName": "Wojtek Czarnowski",
            "photoUrl": "//lh6.googleusercontent.com/-Sx8k456RbyI/AAAAAAAAAAI/AAAAAAAAEig/wmURGqbv_J8/s50-c-k-no/photo.jpg",
            "userId": "115130698336476923651"
          }
        }
      },
      "cell_type": "code",
      "source": [
        "# Turn a Unicode string to plain ASCII, thanks to http://stackoverflow.com/a/518232/2809427\n",
        "# def unicode_to_ascii(s):\n",
        "#     return ''.join(\n",
        "#         c for c in unicodedata.normalize('NFD', s)\n",
        "#         if unicodedata.category(c) != 'Mn'\n",
        "#     )\n",
        "\n",
        "# Lowercase, trim, and remove non-letter characters\n",
        "def normalize_string(s):\n",
        "#     s = unicode_to_ascii(s.lower().strip())\n",
        "    s = s.lower().strip()\n",
        "    s = re.sub(r\"([,.!?])\", r\" \\1 \", s)\n",
        "#     s = re.sub(r\"[^a-zA-Z,.!?]+\", r\" \", s)\n",
        "    s = re.sub(r\"\\s+\", r\" \", s).strip()\n",
        "    return s\n",
        "  \n",
        "normalize_string('ala ma kota ąćęłńóśźż ĄĆĘŁŃÓŚŹŻ')"
      ],
      "execution_count": 0,
      "outputs": [
        {
          "output_type": "execute_result",
          "data": {
            "text/plain": [
              "'ala ma kota ąćęłńóśźż ąćęłńóśźż'"
            ]
          },
          "metadata": {
            "tags": []
          },
          "execution_count": 4
        }
      ]
    },
    {
      "metadata": {
        "id": "L3_B-7AgjM-r",
        "colab_type": "text"
      },
      "cell_type": "markdown",
      "source": [
        "Aby odczytać plik danych, podzielimy go na linie, a następnie podzielimy linie na pary. Wszystkie pliki są angielskie  &rarr; Inny język, więc jeśli chcemy przetłumaczyć z Innego języka &rarr; Angielski dodana została flaga `reverse`, aby odwrócić pary."
      ]
    },
    {
      "metadata": {
        "id": "Be5PbEG6jM-r",
        "colab_type": "code",
        "colab": {
          "autoexec": {
            "startup": false,
            "wait_interval": 0
          }
        }
      },
      "cell_type": "code",
      "source": [
        "def read_langs(lang1, lang2, reverse=False):\n",
        "    print(\"Reading lines...\")\n",
        "\n",
        "    # Read the file and split into lines\n",
        "#     filename = '../data/%s-%s.txt' % (lang1, lang2)\n",
        "    filename = 'data/seq2seq/%s-%s.txt' % (lang1, lang2)\n",
        "    lines = open(filename).read().strip().split('\\n')\n",
        "\n",
        "    # Split every line into pairs and normalize\n",
        "    pairs = [[normalize_string(s) for s in l.split('\\t')] for l in lines]\n",
        "\n",
        "    # Reverse pairs, make Lang instances\n",
        "    if reverse:\n",
        "        pairs = [list(reversed(p)) for p in pairs]\n",
        "        input_lang = Lang(lang2)\n",
        "        output_lang = Lang(lang1)\n",
        "    else:\n",
        "        input_lang = Lang(lang1)\n",
        "        output_lang = Lang(lang2)\n",
        "\n",
        "    return input_lang, output_lang, pairs"
      ],
      "execution_count": 0,
      "outputs": []
    },
    {
      "metadata": {
        "id": "gbR0LICajM-u",
        "colab_type": "code",
        "colab": {
          "autoexec": {
            "startup": false,
            "wait_interval": 0
          }
        }
      },
      "cell_type": "code",
      "source": [
        "MIN_LENGTH = 3\n",
        "MAX_LENGTH = 25\n",
        "\n",
        "def filter_pairs(pairs):\n",
        "    filtered_pairs = []\n",
        "    for pair in pairs:\n",
        "        if len(pair[0]) >= MIN_LENGTH and len(pair[0]) <= MAX_LENGTH \\\n",
        "            and len(pair[1]) >= MIN_LENGTH and len(pair[1]) <= MAX_LENGTH:\n",
        "                filtered_pairs.append(pair)\n",
        "    return filtered_pairs"
      ],
      "execution_count": 0,
      "outputs": []
    },
    {
      "metadata": {
        "id": "3d4PanL1jM-x",
        "colab_type": "text"
      },
      "cell_type": "markdown",
      "source": [
        "Pełny proces przygotowywania danych to:\n",
        "\n",
        "* Czytaj plik tekstowy i podziel na linie, \n",
        "* Podziel linie na pary i znormalizuj, \n",
        "* Filtruj według długości i zawartości\n",
        "* Twórz listy słów ze zdań w parach\n",
        "\n"
      ]
    },
    {
      "metadata": {
        "id": "gMHfcrOhjM-x",
        "colab_type": "code",
        "colab": {
          "autoexec": {
            "startup": false,
            "wait_interval": 0
          },
          "base_uri": "https://localhost:8080/",
          "height": 102
        },
        "outputId": "980905ef-2466-47b2-8e99-6c9b655ab029",
        "executionInfo": {
          "status": "ok",
          "timestamp": 1525693605452,
          "user_tz": -120,
          "elapsed": 1599,
          "user": {
            "displayName": "Wojtek Czarnowski",
            "photoUrl": "//lh6.googleusercontent.com/-Sx8k456RbyI/AAAAAAAAAAI/AAAAAAAAEig/wmURGqbv_J8/s50-c-k-no/photo.jpg",
            "userId": "115130698336476923651"
          }
        }
      },
      "cell_type": "code",
      "source": [
        "def prepare_data(lang1_name, lang2_name, reverse=False):\n",
        "    input_lang, output_lang, pairs = read_langs(lang1_name, lang2_name, reverse)\n",
        "    print(\"Read %d sentence pairs\" % len(pairs))\n",
        "    \n",
        "    pairs = filter_pairs(pairs)\n",
        "    print(\"Filtered to %d pairs\" % len(pairs))\n",
        "    \n",
        "    print(\"Indexing words...\")\n",
        "    for pair in pairs:\n",
        "        input_lang.index_words(pair[0])\n",
        "        output_lang.index_words(pair[1])\n",
        "    \n",
        "    print('Indexed %d words in input language, %d words in output' % (input_lang.n_words, output_lang.n_words))\n",
        "    return input_lang, output_lang, pairs\n",
        "\n",
        "input_lang, output_lang, pairs = prepare_data('eng', 'pol', False)"
      ],
      "execution_count": 0,
      "outputs": [
        {
          "output_type": "stream",
          "text": [
            "Reading lines...\n",
            "Read 36856 sentence pairs\n",
            "Filtered to 10021 pairs\n",
            "Indexing words...\n",
            "Indexed 3246 words in input language, 6104 words in output\n"
          ],
          "name": "stdout"
        }
      ]
    },
    {
      "metadata": {
        "id": "BjKDGSYHjM-2",
        "colab_type": "text"
      },
      "cell_type": "markdown",
      "source": [
        "### Filtrowanie zdań\n",
        "\n",
        "Ponieważ istnieje *dużo* przykładowych zdań i chcemy szybko coś wytrenować, zmienimy zestaw danych tylko na względnie krótkie i proste zdania. Tutaj maksymalna długość to 10 słów (w tym interpunkcja), a my filtrujemy zdania, które tłumaczą się na formę \"Jestem\" (I am) lub \"Jest\" (He is) itd. (Z uwzględnieniem usuwania apostrofów)."
      ]
    },
    {
      "metadata": {
        "id": "L8uPxAvUjM-2",
        "colab_type": "code",
        "colab": {
          "autoexec": {
            "startup": false,
            "wait_interval": 0
          },
          "base_uri": "https://localhost:8080/",
          "height": 51
        },
        "outputId": "5527d45b-61e4-41a7-c09d-8c8cca6b05b4",
        "executionInfo": {
          "status": "ok",
          "timestamp": 1525693639131,
          "user_tz": -120,
          "elapsed": 895,
          "user": {
            "displayName": "Wojtek Czarnowski",
            "photoUrl": "//lh6.googleusercontent.com/-Sx8k456RbyI/AAAAAAAAAAI/AAAAAAAAEig/wmURGqbv_J8/s50-c-k-no/photo.jpg",
            "userId": "115130698336476923651"
          }
        }
      },
      "cell_type": "code",
      "source": [
        "MIN_COUNT = 3  # 5\n",
        "\n",
        "input_lang.trim(MIN_COUNT)\n",
        "output_lang.trim(MIN_COUNT)"
      ],
      "execution_count": 0,
      "outputs": [
        {
          "output_type": "stream",
          "text": [
            "keep_words 1278 / 3243 = 0.3941\n",
            "keep_words 1532 / 6101 = 0.2511\n"
          ],
          "name": "stdout"
        }
      ]
    },
    {
      "metadata": {
        "id": "_batj5qjjM-5",
        "colab_type": "text"
      },
      "cell_type": "markdown",
      "source": [
        "### Filtrowanie par\n",
        "\n",
        "Teraz wrócimy do zestawu wszystkich par zdań i usuniemy te z nieznanymi słowami."
      ]
    },
    {
      "metadata": {
        "id": "3Ht7UIxjjM-6",
        "colab_type": "code",
        "colab": {
          "autoexec": {
            "startup": false,
            "wait_interval": 0
          },
          "base_uri": "https://localhost:8080/",
          "height": 34
        },
        "outputId": "50bf1f93-c73b-4e75-ee52-49d1c3374431",
        "executionInfo": {
          "status": "ok",
          "timestamp": 1525693641763,
          "user_tz": -120,
          "elapsed": 740,
          "user": {
            "displayName": "Wojtek Czarnowski",
            "photoUrl": "//lh6.googleusercontent.com/-Sx8k456RbyI/AAAAAAAAAAI/AAAAAAAAEig/wmURGqbv_J8/s50-c-k-no/photo.jpg",
            "userId": "115130698336476923651"
          }
        }
      },
      "cell_type": "code",
      "source": [
        "keep_pairs = []\n",
        "\n",
        "for pair in pairs:\n",
        "    input_sentence = pair[0]\n",
        "    output_sentence = pair[1]\n",
        "    keep_input = True\n",
        "    keep_output = True\n",
        "    \n",
        "    for word in input_sentence.split(' '):\n",
        "        if word not in input_lang.word2index:\n",
        "            keep_input = False\n",
        "            break\n",
        "\n",
        "    for word in output_sentence.split(' '):\n",
        "        if word not in output_lang.word2index:\n",
        "            keep_output = False\n",
        "            break\n",
        "\n",
        "    # Remove if pair doesn't match input and output conditions\n",
        "    if keep_input and keep_output:\n",
        "        keep_pairs.append(pair)\n",
        "\n",
        "print(\"Trimmed from %d pairs to %d, %.4f of total\" % (len(pairs), len(keep_pairs), len(keep_pairs) / len(pairs)))\n",
        "pairs = keep_pairs"
      ],
      "execution_count": 0,
      "outputs": [
        {
          "output_type": "stream",
          "text": [
            "Trimmed from 10021 pairs to 4830, 0.4820 of total\n"
          ],
          "name": "stdout"
        }
      ]
    },
    {
      "metadata": {
        "id": "KBXR6h89jM-9",
        "colab_type": "text"
      },
      "cell_type": "markdown",
      "source": [
        "## Włączanie danych treningowych do Tensorów / Zmiennych\n",
        "\n",
        "Aby trenować, musimy przekształcić zdania w coś, co sieć neuronowa może zrozumieć, co oczywiście oznacza liczby. Każde zdanie zostanie podzielone na słowa i przekształcone w Tensor, gdzie każde słowo zostanie zastąpione indeksem (z wcześniejszych indeksów Langa). Podczas tworzenia tych tensorów dodamy również token EOS, aby zasygnalizować, że zdanie jest skończone.\n",
        "\n",
        "![](https://i.imgur.com/LzocpGH.png)"
      ]
    },
    {
      "metadata": {
        "id": "wtOXR7IkjM--",
        "colab_type": "code",
        "colab": {
          "autoexec": {
            "startup": false,
            "wait_interval": 0
          }
        }
      },
      "cell_type": "code",
      "source": [
        "# Return a list of indexes, one for each word in the sentence, plus EOS\n",
        "def indexes_from_sentence(lang, sentence):\n",
        "    return [lang.word2index[word] for word in sentence.split(' ')] + [EOS_token]"
      ],
      "execution_count": 0,
      "outputs": []
    },
    {
      "metadata": {
        "id": "d4cwKAbhjM_D",
        "colab_type": "text"
      },
      "cell_type": "markdown",
      "source": [
        "Możemy lepiej wykorzystać GPU, trenując wiele sekwencji naraz, ale czyniąc to, pojawia się pytanie, jak radzić sobie z sekwencjami o różnych długościach. Prostym rozwiązaniem jest \"podkładanie\" krótszych zdań z pewnym symbolem wypełnienia (w tym przypadku `0`) i ignorowanie tych wyściełanych miejsc podczas obliczania straty.\n",
        "\n",
        "![](https://i.imgur.com/gGlkEEF.png)"
      ]
    },
    {
      "metadata": {
        "id": "X_n5XY_wjM_D",
        "colab_type": "code",
        "colab": {
          "autoexec": {
            "startup": false,
            "wait_interval": 0
          }
        }
      },
      "cell_type": "code",
      "source": [
        "# Pad a with the PAD symbol\n",
        "def pad_seq(seq, max_length):\n",
        "    seq += [PAD_token for i in range(max_length - len(seq))]\n",
        "    return seq"
      ],
      "execution_count": 0,
      "outputs": []
    },
    {
      "metadata": {
        "id": "hjbE-NkajM_F",
        "colab_type": "text"
      },
      "cell_type": "markdown",
      "source": [
        "Aby utworzyć zmienną dla pełnej partii danych wejściowych (i wyjściowych), otrzymujemy losową próbkę sekwencji i przypisujemy je do długości najdłuższej sekwencji. Będziemy śledzić długości każdej partii, aby później ją usunąć.\n",
        "\n",
        "Inicjowanie `LongTensor` za pomocą macierzy (partii) macierzy (sekwencji) daje nam tensor `(batch_size x max_len)` - wybór pierwszego wymiaru daje pojedynczą partię, która jest pełną sekwencją. Podczas szkolenia modelu będziemy potrzebować jednorazowego kroku naraz, więc przeniesiemy go do `(max_len x batch_size)`. Teraz wybieranie wzdłuż pierwszego wymiaru powoduje powrót do pojedynczego kroku w różnych partiach.\n",
        "\n",
        "\n",
        "![](https://i.imgur.com/nBxTG3v.png)"
      ]
    },
    {
      "metadata": {
        "id": "QV-eXwgPjM_G",
        "colab_type": "code",
        "colab": {
          "autoexec": {
            "startup": false,
            "wait_interval": 0
          }
        }
      },
      "cell_type": "code",
      "source": [
        "def random_batch(batch_size):\n",
        "    input_seqs = []\n",
        "    target_seqs = []\n",
        "\n",
        "    # Choose random pairs\n",
        "    for i in range(batch_size):\n",
        "        pair = random.choice(pairs)\n",
        "        input_seqs.append(indexes_from_sentence(input_lang, pair[0]))\n",
        "        target_seqs.append(indexes_from_sentence(output_lang, pair[1]))\n",
        "\n",
        "    # Zip into pairs, sort by length (descending), unzip\n",
        "    seq_pairs = sorted(zip(input_seqs, target_seqs), key=lambda p: len(p[0]), reverse=True)\n",
        "    input_seqs, target_seqs = zip(*seq_pairs)\n",
        "    \n",
        "    # For input and target sequences, get array of lengths and pad with 0s to max length\n",
        "    input_lengths = [len(s) for s in input_seqs]\n",
        "    input_padded = [pad_seq(s, max(input_lengths)) for s in input_seqs]\n",
        "    target_lengths = [len(s) for s in target_seqs]\n",
        "    target_padded = [pad_seq(s, max(target_lengths)) for s in target_seqs]\n",
        "\n",
        "    # Turn padded arrays into (batch_size x max_len) tensors, transpose into (max_len x batch_size)\n",
        "    input_var = Variable(torch.LongTensor(input_padded)).transpose(0, 1)\n",
        "    target_var = Variable(torch.LongTensor(target_padded)).transpose(0, 1)\n",
        "    \n",
        "    if USE_CUDA:\n",
        "        input_var = input_var.cuda()\n",
        "        target_var = target_var.cuda()\n",
        "        \n",
        "    return input_var, input_lengths, target_var, target_lengths"
      ],
      "execution_count": 0,
      "outputs": []
    },
    {
      "metadata": {
        "id": "4mFgcJcnjM_I",
        "colab_type": "text"
      },
      "cell_type": "markdown",
      "source": [
        "Możemy przetestować to, aby zobaczyć, że zwróci on tensor `(max_len x batch_size)` dla zdań wejściowych i docelowych, wraz z odpowiadającą im listą długości partii dla każdego (które wykorzystamy później do maskowania)."
      ]
    },
    {
      "metadata": {
        "id": "SRQMhAnnjM_J",
        "colab_type": "code",
        "colab": {
          "autoexec": {
            "startup": false,
            "wait_interval": 0
          },
          "base_uri": "https://localhost:8080/",
          "height": 170
        },
        "outputId": "66c6f672-2ea0-45c4-a181-cd2ecd56403d",
        "executionInfo": {
          "status": "ok",
          "timestamp": 1525693658536,
          "user_tz": -120,
          "elapsed": 5135,
          "user": {
            "displayName": "Wojtek Czarnowski",
            "photoUrl": "//lh6.googleusercontent.com/-Sx8k456RbyI/AAAAAAAAAAI/AAAAAAAAEig/wmURGqbv_J8/s50-c-k-no/photo.jpg",
            "userId": "115130698336476923651"
          }
        }
      },
      "cell_type": "code",
      "source": [
        "random_batch(2)"
      ],
      "execution_count": 0,
      "outputs": [
        {
          "output_type": "execute_result",
          "data": {
            "text/plain": [
              "(tensor([[  40,   68],\n",
              "         [ 541,   24],\n",
              "         [  29,    4],\n",
              "         [   4,    2],\n",
              "         [   2,    0]], device='cuda:0'), [5, 4], tensor([[  60,   11],\n",
              "         [  26,   51],\n",
              "         [ 570,    4],\n",
              "         [   4,    2],\n",
              "         [   2,    0]], device='cuda:0'), [5, 4])"
            ]
          },
          "metadata": {
            "tags": []
          },
          "execution_count": 13
        }
      ]
    },
    {
      "metadata": {
        "id": "YKx3SlwgjM_K",
        "colab_type": "text"
      },
      "cell_type": "markdown",
      "source": [
        "# Budowanie modeli"
      ]
    },
    {
      "metadata": {
        "id": "LFIBysF3jM_L",
        "colab_type": "text"
      },
      "cell_type": "markdown",
      "source": [
        "## The Encoder\n",
        "\n",
        "<img src=\"https://github.com/spro/practical-pytorch/blob/master/seq2seq-translation/images/encoder-network.png?raw=true\" style=\"float: right\" />\n",
        "\n",
        "Enkoder pobiera serię sekwencji słów, `LongTensor` o rozmiarze `(max_len x batch_size)` i wyprowadza kodowanie dla każdego słowa,` FloatTensor` o rozmiarze `(max_len x batch_size x hidden_size)`.\n",
        "\n",
        "Dane wejściowe są podawane przez [warstwę osadzającą `nn.Embedding`](http://pytorch.org/docs/nn.html#embedding) w celu utworzenia osadzania dla każdego słowa, z rozmiarem` seq_len x hidden_size` (jeśli to była partia słów). Zostało to zmienione na `seq_len x 1 x hidden_size`, aby pasowało do oczekiwanego wejścia [warstwy GRU` nn.GRU`](http://pytorch.org/docs/nn.html#gru). GRU zwróci zarówno sekwencję wyjściową o rozmiarze `seq_len x hidden_size`.\n",
        "\n"
      ]
    },
    {
      "metadata": {
        "id": "CWtfwbnwjM_M",
        "colab_type": "code",
        "colab": {
          "autoexec": {
            "startup": false,
            "wait_interval": 0
          }
        }
      },
      "cell_type": "code",
      "source": [
        "class EncoderRNN(nn.Module):\n",
        "    def __init__(self, input_size, hidden_size, n_layers=1, dropout=0.1):\n",
        "        super(EncoderRNN, self).__init__()\n",
        "        \n",
        "        self.input_size = input_size\n",
        "        self.hidden_size = hidden_size\n",
        "        self.n_layers = n_layers\n",
        "        self.dropout = dropout\n",
        "        \n",
        "        self.embedding = nn.Embedding(input_size, hidden_size)\n",
        "        self.gru = nn.GRU(hidden_size, hidden_size, n_layers, dropout=self.dropout, bidirectional=True)\n",
        "        \n",
        "    def forward(self, input_seqs, input_lengths, hidden=None):\n",
        "        # Note: we run this all at once (over multiple batches of multiple sequences)\n",
        "        embedded = self.embedding(input_seqs)\n",
        "        packed = torch.nn.utils.rnn.pack_padded_sequence(embedded, input_lengths)\n",
        "        outputs, hidden = self.gru(packed, hidden)\n",
        "        outputs, output_lengths = torch.nn.utils.rnn.pad_packed_sequence(outputs) # unpack (back to padded)\n",
        "        outputs = outputs[:, :, :self.hidden_size] + outputs[:, : ,self.hidden_size:] # Sum bidirectional outputs\n",
        "        return outputs, hidden"
      ],
      "execution_count": 0,
      "outputs": []
    },
    {
      "metadata": {
        "id": "BLWVsv1VjM_O",
        "colab_type": "text"
      },
      "cell_type": "markdown",
      "source": [
        "## Dekoder Atencji"
      ]
    },
    {
      "metadata": {
        "id": "yHtNHu50jM_O",
        "colab_type": "text"
      },
      "cell_type": "markdown",
      "source": [
        "### Interpretacja modelu Bahdanau\n",
        "\n",
        "Model atencji w [Neurowe tłumaczenie maszynowe przez wspólne uczenie się wyrównywania i tłumaczenia](https://arxiv.org/abs/1409.0473) jest opisany jako następująca seria równań:\n",
        "\n",
        "Każde wyjście dekodera jest uwarunkowane poprzednimi wyjściami i pewnym $\\mathbf x$, gdzie $\\mathbf x $składa się z bieżącego stanu ukrytego (który bierze pod uwagę poprzednie wyjścia) i \"kontekstu\" uwagi, który jest obliczany poniżej. Funkcja $g$ jest w pełni połączoną warstwą z nieliniową aktywacją, która jako dane wejściowe przyjmuje połączone wartości $y_{i-1}$, $s_i$ i $c_i$.\n",
        "\n",
        "\n",
        "$$\n",
        "p(y_i \\mid \\{y_1,...,y_{i-1}\\},\\mathbf{x}) = g(y_{i-1}, s_i, c_i)\n",
        "$$\n",
        "\n",
        "Bieżący stan ukryty $s_i$ jest obliczany przez RNN $f$ z ostatnim ukrytym stanem $s_{i-1}$, ostatnią wartością wyjściową dekodera $y_{i-1}$  i wektorem kontekstowym $c_i$.\n",
        "W kodzie RNN będzie warstwą `nn.GRU`, ukryty stan $s_i$ będzie nazywany `hidden`, wyjście $y_i$ zwane `output` oraz kontekst $c_i$ zwany `context`.\n",
        "\n",
        "\n",
        "$$\n",
        "s_i = f(s_{i-1}, y_{i-1}, c_i)\n",
        "$$\n",
        "\n",
        "Wektor kontekstowy $c_i$ jest ważoną sumą wszystkich wyników enkodera, gdzie każda waga $a_{ij}$ jest ilością \"atencji\" przekazanej na odpowiednie wyjście enkodera $h_j$.\n",
        "\n",
        "\n",
        "$$\n",
        "c_i = \\sum_{j=1}^{T_x} a_{ij} h_j\n",
        "$$\n",
        "\n",
        "... gdzie każda waga $a_{ij}$ to znormalizowana (ponad wszystkie kroki) atencja \"energia\" $e_{ij}$ ...\n",
        "\n",
        "$$\n",
        "a_{ij} = \\dfrac{exp(e_{ij})}{\\sum_{k=1}^{T} exp(e_{ik})}\n",
        "$$\n",
        "\n",
        "... gdzie każda energia atencji jest obliczana za pomocą funkcji $a$ (takiej jak inna warstwa liniowa) przy użyciu ostatniego ukrytego stanu $s_{i-1}$ i tego konkretnego wyjścia enkodera $h_j$:\n",
        "\n",
        "$$\n",
        "e_{ij} = a(s_{i-1}, h_j)\n",
        "$$"
      ]
    },
    {
      "metadata": {
        "id": "tVGfY39sjM_O",
        "colab_type": "text"
      },
      "cell_type": "markdown",
      "source": [
        "### Interpretacja modelu Luong'a"
      ]
    },
    {
      "metadata": {
        "id": "079wjeknjM_P",
        "colab_type": "text"
      },
      "cell_type": "markdown",
      "source": [
        "\n",
        "\n",
        "[Skuteczne podejście do neuronowego tłumaczenia maszynowego z naciskiem na atencję](https://arxiv.org/abs/1508.04025) autorstwa Luonga i innych. opisuje kilka modeli atencji, które oferują ulepszenia i uproszczenia. Opisują kilka modeli \"globalnej atencji\", a rozróżnienie między nimi jest sposobem obliczania wyników atencji.\n",
        "\n",
        "Ogólna forma obliczania atencji opiera się na ukrytym stanie po stronie docelowej (dekodera) i odpowiednim stanie bocznym źródła (enkodera), znormalizowanym dla wszystkich stanów, aby uzyskać wartości zsumowane do 1:\n",
        "\n",
        "$$\n",
        "a_t(s) = align(h_t, \\bar h_s)  = \\dfrac{exp(score(h_t, \\bar h_s))}{\\sum_{s'} exp(score(h_t, \\bar h_{s'}))}\n",
        "$$\n",
        "\n",
        "Konkretną funkcją \"wyniku\" (score), która porównuje dwa stany, jest albo *dot* (kropka), prosty produkt punktowy między stanami; *general* (ogólnie), produkt kropki między ukrytym stanem dekodera a liniową transformacją stanu kodera; lub *concat*, produkt kropki między nowym parametrem $v_a$ a liniową transformacją stanów połączonych ze sobą.\n",
        "\n",
        "\n",
        "$$\n",
        "score(h_t, \\bar h_s) =\n",
        "\\begin{cases}\n",
        "h_t ^\\top \\bar h_s & dot \\\\\n",
        "h_t ^\\top \\textbf{W}_a \\bar h_s & general \\\\\n",
        "v_a ^\\top \\textbf{W}_a [ h_t ; \\bar h_s ] & concat\n",
        "\\end{cases}\n",
        "$$\n",
        "\n",
        "Modułowa definicja tych funkcji ewaluacji daje nam możliwość zbudowania specjalnego modułu atencji, który może przełączać się między różnymi metodami punktacji. Wejście do tego modułu jest zawsze stanem ukrytym (dekodera RNN) i zestawem wyjść enkodera.\n"
      ]
    },
    {
      "metadata": {
        "id": "8tvHPEhbjM_Q",
        "colab_type": "text"
      },
      "cell_type": "markdown",
      "source": [
        "### Implementacja modułu atencji"
      ]
    },
    {
      "metadata": {
        "id": "tvQQ9_O6jM_Q",
        "colab_type": "code",
        "colab": {
          "autoexec": {
            "startup": false,
            "wait_interval": 0
          }
        }
      },
      "cell_type": "code",
      "source": [
        "class Attn(nn.Module):\n",
        "    def __init__(self, method, hidden_size):\n",
        "        super(Attn, self).__init__()\n",
        "        \n",
        "        self.method = method\n",
        "        self.hidden_size = hidden_size\n",
        "        \n",
        "        if self.method == 'general':\n",
        "            self.attn = nn.Linear(self.hidden_size, hidden_size)\n",
        "\n",
        "        elif self.method == 'concat':\n",
        "            self.attn = nn.Linear(self.hidden_size * 2, hidden_size)\n",
        "            self.v = nn.Parameter(torch.FloatTensor(1, hidden_size))\n",
        "\n",
        "    def forward(self, hidden, encoder_outputs):\n",
        "        max_len = encoder_outputs.size(0)\n",
        "        this_batch_size = encoder_outputs.size(1)\n",
        "\n",
        "        # Create variable to store attention energies\n",
        "        attn_energies = Variable(torch.zeros(this_batch_size, max_len)) # B x S\n",
        "\n",
        "        if USE_CUDA:\n",
        "            attn_energies = attn_energies.cuda()\n",
        "\n",
        "        # For each batch of encoder outputs\n",
        "        for b in range(this_batch_size):\n",
        "            # Calculate energy for each encoder output\n",
        "            for i in range(max_len):\n",
        "                attn_energies[b, i] = self.score(hidden[:, b], encoder_outputs[i, b].unsqueeze(0))\n",
        "\n",
        "        # Normalize energies to weights in range 0 to 1, resize to 1 x B x S\n",
        "        # return F.softmax(attn_energies).unsqueeze(1)\n",
        "        return F.softmax(attn_energies, dim=-1).unsqueeze(1)\n",
        "    \n",
        "#     def score(self, hidden, encoder_output):\n",
        "        \n",
        "#         if self.method == 'dot':\n",
        "#             energy = hidden.dot(encoder_output)\n",
        "#             return energy\n",
        "        \n",
        "#         elif self.method == 'general':\n",
        "#             energy = self.attn(encoder_output)\n",
        "#             energy = hidden.dot(energy)\n",
        "#             return energy\n",
        "        \n",
        "#         elif self.method == 'concat':\n",
        "#             energy = self.attn(torch.cat((hidden, encoder_output), 1))\n",
        "#             energy = self.v.dot(energy)\n",
        "#             return energy\n",
        "\n",
        "    def score(self, hidden, encoder_output):\n",
        "        if self.method == 'dot':\n",
        "            energy =torch.dot(hidden.view(-1), encoder_output.view(-1))\n",
        "        elif self.method == 'general':\n",
        "            energy = self.attn(encoder_output)\n",
        "            energy = torch.dot(hidden.view(-1), energy.view(-1))\n",
        "        elif self.method == 'concat':\n",
        "            energy = self.attn(torch.cat((hidden, encoder_output), 1))\n",
        "            energy = torch.dot(self.v.view(-1), energy.view(-1))\n",
        "        return energy"
      ],
      "execution_count": 0,
      "outputs": []
    },
    {
      "metadata": {
        "id": "CdQV7jCLjM_R",
        "colab_type": "text"
      },
      "cell_type": "markdown",
      "source": [
        "### Implementacja modelu Bahdanau\n",
        "\n",
        "Podsumowując, nasz dekoder powinien składać się z czterech głównych części - warstwy osadzającej, zamieniającej słowo wejściowe w wektor; warstwa do obliczenia energii uwagi na wyjście enkodera; warstwa RNN; i warstwę wyjściową.\n",
        "\n",
        "Wejścia dekodera są ostatnim ukrytym stanem RNN $s_{i-1}$, ostatnie wyjście $y_{i-1}$ oraz wszystkie wyjścia enkodera $h_*$.\n",
        "\n",
        "* warstwa osadzania z wejściami $y_{i-1}$\n",
        "    * `embedded = embedding(last_rnn_output)`\n",
        "* warstwa atencji $a$ z wejściami $(s_{i-1}, h_j)$ i wyjściami $e_{ij}$, znormalizowanymi w celu utworzenia $a_{ij}$\n",
        "    * `attn_energies[j] = attn_layer(last_hidden, encoder_outputs[j])`\n",
        "    * `attn_weights = normalize(attn_energies)`\n",
        "* wektor kontekstowy $c_i$ jako średnia ważona wyjść enkodera\n",
        "    * `context = sum(attn_weights * encoder_outputs)`\n",
        "* warstwa (warstwy) RNN $f$ z wejściami $(s_{i-1}, y_{i-1}, c_i)$ i wewnętrznym stanem ukrytym, wyprowadzanie $s_i$\n",
        "    * `rnn_input = concat(embedded, context)`\n",
        "    * `rnn_output, rnn_hidden = rnn(rnn_input, last_hidden)`\n",
        "* warstwa wyjściowa $g$ z wejściami $(y_{i-1}, s_i, c_i)$, wyprowadzanie $y_i$\n",
        "    * `output = out(embedded, rnn_output, context)`\n",
        "\n"
      ]
    },
    {
      "metadata": {
        "id": "Cq2AurVKjM_S",
        "colab_type": "code",
        "colab": {
          "autoexec": {
            "startup": false,
            "wait_interval": 0
          }
        }
      },
      "cell_type": "code",
      "source": [
        "class BahdanauAttnDecoderRNN(nn.Module):\n",
        "    def __init__(self, hidden_size, output_size, n_layers=1, dropout_p=0.1):\n",
        "        super(BahdanauAttnDecoderRNN, self).__init__()\n",
        "        \n",
        "        # Define parameters\n",
        "        self.hidden_size = hidden_size\n",
        "        self.output_size = output_size\n",
        "        self.n_layers = n_layers\n",
        "        self.dropout_p = dropout_p\n",
        "        self.max_length = max_length\n",
        "        \n",
        "        # Define layers\n",
        "        self.embedding = nn.Embedding(output_size, hidden_size)\n",
        "        self.dropout = nn.Dropout(dropout_p)\n",
        "        self.attn = Attn('concat', hidden_size)\n",
        "        self.gru = nn.GRU(hidden_size, hidden_size, n_layers, dropout=dropout_p)\n",
        "        self.out = nn.Linear(hidden_size, output_size)\n",
        "    \n",
        "    def forward(self, word_input, last_hidden, encoder_outputs):\n",
        "        # Note: we run this one step at a time\n",
        "        # TODO: FIX BATCHING\n",
        "        \n",
        "        # Get the embedding of the current input word (last output word)\n",
        "        word_embedded = self.embedding(word_input).view(1, 1, -1) # S=1 x B x N\n",
        "        word_embedded = self.dropout(word_embedded)\n",
        "        \n",
        "        # Calculate attention weights and apply to encoder outputs\n",
        "        attn_weights = self.attn(last_hidden[-1], encoder_outputs)\n",
        "        context = attn_weights.bmm(encoder_outputs.transpose(0, 1)) # B x 1 x N\n",
        "        context = context.transpose(0, 1) # 1 x B x N\n",
        "        \n",
        "        # Combine embedded input word and attended context, run through RNN\n",
        "        rnn_input = torch.cat((word_embedded, context), 2)\n",
        "        output, hidden = self.gru(rnn_input, last_hidden)\n",
        "        \n",
        "        # Final output layer\n",
        "        output = output.squeeze(0) # B x N\n",
        "        # output = F.log_softmax(self.out(torch.cat((output, context), 1)))\n",
        "        output = F.log_softmax(self.out(torch.cat((output, context), 1)), dim=-1)\n",
        "        \n",
        "        # Return final output, hidden state, and attention weights (for visualization)\n",
        "        return output, hidden, attn_weights"
      ],
      "execution_count": 0,
      "outputs": []
    },
    {
      "metadata": {
        "id": "qq9r0senjM_U",
        "colab_type": "text"
      },
      "cell_type": "markdown",
      "source": [
        "Teraz możemy zbudować dekoder, który podłącza ten moduł Attn za RNN, aby obliczyć wagi atencji, i zastosować te wagi do wyjść enkodera, aby uzyskać wektor kontekstu.\n"
      ]
    },
    {
      "metadata": {
        "id": "8WQ5ZymQjM_U",
        "colab_type": "code",
        "colab": {
          "autoexec": {
            "startup": false,
            "wait_interval": 0
          }
        }
      },
      "cell_type": "code",
      "source": [
        "class LuongAttnDecoderRNN(nn.Module):\n",
        "    def __init__(self, attn_model, hidden_size, output_size, n_layers=1, dropout=0.1):\n",
        "        super(LuongAttnDecoderRNN, self).__init__()\n",
        "\n",
        "        # Keep for reference\n",
        "        self.attn_model = attn_model\n",
        "        self.hidden_size = hidden_size\n",
        "        self.output_size = output_size\n",
        "        self.n_layers = n_layers\n",
        "        self.dropout = dropout\n",
        "\n",
        "        # Define layers\n",
        "        self.embedding = nn.Embedding(output_size, hidden_size)\n",
        "        self.embedding_dropout = nn.Dropout(dropout)\n",
        "        self.gru = nn.GRU(hidden_size, hidden_size, n_layers, dropout=dropout)\n",
        "        self.concat = nn.Linear(hidden_size * 2, hidden_size)\n",
        "        self.out = nn.Linear(hidden_size, output_size)\n",
        "        \n",
        "        # Choose attention model\n",
        "        if attn_model != 'none':\n",
        "            self.attn = Attn(attn_model, hidden_size)\n",
        "\n",
        "    def forward(self, input_seq, last_hidden, encoder_outputs):\n",
        "        # Note: we run this one step at a time\n",
        "\n",
        "        # Get the embedding of the current input word (last output word)\n",
        "        batch_size = input_seq.size(0)\n",
        "        embedded = self.embedding(input_seq)\n",
        "        embedded = self.embedding_dropout(embedded)\n",
        "        embedded = embedded.view(1, batch_size, self.hidden_size) # S=1 x B x N\n",
        "\n",
        "        # Get current hidden state from input word and last hidden state\n",
        "        rnn_output, hidden = self.gru(embedded, last_hidden)\n",
        "\n",
        "        # Calculate attention from current RNN state and all encoder outputs;\n",
        "        # apply to encoder outputs to get weighted average\n",
        "        attn_weights = self.attn(rnn_output, encoder_outputs)\n",
        "        context = attn_weights.bmm(encoder_outputs.transpose(0, 1)) # B x S=1 x N\n",
        "\n",
        "        # Attentional vector using the RNN hidden state and context vector\n",
        "        # concatenated together (Luong eq. 5)\n",
        "        rnn_output = rnn_output.squeeze(0) # S=1 x B x N -> B x N\n",
        "        context = context.squeeze(1)       # B x S=1 x N -> B x N\n",
        "        concat_input = torch.cat((rnn_output, context), 1)\n",
        "        concat_output = F.tanh(self.concat(concat_input))\n",
        "\n",
        "        # Finally predict next token (Luong eq. 6, without softmax)\n",
        "        output = self.out(concat_output)\n",
        "\n",
        "        # Return final output, hidden state, and attention weights (for visualization)\n",
        "        return output, hidden, attn_weights"
      ],
      "execution_count": 0,
      "outputs": []
    },
    {
      "metadata": {
        "id": "4GlQFiBXjM_W",
        "colab_type": "text"
      },
      "cell_type": "markdown",
      "source": [
        "## Testowanie modeli\n",
        "\n",
        "Aby upewnić się, że moduły enkodera i dekodera działają (i współpracują ze sobą), wykonamy pełny test przy pomocy małej partii."
      ]
    },
    {
      "metadata": {
        "id": "1Jl3G8A3jM_W",
        "colab_type": "code",
        "colab": {
          "autoexec": {
            "startup": false,
            "wait_interval": 0
          },
          "base_uri": "https://localhost:8080/",
          "height": 51
        },
        "outputId": "b429c793-4c78-4999-88c9-c74d19a0f348",
        "executionInfo": {
          "status": "ok",
          "timestamp": 1525693677221,
          "user_tz": -120,
          "elapsed": 680,
          "user": {
            "displayName": "Wojtek Czarnowski",
            "photoUrl": "//lh6.googleusercontent.com/-Sx8k456RbyI/AAAAAAAAAAI/AAAAAAAAEig/wmURGqbv_J8/s50-c-k-no/photo.jpg",
            "userId": "115130698336476923651"
          }
        }
      },
      "cell_type": "code",
      "source": [
        "small_batch_size = 3\n",
        "input_batches, input_lengths, target_batches, target_lengths = random_batch(small_batch_size)\n",
        "\n",
        "print('input_batches', input_batches.size()) # (max_len x batch_size)\n",
        "print('target_batches', target_batches.size()) # (max_len x batch_size)"
      ],
      "execution_count": 0,
      "outputs": [
        {
          "output_type": "stream",
          "text": [
            "input_batches torch.Size([6, 3])\n",
            "target_batches torch.Size([7, 3])\n"
          ],
          "name": "stdout"
        }
      ]
    },
    {
      "metadata": {
        "id": "eFNjmpOZjM_Z",
        "colab_type": "text"
      },
      "cell_type": "markdown",
      "source": [
        "Twórz modele o małym rozmiarze (można je kontrolować wzrokowo):"
      ]
    },
    {
      "metadata": {
        "id": "nS0S6358jM_c",
        "colab_type": "code",
        "colab": {
          "autoexec": {
            "startup": false,
            "wait_interval": 0
          }
        }
      },
      "cell_type": "code",
      "source": [
        "small_hidden_size = 8\n",
        "small_n_layers = 2\n",
        "\n",
        "encoder_test = EncoderRNN(input_lang.n_words, small_hidden_size, small_n_layers)\n",
        "decoder_test = LuongAttnDecoderRNN('general', small_hidden_size, output_lang.n_words, small_n_layers)\n",
        "\n",
        "if USE_CUDA:\n",
        "    encoder_test.cuda()\n",
        "    decoder_test.cuda()"
      ],
      "execution_count": 0,
      "outputs": []
    },
    {
      "metadata": {
        "id": "yJLRqxZQjM_g",
        "colab_type": "text"
      },
      "cell_type": "markdown",
      "source": [
        "Aby przetestować koder, przeprowadź wsad wejściowy, aby uzyskać poszczególne wyjścia kodera:"
      ]
    },
    {
      "metadata": {
        "id": "_biyc0SPjM_h",
        "colab_type": "code",
        "colab": {
          "autoexec": {
            "startup": false,
            "wait_interval": 0
          },
          "base_uri": "https://localhost:8080/",
          "height": 51
        },
        "outputId": "31da2c7f-ab9e-454a-b003-cc803836de53",
        "executionInfo": {
          "status": "ok",
          "timestamp": 1525693682902,
          "user_tz": -120,
          "elapsed": 742,
          "user": {
            "displayName": "Wojtek Czarnowski",
            "photoUrl": "//lh6.googleusercontent.com/-Sx8k456RbyI/AAAAAAAAAAI/AAAAAAAAEig/wmURGqbv_J8/s50-c-k-no/photo.jpg",
            "userId": "115130698336476923651"
          }
        }
      },
      "cell_type": "code",
      "source": [
        "encoder_outputs, encoder_hidden = encoder_test(input_batches, input_lengths, None)\n",
        "\n",
        "print('encoder_outputs', encoder_outputs.size()) # max_len x batch_size x hidden_size\n",
        "print('encoder_hidden', encoder_hidden.size()) # n_layers * 2 x batch_size x hidden_size"
      ],
      "execution_count": 0,
      "outputs": [
        {
          "output_type": "stream",
          "text": [
            "encoder_outputs torch.Size([6, 3, 8])\n",
            "encoder_hidden torch.Size([4, 3, 8])\n"
          ],
          "name": "stdout"
        }
      ]
    },
    {
      "metadata": {
        "id": "ambBXpSVjM_m",
        "colab_type": "text"
      },
      "cell_type": "markdown",
      "source": [
        "Następnie zaczynając od tokena SOS, uruchamiaj tokeny słowne przez dekoder, aby uzyskać każdy następny token słowa. Zamiast robić to z całą sekwencją, robi się to po jednym na raz, aby wspierać używanie własnych przewidywań do wykonania następnej prognozy. Będzie to jednorazowy krok w danym momencie, ale w porcjach na czas. Aby to zadziałało w przypadku krótkich sekwencji, wielkość partii będzie się zmniejszać za każdym razem."
      ]
    },
    {
      "metadata": {
        "id": "j6Vc_e9fjM_n",
        "colab_type": "code",
        "colab": {
          "autoexec": {
            "startup": false,
            "wait_interval": 0
          },
          "base_uri": "https://localhost:8080/",
          "height": 34
        },
        "outputId": "1d7bc29c-de5d-4c52-ab0e-9bff916f25e8",
        "executionInfo": {
          "status": "ok",
          "timestamp": 1525693685952,
          "user_tz": -120,
          "elapsed": 737,
          "user": {
            "displayName": "Wojtek Czarnowski",
            "photoUrl": "//lh6.googleusercontent.com/-Sx8k456RbyI/AAAAAAAAAAI/AAAAAAAAEig/wmURGqbv_J8/s50-c-k-no/photo.jpg",
            "userId": "115130698336476923651"
          }
        }
      },
      "cell_type": "code",
      "source": [
        "max_target_length = max(target_lengths)\n",
        "\n",
        "# Prepare decoder input and outputs\n",
        "decoder_input = Variable(torch.LongTensor([SOS_token] * small_batch_size))\n",
        "decoder_hidden = encoder_hidden[:decoder_test.n_layers] # Use last (forward) hidden state from encoder\n",
        "all_decoder_outputs = Variable(torch.zeros(max_target_length, small_batch_size, decoder_test.output_size))\n",
        "\n",
        "if USE_CUDA:\n",
        "    all_decoder_outputs = all_decoder_outputs.cuda()\n",
        "    decoder_input = decoder_input.cuda()\n",
        "\n",
        "# Run through decoder one time step at a time\n",
        "for t in range(max_target_length):\n",
        "    decoder_output, decoder_hidden, decoder_attn = decoder_test(\n",
        "        decoder_input, decoder_hidden, encoder_outputs\n",
        "    )\n",
        "    all_decoder_outputs[t] = decoder_output # Store this step's outputs\n",
        "    decoder_input = target_batches[t] # Next input is current target\n",
        "\n",
        "# Test masked cross entropy loss\n",
        "loss = masked_cross_entropy(\n",
        "    all_decoder_outputs.transpose(0, 1).contiguous(),\n",
        "    target_batches.transpose(0, 1).contiguous(),\n",
        "    target_lengths\n",
        ")\n",
        "# print('loss', loss.data[0])\n",
        "print('loss', loss.item())"
      ],
      "execution_count": 0,
      "outputs": [
        {
          "output_type": "stream",
          "text": [
            "loss 7.458623886108398\n"
          ],
          "name": "stdout"
        }
      ]
    },
    {
      "metadata": {
        "id": "dXDizgVajM_p",
        "colab_type": "text"
      },
      "cell_type": "markdown",
      "source": [
        "# Trenowanie\n",
        "\n",
        "## Definiowanie iteracji treningu\n",
        "\n",
        "Aby ćwiczyć, najpierw uruchamiamy zdanie wejściowe za pomocą enkodera słowo po słowie i śledzimy każde wyjście i ostatni stan ukryty. Następnie dekoder otrzymuje ostatni ukryty stan dekodera jako swój pierwszy ukryty stan, a token \"<SOS>\" jako pierwsze wejście. Stąd przechodzimy do przepowiadania następnego tokena z dekodera.\n",
        "\n",
        "### \"Wymuszanie nauczycieli\" i planowe pobieranie próbek\n",
        "\n",
        "\"Wymuszanie nauczycieli\" lub pobieranie próbek o największej wiarygodności oznacza wykorzystanie rzeczywistych wyników docelowych jako każdego następnego wejścia podczas treningu. Alternatywą jest użycie własnego odgadnięcia przez dekoder jako następnego wejścia. Korzystanie z wymuszania nauczyciela może spowodować szybsze zbieganie się sieci, ale [kiedy wyszkolona sieć jest wykorzystywana, może wykazywać niestabilność](http://minds.jacobs-university.de/sites/default/files/uploads/papers/ESNTutorialRev.pdf).\n",
        "\n",
        "Możesz obserwować wyniki wymuszonych przez nauczyciela sieci, które czytają ze spójną gramatyką, ale oddalają się od prawidłowego tłumaczenia - możesz myśleć o tym, że nauczyłeś się słuchać instrukcji nauczyciela, nie ucząc się samodzielnego wyjścia.\n",
        "\n",
        "Rozwiązanie problemu \"wymuszania\" nauczyciela jest znane jako [Zaplanowane próbkowanie](https://arxiv.org/abs/1506.03099), które po prostu przełącza się między wartościami docelowymi i przewidywanymi wartościami podczas trenowania. My losowo wybieramy użycie wymuszania nauczyciela instrukcją if podczas treningu - czasami będziemy podawać rzeczywisty cel jako wejście (ignorując wyjście dekodera), czasami użyjemy wyjścia dekodera.\n"
      ]
    },
    {
      "metadata": {
        "id": "LkxmrG0GjM_q",
        "colab_type": "code",
        "colab": {
          "autoexec": {
            "startup": false,
            "wait_interval": 0
          }
        }
      },
      "cell_type": "code",
      "source": [
        "def train(input_batches, input_lengths, target_batches, target_lengths, encoder, decoder, encoder_optimizer, decoder_optimizer, criterion, max_length=MAX_LENGTH):\n",
        "    \n",
        "    # Zero gradients of both optimizers\n",
        "    encoder_optimizer.zero_grad()\n",
        "    decoder_optimizer.zero_grad()\n",
        "    loss = 0 # Added onto for each word\n",
        "\n",
        "    # Run words through encoder\n",
        "    encoder_outputs, encoder_hidden = encoder(input_batches, input_lengths, None)\n",
        "    \n",
        "    # Prepare input and output variables\n",
        "    decoder_input = Variable(torch.LongTensor([SOS_token] * batch_size))\n",
        "    decoder_hidden = encoder_hidden[:decoder.n_layers] # Use last (forward) hidden state from encoder\n",
        "\n",
        "    max_target_length = max(target_lengths)\n",
        "    all_decoder_outputs = Variable(torch.zeros(max_target_length, batch_size, decoder.output_size))\n",
        "\n",
        "    # Move new Variables to CUDA\n",
        "    if USE_CUDA:\n",
        "        decoder_input = decoder_input.cuda()\n",
        "        all_decoder_outputs = all_decoder_outputs.cuda()\n",
        "\n",
        "    # Run through decoder one time step at a time\n",
        "    for t in range(max_target_length):\n",
        "        decoder_output, decoder_hidden, decoder_attn = decoder(\n",
        "            decoder_input, decoder_hidden, encoder_outputs\n",
        "        )\n",
        "\n",
        "        all_decoder_outputs[t] = decoder_output\n",
        "        decoder_input = target_batches[t] # Next input is current target\n",
        "\n",
        "    # Loss calculation and backpropagation\n",
        "    loss = masked_cross_entropy(\n",
        "        all_decoder_outputs.transpose(0, 1).contiguous(), # -> batch x seq\n",
        "        target_batches.transpose(0, 1).contiguous(), # -> batch x seq\n",
        "        target_lengths\n",
        "    )\n",
        "    loss.backward()\n",
        "    \n",
        "    # Clip gradient norms\n",
        "#     ec = torch.nn.utils.clip_grad_norm(encoder.parameters(), clip)\n",
        "#     dc = torch.nn.utils.clip_grad_norm(decoder.parameters(), clip)\n",
        "    ec = torch.nn.utils.clip_grad_norm_(encoder.parameters(), clip)\n",
        "    dc = torch.nn.utils.clip_grad_norm_(decoder.parameters(), clip)\n",
        "\n",
        "    # Update parameters with optimizers\n",
        "    encoder_optimizer.step()\n",
        "    decoder_optimizer.step()\n",
        "    \n",
        "#     return loss.data[0], ec, dc\n",
        "    return loss.item(), ec, dc  "
      ],
      "execution_count": 0,
      "outputs": []
    },
    {
      "metadata": {
        "id": "fm2GZxu2jM_s",
        "colab_type": "text"
      },
      "cell_type": "markdown",
      "source": [
        "## Uruchamianie treningu\n",
        "\n",
        "Gdy wszystko jest gotowe, możemy zainicjować sieć i rozpocząć trening.\n",
        "\n",
        "Na początek uruchamiamy modele, optymalizatory i funkcję utraty (kryterium)."
      ]
    },
    {
      "metadata": {
        "id": "y8QsdydpjM_s",
        "colab_type": "code",
        "colab": {
          "autoexec": {
            "startup": false,
            "wait_interval": 0
          }
        }
      },
      "cell_type": "code",
      "source": [
        "# Configure models\n",
        "attn_model = 'dot'\n",
        "hidden_size = 500\n",
        "n_layers = 2\n",
        "dropout = 0.1\n",
        "batch_size = 50 # 1600  # 100\n",
        "# batch_size = 50\n",
        "\n",
        "# Configure training/optimization\n",
        "clip = 50.0\n",
        "teacher_forcing_ratio = 0.5\n",
        "learning_rate = 0.0001\n",
        "decoder_learning_ratio = 5.0\n",
        "n_epochs = 1000 # 50000\n",
        "epoch = 0\n",
        "plot_every = 10\n",
        "print_every = 50  # 100\n",
        "evaluate_every = 50 # 1000\n",
        "\n",
        "# Initialize models\n",
        "encoder = EncoderRNN(input_lang.n_words, hidden_size, n_layers, dropout=dropout)\n",
        "decoder = LuongAttnDecoderRNN(attn_model, hidden_size, output_lang.n_words, n_layers, dropout=dropout)\n",
        "\n",
        "# Initialize optimizers and criterion\n",
        "encoder_optimizer = optim.Adam(encoder.parameters(), lr=learning_rate)\n",
        "decoder_optimizer = optim.Adam(decoder.parameters(), lr=learning_rate * decoder_learning_ratio)\n",
        "criterion = nn.CrossEntropyLoss()\n",
        "\n",
        "# Move models to GPU\n",
        "if USE_CUDA:\n",
        "    encoder.cuda()\n",
        "    decoder.cuda()"
      ],
      "execution_count": 0,
      "outputs": []
    },
    {
      "metadata": {
        "id": "mEGr4sQnYXSG",
        "colab_type": "code",
        "colab": {
          "autoexec": {
            "startup": false,
            "wait_interval": 0
          }
        }
      },
      "cell_type": "code",
      "source": [
        "from torchnet.logger import VisdomPlotLogger, VisdomLogger, VisdomTextLogger\n",
        "from tqdm import tqdm\n",
        "import io\n",
        "import json\n",
        "\n",
        "# Start a job\n",
        "\n",
        "class Job:\n",
        "    def __init__(self, name, params={}, hostname='localhost', port=8890, n_epochs=10):\n",
        "        self.name = name\n",
        "        self.params = params\n",
        "        self.hostname = hostname\n",
        "        self.port = port\n",
        "        self.avg_train_loss_logger = VisdomPlotLogger(\n",
        "        'line', port=port, opts={'title': f'{name}_Train Loss'})\n",
        "        self.job_logger = VisdomTextLogger(port=port, opts={'title': f'{name}_Job Info'})\n",
        "        self.log_logger = VisdomTextLogger(port=port, opts={'title': f'{name}_Train Loss Log'}, update_type='APPEND')\n",
        "        self.pbar = tqdm(total=n_epochs, ncols=60, mininterval=1.0, ascii=True, file=io.StringIO())\n",
        "        self.progress_logger = VisdomTextLogger(port=port, opts=dict(title=f'{name}_Progress Bar',\n",
        "            width=500,\n",
        "            height=50,\n",
        "        ))\n",
        "\n",
        "        self.start()\n",
        "\n",
        "    def start(self):\n",
        "#         j = {'name': self.name, 'params': self.params, 'hostname': self.hostname}\n",
        "        j_str = json.dumps(self.params, indent=4)\n",
        "        j_str = j_str.replace('\\n', '<br/>\\n').replace(' ', '&nbsp;')\n",
        "        self.job_logger.log(f'{j_str}')\n",
        "\n",
        "        self.job_id = '#job_id'# body['id']\n",
        "        print(\"Starting job %s at %s\" % (self.job_id, time.strftime('%Y-%m-%d %H:%M:%S', time.localtime())))\n",
        "        self.start_time = time.time()\n",
        "\n",
        "        self.log_every = 50\n",
        "        self.plot_every = 50\n",
        "        self.loss_avg = 0\n",
        "\n",
        "    def stop(self, ):\n",
        "        j = {'status': 'done'}\n",
        "        print(j)\n",
        "\n",
        "    def log(self, l):\n",
        "        def time_since(since):\n",
        "            now = time.time()\n",
        "            s = now - since\n",
        "            m = math.floor(s / 60)\n",
        "            s -= m * 60\n",
        "            return '%dm %ds' % (m, s)\n",
        "        # print('[log] %s' % time_since(self.start_time), l)\n",
        "        self.log_logger.log(l)\n",
        "\n",
        "    def plot(self, x, y):\n",
        "        # print(f'[plot] ({x}, {y})')\n",
        "        self.avg_train_loss_logger.log(x, y)\n",
        "\n",
        "    def record(self, e, loss):\n",
        "        self.loss_avg += loss\n",
        "\n",
        "        if e > 0 and e % self.log_every == 0:\n",
        "            self.log('(%s) %.4f' % (e, loss))\n",
        "\n",
        "        if e > 0 and e % self.plot_every == 0:\n",
        "            self.plot(e, self.loss_avg / self.plot_every)\n",
        "            self.loss_avg = 0\n",
        "\n",
        "    def update_progress(self, ):\n",
        "        self.pbar.update(1)\n",
        "        text = f'{self.pbar}'.replace(' ', '<font color=\"white\">#</font>')\n",
        "        self.progress_logger.log(text)"
      ],
      "execution_count": 0,
      "outputs": []
    },
    {
      "metadata": {
        "id": "N2cXAJPC-Epg",
        "colab_type": "code",
        "colab": {
          "autoexec": {
            "startup": false,
            "wait_interval": 0
          },
          "base_uri": "https://localhost:8080/",
          "height": 34
        },
        "outputId": "3d0a8f26-5783-40ef-c1e5-757d116af3d7",
        "executionInfo": {
          "status": "ok",
          "timestamp": 1525694418903,
          "user_tz": -120,
          "elapsed": 605,
          "user": {
            "displayName": "Wojtek Czarnowski",
            "photoUrl": "//lh6.googleusercontent.com/-Sx8k456RbyI/AAAAAAAAAAI/AAAAAAAAEig/wmURGqbv_J8/s50-c-k-no/photo.jpg",
            "userId": "115130698336476923651"
          }
        }
      },
      "cell_type": "code",
      "source": [
        "# import sconce\n",
        "# job = sconce.Job('seq2seq-translate', {\n",
        "job = Job('seq2seq-translate', {\n",
        "    'attn_model': attn_model,\n",
        "    'n_layers': n_layers,\n",
        "    'dropout': dropout,\n",
        "    'hidden_size': hidden_size,\n",
        "    'learning_rate': learning_rate,\n",
        "    'clip': clip,\n",
        "    'teacher_forcing_ratio': teacher_forcing_ratio,\n",
        "    'decoder_learning_ratio': decoder_learning_ratio,\n",
        "}, n_epochs=n_epochs)\n",
        "job.plot_every = plot_every\n",
        "job.log_every = print_every\n",
        "\n",
        "# Keep track of time elapsed and running averages\n",
        "start = time.time()\n",
        "plot_losses = []\n",
        "print_loss_total = 0 # Reset every print_every\n",
        "plot_loss_total = 0 # Reset every plot_every\n",
        "\n",
        "import visdom\n",
        "\n",
        "vis = visdom.Visdom(port=job.port)"
      ],
      "execution_count": 0,
      "outputs": [
        {
          "output_type": "stream",
          "text": [
            "Starting job #job_id at 2018-05-07 12:00:18\n"
          ],
          "name": "stdout"
        }
      ]
    },
    {
      "metadata": {
        "id": "MDT8rrLFjM_u",
        "colab_type": "code",
        "colab": {
          "autoexec": {
            "startup": false,
            "wait_interval": 0
          }
        }
      },
      "cell_type": "code",
      "source": [
        "def as_minutes(s):\n",
        "    m = math.floor(s / 60)\n",
        "    s -= m * 60\n",
        "    return '%dm %ds' % (m, s)\n",
        "\n",
        "def time_since(since, percent):\n",
        "    now = time.time()\n",
        "    s = now - since\n",
        "    es = s / (percent)\n",
        "    rs = es - s\n",
        "    return '%s (- %s)' % (as_minutes(s), as_minutes(rs))"
      ],
      "execution_count": 0,
      "outputs": []
    },
    {
      "metadata": {
        "id": "vMjoLgjRjM_v",
        "colab_type": "text"
      },
      "cell_type": "markdown",
      "source": [
        "# Ewaluacja sieci\n",
        "\n",
        "Ewaluacja jest w większości taka sama jak w przypadku treningu, ale nie ma żadnych wyników. Zamiast tego zawsze podajemy prognozy dekodera z powrotem do siebie. Za każdym razem, gdy przewiduje słowo, dodajemy je do ciągu wyjściowego. Jeśli przewiduje to token EOS, zatrzymujemy się tam. Przechowujemy także wyniki uwagi dekodera dla każdego kroku, aby wyświetlić później.\n"
      ]
    },
    {
      "metadata": {
        "id": "cZyepm7XjM_v",
        "colab_type": "code",
        "colab": {
          "autoexec": {
            "startup": false,
            "wait_interval": 0
          },
          "base_uri": "https://localhost:8080/",
          "height": 71
        },
        "outputId": "57c71af0-b88c-4a96-85ce-02919fcf156f",
        "executionInfo": {
          "status": "ok",
          "timestamp": 1525694021482,
          "user_tz": -120,
          "elapsed": 633,
          "user": {
            "displayName": "Wojtek Czarnowski",
            "photoUrl": "//lh6.googleusercontent.com/-Sx8k456RbyI/AAAAAAAAAAI/AAAAAAAAEig/wmURGqbv_J8/s50-c-k-no/photo.jpg",
            "userId": "115130698336476923651"
          }
        }
      },
      "cell_type": "code",
      "source": [
        "def evaluate(input_seq, max_length=MAX_LENGTH):\n",
        "    # https://github.com/spro/practical-pytorch/issues/95\n",
        "    # input_lengths = [len(input_seq)]\n",
        "    \n",
        "    # UserWarning: volatile was removed and now has no effect. Use `with torch.no_grad():` instead.\n",
        "    # https://discuss.pytorch.org/t/torch-no-grad/12296\n",
        "    \n",
        "    input_seqs = [indexes_from_sentence(input_lang, input_seq)]\n",
        "    input_lengths = [len(input_seqs[0])]\n",
        "\n",
        "    # input_batches = Variable(torch.LongTensor(input_seqs), volatile=True).transpose(0, 1)\n",
        "    input_batches = Variable(torch.LongTensor(input_seqs)).transpose(0, 1)\n",
        "\n",
        "    if USE_CUDA:\n",
        "        input_batches = input_batches.cuda()\n",
        "\n",
        "    # Set to not-training mode to disable dropout\n",
        "    encoder.train(False)\n",
        "    decoder.train(False)\n",
        "\n",
        "    # Run through encoder\n",
        "    with torch.no_grad():\n",
        "        encoder_outputs, encoder_hidden = encoder(input_batches, input_lengths, None)\n",
        "\n",
        "    # Create starting vectors for decoder\n",
        "    # decoder_input = Variable(torch.LongTensor([SOS_token]), volatile=True) # SOS\n",
        "    decoder_input = Variable(torch.LongTensor([SOS_token])) # SOS\n",
        "    decoder_hidden = encoder_hidden[:decoder.n_layers] # Use last (forward) hidden state from encoder\n",
        "\n",
        "    if USE_CUDA:\n",
        "        decoder_input = decoder_input.cuda()\n",
        "\n",
        "    # Store output words and attention states\n",
        "    decoded_words = []\n",
        "    decoder_attentions = torch.zeros(max_length + 1, max_length + 1)\n",
        "\n",
        "    # Run through decoder\n",
        "    for di in range(max_length):\n",
        "        with torch.no_grad():\n",
        "            decoder_output, decoder_hidden, decoder_attention = decoder(\n",
        "                decoder_input, decoder_hidden, encoder_outputs\n",
        "            )\n",
        "        decoder_attentions[di,:decoder_attention.size(2)] += decoder_attention.squeeze(0).squeeze(0).cpu().data\n",
        "\n",
        "        # Choose top word from output\n",
        "        topv, topi = decoder_output.data.topk(1)\n",
        "        ni = topi[0][0]\n",
        "        if ni == EOS_token:\n",
        "            decoded_words.append('<EOS>')\n",
        "            break\n",
        "        else:\n",
        "            decoded_words.append(output_lang.index2word[ni.item()])\n",
        "\n",
        "        # Next input is chosen word\n",
        "        decoder_input = Variable(torch.LongTensor([ni]))\n",
        "        if USE_CUDA: decoder_input = decoder_input.cuda()\n",
        "\n",
        "    # Set back to training mode\n",
        "    encoder.train(True)\n",
        "    decoder.train(True)\n",
        "    \n",
        "    return decoded_words, decoder_attentions[:di+1, :len(encoder_outputs)]"
      ],
      "execution_count": 0,
      "outputs": [
        {
          "output_type": "stream",
          "text": [
            "/usr/local/lib/python3.6/dist-packages/tqdm/_monitor.py:89: TqdmSynchronisationWarning: Set changed size during iteration (see https://github.com/tqdm/tqdm/issues/481)\n",
            "  TqdmSynchronisationWarning)\n"
          ],
          "name": "stderr"
        }
      ]
    },
    {
      "metadata": {
        "id": "kyY9aX0mjM_y",
        "colab_type": "text"
      },
      "cell_type": "markdown",
      "source": [
        "Możemy oceniać losowe zdania z zestawu treningowego i drukować dane wejściowe, docelowe i wyjściowe w celu dokonania subiektywnej oceny jakości:"
      ]
    },
    {
      "metadata": {
        "id": "CpGS1t6AjM_z",
        "colab_type": "code",
        "colab": {
          "autoexec": {
            "startup": false,
            "wait_interval": 0
          }
        }
      },
      "cell_type": "code",
      "source": [
        "def evaluate_randomly():\n",
        "    [input_sentence, target_sentence] = random.choice(pairs)\n",
        "    evaluate_and_show_attention(input_sentence, target_sentence)"
      ],
      "execution_count": 0,
      "outputs": []
    },
    {
      "metadata": {
        "id": "MVBji1kAjM_1",
        "colab_type": "text"
      },
      "cell_type": "markdown",
      "source": [
        "# Wizualizacja atencji\n",
        "\n",
        "Użyteczną właściwością mechanizmu atencji są jego wysoce interpretowalne wyniki. Ponieważ jest on używany do ważenia określonych wyjść kodera sekwencji wejściowej, możemy sobie wyobrazić, gdzie najlepiej jest skupić się w sieci na każdym kroku.\n",
        "\n",
        "Możesz po prostu uruchomić `plt.matshow(attentions)`, aby zobaczyć wyniki atencji wyświetlane jako matryca, z kolumnami będącymi krokami wejściowymi i wierszami będącymi krokami wyjściowymi:"
      ]
    },
    {
      "metadata": {
        "id": "73IB60mJjM_1",
        "colab_type": "code",
        "colab": {
          "autoexec": {
            "startup": false,
            "wait_interval": 0
          }
        }
      },
      "cell_type": "code",
      "source": [
        "import io\n",
        "import torchvision\n",
        "from PIL import Image"
      ],
      "execution_count": 0,
      "outputs": []
    },
    {
      "metadata": {
        "id": "-M099fekjM_3",
        "colab_type": "text"
      },
      "cell_type": "markdown",
      "source": [
        "Aby uzyskać lepsze wrażenia wizualne, wykonamy dodatkową pracę dodawania osi i etykiet:"
      ]
    },
    {
      "metadata": {
        "id": "vM8VYNy5d-BX",
        "colab_type": "code",
        "colab": {
          "autoexec": {
            "startup": false,
            "wait_interval": 0
          }
        }
      },
      "cell_type": "code",
      "source": [
        "def show_plot_visdom():\n",
        "    buf = io.BytesIO()\n",
        "    plt.savefig(buf)\n",
        "    buf.seek(0)\n",
        "    attn_win = 'attention (%s)' % hostname\n",
        "    vis.image(torchvision.transforms.ToTensor()(Image.open(buf)), win=attn_win, opts={'title': attn_win})"
      ],
      "execution_count": 0,
      "outputs": []
    },
    {
      "metadata": {
        "id": "bjgNvhWrjM_3",
        "colab_type": "code",
        "colab": {
          "autoexec": {
            "startup": false,
            "wait_interval": 0
          }
        }
      },
      "cell_type": "code",
      "source": [
        "def show_attention(input_sentence, output_words, attentions):\n",
        "    mpl.style.use('default')\n",
        "    # Set up figure with colorbar\n",
        "    fig = plt.figure()\n",
        "    ax = fig.add_subplot(111)    \n",
        "    cax = ax.matshow(attentions.numpy(), cmap='jet') # cmap='bone')\n",
        "    fig.colorbar(cax)\n",
        "\n",
        "    # Set up axes\n",
        "    ax.set_xticklabels([''] + input_sentence.split(' ') + ['<EOS>'], rotation=90)\n",
        "    ax.set_yticklabels([''] + output_words)\n",
        "\n",
        "    # Show label at every tick\n",
        "    ax.xaxis.set_major_locator(ticker.MultipleLocator(1))\n",
        "    ax.yaxis.set_major_locator(ticker.MultipleLocator(1))\n",
        "\n",
        "    show_plot_visdom()\n",
        "    plt.show()\n",
        "    plt.close()"
      ],
      "execution_count": 0,
      "outputs": []
    },
    {
      "metadata": {
        "id": "46Dts5BjjM_5",
        "colab_type": "code",
        "colab": {
          "autoexec": {
            "startup": false,
            "wait_interval": 0
          }
        }
      },
      "cell_type": "code",
      "source": [
        "def evaluate_and_show_attention(input_sentence, target_sentence=None):\n",
        "    output_words, attentions = evaluate(input_sentence)\n",
        "    output_sentence = ' '.join(output_words)\n",
        "    print('>', input_sentence)\n",
        "    if target_sentence is not None:\n",
        "        print('=', target_sentence)\n",
        "    print('<', output_sentence)\n",
        "    \n",
        "    show_attention(input_sentence, output_words, attentions)\n",
        "    \n",
        "    # Show input, target, output text in visdom\n",
        "    win = 'evaluted (%s)' % hostname\n",
        "    text = '<p>&gt; %s</p><p>= %s</p><p>&lt; %s</p>' % (input_sentence, target_sentence, output_sentence)\n",
        "    vis.text(text, win=win, opts={'title': win})"
      ],
      "execution_count": 0,
      "outputs": []
    },
    {
      "metadata": {
        "id": "4-BmvDLCjM_6",
        "colab_type": "text"
      },
      "cell_type": "markdown",
      "source": [
        "#Kładąc wszystko razem\n",
        "\n",
        "**TODO** Uruchamia `train_epochs` dla `n_epochs`"
      ]
    },
    {
      "metadata": {
        "id": "od07gsWkjM_7",
        "colab_type": "text"
      },
      "cell_type": "markdown",
      "source": [
        "Żeby przeprowadziwy właściwy trening, wielokrotnie wywołujemy funkcję treningową.\n"
      ]
    },
    {
      "metadata": {
        "id": "0ahWiXo5jM_7",
        "colab_type": "code",
        "colab": {
          "autoexec": {
            "startup": false,
            "wait_interval": 0
          },
          "base_uri": "https://localhost:8080/",
          "height": 1640
        },
        "outputId": "db42fd80-c6b2-4c76-c9d7-ba254da12a91"
      },
      "cell_type": "code",
      "source": [
        "# Begin!\n",
        "ecs = []\n",
        "dcs = []\n",
        "eca = 0\n",
        "dca = 0\n",
        "\n",
        "while epoch < n_epochs:\n",
        "    epoch += 1\n",
        "    \n",
        "    # Get training data for this cycle\n",
        "    input_batches, input_lengths, target_batches, target_lengths = random_batch(batch_size)\n",
        "\n",
        "    # Run the train function\n",
        "    loss, ec, dc = train(\n",
        "        input_batches, input_lengths, target_batches, target_lengths,\n",
        "        encoder, decoder,\n",
        "        encoder_optimizer, decoder_optimizer, criterion\n",
        "    )\n",
        "\n",
        "    # Keep track of loss\n",
        "    print_loss_total += loss\n",
        "    plot_loss_total += loss\n",
        "    eca += ec\n",
        "    dca += dc\n",
        "    \n",
        "    job.record(epoch, loss)\n",
        "    job.update_progress()\n",
        "\n",
        "    if epoch % print_every == 0:\n",
        "        print(f'{job.pbar}')\n",
        "        print_loss_avg = print_loss_total / print_every\n",
        "        print_loss_total = 0\n",
        "        print_summary = '%s (%d %d%%) %.4f' % (time_since(start, epoch / n_epochs), epoch, epoch / n_epochs * 100, print_loss_avg)\n",
        "        print(print_summary)\n",
        "        \n",
        "    if epoch % evaluate_every == 0:\n",
        "        evaluate_randomly()\n",
        "\n",
        "    if epoch % plot_every == 0:\n",
        "        plot_loss_avg = plot_loss_total / plot_every\n",
        "        plot_losses.append(plot_loss_avg)\n",
        "        plot_loss_total = 0\n",
        "        \n",
        "        # TODO: Running average helper\n",
        "        ecs.append(eca / plot_every)\n",
        "        dcs.append(dca / plot_every)\n",
        "        ecs_win = 'encoder grad (%s)' % hostname\n",
        "        dcs_win = 'decoder grad (%s)' % hostname\n",
        "        vis.line(np.array(ecs), win=ecs_win, opts={'title': ecs_win})\n",
        "        vis.line(np.array(dcs), win=dcs_win, opts={'title': dcs_win})\n",
        "        eca = 0\n",
        "        dca = 0"
      ],
      "execution_count": 0,
      "outputs": [
        {
          "output_type": "stream",
          "text": [
            "/usr/local/lib/python3.6/dist-packages/tqdm/_monitor.py:89: TqdmSynchronisationWarning: Set changed size during iteration (see https://github.com/tqdm/tqdm/issues/481)\n",
            "  TqdmSynchronisationWarning)\n"
          ],
          "name": "stderr"
        },
        {
          "output_type": "stream",
          "text": [
            "  5%|#                    | 50/1000 [02:28<37:59,  2.40s/it]\n",
            "2m 28s (- 46m 57s) (50 5%) 4.4833\n",
            "> hey , thanks a lot .\n",
            "= hej , wielkie dzięki .\n",
            "< nie nie nie . <EOS>\n"
          ],
          "name": "stdout"
        },
        {
          "output_type": "display_data",
          "data": {
            "image/png": "[encoded data removed]",
            "text/plain": [
              "<matplotlib.figure.Figure at 0x7fae41d899b0>"
            ]
          },
          "metadata": {
            "tags": []
          }
        },
        {
          "output_type": "stream",
          "text": [
            " 10%|##                  | 100/1000 [04:30<38:09,  2.54s/it]\n",
            "4m 30s (- 40m 34s) (100 10%) 3.5696\n",
            "> i don't quite know yet .\n",
            "= jeszcze nie bardzo wiem .\n",
            "< nie nie nie nie nie nie nie . <EOS>\n"
          ],
          "name": "stdout"
        },
        {
          "output_type": "display_data",
          "data": {
            "image/png": "[encoded data removed]",
            "text/plain": [
              "<matplotlib.figure.Figure at 0x7fae41b17e48>"
            ]
          },
          "metadata": {
            "tags": []
          }
        },
        {
          "output_type": "stream",
          "text": [
            " 15%|###                 | 150/1000 [06:31<35:54,  2.54s/it]\n",
            "6m 31s (- 37m 0s) (150 15%) 3.1662\n",
            "> what will you do ?\n",
            "= co pan zrobi ?\n",
            "< co co pan ? <EOS>\n"
          ],
          "name": "stdout"
        },
        {
          "output_type": "display_data",
          "data": {
            "image/png": "[encoded data removed]",
            "text/plain": [
              "<matplotlib.figure.Figure at 0x7fae41a3fba8>"
            ]
          },
          "metadata": {
            "tags": []
          }
        }
      ]
    },
    {
      "metadata": {
        "id": "YpEnUGovjNAA",
        "colab_type": "text"
      },
      "cell_type": "markdown",
      "source": [
        "## Wyrysowywanie strat treningowych\n",
        "\n",
        "Wykreślanie odbywa się za pomocą matplotlib, przy użyciu macierzy `plot_losses`, która została utworzona podczas treningu.\n"
      ]
    },
    {
      "metadata": {
        "id": "E4uxpB9ljNAB",
        "colab_type": "code",
        "colab": {
          "autoexec": {
            "startup": false,
            "wait_interval": 0
          },
          "base_uri": "https://localhost:8080/",
          "height": 450
        },
        "outputId": "a3a38cff-f32d-4a48-bccb-bf76b27332b2",
        "executionInfo": {
          "status": "ok",
          "timestamp": 1525694357743,
          "user_tz": -120,
          "elapsed": 714,
          "user": {
            "displayName": "Wojtek Czarnowski",
            "photoUrl": "//lh6.googleusercontent.com/-Sx8k456RbyI/AAAAAAAAAAI/AAAAAAAAEig/wmURGqbv_J8/s50-c-k-no/photo.jpg",
            "userId": "115130698336476923651"
          }
        }
      },
      "cell_type": "code",
      "source": [
        "def show_plot(points):\n",
        "    plt.figure()\n",
        "    fig, ax = plt.subplots()\n",
        "    loc = ticker.MultipleLocator(base=0.2) # put ticks at regular intervals\n",
        "    ax.yaxis.set_major_locator(loc)\n",
        "    plt.plot(points)\n",
        "\n",
        "show_plot(plot_losses)"
      ],
      "execution_count": 0,
      "outputs": [
        {
          "output_type": "display_data",
          "data": {
            "text/plain": [
              "<matplotlib.figure.Figure at 0x7fae42035390>"
            ]
          },
          "metadata": {
            "tags": []
          }
        },
        {
          "output_type": "display_data",
          "data": {
            "image/png": "[encoded data removed]",
            "text/plain": [
              "<matplotlib.figure.Figure at 0x7fae420359b0>"
            ]
          },
          "metadata": {
            "tags": []
          }
        }
      ]
    },
    {
      "metadata": {
        "id": "TQFXl0RuYXSs",
        "colab_type": "code",
        "colab": {
          "autoexec": {
            "startup": false,
            "wait_interval": 0
          },
          "base_uri": "https://localhost:8080/",
          "height": 187
        },
        "outputId": "418346de-43ef-424c-e357-73923e1a1ad4",
        "executionInfo": {
          "status": "ok",
          "timestamp": 1525694358451,
          "user_tz": -120,
          "elapsed": 586,
          "user": {
            "displayName": "Wojtek Czarnowski",
            "photoUrl": "//lh6.googleusercontent.com/-Sx8k456RbyI/AAAAAAAAAAI/AAAAAAAAEig/wmURGqbv_J8/s50-c-k-no/photo.jpg",
            "userId": "115130698336476923651"
          }
        }
      },
      "cell_type": "code",
      "source": [
        "xxx=[print(random.choice(pairs)) for i in range(10)]"
      ],
      "execution_count": 0,
      "outputs": [
        {
          "output_type": "stream",
          "text": [
            "['it was horrible .', 'to było straszne .']\n",
            "[\"you're a woman .\", 'jesteś kobietą .']\n",
            "['tom walked home .', 'tom przyszedł do domu .']\n",
            "['i just want to help .', 'po prostu chcę pomóc .']\n",
            "['take over .', 'przejąć .']\n",
            "[\"no , i didn't go .\", 'nie , nie poszedłem .']\n",
            "['who is that boy ?', 'kim jest ten chłopak ?']\n",
            "[\"i'm very sorry .\", 'jest mi bardzo przykro .']\n",
            "['i love this game .', 'uwielbiam tę grę .']\n",
            "['i really want to leave .', 'naprawdę chcę wyjść .']\n"
          ],
          "name": "stdout"
        }
      ]
    },
    {
      "metadata": {
        "id": "vQoeHfjfjNAC",
        "colab_type": "code",
        "colab": {
          "autoexec": {
            "startup": false,
            "wait_interval": 0
          },
          "base_uri": "https://localhost:8080/",
          "height": 436
        },
        "outputId": "b3fd14e8-1797-4f11-eead-9b5363485197",
        "executionInfo": {
          "status": "ok",
          "timestamp": 1525694367692,
          "user_tz": -120,
          "elapsed": 1212,
          "user": {
            "displayName": "Wojtek Czarnowski",
            "photoUrl": "//lh6.googleusercontent.com/-Sx8k456RbyI/AAAAAAAAAAI/AAAAAAAAEig/wmURGqbv_J8/s50-c-k-no/photo.jpg",
            "userId": "115130698336476923651"
          }
        }
      },
      "cell_type": "code",
      "source": [
        "output_words, attentions = evaluate(\"it's time for lunch .\")\n",
        "plt.matshow(attentions.numpy())\n",
        "show_plot_visdom()"
      ],
      "execution_count": 0,
      "outputs": [
        {
          "output_type": "display_data",
          "data": {
            "image/png": "[encoded data removed]",
            "text/plain": [
              "<matplotlib.figure.Figure at 0x7fae4203b7b8>"
            ]
          },
          "metadata": {
            "tags": []
          }
        }
      ]
    },
    {
      "metadata": {
        "id": "yt5xbOUMYXSy",
        "colab_type": "raw"
      },
      "cell_type": "markdown",
      "source": [
        "['i failed after all .', 'nie udało mi się jednak .']\n",
        "['i like you very much .', 'bardzo cię lubię .']\n",
        "[\"i can't leave .\", 'nie mogę wyjść .']\n",
        "['i feel very good .', 'czuję się bardzo dobrze .']\n",
        "[\"we've been here an hour .\", 'jesteśmy tutaj godzinę .']\n",
        "[\"i don't like it .\", 'nie lubię tego .']\n",
        "['tom likes boston .', 'tom lubi boston .']\n",
        "['that works .', 'to działa .']\n",
        "['i will try it again .', 'spróbuję ponownie .']\n",
        "['tom drank some beer .', 'tom wypił piwo .']"
      ]
    },
    {
      "metadata": {
        "id": "Mb-wKK0yjNAE",
        "colab_type": "code",
        "colab": {
          "autoexec": {
            "startup": false,
            "wait_interval": 0
          },
          "base_uri": "https://localhost:8080/",
          "height": 527
        },
        "outputId": "3667f910-b880-4b8f-8fe1-8d819d54b6cc",
        "executionInfo": {
          "status": "ok",
          "timestamp": 1525694373607,
          "user_tz": -120,
          "elapsed": 1002,
          "user": {
            "displayName": "Wojtek Czarnowski",
            "photoUrl": "//lh6.googleusercontent.com/-Sx8k456RbyI/AAAAAAAAAAI/AAAAAAAAEig/wmURGqbv_J8/s50-c-k-no/photo.jpg",
            "userId": "115130698336476923651"
          }
        }
      },
      "cell_type": "code",
      "source": [
        "evaluate_and_show_attention('i failed after all .', 'nie udało mi się jednak .')"
      ],
      "execution_count": 0,
      "outputs": [
        {
          "output_type": "stream",
          "text": [
            "> i failed after all .\n",
            "= nie udało mi się jednak .\n",
            "< nie nie nie dużo . <EOS>\n"
          ],
          "name": "stdout"
        },
        {
          "output_type": "display_data",
          "data": {
            "image/png": "[encoded data removed]",
            "text/plain": [
              "<matplotlib.figure.Figure at 0x7fae41ef1e80>"
            ]
          },
          "metadata": {
            "tags": []
          }
        }
      ]
    },
    {
      "metadata": {
        "id": "MjIOvXDajNAG",
        "colab_type": "code",
        "colab": {
          "autoexec": {
            "startup": false,
            "wait_interval": 0
          },
          "base_uri": "https://localhost:8080/",
          "height": 527
        },
        "outputId": "7ea18695-dbc5-4330-ff8d-7b5bdaa07ad4",
        "executionInfo": {
          "status": "ok",
          "timestamp": 1525694388434,
          "user_tz": -120,
          "elapsed": 1557,
          "user": {
            "displayName": "Wojtek Czarnowski",
            "photoUrl": "//lh6.googleusercontent.com/-Sx8k456RbyI/AAAAAAAAAAI/AAAAAAAAEig/wmURGqbv_J8/s50-c-k-no/photo.jpg",
            "userId": "115130698336476923651"
          }
        }
      },
      "cell_type": "code",
      "source": [
        "evaluate_and_show_attention('i like you very much .', 'bardzo cię lubię .')"
      ],
      "execution_count": 0,
      "outputs": [
        {
          "output_type": "stream",
          "text": [
            "> i like you very much .\n",
            "= bardzo cię lubię .\n",
            "< nie nie nie nie w . <EOS>\n"
          ],
          "name": "stdout"
        },
        {
          "output_type": "display_data",
          "data": {
            "image/png": "[encoded data removed]",
            "text/plain": [
              "<matplotlib.figure.Figure at 0x7fae41ae9898>"
            ]
          },
          "metadata": {
            "tags": []
          }
        }
      ]
    },
    {
      "metadata": {
        "id": "KygYF6nwjNAH",
        "colab_type": "code",
        "colab": {
          "autoexec": {
            "startup": false,
            "wait_interval": 0
          }
        },
        "outputId": "6804035f-6a49-47fc-da7c-d906b8270fd8"
      },
      "cell_type": "code",
      "source": [
        "evaluate_and_show_attention(\"i can't leave .\", 'nie mogę wyjść .')"
      ],
      "execution_count": 0,
      "outputs": [
        {
          "output_type": "stream",
          "text": [
            "> i can't leave .\n",
            "= nie mogę wyjść .\n",
            "< nie mogę wyjść . <EOS>\n"
          ],
          "name": "stdout"
        },
        {
          "output_type": "display_data",
          "data": {
            "image/png": "[encoded data removed]",
            "text/plain": [
              "<Figure size 640x480 with 2 Axes>"
            ]
          },
          "metadata": {
            "tags": []
          }
        }
      ]
    },
    {
      "metadata": {
        "id": "2hL33p-mjNAK",
        "colab_type": "code",
        "colab": {
          "autoexec": {
            "startup": false,
            "wait_interval": 0
          }
        },
        "outputId": "e0f9e12a-3e21-44ab-9dba-4937ea9ef271"
      },
      "cell_type": "code",
      "source": [
        "evaluate_and_show_attention('i feel very good .', 'czuję się bardzo dobrze .')"
      ],
      "execution_count": 0,
      "outputs": [
        {
          "output_type": "stream",
          "text": [
            "> i feel very good .\n",
            "= czuję się bardzo dobrze .\n",
            "< czuję się bardzo dobrze . <EOS>\n"
          ],
          "name": "stdout"
        },
        {
          "output_type": "display_data",
          "data": {
            "image/png": "[encoded data removed]",
            "text/plain": [
              "<Figure size 640x480 with 2 Axes>"
            ]
          },
          "metadata": {
            "tags": []
          }
        }
      ]
    },
    {
      "metadata": {
        "id": "QE9BdY7RjNAL",
        "colab_type": "code",
        "colab": {
          "autoexec": {
            "startup": false,
            "wait_interval": 0
          }
        },
        "outputId": "26621b5e-af0d-4635-b66f-98616f7c6d42"
      },
      "cell_type": "code",
      "source": [
        "evaluate_and_show_attention(\"we've been here an hour .\", 'jesteśmy tutaj godzinę .')"
      ],
      "execution_count": 0,
      "outputs": [
        {
          "output_type": "stream",
          "text": [
            "> we've been here an hour .\n",
            "= jesteśmy tutaj godzinę .\n",
            "< jesteśmy tutaj godzinę . <EOS>\n"
          ],
          "name": "stdout"
        },
        {
          "output_type": "display_data",
          "data": {
            "image/png": "[encoded data removed]",
            "text/plain": [
              "<Figure size 640x480 with 2 Axes>"
            ]
          },
          "metadata": {
            "tags": []
          }
        }
      ]
    },
    {
      "metadata": {
        "id": "8qyorxdcjNAM",
        "colab_type": "code",
        "colab": {
          "autoexec": {
            "startup": false,
            "wait_interval": 0
          }
        },
        "outputId": "06852f27-c699-4d83-d9f1-5e6613a8da1d"
      },
      "cell_type": "code",
      "source": [
        "evaluate_and_show_attention(\"i don't like it .\", 'nie lubię tego .')"
      ],
      "execution_count": 0,
      "outputs": [
        {
          "output_type": "stream",
          "text": [
            "> i don't like it .\n",
            "= nie lubię tego .\n",
            "< to mi się nie podoba . <EOS>\n"
          ],
          "name": "stdout"
        },
        {
          "output_type": "display_data",
          "data": {
            "image/png": "[encoded data removed]",
            "text/plain": [
              "<Figure size 640x480 with 2 Axes>"
            ]
          },
          "metadata": {
            "tags": []
          }
        }
      ]
    },
    {
      "metadata": {
        "id": "8zBBVHQXjNAS",
        "colab_type": "text"
      },
      "cell_type": "markdown",
      "source": [
        "# Ćwiczenia\n",
        "\n",
        "* Spróbuj użyć innego zestawu danych\n",
        "     * Kolejna para językowa\n",
        "     * Człowiek &rarr; Maszyna (np. Komendy IOT)\n",
        "     * Czat &rarr; Odpowiedź\n",
        "     * Pytanie &rarr; Odpowiedź\n",
        "* Zastąp osadzone wcześniej słowa, takie jak word2vec lub GloVe\n",
        "* Wypróbuj więcej warstw, więcej ukrytych jednostek i więcej zdań. Porównaj czas trenowania i wyniki.\n",
        "* Jeśli używasz pliku tłumaczenia, w którym pary mają dwie takie same frazy (`I am test \\t I am test`), możesz użyć tego jako automatycznego enkodera. Spróbuj tego:\n",
        "     * Trenuj jako autoencoder\n",
        "     * Zapisz tylko sieć Encoder\n",
        "     * Wytrenuj nowy Dekoder do tłumaczenia z tego miejsca\n"
      ]
    }
  ]
}