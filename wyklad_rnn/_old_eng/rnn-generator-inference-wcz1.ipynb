{
  "nbformat": 4,
  "nbformat_minor": 0,
  "metadata": {
    "colab": {
      "name": "rnn-generator-inference-wcz1.ipynb",
      "version": "0.3.2",
      "views": {},
      "default_view": {},
      "provenance": [],
      "collapsed_sections": [],
      "toc_visible": true
    },
    "kernelspec": {
      "name": "python3",
      "display_name": "Python 3"
    },
    "accelerator": "GPU"
  },
  "cells": [
    {
      "metadata": {
        "id": "5y5zxU-tMBqb",
        "colab_type": "text"
      },
      "cell_type": "markdown",
      "source": [
        "# RNN generator inference"
      ]
    },
    {
      "metadata": {
        "id": "iQFiQEg2M7_L",
        "colab_type": "code",
        "colab": {
          "autoexec": {
            "startup": false,
            "wait_interval": 0
          }
        }
      },
      "cell_type": "code",
      "source": [
        "from pathlib import Path\n",
        "dataset_path = Path.home() / 'data/rnn_generator'; dataset_path\n",
        "tmp_path = dataset_path / 'tmp/'"
      ],
      "execution_count": 0,
      "outputs": []
    },
    {
      "metadata": {
        "id": "gsxhdCiH1GH8",
        "colab_type": "code",
        "colab": {
          "autoexec": {
            "startup": false,
            "wait_interval": 0
          }
        }
      },
      "cell_type": "code",
      "source": [
        "ALLCHARS, MODEL = ['all_characters', 'model']\n",
        "\n",
        "fn_witkacy = {ALLCHARS: 'all_characters.p', MODEL: 'model.h100.l1.e2000.cpu.dat'}\n",
        "fn_pan_tadeusz = {ALLCHARS: 'all_characters.pan_tadeusz.p', MODEL: 'pan_tadeusz.h100.l1.e2000.cpu.torch'}\n",
        "\n",
        "fn_dict = fn_pan_tadeusz"
      ],
      "execution_count": 0,
      "outputs": []
    },
    {
      "metadata": {
        "id": "abA8YbvTM9P7",
        "colab_type": "text"
      },
      "cell_type": "markdown",
      "source": [
        "## Load all_characters list"
      ]
    },
    {
      "metadata": {
        "id": "-g3yLkRlM8Ci",
        "colab_type": "code",
        "colab": {
          "autoexec": {
            "startup": false,
            "wait_interval": 0
          },
          "base_uri": "https://localhost:8080/",
          "height": 49
        },
        "outputId": "c1af78b1-4a47-4bfb-f10f-36ec2f8c5e39",
        "executionInfo": {
          "status": "ok",
          "timestamp": 1524576688200,
          "user_tz": -120,
          "elapsed": 1025,
          "user": {
            "displayName": "Wojtek Czarnowski",
            "photoUrl": "//lh6.googleusercontent.com/-Sx8k456RbyI/AAAAAAAAAAI/AAAAAAAAEVg/Bn2jWaJ_hM0/s50-c-k-no/photo.jpg",
            "userId": "115130698336476923651"
          }
        }
      },
      "cell_type": "code",
      "source": [
        "import pickle\n",
        "\n",
        "all_characters = pickle.load( open( tmp_path / fn_dict[ALLCHARS], 'rb' ) ); print(all_characters[:10])\n",
        "n_characters = len(all_characters); print(n_characters)"
      ],
      "execution_count": 5,
      "outputs": [
        {
          "output_type": "stream",
          "text": [
            "['\\n', ' ', '!', '\"', '%', \"'\", '(', ')', ',', '-']\n",
            "89\n"
          ],
          "name": "stdout"
        }
      ]
    },
    {
      "metadata": {
        "id": "klVO2LLbMxHh",
        "colab_type": "text"
      },
      "cell_type": "markdown",
      "source": [
        "## Code"
      ]
    },
    {
      "metadata": {
        "id": "q3kvxKIPMzyC",
        "colab_type": "code",
        "colab": {
          "autoexec": {
            "startup": false,
            "wait_interval": 0
          }
        }
      },
      "cell_type": "code",
      "source": [
        "import torch\n",
        "import torch.nn as nn\n",
        "from torch.autograd import Variable\n",
        "\n",
        "class RNN(nn.Module):\n",
        "    def __init__(self, input_size, hidden_size, output_size, n_layers=1):\n",
        "        super(RNN, self).__init__()\n",
        "        self.input_size = input_size\n",
        "        self.hidden_size = hidden_size\n",
        "        self.output_size = output_size\n",
        "        self.n_layers = n_layers\n",
        "        \n",
        "        self.encoder = nn.Embedding(input_size, hidden_size)\n",
        "        self.gru = nn.GRU(hidden_size, hidden_size, n_layers)\n",
        "        self.decoder = nn.Linear(hidden_size, output_size)\n",
        "    \n",
        "    def forward(self, input, hidden):\n",
        "        input = self.encoder(input.view(1, -1))\n",
        "        output, hidden = self.gru(input.view(1, 1, -1), hidden)\n",
        "        output = self.decoder(output.view(1, -1))\n",
        "        return output, hidden\n",
        "\n",
        "    def init_hidden(self):\n",
        "        return Variable(torch.zeros(self.n_layers, 1, self.hidden_size))"
      ],
      "execution_count": 0,
      "outputs": []
    },
    {
      "metadata": {
        "id": "M2wurTvHMUsq",
        "colab_type": "code",
        "colab": {
          "autoexec": {
            "startup": false,
            "wait_interval": 0
          },
          "base_uri": "https://localhost:8080/",
          "height": 247
        },
        "outputId": "11578f31-cfe0-48ec-faa7-7042cf12272c",
        "executionInfo": {
          "status": "ok",
          "timestamp": 1524576715282,
          "user_tz": -120,
          "elapsed": 2077,
          "user": {
            "displayName": "Wojtek Czarnowski",
            "photoUrl": "//lh6.googleusercontent.com/-Sx8k456RbyI/AAAAAAAAAAI/AAAAAAAAEVg/Bn2jWaJ_hM0/s50-c-k-no/photo.jpg",
            "userId": "115130698336476923651"
          }
        }
      },
      "cell_type": "code",
      "source": [
        "# Turn string into list of longs\n",
        "def char_tensor(string):\n",
        "    tensor = torch.zeros(len(string)).long()\n",
        "    for c in range(len(string)):\n",
        "        tensor[c] = all_characters.index(string[c])\n",
        "    return Variable(tensor)\n",
        "\n",
        "print(char_tensor('ala ma kota'))"
      ],
      "execution_count": 7,
      "outputs": [
        {
          "output_type": "stream",
          "text": [
            "Variable containing:\n",
            " 41\n",
            " 52\n",
            " 41\n",
            "  1\n",
            " 53\n",
            " 41\n",
            "  1\n",
            " 51\n",
            " 55\n",
            " 59\n",
            " 41\n",
            "[torch.LongTensor of size 11]\n",
            "\n"
          ],
          "name": "stdout"
        }
      ]
    },
    {
      "metadata": {
        "id": "tWUvpDlFMUvZ",
        "colab_type": "code",
        "colab": {
          "autoexec": {
            "startup": false,
            "wait_interval": 0
          }
        }
      },
      "cell_type": "code",
      "source": [
        "def evaluate(prime_str='A', predict_len=100, temperature=0.8):\n",
        "    hidden = decoder.init_hidden()\n",
        "    prime_input = char_tensor(prime_str)\n",
        "    predicted = prime_str\n",
        "\n",
        "    # Use priming string to \"build up\" hidden state\n",
        "    for p in range(len(prime_str) - 1):\n",
        "        _, hidden = decoder(prime_input[p], hidden)\n",
        "    inp = prime_input[-1]\n",
        "    \n",
        "    for p in range(predict_len):\n",
        "        output, hidden = decoder(inp, hidden)\n",
        "        \n",
        "        # Sample from the network as a multinomial distribution\n",
        "        output_dist = output.data.view(-1).div(temperature).exp()\n",
        "        top_i = torch.multinomial(output_dist, 1)[0]\n",
        "        \n",
        "        # Add predicted character to string and use as next input\n",
        "        predicted_char = all_characters[top_i]\n",
        "        predicted += predicted_char\n",
        "        inp = char_tensor(predicted_char)\n",
        "\n",
        "    return predicted"
      ],
      "execution_count": 0,
      "outputs": []
    },
    {
      "metadata": {
        "id": "nW605sPbPDtf",
        "colab_type": "code",
        "colab": {
          "autoexec": {
            "startup": false,
            "wait_interval": 0
          },
          "base_uri": "https://localhost:8080/",
          "height": 99
        },
        "outputId": "112f13f5-baf1-4bb1-8550-9d294bb66824",
        "executionInfo": {
          "status": "ok",
          "timestamp": 1524576723171,
          "user_tz": -120,
          "elapsed": 3079,
          "user": {
            "displayName": "Wojtek Czarnowski",
            "photoUrl": "//lh6.googleusercontent.com/-Sx8k456RbyI/AAAAAAAAAAI/AAAAAAAAEVg/Bn2jWaJ_hM0/s50-c-k-no/photo.jpg",
            "userId": "115130698336476923651"
          }
        }
      },
      "cell_type": "code",
      "source": [
        "n_epochs = 300 # 3000\n",
        "print_every = 100\n",
        "plot_every = 1\n",
        "hidden_size = 100\n",
        "n_layers = 1\n",
        "lr = 0.005\n",
        "\n",
        "decoder = RNN(n_characters, hidden_size, n_characters, n_layers)\n",
        "print(decoder, flush=True)"
      ],
      "execution_count": 9,
      "outputs": [
        {
          "output_type": "stream",
          "text": [
            "RNN(\n",
            "  (encoder): Embedding(89, 100)\n",
            "  (gru): GRU(100, 100)\n",
            "  (decoder): Linear(in_features=100, out_features=89)\n",
            ")\n"
          ],
          "name": "stdout"
        }
      ]
    },
    {
      "metadata": {
        "id": "448Y72-nQBtp",
        "colab_type": "text"
      },
      "cell_type": "markdown",
      "source": [
        "## Load model"
      ]
    },
    {
      "metadata": {
        "id": "XLY4aFklQAqt",
        "colab_type": "code",
        "colab": {
          "autoexec": {
            "startup": false,
            "wait_interval": 0
          }
        }
      },
      "cell_type": "code",
      "source": [
        "model_path_cpu = tmp_path / fn_dict[MODEL]\n",
        "decoder = torch.load(model_path_cpu)"
      ],
      "execution_count": 0,
      "outputs": []
    },
    {
      "metadata": {
        "id": "eFGkMgTMO9g8",
        "colab_type": "text"
      },
      "cell_type": "markdown",
      "source": [
        "## Generate text"
      ]
    },
    {
      "metadata": {
        "id": "eDlhLm5M34yQ",
        "colab_type": "code",
        "colab": {
          "autoexec": {
            "startup": false,
            "wait_interval": 0
          }
        }
      },
      "cell_type": "code",
      "source": [
        "# priming strings\n",
        "# pan_tadeusz: kon, bę, Tad, Tadeusz"
      ],
      "execution_count": 0,
      "outputs": []
    },
    {
      "metadata": {
        "id": "oIM7xrfOMU0S",
        "colab_type": "code",
        "colab": {
          "autoexec": {
            "startup": false,
            "wait_interval": 0
          },
          "base_uri": "https://localhost:8080/",
          "height": 313
        },
        "outputId": "c8f7598c-0f01-4d62-a3d7-84dd81e7b8fd",
        "executionInfo": {
          "status": "ok",
          "timestamp": 1524577104103,
          "user_tz": -120,
          "elapsed": 1396,
          "user": {
            "displayName": "Wojtek Czarnowski",
            "photoUrl": "//lh6.googleusercontent.com/-Sx8k456RbyI/AAAAAAAAAAI/AAAAAAAAEVg/Bn2jWaJ_hM0/s50-c-k-no/photo.jpg",
            "userId": "115130698336476923651"
          }
        }
      },
      "cell_type": "code",
      "source": [
        "print(evaluate('Tadeusz', 1000, temperature=0.8))"
      ],
      "execution_count": 25,
      "outputs": [
        {
          "output_type": "stream",
          "text": [
            "Tadeusz grzybę wipierzenanie tylcz które tylko za obył --\n",
            "          czarał się szlicę mi przedziem ruchy w zawaczasz Bernarek zwodził zamku poronia,\n",
            "Tele wielki nie wracie się zród krzykle w rozmusu;\n",
            "Razem się barowowanie rozeszekłe do razy mu sładzi;\n",
            "Myśliwsze przewy że się lasska.\n",
            "Wiadła z obił wszyscy aż się już wieje czarku w zniessie się w prawy nawyklich,\n",
            "Ustał wpod chybianéj siebie rozmiwszy prawie tabówka,\n",
            "O jelent był oniskiemi młoniem, Gobnika,\n",
            "Obiasił poświaczenie gniecz wypilne ledwienia\n",
            "Lecz w ludziło i na szlecz opisowanie w ręcz rupierku za niéj porótkowali osporzasu,\n",
            "Te wiejskim s przedżał w rękę między w nich -- Mowby przez więcéry weszcierzy,\n",
            "To wostéj, ot onie lazem, lecia ruchomieni,\n",
            "Więc Pan zręką, jakby zam powieki,\n",
            "Róch jako nich ruz w ludzienie:\n",
            "Ze w kłębow! Litwie się na niemy tylko szukiek i posława,\n",
            "Goko się w się naprawie strzelecki bawiący i ręką rośmił się zawłaczą.\n",
            "Ja sznom lasem puszcze krokie stary rozaje waję,\n",
            "Obrawać co szlecha samom wszyscy! rzasły w wyczęś\n"
          ],
          "name": "stdout"
        }
      ]
    },
    {
      "metadata": {
        "id": "mIU6dyzRMU25",
        "colab_type": "code",
        "colab": {
          "autoexec": {
            "startup": false,
            "wait_interval": 0
          },
          "base_uri": "https://localhost:8080/",
          "height": 284
        },
        "outputId": "c2f032dc-b96b-4778-ae34-03d16ccd7f9e",
        "executionInfo": {
          "status": "ok",
          "timestamp": 1524577082297,
          "user_tz": -120,
          "elapsed": 1400,
          "user": {
            "displayName": "Wojtek Czarnowski",
            "photoUrl": "//lh6.googleusercontent.com/-Sx8k456RbyI/AAAAAAAAAAI/AAAAAAAAEVg/Bn2jWaJ_hM0/s50-c-k-no/photo.jpg",
            "userId": "115130698336476923651"
          }
        }
      },
      "cell_type": "code",
      "source": [
        "print(evaluate('Tad', 1000, temperature=0.2))"
      ],
      "execution_count": 23,
      "outputs": [
        {
          "output_type": "stream",
          "text": [
            "Tadem w niemyśli w koniec w ręku w to się do strzelcy w niemyśli się w ręką się w rękę przechodzić w rozmowy.\n",
            "O nie zawszystkiem w koniec w ręku się w pod niemienie,\n",
            "Ostał w nie się w krzyknął w przed rozmowy,\n",
            "Odbierał się w konie w końce się w czysie się w podzierciał się w ręku w konie podobny za powierzy się w konie\n",
            "Sito się w przed zawieli w ręku w przechodził w koniewszy się w lasu.\n",
            "\n",
            "Tadeusz w koło w przechodzić w konie zawszystkienie się w konieckę w ręku zawszystkie się w rękawie,\n",
            "Tak w konie się w czerwszy się w pod konieczkie się w rozmieranie się za niemienie\n",
            "Ogląda w koniec w rozmowę w pod konieczkie się w konie,\n",
            "Tak się w rozmowanie się w strony w licznych w przecierach się w rozmowy,\n",
            "Odbiały w obronie w konieczkie w rękę w lecz od zawiedzie,\n",
            "Obrzecz rozmowy w się w przez zawsze w niemienie,\n",
            "Obiera w przecie się w las się w strzelcy w przechodzić w korach się w lasu,\n",
            "Odbierał się w ręku zamku w rozmowy,\n",
            "Odbiera w konie w podobny w rozmowy, jest w konie w przed nie konieczkiem \n"
          ],
          "name": "stdout"
        }
      ]
    },
    {
      "metadata": {
        "id": "OPYzLn5jMU5x",
        "colab_type": "code",
        "colab": {
          "autoexec": {
            "startup": false,
            "wait_interval": 0
          },
          "base_uri": "https://localhost:8080/",
          "height": 115
        },
        "outputId": "08ac5ade-1cef-4937-e06c-558853679d76",
        "executionInfo": {
          "status": "ok",
          "timestamp": 1524577071970,
          "user_tz": -120,
          "elapsed": 880,
          "user": {
            "displayName": "Wojtek Czarnowski",
            "photoUrl": "//lh6.googleusercontent.com/-Sx8k456RbyI/AAAAAAAAAAI/AAAAAAAAEVg/Bn2jWaJ_hM0/s50-c-k-no/photo.jpg",
            "userId": "115130698336476923651"
          }
        }
      },
      "cell_type": "code",
      "source": [
        "print(evaluate('bę', 200, temperature=1.4))"
      ],
      "execution_count": 22,
      "outputs": [
        {
          "output_type": "stream",
          "text": [
            "bęlów orówat;\n",
            "Chlca teronéj, mougą) łowrzéć skię się! , turek Dządka Soplona,\n",
            "Po Wuje popan wiorkówlącowém mo zmni;\n",
            "Rząpie a luże, ry brata: z pirnych\n",
            "Gdziego do rugiegod\n",
            "Rzęło, Lonikó, ziejachiłojowa d\n"
          ],
          "name": "stdout"
        }
      ]
    },
    {
      "metadata": {
        "id": "FIsFkxsFMVBS",
        "colab_type": "code",
        "colab": {
          "autoexec": {
            "startup": false,
            "wait_interval": 0
          }
        }
      },
      "cell_type": "code",
      "source": [
        ""
      ],
      "execution_count": 0,
      "outputs": []
    }
  ]
}