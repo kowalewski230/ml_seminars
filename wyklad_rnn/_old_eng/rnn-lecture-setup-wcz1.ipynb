{
  "nbformat": 4,
  "nbformat_minor": 0,
  "metadata": {
    "colab": {
      "name": "rnn-lecture-setup-wcz1.ipynb",
      "version": "0.3.2",
      "views": {},
      "default_view": {},
      "provenance": [],
      "private_outputs": true,
      "collapsed_sections": []
    },
    "kernelspec": {
      "name": "python3",
      "display_name": "Python 3"
    },
    "accelerator": "GPU"
  },
  "cells": [
    {
      "metadata": {
        "id": "CH3K-upNE28D",
        "colab_type": "text"
      },
      "cell_type": "markdown",
      "source": [
        "# Setup RNN lecture"
      ]
    },
    {
      "metadata": {
        "id": "pvNsvobjFNKz",
        "colab_type": "text"
      },
      "cell_type": "markdown",
      "source": [
        "## Setup Google Drive Integration"
      ]
    },
    {
      "metadata": {
        "id": "PZlXy_NvFN9i",
        "colab_type": "code",
        "colab": {
          "autoexec": {
            "startup": false,
            "wait_interval": 0
          }
        }
      },
      "cell_type": "code",
      "source": [
        "!apt-get install -y -qq software-properties-common python-software-properties module-init-tools\n",
        "!add-apt-repository -y ppa:alessandro-strada/ppa 2>&1 > /dev/null\n",
        "!apt-get update -qq 2>&1 > /dev/null\n",
        "!apt-get -y install -qq google-drive-ocamlfuse fuse\n",
        "from google.colab import auth\n",
        "auth.authenticate_user()\n",
        "from oauth2client.client import GoogleCredentials\n",
        "creds = GoogleCredentials.get_application_default()\n",
        "import getpass\n",
        "!google-drive-ocamlfuse -headless -id={creds.client_id} -secret={creds.client_secret} < /dev/null 2>&1 | grep URL\n",
        "vcode = getpass.getpass()\n",
        "!echo {vcode} | google-drive-ocamlfuse -headless -id={creds.client_id} -secret={creds.client_secret}\n",
        "\n",
        "!mkdir -p drive\n",
        "!google-drive-ocamlfuse drive -o nonempty"
      ],
      "execution_count": 0,
      "outputs": []
    },
    {
      "metadata": {
        "id": "71gU7PngExlh",
        "colab_type": "text"
      },
      "cell_type": "markdown",
      "source": [
        "## PyTorch setup"
      ]
    },
    {
      "metadata": {
        "id": "NTQYNZFKG_a5",
        "colab_type": "code",
        "colab": {
          "autoexec": {
            "startup": false,
            "wait_interval": 0
          }
        }
      },
      "cell_type": "code",
      "source": [
        "# http://pytorch.org/\n",
        "from os import path\n",
        "from wheel.pep425tags import get_abbr_impl, get_impl_ver, get_abi_tag\n",
        "platform = '{}{}-{}'.format(get_abbr_impl(), get_impl_ver(), get_abi_tag())\n",
        "\n",
        "accelerator = 'cu80' if path.exists('/opt/bin/nvidia-smi') else 'cpu'\n",
        "\n",
        "# !pip install -q http://download.pytorch.org/whl/{accelerator}/torch-0.3.0.post4-{platform}-linux_x86_64.whl torchvision\n",
        "!pip install -q http://download.pytorch.org/whl/{accelerator}/torch-0.4.0-{platform}-linux_x86_64.whl torchvision\n",
        "\n",
        "import torch"
      ],
      "execution_count": 0,
      "outputs": []
    },
    {
      "metadata": {
        "id": "zKuwQo_7Q4-v",
        "colab_type": "text"
      },
      "cell_type": "markdown",
      "source": [
        "#Fast.AI Setup"
      ]
    },
    {
      "metadata": {
        "id": "T1VJqxJMQ58z",
        "colab_type": "code",
        "colab": {
          "autoexec": {
            "startup": false,
            "wait_interval": 0
          }
        }
      },
      "cell_type": "code",
      "source": [
        "# !git clone https://github.com/fastai/fastai.git\n",
        "# import os\n",
        "# os.chdir(\"fastai\")\n",
        "# !git pull"
      ],
      "execution_count": 0,
      "outputs": []
    },
    {
      "metadata": {
        "id": "EpjAD1HORFXj",
        "colab_type": "code",
        "colab": {
          "autoexec": {
            "startup": false,
            "wait_interval": 0
          }
        }
      },
      "cell_type": "code",
      "source": [
        "# os.chdir(\"..\")\n",
        "# !pip install https://github.com/fastai/fastai/archive/master.zip"
      ],
      "execution_count": 0,
      "outputs": []
    },
    {
      "metadata": {
        "id": "cdLsetH6JBes",
        "colab_type": "text"
      },
      "cell_type": "markdown",
      "source": [
        "## Install libs"
      ]
    },
    {
      "metadata": {
        "id": "HNwsxvdnJDw5",
        "colab_type": "code",
        "colab": {
          "autoexec": {
            "startup": false,
            "wait_interval": 0
          }
        }
      },
      "cell_type": "code",
      "source": [
        "!pip install unidecode tqdm dill pysmi visdom"
      ],
      "execution_count": 0,
      "outputs": []
    },
    {
      "metadata": {
        "id": "1Kk5FdvHFDeu",
        "colab_type": "text"
      },
      "cell_type": "markdown",
      "source": [
        "## Install the PyDrive wrapper & import libraries"
      ]
    },
    {
      "metadata": {
        "id": "AmbL-sxAFERR",
        "colab_type": "code",
        "colab": {
          "autoexec": {
            "startup": false,
            "wait_interval": 0
          }
        }
      },
      "cell_type": "code",
      "source": [
        "# This only needs to be done once per notebook.\n",
        "!pip install -U -q PyDrive\n",
        "\n",
        "from pydrive.auth import GoogleAuth\n",
        "from pydrive.drive import GoogleDrive\n",
        "from google.colab import auth\n",
        "from oauth2client.client import GoogleCredentials\n",
        "\n",
        "# Authenticate and create the PyDrive client.\n",
        "# This only needs to be done once per notebook.\n",
        "auth.authenticate_user()\n",
        "gauth = GoogleAuth()\n",
        "gauth.credentials = GoogleCredentials.get_application_default()\n",
        "drive = GoogleDrive(gauth)\n",
        "\n",
        "from pathlib import Path\n",
        "import os\n",
        "\n",
        "def download_and_save(file_name, file_id):\n",
        "  downloaded = drive.CreateFile({'id': file_id})\n",
        "  # fetch file\n",
        "  downloaded.FetchContent()\n",
        "  # write file\n",
        "  with open(file_name,'wb') as f:\n",
        "       f.write(downloaded.content.read())\n",
        "      \n",
        "  print(f'Saved {file_name}')\n",
        "  \n",
        "FILE_NAME, FILE_ID = ['file_name', 'file_id']"
      ],
      "execution_count": 0,
      "outputs": []
    },
    {
      "metadata": {
        "id": "6a-q1f8LFI5y",
        "colab_type": "text"
      },
      "cell_type": "markdown",
      "source": [
        "# Get dataset(s)"
      ]
    },
    {
      "metadata": {
        "id": "YLHSxEQmFe_u",
        "colab_type": "code",
        "colab": {
          "autoexec": {
            "startup": false,
            "wait_interval": 0
          }
        }
      },
      "cell_type": "code",
      "source": [
        "from pathlib import Path\n",
        "dataset_path = Path.home() / 'data/rnn_generator'; dataset_path\n",
        "!mkdir -p $dataset_path\n",
        "!ls -la $dataset_path/"
      ],
      "execution_count": 0,
      "outputs": []
    },
    {
      "metadata": {
        "id": "ihRsb3C_FeG0",
        "colab_type": "text"
      },
      "cell_type": "markdown",
      "source": [
        "## get dataset files"
      ]
    },
    {
      "metadata": {
        "id": "Zl_zASTIF9KN",
        "colab_type": "code",
        "colab": {
          "autoexec": {
            "startup": false,
            "wait_interval": 0
          }
        }
      },
      "cell_type": "code",
      "source": [
        "# witkacy, https://drive.google.com/open?id=1NOWTocYwv93GibItaNBxTJobjTukQmRP\n",
        "witkacy = {FILE_NAME: 'witkacy_szewcy.txt', FILE_ID: '1NOWTocYwv93GibItaNBxTJobjTukQmRP'}\n",
        "\n",
        "download_and_save(dataset_path / witkacy[FILE_NAME], witkacy[FILE_ID])"
      ],
      "execution_count": 0,
      "outputs": []
    },
    {
      "metadata": {
        "id": "JV9IqMEfHdur",
        "colab_type": "code",
        "colab": {
          "autoexec": {
            "startup": false,
            "wait_interval": 0
          }
        }
      },
      "cell_type": "code",
      "source": [
        "# mickiewicz, https://drive.google.com/open?id=1otbOB7GjKEVPjaPShaaTnYQnv-whwNWP\n",
        "mickiewicz = {FILE_NAME: 'mickiewicz.txt', FILE_ID: '1otbOB7GjKEVPjaPShaaTnYQnv-whwNWP'}\n",
        "\n",
        "download_and_save(dataset_path / mickiewicz[FILE_NAME], mickiewicz[FILE_ID])"
      ],
      "execution_count": 0,
      "outputs": []
    },
    {
      "metadata": {
        "id": "-IXYs88WJaNo",
        "colab_type": "code",
        "colab": {
          "autoexec": {
            "startup": false,
            "wait_interval": 0
          }
        }
      },
      "cell_type": "code",
      "source": [
        "# pan_tadeusz, https://drive.google.com/open?id=18o0ouQWLOrrdAV37W8HMeRnqNdWnU0f3\n",
        "pan_tadeusz = {FILE_NAME: 'pan_tadeusz.txt', FILE_ID: '18o0ouQWLOrrdAV37W8HMeRnqNdWnU0f3'}\n",
        "\n",
        "download_and_save(dataset_path / pan_tadeusz[FILE_NAME], pan_tadeusz[FILE_ID])"
      ],
      "execution_count": 0,
      "outputs": []
    },
    {
      "metadata": {
        "id": "LBjvOVCPmWwn",
        "colab_type": "code",
        "colab": {
          "autoexec": {
            "startup": false,
            "wait_interval": 0
          }
        }
      },
      "cell_type": "code",
      "source": [
        "!ls -la $dataset_path/"
      ],
      "execution_count": 0,
      "outputs": []
    },
    {
      "metadata": {
        "id": "USMDLfIuo6Fd",
        "colab_type": "text"
      },
      "cell_type": "markdown",
      "source": [
        "# vm monitoring"
      ]
    },
    {
      "metadata": {
        "id": "fPB9Yk66qHtz",
        "colab_type": "code",
        "colab": {
          "autoexec": {
            "startup": false,
            "wait_interval": 0
          }
        }
      },
      "cell_type": "code",
      "source": [
        "!uptime"
      ],
      "execution_count": 0,
      "outputs": []
    },
    {
      "metadata": {
        "id": "s7s05v-co8gF",
        "colab_type": "code",
        "colab": {
          "autoexec": {
            "startup": false,
            "wait_interval": 0
          }
        }
      },
      "cell_type": "code",
      "source": [
        ""
      ],
      "execution_count": 0,
      "outputs": []
    },
    {
      "metadata": {
        "id": "77UF-3C5a5zJ",
        "colab_type": "text"
      },
      "cell_type": "markdown",
      "source": [
        "# tmp"
      ]
    },
    {
      "metadata": {
        "id": "7YQ1cG4na6w1",
        "colab_type": "code",
        "colab": {
          "autoexec": {
            "startup": false,
            "wait_interval": 0
          }
        }
      },
      "cell_type": "code",
      "source": [
        "!ls -la $dataset_path/tmp"
      ],
      "execution_count": 0,
      "outputs": []
    },
    {
      "metadata": {
        "id": "kRD1_ziaa_ne",
        "colab_type": "code",
        "colab": {
          "autoexec": {
            "startup": false,
            "wait_interval": 0
          }
        }
      },
      "cell_type": "code",
      "source": [
        "!cp $dataset_path/tmp/pan_tadeusz.h400.l2.3000.gpu.torch /content/drive"
      ],
      "execution_count": 0,
      "outputs": []
    },
    {
      "metadata": {
        "id": "sKNI-fPwbMOx",
        "colab_type": "code",
        "colab": {
          "autoexec": {
            "startup": false,
            "wait_interval": 0
          }
        }
      },
      "cell_type": "code",
      "source": [
        "!cp $dataset_path/tmp/all_characters.pan_tadeusz.p /content/drive"
      ],
      "execution_count": 0,
      "outputs": []
    }
  ]
}