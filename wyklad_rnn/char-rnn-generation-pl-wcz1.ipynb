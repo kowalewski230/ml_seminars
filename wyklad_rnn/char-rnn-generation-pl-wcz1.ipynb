{
  "nbformat": 4,
  "nbformat_minor": 0,
  "metadata": {
    "colab": {
      "name": "char-rnn-generation-wcz3-gpu.ipynb",
      "version": "0.3.2",
      "views": {},
      "default_view": {},
      "provenance": [
        {
          "file_id": "1DztHxtFb_tfNmrLeOcav9myCNqeTlZ82",
          "timestamp": 1524492157904
        },
        {
          "file_id": "1sv_cPvPEWEOrG9wS3fPjAOj-Wvs6kc0P",
          "timestamp": 1524467882593
        }
      ],
      "collapsed_sections": [],
      "toc_visible": true
    },
    "kernelspec": {
      "display_name": "Python 3",
      "language": "python",
      "name": "python3"
    },
    "accelerator": "GPU"
  },
  "cells": [
    {
      "metadata": {
        "id": "iVsYe7S5XM5G",
        "colab_type": "text"
      },
      "cell_type": "markdown",
      "source": [
        "![](https://i.imgur.com/eBRPvWB.png)\n",
        "\n",
        "# Generowanie sztuki za pomocą RNN i PyTorch w oparciu o litery.\n",
        "\n",
        "[W tutorialu](https://github.com/spro/practical-pytorch/blob/master/char-rnn-classification/char-rnn-classification.ipynb) użyliśmy RNN, aby sklasyfikować tekst po jednym znaku na raz. Tym razem wygenerujemy tekst po jednym znaku na raz.\n",
        "```\n",
        "> python generate.py -n 500\n",
        "\n",
        "PAOLTREDN:\n",
        "Let, yil exter shis owrach we so sain, fleas,\n",
        "Be wast the shall deas, puty sonse my sheete.\n",
        "\n",
        "BAUFIO:\n",
        "Sirh carrow out with the knonuot my comest sifard queences\n",
        "O all a man unterd.\n",
        "\n",
        "PROMENSJO:\n",
        "Ay, I to Heron, I sack, againous; bepear, Butch,\n",
        "An as shalp will of that seal think.\n",
        "\n",
        "NUKINUS:\n",
        "And house it to thee word off hee:\n",
        "And thou charrota the son hange of that shall denthand\n",
        "For the say hor you are of I folles muth me?\n",
        "```\n",
        "\n",
        "Zobacz [Sequence to Sequence Translation tutorial](https://github.com/spro/practical-pytorch/blob/master/seq2seq-translation/seq2seq-translation.ipynb) żeby nauczyć się więcej w tym temacie."
      ]
    },
    {
      "metadata": {
        "id": "WamMk47AXM5I",
        "colab_type": "text"
      },
      "cell_type": "markdown",
      "source": [
        "# Warto przeczytać\n",
        "\n",
        "Zakładam, że zainstalowałeś przynajmniej PyTorch, znasz Pythona i rozumiesz Tensory:\n",
        "\n",
        "* http://pytorch.org/ Instrukcje instalacji\n",
        "* [Deep Learning with PyTorch: A 60-minute Blitz](https://github.com/pytorch/tutorials/blob/master/Deep%20Learning%20with%20PyTorch.ipynb) na początek z PyTorch (ogólnie)\n",
        "* [jcjohnson's PyTorch examples](https://github.com/jcjohnson/pytorch-examples) dla szczegółowego przeglądu\n",
        "* [Introduction to PyTorch for former Torchies](https://github.com/pytorch/tutorials/blob/master/Introduction%20to%20PyTorch%20for%20former%20Torchies.ipynb) jeśli jesteś poprzednim użytkownikiem Lua Torch\n",
        "\n",
        "Przydałoby się również wiedzieć o RNN i jego działaniu:\n",
        "\n",
        "* [The Unreasonable Effectiveness of Recurrent Neural Networks](http://karpathy.github.io/2015/05/21/rnn-effectiveness/) pokazuje kilka przykładów z życia\n",
        "* [Understanding LSTM Networks](http://colah.github.io/posts/2015-08-Understanding-LSTMs/) dotyczy tylko LSTM, ale także informacji na temat RNN w ogóle\n",
        "\n",
        "Zobacz także podobne tutoriale z serii:\n",
        "\n",
        "* [Classifying Names with a Character-Level RNN](https://github.com/spro/practical-pytorch/blob/master/char-rnn-classification/char-rnn-classification.ipynb) używa RNN do klasyfikacji\n",
        "* [Generating Names with a Conditional Character-Level RNN](https://github.com/spro/practical-pytorch/blob/master/conditional-char-rnn/conditional-char-rnn.ipynb) opiera się na tym modelu, aby dodać kategorię jako dane wejściowe"
      ]
    },
    {
      "metadata": {
        "id": "lGN3xU17XpWC",
        "colab_type": "text"
      },
      "cell_type": "markdown",
      "source": [
        "# Instalacja"
      ]
    },
    {
      "metadata": {
        "id": "kkkCqSEBXsYh",
        "colab_type": "code",
        "colab": {
          "autoexec": {
            "startup": false,
            "wait_interval": 0
          },
          "base_uri": "https://localhost:8080/",
          "height": 34
        },
        "outputId": "d15f6520-5024-4f2d-93b8-51a50662a16b",
        "executionInfo": {
          "status": "ok",
          "timestamp": 1525785552435,
          "user_tz": -120,
          "elapsed": 1716,
          "user": {
            "displayName": "Kamsiulek Malutki",
            "photoUrl": "https://lh3.googleusercontent.com/a/default-user=s128",
            "userId": "118138569128465864586"
          }
        }
      },
      "cell_type": "code",
      "source": [
        "!pwd"
      ],
      "execution_count": 2,
      "outputs": [
        {
          "output_type": "stream",
          "text": [
            "/content\r\n"
          ],
          "name": "stdout"
        }
      ]
    },
    {
      "metadata": {
        "id": "80ZjgATAXsVn",
        "colab_type": "code",
        "colab": {
          "autoexec": {
            "startup": false,
            "wait_interval": 0
          }
        }
      },
      "cell_type": "code",
      "source": [
        "from pathlib import Path\n",
        "dataset_path = Path.home() / 'data/rnn_generator'; dataset_path\n",
        "tmp_path = dataset_path / 'tmp/'\n",
        "!mkdir -p $tmp_path"
      ],
      "execution_count": 0,
      "outputs": []
    },
    {
      "metadata": {
        "id": "n4wAU8Y6XsSl",
        "colab_type": "code",
        "colab": {
          "autoexec": {
            "startup": false,
            "wait_interval": 0
          },
          "base_uri": "https://localhost:8080/",
          "height": 136
        },
        "outputId": "315cd5c2-8005-4e9d-9d9e-91ff750d2a63",
        "executionInfo": {
          "status": "ok",
          "timestamp": 1525785556030,
          "user_tz": -120,
          "elapsed": 1718,
          "user": {
            "displayName": "Kamsiulek Malutki",
            "photoUrl": "https://lh3.googleusercontent.com/a/default-user=s128",
            "userId": "118138569128465864586"
          }
        }
      },
      "cell_type": "code",
      "source": [
        "!ls -lah /content/data/rnn_generator"
      ],
      "execution_count": 4,
      "outputs": [
        {
          "output_type": "stream",
          "text": [
            "total 1.1M\r\n",
            "drwxr-xr-x 3 root root 4.0K May  8 13:19 .\r\n",
            "drwxr-xr-x 3 root root 4.0K May  8 13:10 ..\r\n",
            "-rw-r--r-- 1 root root 709K May  8 13:11 mickiewicz.txt\r\n",
            "-rw-r--r-- 1 root root 219K May  8 13:11 pan_tadeusz.txt\r\n",
            "drwxr-xr-x 2 root root 4.0K May  8 13:19 tmp\r\n",
            "-rw-r--r-- 1 root root 142K May  8 13:10 witkacy_szewcy.txt\r\n"
          ],
          "name": "stdout"
        }
      ]
    },
    {
      "metadata": {
        "id": "2tJDT2lCceZL",
        "colab_type": "text"
      },
      "cell_type": "markdown",
      "source": [
        "# Monitorowanie wirtualnej maszyny"
      ]
    },
    {
      "metadata": {
        "id": "bKdCiolHcg4e",
        "colab_type": "code",
        "colab": {
          "autoexec": {
            "startup": false,
            "wait_interval": 0
          }
        }
      },
      "cell_type": "code",
      "source": [
        "import os\n",
        "import psutil\n",
        "\n",
        "def print_memsize():\n",
        "  process = psutil.Process(os.getpid())\n",
        "  print(f'{process.memory_info().rss / 1024**3:.5} GB')"
      ],
      "execution_count": 0,
      "outputs": []
    },
    {
      "metadata": {
        "id": "diBUUyOociRy",
        "colab_type": "code",
        "colab": {
          "autoexec": {
            "startup": false,
            "wait_interval": 0
          },
          "base_uri": "https://localhost:8080/",
          "height": 34
        },
        "outputId": "6a8644cb-d9ca-4d8f-dab5-74e5bf35633a",
        "executionInfo": {
          "status": "ok",
          "timestamp": 1525785557493,
          "user_tz": -120,
          "elapsed": 694,
          "user": {
            "displayName": "Kamsiulek Malutki",
            "photoUrl": "https://lh3.googleusercontent.com/a/default-user=s128",
            "userId": "118138569128465864586"
          }
        }
      },
      "cell_type": "code",
      "source": [
        "print_memsize()"
      ],
      "execution_count": 6,
      "outputs": [
        {
          "output_type": "stream",
          "text": [
            "0.13219 GB\n"
          ],
          "name": "stdout"
        }
      ]
    },
    {
      "metadata": {
        "id": "TuHoo0ARtjz_",
        "colab_type": "code",
        "colab": {
          "autoexec": {
            "startup": false,
            "wait_interval": 0
          },
          "base_uri": "https://localhost:8080/",
          "height": 34
        },
        "outputId": "962d493e-faf8-46d6-919e-3835d02857c4",
        "executionInfo": {
          "status": "ok",
          "timestamp": 1525785559261,
          "user_tz": -120,
          "elapsed": 1728,
          "user": {
            "displayName": "Kamsiulek Malutki",
            "photoUrl": "https://lh3.googleusercontent.com/a/default-user=s128",
            "userId": "118138569128465864586"
          }
        }
      },
      "cell_type": "code",
      "source": [
        "!uptime"
      ],
      "execution_count": 7,
      "outputs": [
        {
          "output_type": "stream",
          "text": [
            " 13:19:18 up 16 min,  0 users,  load average: 0.08, 0.22, 0.38\r\n"
          ],
          "name": "stdout"
        }
      ]
    },
    {
      "metadata": {
        "id": "2cIY0S4g0gZo",
        "colab_type": "text"
      },
      "cell_type": "markdown",
      "source": [
        "# GPU"
      ]
    },
    {
      "metadata": {
        "id": "2hTjsshick9K",
        "colab_type": "code",
        "colab": {
          "autoexec": {
            "startup": false,
            "wait_interval": 0
          },
          "base_uri": "https://localhost:8080/",
          "height": 34
        },
        "outputId": "3e44ab87-6844-4a1c-d4fe-42c135ddda87",
        "executionInfo": {
          "status": "ok",
          "timestamp": 1525785560764,
          "user_tz": -120,
          "elapsed": 1490,
          "user": {
            "displayName": "Kamsiulek Malutki",
            "photoUrl": "https://lh3.googleusercontent.com/a/default-user=s128",
            "userId": "118138569128465864586"
          }
        }
      },
      "cell_type": "code",
      "source": [
        "import torch\n",
        "\n",
        "USE_GPU = torch.cuda.is_available(); \n",
        "# USE_GPU = False; \n",
        "\n",
        "print(f'USE_GPU={USE_GPU}')\n",
        "\n",
        "def to_gpu(x, *args, **kwargs):\n",
        "    return x.cuda(*args, **kwargs) if USE_GPU else x"
      ],
      "execution_count": 8,
      "outputs": [
        {
          "output_type": "stream",
          "text": [
            "USE_GPU=True\n"
          ],
          "name": "stdout"
        }
      ]
    },
    {
      "metadata": {
        "id": "g8KbaMvrXM5J",
        "colab_type": "text"
      },
      "cell_type": "markdown",
      "source": [
        "# Przygotowanie danych\n",
        "\n",
        "Plik, którego używamy, jest plikiem tekstowym. Przekształcamy wszelkie potencjalne znaki Unicode w zwykły ASCII, używając pakietu `unidecode` (który możesz zainstalować przez` pip` lub `conda`)."
      ]
    },
    {
      "metadata": {
        "id": "YLH7c2gwoLlP",
        "colab_type": "code",
        "colab": {
          "autoexec": {
            "startup": false,
            "wait_interval": 0
          }
        }
      },
      "cell_type": "code",
      "source": [
        "# fn = 'data/tiny-shakespeare.txt'\n",
        "# fn = dataset_path / 'mickiewicz.txt'\n",
        "# fn = dataset_path / 'witkacy_szewcy.txt'\n",
        "fn = dataset_path / 'pan_tadeusz.txt'"
      ],
      "execution_count": 0,
      "outputs": []
    },
    {
      "metadata": {
        "id": "g9H83p3sXM5L",
        "colab_type": "code",
        "colab": {
          "autoexec": {
            "startup": false,
            "wait_interval": 0
          },
          "base_uri": "https://localhost:8080/",
          "height": 68
        },
        "outputId": "d45dd41b-b684-48dd-bce2-034533b9e236",
        "executionInfo": {
          "status": "ok",
          "timestamp": 1525785563672,
          "user_tz": -120,
          "elapsed": 1525,
          "user": {
            "displayName": "Kamsiulek Malutki",
            "photoUrl": "https://lh3.googleusercontent.com/a/default-user=s128",
            "userId": "118138569128465864586"
          }
        }
      },
      "cell_type": "code",
      "source": [
        "# import unidecode\n",
        "import string\n",
        "import random\n",
        "import re\n",
        "\n",
        "# file = unidecode.unidecode(open(fn).read())\n",
        "file = open(fn).read()\n",
        "file_len = len(file)\n",
        "print('file_len =', file_len)\n",
        "\n",
        "# ascii only\n",
        "# all_characters = string.printable\n",
        "# n_characters = len(all_characters)\n",
        "\n",
        "\n",
        "# all chars found in file\n",
        "all_characters = sorted(list(set(file))); print(all_characters[:10])\n",
        "n_characters = len(all_characters); print(n_characters)"
      ],
      "execution_count": 10,
      "outputs": [
        {
          "output_type": "stream",
          "text": [
            "file_len = 203037\n",
            "['\\n', ' ', '!', '\"', '%', \"'\", '(', ')', ',', '-']\n",
            "89\n"
          ],
          "name": "stdout"
        }
      ]
    },
    {
      "metadata": {
        "id": "lL_XOG-fXM5T",
        "colab_type": "text"
      },
      "cell_type": "markdown",
      "source": [
        "Aby wprowadzić dane z tego dużego ciągu danych, podzielimy je na fragmenty."
      ]
    },
    {
      "metadata": {
        "id": "_zwmRSAHXM5T",
        "colab_type": "code",
        "colab": {
          "autoexec": {
            "startup": false,
            "wait_interval": 0
          },
          "base_uri": "https://localhost:8080/",
          "height": 204
        },
        "outputId": "0806d1df-c428-4561-8b9e-10a39312e3ea",
        "executionInfo": {
          "status": "ok",
          "timestamp": 1525785564316,
          "user_tz": -120,
          "elapsed": 561,
          "user": {
            "displayName": "Kamsiulek Malutki",
            "photoUrl": "https://lh3.googleusercontent.com/a/default-user=s128",
            "userId": "118138569128465864586"
          }
        }
      },
      "cell_type": "code",
      "source": [
        "chunk_len = 400\n",
        "\n",
        "def random_chunk():\n",
        "    start_index = random.randint(0, file_len - chunk_len)\n",
        "    end_index = start_index + chunk_len + 1\n",
        "    return file[start_index:end_index]\n",
        "\n",
        "print(random_chunk())"
      ],
      "execution_count": 11,
      "outputs": [
        {
          "output_type": "stream",
          "text": [
            "m w czoło stukał,\n",
            "Niby do wspomnień dawnych uśpionych w niém pukał,\n",
            "Nakoniec gryząc palce do krwi się zadrasnął,\n",
            "I na cały głos -- dobrze, dobrze mi tak! -- wrzasnął.\n",
            "\n",
            "We dworze, gdzie przed chwilą tyle było krzyku,\n",
            "Teraz pusto i głucho, jak na mogilniku:\n",
            "Wszyscy ruszyli w pole; Tadeusz nadstawił\n",
            "Uszu, i ręce do nich jak trąbki przyprawił,\n",
            "Słuchał, aż mu wiatr przyniósł wiejący od puszczy,\n",
            "Odgłosy \n"
          ],
          "name": "stdout"
        }
      ]
    },
    {
      "metadata": {
        "id": "X5cFLx6WXM5X",
        "colab_type": "text"
      },
      "cell_type": "markdown",
      "source": [
        "# Budowanie modelu\n",
        "\n",
        "Ten model przyjmie jako znak wejściowy znak dla kroku $ t _ {- 1} $ i ma wyprowadzić następny znak $ t $. Istnieją trzy warstwy - jedna warstwa liniowa, która koduje znak wejściowy do stanu wewnętrznego, jedna warstwa GRU (która może sama mieć wiele warstw), która działa na tym stanie wewnętrznym i stanie ukrytym, oraz warstwa dekodera, która wyprowadza rozkład prawdopodobieństwa."
      ]
    },
    {
      "metadata": {
        "id": "tZ8chQcVXM5X",
        "colab_type": "code",
        "colab": {
          "autoexec": {
            "startup": false,
            "wait_interval": 0
          }
        }
      },
      "cell_type": "code",
      "source": [
        "import torch\n",
        "import torch.nn as nn\n",
        "from torch.autograd import Variable\n",
        "\n",
        "class RNN(nn.Module):\n",
        "    def __init__(self, input_size, hidden_size, output_size, n_layers=1):\n",
        "        super(RNN, self).__init__()\n",
        "        self.input_size = input_size\n",
        "        self.hidden_size = hidden_size\n",
        "        self.output_size = output_size\n",
        "        self.n_layers = n_layers\n",
        "        \n",
        "        self.encoder = nn.Embedding(input_size, hidden_size)\n",
        "        self.gru = nn.GRU(hidden_size, hidden_size, n_layers)\n",
        "        self.decoder = nn.Linear(hidden_size, output_size)\n",
        "    \n",
        "    def forward(self, input, hidden):\n",
        "        input = self.encoder(input.view(1, -1))\n",
        "        output, hidden = self.gru(input.view(1, 1, -1), hidden)\n",
        "        output = self.decoder(output.view(1, -1))\n",
        "        return output, hidden\n",
        "\n",
        "    def init_hidden(self):\n",
        "        return Variable(to_gpu(torch.zeros(self.n_layers, 1, self.hidden_size)))"
      ],
      "execution_count": 0,
      "outputs": []
    },
    {
      "metadata": {
        "id": "62XSRFgkXM5Z",
        "colab_type": "text"
      },
      "cell_type": "markdown",
      "source": [
        "# Wejście/Wyjście"
      ]
    },
    {
      "metadata": {
        "id": "UaOPvn0rXM5Z",
        "colab_type": "text"
      },
      "cell_type": "markdown",
      "source": [
        "Każdy fragment zostanie przekształcony w tensor, w szczególności \"LongTensor\" (używany do wartości całkowitych), poprzez zapętlenie znaków ciągu i wyszukiwanie indeksu każdego znaku w `all_characters`."
      ]
    },
    {
      "metadata": {
        "id": "q0H2nwMMXM5a",
        "colab_type": "code",
        "colab": {
          "autoexec": {
            "startup": false,
            "wait_interval": 0
          },
          "base_uri": "https://localhost:8080/",
          "height": 255
        },
        "outputId": "8aba671f-aa8f-4d08-f337-8c85d5bd64b6",
        "executionInfo": {
          "status": "ok",
          "timestamp": 1525785569976,
          "user_tz": -120,
          "elapsed": 3296,
          "user": {
            "displayName": "Kamsiulek Malutki",
            "photoUrl": "https://lh3.googleusercontent.com/a/default-user=s128",
            "userId": "118138569128465864586"
          }
        }
      },
      "cell_type": "code",
      "source": [
        "# Turn string into list of longs\n",
        "def char_tensor(string):\n",
        "    tensor = torch.zeros(len(string)).long()\n",
        "    for c in range(len(string)):\n",
        "        tensor[c] = all_characters.index(string[c])\n",
        "    return Variable(to_gpu(tensor))\n",
        "\n",
        "print(char_tensor('ala ma kota'))"
      ],
      "execution_count": 13,
      "outputs": [
        {
          "output_type": "stream",
          "text": [
            "Variable containing:\n",
            " 41\n",
            " 52\n",
            " 41\n",
            "  1\n",
            " 53\n",
            " 41\n",
            "  1\n",
            " 51\n",
            " 55\n",
            " 59\n",
            " 41\n",
            "[torch.cuda.LongTensor of size 11 (GPU 0)]\n",
            "\n"
          ],
          "name": "stdout"
        }
      ]
    },
    {
      "metadata": {
        "id": "0Su49JvFXM5d",
        "colab_type": "text"
      },
      "cell_type": "markdown",
      "source": [
        "Wreszcie możemy zebrać parę tensorów wejściowych i docelowych do treningu, z losowego kawałka. Wprowadzone zostaną wszystkie znaki * aż do ostatniej *, a celem będą wszystkie znaki * od pierwszego *. Jeśli więc nasz fragment to \"abc\", dane wejściowe będą odpowiadać \"ab\", podczas gdy cel to \"bc\"."
      ]
    },
    {
      "metadata": {
        "id": "mLzzsbTRXM5d",
        "colab_type": "code",
        "colab": {
          "autoexec": {
            "startup": false,
            "wait_interval": 0
          }
        }
      },
      "cell_type": "code",
      "source": [
        "def random_training_set():    \n",
        "    chunk = random_chunk()\n",
        "    inp = char_tensor(chunk[:-1])\n",
        "    target = char_tensor(chunk[1:])\n",
        "    return inp, target"
      ],
      "execution_count": 0,
      "outputs": []
    },
    {
      "metadata": {
        "id": "vSJ_szQTXM5f",
        "colab_type": "text"
      },
      "cell_type": "markdown",
      "source": [
        "# Ewaluacja\n",
        "\n",
        "Aby ocenić sieć, będziemy podawać po jednym znaku na raz, wykorzystywać wyjścia sieci jako rozkład prawdopodobieństwa dla następnego znaku i powtarzać. Aby rozpocząć generowanie, przekazujemy ciąg wstępny, aby rozpocząć budowanie stanu ukrytego, z którego następnie generujemy po jednym znaku na raz."
      ]
    },
    {
      "metadata": {
        "id": "2ecqC4rWXM5f",
        "colab_type": "code",
        "colab": {
          "autoexec": {
            "startup": false,
            "wait_interval": 0
          }
        }
      },
      "cell_type": "code",
      "source": [
        "def evaluate(prime_str='A', predict_len=100, temperature=0.8):\n",
        "    hidden = decoder.init_hidden()\n",
        "    prime_input = char_tensor(prime_str)\n",
        "    predicted = prime_str\n",
        "\n",
        "    # Use priming string to \"build up\" hidden state\n",
        "    for p in range(len(prime_str) - 1):\n",
        "        _, hidden = decoder(prime_input[p], hidden)\n",
        "    inp = prime_input[-1]\n",
        "    \n",
        "    for p in range(predict_len):\n",
        "        output, hidden = decoder(inp, hidden)\n",
        "        \n",
        "        # Sample from the network as a multinomial distribution\n",
        "        output_dist = output.data.view(-1).div(temperature).exp()\n",
        "        top_i = torch.multinomial(output_dist, 1)[0]\n",
        "        \n",
        "        # Add predicted character to string and use as next input\n",
        "        predicted_char = all_characters[top_i]\n",
        "        predicted += predicted_char\n",
        "        inp = char_tensor(predicted_char)\n",
        "\n",
        "    return predicted"
      ],
      "execution_count": 0,
      "outputs": []
    },
    {
      "metadata": {
        "id": "lZY0fPgEXM5h",
        "colab_type": "text"
      },
      "cell_type": "markdown",
      "source": [
        "# Trenowanie modelu"
      ]
    },
    {
      "metadata": {
        "id": "-pM5T97tXM5h",
        "colab_type": "text"
      },
      "cell_type": "markdown",
      "source": [
        "Pomocnik do wydrukowania upływającego czasu:"
      ]
    },
    {
      "metadata": {
        "id": "hQnLeX-TXM5h",
        "colab_type": "code",
        "colab": {
          "autoexec": {
            "startup": false,
            "wait_interval": 0
          }
        }
      },
      "cell_type": "code",
      "source": [
        "import time, math\n",
        "\n",
        "def time_since(since):\n",
        "    s = time.time() - since\n",
        "    m = math.floor(s / 60)\n",
        "    s -= m * 60\n",
        "    return '%dm %ds' % (m, s)"
      ],
      "execution_count": 0,
      "outputs": []
    },
    {
      "metadata": {
        "id": "0pntPTWEXM5i",
        "colab_type": "text"
      },
      "cell_type": "markdown",
      "source": [
        "Główna funkcja treningowa"
      ]
    },
    {
      "metadata": {
        "id": "QKb7-MeXXM5j",
        "colab_type": "code",
        "colab": {
          "autoexec": {
            "startup": false,
            "wait_interval": 0
          }
        }
      },
      "cell_type": "code",
      "source": [
        "def train(inp, target):\n",
        "    hidden = decoder.init_hidden()\n",
        "    decoder.zero_grad()\n",
        "    loss = 0\n",
        "\n",
        "    for c in range(chunk_len):\n",
        "        output, hidden = decoder(inp[c], hidden)\n",
        "        loss += criterion(output, target[c])\n",
        "\n",
        "    loss.backward()\n",
        "    decoder_optimizer.step()\n",
        "\n",
        "    return loss.data[0] / chunk_len"
      ],
      "execution_count": 0,
      "outputs": []
    },
    {
      "metadata": {
        "id": "tyo69fakXM5k",
        "colab_type": "text"
      },
      "cell_type": "markdown",
      "source": [
        "Następnie definiujemy parametry treningowe i rozpoczynamy trening:"
      ]
    },
    {
      "metadata": {
        "id": "ILThkaRPXM5k",
        "colab_type": "code",
        "colab": {
          "autoexec": {
            "startup": false,
            "wait_interval": 0
          },
          "base_uri": "https://localhost:8080/",
          "height": 4219
        },
        "outputId": "1ee80d09-abf0-4bd4-d0bc-0638ff180d98",
        "executionInfo": {
          "status": "ok",
          "timestamp": 1525795313357,
          "user_tz": -120,
          "elapsed": 9739571,
          "user": {
            "displayName": "Kamsiulek Malutki",
            "photoUrl": "https://lh3.googleusercontent.com/a/default-user=s128",
            "userId": "118138569128465864586"
          }
        }
      },
      "cell_type": "code",
      "source": [
        "USE_GPU = True\n",
        "n_epochs = 3000   # 2000\n",
        "print_every = 100 # 100\n",
        "plot_every = 1\n",
        "hidden_size = 300 # 100\n",
        "n_layers = 4 # 1\n",
        "lr = 0.005\n",
        "\n",
        "decoder = RNN(n_characters, hidden_size, n_characters, n_layers)\n",
        "if USE_GPU:\n",
        "  decoder.cuda()\n",
        "print(decoder, flush=True)\n",
        "decoder_optimizer = torch.optim.Adam(decoder.parameters(), lr=lr)\n",
        "criterion = nn.CrossEntropyLoss()\n",
        "if USE_GPU:\n",
        "  criterion.cuda()\n",
        "\n",
        "start = time.time()\n",
        "all_losses = []\n",
        "loss_avg = 0\n",
        "\n",
        "from tqdm import tqdm\n",
        "\n",
        "for epoch in tqdm(range(1, n_epochs + 1)):\n",
        "    loss = train(*random_training_set())       \n",
        "    loss_avg += loss\n",
        "\n",
        "    if epoch % print_every == 0:\n",
        "        e = evaluate('Wh', 200)\n",
        "        print('\\n[%s (%d %d%%) %.4f]' % (time_since(start), epoch, epoch / n_epochs * 100, loss))\n",
        "        print(e, '\\n', flush=True)\n",
        "\n",
        "    if epoch % plot_every == 0:\n",
        "        all_losses.append(loss_avg / plot_every)\n",
        "        loss_avg = 0"
      ],
      "execution_count": 18,
      "outputs": [
        {
          "output_type": "stream",
          "text": [
            "RNN(\n",
            "  (encoder): Embedding(89, 300)\n",
            "  (gru): GRU(300, 300, num_layers=4)\n",
            "  (decoder): Linear(in_features=300, out_features=89)\n",
            ")\n"
          ],
          "name": "stdout"
        },
        {
          "output_type": "stream",
          "text": [
            "  0%|          | 3/3000 [00:09<2:40:20,  3.21s/it]/usr/local/lib/python3.6/dist-packages/tqdm/_monitor.py:89: TqdmSynchronisationWarning: Set changed size during iteration (see https://github.com/tqdm/tqdm/issues/481)\n",
            "  TqdmSynchronisationWarning)\n",
            "  3%|▎         | 99/3000 [05:15<2:34:13,  3.19s/it]"
          ],
          "name": "stderr"
        },
        {
          "output_type": "stream",
          "text": [
            "\n",
            "[5m 19s (100 3%) 3.1858]\n",
            "Wha c \n",
            "  za ha scsczo  \n",
            "sjłazieł c,zł sm wię łry ieswe dyc\n",
            "siytiizaswniacbęcw \n",
            "waietńs i kokaśtie\n",
            "\n",
            "tacs dlob   sba kPlwi rawwu  c\n",
            "cWki kę śz m iółes \n",
            "kę zek wietk wne Żak  ny ły\n",
            "kań \n",
            "s c ziewo sczii one \n",
            "\n"
          ],
          "name": "stdout"
        },
        {
          "output_type": "stream",
          "text": [
            "  7%|▋         | 199/3000 [10:40<2:30:20,  3.22s/it]"
          ],
          "name": "stderr"
        },
        {
          "output_type": "stream",
          "text": [
            "\n",
            "[10m 44s (200 6%) 3.1964]\n",
            "Whace p tkągedadzta  niwwiiriłediokpecąłiył cpocnz  Trczeda Padba iycocaśm mzoma,\n",
            "s  śsliececz, ciizeł kne t wanołzod  kone  pe o-niacs  ap c łopiihy zzemle wa tatrecmiedkie\n",
            "\n",
            "Izopajiawśiia nycnih s:\n",
            "\n",
            " \n",
            " \n",
            "\n"
          ],
          "name": "stdout"
        },
        {
          "output_type": "stream",
          "text": [
            " 10%|▉         | 299/3000 [16:06<2:25:30,  3.23s/it]"
          ],
          "name": "stderr"
        },
        {
          "output_type": "stream",
          "text": [
            "\n",
            "[16m 10s (300 10%) 2.9609]\n",
            "Whazylama żina wy pierłastnielłęw  wie\n",
            "A  niałełłkna,\n",
            "jokie kadoła pamnaświaśmiy,\n",
            "Pe,\n",
            "Dokkie wer szłaswie,\n",
            "Owasoma ramlie,\n",
            " ny płakła cietkac nion unie kut ka zebarna pawaszałaczew żzeedbeł w kałiyła na \n",
            "\n"
          ],
          "name": "stdout"
        },
        {
          "output_type": "stream",
          "text": [
            " 13%|█▎        | 399/3000 [21:31<2:20:17,  3.24s/it]"
          ],
          "name": "stderr"
        },
        {
          "output_type": "stream",
          "text": [
            "\n",
            "[21m 34s (400 13%) 2.8192]\n",
            "Whoceci banadtówl jzana piaśnék zadelowiem damierak mat szó gogaj, zawe wial niela dielac camagiaja i żzały dułotatie wzebam szeji sze i zenie\n",
            "Pacze jeno Sagaśn gum wora mogana wecowe tiagala kielometa  \n",
            "\n"
          ],
          "name": "stdout"
        },
        {
          "output_type": "stream",
          "text": [
            " 17%|█▋        | 499/3000 [26:55<2:14:55,  3.24s/it]"
          ],
          "name": "stderr"
        },
        {
          "output_type": "stream",
          "text": [
            "\n",
            "[26m 58s (500 16%) 2.6752]\n",
            "Whama  i ponioczyrza azymąje w nacz ny ny,\n",
            "Czaniepu zajokyjdowa kana\n",
            "A\n",
            "Wtrrepawa.\n",
            "\n",
            "Senałomi\n",
            "Aciem jasi szasti sdaszę pidajia szsz rzeody siaszna szejy zu kozywi siupie dzazwiemu jasza gaie nieł waszy ji \n",
            "\n"
          ],
          "name": "stdout"
        },
        {
          "output_type": "stream",
          "text": [
            " 20%|█▉        | 599/3000 [32:20<2:09:37,  3.24s/it]"
          ],
          "name": "stderr"
        },
        {
          "output_type": "stream",
          "text": [
            "\n",
            "[32m 24s (600 20%) 2.6587]\n",
            "Whako\n",
            "I ma dzi;\n",
            "O tad ię łiwrzamiężsaść\n",
            "Tieke ssza ker mięta dała\n",
            "Zed madaciem pali machstę rzienowia szsu zszarna pra Byniał ta kosny Seta tozta ożaniewi brzeta wana pyjęsiana, więwo w snieny radłimy;\n",
            " \n",
            "\n"
          ],
          "name": "stdout"
        },
        {
          "output_type": "stream",
          "text": [
            " 23%|██▎       | 699/3000 [37:46<2:04:20,  3.24s/it]"
          ],
          "name": "stderr"
        },
        {
          "output_type": "stream",
          "text": [
            "\n",
            "[37m 50s (700 23%) 2.5110]\n",
            "Whrzycym i posszeki u swanisniszedzostom Totieszem skorze, poliestał.\n",
            "\n",
            "biewierze zkorze szesnąsnie szerzązsza stró szesadź\n",
            "Zké zaporzech zew liz to\n",
            "Zesiezstą przęzawe szyrzą wewe zieskołą sto pótea ząsi \n",
            "\n"
          ],
          "name": "stdout"
        },
        {
          "output_type": "stream",
          "text": [
            " 27%|██▋       | 799/3000 [43:09<1:58:52,  3.24s/it]"
          ],
          "name": "stderr"
        },
        {
          "output_type": "stream",
          "text": [
            "\n",
            "[43m 12s (800 26%) 2.4660]\n",
            "Wharaznt i tięm i dzasi weta zaly uszedziazą,\n",
            "Krzyny ożadtązim growie zdoda,\n",
            "Jędać żddziczema oie wdrzega gołejstach zie ndym tuwa stytrza julo wczewiagku, co go w łdorasi,\n",
            "W i larzał done wzielą goi zl \n",
            "\n"
          ],
          "name": "stdout"
        },
        {
          "output_type": "stream",
          "text": [
            " 30%|██▉       | 899/3000 [48:34<1:53:32,  3.24s/it]"
          ],
          "name": "stderr"
        },
        {
          "output_type": "stream",
          "text": [
            "\n",
            "[48m 38s (900 30%) 2.5266]\n",
            "Whorz kęrómiem borz nicha wkodod miy chodórw ojycho krzymty dorze,\n",
            "I wił dorzego miałonie rwe w kryne irzy trosi zugy i zcam, udzierzy wiył z kogo dydzym ddawydawie tywał «Plituł z grłyniy stogo o korłi \n",
            "\n"
          ],
          "name": "stdout"
        },
        {
          "output_type": "stream",
          "text": [
            " 33%|███▎      | 999/3000 [53:57<1:48:03,  3.24s/it]"
          ],
          "name": "stderr"
        },
        {
          "output_type": "stream",
          "text": [
            "\n",
            "[54m 0s (1000 33%) 2.6412]\n",
            "Whach siej wajał\n",
            "Zawieł, cieśł prelły padna wdot biecz mowady zdazewy ządy chchesch, chka! na jcoga umiego spu chuszy, Mego chzed drobych w, wczalą  ciac spoczysze, wach tara mie zsach ciewasze wiedzą c \n",
            "\n"
          ],
          "name": "stdout"
        },
        {
          "output_type": "stream",
          "text": [
            " 37%|███▋      | 1099/3000 [59:22<1:42:42,  3.24s/it]"
          ],
          "name": "stderr"
        },
        {
          "output_type": "stream",
          "text": [
            "\n",
            "[59m 26s (1100 36%) 2.5228]\n",
            "Whspów falsz piędocze czacie,\n",
            "Sodźma cicy!\n",
            "Rzeł kol polajczytęjze.\n",
            "Sar tęskie pie cacy przekł, postam obłowi krzę żąchi,\n",
            "Saś, ni ronie słochany, draw się banów, podki w wki.\n",
            "\n",
            " Biedzie pramaleńczy postęc \n",
            "\n"
          ],
          "name": "stdout"
        },
        {
          "output_type": "stream",
          "text": [
            " 40%|███▉      | 1199/3000 [1:04:44<1:37:14,  3.24s/it]"
          ],
          "name": "stderr"
        },
        {
          "output_type": "stream",
          "text": [
            "\n",
            "[64m 48s (1200 40%) 2.3097]\n",
            "Whod złoczajał stalrognać zamadna ni kranów szych sty staku, bał  jyd sapana to.\n",
            "Jawan Zeczm w oży jor u stadzu się skrawe,\n",
            "Nycia przadzniach bamał!\n",
            "Przysz zanu pustarzy many abnia podzani przat, z prab \n",
            "\n"
          ],
          "name": "stdout"
        },
        {
          "output_type": "stream",
          "text": [
            " 43%|████▎     | 1299/3000 [1:10:09<1:31:52,  3.24s/it]"
          ],
          "name": "stderr"
        },
        {
          "output_type": "stream",
          "text": [
            "\n",
            "[70m 13s (1300 43%) 2.5610]\n",
            "Whasczni bam głaniej drowy Supilszy niem jmudzik pochuna rata,\n",
            "Cine płach szuzkłukkie,\n",
            "Niaru kał -- chum obogie Wia w chprzydziałody słowałaje obu druch weska i i jak skrotcza wsisze oboparząskeli jepro \n",
            "\n"
          ],
          "name": "stdout"
        },
        {
          "output_type": "stream",
          "text": [
            " 47%|████▋     | 1399/3000 [1:15:35<1:26:29,  3.24s/it]"
          ],
          "name": "stderr"
        },
        {
          "output_type": "stream",
          "text": [
            "\n",
            "[75m 38s (1400 46%) 2.2737]\n",
            "Wh mala wustał  niege;\n",
            "Zarzedzi ubwa nietrańne żełe drzem wzarwa.\n",
            "Szona.\n",
            "Juchna stadzaka i czajemilachniéj i zliczaladem; gończe w czały rzewiał mrzeńdłe,\n",
            "Kotrene an rawił zruczy w grozala dęgenka? go w \n",
            "\n"
          ],
          "name": "stdout"
        },
        {
          "output_type": "stream",
          "text": [
            " 50%|████▉     | 1499/3000 [1:21:00<1:21:06,  3.24s/it]"
          ],
          "name": "stderr"
        },
        {
          "output_type": "stream",
          "text": [
            "\n",
            "[81m 4s (1500 50%) 2.4895]\n",
            "Why miąm Praci,\n",
            "Wtuść przysówcinie, ustać proscył jucho,\n",
            "W ulko ztrzybtaść, a nobostrzy włowenam niepodnoci, niu biecigały Paszyć\n",
            "Jam bo pczyskiu, Wosiaś- uszłar oskowieli, rości stolszych,\n",
            "Do się je sk \n",
            "\n"
          ],
          "name": "stdout"
        },
        {
          "output_type": "stream",
          "text": [
            " 53%|█████▎    | 1599/3000 [1:26:25<1:15:43,  3.24s/it]"
          ],
          "name": "stderr"
        },
        {
          "output_type": "stream",
          "text": [
            "\n",
            "[86m 28s (1600 53%) 2.5355]\n",
            "Why klapokny bisku.\n",
            "Płoć sajnicom co się na mosikone.\n",
            "Sposcyła: Wiertaranie zak pałało się bała przysłudzo nien zkoło na:\n",
            "Awią, sto Pomacie,\n",
            "Poczyć na powastkie stać, mie wicę ralę kajeka siesię i ił so \n",
            "\n"
          ],
          "name": "stdout"
        },
        {
          "output_type": "stream",
          "text": [
            " 57%|█████▋    | 1699/3000 [1:31:50<1:10:19,  3.24s/it]"
          ],
          "name": "stderr"
        },
        {
          "output_type": "stream",
          "text": [
            "\n",
            "[91m 54s (1700 56%) 2.3481]\n",
            "Whierwał isał,\n",
            "Odwrożego ona adły i się wowała zawiałe rgrzaty,\n",
            "Oż zaczuchni\n",
            "   dałaganiech wspodadziewana ciożsczy odłoże,\n",
            "Leżestonoła szwieny,\n",
            "Że dwytała, wiiyty\n",
            "Góre ków openegugo waszcześ caniego wa \n",
            "\n"
          ],
          "name": "stdout"
        },
        {
          "output_type": "stream",
          "text": [
            " 60%|█████▉    | 1799/3000 [1:37:15<1:04:55,  3.24s/it]"
          ],
          "name": "stderr"
        },
        {
          "output_type": "stream",
          "text": [
            "\n",
            "[97m 19s (1800 60%) 2.3356]\n",
            "Whiebiona.\n",
            "Ta biewnie niena obrzy buł zakłi do nieżonogy mitki, dynia wywał krył i że,\n",
            "Aż jie jieba wiczywy nikie to oćtał, Żo oroz wyżał, w niem:\n",
            "Jał muż płykni mielnimieni skikim so niemi wysież seby  \n",
            "\n"
          ],
          "name": "stdout"
        },
        {
          "output_type": "stream",
          "text": [
            " 63%|██████▎   | 1899/3000 [1:42:41<59:32,  3.24s/it]"
          ],
          "name": "stderr"
        },
        {
          "output_type": "stream",
          "text": [
            "\n",
            "[102m 44s (1900 63%) 2.1848]\n",
            "Why trzed puchkając podzakał kowięż dałe w gtu wech troczana przech nie, cię ubnie, ka dz to królańch manna krała Rawią, wssabiem się werknuch krani.\n",
            "W sto Hrwacha i w to ochrzebié niego kałeby słorała, \n",
            "\n"
          ],
          "name": "stdout"
        },
        {
          "output_type": "stream",
          "text": [
            " 67%|██████▋   | 1999/3000 [1:48:06<54:08,  3.24s/it]"
          ],
          "name": "stderr"
        },
        {
          "output_type": "stream",
          "text": [
            "\n",
            "[108m 10s (2000 66%) 2.3893]\n",
            "Whał i jalo źarzy,\n",
            "A -- Kłodziem udrzykaje zisczyna że gjedam gośny drajec ugałe gaku się zedasna,\n",
            "Naśła s do zpodyna jiena wiedzieże,\n",
            "Przydno ukolaly ogamalic rzokarcusze nażnone osię zagubem się banie \n",
            "\n"
          ],
          "name": "stdout"
        },
        {
          "output_type": "stream",
          "text": [
            " 70%|██████▉   | 2099/3000 [1:53:32<48:44,  3.25s/it]"
          ],
          "name": "stderr"
        },
        {
          "output_type": "stream",
          "text": [
            "\n",
            "[113m 35s (2100 70%) 2.2123]\n",
            "Whoszie gadny nalejnia pokiedy do rzyszykowiewszył,\n",
            "I dło kłowu, Ty tę zał s się się grzeusów nie sami doję rzewocie kylko powoda go ż do wiedywy się przadźny gojad nich wygo w do połed zagał moska się  \n",
            "\n"
          ],
          "name": "stdout"
        },
        {
          "output_type": "stream",
          "text": [
            " 73%|███████▎  | 2199/3000 [1:58:56<43:19,  3.25s/it]"
          ],
          "name": "stderr"
        },
        {
          "output_type": "stream",
          "text": [
            "\n",
            "[119m 0s (2200 73%) 2.3651]\n",
            "Whnikaje? do krzeka krówi\n",
            " -- przycha nie, kasznie? zysłał?,\n",
            "Nali kowienia do tywle zwat, portest, tach artąch s wzanenia Solane jewiecyny?\n",
            "\n",
            "Tska tel wyszczyłyput podem ukasał że krone,\n",
            "Żyrłi Małył prza \n",
            "\n"
          ],
          "name": "stdout"
        },
        {
          "output_type": "stream",
          "text": [
            " 77%|███████▋  | 2299/3000 [2:04:20<37:54,  3.25s/it]"
          ],
          "name": "stderr"
        },
        {
          "output_type": "stream",
          "text": [
            "\n",
            "[124m 24s (2300 76%) 2.5122]\n",
            "Whru przyczuł te w drzerzy\n",
            "Wiem wskony dzierki sstakiem wiekę sku po robna odwiere w wsoderwie pogy chane w udymowkam uskim,\n",
            "Kodkieniem zażbem kachunki parwiała porów wykrumie starwegam zakrykch dziewsz \n",
            "\n"
          ],
          "name": "stdout"
        },
        {
          "output_type": "stream",
          "text": [
            " 80%|███████▉  | 2399/3000 [2:09:45<32:30,  3.25s/it]"
          ],
          "name": "stderr"
        },
        {
          "output_type": "stream",
          "text": [
            "\n",
            "[129m 49s (2400 80%) 2.4154]\n",
            "Whoły pare spowiskichy.\n",
            "Talę się w Pęną ubię niku\n",
            "Biém czynéj nie miesz i mrwiedziéj tozoco w nie go rzech wieniedzydy krzylkie téj się gasski,\n",
            "Posta suczę wrabie mo nieszcz, s mod w tak drzeborząd w gt \n",
            "\n"
          ],
          "name": "stdout"
        },
        {
          "output_type": "stream",
          "text": [
            " 83%|████████▎ | 2499/3000 [2:15:09<27:05,  3.25s/it]"
          ],
          "name": "stderr"
        },
        {
          "output_type": "stream",
          "text": [
            "\n",
            "[135m 13s (2500 83%) 2.4353]\n",
            "Whałoda powalał namąc, saba! Frzykłowodaniewić włoby wyskanimu, zaszestew gorny; pamiezeby omów przykoławoraniewowę pocze dzańniemniem korza opowina;\n",
            "Zemicio mispawał komicoć czania gdzównyc niejski wie \n",
            "\n"
          ],
          "name": "stdout"
        },
        {
          "output_type": "stream",
          "text": [
            " 87%|████████▋ | 2599/3000 [2:20:34<21:41,  3.25s/it]"
          ],
          "name": "stderr"
        },
        {
          "output_type": "stream",
          "text": [
            "\n",
            "[140m 38s (2600 86%) 2.3461]\n",
            "Wha posto się wywołą pomonie sprzed dudywiem,\n",
            "Międdosi się  s po brad pojdecy na ko wy ka s do w Isielka.\n",
            "Mraszą pieskinanie pościć;\n",
            "Tadeudzę; nie przyce ciena wpusie chwad pajen niewa,\n",
            "W midziecie w ty \n",
            "\n"
          ],
          "name": "stdout"
        },
        {
          "output_type": "stream",
          "text": [
            " 90%|████████▉ | 2699/3000 [2:25:59<16:16,  3.25s/it]"
          ],
          "name": "stderr"
        },
        {
          "output_type": "stream",
          "text": [
            "\n",
            "[146m 3s (2700 90%) 2.3756]\n",
            "Why; i nyżyć sko sanum,\n",
            "Stowe wiech dohydnem hozów.\n",
            "Mierz mu brówiewsze --\n",
            "\n",
            "\n",
            "\n",
            "\n",
            "\n",
            "   \n",
            "Mokone, leszkienie zykrze upliwéj rofięki, strzed powiese. Roszewą, i wdziżeli,\n",
            "Śchył\n",
            "Megłeby.\n",
            "-- Wiedzielko, ptenczéj \n",
            "\n"
          ],
          "name": "stdout"
        },
        {
          "output_type": "stream",
          "text": [
            " 93%|█████████▎| 2799/3000 [2:31:24<10:52,  3.25s/it]"
          ],
          "name": "stderr"
        },
        {
          "output_type": "stream",
          "text": [
            "\n",
            "[151m 28s (2800 93%) 2.2747]\n",
            "Whiem mieł gęch zokieni pomy co niedzyk Hruśmie Pawicie po brasto skórem chwiek: zwumiejszeniek pogrzycze pyte,\n",
            "I wpomny króbki ostrzomskako --\n",
            "I goskiem, bak gokane i cikie, chony jertych w brałko wybr \n",
            "\n"
          ],
          "name": "stdout"
        },
        {
          "output_type": "stream",
          "text": [
            " 97%|█████████▋| 2899/3000 [2:36:50<05:27,  3.25s/it]"
          ],
          "name": "stderr"
        },
        {
          "output_type": "stream",
          "text": [
            "\n",
            "[156m 53s (2900 96%) 2.2148]\n",
            "Wh gędzielganej pugiły\n",
            "Rakulki gród zastaw dego rzedzieciu, gogna litkł się wi ośmieskem rzedzią, i z mielech przupienie dkieś\n",
            "zgęmie dług ostył,\n",
            "A się z małyi się siwidsczy strowsze,\n",
            "Znak się głodo grz \n",
            "\n"
          ],
          "name": "stdout"
        },
        {
          "output_type": "stream",
          "text": [
            "100%|█████████▉| 2999/3000 [2:42:13<00:03,  3.25s/it]"
          ],
          "name": "stderr"
        },
        {
          "output_type": "stream",
          "text": [
            "\n",
            "[162m 17s (3000 100%) 2.4987]\n",
            "Whwię,\n",
            "I pode pod krzéj,\n",
            "Taje lade potrowie, jak siaz tacu wy ustuwo na się na w sty niegzuczelka proszcza rzagi cieś pogu;\n",
            "Dadzie do a charwy kanie spobią:\n",
            "Gaz spagi! z cz dażéj wyrzy się pojerwać:\n",
            "Sta \n",
            "\n"
          ],
          "name": "stdout"
        },
        {
          "output_type": "stream",
          "text": [
            "\r100%|██████████| 3000/3000 [2:42:17<00:00,  3.25s/it]\n"
          ],
          "name": "stderr"
        }
      ]
    },
    {
      "metadata": {
        "id": "dXrPD94SXM5m",
        "colab_type": "text"
      },
      "cell_type": "markdown",
      "source": [
        "# Rysowanie wykresu funkcji straty\n",
        "\n",
        "Wykreślanie historycznej straty z all_losses pokazuje uczenie sieci:"
      ]
    },
    {
      "metadata": {
        "id": "meKCxPo3XM5n",
        "colab_type": "code",
        "colab": {
          "autoexec": {
            "startup": false,
            "wait_interval": 0
          },
          "base_uri": "https://localhost:8080/",
          "height": 282
        },
        "outputId": "40d7a20b-8f87-4d33-d6a2-5eb7ea7478dc",
        "executionInfo": {
          "status": "ok",
          "timestamp": 1525795314903,
          "user_tz": -120,
          "elapsed": 1510,
          "user": {
            "displayName": "Kamsiulek Malutki",
            "photoUrl": "https://lh3.googleusercontent.com/a/default-user=s128",
            "userId": "118138569128465864586"
          }
        }
      },
      "cell_type": "code",
      "source": [
        "import matplotlib.pyplot as plt\n",
        "import matplotlib.ticker as ticker\n",
        "%matplotlib inline\n",
        "\n",
        "plt.figure()\n",
        "plt.plot(all_losses)"
      ],
      "execution_count": 19,
      "outputs": [
        {
          "output_type": "execute_result",
          "data": {
            "text/plain": [
              "[<matplotlib.lines.Line2D at 0x7f1327d76b70>]"
            ]
          },
          "metadata": {
            "tags": []
          },
          "execution_count": 19
        },
        {
          "output_type": "display_data",
          "data": {
            "image/png": "[encoded data removed]",
            "text/plain": [
              "<matplotlib.figure.Figure at 0x7f13a869b0f0>"
            ]
          },
          "metadata": {
            "tags": []
          }
        }
      ]
    },
    {
      "metadata": {
        "id": "LJA5RhDWTdp_",
        "colab_type": "code",
        "colab": {
          "autoexec": {
            "startup": false,
            "wait_interval": 0
          },
          "base_uri": "https://localhost:8080/",
          "height": 34
        },
        "outputId": "71017af0-6701-4031-d395-bac8db8ecd95",
        "executionInfo": {
          "status": "ok",
          "timestamp": 1525795316844,
          "user_tz": -120,
          "elapsed": 1874,
          "user": {
            "displayName": "Kamsiulek Malutki",
            "photoUrl": "https://lh3.googleusercontent.com/a/default-user=s128",
            "userId": "118138569128465864586"
          }
        }
      },
      "cell_type": "code",
      "source": [
        "!uptime"
      ],
      "execution_count": 20,
      "outputs": [
        {
          "output_type": "stream",
          "text": [
            " 16:01:56 up  2:59,  0 users,  load average: 1.00, 1.00, 1.00\r\n"
          ],
          "name": "stdout"
        }
      ]
    },
    {
      "metadata": {
        "id": "bFJdzy4PTnsO",
        "colab_type": "code",
        "colab": {
          "autoexec": {
            "startup": false,
            "wait_interval": 0
          },
          "base_uri": "https://localhost:8080/",
          "height": 139
        },
        "outputId": "867e92af-333e-4a8f-c49d-503b01f92c82",
        "executionInfo": {
          "status": "ok",
          "timestamp": 1525795317277,
          "user_tz": -120,
          "elapsed": 407,
          "user": {
            "displayName": "Kamsiulek Malutki",
            "photoUrl": "https://lh3.googleusercontent.com/a/default-user=s128",
            "userId": "118138569128465864586"
          }
        }
      },
      "cell_type": "code",
      "source": [
        "who"
      ],
      "execution_count": 21,
      "outputs": [
        {
          "output_type": "stream",
          "text": [
            "Path\t RNN\t USE_GPU\t Variable\t all_characters\t all_losses\t char_tensor\t chunk_len\t criterion\t \n",
            "dataset_path\t decoder\t decoder_optimizer\t e\t epoch\t evaluate\t file\t file_len\t fn\t \n",
            "hidden_size\t loss\t loss_avg\t lr\t math\t n_characters\t n_epochs\t n_layers\t nn\t \n",
            "os\t plot_every\t plt\t print_every\t print_memsize\t psutil\t random\t random_chunk\t random_training_set\t \n",
            "re\t start\t string\t ticker\t time\t time_since\t tmp_path\t to_gpu\t torch\t \n",
            "tqdm\t train\t \n"
          ],
          "name": "stdout"
        }
      ]
    },
    {
      "metadata": {
        "id": "2fEFWi-FXM5p",
        "colab_type": "text"
      },
      "cell_type": "markdown",
      "source": [
        "# Ocena w różnych \"temperaturach\"\n",
        "\n",
        "W powyższej funkcji `evaluate`, za każdym razem, gdy dokonywana jest prognoza, wyjścia są dzielone przez przekazany argument \"temperature\". Używanie większej liczby sprawia, że wszystkie akcje są bardziej jednakowo prawdopodobne, a tym samym dają nam \"bardziej losowe\" (\"more random\") wyniki. Używanie mniejszej wartości (mniejszej niż 1) sprawia, że wysokie prawdopodobieństwa przyczyniają się bardziej. Gdy ustawiamy temperaturę na zero, wybieramy tylko najbardziej prawdopodobne wyjścia.\n",
        "\n",
        "Możemy to zobaczyć poprzez dostosowanie argumentu `temperature`.\n"
      ]
    },
    {
      "metadata": {
        "id": "gBm5ibSnXM5p",
        "colab_type": "code",
        "colab": {
          "autoexec": {
            "startup": false,
            "wait_interval": 0
          },
          "base_uri": "https://localhost:8080/",
          "height": 153
        },
        "outputId": "791d8e4d-9ef6-4b36-a2e0-9749d53713a0",
        "executionInfo": {
          "status": "ok",
          "timestamp": 1525795318273,
          "user_tz": -120,
          "elapsed": 961,
          "user": {
            "displayName": "Kamsiulek Malutki",
            "photoUrl": "https://lh3.googleusercontent.com/a/default-user=s128",
            "userId": "118138569128465864586"
          }
        }
      },
      "cell_type": "code",
      "source": [
        "print(evaluate('Th', 200, temperature=0.8))"
      ],
      "execution_count": 22,
      "outputs": [
        {
          "output_type": "stream",
          "text": [
            "Th szłune i zuła kradzić, Wapówon,\n",
            "Coby, pażyli po od w sierząża w poczy zabuuczyć na ziatkie bania!\n",
            "\n",
            "Ta zgrzebiwą znałko, z błowoszki munią wiajsze tażwiał cz kofakienie;\n",
            "\n",
            "Tadzy.\n",
            "\n",
            "Tuża szysta grzest st\n"
          ],
          "name": "stdout"
        }
      ]
    },
    {
      "metadata": {
        "id": "DnStt-FzXM5r",
        "colab_type": "text"
      },
      "cell_type": "markdown",
      "source": [
        "[link text](https://)Lower temperatures are less varied, choosing only the more probable outputs:"
      ]
    },
    {
      "metadata": {
        "id": "D3mkq_sCXM5r",
        "colab_type": "code",
        "colab": {
          "autoexec": {
            "startup": false,
            "wait_interval": 0
          },
          "base_uri": "https://localhost:8080/",
          "height": 71
        },
        "outputId": "c574d9a0-173e-4089-b5be-a8c7fbbaf472",
        "executionInfo": {
          "status": "ok",
          "timestamp": 1525795319265,
          "user_tz": -120,
          "elapsed": 968,
          "user": {
            "displayName": "Kamsiulek Malutki",
            "photoUrl": "https://lh3.googleusercontent.com/a/default-user=s128",
            "userId": "118138569128465864586"
          }
        }
      },
      "cell_type": "code",
      "source": [
        "print(evaluate('Th', 200, temperature=0.2))"
      ],
      "execution_count": 23,
      "outputs": [
        {
          "output_type": "stream",
          "text": [
            "Th się się się pod usta się szarzy spanie pawie się się stawie w poszycz pod poszczyn w w poszyć się pod poszanie w się się w zabawnie w się się pod się w do pod się w się się się pod wielnie,\n",
            "I się z s\n"
          ],
          "name": "stdout"
        }
      ]
    },
    {
      "metadata": {
        "id": "l508QP1LXM5t",
        "colab_type": "text"
      },
      "cell_type": "markdown",
      "source": [
        "Higher temperatures more varied, choosing less probable outputs:"
      ]
    },
    {
      "metadata": {
        "id": "SxhfgI-PXM5u",
        "colab_type": "code",
        "colab": {
          "autoexec": {
            "startup": false,
            "wait_interval": 0
          },
          "base_uri": "https://localhost:8080/",
          "height": 170
        },
        "outputId": "4c55b602-a5ac-43cc-f4b9-3271296c4356",
        "executionInfo": {
          "status": "ok",
          "timestamp": 1525795320268,
          "user_tz": -120,
          "elapsed": 978,
          "user": {
            "displayName": "Kamsiulek Malutki",
            "photoUrl": "https://lh3.googleusercontent.com/a/default-user=s128",
            "userId": "118138569128465864586"
          }
        }
      },
      "cell_type": "code",
      "source": [
        "print(evaluate('Th', 200, temperature=1.4))"
      ],
      "execution_count": 24,
      "outputs": [
        {
          "output_type": "stream",
          "text": [
            "Thażew glują\n",
            "Obająge wepy gropa nachwieg w oć oka- roy\n",
            "trzątam Abia.\n",
            "Néj na w nieźszcza\n",
            "Bostaśli,\n",
            "Nugą ę s:-- uciarwadzi tacóna bogu!\n",
            "Nnam larbąryny możodanać spłostąć\n",
            "Téczniéj mowonąć;\n",
            "Agazaz pokał mow\n"
          ],
          "name": "stdout"
        }
      ]
    },
    {
      "metadata": {
        "id": "-UQoZYk2XM5v",
        "colab_type": "text"
      },
      "cell_type": "markdown",
      "source": [
        "# Ćwiczenia\n",
        "\n",
        "* Trenuj z własnym zestawem danych, np.\n",
        "     * Tekst od innego autora\n",
        "     * Posty na blogu\n",
        "     * Kod\n",
        "* Zwiększ liczbę warstw i rozmiar sieci, aby uzyskać lepsze wyniki"
      ]
    },
    {
      "metadata": {
        "id": "pFHHvkI6XM5w",
        "colab_type": "text"
      },
      "cell_type": "markdown",
      "source": [
        "**Następnie**: [Generowanie nazw z warunkowym poziomem RNN na poziomie znaku](https://github.com/spro/practical-pytorch/blob/master/conditional-char-rnn/conditional-char-rnn.ipynb)"
      ]
    },
    {
      "metadata": {
        "id": "EtK-9BuuB-GX",
        "colab_type": "text"
      },
      "cell_type": "markdown",
      "source": [
        "# Zapisywanie modelu"
      ]
    },
    {
      "metadata": {
        "id": "aSA3Utpc6dXV",
        "colab_type": "code",
        "colab": {
          "autoexec": {
            "startup": false,
            "wait_interval": 0
          }
        }
      },
      "cell_type": "code",
      "source": [
        "ALLCHARS, MODEL = ['all_characters', 'model']\n",
        "\n",
        "fn_pan_tadeusz = {ALLCHARS: 'all_characters.pan_tadeusz.p', MODEL: 'pan_tadeusz.h400.l3.3000.gpu.torch'}\n",
        "\n",
        "fn_dict = fn_pan_tadeusz"
      ],
      "execution_count": 0,
      "outputs": []
    },
    {
      "metadata": {
        "id": "XJ-j5_4I6d0g",
        "colab_type": "code",
        "colab": {
          "autoexec": {
            "startup": false,
            "wait_interval": 0
          }
        }
      },
      "cell_type": "code",
      "source": [
        "# save all_characters\n",
        "import pickle\n",
        "\n",
        "pickle.dump(all_characters, open(tmp_path / fn_dict[ALLCHARS], 'wb'))"
      ],
      "execution_count": 0,
      "outputs": []
    },
    {
      "metadata": {
        "id": "CDm3bjJy6d3S",
        "colab_type": "code",
        "colab": {
          "autoexec": {
            "startup": false,
            "wait_interval": 0
          }
        }
      },
      "cell_type": "code",
      "source": [
        "# all_characters = pickle.load( open( tmp_path / fn_dict[ALLCHARS], 'rb' ) )\n",
        "# n_characters = len(all_characters)"
      ],
      "execution_count": 0,
      "outputs": []
    },
    {
      "metadata": {
        "id": "IwOSEhKulCwX",
        "colab_type": "text"
      },
      "cell_type": "markdown",
      "source": [
        ""
      ]
    },
    {
      "metadata": {
        "id": "qHbGgVULB_cp",
        "colab_type": "code",
        "colab": {
          "autoexec": {
            "startup": false,
            "wait_interval": 0
          },
          "base_uri": "https://localhost:8080/",
          "height": 102
        },
        "outputId": "4297fe1b-0f18-40d0-f7d6-ba25043080b6",
        "executionInfo": {
          "status": "ok",
          "timestamp": 1525795323213,
          "user_tz": -120,
          "elapsed": 691,
          "user": {
            "displayName": "Kamsiulek Malutki",
            "photoUrl": "https://lh3.googleusercontent.com/a/default-user=s128",
            "userId": "118138569128465864586"
          }
        }
      },
      "cell_type": "code",
      "source": [
        "decoder.state_dict"
      ],
      "execution_count": 28,
      "outputs": [
        {
          "output_type": "execute_result",
          "data": {
            "text/plain": [
              "<bound method Module.state_dict of RNN(\n",
              "  (encoder): Embedding(89, 300)\n",
              "  (gru): GRU(300, 300, num_layers=4)\n",
              "  (decoder): Linear(in_features=300, out_features=89)\n",
              ")>"
            ]
          },
          "metadata": {
            "tags": []
          },
          "execution_count": 28
        }
      ]
    },
    {
      "metadata": {
        "id": "nRXLplmTCumA",
        "colab_type": "code",
        "colab": {
          "autoexec": {
            "startup": false,
            "wait_interval": 0
          },
          "base_uri": "https://localhost:8080/",
          "height": 71
        },
        "outputId": "14d3aa5f-1736-479c-f32e-720a1594dee2",
        "executionInfo": {
          "status": "ok",
          "timestamp": 1525795324005,
          "user_tz": -120,
          "elapsed": 747,
          "user": {
            "displayName": "Kamsiulek Malutki",
            "photoUrl": "https://lh3.googleusercontent.com/a/default-user=s128",
            "userId": "118138569128465864586"
          }
        }
      },
      "cell_type": "code",
      "source": [
        "# save model\n",
        "model_path = tmp_path / fn_dict[MODEL]\n",
        "torch.save(decoder, model_path)"
      ],
      "execution_count": 29,
      "outputs": [
        {
          "output_type": "stream",
          "text": [
            "/usr/local/lib/python3.6/dist-packages/torch/serialization.py:158: UserWarning: Couldn't retrieve source code for container of type RNN. It won't be checked for correctness upon loading.\n",
            "  \"type \" + obj.__name__ + \". It won't be checked \"\n"
          ],
          "name": "stderr"
        }
      ]
    },
    {
      "metadata": {
        "id": "-D9_ONXNMHPK",
        "colab_type": "code",
        "colab": {
          "autoexec": {
            "startup": false,
            "wait_interval": 0
          }
        }
      },
      "cell_type": "code",
      "source": [
        " # decoder = torch.load(model_path)"
      ],
      "execution_count": 0,
      "outputs": []
    },
    {
      "metadata": {
        "id": "Tm9jbTN6Wfl-",
        "colab_type": "code",
        "colab": {
          "autoexec": {
            "startup": false,
            "wait_interval": 0
          },
          "base_uri": "https://localhost:8080/",
          "height": 34
        },
        "outputId": "6d4d5a41-7acf-4825-d596-23e357d598ae",
        "executionInfo": {
          "status": "ok",
          "timestamp": 1525795325642,
          "user_tz": -120,
          "elapsed": 819,
          "user": {
            "displayName": "Kamsiulek Malutki",
            "photoUrl": "https://lh3.googleusercontent.com/a/default-user=s128",
            "userId": "118138569128465864586"
          }
        }
      },
      "cell_type": "code",
      "source": [
        "model_path"
      ],
      "execution_count": 31,
      "outputs": [
        {
          "output_type": "execute_result",
          "data": {
            "text/plain": [
              "PosixPath('/content/data/rnn_generator/tmp/pan_tadeusz.h400.l3.3000.gpu.torch')"
            ]
          },
          "metadata": {
            "tags": []
          },
          "execution_count": 31
        }
      ]
    },
    {
      "metadata": {
        "id": "Dt8_7GshWi4M",
        "colab_type": "code",
        "colab": {
          "autoexec": {
            "startup": false,
            "wait_interval": 0
          },
          "base_uri": "https://localhost:8080/",
          "height": 102
        },
        "outputId": "8b0b1926-ca6b-499c-89ca-400c249fb53b",
        "executionInfo": {
          "status": "ok",
          "timestamp": 1525795327519,
          "user_tz": -120,
          "elapsed": 1839,
          "user": {
            "displayName": "Kamsiulek Malutki",
            "photoUrl": "https://lh3.googleusercontent.com/a/default-user=s128",
            "userId": "118138569128465864586"
          }
        }
      },
      "cell_type": "code",
      "source": [
        "ls -lah /content/data/rnn_generator/tmp/"
      ],
      "execution_count": 32,
      "outputs": [
        {
          "output_type": "stream",
          "text": [
            "total 8.5M\r\n",
            "drwxr-xr-x 2 root root 4.0K May  8 16:02 \u001b[0m\u001b[01;34m.\u001b[0m/\r\n",
            "drwxr-xr-x 3 root root 4.0K May  8 13:19 \u001b[01;34m..\u001b[0m/\r\n",
            "-rw-r--r-- 1 root root  743 May  8 16:02 all_characters.pan_tadeusz.p\r\n",
            "-rw-r--r-- 1 root root 8.5M May  8 16:02 pan_tadeusz.h400.l3.3000.gpu.torch\r\n"
          ],
          "name": "stdout"
        }
      ]
    }
  ]
}