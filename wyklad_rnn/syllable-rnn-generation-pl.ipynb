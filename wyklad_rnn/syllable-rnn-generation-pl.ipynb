{
 "cells": [
  {
   "cell_type": "markdown",
   "metadata": {
    "colab_type": "text",
    "id": "iVsYe7S5XM5G"
   },
   "source": [
    "![](https://i.imgur.com/eBRPvWB.png)\n",
    "\n",
    "# Generowanie poezji za pomocą RNN i PyTorch w oparciu o sylaby.\n",
    "\n",
    "[W tutorialu](https://github.com/spro/practical-pytorch/blob/master/char-rnn-classification/char-rnn-classification.ipynb) użyliśmy RNN, aby sklasyfikować tekst po jednym znaku na raz. Tym razem wygenerujemy tekst po jedej sylabie na raz.\n",
    "```\n",
    "> python generate.py -n 500\n",
    "\n",
    "PAOLTREDN:\n",
    "Let, yil exter shis owrach we so sain, fleas,\n",
    "Be wast the shall deas, puty sonse my sheete.\n",
    "\n",
    "BAUFIO:\n",
    "Sirh carrow out with the knonuot my comest sifard queences\n",
    "O all a man unterd.\n",
    "\n",
    "PROMENSJO:\n",
    "Ay, I to Heron, I sack, againous; bepear, Butch,\n",
    "An as shalp will of that seal think.\n",
    "\n",
    "NUKINUS:\n",
    "And house it to thee word off hee:\n",
    "And thou charrota the son hange of that shall denthand\n",
    "For the say hor you are of I folles muth me?\n",
    "```\n",
    "\n",
    "This one might make you question the series title — \"is that really practical?\" However, these sorts of generative models form the basis of machine translation, image captioning, question answering and more.\n",
    "\n",
    "Zobacz [Sequence to Sequence Translation tutorial](https://github.com/spro/practical-pytorch/blob/master/seq2seq-translation/seq2seq-translation.ipynb) żeby nauczyć się więcej w tym temacie."
   ]
  },
  {
   "cell_type": "markdown",
   "metadata": {
    "colab_type": "text",
    "id": "WamMk47AXM5I"
   },
   "source": [
    "## Warto przeczytać\n",
    "\n",
    "Zakładam, że zainstalowałeś przynajmniej PyTorch, znasz Pythona i rozumiesz Tensory:\n",
    "\n",
    "* http://pytorch.org/ Instrukcje instalacji\n",
    "* [Deep Learning with PyTorch: A 60-minute Blitz](https://github.com/pytorch/tutorials/blob/master/Deep%20Learning%20with%20PyTorch.ipynb) jak zacząć z PyTorch (ogólnie)\n",
    "* [jcjohnson's PyTorch examples](https://github.com/jcjohnson/pytorch-examples) dla szczegółowego przeglądu\n",
    "* [Introduction to PyTorch for former Torchies](https://github.com/pytorch/tutorials/blob/master/Introduction%20to%20PyTorch%20for%20former%20Torchies.ipynb) jeśli byłeś użytkownikiem Lua Torch\n",
    "\n",
    "Przydałoby się również wiedzieć o RNN'ach i ich działaniu:\n",
    "\n",
    "* [The Unreasonable Effectiveness of Recurrent Neural Networks](http://karpathy.github.io/2015/05/21/rnn-effectiveness/) pokazuje kilka przykładów z życia\n",
    "* [Understanding LSTM Networks](http://colah.github.io/posts/2015-08-Understanding-LSTMs/) dotyczy LSTM'ów, ale też podaje ogólne informacje na temat RNN\n",
    "\n",
    "Zobacz także podobne tutoriale z serii:\n",
    "\n",
    "* [Classifying Names with a Character-Level RNN](https://github.com/spro/practical-pytorch/blob/master/char-rnn-classification/char-rnn-classification.ipynb) używa RNN do klasyfikacji\n",
    "* [Generating Names with a Conditional Character-Level RNN](https://github.com/spro/practical-pytorch/blob/master/conditional-char-rnn/conditional-char-rnn.ipynb) opierając się na tym modelu, dodaje kategorię jako dane wejściowe"
   ]
  },
  {
   "cell_type": "markdown",
   "metadata": {
    "colab_type": "text",
    "id": "g8KbaMvrXM5J"
   },
   "source": [
    "## Przygotowanie danych"
   ]
  },
  {
   "cell_type": "markdown",
   "metadata": {},
   "source": [
    "Plik wejściowy to duży plik tekstowy. Dzielimy go na sylaby."
   ]
  },
  {
   "cell_type": "markdown",
   "metadata": {
    "colab_type": "text",
    "id": "IKPynzs-yyW-"
   },
   "source": [
    "### Podzielenie korpusu na sylaby"
   ]
  },
  {
   "cell_type": "code",
   "execution_count": null,
   "metadata": {
    "colab": {
     "autoexec": {
      "startup": false,
      "wait_interval": 0
     }
    },
    "colab_type": "code",
    "id": "80ZjgATAXsVn"
   },
   "outputs": [],
   "source": [
    "from pathlib import Path\n",
    "dataset_path = Path('data/rnn_generator'); dataset_path\n",
    "tmp_path = dataset_path / 'tmp/'\n",
    "!mkdir -p $tmp_path"
   ]
  },
  {
   "cell_type": "code",
   "execution_count": null,
   "metadata": {
    "colab": {
     "autoexec": {
      "startup": false,
      "wait_interval": 0
     },
     "base_uri": "https://localhost:8080/",
     "height": 153
    },
    "colab_type": "code",
    "executionInfo": {
     "elapsed": 1540,
     "status": "ok",
     "timestamp": 1526497556430,
     "user": {
      "displayName": "Wojtek Czarnowski",
      "photoUrl": "//lh6.googleusercontent.com/-Sx8k456RbyI/AAAAAAAAAAI/AAAAAAAAEig/wmURGqbv_J8/s50-c-k-no/photo.jpg",
      "userId": "115130698336476923651"
     },
     "user_tz": 0
    },
    "id": "CPFXCZguyyXA",
    "outputId": "91e54de8-2a37-468c-8ced-b8c83944cced"
   },
   "outputs": [],
   "source": [
    "ls -lah $dataset_path/"
   ]
  },
  {
   "cell_type": "code",
   "execution_count": null,
   "metadata": {
    "colab": {
     "autoexec": {
      "startup": false,
      "wait_interval": 0
     }
    },
    "colab_type": "code",
    "id": "9eTRgNsMyyXD"
   },
   "outputs": [],
   "source": [
    "fn_corpus_char = dataset_path/'pan_tadeusz.txt'\n",
    "fn_corpus_syl = dataset_path/'pan_tadeusz.syl1.txt'"
   ]
  },
  {
   "cell_type": "code",
   "execution_count": null,
   "metadata": {
    "colab": {
     "autoexec": {
      "startup": false,
      "wait_interval": 0
     }
    },
    "colab_type": "code",
    "id": "efaGn-TLyyXG"
   },
   "outputs": [],
   "source": [
    "platform_suffixes = {'Linux': 'linux', 'Darwin': 'macos'}\n",
    "import platform\n",
    "platform_suffix = platform_suffixes[platform.system()]\n",
    "stemmer_bin = f'bin/stemmer.{platform_suffix}'"
   ]
  },
  {
   "cell_type": "code",
   "execution_count": null,
   "metadata": {
    "colab": {
     "autoexec": {
      "startup": false,
      "wait_interval": 0
     }
    },
    "colab_type": "code",
    "id": "w3qYJ20EyyXI"
   },
   "outputs": [],
   "source": [
    "# !$stemmer_bin -h"
   ]
  },
  {
   "cell_type": "code",
   "execution_count": null,
   "metadata": {
    "colab": {
     "autoexec": {
      "startup": false,
      "wait_interval": 0
     },
     "base_uri": "https://localhost:8080/",
     "height": 663
    },
    "colab_type": "code",
    "executionInfo": {
     "elapsed": 3831,
     "status": "ok",
     "timestamp": 1526497562469,
     "user": {
      "displayName": "Wojtek Czarnowski",
      "photoUrl": "//lh6.googleusercontent.com/-Sx8k456RbyI/AAAAAAAAAAI/AAAAAAAAEig/wmURGqbv_J8/s50-c-k-no/photo.jpg",
      "userId": "115130698336476923651"
     },
     "user_tz": 0
    },
    "id": "xGbQYAUYyyXK",
    "outputId": "b3ddcedc-2c6a-4351-d89e-c0479196ed68"
   },
   "outputs": [],
   "source": [
    "!$stemmer_bin -s 7683 -v -d bin/stemmer2.dic -i $fn_corpus_char -o $fn_corpus_syl"
   ]
  },
  {
   "cell_type": "markdown",
   "metadata": {
    "colab_type": "text",
    "id": "vpf6QibJyyXL"
   },
   "source": [
    "### Załadowanie danych"
   ]
  },
  {
   "cell_type": "markdown",
   "metadata": {},
   "source": [
    "Ładujemy plik do pamięci i tokenizujemy. Tworzymy też listę wszystkich tokenów `all_tokens`."
   ]
  },
  {
   "cell_type": "code",
   "execution_count": null,
   "metadata": {
    "colab": {
     "autoexec": {
      "startup": false,
      "wait_interval": 0
     },
     "base_uri": "https://localhost:8080/",
     "height": 34
    },
    "colab_type": "code",
    "executionInfo": {
     "elapsed": 561,
     "status": "ok",
     "timestamp": 1526497564473,
     "user": {
      "displayName": "Wojtek Czarnowski",
      "photoUrl": "//lh6.googleusercontent.com/-Sx8k456RbyI/AAAAAAAAAAI/AAAAAAAAEig/wmURGqbv_J8/s50-c-k-no/photo.jpg",
      "userId": "115130698336476923651"
     },
     "user_tz": 0
    },
    "id": "g9H83p3sXM5L",
    "outputId": "7a79e615-2669-4e49-ec5d-9bd5bb82e67d"
   },
   "outputs": [],
   "source": [
    "import string\n",
    "import random\n",
    "import re\n",
    "\n",
    "file = open(fn_corpus_syl).read()\n",
    "file_len = len(file)\n",
    "print('file_len =', file_len)"
   ]
  },
  {
   "cell_type": "code",
   "execution_count": null,
   "metadata": {
    "colab": {
     "autoexec": {
      "startup": false,
      "wait_interval": 0
     }
    },
    "colab_type": "code",
    "id": "maVrQMtZyyXU"
   },
   "outputs": [],
   "source": [
    "# taken from fastai/text.py\n",
    "import re, string\n",
    "# remove +,- chars from punctuation set to keep syllables e.g.'--PO++' intact\n",
    "punctuation=re.sub('[\\+-]', '', string.punctuation)\n",
    "re_tok = re.compile(f'([{punctuation}“”¨«»®´·º½¾¿¡§£₤‘’])')\n",
    "def tokenize(s): return re_tok.sub(r' \\1 ', s).split()\n",
    "\n",
    "file_tok = tokenize(file); len(file_tok), file_tok[:8]\n",
    "file_tok_len = len(file_tok)\n",
    "\n",
    "all_tokens = sorted(list(set(file_tok)))\n",
    "n_tokens = len(all_tokens); print(n_tokens, all_tokens[:50])"
   ]
  },
  {
   "cell_type": "markdown",
   "metadata": {
    "colab_type": "text",
    "id": "lL_XOG-fXM5T"
   },
   "source": [
    "Aby stworzyć 'wejścia' z tego dużego ciągu danych, podzielimy go na kawałki."
   ]
  },
  {
   "cell_type": "code",
   "execution_count": null,
   "metadata": {
    "colab": {
     "autoexec": {
      "startup": false,
      "wait_interval": 0
     }
    },
    "colab_type": "code",
    "id": "_zwmRSAHXM5T"
   },
   "outputs": [],
   "source": [
    "chunk_len = 400\n",
    "\n",
    "def random_chunk():\n",
    "    start_index = random.randint(0, file_tok_len - chunk_len)\n",
    "    end_index = start_index + chunk_len + 1\n",
    "    return file_tok[start_index:end_index]"
   ]
  },
  {
   "cell_type": "code",
   "execution_count": null,
   "metadata": {
    "colab": {
     "autoexec": {
      "startup": false,
      "wait_interval": 0
     },
     "base_uri": "https://localhost:8080/",
     "height": 54
    },
    "colab_type": "code",
    "executionInfo": {
     "elapsed": 1282,
     "status": "ok",
     "timestamp": 1526497572076,
     "user": {
      "displayName": "Wojtek Czarnowski",
      "photoUrl": "//lh6.googleusercontent.com/-Sx8k456RbyI/AAAAAAAAAAI/AAAAAAAAEig/wmURGqbv_J8/s50-c-k-no/photo.jpg",
      "userId": "115130698336476923651"
     },
     "user_tz": 0
    },
    "id": "JzAAi_95yyXq",
    "outputId": "cda75402-8a3d-446c-9b2e-376bdc560f17"
   },
   "outputs": [],
   "source": [
    "def syl2str(a_list, delim='/'): return ' '.join(a_list).replace('++ --', delim)\n",
    "print(syl2str(random_chunk()))"
   ]
  },
  {
   "cell_type": "markdown",
   "metadata": {
    "colab_type": "text",
    "id": "2cIY0S4g0gZo"
   },
   "source": [
    "## GPU"
   ]
  },
  {
   "cell_type": "code",
   "execution_count": null,
   "metadata": {
    "colab": {
     "autoexec": {
      "startup": false,
      "wait_interval": 0
     },
     "base_uri": "https://localhost:8080/",
     "height": 34
    },
    "colab_type": "code",
    "executionInfo": {
     "elapsed": 1348,
     "status": "ok",
     "timestamp": 1526497573503,
     "user": {
      "displayName": "Wojtek Czarnowski",
      "photoUrl": "//lh6.googleusercontent.com/-Sx8k456RbyI/AAAAAAAAAAI/AAAAAAAAEig/wmURGqbv_J8/s50-c-k-no/photo.jpg",
      "userId": "115130698336476923651"
     },
     "user_tz": 0
    },
    "id": "2hTjsshick9K",
    "outputId": "95fd44d7-00e6-4ee1-e4e4-c3bca64a2e0b"
   },
   "outputs": [],
   "source": [
    "import torch\n",
    "\n",
    "USE_GPU = torch.cuda.is_available(); \n",
    "# USE_GPU = False; \n",
    "\n",
    "print(f'USE_GPU={USE_GPU}')\n",
    "\n",
    "def to_gpu(x, *args, **kwargs):\n",
    "    return x.cuda(*args, **kwargs) if USE_GPU else x"
   ]
  },
  {
   "cell_type": "markdown",
   "metadata": {
    "colab_type": "text",
    "id": "X5cFLx6WXM5X"
   },
   "source": [
    "## Budowanie modelu\n",
    "\n",
    "Ten model przyjmie jako wejściie token dla kroku $ t _ {- 1} $ i ma wyprowadzić następny token $ t $. Istnieją trzy warstwy - jedna warstwa liniowa, która koduje znak wejściowy do stanu wewnętrznego, jedna warstwa GRU (która może sama mieć wiele warstw), która działa na tym stanie wewnętrznym i stanie ukrytym, oraz warstwa dekodera, która wyprowadza rozkład prawdopodobieństwa."
   ]
  },
  {
   "cell_type": "code",
   "execution_count": null,
   "metadata": {
    "colab": {
     "autoexec": {
      "startup": false,
      "wait_interval": 0
     }
    },
    "colab_type": "code",
    "id": "tZ8chQcVXM5X"
   },
   "outputs": [],
   "source": [
    "import torch\n",
    "import torch.nn as nn\n",
    "from torch.autograd import Variable\n",
    "\n",
    "class RNN(nn.Module):\n",
    "    def __init__(self, input_size, hidden_size, output_size, n_layers=1):\n",
    "        super(RNN, self).__init__()\n",
    "        self.input_size = input_size\n",
    "        self.hidden_size = hidden_size\n",
    "        self.output_size = output_size\n",
    "        self.n_layers = n_layers\n",
    "        \n",
    "        self.encoder = nn.Embedding(input_size, hidden_size)\n",
    "        self.gru = nn.GRU(hidden_size, hidden_size, n_layers)\n",
    "        self.decoder = nn.Linear(hidden_size, output_size)\n",
    "    \n",
    "    def forward(self, input, hidden):\n",
    "        input = self.encoder(input.view(1, -1))\n",
    "        output, hidden = self.gru(input.view(1, 1, -1), hidden)\n",
    "        output = self.decoder(output.view(1, -1))\n",
    "        return output, hidden\n",
    "\n",
    "    def init_hidden(self):\n",
    "        return Variable(to_gpu(torch.zeros(self.n_layers, 1, self.hidden_size)))"
   ]
  },
  {
   "cell_type": "markdown",
   "metadata": {
    "colab_type": "text",
    "id": "62XSRFgkXM5Z"
   },
   "source": [
    "## Tensory wejściowe i docelowe"
   ]
  },
  {
   "cell_type": "markdown",
   "metadata": {
    "colab_type": "text",
    "id": "UaOPvn0rXM5Z"
   },
   "source": [
    "Każdy 'kawałek' zostanie przekształcony w tensor, a dokładnie w `LongTensor` (używany do wartości całkowitych), poprzez przepuszczenie wszystkich tokenów ciągu i wyszukiwanie indeksu każdej sylaby w `all_tokens`."
   ]
  },
  {
   "cell_type": "code",
   "execution_count": 42,
   "metadata": {
    "colab": {
     "autoexec": {
      "startup": false,
      "wait_interval": 0
     }
    },
    "colab_type": "code",
    "id": "q0H2nwMMXM5a"
   },
   "outputs": [],
   "source": [
    "# Turn token list into list of longs\n",
    "def tok_tensor(token_list):\n",
    "    tensor = torch.zeros(len(token_list)).long()\n",
    "    for c in range(len(token_list)):\n",
    "        tensor[c] = all_tokens.index(token_list[c])\n",
    "    return Variable(to_gpu(tensor))"
   ]
  },
  {
   "cell_type": "code",
   "execution_count": null,
   "metadata": {
    "colab": {
     "autoexec": {
      "startup": false,
      "wait_interval": 0
     },
     "base_uri": "https://localhost:8080/",
     "height": 68
    },
    "colab_type": "code",
    "executionInfo": {
     "elapsed": 4097,
     "status": "ok",
     "timestamp": 1526497580695,
     "user": {
      "displayName": "Wojtek Czarnowski",
      "photoUrl": "//lh6.googleusercontent.com/-Sx8k456RbyI/AAAAAAAAAAI/AAAAAAAAEig/wmURGqbv_J8/s50-c-k-no/photo.jpg",
      "userId": "115130698336476923651"
     },
     "user_tz": 0
    },
    "id": "zrTEI7EjyyX2",
    "outputId": "694b9b1b-49d9-4b0a-c143-8e5b8cd18305"
   },
   "outputs": [],
   "source": [
    "a_token_list = file_tok[20:30]; print(a_token_list)\n",
    "print(tok_tensor(a_token_list))"
   ]
  },
  {
   "cell_type": "markdown",
   "metadata": {
    "colab_type": "text",
    "id": "0Su49JvFXM5d"
   },
   "source": [
    "Wreszcie możemy zmontować parę tensorów wejściowych i docelowych do treningu, z losowego kawałka. Wejściem zostaną wszystkie tokeny * aż do przedostatniego*, a celem (targetem) będą wszystkie tokeny * od drugiego*. Jeśli więc nasz kawałek to \"abc\", wejście będzie odpowiadać \"ab\", podczas gdy cel to \"bc\"."
   ]
  },
  {
   "cell_type": "code",
   "execution_count": null,
   "metadata": {
    "colab": {
     "autoexec": {
      "startup": false,
      "wait_interval": 0
     }
    },
    "colab_type": "code",
    "id": "mLzzsbTRXM5d"
   },
   "outputs": [],
   "source": [
    "def random_training_set():    \n",
    "    chunk = random_chunk()\n",
    "    inp = tok_tensor(chunk[:-1])\n",
    "    target = tok_tensor(chunk[1:])\n",
    "    return inp, target"
   ]
  },
  {
   "cell_type": "markdown",
   "metadata": {
    "colab_type": "text",
    "id": "vSJ_szQTXM5f"
   },
   "source": [
    "## Ewaluacja\n",
    "\n",
    "Aby ocenić sieć, będziemy podawać po jednym tokenie na raz, wykorzystywać wyjścia sieci jako rozkład prawdopodobieństwa dla następnego znaku i powtarzać. Aby rozpocząć generowanie, przekazujemy ciąg wstępny, aby rozpocząć budowanie stanu ukrytego, z którego następnie generujemy po jednym tokenie na raz."
   ]
  },
  {
   "cell_type": "code",
   "execution_count": null,
   "metadata": {
    "colab": {
     "autoexec": {
      "startup": false,
      "wait_interval": 0
     }
    },
    "colab_type": "code",
    "id": "2ecqC4rWXM5f"
   },
   "outputs": [],
   "source": [
    "def evaluate(prime_tokl=[all_tokens[1]], predict_len=100, temperature=0.8):\n",
    "    hidden = decoder.init_hidden()\n",
    "    prime_input = tok_tensor(prime_tokl)\n",
    "    predicted = list(prime_tokl)  # need a copy of the list\n",
    "\n",
    "    # Use priming token list to \"build up\" hidden state\n",
    "    for p in range(len(prime_tokl) - 1):\n",
    "        _, hidden = decoder(prime_input[p], hidden)\n",
    "    inp = prime_input[-1]\n",
    "    \n",
    "    for p in range(predict_len):\n",
    "        output, hidden = decoder(inp, hidden)\n",
    "        \n",
    "        # Sample from the network as a multinomial distribution\n",
    "        output_dist = output.data.view(-1).div(temperature).exp()\n",
    "        top_i = torch.multinomial(output_dist, 1)[0]\n",
    "        \n",
    "        # Add predicted character to token list and use as next input\n",
    "        predicted_token = all_tokens[top_i]\n",
    "        predicted.append(predicted_token)\n",
    "        inp = tok_tensor([predicted_token])\n",
    "\n",
    "    return predicted"
   ]
  },
  {
   "cell_type": "markdown",
   "metadata": {
    "colab_type": "text",
    "id": "lZY0fPgEXM5h"
   },
   "source": [
    "## Trenowanie modelu"
   ]
  },
  {
   "cell_type": "markdown",
   "metadata": {
    "colab_type": "text",
    "id": "-pM5T97tXM5h"
   },
   "source": [
    "Funkcja pomocnicza do wydrukowania upływającego czasu:"
   ]
  },
  {
   "cell_type": "code",
   "execution_count": null,
   "metadata": {
    "colab": {
     "autoexec": {
      "startup": false,
      "wait_interval": 0
     }
    },
    "colab_type": "code",
    "id": "hQnLeX-TXM5h"
   },
   "outputs": [],
   "source": [
    "import time, math\n",
    "\n",
    "def time_since(since):\n",
    "    s = time.time() - since\n",
    "    m = math.floor(s / 60)\n",
    "    s -= m * 60\n",
    "    return '%dm %ds' % (m, s)"
   ]
  },
  {
   "cell_type": "markdown",
   "metadata": {
    "colab_type": "text",
    "id": "0pntPTWEXM5i"
   },
   "source": [
    "Główna funkcja treningowa"
   ]
  },
  {
   "cell_type": "code",
   "execution_count": null,
   "metadata": {
    "colab": {
     "autoexec": {
      "startup": false,
      "wait_interval": 0
     }
    },
    "colab_type": "code",
    "id": "QKb7-MeXXM5j"
   },
   "outputs": [],
   "source": [
    "def train(inp, target):\n",
    "    hidden = decoder.init_hidden()\n",
    "    decoder.zero_grad()\n",
    "    loss = 0\n",
    "\n",
    "    for c in range(chunk_len):\n",
    "        output, hidden = decoder(inp[c], hidden)\n",
    "        loss += criterion(output, target[c].expand(1))\n",
    "\n",
    "    loss.backward()\n",
    "    decoder_optimizer.step()\n",
    "\n",
    "    return loss.item() / chunk_len"
   ]
  },
  {
   "cell_type": "markdown",
   "metadata": {},
   "source": [
    "Opcjonalny monitoring postępu treningu"
   ]
  },
  {
   "cell_type": "code",
   "execution_count": null,
   "metadata": {
    "colab": {
     "autoexec": {
      "startup": false,
      "wait_interval": 0
     }
    },
    "colab_type": "code",
    "id": "HpYR9j3qyyYF"
   },
   "outputs": [],
   "source": [
    "USE_VISDOM = False\n",
    "\n",
    "import numpy as np\n",
    "\n",
    "vis = None\n",
    "if USE_VISDOM:\n",
    "    import visdom\n",
    "    vis = visdom.Visdom(port=8890)\n",
    "\n",
    "def vis_update_line_chart(vis, name, x, y, first_step):\n",
    "    if not USE_VISDOM: return\n",
    "    vis.line(Y=np.array([y]), X=np.array([x]), win=name, opts=dict(title=name),\n",
    "             update=None if first_step else 'append')\n",
    "\n",
    "def vis_update_text_win(vis, name, text):\n",
    "    if not USE_VISDOM: return\n",
    "    vis.text(text, win=name, opts=dict(title=name), append=False)"
   ]
  },
  {
   "cell_type": "code",
   "execution_count": null,
   "metadata": {
    "colab": {
     "autoexec": {
      "startup": false,
      "wait_interval": 0
     }
    },
    "colab_type": "code",
    "id": "WFj5nGp5yyYI"
   },
   "outputs": [],
   "source": [
    "class X(str):\n",
    "    def rpl(self, p, c='lightgray'):\n",
    "        return X(self.replace(p, f'<font color=\"{c}\">{p}</font>'))"
   ]
  },
  {
   "cell_type": "code",
   "execution_count": null,
   "metadata": {
    "colab": {
     "autoexec": {
      "startup": false,
      "wait_interval": 0
     }
    },
    "colab_type": "code",
    "id": "tY2U1vt4yyYK"
   },
   "outputs": [],
   "source": [
    "def bad_words(e_syl): e_str = syl2str(e_syl); return (e_str.count('++') + e_str.count('--')) / len(e_syl)"
   ]
  },
  {
   "cell_type": "markdown",
   "metadata": {
    "colab_type": "text",
    "id": "tyo69fakXM5k"
   },
   "source": [
    "Następnie definiujemy parametry treningowe i rozpoczynamy trening:"
   ]
  },
  {
   "cell_type": "code",
   "execution_count": null,
   "metadata": {
    "colab": {
     "autoexec": {
      "startup": false,
      "wait_interval": 0
     },
     "base_uri": "https://localhost:8080/",
     "height": 1833
    },
    "colab_type": "code",
    "executionInfo": {
     "elapsed": 2348203,
     "status": "error",
     "timestamp": 1526499934313,
     "user": {
      "displayName": "Wojtek Czarnowski",
      "photoUrl": "//lh6.googleusercontent.com/-Sx8k456RbyI/AAAAAAAAAAI/AAAAAAAAEig/wmURGqbv_J8/s50-c-k-no/photo.jpg",
      "userId": "115130698336476923651"
     },
     "user_tz": 0
    },
    "id": "ILThkaRPXM5k",
    "outputId": "9c4ceb96-a584-4501-d067-7d57b1fa0ad8"
   },
   "outputs": [],
   "source": [
    "n_epochs = 2000   # 2000\n",
    "print_every = 100 # 100\n",
    "plot_every = 50\n",
    "hidden_size = 300 # 100\n",
    "n_layers = 2 # 1\n",
    "lr = 0.005\n",
    "\n",
    "decoder = RNN(n_tokens, hidden_size, n_tokens, n_layers)\n",
    "if USE_GPU:\n",
    "    decoder.cuda()\n",
    "print(decoder, flush=True)\n",
    "\n",
    "decoder_optimizer = torch.optim.Adam(decoder.parameters(), lr=lr)\n",
    "criterion = nn.CrossEntropyLoss()\n",
    "if USE_GPU:\n",
    "    criterion.cuda()\n",
    "\n",
    "start = time.time()\n",
    "all_losses = []\n",
    "loss_avg = 0\n",
    "all_bw = []\n",
    "bw_avg = 0\n",
    "\n",
    "from tqdm import tqdm\n",
    "\n",
    "iterable = range(1, n_epochs + 1)\n",
    "tqdm_ = tqdm(iterable, '', leave=False, dynamic_ncols=True)\n",
    "first_step = True\n",
    "\n",
    "for epoch in tqdm_:\n",
    "    loss = train(*random_training_set())       \n",
    "    loss_avg += loss\n",
    "\n",
    "    # current loss chart\n",
    "    vis_update_line_chart(vis, 'loss', epoch, loss, epoch == 1)\n",
    "    \n",
    "    # progress_bar\n",
    "    tqdm_.set_postfix({'loss': loss})\n",
    "    text = f'&nbsp;<font color=\"red\">{tqdm_}</font>'\n",
    "    vis_update_text_win(vis, 'progress_bar', text)\n",
    "\n",
    "    # bad words\n",
    "    prime_str = file_tok[13:18]\n",
    "    bw = bad_words(evaluate(prime_str, 100))\n",
    "    bw_avg += bw\n",
    "\n",
    "    # current bad words chart\n",
    "    vis_update_line_chart(vis, 'bad_words', epoch, bw, epoch == 1)\n",
    "    \n",
    "    if epoch % print_every == 0:\n",
    "        e_syl = evaluate(prime_str, 100)\n",
    "        e_str = syl2str(e_syl)\n",
    "        stats_str = '\\n[%s (%d %d%%) loss=%.4f bw=%.4f]' % (time_since(start), epoch, epoch / n_epochs * 100, loss, bw)\n",
    "        print(stats_str)\n",
    "        e_html = X(e_str).rpl('/').rpl('--', c='red').rpl('++', c='red')\n",
    "        print(e_str, '\\n', flush=True)\n",
    "        text = f'<b>{stats_str}</b><br />{e_html}'\n",
    "        vis_update_text_win(vis, 'evaluation', text)\n",
    "\n",
    "    if epoch % plot_every == 0:\n",
    "        vis_update_line_chart(vis, 'loss_avg', epoch, loss_avg / plot_every, first_step)\n",
    "        vis_update_line_chart(vis, 'bad_words_avg', epoch, bw_avg / plot_every, first_step)\n",
    "        all_bw.append(bw)\n",
    "        bw_avg = 0\n",
    "        first_step = False\n",
    "        all_losses.append(loss_avg / plot_every)\n",
    "        loss_avg = 0"
   ]
  },
  {
   "cell_type": "markdown",
   "metadata": {
    "colab_type": "text",
    "id": "dXrPD94SXM5m"
   },
   "source": [
    "## Rysowanie wykresu funkcji straty\n",
    "\n",
    "Wykreślanie historycznej straty z all_losses pokazuje uczenie sieci:"
   ]
  },
  {
   "cell_type": "code",
   "execution_count": null,
   "metadata": {
    "colab": {
     "autoexec": {
      "startup": false,
      "wait_interval": 0
     },
     "base_uri": "https://localhost:8080/",
     "height": 442
    },
    "colab_type": "code",
    "executionInfo": {
     "elapsed": 875,
     "status": "ok",
     "timestamp": 1526499945807,
     "user": {
      "displayName": "Wojtek Czarnowski",
      "photoUrl": "//lh6.googleusercontent.com/-Sx8k456RbyI/AAAAAAAAAAI/AAAAAAAAEig/wmURGqbv_J8/s50-c-k-no/photo.jpg",
      "userId": "115130698336476923651"
     },
     "user_tz": 0
    },
    "id": "meKCxPo3XM5n",
    "outputId": "4285c7fb-57cc-4ccf-b720-6fba4979a81c"
   },
   "outputs": [],
   "source": [
    "import matplotlib.pyplot as plt\n",
    "import matplotlib.ticker as ticker\n",
    "%matplotlib inline\n",
    "\n",
    "import matplotlib as mpl\n",
    "mpl.style.use('default')\n",
    "mpl.style.use('bmh')\n",
    "\n",
    "plt.figure()\n",
    "plt.plot(all_losses)"
   ]
  },
  {
   "cell_type": "markdown",
   "metadata": {
    "colab_type": "text",
    "id": "EtK-9BuuB-GX"
   },
   "source": [
    "## Zapisanie modelu"
   ]
  },
  {
   "cell_type": "code",
   "execution_count": null,
   "metadata": {
    "colab": {
     "autoexec": {
      "startup": false,
      "wait_interval": 0
     }
    },
    "colab_type": "code",
    "id": "aSA3Utpc6dXV"
   },
   "outputs": [],
   "source": [
    "ALLTOKS, MODEL = ['all_tokens', 'model']\n",
    "\n",
    "fn_pan_tadeusz = {ALLTOKS: 'all_tokens.pan_tadeusz.p', MODEL: 'pan_tadeusz.h300.l2.e3000.gpu.torch'}\n",
    "\n",
    "fn_dict = fn_pan_tadeusz"
   ]
  },
  {
   "cell_type": "code",
   "execution_count": null,
   "metadata": {
    "colab": {
     "autoexec": {
      "startup": false,
      "wait_interval": 0
     }
    },
    "colab_type": "code",
    "id": "XJ-j5_4I6d0g"
   },
   "outputs": [],
   "source": [
    "# save all_tokens\n",
    "import pickle\n",
    "\n",
    "pickle.dump(all_tokens, open(tmp_path / fn_dict[ALLTOKS], 'wb'))"
   ]
  },
  {
   "cell_type": "code",
   "execution_count": null,
   "metadata": {
    "colab": {
     "autoexec": {
      "startup": false,
      "wait_interval": 0
     }
    },
    "colab_type": "code",
    "id": "CDm3bjJy6d3S"
   },
   "outputs": [],
   "source": [
    "# all_tokens = pickle.load( open( tmp_path / fn_dict[ALLTOKS], 'rb' ) )\n",
    "# n_characters = len(all_tokens)"
   ]
  },
  {
   "cell_type": "code",
   "execution_count": null,
   "metadata": {
    "colab": {
     "autoexec": {
      "startup": false,
      "wait_interval": 0
     },
     "base_uri": "https://localhost:8080/",
     "height": 102
    },
    "colab_type": "code",
    "executionInfo": {
     "elapsed": 664,
     "status": "ok",
     "timestamp": 1526499980300,
     "user": {
      "displayName": "Wojtek Czarnowski",
      "photoUrl": "//lh6.googleusercontent.com/-Sx8k456RbyI/AAAAAAAAAAI/AAAAAAAAEig/wmURGqbv_J8/s50-c-k-no/photo.jpg",
      "userId": "115130698336476923651"
     },
     "user_tz": 0
    },
    "id": "qHbGgVULB_cp",
    "outputId": "ed765673-067f-4258-a9a5-3206f8d0abb3"
   },
   "outputs": [],
   "source": [
    "decoder.state_dict"
   ]
  },
  {
   "cell_type": "code",
   "execution_count": null,
   "metadata": {
    "colab": {
     "autoexec": {
      "startup": false,
      "wait_interval": 0
     },
     "base_uri": "https://localhost:8080/",
     "height": 71
    },
    "colab_type": "code",
    "executionInfo": {
     "elapsed": 662,
     "status": "ok",
     "timestamp": 1526499988913,
     "user": {
      "displayName": "Wojtek Czarnowski",
      "photoUrl": "//lh6.googleusercontent.com/-Sx8k456RbyI/AAAAAAAAAAI/AAAAAAAAEig/wmURGqbv_J8/s50-c-k-no/photo.jpg",
      "userId": "115130698336476923651"
     },
     "user_tz": 0
    },
    "id": "nRXLplmTCumA",
    "outputId": "de6a77c6-ed7e-423e-d5c4-8d0a28f1148b"
   },
   "outputs": [],
   "source": [
    "import warnings\n",
    "warnings.filterwarnings('ignore')\n",
    "\n",
    "# save model\n",
    "model_path = tmp_path / fn_dict[MODEL]\n",
    "torch.save(decoder, model_path)"
   ]
  },
  {
   "cell_type": "code",
   "execution_count": null,
   "metadata": {
    "colab": {
     "autoexec": {
      "startup": false,
      "wait_interval": 0
     }
    },
    "colab_type": "code",
    "id": "-D9_ONXNMHPK"
   },
   "outputs": [],
   "source": [
    " # decoder = torch.load(model_path)"
   ]
  },
  {
   "cell_type": "code",
   "execution_count": null,
   "metadata": {
    "colab": {
     "autoexec": {
      "startup": false,
      "wait_interval": 0
     },
     "base_uri": "https://localhost:8080/",
     "height": 34
    },
    "colab_type": "code",
    "executionInfo": {
     "elapsed": 645,
     "status": "ok",
     "timestamp": 1526500000716,
     "user": {
      "displayName": "Wojtek Czarnowski",
      "photoUrl": "//lh6.googleusercontent.com/-Sx8k456RbyI/AAAAAAAAAAI/AAAAAAAAEig/wmURGqbv_J8/s50-c-k-no/photo.jpg",
      "userId": "115130698336476923651"
     },
     "user_tz": 0
    },
    "id": "Tm9jbTN6Wfl-",
    "outputId": "1afd782d-e19a-4aae-9e9f-b676ec0cdd7a"
   },
   "outputs": [],
   "source": [
    "model_path"
   ]
  },
  {
   "cell_type": "code",
   "execution_count": null,
   "metadata": {
    "colab": {
     "autoexec": {
      "startup": false,
      "wait_interval": 0
     },
     "base_uri": "https://localhost:8080/",
     "height": 102
    },
    "colab_type": "code",
    "executionInfo": {
     "elapsed": 1837,
     "status": "ok",
     "timestamp": 1526500003779,
     "user": {
      "displayName": "Wojtek Czarnowski",
      "photoUrl": "//lh6.googleusercontent.com/-Sx8k456RbyI/AAAAAAAAAAI/AAAAAAAAEig/wmURGqbv_J8/s50-c-k-no/photo.jpg",
      "userId": "115130698336476923651"
     },
     "user_tz": 0
    },
    "id": "Dt8_7GshWi4M",
    "outputId": "5750f124-8206-4e3f-a4bd-a33b085843f9"
   },
   "outputs": [],
   "source": [
    "ls -lah $tmp_path"
   ]
  },
  {
   "cell_type": "markdown",
   "metadata": {
    "colab_type": "text",
    "id": "2fEFWi-FXM5p"
   },
   "source": [
    "## Ewaluacja w różnych \"temperaturach\"\n",
    "\n",
    "W powyższej funkcji `evaluate`, za każdym razem, gdy dokonywana jest prognoza, wyjścia są dzielone przez przekazany argument \"temperature\". Użycie większej liczby sprawia, że wszystkie akcje są bardziej jednakowo prawdopodobne, a tym samym dają nam \"bardziej losowe\" wyniki. Użycie mniejszej wartości (mniejszej niż 1) sprawia, że wysokie prawdopodobieństwa przyczyniają się bardziej. Gdy ustawiamy temperaturę na zero, wybieramy tylko najbardziej prawdopodobne wyjścia.\n",
    "\n",
    "Możemy zobaczyć te efekty poprzez dostosowanie argumentu `temperature`.\n"
   ]
  },
  {
   "cell_type": "code",
   "execution_count": null,
   "metadata": {
    "colab": {
     "autoexec": {
      "startup": false,
      "wait_interval": 0
     },
     "base_uri": "https://localhost:8080/",
     "height": 54
    },
    "colab_type": "code",
    "executionInfo": {
     "elapsed": 862,
     "status": "ok",
     "timestamp": 1526497411842,
     "user": {
      "displayName": "Wojtek Czarnowski",
      "photoUrl": "//lh6.googleusercontent.com/-Sx8k456RbyI/AAAAAAAAAAI/AAAAAAAAEig/wmURGqbv_J8/s50-c-k-no/photo.jpg",
      "userId": "115130698336476923651"
     },
     "user_tz": 0
    },
    "id": "gBm5ibSnXM5p",
    "outputId": "43068fe2-d27e-44d3-a841-9ad044b95d88"
   },
   "outputs": [],
   "source": [
    "prime_tokl = file_tok[13:18]\n",
    "print(syl2str(evaluate(prime_tokl, 200, temperature=0.8), delim='/'))"
   ]
  },
  {
   "cell_type": "markdown",
   "metadata": {
    "colab_type": "text",
    "id": "DnStt-FzXM5r"
   },
   "source": [
    "Niższe temperatury daja mniejszą różnorodność, wybierając tylko bardziej prawdopodobne wyjścia:"
   ]
  },
  {
   "cell_type": "code",
   "execution_count": null,
   "metadata": {
    "colab": {
     "autoexec": {
      "startup": false,
      "wait_interval": 0
     },
     "base_uri": "https://localhost:8080/",
     "height": 283
    },
    "colab_type": "code",
    "executionInfo": {
     "elapsed": 889,
     "status": "error",
     "timestamp": 1526497412778,
     "user": {
      "displayName": "Wojtek Czarnowski",
      "photoUrl": "//lh6.googleusercontent.com/-Sx8k456RbyI/AAAAAAAAAAI/AAAAAAAAEig/wmURGqbv_J8/s50-c-k-no/photo.jpg",
      "userId": "115130698336476923651"
     },
     "user_tz": 0
    },
    "id": "D3mkq_sCXM5r",
    "outputId": "c0dc9ebd-378a-4ee9-a3e0-f42097999e44"
   },
   "outputs": [],
   "source": [
    "print(syl2str(evaluate(prime_tokl, 200, temperature=0.2), delim='/'))"
   ]
  },
  {
   "cell_type": "markdown",
   "metadata": {
    "colab_type": "text",
    "id": "l508QP1LXM5t"
   },
   "source": [
    "Wyższe temperatury są bardziej różnorodne, wybierając mniej prawdopodobne wyjścia:"
   ]
  },
  {
   "cell_type": "code",
   "execution_count": null,
   "metadata": {
    "colab": {
     "autoexec": {
      "startup": false,
      "wait_interval": 0
     },
     "base_uri": "https://localhost:8080/",
     "height": 54
    },
    "colab_type": "code",
    "executionInfo": {
     "elapsed": 1242,
     "status": "ok",
     "timestamp": 1526486570619,
     "user": {
      "displayName": "Wojtek Czarnowski",
      "photoUrl": "//lh6.googleusercontent.com/-Sx8k456RbyI/AAAAAAAAAAI/AAAAAAAAEig/wmURGqbv_J8/s50-c-k-no/photo.jpg",
      "userId": "115130698336476923651"
     },
     "user_tz": -120
    },
    "id": "SxhfgI-PXM5u",
    "outputId": "56ba6caa-e7a5-4f0a-acbe-54c1af0adbc1"
   },
   "outputs": [],
   "source": [
    "print(syl2str(evaluate(prime_tokl, 200, temperature=1.4), delim='/'))"
   ]
  },
  {
   "cell_type": "markdown",
   "metadata": {
    "colab_type": "text",
    "id": "2tJDT2lCceZL"
   },
   "source": [
    "## Monitorowanie maszyny wirtualnej"
   ]
  },
  {
   "cell_type": "code",
   "execution_count": null,
   "metadata": {
    "colab": {
     "autoexec": {
      "startup": false,
      "wait_interval": 0
     }
    },
    "colab_type": "code",
    "id": "bKdCiolHcg4e"
   },
   "outputs": [],
   "source": [
    "import os\n",
    "import psutil\n",
    "\n",
    "def print_memsize():\n",
    "  process = psutil.Process(os.getpid())\n",
    "  print(f'{process.memory_info().rss / 1024**3:.5} GB')"
   ]
  },
  {
   "cell_type": "code",
   "execution_count": null,
   "metadata": {
    "colab": {
     "autoexec": {
      "startup": false,
      "wait_interval": 0
     },
     "base_uri": "https://localhost:8080/",
     "height": 34
    },
    "colab_type": "code",
    "executionInfo": {
     "elapsed": 588,
     "status": "ok",
     "timestamp": 1526492270914,
     "user": {
      "displayName": "Wojtek Czarnowski",
      "photoUrl": "//lh6.googleusercontent.com/-Sx8k456RbyI/AAAAAAAAAAI/AAAAAAAAEig/wmURGqbv_J8/s50-c-k-no/photo.jpg",
      "userId": "115130698336476923651"
     },
     "user_tz": 0
    },
    "id": "diBUUyOociRy",
    "outputId": "e978d8bf-b208-4712-a773-a0b04b130df8"
   },
   "outputs": [],
   "source": [
    "print_memsize()"
   ]
  },
  {
   "cell_type": "code",
   "execution_count": null,
   "metadata": {
    "colab": {
     "autoexec": {
      "startup": false,
      "wait_interval": 0
     },
     "base_uri": "https://localhost:8080/",
     "height": 34
    },
    "colab_type": "code",
    "executionInfo": {
     "elapsed": 1784,
     "status": "ok",
     "timestamp": 1526492225830,
     "user": {
      "displayName": "Wojtek Czarnowski",
      "photoUrl": "//lh6.googleusercontent.com/-Sx8k456RbyI/AAAAAAAAAAI/AAAAAAAAEig/wmURGqbv_J8/s50-c-k-no/photo.jpg",
      "userId": "115130698336476923651"
     },
     "user_tz": -120
    },
    "id": "TuHoo0ARtjz_",
    "outputId": "7080f1ab-28b3-4de2-9549-21659440abe8"
   },
   "outputs": [],
   "source": [
    "!uptime"
   ]
  },
  {
   "cell_type": "code",
   "execution_count": null,
   "metadata": {
    "colab": {
     "autoexec": {
      "startup": false,
      "wait_interval": 0
     }
    },
    "colab_type": "code",
    "id": "bFJdzy4PTnsO"
   },
   "outputs": [],
   "source": [
    "# who"
   ]
  },
  {
   "cell_type": "markdown",
   "metadata": {
    "colab_type": "text",
    "id": "-UQoZYk2XM5v"
   },
   "source": [
    "## Ćwiczenia\n",
    "\n",
    "* Trenuj z własnym zestawem danych, np.\n",
    "     * Tekst od innego autora\n",
    "     * Posty na blogu\n",
    "     * Kody źródłowe\n",
    "* Zwiększ liczbę warstw i rozmiar sieci, aby uzyskać lepsze wyniki"
   ]
  },
  {
   "cell_type": "markdown",
   "metadata": {
    "colab_type": "text",
    "id": "pFHHvkI6XM5w"
   },
   "source": [
    "**Następnie**: [Generating Names with a Conditional Character-Level RNN](https://github.com/spro/practical-pytorch/blob/master/conditional-char-rnn/conditional-char-rnn.ipynb)"
   ]
  }
 ],
 "metadata": {
  "accelerator": "GPU",
  "colab": {
   "collapsed_sections": [],
   "default_view": {},
   "name": "syllable-rnn-generation-pl-wcz1.ipynb",
   "provenance": [
    {
     "file_id": "1DztHxtFb_tfNmrLeOcav9myCNqeTlZ82",
     "timestamp": 1524492157904
    },
    {
     "file_id": "1sv_cPvPEWEOrG9wS3fPjAOj-Wvs6kc0P",
     "timestamp": 1524467882593
    }
   ],
   "version": "0.3.2",
   "views": {}
  },
  "kernelspec": {
   "display_name": "Python 3",
   "language": "python",
   "name": "python3"
  },
  "language_info": {
   "codemirror_mode": {
    "name": "ipython",
    "version": 3
   },
   "file_extension": ".py",
   "mimetype": "text/x-python",
   "name": "python",
   "nbconvert_exporter": "python",
   "pygments_lexer": "ipython3",
   "version": "3.6.5"
  }
 },
 "nbformat": 4,
 "nbformat_minor": 2
}
