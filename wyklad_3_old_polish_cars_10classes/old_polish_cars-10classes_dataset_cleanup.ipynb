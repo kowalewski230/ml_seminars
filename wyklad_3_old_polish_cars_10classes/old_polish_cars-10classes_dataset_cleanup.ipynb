{
  "nbformat": 4,
  "nbformat_minor": 0,
  "metadata": {
    "colab": {
      "name": "old_polish_cars-10classes_dataset_cleanup.ipynb",
      "version": "0.3.2",
      "views": {},
      "default_view": {},
      "provenance": [],
      "collapsed_sections": []
    },
    "kernelspec": {
      "name": "python3",
      "display_name": "Python 3"
    },
    "accelerator": "GPU"
  },
  "cells": [
    {
      "metadata": {
        "id": "BdhdGUVnZwAH",
        "colab_type": "text"
      },
      "cell_type": "markdown",
      "source": [
        "# 'Old Polish Cars' dataset cleanup"
      ]
    },
    {
      "metadata": {
        "id": "EgeJUkscZ6c_",
        "colab_type": "text"
      },
      "cell_type": "markdown",
      "source": [
        "## Załadowanie bibliotek"
      ]
    },
    {
      "metadata": {
        "id": "cPJ-VLzaN0KW",
        "colab_type": "code",
        "colab": {
          "autoexec": {
            "startup": false,
            "wait_interval": 0
          }
        }
      },
      "cell_type": "code",
      "source": [
        "# Umieść je na górze każdego notatnika, aby uzyskać automatyczne ponowne ładowanie\n",
        "%reload_ext autoreload\n",
        "%autoreload 2\n",
        "\n",
        "#matplotlib setup\n",
        "import matplotlib.pyplot as plt\n",
        "import matplotlib.ticker as ticker\n",
        "\n",
        "import matplotlib.style\n",
        "import matplotlib as mpl\n",
        "mpl.style.use('default')\n",
        "mpl.style.use('seaborn-ticks')\n",
        "# %config InlineBackend.figure_format = 'retina'\n",
        "\n",
        "import warnings\n",
        "warnings.filterwarnings('ignore')\n",
        "from pathlib import Path\n",
        "import shutil as sh\n",
        "\n",
        "# This file contains all the main external libs we'll use\n",
        "from fastai.imports import *\n",
        "\n",
        "from fastai.transforms import *\n",
        "from fastai.conv_learner import *\n",
        "from fastai.model import *\n",
        "from fastai.dataset import *\n",
        "from fastai.sgdr import *\n",
        "from fastai.plots_wcz import *\n",
        "\n",
        "from pathlib import Path\n",
        "\n",
        "from  collections import Counter\n",
        "\n",
        "from sklearn.metrics import confusion_matrix"
      ],
      "execution_count": 0,
      "outputs": []
    },
    {
      "metadata": {
        "id": "WNsKJfpbZxg6",
        "colab_type": "text"
      },
      "cell_type": "markdown",
      "source": [
        "## Mój dataset"
      ]
    },
    {
      "metadata": {
        "id": "TugjUURiZvQe",
        "colab_type": "code",
        "colab": {
          "autoexec": {
            "startup": false,
            "wait_interval": 0
          }
        }
      },
      "cell_type": "code",
      "source": [
        "datasets_path = Path('/content/data/old_polish_cars/')\n",
        "PATH = datasets_path / 'old_polish_cars_v5_photos-512-split/'"
      ],
      "execution_count": 0,
      "outputs": []
    },
    {
      "metadata": {
        "id": "qxLncGNOZvOF",
        "colab_type": "code",
        "colab": {
          "autoexec": {
            "startup": false,
            "wait_interval": 0
          }
        }
      },
      "cell_type": "code",
      "source": [
        "ls -lah $datasets_path"
      ],
      "execution_count": 0,
      "outputs": []
    },
    {
      "metadata": {
        "id": "DgvuEEOti7ME",
        "colab_type": "text"
      },
      "cell_type": "markdown",
      "source": [
        "## Wybór foldera z kategoriami"
      ]
    },
    {
      "metadata": {
        "id": "FXqrNTvchs5q",
        "colab_type": "code",
        "colab": {
          "autoexec": {
            "startup": false,
            "wait_interval": 0
          }
        }
      },
      "cell_type": "code",
      "source": [
        "test_path = datasets_path / 'old_polish_cars_v5_photos-512-split/valid/'\n",
        "# test_path = datasets_path / 'old_polish_cars_v5_photos-512-split/train/'\n",
        "# test_path = datasets_path / 'old_polish_cars_v4_photos-512/'\n",
        "# test_path = datasets_path / 'old_polish_cars_v5_photos-512/'"
      ],
      "execution_count": 0,
      "outputs": []
    },
    {
      "metadata": {
        "id": "jstiGQXiZvL1",
        "colab_type": "code",
        "colab": {
          "autoexec": {
            "startup": false,
            "wait_interval": 0
          }
        }
      },
      "cell_type": "code",
      "source": [
        "ls -l $test_path"
      ],
      "execution_count": 0,
      "outputs": []
    },
    {
      "metadata": {
        "id": "7S9zBVD5ZvFn",
        "colab_type": "code",
        "colab": {
          "autoexec": {
            "startup": false,
            "wait_interval": 0
          }
        }
      },
      "cell_type": "code",
      "source": [
        "cats = sorted(list([x.stem for x in test_path.iterdir()])) #; cats"
      ],
      "execution_count": 0,
      "outputs": []
    },
    {
      "metadata": {
        "id": "6FQvuWiE-Xn5",
        "colab_type": "code",
        "colab": {
          "autoexec": {
            "startup": false,
            "wait_interval": 0
          }
        }
      },
      "cell_type": "code",
      "source": [
        "cats_dict = {cat: idx for idx, cat in enumerate(cats)}; cats_dict"
      ],
      "execution_count": 0,
      "outputs": []
    },
    {
      "metadata": {
        "id": "45xJFEtvjqoj",
        "colab_type": "text"
      },
      "cell_type": "markdown",
      "source": [
        "## Wybór kategorii"
      ]
    },
    {
      "metadata": {
        "id": "QFuVlLl9kqSj",
        "colab_type": "code",
        "colab": {
          "autoexec": {
            "startup": false,
            "wait_interval": 0
          }
        },
        "cellView": "both"
      },
      "cell_type": "code",
      "source": [
        "#@title Kategoria\n",
        "selected_cat = \"Syrena 105\" #@param ['Autobus Jelcz MZK', 'Autobus Jelcz Ogorek', 'FSC Zuk', 'FSO Polonez', 'FSO Warszawa', 'Fiat 125p', 'Fiat 126p Maluch', 'Gazik', 'Syrena 105', 'ZSD Nysa']\n"
      ],
      "execution_count": 0,
      "outputs": []
    },
    {
      "metadata": {
        "id": "MhPUV2E8Zyn_",
        "colab_type": "code",
        "colab": {
          "autoexec": {
            "startup": false,
            "wait_interval": 0
          }
        }
      },
      "cell_type": "code",
      "source": [
        "selected_cat_idx = cats_dict[selected_cat]\n",
        "selected_cat_path = test_path / cats[selected_cat_idx]; print(selected_cat_path)\n",
        "\n",
        "print('{} items'.format(len(list(selected_cat_path.iterdir()))))"
      ],
      "execution_count": 0,
      "outputs": []
    },
    {
      "metadata": {
        "id": "EVYyzBn5aPwG",
        "colab_type": "text"
      },
      "cell_type": "markdown",
      "source": [
        "## Model"
      ]
    },
    {
      "metadata": {
        "id": "m8gEt4vhky1V",
        "colab_type": "code",
        "colab": {
          "autoexec": {
            "startup": false,
            "wait_interval": 0
          }
        }
      },
      "cell_type": "code",
      "source": [
        "# Odkomentuj poniższe polecenie, jeśli chcesz zresetować cache-owane aktywacje\n",
        "# shutil.rmtree(PATH/'tmp', ignore_errors=True)"
      ],
      "execution_count": 0,
      "outputs": []
    },
    {
      "metadata": {
        "id": "f04cKjzVsiwS",
        "colab_type": "code",
        "colab": {
          "autoexec": {
            "startup": false,
            "wait_interval": 0
          }
        }
      },
      "cell_type": "code",
      "source": [
        "ls $PATH/'tmp'"
      ],
      "execution_count": 0,
      "outputs": []
    },
    {
      "metadata": {
        "id": "w07LFvkyZyjW",
        "colab_type": "code",
        "colab": {
          "autoexec": {
            "startup": false,
            "wait_interval": 0
          }
        }
      },
      "cell_type": "code",
      "source": [
        "arch=resnet34\n",
        "sz=224\n",
        "\n",
        "tfms = tfms_from_model(arch, sz)\n",
        "\n",
        "data = ImageClassifierData.from_paths(PATH, test_name=selected_cat_path, tfms=tfms)\n",
        "learn = ConvLearner.pretrained(arch, data, precompute=True)"
      ],
      "execution_count": 0,
      "outputs": []
    },
    {
      "metadata": {
        "id": "-e4B2HelaUVG",
        "colab_type": "code",
        "colab": {
          "autoexec": {
            "startup": false,
            "wait_interval": 0
          }
        }
      },
      "cell_type": "code",
      "source": [
        "# learn.load('224_initial')\n",
        "learn.precompute=False\n",
        "learn.load('224_lastlayer')\n",
        "# learn.load('224_all')"
      ],
      "execution_count": 0,
      "outputs": []
    },
    {
      "metadata": {
        "id": "C0VqbWk5b0MW",
        "colab_type": "text"
      },
      "cell_type": "markdown",
      "source": [
        "## Prognoza z zawartości foldera"
      ]
    },
    {
      "metadata": {
        "id": "0BoXCa15bzPP",
        "colab_type": "code",
        "colab": {
          "autoexec": {
            "startup": false,
            "wait_interval": 0
          }
        }
      },
      "cell_type": "code",
      "source": [
        "learn.precompute = False\n",
        "\n",
        "log_preds = learn.predict(is_test=True)\n",
        "# log_preds, _ = learn.TTA(is_test=True)\n",
        "\n",
        "preds = np.argmax(log_preds, axis=1)  # from log probabilities to 0 or 1\n",
        "probs = np.exp(log_preds);            # pr(car) # probs[:10]\n",
        "# probs = np.mean(np.exp(log_preds),0) # TTA\n",
        "\n",
        "selected_y = np.full_like(preds, selected_cat_idx) #; selected_y[:10]\n",
        "\n",
        "preds_classes = [data.classes[pred] for pred in preds] #; preds_classes[:10]\n",
        "cat_classes = sorted(list(set(preds))) #; cat_classes\n",
        "pred_probs = np.array([(pred, probs[pred]) for pred,probs in zip(preds, probs)]) #; pred_probs[:10]"
      ],
      "execution_count": 0,
      "outputs": []
    },
    {
      "metadata": {
        "id": "8_4azC5Gi7Bw",
        "colab_type": "code",
        "colab": {
          "autoexec": {
            "startup": false,
            "wait_interval": 0
          }
        }
      },
      "cell_type": "code",
      "source": [
        "accuracy_np(probs, selected_y)"
      ],
      "execution_count": 0,
      "outputs": []
    },
    {
      "metadata": {
        "id": "4XjI86H3kGmt",
        "colab_type": "code",
        "colab": {
          "autoexec": {
            "startup": false,
            "wait_interval": 0
          }
        }
      },
      "cell_type": "code",
      "source": [
        "print('selected_cat =', selected_cat)\n",
        "dict(Counter(preds_classes))"
      ],
      "execution_count": 0,
      "outputs": []
    },
    {
      "metadata": {
        "id": "KSBnRQNRN0Lb",
        "colab_type": "text"
      },
      "cell_type": "markdown",
      "source": [
        "## Przegląd zdjęć"
      ]
    },
    {
      "metadata": {
        "id": "qV5xYkDZN0Lk",
        "colab_type": "code",
        "colab": {
          "autoexec": {
            "startup": false,
            "wait_interval": 0
          }
        }
      },
      "cell_type": "code",
      "source": [
        "def rand_by_mask(mask): return np.random.choice(np.where(mask)[0], 4, replace=False)\n",
        "def rand_by_correct(is_correct): return rand_by_mask((preds == selected_y)==is_correct)"
      ],
      "execution_count": 0,
      "outputs": []
    },
    {
      "metadata": {
        "id": "zpyiqX0_N0Ll",
        "colab_type": "code",
        "colab": {
          "autoexec": {
            "startup": false,
            "wait_interval": 0
          }
        }
      },
      "cell_type": "code",
      "source": [
        "def plots(ims, figsize=(12,6), rows=1, titles=None):\n",
        "    f = plt.figure(figsize=figsize)\n",
        "    for i in range(len(ims)):\n",
        "        sp = f.add_subplot(rows, len(ims)//rows, i+1)\n",
        "        sp.axis('Off')\n",
        "        if titles is not None: sp.set_title(titles[i], fontsize=16)\n",
        "        plt.imshow(ims[i])"
      ],
      "execution_count": 0,
      "outputs": []
    },
    {
      "metadata": {
        "id": "G0cNKQdxN0Lm",
        "colab_type": "code",
        "colab": {
          "autoexec": {
            "startup": false,
            "wait_interval": 0
          }
        }
      },
      "cell_type": "code",
      "source": [
        "def load_img_id(ds, idx): return np.array(PIL.Image.open(PATH/ds.fnames[idx]))\n",
        "\n",
        "def plot_val_with_title(idxs, title):  \n",
        "    imgs = [load_img_id(data.test_ds,x) for x in idxs]\n",
        "    def fn(x): return Path(data.test_ds.fnames[x]).stem\n",
        "    def pred_str(x): return '' + data.classes[int(pred_probs[x, 0])] + f', {pred_probs[x, 1]*100:0.4}%'\n",
        "    title_probs = [pred_str(x) for x in idxs]\n",
        "    titles = [f'{fn(x)} -> {pred_str(x)}' for x in idxs]\n",
        "    print(title)\n",
        "    print(titles)\n",
        "    return plots(imgs, rows=1, titles=title_probs, figsize=(16,8))"
      ],
      "execution_count": 0,
      "outputs": []
    },
    {
      "metadata": {
        "id": "SEh4Vuy0N0Lp",
        "colab_type": "code",
        "colab": {
          "autoexec": {
            "startup": false,
            "wait_interval": 0
          }
        }
      },
      "cell_type": "code",
      "source": [
        "# 1. A few correct labels at random\n",
        "plot_val_with_title(rand_by_correct(True), \"Correctly classified\")"
      ],
      "execution_count": 0,
      "outputs": []
    },
    {
      "metadata": {
        "id": "aSUenFtoN0Lq",
        "colab_type": "code",
        "colab": {
          "autoexec": {
            "startup": false,
            "wait_interval": 0
          }
        }
      },
      "cell_type": "code",
      "source": [
        "# 2. A few incorrect labels at random\n",
        "plot_val_with_title(rand_by_correct(False), \"Incorrectly classified\")"
      ],
      "execution_count": 0,
      "outputs": []
    },
    {
      "metadata": {
        "id": "bmvndla-N0Lr",
        "colab_type": "code",
        "colab": {
          "autoexec": {
            "startup": false,
            "wait_interval": 0
          }
        }
      },
      "cell_type": "code",
      "source": [
        "def most_by_mask(mask, mult):\n",
        "    idxs = np.where(mask)[0]\n",
        "    return idxs[np.argsort(mult * pred_probs[idxs, 1])[:4]]\n",
        "\n",
        "def most_by_correct(y, is_correct): \n",
        "    mult = -1 if (y==selected_cat_idx)==is_correct else 1\n",
        "    return most_by_mask((preds == selected_y)==is_correct & (selected_y == y), mult)"
      ],
      "execution_count": 0,
      "outputs": []
    },
    {
      "metadata": {
        "id": "_SMeJb8BN0Lr",
        "colab_type": "code",
        "colab": {
          "autoexec": {
            "startup": false,
            "wait_interval": 0
          }
        }
      },
      "cell_type": "code",
      "source": [
        "plot_val_with_title(most_by_correct(selected_cat_idx, True), \"Most correct \" + selected_cat)"
      ],
      "execution_count": 0,
      "outputs": []
    },
    {
      "metadata": {
        "id": "H5EmAzIDV-Mm",
        "colab_type": "code",
        "colab": {
          "autoexec": {
            "startup": false,
            "wait_interval": 0
          }
        }
      },
      "cell_type": "code",
      "source": [
        "plot_val_with_title(most_by_correct(selected_cat_idx, False), \"Most incorrect \" + selected_cat)"
      ],
      "execution_count": 0,
      "outputs": []
    },
    {
      "metadata": {
        "id": "bDyWewwqN2zf",
        "colab_type": "code",
        "colab": {
          "autoexec": {
            "startup": false,
            "wait_interval": 0
          }
        }
      },
      "cell_type": "code",
      "source": [
        "most_uncertain = np.argsort(np.abs(pred_probs[:, 1] -0.5))[:4]\n",
        "plot_val_with_title(most_uncertain, \"Most uncertain predictions\")"
      ],
      "execution_count": 0,
      "outputs": []
    },
    {
      "metadata": {
        "id": "gQe5W_J2b6EY",
        "colab_type": "text"
      },
      "cell_type": "markdown",
      "source": [
        "# Koniec"
      ]
    }
  ]
}