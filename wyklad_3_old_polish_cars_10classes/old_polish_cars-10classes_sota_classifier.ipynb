{
  "nbformat": 4,
  "nbformat_minor": 0,
  "metadata": {
    "colab": {
      "name": "old_polish_cars-10classes_sota_classifier.ipynb",
      "version": "0.3.2",
      "views": {},
      "default_view": {},
      "provenance": [],
      "collapsed_sections": []
    },
    "kernelspec": {
      "display_name": "Python 3",
      "language": "python",
      "name": "python3"
    },
    "accelerator": "GPU"
  },
  "cells": [
    {
      "metadata": {
        "id": "7XM0PzwqN0KU",
        "colab_type": "text"
      },
      "cell_type": "markdown",
      "source": [
        "# Klasyfikacja obrazu za pomocą konwolucyjnych sieci neuronowych, część II"
      ]
    },
    {
      "metadata": {
        "id": "kvTWzC8sN0KV",
        "colab_type": "text"
      },
      "cell_type": "markdown",
      "source": [
        "## Załadowanie bibliotek"
      ]
    },
    {
      "metadata": {
        "id": "upj0PV-CUk04",
        "colab_type": "code",
        "colab": {
          "autoexec": {
            "startup": false,
            "wait_interval": 0
          }
        }
      },
      "cell_type": "code",
      "source": [
        "# cd fastai/\n",
        "# ln -s /content/plots_wcz.py fastai/fastai/plots_wcz.py"
      ],
      "execution_count": 0,
      "outputs": []
    },
    {
      "metadata": {
        "id": "cPJ-VLzaN0KW",
        "colab_type": "code",
        "colab": {
          "autoexec": {
            "startup": false,
            "wait_interval": 0
          }
        }
      },
      "cell_type": "code",
      "source": [
        "# Umieść je na górze każdego notatnika, aby uzyskać automatyczne ponowne ładowanie\n",
        "%reload_ext autoreload\n",
        "%autoreload 2\n",
        "\n",
        "#matplotlib setup\n",
        "import matplotlib.pyplot as plt\n",
        "import matplotlib.ticker as ticker\n",
        "\n",
        "import matplotlib.style\n",
        "import matplotlib as mpl\n",
        "mpl.style.use('default')\n",
        "mpl.style.use('seaborn-ticks')\n",
        "%config InlineBackend.figure_format = 'retina'\n",
        "\n",
        "import warnings\n",
        "warnings.filterwarnings('ignore')\n",
        "from pathlib import Path\n",
        "import shutil as sh\n",
        "\n",
        "# Ten plik zawiera wszystkie główne biblioteki zewnętrzne, których użyjemy\n",
        "from fastai.imports import *\n",
        "\n",
        "from fastai.transforms import *\n",
        "from fastai.conv_learner import *\n",
        "from fastai.model import *\n",
        "from fastai.dataset import *\n",
        "from fastai.sgdr import *\n",
        "from fastai.plots_wcz import *"
      ],
      "execution_count": 0,
      "outputs": []
    },
    {
      "metadata": {
        "id": "uKjZ00qiVab5",
        "colab_type": "code",
        "colab": {
          "autoexec": {
            "startup": false,
            "wait_interval": 0
          }
        }
      },
      "cell_type": "code",
      "source": [
        "# cd /content"
      ],
      "execution_count": 0,
      "outputs": []
    },
    {
      "metadata": {
        "id": "ZiZkVLRHN0Kn",
        "colab_type": "text"
      },
      "cell_type": "markdown",
      "source": [
        "# Proste kroki do wytrenowania światowej klasy klasyfikatora obrazu"
      ]
    },
    {
      "metadata": {
        "id": "_oY9LhNaN0Kn",
        "colab_type": "text"
      },
      "cell_type": "markdown",
      "source": [
        "1. Włącz augmentację danych oraz cache aktywacji (precompute=True)\n",
        "1. Użyj `lr_find()`, aby znaleźć najwyższe tempo uczenia się, przy którym strata (loss) jeszcze maleje\n",
        "1. Trenuj ostatnią warstwę na cache'owanych aktywacjach przez 1-2 epoki\n",
        "1. Trenuj ostatnią warstwę z augmentacją danych (tj. precompute=False) przez 2-3 epoki z cycle_len=1\n",
        "1. Odblokuj wszystkie warstwy, używając `unfreeze()`\n",
        "1. Ustaw dla wcześniejszych warstw 3x-10x mniejsze tempo uczenia się niż dla kolejnych wyższych warstw\n",
        "1. Ponownie użyj `lr_find()`\n",
        "1. Trenuj całą sieć z cycle_mult=2 aż do przetrenowania (over-fitting)"
      ]
    },
    {
      "metadata": {
        "id": "gxwl4X3WABjA",
        "colab_type": "text"
      },
      "cell_type": "markdown",
      "source": [
        "# Idea strojenia wytrenowanej sieci (fine-tuning)"
      ]
    },
    {
      "metadata": {
        "id": "YUUJk8H3ABYn",
        "colab_type": "text"
      },
      "cell_type": "markdown",
      "source": [
        "`ConvLearner.pretrained` buduje *ucznia*, który zawiera wcześniej wytrenowany model. Ostatnia warstwa modelu musi zostać zastąpiona warstwą odpowiednich wymiarów. Ten model został wytrenowany dla 1000 klas, a ostateczna warstwa prognozuje wektor z 1000-cem prawdopodobieństw. Model dla old polish cars musi oddać wektor dwuwymiarowy. Poniższy schemat pokazuje na przykładzie, w jaki sposób zostało to zrobione w jednej z najwcześniej odnoszących sukces sieci konwolucyjnych CNN. Warstwa \"FC8\" zostanie tutaj zastąpiona nową warstwą z 10 wyjściami.\n",
        "\n",
        "<img src=\"https://image.slidesharecdn.com/practicaldeeplearning-160329181459/95/practical-deep-learning-16-638.jpg\" width=\"500\">\n",
        "[original image](https://image.slidesharecdn.com/practicaldeeplearning-160329181459/95/practical-deep-learning-16-638.jpg)"
      ]
    },
    {
      "metadata": {
        "id": "dqPxxvliABNR",
        "colab_type": "text"
      },
      "cell_type": "markdown",
      "source": [
        "Uczymy się *parametrów* poprzez dopasowanie modelu do danych. *Hiperparametr* to inny rodzaj parametru, którego nie można bezpośrednio nauczyć się ze zwykłego procesu treningowego. Parametry te wyrażają właściwości modelu \"wyższego poziomu\", takie jak jego złożoność, czy jak szybko ma się uczyć. Dwa przykłady hiperparametrów to *tempo uczenia się* i *liczba epok*.\n",
        "\n",
        "Podczas iteracyjnego trenowania sieci neuronowej, *wsad (batch)* lub *mini-wsad (mini-batch)* jest podzbiorem treningowych próbek użytych w jednej iteracji metody stochastycznego gradientu prostego, ang. Stochastic Gradient Descent (SGD). *Epoka* to pojedyncze przejście przez cały zestaw treningowy, na nią składa się wiele iteracji SGD.\n",
        "\n",
        "Możemy teraz *dopasować (fit)* model; to znaczy, użyć *metody gradientu prostego (gradient descent)*, aby znaleźć najlepsze parametry dla *w pełni połączonej warstwy (fully connected layer - FC)*, którą dodaliśmy, aby oddzielać zdjęcia marek samochodów od siebie. Musimy podać dwa hipertermery: *tempo uczenia się (learning rate)* (zazwyczaj 1e-2 lub 1e-3 jest dobrym punktem wyjścia, później przyjrzymy się temu bliżej) i *liczbę epok* (możesz podać większą liczbę i po prostu przerwij trening, gdy zauważysz, że dokładność (accuracy) już się nie poprawia, a następnie uruchom ponownie trening z liczbą epok, którą ustaliłeś)."
      ]
    },
    {
      "metadata": {
        "id": "XoW-vP8EGmYg",
        "colab_type": "text"
      },
      "cell_type": "markdown",
      "source": [
        "## Mój dataset: 'Old Polish Cars v5'"
      ]
    },
    {
      "metadata": {
        "id": "t9T5MKd4Ttrd",
        "colab_type": "text"
      },
      "cell_type": "markdown",
      "source": [
        "Tym razem wytrenujemy model, który pozwoli rozróżnić 10 marek starych polskich samochodów. Dostępne jest 7300 oznakowanych zdjęć samochodów do trenowania i 800 w zestawie testowym, które musimy spróbować oznakować."
      ]
    },
    {
      "metadata": {
        "id": "v-G9Y395N0Ki",
        "colab_type": "code",
        "colab": {
          "autoexec": {
            "startup": false,
            "wait_interval": 0
          }
        }
      },
      "cell_type": "code",
      "source": [
        "PATH = \"/content/data/old_polish_cars/old_polish_cars_v5_photos-512-split/\""
      ],
      "execution_count": 0,
      "outputs": []
    },
    {
      "metadata": {
        "id": "MQWyXTBLfQCd",
        "colab_type": "code",
        "colab": {
          "autoexec": {
            "startup": false,
            "wait_interval": 0
          }
        }
      },
      "cell_type": "code",
      "source": [
        "ls -lah /content/data/old_polish_cars"
      ],
      "execution_count": 0,
      "outputs": []
    },
    {
      "metadata": {
        "id": "A_1OPnDuN0Ko",
        "colab_type": "text"
      },
      "cell_type": "markdown",
      "source": [
        "## Sprawdzenie, czy dataset jest dostępny"
      ]
    },
    {
      "metadata": {
        "id": "aZX7z9-3N0Ko",
        "colab_type": "code",
        "colab": {
          "autoexec": {
            "startup": false,
            "wait_interval": 0
          }
        }
      },
      "cell_type": "code",
      "source": [
        "!ls {PATH}"
      ],
      "execution_count": 0,
      "outputs": []
    },
    {
      "metadata": {
        "id": "NtENZQHxN0Kq",
        "colab_type": "code",
        "colab": {
          "autoexec": {
            "startup": false,
            "wait_interval": 0
          }
        }
      },
      "cell_type": "code",
      "source": [
        "!ls {PATH}valid"
      ],
      "execution_count": 0,
      "outputs": []
    },
    {
      "metadata": {
        "id": "4zdDO1ELN0Ks",
        "colab_type": "code",
        "colab": {
          "autoexec": {
            "startup": false,
            "wait_interval": 0
          }
        }
      },
      "cell_type": "code",
      "source": [
        "files = !ls {PATH}valid/\"FSO Warszawa\" | head\n",
        "files"
      ],
      "execution_count": 0,
      "outputs": []
    },
    {
      "metadata": {
        "id": "_PVVryHbN0Ku",
        "colab_type": "code",
        "colab": {
          "autoexec": {
            "startup": false,
            "wait_interval": 0
          }
        }
      },
      "cell_type": "code",
      "source": [
        "files[9]"
      ],
      "execution_count": 0,
      "outputs": []
    },
    {
      "metadata": {
        "id": "PTOE6qY7N0Kv",
        "colab_type": "code",
        "colab": {
          "autoexec": {
            "startup": false,
            "wait_interval": 0
          }
        }
      },
      "cell_type": "code",
      "source": [
        "img = plt.imread(f'{PATH}valid/FSO Warszawa/{files[9]}')\n",
        "plt.imshow(img);"
      ],
      "execution_count": 0,
      "outputs": []
    },
    {
      "metadata": {
        "id": "chuttw65VkE_",
        "colab_type": "text"
      },
      "cell_type": "markdown",
      "source": [
        "# Trenowanie klasyfikatora"
      ]
    },
    {
      "metadata": {
        "id": "cVUTSwKEN0K6",
        "colab_type": "text"
      },
      "cell_type": "markdown",
      "source": [
        "## 1) Włącz augmentację danych oraz cache aktywacji"
      ]
    },
    {
      "metadata": {
        "id": "Aou7_3c3N0K6",
        "colab_type": "code",
        "colab": {
          "autoexec": {
            "startup": false,
            "wait_interval": 0
          }
        }
      },
      "cell_type": "code",
      "source": [
        "sz=224  # sz=128\n",
        "arch=resnet34\n",
        "\n",
        "tfms = tfms_from_model(arch, sz, aug_tfms=transforms_side_on, max_zoom=1.1)\n",
        "\n",
        "data = ImageClassifierData.from_paths(PATH, tfms=tfms)\n",
        "learn = ConvLearner.pretrained(arch, data, precompute=True)"
      ],
      "execution_count": 0,
      "outputs": []
    },
    {
      "metadata": {
        "id": "P99dhksePxcc",
        "colab_type": "text"
      },
      "cell_type": "markdown",
      "source": [
        "## 2) Znajdź tempo uczenia się"
      ]
    },
    {
      "metadata": {
        "id": "o8l-9-ylCzI7",
        "colab_type": "text"
      },
      "cell_type": "markdown",
      "source": [
        "*Tempo uczenia się* określa, jak szybko lub jak wolno chcesz aktualizować *wagi* (lub *parametry*). Tempo uczenia się jest jednym z najtrudniejszych parametrów do ustawienia, ponieważ ma znaczący wpływ na wydajność modelu.\n",
        "\n",
        "Metoda `learn.lr_find()` pomaga znaleźć optymalne tempo uczenia się. Wykorzystuje technikę opracowaną w 2015 roku, opisaną w publikacji [Cyclical Learning Rates for Training Neural Networks](http://arxiv.org/abs/1506.01186), gdzie po prostu ciągle zwiększamy tempo uczenia się, zaczynając od bardzo małej wartości, kończąc kiedy strata przestaje maleć. Możemy stworzyć wykres tempa uczenia się poprzez wszystkie porcje danych jednej epoki, aby zobaczyć, jak to wygląda.\n",
        "\n",
        "Najpierw tworzymy nowego ucznia `learn`, ponieważ chcemy wiedzieć, jak ustawić tempo uczenia się dla nowego (niewytrenowanego) modelu."
      ]
    },
    {
      "metadata": {
        "id": "WFf-bAtON0K2",
        "colab_type": "code",
        "colab": {
          "autoexec": {
            "startup": false,
            "wait_interval": 0
          }
        }
      },
      "cell_type": "code",
      "source": [
        "lrf = learn.lr_find()"
      ],
      "execution_count": 0,
      "outputs": []
    },
    {
      "metadata": {
        "id": "VOGUwhufCzI-",
        "colab_type": "text"
      },
      "cell_type": "markdown",
      "source": [
        "Nasz obiekt `learn` ma atrybut `sched`, który zawiera naszego 'planistę' szybkości uczenia się i ma kilka przydatnych wykresów, w tym:\n",
        "\n"
      ]
    },
    {
      "metadata": {
        "id": "glNC5fjtN0K3",
        "colab_type": "code",
        "colab": {
          "autoexec": {
            "startup": false,
            "wait_interval": 0
          }
        }
      },
      "cell_type": "code",
      "source": [
        "mpl.style.use('bmh')\n",
        "learn.sched.plot_lr()"
      ],
      "execution_count": 0,
      "outputs": []
    },
    {
      "metadata": {
        "id": "kuCGacHKCzJA",
        "colab_type": "text"
      },
      "cell_type": "markdown",
      "source": [
        "Zauważ, że na poprzednim wykresie jedna *iteracja* to iteracja (lub 'mini-batch') algorytmu SGD. W jednej epoce mamy `num_batch_samples/num_samples` iteracji SGD.\n",
        "\n",
        "Możemy rzucić okiem wykres straty (loss) w stosunku do tempa uczenia się (learning rate), aby zobaczyć, gdzie zmniejsza się nasza strata:"
      ]
    },
    {
      "metadata": {
        "id": "1n_cd1VcN0K5",
        "colab_type": "code",
        "colab": {
          "autoexec": {
            "startup": false,
            "wait_interval": 0
          }
        }
      },
      "cell_type": "code",
      "source": [
        "learn.sched.plot()"
      ],
      "execution_count": 0,
      "outputs": []
    },
    {
      "metadata": {
        "id": "JufM7FUHCzJB",
        "colab_type": "text"
      },
      "cell_type": "markdown",
      "source": [
        "Strata wciąż wyraźnie maleje dla `lr=1e-2 (0.01)`, więc tego użyjemy. Zwróć uwagę, że optymalne tempo uczenia się może się zmieniać podczas treningu modelu, więc możesz chcieć ponownie uruchomić tę funkcję co jakiś czas."
      ]
    },
    {
      "metadata": {
        "id": "2WGkoFzXN0K5",
        "colab_type": "text"
      },
      "cell_type": "markdown",
      "source": [
        "wybrany lr=0.08"
      ]
    },
    {
      "metadata": {
        "id": "Iz-fHzUpVJJk",
        "colab_type": "code",
        "colab": {
          "autoexec": {
            "startup": false,
            "wait_interval": 0
          }
        }
      },
      "cell_type": "code",
      "source": [
        "0.8*10**-1"
      ],
      "execution_count": 0,
      "outputs": []
    },
    {
      "metadata": {
        "id": "kxj7N0QFmgR-",
        "colab_type": "text"
      },
      "cell_type": "markdown",
      "source": [
        "## 3) Wstępnie wytrenuj ostatnią warstwę\n",
        "Trenuj ostatnią warstwę na cache'owanych aktywacjach przez 1-2 epoki."
      ]
    },
    {
      "metadata": {
        "id": "Mja3GPXiAecl",
        "colab_type": "text"
      },
      "cell_type": "markdown",
      "source": [
        "Domyślnie, gdy tworzymy ucznia (`learn`), ustawia on wszystkie oprócz ostatniej warstwy na *zamrożone*. Oznacza to, że kiedy wywołujemy `fit()`, uczeń aktualizuje wagi tylko w ostatniej warstwie."
      ]
    },
    {
      "metadata": {
        "id": "tEbfxt1EN0LA",
        "colab_type": "code",
        "colab": {
          "autoexec": {
            "startup": false,
            "wait_interval": 0
          }
        }
      },
      "cell_type": "code",
      "source": [
        "learn.fit(0.08, 3)  # stałe tempo uczenia się"
      ],
      "execution_count": 0,
      "outputs": []
    },
    {
      "metadata": {
        "id": "pnArxaOsgNte",
        "colab_type": "code",
        "colab": {
          "autoexec": {
            "startup": false,
            "wait_interval": 0
          }
        }
      },
      "cell_type": "code",
      "source": [
        "learn.save('224_initial')"
      ],
      "execution_count": 0,
      "outputs": []
    },
    {
      "metadata": {
        "id": "F6NgJbGHgP4e",
        "colab_type": "code",
        "colab": {
          "autoexec": {
            "startup": false,
            "wait_interval": 0
          }
        }
      },
      "cell_type": "code",
      "source": [
        "learn.load('224_initial')"
      ],
      "execution_count": 0,
      "outputs": []
    },
    {
      "metadata": {
        "id": "1gxMhCXCmoQq",
        "colab_type": "text"
      },
      "cell_type": "markdown",
      "source": [
        "## 4) Trenuj ostatnią warstwę z augmentacją danych i hartowaniem tempa uczenia się"
      ]
    },
    {
      "metadata": {
        "id": "RVI6rjNkCzJB",
        "colab_type": "text"
      },
      "cell_type": "markdown",
      "source": [
        "### Augmentacja danych"
      ]
    },
    {
      "metadata": {
        "id": "xtuzFyxJCzJC",
        "colab_type": "text"
      },
      "cell_type": "markdown",
      "source": [
        "Jeśli spróbujesz trenować przez więcej epok, zauważysz, że zaczynamy *przetrenowywać*, co oznacza, że nasz model uczy się rozpoznawać konkretne obrazy w zbiorze treningowym, zamiast generalizować tak, że uzyskamy dobre wyniki również na zestawie walidacyjnym. Jednym ze sposobów rozwiązania tego problemu jest faktyczne stworzenie większej ilości danych, dzięki *augmentacji danych*. Chodzi o losową modyfikację obrazów w sposób, który nie powinien wpływać na ich interpretację, takich jak poziome odbijanie, powiększanie i obracanie.\n",
        "\n",
        "Możemy to zrobić, przekazując `aug_tfms` (*augmentation transforms*) do `tfms_from_model()`, z listą funkcji do zastosowania, które losowo zmieniają obraz, jak tylko chcemy. W przypadku zdjęć, które są w dużej mierze robione z boku (np. większość zdjęć samochodów, w przeciwieństwie do zdjęć zrobionych od góry, takich jak zdjęcia satelitarne), możemy użyć wstępnie zdefiniowanej listy funkcji `transforms_side_on`. Możemy również określić losowe powiększanie obrazów do określonej skali, dodając parametr `max_zoom`."
      ]
    },
    {
      "metadata": {
        "id": "wH31z6CXCzJC",
        "colab_type": "code",
        "colab": {
          "autoexec": {
            "startup": false,
            "wait_interval": 0
          }
        }
      },
      "cell_type": "code",
      "source": [
        "# tfms = tfms_from_model(resnet34, sz, aug_tfms=transforms_side_on, max_zoom=1.1)"
      ],
      "execution_count": 0,
      "outputs": []
    },
    {
      "metadata": {
        "id": "QpaEcsgdCzJC",
        "colab_type": "code",
        "colab": {
          "autoexec": {
            "startup": false,
            "wait_interval": 0
          }
        }
      },
      "cell_type": "code",
      "source": [
        "def get_augs():\n",
        "    data = ImageClassifierData.from_paths(PATH, bs=2, tfms=tfms, num_workers=1)\n",
        "    x,_ = next(iter(data.aug_dl))\n",
        "    return data.trn_ds.denorm(x)[1]"
      ],
      "execution_count": 0,
      "outputs": []
    },
    {
      "metadata": {
        "id": "Qdczm-uKCzJD",
        "colab_type": "code",
        "colab": {
          "autoexec": {
            "startup": false,
            "wait_interval": 0
          }
        }
      },
      "cell_type": "code",
      "source": [
        "ims = np.stack([get_augs() for i in range(6)])"
      ],
      "execution_count": 0,
      "outputs": []
    },
    {
      "metadata": {
        "id": "ZfF5tf0BCzJE",
        "colab_type": "code",
        "colab": {
          "autoexec": {
            "startup": false,
            "wait_interval": 0
          }
        }
      },
      "cell_type": "code",
      "source": [
        "plots(ims, rows=2)"
      ],
      "execution_count": 0,
      "outputs": []
    },
    {
      "metadata": {
        "id": "nrXsYPyZemws",
        "colab_type": "text"
      },
      "cell_type": "markdown",
      "source": [
        "Trenuj ostatnią warstwę z augmentacją danych (tj. `precompute=False`) przez 2-3 epoki z `cycle_len=1`"
      ]
    },
    {
      "metadata": {
        "id": "FBSdh4SzN0LC",
        "colab_type": "code",
        "colab": {
          "autoexec": {
            "startup": false,
            "wait_interval": 0
          }
        }
      },
      "cell_type": "code",
      "source": [
        "learn.precompute=False  # użyj augmentacji danych\n",
        "learn.fit(0.08, 3, cycle_len=1)"
      ],
      "execution_count": 0,
      "outputs": []
    },
    {
      "metadata": {
        "id": "85-qZhRFdRve",
        "colab_type": "text"
      },
      "cell_type": "markdown",
      "source": [
        "### Metoda stochastycznego gradientu prostego z restartami"
      ]
    },
    {
      "metadata": {
        "id": "ZN33GPY4A-x-",
        "colab_type": "text"
      },
      "cell_type": "markdown",
      "source": [
        "Co to jest parametr `cycle_len`? To, co tutaj robimy, to metoda *stochastycznego gradientu prostego z restartami (ang. stochastic gradient descent with restarts - SGDR)*, jest to wariant *hartowania szybkości uczenia (ang. learning rate annealing)*, która stopniowo zmniejsza tempo uczenia się w miarę postępu treningu. To pomaga, bo gdy zbliżamy się do optymalnych wag, chcemy podejść tam mniejszymi krokami.\n",
        "\n",
        "Jednakże możemy znaleźć się w części przestrzeni wag, która nie jest bardzo odporna - to znaczy niewielkie zmiany wag mogą spowodować duże zmiany w stracie. Chcemy zachęcić nasz model do znalezienia części przestrzeni wag, które są zarówno dokładne, jak i stabilne. Dlatego od czasu do czasu zwiększamy szybkość uczenia się (jest to \"restart\" w \"SGDR\"), co zmusi model do przejścia do innej części przestrzeni wag, jeśli obecny obszar jest \"spiczasty\". Oto wykres tego, jak to może wyglądać, jeśli zresetujemy tempo uczenia się 3 razy (w tej publikacji nazywają to \"cyklicznym harmonogramem LR\", ang. 'cyclic LR schedule'):\n",
        "\n",
        "![SGDR](https://raw.githubusercontent.com/fastai/fastai/master/courses/dl1/images/sgdr.png)\n",
        "(Z publikacji [Snapshot Ensembles](https://arxiv.org/abs/1704.00109)).\n",
        "\n",
        "Liczba epok pomiędzy resetowaniem tempa uczenia się jest ustalana przez `cycle_len`, a liczba razy, kiedy to się dzieje, jest określana jako *liczba cykli*, i jest tym, co faktycznie przekazujemy jako drugi parametr do `fit()`. Oto jak wyglądało nasze rzeczywiste tempo uczenia się:"
      ]
    },
    {
      "metadata": {
        "id": "IYCHhGBvN0LE",
        "colab_type": "code",
        "colab": {
          "autoexec": {
            "startup": false,
            "wait_interval": 0
          }
        }
      },
      "cell_type": "code",
      "source": [
        "learn.sched.plot_lr()"
      ],
      "execution_count": 0,
      "outputs": []
    },
    {
      "metadata": {
        "id": "xVQnNWxTBdXx",
        "colab_type": "text"
      },
      "cell_type": "markdown",
      "source": [
        "Nasza strata na zestawie walidacyjnym nie ulega znacznej poprawie, więc prawdopodobnie nie ma potrzeby dalszego trenowania samej ostatniej warstwy."
      ]
    },
    {
      "metadata": {
        "id": "lLtqUoXjBhaQ",
        "colab_type": "text"
      },
      "cell_type": "markdown",
      "source": [
        "Ponieważ w tym momencie mamy już całkiem niezły model, możemy chcieć go zapisać, abyśmy mogli go załadować ponownie później bez trenowania od początku."
      ]
    },
    {
      "metadata": {
        "id": "pPXiU-SYN0LG",
        "colab_type": "code",
        "colab": {
          "autoexec": {
            "startup": false,
            "wait_interval": 0
          }
        }
      },
      "cell_type": "code",
      "source": [
        "learn.save('224_lastlayer')"
      ],
      "execution_count": 0,
      "outputs": []
    },
    {
      "metadata": {
        "id": "giPWHzJvN0LG",
        "colab_type": "code",
        "colab": {
          "autoexec": {
            "startup": false,
            "wait_interval": 0
          }
        }
      },
      "cell_type": "code",
      "source": [
        "learn.load('224_lastlayer')"
      ],
      "execution_count": 0,
      "outputs": []
    },
    {
      "metadata": {
        "id": "o2VHM_AuN0LH",
        "colab_type": "text"
      },
      "cell_type": "markdown",
      "source": [
        "## 5) Dostrój (fine-tune) wcześniejsze warstwy i 6) różnicowo hartuj tempa uczenia się\n",
        "Odblokuj wszystkie warstwy, używając `unfreeze()`.<br/>\n",
        "Ustaw dla wcześniejszych warstw 3x-10x mniejsze tempo uczenia się niż dla kolejnych wyższych warstw."
      ]
    },
    {
      "metadata": {
        "id": "03tO31fqBnSA",
        "colab_type": "text"
      },
      "cell_type": "markdown",
      "source": [
        "Teraz, gdy mamy już wytrenowaną dobrą warstwę końcową, możemy spróbować dostroić pozostałe warstwy. Aby powiedzieć uczniowi, że chcemy odblokować pozostałe warstwy, wystarczy użyć `unfreeze()`."
      ]
    },
    {
      "metadata": {
        "id": "KI86IvcRB1s5",
        "colab_type": "code",
        "colab": {
          "autoexec": {
            "startup": false,
            "wait_interval": 0
          }
        }
      },
      "cell_type": "code",
      "source": [
        "learn.unfreeze()"
      ],
      "execution_count": 0,
      "outputs": []
    },
    {
      "metadata": {
        "id": "nWBq76hpB0TE",
        "colab_type": "text"
      },
      "cell_type": "markdown",
      "source": [
        "Zauważ, że pozostałe warstwy zostały *już wcześniej* wytrenowane do rozpoznawania zdjęć imagenetowych (podczas gdy nasze końcowe warstwy zostały losowo zainicjowane), więc chcemy zadbać o to, aby nie zniszczyć dokładnie wyregulowanych wag, które już tam są.\n",
        "\n",
        "Ogólnie mówiąc, wcześniejsze warstwy (jak już widzieliśmy) mają funkcje działające bardziej ogólnie. Dlatego spodziewamy się, że będą potrzebowały mniejszego dostrojenia dla nowego zestawu danych. Z tego powodu użyjemy różnych temp uczenia się dla różnych warstw: pierwsze kilka warstw będzie na poziomie 1e-4, środkowe warstwy na 1e-3, a nasze warstwy FC pozostawimy na 1e-2, tak jak poprzednio. Nazywamy to *zróżnicowanymi tempami uczenia się* ang. \"differential learning rates\", chociaż, o ile nam wiadomo, nie ma standardowej nazwy dla tej technologii w literaturze."
      ]
    },
    {
      "metadata": {
        "id": "PEuKPBkJN0LJ",
        "colab_type": "code",
        "colab": {
          "autoexec": {
            "startup": false,
            "wait_interval": 0
          }
        }
      },
      "cell_type": "code",
      "source": [
        "lr = np.array([0.0008, 0.008, 0.08])\n",
        "learn.fit(lr, 3, cycle_len=1, cycle_mult=2)"
      ],
      "execution_count": 0,
      "outputs": []
    },
    {
      "metadata": {
        "id": "Ft1Ml-naCAYM",
        "colab_type": "text"
      },
      "cell_type": "markdown",
      "source": [
        "Kolejną sztuczką, której tutaj użyliśmy jest dodanie parametru `cycle_mult`. \n",
        "\n",
        "Rzuć okiem na poniższy wykres i sprawdź, czy dojdziesz, co ten parametr robi:"
      ]
    },
    {
      "metadata": {
        "id": "LrGXtDcJN0LK",
        "colab_type": "code",
        "colab": {
          "autoexec": {
            "startup": false,
            "wait_interval": 0
          }
        }
      },
      "cell_type": "code",
      "source": [
        "learn.sched.plot_lr()"
      ],
      "execution_count": 0,
      "outputs": []
    },
    {
      "metadata": {
        "id": "oO7HKbe2CSWX",
        "colab_type": "text"
      },
      "cell_type": "markdown",
      "source": [
        "Zauważ, że to, co wykreślono powyżej, to tempo uczenia się *ostatnich warstw*. Współczynniki uczenia się wcześniejszych warstw są ustalane na mnożnikach względem wybranego wcześniej tempa dla ostatnich warstw (tj. pierwsze warstwy mają 100x mniejsze, a warstwy średnie 10x mniejsze tempo uczenia się, skoro ustawiamy `lr=np.array([1e-4,1e-3,1e-2])`."
      ]
    },
    {
      "metadata": {
        "id": "tIalpvusN0LL",
        "colab_type": "code",
        "colab": {
          "autoexec": {
            "startup": false,
            "wait_interval": 0
          }
        }
      },
      "cell_type": "code",
      "source": [
        "learn.save('224_all')"
      ],
      "execution_count": 0,
      "outputs": []
    },
    {
      "metadata": {
        "id": "nczDgdZcN0LM",
        "colab_type": "code",
        "colab": {
          "autoexec": {
            "startup": false,
            "wait_interval": 0
          }
        }
      },
      "cell_type": "code",
      "source": [
        "learn.load('224_all')"
      ],
      "execution_count": 0,
      "outputs": []
    },
    {
      "metadata": {
        "id": "ycidCLJj4H12",
        "colab_type": "text"
      },
      "cell_type": "markdown",
      "source": [
        "## 7) Ponownie użyj lr_find()"
      ]
    },
    {
      "metadata": {
        "id": "wg0SO-Jy4Ijw",
        "colab_type": "code",
        "colab": {
          "autoexec": {
            "startup": false,
            "wait_interval": 0
          }
        }
      },
      "cell_type": "code",
      "source": [
        "lrf = learn.lr_find()"
      ],
      "execution_count": 0,
      "outputs": []
    },
    {
      "metadata": {
        "id": "Lv3viSxo4U11",
        "colab_type": "code",
        "colab": {
          "autoexec": {
            "startup": false,
            "wait_interval": 0
          }
        }
      },
      "cell_type": "code",
      "source": [
        "learn.sched.plot()"
      ],
      "execution_count": 0,
      "outputs": []
    },
    {
      "metadata": {
        "id": "ckodbTFLDZxA",
        "colab_type": "code",
        "colab": {
          "autoexec": {
            "startup": false,
            "wait_interval": 0
          }
        }
      },
      "cell_type": "code",
      "source": [
        "lr = np.array([0.00001, 0.0001, 0.001])"
      ],
      "execution_count": 0,
      "outputs": []
    },
    {
      "metadata": {
        "id": "BwDmV0yv4bU8",
        "colab_type": "text"
      },
      "cell_type": "markdown",
      "source": [
        "## 8) Trenuj całą sieć z cycle_mult=2 aż do przetrenowania (over-fitting)"
      ]
    },
    {
      "metadata": {
        "id": "LXMxNawd4kJg",
        "colab_type": "code",
        "colab": {
          "autoexec": {
            "startup": false,
            "wait_interval": 0
          }
        }
      },
      "cell_type": "code",
      "source": [
        "learn.fit(lr, 3, cycle_len=1, cycle_mult=2)"
      ],
      "execution_count": 0,
      "outputs": []
    },
    {
      "metadata": {
        "id": "kOIa2P0h44A4",
        "colab_type": "code",
        "colab": {
          "autoexec": {
            "startup": false,
            "wait_interval": 0
          }
        }
      },
      "cell_type": "code",
      "source": [
        "learn.save('224_final')"
      ],
      "execution_count": 0,
      "outputs": []
    },
    {
      "metadata": {
        "id": "kZSZQ_aX46ee",
        "colab_type": "code",
        "colab": {
          "autoexec": {
            "startup": false,
            "wait_interval": 0
          }
        }
      },
      "cell_type": "code",
      "source": [
        "learn.load('224_final')"
      ],
      "execution_count": 0,
      "outputs": []
    },
    {
      "metadata": {
        "id": "hgH7kpNn6N97",
        "colab_type": "text"
      },
      "cell_type": "markdown",
      "source": [
        "# Kontrola jakości na zestawie walidacyjnym"
      ]
    },
    {
      "metadata": {
        "id": "T1ae1eZyN0LN",
        "colab_type": "text"
      },
      "cell_type": "markdown",
      "source": [
        "### Prognoza z użyciem TTA (Test Time Augmentation)"
      ]
    },
    {
      "metadata": {
        "id": "EgFe3WScCZoG",
        "colab_type": "text"
      },
      "cell_type": "markdown",
      "source": [
        "Jest jeszcze coś, co możemy zrobić z augmentacją danych: użyj jej podczas *wnioskowania* (czy *testowania*). Nic dziwnego, że jest to znane jako *augmentacja podczas testowania*, ang. \"test time augmentation\" lub po prostu *TTA*.\n",
        "\n",
        "TTA po prostu tworzy prognozy nie tylko na obrazach z twojego zbioru walidacyjnego, ale także tworzy prognozy dla pewnej liczby losowo augmentowanych ich wersji (domyślnie używa oryginalnego obrazu wraz z 4 losowo augmentowanymi wersjami). Następnie liczy i używa średniej prognozy z tych obrazów. Aby użyć TTA na zestawie walidacyjnym, możemy skorzystać z metody `TTA()` ucznia."
      ]
    },
    {
      "metadata": {
        "id": "Z466Lks3N0LN",
        "colab_type": "code",
        "colab": {
          "autoexec": {
            "startup": false,
            "wait_interval": 0
          }
        }
      },
      "cell_type": "code",
      "source": [
        "log_preds_tta, y_tta = learn.TTA()"
      ],
      "execution_count": 0,
      "outputs": []
    },
    {
      "metadata": {
        "id": "tNPICfTKDeaz",
        "colab_type": "code",
        "colab": {
          "autoexec": {
            "startup": false,
            "wait_interval": 0
          }
        }
      },
      "cell_type": "code",
      "source": [
        "probs_tta = np.mean(np.exp(log_preds_tta),0)\n",
        "preds_tta = np.argmax(probs_tta, axis=1)  # from log probabilities to 0 or 1"
      ],
      "execution_count": 0,
      "outputs": []
    },
    {
      "metadata": {
        "id": "-3hRFOlkES1E",
        "colab_type": "code",
        "colab": {
          "autoexec": {
            "startup": false,
            "wait_interval": 0
          }
        }
      },
      "cell_type": "code",
      "source": [
        "probs_tta[0:3, :]"
      ],
      "execution_count": 0,
      "outputs": []
    },
    {
      "metadata": {
        "id": "c6PMaDVGDehF",
        "colab_type": "code",
        "colab": {
          "autoexec": {
            "startup": false,
            "wait_interval": 0
          }
        }
      },
      "cell_type": "code",
      "source": [
        "# preds_tta[:3]"
      ],
      "execution_count": 0,
      "outputs": []
    },
    {
      "metadata": {
        "id": "RTu09M5NDedw",
        "colab_type": "code",
        "colab": {
          "autoexec": {
            "startup": false,
            "wait_interval": 0
          }
        }
      },
      "cell_type": "code",
      "source": [
        "accuracy_np(probs_tta, y_tta)"
      ],
      "execution_count": 0,
      "outputs": []
    },
    {
      "metadata": {
        "id": "HtBobdOSCie4",
        "colab_type": "text"
      },
      "cell_type": "markdown",
      "source": [
        "Zwykle widać 10-20 procentowy spadek błędu na tym zestawie danych podczas korzystania z TTA w tym momencie, co jest niesamowitym wynikiem dla tak szybkiej i prostej techniki!"
      ]
    },
    {
      "metadata": {
        "id": "flu26xIrN0LP",
        "colab_type": "text"
      },
      "cell_type": "markdown",
      "source": [
        "### Prognoza bez TTA"
      ]
    },
    {
      "metadata": {
        "id": "foTBmO-2N0LP",
        "colab_type": "code",
        "colab": {
          "autoexec": {
            "startup": false,
            "wait_interval": 0
          }
        }
      },
      "cell_type": "code",
      "source": [
        "# to tworzy prognozę dla zestawu walidacyjnego. Prognozy są w skali logarytmicznej\n",
        "log_preds = learn.predict()\n",
        "y = data.val_y"
      ],
      "execution_count": 0,
      "outputs": []
    },
    {
      "metadata": {
        "id": "Uz5y8RCIFAVW",
        "colab_type": "code",
        "colab": {
          "autoexec": {
            "startup": false,
            "wait_interval": 0
          }
        }
      },
      "cell_type": "code",
      "source": [
        "preds = np.argmax(log_preds, axis=1)  # od logarytmu prawdopodobieństwa do 0, 1, ... lub 9\n",
        "probs = np.exp(log_preds);            # pr(car)"
      ],
      "execution_count": 0,
      "outputs": []
    },
    {
      "metadata": {
        "id": "uf5yEmlRFAXT",
        "colab_type": "code",
        "colab": {
          "autoexec": {
            "startup": false,
            "wait_interval": 0
          }
        }
      },
      "cell_type": "code",
      "source": [
        "probs[0:3, :]"
      ],
      "execution_count": 0,
      "outputs": []
    },
    {
      "metadata": {
        "id": "iUWpcMhhGnnm",
        "colab_type": "code",
        "colab": {
          "autoexec": {
            "startup": false,
            "wait_interval": 0
          }
        }
      },
      "cell_type": "code",
      "source": [
        "preds[:150]"
      ],
      "execution_count": 0,
      "outputs": []
    },
    {
      "metadata": {
        "id": "o_dXm2dcFAaA",
        "colab_type": "code",
        "colab": {
          "autoexec": {
            "startup": false,
            "wait_interval": 0
          }
        }
      },
      "cell_type": "code",
      "source": [
        "print('preds: ', len(preds), preds[0:10], '\\nprobs: ', len(probs), probs[0:10])"
      ],
      "execution_count": 0,
      "outputs": []
    },
    {
      "metadata": {
        "id": "Ym53Rqq5D9DH",
        "colab_type": "code",
        "colab": {
          "autoexec": {
            "startup": false,
            "wait_interval": 0
          }
        }
      },
      "cell_type": "code",
      "source": [
        "accuracy_np(probs, y)"
      ],
      "execution_count": 0,
      "outputs": []
    },
    {
      "metadata": {
        "id": "Iw-YHwfHN0LQ",
        "colab_type": "text"
      },
      "cell_type": "markdown",
      "source": [
        "## Analiza wyników - tablica pomyłek"
      ]
    },
    {
      "metadata": {
        "id": "_QOuVgzyN0LR",
        "colab_type": "code",
        "colab": {
          "autoexec": {
            "startup": false,
            "wait_interval": 0
          }
        }
      },
      "cell_type": "code",
      "source": [
        "from sklearn.metrics import confusion_matrix"
      ],
      "execution_count": 0,
      "outputs": []
    },
    {
      "metadata": {
        "id": "iKoZ4Dz6N0LR",
        "colab_type": "code",
        "colab": {
          "autoexec": {
            "startup": false,
            "wait_interval": 0
          }
        }
      },
      "cell_type": "code",
      "source": [
        "# use to check TTA predictions\n",
        "y = y_tta\n",
        "preds = preds_tta"
      ],
      "execution_count": 0,
      "outputs": []
    },
    {
      "metadata": {
        "id": "XB993L0pN0LU",
        "colab_type": "code",
        "colab": {
          "autoexec": {
            "startup": false,
            "wait_interval": 0
          }
        }
      },
      "cell_type": "code",
      "source": [
        "cm = confusion_matrix(y, preds)\n",
        "\n",
        "mpl.style.use('default')\n",
        "mpl.style.use('seaborn-ticks')\n",
        "plot_confusion_matrix(cm, data.classes)"
      ],
      "execution_count": 0,
      "outputs": []
    },
    {
      "metadata": {
        "id": "KSBnRQNRN0Lb",
        "colab_type": "text"
      },
      "cell_type": "markdown",
      "source": [
        "## Przegląd zdjęć zestawu walidacyjnego"
      ]
    },
    {
      "metadata": {
        "id": "T3s6tcGIdTvg",
        "colab_type": "code",
        "colab": {
          "autoexec": {
            "startup": false,
            "wait_interval": 0
          }
        }
      },
      "cell_type": "code",
      "source": [
        "cleanup_dataset_path = Path(f'{PATH}valid/')"
      ],
      "execution_count": 0,
      "outputs": []
    },
    {
      "metadata": {
        "id": "ENo7OEeadNR5",
        "colab_type": "code",
        "colab": {
          "autoexec": {
            "startup": false,
            "wait_interval": 0
          }
        }
      },
      "cell_type": "code",
      "source": [
        "cats = sorted(list([x.stem for x in cleanup_dataset_path.iterdir()])) #; cats"
      ],
      "execution_count": 0,
      "outputs": []
    },
    {
      "metadata": {
        "id": "BEJEuGjidN2i",
        "colab_type": "code",
        "colab": {
          "autoexec": {
            "startup": false,
            "wait_interval": 0
          }
        }
      },
      "cell_type": "code",
      "source": [
        "cats_dict = {cat: idx for idx, cat in enumerate(cats)}; cats_dict"
      ],
      "execution_count": 0,
      "outputs": []
    },
    {
      "metadata": {
        "id": "uOBJuywsc04R",
        "colab_type": "code",
        "colab": {
          "autoexec": {
            "startup": false,
            "wait_interval": 0
          }
        },
        "cellView": "form"
      },
      "cell_type": "code",
      "source": [
        "#@title Kategoria\n",
        "selected_cat = \"Autobus Jelcz Ogorek\" #@param ['Autobus Jelcz MZK', 'Autobus Jelcz Ogorek', 'FSC Zuk', 'FSO Polonez', 'FSO Warszawa', 'Fiat 125p', 'Fiat 126p Maluch', 'Gazik', 'Syrena 105', 'ZSD Nysa']"
      ],
      "execution_count": 0,
      "outputs": []
    },
    {
      "metadata": {
        "id": "jB1Fe6ocdEZ7",
        "colab_type": "code",
        "colab": {
          "autoexec": {
            "startup": false,
            "wait_interval": 0
          }
        }
      },
      "cell_type": "code",
      "source": [
        "selected_cat_idx = cats_dict[selected_cat]"
      ],
      "execution_count": 0,
      "outputs": []
    },
    {
      "metadata": {
        "id": "z4_lhzcHcsWh",
        "colab_type": "code",
        "colab": {
          "autoexec": {
            "startup": false,
            "wait_interval": 0
          }
        }
      },
      "cell_type": "code",
      "source": [
        "selected_y = np.full_like(preds, selected_cat_idx) #; selected_y[:10]"
      ],
      "execution_count": 0,
      "outputs": []
    },
    {
      "metadata": {
        "id": "qV5xYkDZN0Lk",
        "colab_type": "code",
        "colab": {
          "autoexec": {
            "startup": false,
            "wait_interval": 0
          }
        }
      },
      "cell_type": "code",
      "source": [
        "def rand_by_mask(mask): return np.random.choice(np.where(mask)[0], 4, replace=False)\n",
        "def rand_by_correct(is_correct): return rand_by_mask((preds == selected_y)==is_correct)"
      ],
      "execution_count": 0,
      "outputs": []
    },
    {
      "metadata": {
        "id": "zpyiqX0_N0Ll",
        "colab_type": "code",
        "colab": {
          "autoexec": {
            "startup": false,
            "wait_interval": 0
          }
        }
      },
      "cell_type": "code",
      "source": [
        "def plots(ims, figsize=(12,6), rows=1, titles=None):\n",
        "    f = plt.figure(figsize=figsize)\n",
        "    for i in range(len(ims)):\n",
        "        sp = f.add_subplot(rows, len(ims)//rows, i+1)\n",
        "        sp.axis('Off')\n",
        "        if titles is not None: sp.set_title(titles[i], fontsize=16)\n",
        "        plt.imshow(ims[i])"
      ],
      "execution_count": 0,
      "outputs": []
    },
    {
      "metadata": {
        "id": "G0cNKQdxN0Lm",
        "colab_type": "code",
        "colab": {
          "autoexec": {
            "startup": false,
            "wait_interval": 0
          }
        }
      },
      "cell_type": "code",
      "source": [
        "def load_img_id(ds, idx): return np.array(PIL.Image.open(PATH/ds.fnames[idx]))\n",
        "\n",
        "def plot_val_with_title(idxs, title):  \n",
        "    imgs = [load_img_id(data.test_ds,x) for x in idxs]\n",
        "    def fn(x): return Path(data.test_ds.fnames[x]).stem\n",
        "    def pred_str(x): return '' + data.classes[int(pred_probs[x, 0])] + f', {pred_probs[x, 1]*100:0.4}%'\n",
        "    title_probs = [pred_str(x) for x in idxs]\n",
        "    titles = [f'{fn(x)} -> {pred_str(x)}' for x in idxs]\n",
        "    print(title)\n",
        "    print(titles)\n",
        "    return plots(imgs, rows=1, titles=title_probs, figsize=(16,8))"
      ],
      "execution_count": 0,
      "outputs": []
    },
    {
      "metadata": {
        "id": "SEh4Vuy0N0Lp",
        "colab_type": "code",
        "colab": {
          "autoexec": {
            "startup": false,
            "wait_interval": 0
          }
        }
      },
      "cell_type": "code",
      "source": [
        "# 1. A few correct labels at random\n",
        "plot_val_with_title(rand_by_correct(True), \"Correctly classified\")"
      ],
      "execution_count": 0,
      "outputs": []
    },
    {
      "metadata": {
        "id": "aSUenFtoN0Lq",
        "colab_type": "code",
        "colab": {
          "autoexec": {
            "startup": false,
            "wait_interval": 0
          }
        }
      },
      "cell_type": "code",
      "source": [
        "# 2. A few incorrect labels at random\n",
        "plot_val_with_title(rand_by_correct(False), \"Incorrectly classified\")"
      ],
      "execution_count": 0,
      "outputs": []
    },
    {
      "metadata": {
        "id": "bmvndla-N0Lr",
        "colab_type": "code",
        "colab": {
          "autoexec": {
            "startup": false,
            "wait_interval": 0
          }
        }
      },
      "cell_type": "code",
      "source": [
        "def most_by_mask(mask, mult):\n",
        "    idxs = np.where(mask)[0]\n",
        "    return idxs[np.argsort(mult * pred_probs[idxs, 1])[:4]]\n",
        "\n",
        "def most_by_correct(y, is_correct): \n",
        "    mult = -1 if (y==selected_cat_idx)==is_correct else 1\n",
        "    return most_by_mask((preds == selected_y)==is_correct & (selected_y == y), mult)"
      ],
      "execution_count": 0,
      "outputs": []
    },
    {
      "metadata": {
        "id": "_SMeJb8BN0Lr",
        "colab_type": "code",
        "colab": {
          "autoexec": {
            "startup": false,
            "wait_interval": 0
          }
        }
      },
      "cell_type": "code",
      "source": [
        "plot_val_with_title(most_by_correct(selected_cat_idx, True), \"Most correct \" + selected_cat)"
      ],
      "execution_count": 0,
      "outputs": []
    },
    {
      "metadata": {
        "id": "H5EmAzIDV-Mm",
        "colab_type": "code",
        "colab": {
          "autoexec": {
            "startup": false,
            "wait_interval": 0
          }
        }
      },
      "cell_type": "code",
      "source": [
        "plot_val_with_title(most_by_correct(selected_cat_idx, False), \"Most incorrect \" + selected_cat)"
      ],
      "execution_count": 0,
      "outputs": []
    },
    {
      "metadata": {
        "id": "bDyWewwqN2zf",
        "colab_type": "code",
        "colab": {
          "autoexec": {
            "startup": false,
            "wait_interval": 0
          }
        }
      },
      "cell_type": "code",
      "source": [
        "most_uncertain = np.argsort(np.abs(pred_probs[:, 1] -0.5))[:4]\n",
        "plot_val_with_title(most_uncertain, \"Most uncertain predictions\")"
      ],
      "execution_count": 0,
      "outputs": []
    },
    {
      "metadata": {
        "id": "bRnb1GfYEQmo",
        "colab_type": "text"
      },
      "cell_type": "markdown",
      "source": [
        "# Koniec"
      ]
    }
  ]
}