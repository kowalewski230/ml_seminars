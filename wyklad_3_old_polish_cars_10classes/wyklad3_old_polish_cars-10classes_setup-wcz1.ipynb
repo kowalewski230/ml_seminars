{
  "nbformat": 4,
  "nbformat_minor": 0,
  "metadata": {
    "colab": {
      "name": "wyklad3_old_polish_cars-10classes_setup-wcz1.ipynb",
      "version": "0.3.2",
      "views": {},
      "default_view": {},
      "provenance": [
        {
          "file_id": "1zOomPbd5XTdd8fUw36YP-KVN8hZ_oUoH",
          "timestamp": 1524943039598
        }
      ],
      "private_outputs": true,
      "collapsed_sections": []
    },
    "kernelspec": {
      "name": "python3",
      "display_name": "Python 3"
    },
    "accelerator": "GPU"
  },
  "cells": [
    {
      "metadata": {
        "id": "og-0W-o8-rQQ",
        "colab_type": "code",
        "colab": {
          "autoexec": {
            "startup": false,
            "wait_interval": 0
          }
        }
      },
      "cell_type": "code",
      "source": [
        "#Setup Google Drive Integration\n",
        "\n",
        "!apt-get install -y -qq software-properties-common python-software-properties module-init-tools\n",
        "!add-apt-repository -y ppa:alessandro-strada/ppa 2>&1 > /dev/null\n",
        "!apt-get update -qq 2>&1 > /dev/null\n",
        "!apt-get -y install -qq google-drive-ocamlfuse fuse\n",
        "from google.colab import auth\n",
        "auth.authenticate_user()\n",
        "from oauth2client.client import GoogleCredentials\n",
        "creds = GoogleCredentials.get_application_default()\n",
        "import getpass\n",
        "!google-drive-ocamlfuse -headless -id={creds.client_id} -secret={creds.client_secret} < /dev/null 2>&1 | grep URL\n",
        "vcode = getpass.getpass()\n",
        "!echo {vcode} | google-drive-ocamlfuse -headless -id={creds.client_id} -secret={creds.client_secret}\n",
        "\n",
        "!mkdir -p drive\n",
        "!google-drive-ocamlfuse drive -o nonempty"
      ],
      "execution_count": 0,
      "outputs": []
    },
    {
      "metadata": {
        "id": "ZS4ewO3D-6fD",
        "colab_type": "code",
        "colab": {
          "autoexec": {
            "startup": false,
            "wait_interval": 0
          }
        }
      },
      "cell_type": "code",
      "source": [
        "#Fast.AI Setup\n",
        "!git clone https://github.com/fastai/fastai.git\n",
        "import os\n",
        "os.chdir(\"fastai\")\n",
        "!git pull"
      ],
      "execution_count": 0,
      "outputs": []
    },
    {
      "metadata": {
        "id": "HLpl6fVt_sRU",
        "colab_type": "code",
        "colab": {
          "autoexec": {
            "startup": false,
            "wait_interval": 0
          }
        }
      },
      "cell_type": "code",
      "source": [
        "os.chdir(\"..\")\n",
        "!pip install https://github.com/fastai/fastai/archive/master.zip"
      ],
      "execution_count": 0,
      "outputs": []
    },
    {
      "metadata": {
        "id": "zVAenoU1GnVS",
        "colab_type": "code",
        "colab": {
          "autoexec": {
            "startup": false,
            "wait_interval": 0
          }
        }
      },
      "cell_type": "code",
      "source": [
        "# http://pytorch.org/\n",
        "from os import path\n",
        "from wheel.pep425tags import get_abbr_impl, get_impl_ver, get_abi_tag\n",
        "platform = '{}{}-{}'.format(get_abbr_impl(), get_impl_ver(), get_abi_tag())\n",
        "\n",
        "accelerator = 'cu80' if path.exists('/opt/bin/nvidia-smi') else 'cpu'\n",
        "\n",
        "!pip install -q http://download.pytorch.org/whl/{accelerator}/torch-0.3.0.post4-{platform}-linux_x86_64.whl torchvision\n",
        "import torch"
      ],
      "execution_count": 0,
      "outputs": []
    },
    {
      "metadata": {
        "id": "CTOIOhCJJn-k",
        "colab_type": "code",
        "colab": {
          "autoexec": {
            "startup": false,
            "wait_interval": 0
          }
        }
      },
      "cell_type": "code",
      "source": [
        "!pip install ipywidgets==6.0.0"
      ],
      "execution_count": 0,
      "outputs": []
    },
    {
      "metadata": {
        "id": "FJMfvpMGEg8z",
        "colab_type": "code",
        "colab": {
          "autoexec": {
            "startup": false,
            "wait_interval": 0
          }
        }
      },
      "cell_type": "code",
      "source": [
        "#Now go to your Google Drive and open the notebook\n",
        "#Make sure you have runtime type for this as well as the notebook in google drive to GPU"
      ],
      "execution_count": 0,
      "outputs": []
    },
    {
      "metadata": {
        "id": "NOtG1jlGW-kW",
        "colab_type": "code",
        "colab": {
          "autoexec": {
            "startup": false,
            "wait_interval": 0
          }
        }
      },
      "cell_type": "code",
      "source": [
        ""
      ],
      "execution_count": 0,
      "outputs": []
    },
    {
      "metadata": {
        "id": "YMIR9I9w4XmJ",
        "colab_type": "text"
      },
      "cell_type": "markdown",
      "source": [
        "# PyDrive"
      ]
    },
    {
      "metadata": {
        "id": "f1QfUX25K5hL",
        "colab_type": "code",
        "colab": {
          "autoexec": {
            "startup": false,
            "wait_interval": 0
          }
        }
      },
      "cell_type": "code",
      "source": [
        "# Install the PyDrive wrapper & import libraries.\n",
        "# This only needs to be done once per notebook.\n",
        "!pip install -U -q PyDrive\n",
        "\n",
        "from pydrive.auth import GoogleAuth\n",
        "from pydrive.drive import GoogleDrive\n",
        "from google.colab import auth\n",
        "from oauth2client.client import GoogleCredentials\n",
        "\n",
        "# Authenticate and create the PyDrive client.\n",
        "# This only needs to be done once per notebook.\n",
        "auth.authenticate_user()\n",
        "gauth = GoogleAuth()\n",
        "gauth.credentials = GoogleCredentials.get_application_default()\n",
        "drive = GoogleDrive(gauth)\n",
        "\n",
        "from pathlib import Path\n",
        "import os\n",
        "\n",
        "def download_and_save(file_name, file_id):\n",
        "  downloaded = drive.CreateFile({'id': file_id})\n",
        "  # fetch file\n",
        "  downloaded.FetchContent()\n",
        "  # write file\n",
        "  with open(file_name,'wb') as f:\n",
        "       f.write(downloaded.content.read())\n",
        "      \n",
        "  print(f'Saved {file_name}')\n",
        "  \n",
        "FILE_NAME, FILE_ID = ['file_name', 'file_id']"
      ],
      "execution_count": 0,
      "outputs": []
    },
    {
      "metadata": {
        "id": "5ZXypyBX-JB-",
        "colab_type": "text"
      },
      "cell_type": "markdown",
      "source": [
        "# Get dataset(s)"
      ]
    },
    {
      "metadata": {
        "id": "5TL75Rydtgp4",
        "colab_type": "code",
        "colab": {
          "autoexec": {
            "startup": false,
            "wait_interval": 0
          }
        }
      },
      "cell_type": "code",
      "source": [
        "from pathlib import Path\n",
        "\n",
        "dataset_path = Path.home() / 'data/old_polish_cars'; dataset_path\n",
        "!mkdir -p $dataset_path\n",
        "!ls -la $dataset_path"
      ],
      "execution_count": 0,
      "outputs": []
    },
    {
      "metadata": {
        "id": "b-A_m90b9izf",
        "colab_type": "text"
      },
      "cell_type": "markdown",
      "source": [
        "## get old_polish_cars_v5-split dataset"
      ]
    },
    {
      "metadata": {
        "id": "PE5Bf1Op980l",
        "colab_type": "code",
        "colab": {
          "autoexec": {
            "startup": false,
            "wait_interval": 0
          }
        }
      },
      "cell_type": "code",
      "source": [
        "old_polish_cars_v5 = {FILE_NAME: 'old_polish_cars_v5_photos-split-2017-11-15.tgz', FILE_ID: '1_JgAlUNebGH3JUioSPWW-GV_eL4K1txM'}\n",
        "old_polish_cars_v5_path = dataset_path / old_polish_cars_v5[FILE_NAME]\n",
        "download_and_save(old_polish_cars_v5_path, old_polish_cars_v5[FILE_ID])"
      ],
      "execution_count": 0,
      "outputs": []
    },
    {
      "metadata": {
        "id": "gu1mfxS8-1sV",
        "colab_type": "code",
        "colab": {
          "autoexec": {
            "startup": false,
            "wait_interval": 0
          }
        }
      },
      "cell_type": "code",
      "source": [
        "# unpack\n",
        "!tar -xf $old_polish_cars_v5_path -C $dataset_path"
      ],
      "execution_count": 0,
      "outputs": []
    },
    {
      "metadata": {
        "id": "S1ysBtt3ufRE",
        "colab_type": "text"
      },
      "cell_type": "markdown",
      "source": [
        "## get old_polish_cars_v4 dataset"
      ]
    },
    {
      "metadata": {
        "id": "vfOwOQ0mz2bp",
        "colab_type": "code",
        "colab": {
          "autoexec": {
            "startup": false,
            "wait_interval": 0
          }
        }
      },
      "cell_type": "code",
      "source": [
        "old_polish_cars_v4 = {FILE_NAME: 'old_polish_cars_v4_photos-20180428.tgz', FILE_ID: '1uqJz7Sb-PawB9hjd9R4X9x4XdRUHacto'}\n",
        "old_polish_cars_v4_path = dataset_path / old_polish_cars_v4[FILE_NAME]\n",
        "\n",
        "download_and_save(old_polish_cars_v4_path, old_polish_cars_v4[FILE_ID])"
      ],
      "execution_count": 0,
      "outputs": []
    },
    {
      "metadata": {
        "id": "WfTHTIhI10i7",
        "colab_type": "code",
        "colab": {
          "autoexec": {
            "startup": false,
            "wait_interval": 0
          }
        }
      },
      "cell_type": "code",
      "source": [
        "# unpack\n",
        "\n",
        "!tar -xf $old_polish_cars_v4_path -C $dataset_path"
      ],
      "execution_count": 0,
      "outputs": []
    },
    {
      "metadata": {
        "id": "1rQGlnaqHBds",
        "colab_type": "text"
      },
      "cell_type": "markdown",
      "source": [
        "# Get plots_wcz.py"
      ]
    },
    {
      "metadata": {
        "id": "cRaA4XnZHBdx",
        "colab_type": "code",
        "colab": {
          "autoexec": {
            "startup": false,
            "wait_interval": 0
          }
        }
      },
      "cell_type": "code",
      "source": [
        "download_and_save(Path.home() / 'plots_wcz.py', '1CIc_hlYNzypzZFnFi4iQXtoyLj1C7-vS')\n",
        "!cp ~/plots_wcz.py /usr/local/lib/python3.6/dist-packages/fastai"
      ],
      "execution_count": 0,
      "outputs": []
    },
    {
      "metadata": {
        "id": "SBV6Qm8a5rBj",
        "colab_type": "text"
      },
      "cell_type": "markdown",
      "source": [
        "# Get models"
      ]
    },
    {
      "metadata": {
        "id": "tIN0KqSY9be7",
        "colab_type": "code",
        "colab": {
          "autoexec": {
            "startup": false,
            "wait_interval": 0
          }
        }
      },
      "cell_type": "code",
      "source": [
        "models_path = dataset_path / 'old_polish_cars_v5_photos-split/models'\n",
        "!mkdir -p $models_path"
      ],
      "execution_count": 0,
      "outputs": []
    },
    {
      "metadata": {
        "id": "YcgJdsZD5p6x",
        "colab_type": "code",
        "colab": {
          "autoexec": {
            "startup": false,
            "wait_interval": 0
          }
        }
      },
      "cell_type": "code",
      "source": [
        "# 224_lastlayer.h5, https://drive.google.com/open?id=1avcGo8__1eMTjXMwQT8atKrQLel75hHm\n",
        "m224_lastlayer = {FILE_NAME: '224_lastlayer.h5', FILE_ID: '1avcGo8__1eMTjXMwQT8atKrQLel75hHm'}\n",
        "download_and_save(models_path / m224_lastlayer[FILE_NAME], m224_lastlayer[FILE_ID])"
      ],
      "execution_count": 0,
      "outputs": []
    },
    {
      "metadata": {
        "id": "dBY_aXyT6LL5",
        "colab_type": "code",
        "colab": {
          "autoexec": {
            "startup": false,
            "wait_interval": 0
          }
        }
      },
      "cell_type": "code",
      "source": [
        "# 224_all.h5, https://drive.google.com/open?id=17qRBfyG96SW2uO2WIwhdhMk44-pW8HmO\n",
        "m224_all = {FILE_NAME: '224_all.h5', FILE_ID: '17qRBfyG96SW2uO2WIwhdhMk44-pW8HmO'}\n",
        "download_and_save(models_path / m224_all[FILE_NAME], m224_all[FILE_ID])"
      ],
      "execution_count": 0,
      "outputs": []
    },
    {
      "metadata": {
        "id": "YysfB4K8-xyj",
        "colab_type": "code",
        "colab": {
          "autoexec": {
            "startup": false,
            "wait_interval": 0
          }
        }
      },
      "cell_type": "code",
      "source": [
        "!ls -la $dataset_path"
      ],
      "execution_count": 0,
      "outputs": []
    },
    {
      "metadata": {
        "id": "nCZbfBq96BBT",
        "colab_type": "text"
      },
      "cell_type": "markdown",
      "source": [
        "# Monitoring VM"
      ]
    },
    {
      "metadata": {
        "id": "Uh0F8bWKFY_n",
        "colab_type": "code",
        "colab": {
          "autoexec": {
            "startup": false,
            "wait_interval": 0
          }
        }
      },
      "cell_type": "code",
      "source": [
        "!ls -a"
      ],
      "execution_count": 0,
      "outputs": []
    },
    {
      "metadata": {
        "id": "nm03bS_8H8S5",
        "colab_type": "code",
        "colab": {
          "autoexec": {
            "startup": false,
            "wait_interval": 0
          }
        }
      },
      "cell_type": "code",
      "source": [
        "who"
      ],
      "execution_count": 0,
      "outputs": []
    },
    {
      "metadata": {
        "id": "Q69oELsC5-go",
        "colab_type": "code",
        "colab": {
          "autoexec": {
            "startup": false,
            "wait_interval": 0
          }
        }
      },
      "cell_type": "code",
      "source": [
        "!uptime"
      ],
      "execution_count": 0,
      "outputs": []
    },
    {
      "metadata": {
        "id": "2bQa46jj6DE7",
        "colab_type": "code",
        "colab": {
          "autoexec": {
            "startup": false,
            "wait_interval": 0
          }
        }
      },
      "cell_type": "code",
      "source": [
        "cd fastai"
      ],
      "execution_count": 0,
      "outputs": []
    },
    {
      "metadata": {
        "id": "OOrHXXns6Yb9",
        "colab_type": "code",
        "colab": {
          "autoexec": {
            "startup": false,
            "wait_interval": 0
          }
        }
      },
      "cell_type": "code",
      "source": [
        "!/opt/bin/nvidia-smi"
      ],
      "execution_count": 0,
      "outputs": []
    },
    {
      "metadata": {
        "id": "UZmqalcuXsEg",
        "colab_type": "code",
        "colab": {
          "autoexec": {
            "startup": false,
            "wait_interval": 0
          }
        }
      },
      "cell_type": "code",
      "source": [
        "for i in range(3):\n",
        "  !top -n 1"
      ],
      "execution_count": 0,
      "outputs": []
    },
    {
      "metadata": {
        "id": "MrMh9qEIXmds",
        "colab_type": "code",
        "colab": {
          "autoexec": {
            "startup": false,
            "wait_interval": 0
          }
        }
      },
      "cell_type": "code",
      "source": [
        "!top -h"
      ],
      "execution_count": 0,
      "outputs": []
    },
    {
      "metadata": {
        "id": "VaLG8jhT6U3Y",
        "colab_type": "code",
        "colab": {
          "autoexec": {
            "startup": false,
            "wait_interval": 0
          }
        }
      },
      "cell_type": "code",
      "source": [
        "import os\n",
        "import psutil\n",
        "\n",
        "def print_memsize():\n",
        "  process = psutil.Process(os.getpid())\n",
        "  print(f'{process.memory_info().rss / 1024**3:.5} GB')\n",
        "  \n",
        "print_memsize()"
      ],
      "execution_count": 0,
      "outputs": []
    },
    {
      "metadata": {
        "id": "D-UWeMDf7m3-",
        "colab_type": "code",
        "colab": {
          "autoexec": {
            "startup": false,
            "wait_interval": 0
          }
        }
      },
      "cell_type": "code",
      "source": [
        "print_memsize()"
      ],
      "execution_count": 0,
      "outputs": []
    }
  ]
}