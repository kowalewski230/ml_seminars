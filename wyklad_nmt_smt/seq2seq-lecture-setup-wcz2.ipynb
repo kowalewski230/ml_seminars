{
  "nbformat": 4,
  "nbformat_minor": 0,
  "metadata": {
    "colab": {
      "name": "seq2seq-lecture-setup-wcz2.ipynb",
      "version": "0.3.2",
      "views": {},
      "default_view": {},
      "provenance": [],
      "private_outputs": true,
      "collapsed_sections": [],
      "toc_visible": true
    },
    "kernelspec": {
      "name": "python3",
      "display_name": "Python 3"
    },
    "accelerator": "GPU"
  },
  "cells": [
    {
      "metadata": {
        "id": "CH3K-upNE28D",
        "colab_type": "text"
      },
      "cell_type": "markdown",
      "source": [
        "# Setup seq2seq lecture"
      ]
    },
    {
      "metadata": {
        "id": "pvNsvobjFNKz",
        "colab_type": "text"
      },
      "cell_type": "markdown",
      "source": [
        "## Setup Google Drive Integration"
      ]
    },
    {
      "metadata": {
        "id": "PZlXy_NvFN9i",
        "colab_type": "code",
        "colab": {
          "autoexec": {
            "startup": false,
            "wait_interval": 0
          }
        }
      },
      "cell_type": "code",
      "source": [
        "!apt-get install -y -qq software-properties-common python-software-properties module-init-tools\n",
        "!add-apt-repository -y ppa:alessandro-strada/ppa 2>&1 > /dev/null\n",
        "!apt-get update -qq 2>&1 > /dev/null\n",
        "!apt-get -y install -qq google-drive-ocamlfuse fuse\n",
        "from google.colab import auth\n",
        "auth.authenticate_user()\n",
        "from oauth2client.client import GoogleCredentials\n",
        "creds = GoogleCredentials.get_application_default()\n",
        "import getpass\n",
        "!google-drive-ocamlfuse -headless -id={creds.client_id} -secret={creds.client_secret} < /dev/null 2>&1 | grep URL\n",
        "vcode = getpass.getpass()\n",
        "!echo {vcode} | google-drive-ocamlfuse -headless -id={creds.client_id} -secret={creds.client_secret}\n",
        "\n",
        "!mkdir -p drive\n",
        "!google-drive-ocamlfuse drive -o nonempty"
      ],
      "execution_count": 0,
      "outputs": []
    },
    {
      "metadata": {
        "id": "71gU7PngExlh",
        "colab_type": "text"
      },
      "cell_type": "markdown",
      "source": [
        "## PyTorch setup"
      ]
    },
    {
      "metadata": {
        "id": "NTQYNZFKG_a5",
        "colab_type": "code",
        "colab": {
          "autoexec": {
            "startup": false,
            "wait_interval": 0
          }
        }
      },
      "cell_type": "code",
      "source": [
        "# http://pytorch.org/\n",
        "from os import path\n",
        "from wheel.pep425tags import get_abbr_impl, get_impl_ver, get_abi_tag\n",
        "platform = '{}{}-{}'.format(get_abbr_impl(), get_impl_ver(), get_abi_tag())\n",
        "\n",
        "accelerator = 'cu80' if path.exists('/opt/bin/nvidia-smi') else 'cpu'\n",
        "\n",
        "# !pip install -q http://download.pytorch.org/whl/{accelerator}/torch-0.3.0.post4-{platform}-linux_x86_64.whl torchvision\n",
        "!pip install -q http://download.pytorch.org/whl/{accelerator}/torch-0.4.0-{platform}-linux_x86_64.whl torchvision\n",
        "\n",
        "import torch"
      ],
      "execution_count": 0,
      "outputs": []
    },
    {
      "metadata": {
        "id": "zKuwQo_7Q4-v",
        "colab_type": "text"
      },
      "cell_type": "markdown",
      "source": [
        "## Fast.AI Setup"
      ]
    },
    {
      "metadata": {
        "id": "T1VJqxJMQ58z",
        "colab_type": "code",
        "colab": {
          "autoexec": {
            "startup": false,
            "wait_interval": 0
          }
        }
      },
      "cell_type": "code",
      "source": [
        "# !git clone https://github.com/fastai/fastai.git\n",
        "# import os\n",
        "# os.chdir(\"fastai\")\n",
        "# !git pull"
      ],
      "execution_count": 0,
      "outputs": []
    },
    {
      "metadata": {
        "id": "EpjAD1HORFXj",
        "colab_type": "code",
        "colab": {
          "autoexec": {
            "startup": false,
            "wait_interval": 0
          }
        }
      },
      "cell_type": "code",
      "source": [
        "# os.chdir(\"..\")\n",
        "# !pip install https://github.com/fastai/fastai/archive/master.zip"
      ],
      "execution_count": 0,
      "outputs": []
    },
    {
      "metadata": {
        "id": "cdLsetH6JBes",
        "colab_type": "text"
      },
      "cell_type": "markdown",
      "source": [
        "## Install libs"
      ]
    },
    {
      "metadata": {
        "id": "HNwsxvdnJDw5",
        "colab_type": "code",
        "colab": {
          "autoexec": {
            "startup": false,
            "wait_interval": 0
          }
        }
      },
      "cell_type": "code",
      "source": [
        "# !pip install unidecode tqdm dill pysmi visdom sconce\n",
        "!pip install unidecode tqdm dill pysmi"
      ],
      "execution_count": 0,
      "outputs": []
    },
    {
      "metadata": {
        "id": "VEHXEnEoUs8I",
        "colab_type": "code",
        "colab": {
          "autoexec": {
            "startup": false,
            "wait_interval": 0
          }
        }
      },
      "cell_type": "code",
      "source": [
        "# install visdom\n",
        "!pip install --upgrade git+https://github.com/facebookresearch/visdom.git@master"
      ],
      "execution_count": 0,
      "outputs": []
    },
    {
      "metadata": {
        "id": "6zEOcBv1U4MT",
        "colab_type": "code",
        "colab": {
          "autoexec": {
            "startup": false,
            "wait_interval": 0
          }
        }
      },
      "cell_type": "code",
      "source": [
        "# install tnt\n",
        "!pip install git+https://github.com/pytorch/tnt.git@master"
      ],
      "execution_count": 0,
      "outputs": []
    },
    {
      "metadata": {
        "id": "1Kk5FdvHFDeu",
        "colab_type": "text"
      },
      "cell_type": "markdown",
      "source": [
        "## Install the PyDrive wrapper & import libraries"
      ]
    },
    {
      "metadata": {
        "id": "AmbL-sxAFERR",
        "colab_type": "code",
        "colab": {
          "autoexec": {
            "startup": false,
            "wait_interval": 0
          }
        }
      },
      "cell_type": "code",
      "source": [
        "# This only needs to be done once per notebook.\n",
        "!pip install -U -q PyDrive\n",
        "\n",
        "from pydrive.auth import GoogleAuth\n",
        "from pydrive.drive import GoogleDrive\n",
        "from google.colab import auth\n",
        "from oauth2client.client import GoogleCredentials\n",
        "\n",
        "# Authenticate and create the PyDrive client.\n",
        "# This only needs to be done once per notebook.\n",
        "auth.authenticate_user()\n",
        "gauth = GoogleAuth()\n",
        "gauth.credentials = GoogleCredentials.get_application_default()\n",
        "drive = GoogleDrive(gauth)\n",
        "\n",
        "from pathlib import Path\n",
        "import os\n",
        "\n",
        "def download_and_save(file_name, file_id):\n",
        "  downloaded = drive.CreateFile({'id': file_id})\n",
        "  # fetch file\n",
        "  downloaded.FetchContent()\n",
        "  # write file\n",
        "  with open(file_name,'wb') as f:\n",
        "       f.write(downloaded.content.read())\n",
        "      \n",
        "  print(f'Saved {file_name}')\n",
        "  \n",
        "FILE_NAME, FILE_ID = ['file_name', 'file_id']"
      ],
      "execution_count": 0,
      "outputs": []
    },
    {
      "metadata": {
        "id": "6a-q1f8LFI5y",
        "colab_type": "text"
      },
      "cell_type": "markdown",
      "source": [
        "# Get dataset(s)"
      ]
    },
    {
      "metadata": {
        "id": "YLHSxEQmFe_u",
        "colab_type": "code",
        "colab": {
          "autoexec": {
            "startup": false,
            "wait_interval": 0
          }
        }
      },
      "cell_type": "code",
      "source": [
        "from pathlib import Path\n",
        "dataset_path = Path.home() / 'data/seq2seq'; dataset_path\n",
        "!mkdir -p $dataset_path\n",
        "!ls -la $dataset_path/"
      ],
      "execution_count": 0,
      "outputs": []
    },
    {
      "metadata": {
        "id": "ihRsb3C_FeG0",
        "colab_type": "text"
      },
      "cell_type": "markdown",
      "source": [
        "## Get dataset and extra sources"
      ]
    },
    {
      "metadata": {
        "id": "Zl_zASTIF9KN",
        "colab_type": "code",
        "colab": {
          "autoexec": {
            "startup": false,
            "wait_interval": 0
          }
        }
      },
      "cell_type": "code",
      "source": [
        "# eng-pol.txt, https://drive.google.com/open?id=1vXMWySvI0mVcyqQZQeQUsk9vSmXYvIYw\n",
        "eng_pol = {FILE_NAME: 'eng-pol.txt', FILE_ID: '1vXMWySvI0mVcyqQZQeQUsk9vSmXYvIYw'}\n",
        "download_and_save(dataset_path / eng_pol[FILE_NAME], eng_pol[FILE_ID])"
      ],
      "execution_count": 0,
      "outputs": []
    },
    {
      "metadata": {
        "id": "_xZcyCd2g0tu",
        "colab_type": "code",
        "colab": {
          "autoexec": {
            "startup": false,
            "wait_interval": 0
          }
        }
      },
      "cell_type": "code",
      "source": [
        "# masked_cross_entropy.py, https://drive.google.com/open?id=1YbNcZHWn7F0bUPDcgsKdHrj8HHr8QBXS\n",
        "masked_cross_entropy = {FILE_NAME: 'masked_cross_entropy.py', FILE_ID: '1YbNcZHWn7F0bUPDcgsKdHrj8HHr8QBXS'}\n",
        "download_and_save(Path('/content/') / masked_cross_entropy[FILE_NAME], masked_cross_entropy[FILE_ID])"
      ],
      "execution_count": 0,
      "outputs": []
    },
    {
      "metadata": {
        "id": "JV9IqMEfHdur",
        "colab_type": "code",
        "colab": {
          "autoexec": {
            "startup": false,
            "wait_interval": 0
          }
        }
      },
      "cell_type": "code",
      "source": [
        "# TODO: download btec dataset"
      ],
      "execution_count": 0,
      "outputs": []
    },
    {
      "metadata": {
        "id": "BH8p6Zj1orQ3",
        "colab_type": "code",
        "colab": {
          "autoexec": {
            "startup": false,
            "wait_interval": 0
          }
        }
      },
      "cell_type": "code",
      "source": [
        "# TODO: download saved model"
      ],
      "execution_count": 0,
      "outputs": []
    },
    {
      "metadata": {
        "id": "LBjvOVCPmWwn",
        "colab_type": "code",
        "colab": {
          "autoexec": {
            "startup": false,
            "wait_interval": 0
          }
        }
      },
      "cell_type": "code",
      "source": [
        "!ls -la $dataset_path/"
      ],
      "execution_count": 0,
      "outputs": []
    },
    {
      "metadata": {
        "id": "USMDLfIuo6Fd",
        "colab_type": "text"
      },
      "cell_type": "markdown",
      "source": [
        "# vm monitoring"
      ]
    },
    {
      "metadata": {
        "id": "fPB9Yk66qHtz",
        "colab_type": "code",
        "colab": {
          "autoexec": {
            "startup": false,
            "wait_interval": 0
          }
        }
      },
      "cell_type": "code",
      "source": [
        "!uptime"
      ],
      "execution_count": 0,
      "outputs": []
    },
    {
      "metadata": {
        "id": "35beNZ9htRpj",
        "colab_type": "code",
        "colab": {
          "autoexec": {
            "startup": false,
            "wait_interval": 0
          }
        }
      },
      "cell_type": "code",
      "source": [
        "!/opt/bin/nvidia-smi"
      ],
      "execution_count": 0,
      "outputs": []
    },
    {
      "metadata": {
        "id": "pShMua6ztVj7",
        "colab_type": "code",
        "colab": {
          "autoexec": {
            "startup": false,
            "wait_interval": 0
          }
        }
      },
      "cell_type": "code",
      "source": [
        "import os\n",
        "import psutil\n",
        "\n",
        "def print_memsize():\n",
        "  process = psutil.Process(os.getpid())\n",
        "  print(f'{process.memory_info().rss / 1024**3:.5} GB')"
      ],
      "execution_count": 0,
      "outputs": []
    },
    {
      "metadata": {
        "id": "egKePv4zfk3M",
        "colab_type": "code",
        "colab": {
          "autoexec": {
            "startup": false,
            "wait_interval": 0
          }
        }
      },
      "cell_type": "code",
      "source": [
        "print_memsize()"
      ],
      "execution_count": 0,
      "outputs": []
    },
    {
      "metadata": {
        "id": "MPshctwRfmm9",
        "colab_type": "code",
        "colab": {
          "autoexec": {
            "startup": false,
            "wait_interval": 0
          }
        }
      },
      "cell_type": "code",
      "source": [
        ""
      ],
      "execution_count": 0,
      "outputs": []
    }
  ]
}