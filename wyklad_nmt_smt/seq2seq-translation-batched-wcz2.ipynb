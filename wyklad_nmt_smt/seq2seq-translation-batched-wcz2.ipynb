{
  "nbformat": 4,
  "nbformat_minor": 0,
  "metadata": {
    "colab": {
      "name": "seq2seq-translation-batched-wcz2.ipynb",
      "version": "0.3.2",
      "views": {},
      "default_view": {},
      "provenance": [
        {
          "file_id": "1LdwpSTwV_jrnw7vx0ponFH2q2vq2Nsug",
          "timestamp": 1524856859127
        }
      ],
      "collapsed_sections": [
        "yHtNHu50jM_O",
        "YpEnUGovjNAA",
        "8zBBVHQXjNAS"
      ],
      "toc_visible": true
    },
    "kernelspec": {
      "display_name": "Python 3",
      "language": "python",
      "name": "python3"
    },
    "accelerator": "GPU"
  },
  "cells": [
    {
      "metadata": {
        "id": "0pi0-vQzjM-a",
        "colab_type": "text"
      },
      "cell_type": "markdown",
      "source": [
        "![](https://i.imgur.com/eBRPvWB.png)\n",
        "\n",
        "# Practical PyTorch: Translation with a Sequence to Sequence Network and Attention\n",
        "\n",
        "In this project we will be teaching a neural network to translate from French to English.\n",
        "\n",
        "```\n",
        "[KEY: > input, = target, < output]\n",
        "\n",
        "> il est en train de peindre un tableau .\n",
        "= he is painting a picture .\n",
        "< he is painting a picture .\n",
        "\n",
        "> pourquoi ne pas essayer ce vin delicieux ?\n",
        "= why not try that delicious wine ?\n",
        "< why not try that delicious wine ?\n",
        "\n",
        "> elle n est pas poete mais romanciere .\n",
        "= she is not a poet but a novelist .\n",
        "< she not not a poet but a novelist .\n",
        "\n",
        "> vous etes trop maigre .\n",
        "= you re too skinny .\n",
        "< you re all alone .\n",
        "```\n",
        "\n",
        "... to varying degrees of success.\n",
        "\n",
        "This is made possible by the simple but powerful idea of the [sequence to sequence network](http://arxiv.org/abs/1409.3215), in which two recurrent neural networks work together to transform one sequence to another. An encoder network condenses an input sequence into a single vector, and a decoder network unfolds that vector into a new sequence.\n",
        "\n",
        "To improve upon this model we'll use an [attention mechanism](https://arxiv.org/abs/1409.0473), which lets the decoder learn to focus over a specific range of the input sequence."
      ]
    },
    {
      "metadata": {
        "id": "bO8jBTPCjM-b",
        "colab_type": "text"
      },
      "cell_type": "markdown",
      "source": [
        "# Sequence to Sequence Learning\n",
        "\n",
        "A [Sequence to Sequence network](http://arxiv.org/abs/1409.3215), or seq2seq network, or [Encoder Decoder network](https://arxiv.org/pdf/1406.1078v3.pdf), is a model consisting of two separate RNNs called the **encoder** and **decoder**. The encoder reads an input sequence one item at a time, and outputs a vector at each step. The final output of the encoder is kept as the **context** vector. The decoder uses this context vector to produce a sequence of outputs one step at a time.\n",
        "\n",
        "![](https://i.imgur.com/tVtHhNp.png)\n",
        "\n",
        "When using a single RNN, there is a one-to-one relationship between inputs and outputs. We would quickly run into problems with different sequence orders and lengths that are common during translation. Consider the simple sentence \"Je ne suis pas le chat noir\" &rarr; \"I am not the black cat\". Many of the words have a pretty direct translation, like \"chat\" &rarr; \"cat\". However the differing grammars cause words to be in different orders, e.g. \"chat noir\" and \"black cat\". There is also the \"ne ... pas\" &rarr; \"not\" construction that makes the two sentences have different lengths.\n",
        "\n",
        "With the seq2seq model, by encoding many inputs into one vector, and decoding from one vector into many outputs, we are freed from the constraints of sequence order and length. The encoded sequence is represented by a single vector, a single point in some N dimensional space of sequences. In an ideal case, this point can be considered the \"meaning\" of the sequence.\n",
        "\n",
        "This idea can be extended beyond sequences. Image captioning tasks take an [image as input, and output a description](https://arxiv.org/abs/1411.4555) of the image (img2seq). Some image generation tasks take a [description as input and output a generated image](https://arxiv.org/abs/1511.02793) (seq2img). These models can be referred to more generally as \"encoder decoder\" networks."
      ]
    },
    {
      "metadata": {
        "id": "FgcvjusvjM-c",
        "colab_type": "text"
      },
      "cell_type": "markdown",
      "source": [
        "## The Attention Mechanism\n",
        "\n",
        "The fixed-length vector carries the burden of encoding the the entire \"meaning\" of the input sequence, no matter how long that may be. With all the variance in language, this is a very hard problem. Imagine two nearly identical sentences, twenty words long, with only one word different. Both the encoders and decoders must be nuanced enough to represent that change as a very slightly different point in space.\n",
        "\n",
        "The **attention mechanism** [introduced by Bahdanau et al.](https://arxiv.org/abs/1409.0473) addresses this by giving the decoder a way to \"pay attention\" to parts of the input, rather than relying on a single vector. For every step the decoder can select a different part of the input sentence to consider.\n",
        "\n",
        "![](https://i.imgur.com/5y6SCvU.png)\n",
        "\n",
        "Attention is calculated using the current hidden state and each encoder output, resulting in a vector the same size as the input sequence, called the *attention weights*. These weights are multiplied by the encoder outputs to create a weighted sum of encoder outputs, which is called the *context* vector. The context vector and hidden state are used to predict the next output element.\n",
        "\n",
        "![](https://i.imgur.com/K1qMPxs.png)"
      ]
    },
    {
      "metadata": {
        "id": "DzYe2wPrjM-c",
        "colab_type": "text"
      },
      "cell_type": "markdown",
      "source": [
        "# Requirements\n",
        "\n",
        "You will need [PyTorch](http://pytorch.org/) to build and train the models, and [matplotlib](https://matplotlib.org/) for plotting training and visualizing attention outputs later. The rest are builtin Python libraries."
      ]
    },
    {
      "metadata": {
        "id": "HapeGWyXjM-e",
        "colab_type": "code",
        "colab": {
          "autoexec": {
            "startup": false,
            "wait_interval": 0
          }
        }
      },
      "cell_type": "code",
      "source": [
        "import unicodedata\n",
        "import string\n",
        "import re\n",
        "import random\n",
        "import time\n",
        "import datetime\n",
        "import math\n",
        "import socket\n",
        "hostname = socket.gethostname()\n",
        "\n",
        "import torch\n",
        "import torch.nn as nn\n",
        "from torch.autograd import Variable\n",
        "from torch import optim\n",
        "import torch.nn.functional as F\n",
        "from torch.nn.utils.rnn import pad_packed_sequence, pack_padded_sequence#, masked_cross_entropy\n",
        "from masked_cross_entropy import *\n",
        "\n",
        "import matplotlib.pyplot as plt\n",
        "import matplotlib.ticker as ticker\n",
        "import matplotlib as mpl\n",
        "import numpy as np\n",
        "# %matplotlib inline"
      ],
      "execution_count": 0,
      "outputs": []
    },
    {
      "metadata": {
        "id": "Qk60_vl_jM-h",
        "colab_type": "text"
      },
      "cell_type": "markdown",
      "source": [
        "Here we will also define a constant to decide whether to use the GPU (with CUDA specifically) or the CPU. **If you don't have a GPU, set this to `False`**. Later when we create tensors, this variable will be used to decide whether we keep them on CPU or move them to GPU."
      ]
    },
    {
      "metadata": {
        "id": "TXlXt0dGjM-h",
        "colab_type": "code",
        "colab": {
          "autoexec": {
            "startup": false,
            "wait_interval": 0
          }
        }
      },
      "cell_type": "code",
      "source": [
        "USE_CUDA = True"
      ],
      "execution_count": 0,
      "outputs": []
    },
    {
      "metadata": {
        "id": "FCNzsA7ujM-k",
        "colab_type": "text"
      },
      "cell_type": "markdown",
      "source": [
        "## Loading data files\n",
        "\n",
        "The data for this project is a set of many thousands of English to French translation pairs.\n",
        "\n",
        "[This question on Open Data Stack Exchange](http://opendata.stackexchange.com/questions/3888/dataset-of-sentences-translated-into-many-languages) pointed me to the open translation site http://tatoeba.org/ which has downloads available at http://tatoeba.org/eng/downloads - and better yet, someone did the extra work of splitting language pairs into individual text files here: http://www.manythings.org/anki/\n",
        "\n",
        "The English to French pairs are too big to include in the repo, so download `fra-eng.zip`, extract the text file in there, and rename it to `data/eng-fra.txt` before continuing (for some reason the zipfile is named backwards). The file is a tab separated list of translation pairs:\n",
        "\n",
        "```\n",
        "I am cold.    Je suis froid.\n",
        "```"
      ]
    },
    {
      "metadata": {
        "id": "DJoHRQsMjM-k",
        "colab_type": "text"
      },
      "cell_type": "markdown",
      "source": [
        "Similar to the character encoding used in the character-level RNN tutorials, we will be representing each word in a language as a one-hot vector, or giant vector of zeros except for a single one (at the index of the word). Compared to the dozens of characters that might exist in a language, there are many many more words, so the encoding vector is much larger. We will however cheat a bit and trim the data to only use a few thousand words per language."
      ]
    },
    {
      "metadata": {
        "id": "eVdtUNzxjM-l",
        "colab_type": "text"
      },
      "cell_type": "markdown",
      "source": [
        "### Indexing words\n",
        "\n",
        "We'll need a unique index per word to use as the inputs and targets of the networks later. To keep track of all this we will use a helper class called `Lang` which has word &rarr; index (`word2index`) and index &rarr; word (`index2word`) dictionaries, as well as a count of each word (`word2count`). This class includes a function `trim(min_count)` to remove rare words once they are all counted."
      ]
    },
    {
      "metadata": {
        "id": "38CWcoJijM-m",
        "colab_type": "code",
        "colab": {
          "autoexec": {
            "startup": false,
            "wait_interval": 0
          }
        }
      },
      "cell_type": "code",
      "source": [
        "PAD_token = 0\n",
        "SOS_token = 1\n",
        "EOS_token = 2\n",
        "\n",
        "class Lang:\n",
        "    def __init__(self, name):\n",
        "        self.name = name\n",
        "        self.trimmed = False\n",
        "        self.word2index = {}\n",
        "        self.word2count = {}\n",
        "        self.index2word = {0: \"PAD\", 1: \"SOS\", 2: \"EOS\"}\n",
        "        self.n_words = 3 # Count default tokens\n",
        "\n",
        "    def index_words(self, sentence):\n",
        "        for word in sentence.split(' '):\n",
        "            self.index_word(word)\n",
        "\n",
        "    def index_word(self, word):\n",
        "        if word not in self.word2index:\n",
        "            self.word2index[word] = self.n_words\n",
        "            self.word2count[word] = 1\n",
        "            self.index2word[self.n_words] = word\n",
        "            self.n_words += 1\n",
        "        else:\n",
        "            self.word2count[word] += 1\n",
        "\n",
        "    # Remove words below a certain count threshold\n",
        "    def trim(self, min_count):\n",
        "        if self.trimmed: return\n",
        "        self.trimmed = True\n",
        "        \n",
        "        keep_words = []\n",
        "        \n",
        "        for k, v in self.word2count.items():\n",
        "            if v >= min_count:\n",
        "                keep_words.append(k)\n",
        "\n",
        "        print('keep_words %s / %s = %.4f' % (\n",
        "            len(keep_words), len(self.word2index), len(keep_words) / len(self.word2index)\n",
        "        ))\n",
        "\n",
        "        # Reinitialize dictionaries\n",
        "        self.word2index = {}\n",
        "        self.word2count = {}\n",
        "        self.index2word = {0: \"PAD\", 1: \"SOS\", 2: \"EOS\"}\n",
        "        self.n_words = 3 # Count default tokens\n",
        "\n",
        "        for word in keep_words:\n",
        "            self.index_word(word)"
      ],
      "execution_count": 0,
      "outputs": []
    },
    {
      "metadata": {
        "id": "MrjDYa90jM-o",
        "colab_type": "text"
      },
      "cell_type": "markdown",
      "source": [
        "### Reading and decoding files\n",
        "\n",
        "The files are all in Unicode, to simplify we will turn Unicode characters to ASCII, make everything lowercase, and trim most punctuation."
      ]
    },
    {
      "metadata": {
        "id": "y-uANRyqjM-p",
        "colab_type": "code",
        "colab": {
          "autoexec": {
            "startup": false,
            "wait_interval": 0
          },
          "base_uri": "https://localhost:8080/",
          "height": 34
        },
        "outputId": "19446dbe-5784-4be1-bd05-da26a8fd3ee7",
        "executionInfo": {
          "elapsed": 545,
          "status": "ok",
          "timestamp": 1525502787168,
          "user": {
            "displayName": "Wojtek Czarnowski",
            "photoUrl": "//lh6.googleusercontent.com/-Sx8k456RbyI/AAAAAAAAAAI/AAAAAAAAEig/wmURGqbv_J8/s50-c-k-no/photo.jpg",
            "userId": "115130698336476923651"
          },
          "user_tz": -120
        }
      },
      "cell_type": "code",
      "source": [
        "# Turn a Unicode string to plain ASCII, thanks to http://stackoverflow.com/a/518232/2809427\n",
        "# def unicode_to_ascii(s):\n",
        "#     return ''.join(\n",
        "#         c for c in unicodedata.normalize('NFD', s)\n",
        "#         if unicodedata.category(c) != 'Mn'\n",
        "#     )\n",
        "\n",
        "# Lowercase, trim, and remove non-letter characters\n",
        "def normalize_string(s):\n",
        "#     s = unicode_to_ascii(s.lower().strip())\n",
        "    s = s.lower().strip()\n",
        "    s = re.sub(r\"([,.!?])\", r\" \\1 \", s)\n",
        "#     s = re.sub(r\"[^a-zA-Z,.!?]+\", r\" \", s)\n",
        "    s = re.sub(r\"\\s+\", r\" \", s).strip()\n",
        "    return s\n",
        "  \n",
        "normalize_string('ala ma kota ąćęłńóśźż ĄĆĘŁŃÓŚŹŻ')"
      ],
      "execution_count": 0,
      "outputs": [
        {
          "output_type": "execute_result",
          "data": {
            "text/plain": [
              "'ala ma kota ąćęłńóśźż ąćęłńóśźż'"
            ]
          },
          "metadata": {
            "tags": []
          },
          "execution_count": 4
        }
      ]
    },
    {
      "metadata": {
        "id": "L3_B-7AgjM-r",
        "colab_type": "text"
      },
      "cell_type": "markdown",
      "source": [
        "To read the data file we will split the file into lines, and then split lines into pairs. The files are all English &rarr; Other Language, so if we want to translate from Other Language &rarr; English I added the `reverse` flag to reverse the pairs."
      ]
    },
    {
      "metadata": {
        "id": "Be5PbEG6jM-r",
        "colab_type": "code",
        "colab": {
          "autoexec": {
            "startup": false,
            "wait_interval": 0
          }
        }
      },
      "cell_type": "code",
      "source": [
        "def read_langs(lang1, lang2, reverse=False):\n",
        "    print(\"Reading lines...\")\n",
        "\n",
        "    # Read the file and split into lines\n",
        "#     filename = '../data/%s-%s.txt' % (lang1, lang2)\n",
        "    filename = 'data/seq2seq/%s-%s.txt' % (lang1, lang2)\n",
        "    lines = open(filename).read().strip().split('\\n')\n",
        "\n",
        "    # Split every line into pairs and normalize\n",
        "    pairs = [[normalize_string(s) for s in l.split('\\t')] for l in lines]\n",
        "\n",
        "    # Reverse pairs, make Lang instances\n",
        "    if reverse:\n",
        "        pairs = [list(reversed(p)) for p in pairs]\n",
        "        input_lang = Lang(lang2)\n",
        "        output_lang = Lang(lang1)\n",
        "    else:\n",
        "        input_lang = Lang(lang1)\n",
        "        output_lang = Lang(lang2)\n",
        "\n",
        "    return input_lang, output_lang, pairs"
      ],
      "execution_count": 0,
      "outputs": []
    },
    {
      "metadata": {
        "id": "gbR0LICajM-u",
        "colab_type": "code",
        "colab": {
          "autoexec": {
            "startup": false,
            "wait_interval": 0
          }
        }
      },
      "cell_type": "code",
      "source": [
        "MIN_LENGTH = 3\n",
        "MAX_LENGTH = 25\n",
        "\n",
        "def filter_pairs(pairs):\n",
        "    filtered_pairs = []\n",
        "    for pair in pairs:\n",
        "        if len(pair[0]) >= MIN_LENGTH and len(pair[0]) <= MAX_LENGTH \\\n",
        "            and len(pair[1]) >= MIN_LENGTH and len(pair[1]) <= MAX_LENGTH:\n",
        "                filtered_pairs.append(pair)\n",
        "    return filtered_pairs"
      ],
      "execution_count": 0,
      "outputs": []
    },
    {
      "metadata": {
        "id": "3d4PanL1jM-x",
        "colab_type": "text"
      },
      "cell_type": "markdown",
      "source": [
        "The full process for preparing the data is:\n",
        "\n",
        "* Read text file and split into lines\n",
        "* Split lines into pairs and normalize\n",
        "* Filter to pairs of a certain length\n",
        "* Make word lists from sentences in pairs"
      ]
    },
    {
      "metadata": {
        "id": "gMHfcrOhjM-x",
        "colab_type": "code",
        "colab": {
          "autoexec": {
            "startup": false,
            "wait_interval": 0
          },
          "base_uri": "https://localhost:8080/",
          "height": 102
        },
        "outputId": "8de66f0d-39f9-41ef-e27d-1710065a7930",
        "executionInfo": {
          "elapsed": 1418,
          "status": "ok",
          "timestamp": 1525502793273,
          "user": {
            "displayName": "Wojtek Czarnowski",
            "photoUrl": "//lh6.googleusercontent.com/-Sx8k456RbyI/AAAAAAAAAAI/AAAAAAAAEig/wmURGqbv_J8/s50-c-k-no/photo.jpg",
            "userId": "115130698336476923651"
          },
          "user_tz": -120
        }
      },
      "cell_type": "code",
      "source": [
        "def prepare_data(lang1_name, lang2_name, reverse=False):\n",
        "    input_lang, output_lang, pairs = read_langs(lang1_name, lang2_name, reverse)\n",
        "    print(\"Read %d sentence pairs\" % len(pairs))\n",
        "    \n",
        "    pairs = filter_pairs(pairs)\n",
        "    print(\"Filtered to %d pairs\" % len(pairs))\n",
        "    \n",
        "    print(\"Indexing words...\")\n",
        "    for pair in pairs:\n",
        "        input_lang.index_words(pair[0])\n",
        "        output_lang.index_words(pair[1])\n",
        "    \n",
        "    print('Indexed %d words in input language, %d words in output' % (input_lang.n_words, output_lang.n_words))\n",
        "    return input_lang, output_lang, pairs\n",
        "\n",
        "input_lang, output_lang, pairs = prepare_data('eng', 'pol', False)"
      ],
      "execution_count": 0,
      "outputs": [
        {
          "output_type": "stream",
          "text": [
            "Reading lines...\n",
            "Read 36856 sentence pairs\n",
            "Filtered to 10021 pairs\n",
            "Indexing words...\n",
            "Indexed 3246 words in input language, 6104 words in output\n"
          ],
          "name": "stdout"
        }
      ]
    },
    {
      "metadata": {
        "id": "BjKDGSYHjM-2",
        "colab_type": "text"
      },
      "cell_type": "markdown",
      "source": [
        "### Filtering vocabularies\n",
        "\n",
        "To get something that trains in under an hour, we'll trim the data set a bit. First we will use the `trim` function on each language (defined above) to only include words that are repeated a certain amount of times through the dataset (this softens the difficulty of learning a correct translation for words that don't appear often)."
      ]
    },
    {
      "metadata": {
        "id": "L8uPxAvUjM-2",
        "colab_type": "code",
        "colab": {
          "autoexec": {
            "startup": false,
            "wait_interval": 0
          },
          "base_uri": "https://localhost:8080/",
          "height": 51
        },
        "outputId": "b913a7eb-8925-4584-b591-b12742c226bc",
        "executionInfo": {
          "elapsed": 625,
          "status": "ok",
          "timestamp": 1525502796852,
          "user": {
            "displayName": "Wojtek Czarnowski",
            "photoUrl": "//lh6.googleusercontent.com/-Sx8k456RbyI/AAAAAAAAAAI/AAAAAAAAEig/wmURGqbv_J8/s50-c-k-no/photo.jpg",
            "userId": "115130698336476923651"
          },
          "user_tz": -120
        }
      },
      "cell_type": "code",
      "source": [
        "MIN_COUNT = 3  # 5\n",
        "\n",
        "input_lang.trim(MIN_COUNT)\n",
        "output_lang.trim(MIN_COUNT)"
      ],
      "execution_count": 0,
      "outputs": [
        {
          "output_type": "stream",
          "text": [
            "keep_words 1278 / 3243 = 0.3941\n",
            "keep_words 1532 / 6101 = 0.2511\n"
          ],
          "name": "stdout"
        }
      ]
    },
    {
      "metadata": {
        "id": "_batj5qjjM-5",
        "colab_type": "text"
      },
      "cell_type": "markdown",
      "source": [
        "### Filtering pairs\n",
        "\n",
        "Now we will go back to the set of all sentence pairs and remove those with unknown words."
      ]
    },
    {
      "metadata": {
        "id": "3Ht7UIxjjM-6",
        "colab_type": "code",
        "colab": {
          "autoexec": {
            "startup": false,
            "wait_interval": 0
          },
          "base_uri": "https://localhost:8080/",
          "height": 34
        },
        "outputId": "c181eb37-0389-4135-a2b3-93b10980ef3d",
        "executionInfo": {
          "elapsed": 550,
          "status": "ok",
          "timestamp": 1525502799932,
          "user": {
            "displayName": "Wojtek Czarnowski",
            "photoUrl": "//lh6.googleusercontent.com/-Sx8k456RbyI/AAAAAAAAAAI/AAAAAAAAEig/wmURGqbv_J8/s50-c-k-no/photo.jpg",
            "userId": "115130698336476923651"
          },
          "user_tz": -120
        }
      },
      "cell_type": "code",
      "source": [
        "keep_pairs = []\n",
        "\n",
        "for pair in pairs:\n",
        "    input_sentence = pair[0]\n",
        "    output_sentence = pair[1]\n",
        "    keep_input = True\n",
        "    keep_output = True\n",
        "    \n",
        "    for word in input_sentence.split(' '):\n",
        "        if word not in input_lang.word2index:\n",
        "            keep_input = False\n",
        "            break\n",
        "\n",
        "    for word in output_sentence.split(' '):\n",
        "        if word not in output_lang.word2index:\n",
        "            keep_output = False\n",
        "            break\n",
        "\n",
        "    # Remove if pair doesn't match input and output conditions\n",
        "    if keep_input and keep_output:\n",
        "        keep_pairs.append(pair)\n",
        "\n",
        "print(\"Trimmed from %d pairs to %d, %.4f of total\" % (len(pairs), len(keep_pairs), len(keep_pairs) / len(pairs)))\n",
        "pairs = keep_pairs"
      ],
      "execution_count": 0,
      "outputs": [
        {
          "output_type": "stream",
          "text": [
            "Trimmed from 10021 pairs to 4830, 0.4820 of total\n"
          ],
          "name": "stdout"
        }
      ]
    },
    {
      "metadata": {
        "id": "KBXR6h89jM-9",
        "colab_type": "text"
      },
      "cell_type": "markdown",
      "source": [
        "## Turning training data into Tensors\n",
        "\n",
        "To train we need to turn the sentences into something the neural network can understand, which of course means numbers. Each sentence will be split into words and turned into a `LongTensor` which represents the index (from the Lang indexes made earlier) of each word. While creating these tensors we will also append the EOS token to signal that the sentence is over.\n",
        "\n",
        "![](https://i.imgur.com/LzocpGH.png)"
      ]
    },
    {
      "metadata": {
        "id": "wtOXR7IkjM--",
        "colab_type": "code",
        "colab": {
          "autoexec": {
            "startup": false,
            "wait_interval": 0
          }
        }
      },
      "cell_type": "code",
      "source": [
        "# Return a list of indexes, one for each word in the sentence, plus EOS\n",
        "def indexes_from_sentence(lang, sentence):\n",
        "    return [lang.word2index[word] for word in sentence.split(' ')] + [EOS_token]"
      ],
      "execution_count": 0,
      "outputs": []
    },
    {
      "metadata": {
        "id": "d4cwKAbhjM_D",
        "colab_type": "text"
      },
      "cell_type": "markdown",
      "source": [
        "We can make better use of the GPU by training on batches of many sequences at once, but doing so brings up the question of how to deal with sequences of varying lengths. The simple solution is to \"pad\" the shorter sentences with some padding symbol (in this case `0`), and ignore these padded spots when calculating the loss.\n",
        "\n",
        "![](https://i.imgur.com/gGlkEEF.png)"
      ]
    },
    {
      "metadata": {
        "id": "X_n5XY_wjM_D",
        "colab_type": "code",
        "colab": {
          "autoexec": {
            "startup": false,
            "wait_interval": 0
          }
        }
      },
      "cell_type": "code",
      "source": [
        "# Pad a with the PAD symbol\n",
        "def pad_seq(seq, max_length):\n",
        "    seq += [PAD_token for i in range(max_length - len(seq))]\n",
        "    return seq"
      ],
      "execution_count": 0,
      "outputs": []
    },
    {
      "metadata": {
        "id": "hjbE-NkajM_F",
        "colab_type": "text"
      },
      "cell_type": "markdown",
      "source": [
        "To create a Variable for a full batch of inputs (and targets) we get a random sample of sequences and pad them all to the length of the longest sequence. We'll keep track of the lengths of each batch in order to un-pad later.\n",
        "\n",
        "Initializing a `LongTensor` with an array (batches) of arrays (sequences) gives us a `(batch_size x max_len)` tensor - selecting the first dimension gives you a single batch, which is a full sequence. When training the model we'll want a single time step at once, so we'll transpose to `(max_len x batch_size)`. Now selecting along the first dimension returns a single time step across batches.\n",
        "\n",
        "![](https://i.imgur.com/nBxTG3v.png)"
      ]
    },
    {
      "metadata": {
        "id": "QV-eXwgPjM_G",
        "colab_type": "code",
        "colab": {
          "autoexec": {
            "startup": false,
            "wait_interval": 0
          }
        }
      },
      "cell_type": "code",
      "source": [
        "def random_batch(batch_size):\n",
        "    input_seqs = []\n",
        "    target_seqs = []\n",
        "\n",
        "    # Choose random pairs\n",
        "    for i in range(batch_size):\n",
        "        pair = random.choice(pairs)\n",
        "        input_seqs.append(indexes_from_sentence(input_lang, pair[0]))\n",
        "        target_seqs.append(indexes_from_sentence(output_lang, pair[1]))\n",
        "\n",
        "    # Zip into pairs, sort by length (descending), unzip\n",
        "    seq_pairs = sorted(zip(input_seqs, target_seqs), key=lambda p: len(p[0]), reverse=True)\n",
        "    input_seqs, target_seqs = zip(*seq_pairs)\n",
        "    \n",
        "    # For input and target sequences, get array of lengths and pad with 0s to max length\n",
        "    input_lengths = [len(s) for s in input_seqs]\n",
        "    input_padded = [pad_seq(s, max(input_lengths)) for s in input_seqs]\n",
        "    target_lengths = [len(s) for s in target_seqs]\n",
        "    target_padded = [pad_seq(s, max(target_lengths)) for s in target_seqs]\n",
        "\n",
        "    # Turn padded arrays into (batch_size x max_len) tensors, transpose into (max_len x batch_size)\n",
        "    input_var = Variable(torch.LongTensor(input_padded)).transpose(0, 1)\n",
        "    target_var = Variable(torch.LongTensor(target_padded)).transpose(0, 1)\n",
        "    \n",
        "    if USE_CUDA:\n",
        "        input_var = input_var.cuda()\n",
        "        target_var = target_var.cuda()\n",
        "        \n",
        "    return input_var, input_lengths, target_var, target_lengths"
      ],
      "execution_count": 0,
      "outputs": []
    },
    {
      "metadata": {
        "id": "4mFgcJcnjM_I",
        "colab_type": "text"
      },
      "cell_type": "markdown",
      "source": [
        "We can test this to see that it will return a `(max_len x batch_size)` tensor for input and target sentences, along with a corresponding list of batch lenghts for each (which we will use for masking later)."
      ]
    },
    {
      "metadata": {
        "id": "SRQMhAnnjM_J",
        "colab_type": "code",
        "colab": {
          "autoexec": {
            "startup": false,
            "wait_interval": 0
          },
          "base_uri": "https://localhost:8080/",
          "height": 170
        },
        "outputId": "3ad882e0-782e-444e-c882-8bbe08dcd55d",
        "executionInfo": {
          "elapsed": 5108,
          "status": "ok",
          "timestamp": 1525502824826,
          "user": {
            "displayName": "Wojtek Czarnowski",
            "photoUrl": "//lh6.googleusercontent.com/-Sx8k456RbyI/AAAAAAAAAAI/AAAAAAAAEig/wmURGqbv_J8/s50-c-k-no/photo.jpg",
            "userId": "115130698336476923651"
          },
          "user_tz": -120
        }
      },
      "cell_type": "code",
      "source": [
        "random_batch(2)"
      ],
      "execution_count": 0,
      "outputs": [
        {
          "output_type": "execute_result",
          "data": {
            "text/plain": [
              "(tensor([[ 458,  266],\n",
              "         [   4,   82],\n",
              "         [ 241,   80],\n",
              "         [ 387,    8],\n",
              "         [  45,    2],\n",
              "         [   4,    0],\n",
              "         [   2,    0]], device='cuda:0'), [7, 5], tensor([[ 1345,   469],\n",
              "         [    6,    12],\n",
              "         [   51,   354],\n",
              "         [   19,     8],\n",
              "         [ 1022,     2],\n",
              "         [    4,     0],\n",
              "         [    2,     0]], device='cuda:0'), [7, 5])"
            ]
          },
          "metadata": {
            "tags": []
          },
          "execution_count": 13
        }
      ]
    },
    {
      "metadata": {
        "id": "YKx3SlwgjM_K",
        "colab_type": "text"
      },
      "cell_type": "markdown",
      "source": [
        "# Building the models"
      ]
    },
    {
      "metadata": {
        "id": "LFIBysF3jM_L",
        "colab_type": "text"
      },
      "cell_type": "markdown",
      "source": [
        "## The Encoder\n",
        "\n",
        "<img src=\"https://github.com/spro/practical-pytorch/blob/master/seq2seq-translation/images/encoder-network.png?raw=true\" style=\"float: right\" />\n",
        "\n",
        "The encoder will take a batch of word sequences, a `LongTensor` of size `(max_len x batch_size)`, and output an encoding for each word, a `FloatTensor` of size `(max_len x batch_size x hidden_size)`.\n",
        "\n",
        "The word inputs are fed through an [embedding layer `nn.Embedding`](http://pytorch.org/docs/nn.html#embedding) to create an embedding for each word, with size `seq_len x hidden_size` (as if it was a batch of words). This is resized to `seq_len x 1 x hidden_size` to fit the expected input of the [GRU layer `nn.GRU`](http://pytorch.org/docs/nn.html#gru). The GRU will return both an output sequence of size `seq_len x hidden_size`."
      ]
    },
    {
      "metadata": {
        "id": "CWtfwbnwjM_M",
        "colab_type": "code",
        "colab": {
          "autoexec": {
            "startup": false,
            "wait_interval": 0
          }
        }
      },
      "cell_type": "code",
      "source": [
        "class EncoderRNN(nn.Module):\n",
        "    def __init__(self, input_size, hidden_size, n_layers=1, dropout=0.1):\n",
        "        super(EncoderRNN, self).__init__()\n",
        "        \n",
        "        self.input_size = input_size\n",
        "        self.hidden_size = hidden_size\n",
        "        self.n_layers = n_layers\n",
        "        self.dropout = dropout\n",
        "        \n",
        "        self.embedding = nn.Embedding(input_size, hidden_size)\n",
        "        self.gru = nn.GRU(hidden_size, hidden_size, n_layers, dropout=self.dropout, bidirectional=True)\n",
        "        \n",
        "    def forward(self, input_seqs, input_lengths, hidden=None):\n",
        "        # Note: we run this all at once (over multiple batches of multiple sequences)\n",
        "        embedded = self.embedding(input_seqs)\n",
        "        packed = torch.nn.utils.rnn.pack_padded_sequence(embedded, input_lengths)\n",
        "        outputs, hidden = self.gru(packed, hidden)\n",
        "        outputs, output_lengths = torch.nn.utils.rnn.pad_packed_sequence(outputs) # unpack (back to padded)\n",
        "        outputs = outputs[:, :, :self.hidden_size] + outputs[:, : ,self.hidden_size:] # Sum bidirectional outputs\n",
        "        return outputs, hidden"
      ],
      "execution_count": 0,
      "outputs": []
    },
    {
      "metadata": {
        "id": "BLWVsv1VjM_O",
        "colab_type": "text"
      },
      "cell_type": "markdown",
      "source": [
        "## Attention Decoder"
      ]
    },
    {
      "metadata": {
        "id": "yHtNHu50jM_O",
        "colab_type": "text"
      },
      "cell_type": "markdown",
      "source": [
        "### Interpreting the Bahdanau et al. model\n",
        "\n",
        "[Neural Machine Translation by Jointly Learning to Align and Translate](https://arxiv.org/abs/1409.0473) (Dzmitry Bahdanau, Kyunghyun Cho, Yoshua Bengio) introduced the idea of using attention for seq2seq translation.\n",
        "\n",
        "Each decoder output is conditioned on the previous outputs and some $\\mathbf x$, where $\\mathbf x$ consists of the current hidden state (which takes into account previous outputs) and the attention \"context\", which is calculated below. The function $g$ is a fully-connected layer with a nonlinear activation, which takes as input the values $y_{i-1}$, $s_i$, and $c_i$ concatenated.\n",
        "\n",
        "$$\n",
        "p(y_i \\mid \\{y_1,...,y_{i-1}\\},\\mathbf{x}) = g(y_{i-1}, s_i, c_i)\n",
        "$$\n",
        "\n",
        "The current hidden state $s_i$ is calculated by an RNN $f$ with the last hidden state $s_{i-1}$, last decoder output value $y_{i-1}$, and context vector $c_i$.\n",
        "\n",
        "In the code, the RNN will be a `nn.GRU` layer, the hidden state $s_i$ will be called `hidden`, the output $y_i$ called `output`, and context $c_i$ called `context`.\n",
        "\n",
        "$$\n",
        "s_i = f(s_{i-1}, y_{i-1}, c_i)\n",
        "$$\n",
        "\n",
        "The context vector $c_i$ is a weighted sum of all encoder outputs, where each weight $a_{ij}$ is the amount of \"attention\" paid to the corresponding encoder output $h_j$.\n",
        "\n",
        "$$\n",
        "c_i = \\sum_{j=1}^{T_x} a_{ij} h_j\n",
        "$$\n",
        "\n",
        "... where each weight $a_{ij}$ is a normalized (over all steps) attention \"energy\" $e_{ij}$ ...\n",
        "\n",
        "$$\n",
        "a_{ij} = \\dfrac{exp(e_{ij})}{\\sum_{k=1}^{T} exp(e_{ik})}\n",
        "$$\n",
        "\n",
        "... where each attention energy is calculated with some function $a$ (such as another linear layer) using the last hidden state $s_{i-1}$ and that particular encoder output $h_j$:\n",
        "\n",
        "$$\n",
        "e_{ij} = a(s_{i-1}, h_j)\n",
        "$$"
      ]
    },
    {
      "metadata": {
        "id": "tVGfY39sjM_O",
        "colab_type": "text"
      },
      "cell_type": "markdown",
      "source": [
        "### Interpreting the Luong et al. models"
      ]
    },
    {
      "metadata": {
        "id": "079wjeknjM_P",
        "colab_type": "text"
      },
      "cell_type": "markdown",
      "source": [
        "[Effective Approaches to Attention-based Neural Machine Translation](https://arxiv.org/abs/1508.04025) (Minh-Thang Luong, Hieu Pham, Christopher D. Manning) describe a few more attention models that offer improvements and simplifications. They describe a few \"global attention\" models, the distinction between them being the way the attention scores are calculated.\n",
        "\n",
        "The general form of the attention calculation relies on the target (decoder) side hidden state and corresponding source (encoder) side state, normalized over all states to get values summing to 1:\n",
        "\n",
        "$$\n",
        "a_t(s) = align(h_t, \\bar h_s)  = \\dfrac{exp(score(h_t, \\bar h_s))}{\\sum_{s'} exp(score(h_t, \\bar h_{s'}))}\n",
        "$$\n",
        "\n",
        "The specific \"score\" function that compares two states is either *dot*, a simple dot product between the states; *general*, a a dot product between the decoder hidden state and a linear transform of the encoder state; or *concat*, a dot product between a new parameter $v_a$ and a linear transform of the states concatenated together.\n",
        "\n",
        "$$\n",
        "score(h_t, \\bar h_s) =\n",
        "\\begin{cases}\n",
        "h_t ^\\top \\bar h_s & dot \\\\\n",
        "h_t ^\\top \\textbf{W}_a \\bar h_s & general \\\\\n",
        "v_a ^\\top \\textbf{W}_a [ h_t ; \\bar h_s ] & concat\n",
        "\\end{cases}\n",
        "$$\n",
        "\n",
        "The modular definition of these scoring functions gives us an opportunity to build specific attention module that can switch between the different score methods. The input to this module is always the hidden state (of the decoder RNN) and set of encoder outputs."
      ]
    },
    {
      "metadata": {
        "id": "8tvHPEhbjM_Q",
        "colab_type": "text"
      },
      "cell_type": "markdown",
      "source": [
        "### Implementing an attention module"
      ]
    },
    {
      "metadata": {
        "id": "tvQQ9_O6jM_Q",
        "colab_type": "code",
        "colab": {
          "autoexec": {
            "startup": false,
            "wait_interval": 0
          }
        }
      },
      "cell_type": "code",
      "source": [
        "class Attn(nn.Module):\n",
        "    def __init__(self, method, hidden_size):\n",
        "        super(Attn, self).__init__()\n",
        "        \n",
        "        self.method = method\n",
        "        self.hidden_size = hidden_size\n",
        "        \n",
        "        if self.method == 'general':\n",
        "            self.attn = nn.Linear(self.hidden_size, hidden_size)\n",
        "\n",
        "        elif self.method == 'concat':\n",
        "            self.attn = nn.Linear(self.hidden_size * 2, hidden_size)\n",
        "            self.v = nn.Parameter(torch.FloatTensor(1, hidden_size))\n",
        "\n",
        "    def forward(self, hidden, encoder_outputs):\n",
        "        max_len = encoder_outputs.size(0)\n",
        "        this_batch_size = encoder_outputs.size(1)\n",
        "\n",
        "        # Create variable to store attention energies\n",
        "        attn_energies = Variable(torch.zeros(this_batch_size, max_len)) # B x S\n",
        "\n",
        "        if USE_CUDA:\n",
        "            attn_energies = attn_energies.cuda()\n",
        "\n",
        "        # For each batch of encoder outputs\n",
        "        for b in range(this_batch_size):\n",
        "            # Calculate energy for each encoder output\n",
        "            for i in range(max_len):\n",
        "                attn_energies[b, i] = self.score(hidden[:, b], encoder_outputs[i, b].unsqueeze(0))\n",
        "\n",
        "        # Normalize energies to weights in range 0 to 1, resize to 1 x B x S\n",
        "        # return F.softmax(attn_energies).unsqueeze(1)\n",
        "        return F.softmax(attn_energies, dim=-1).unsqueeze(1)\n",
        "    \n",
        "#     def score(self, hidden, encoder_output):\n",
        "        \n",
        "#         if self.method == 'dot':\n",
        "#             energy = hidden.dot(encoder_output)\n",
        "#             return energy\n",
        "        \n",
        "#         elif self.method == 'general':\n",
        "#             energy = self.attn(encoder_output)\n",
        "#             energy = hidden.dot(energy)\n",
        "#             return energy\n",
        "        \n",
        "#         elif self.method == 'concat':\n",
        "#             energy = self.attn(torch.cat((hidden, encoder_output), 1))\n",
        "#             energy = self.v.dot(energy)\n",
        "#             return energy\n",
        "\n",
        "    def score(self, hidden, encoder_output):\n",
        "        if self.method == 'dot':\n",
        "            energy =torch.dot(hidden.view(-1), encoder_output.view(-1))\n",
        "        elif self.method == 'general':\n",
        "            energy = self.attn(encoder_output)\n",
        "            energy = torch.dot(hidden.view(-1), energy.view(-1))\n",
        "        elif self.method == 'concat':\n",
        "            energy = self.attn(torch.cat((hidden, encoder_output), 1))\n",
        "            energy = torch.dot(self.v.view(-1), energy.view(-1))\n",
        "        return energy"
      ],
      "execution_count": 0,
      "outputs": []
    },
    {
      "metadata": {
        "id": "CdQV7jCLjM_R",
        "colab_type": "text"
      },
      "cell_type": "markdown",
      "source": [
        "### Implementing the Bahdanau et al. model\n",
        "\n",
        "In summary our decoder should consist of four main parts - an embedding layer turning an input word into a vector; a layer to calculate the attention energy per encoder output; a RNN layer; and an output layer.\n",
        "\n",
        "The decoder's inputs are the last RNN hidden state $s_{i-1}$, last output $y_{i-1}$, and all encoder outputs $h_*$.\n",
        "\n",
        "* embedding layer with inputs $y_{i-1}$\n",
        "    * `embedded = embedding(last_rnn_output)`\n",
        "* attention layer $a$ with inputs $(s_{i-1}, h_j)$ and outputs $e_{ij}$, normalized to create $a_{ij}$\n",
        "    * `attn_energies[j] = attn_layer(last_hidden, encoder_outputs[j])`\n",
        "    * `attn_weights = normalize(attn_energies)`\n",
        "* context vector $c_i$ as an attention-weighted average of encoder outputs\n",
        "    * `context = sum(attn_weights * encoder_outputs)`\n",
        "* RNN layer(s) $f$ with inputs $(s_{i-1}, y_{i-1}, c_i)$ and internal hidden state, outputting $s_i$\n",
        "    * `rnn_input = concat(embedded, context)`\n",
        "    * `rnn_output, rnn_hidden = rnn(rnn_input, last_hidden)`\n",
        "* an output layer $g$ with inputs $(y_{i-1}, s_i, c_i)$, outputting $y_i$\n",
        "    * `output = out(embedded, rnn_output, context)`"
      ]
    },
    {
      "metadata": {
        "id": "Cq2AurVKjM_S",
        "colab_type": "code",
        "colab": {
          "autoexec": {
            "startup": false,
            "wait_interval": 0
          }
        }
      },
      "cell_type": "code",
      "source": [
        "class BahdanauAttnDecoderRNN(nn.Module):\n",
        "    def __init__(self, hidden_size, output_size, n_layers=1, dropout_p=0.1):\n",
        "        super(BahdanauAttnDecoderRNN, self).__init__()\n",
        "        \n",
        "        # Define parameters\n",
        "        self.hidden_size = hidden_size\n",
        "        self.output_size = output_size\n",
        "        self.n_layers = n_layers\n",
        "        self.dropout_p = dropout_p\n",
        "        self.max_length = max_length\n",
        "        \n",
        "        # Define layers\n",
        "        self.embedding = nn.Embedding(output_size, hidden_size)\n",
        "        self.dropout = nn.Dropout(dropout_p)\n",
        "        self.attn = Attn('concat', hidden_size)\n",
        "        self.gru = nn.GRU(hidden_size, hidden_size, n_layers, dropout=dropout_p)\n",
        "        self.out = nn.Linear(hidden_size, output_size)\n",
        "    \n",
        "    def forward(self, word_input, last_hidden, encoder_outputs):\n",
        "        # Note: we run this one step at a time\n",
        "        # TODO: FIX BATCHING\n",
        "        \n",
        "        # Get the embedding of the current input word (last output word)\n",
        "        word_embedded = self.embedding(word_input).view(1, 1, -1) # S=1 x B x N\n",
        "        word_embedded = self.dropout(word_embedded)\n",
        "        \n",
        "        # Calculate attention weights and apply to encoder outputs\n",
        "        attn_weights = self.attn(last_hidden[-1], encoder_outputs)\n",
        "        context = attn_weights.bmm(encoder_outputs.transpose(0, 1)) # B x 1 x N\n",
        "        context = context.transpose(0, 1) # 1 x B x N\n",
        "        \n",
        "        # Combine embedded input word and attended context, run through RNN\n",
        "        rnn_input = torch.cat((word_embedded, context), 2)\n",
        "        output, hidden = self.gru(rnn_input, last_hidden)\n",
        "        \n",
        "        # Final output layer\n",
        "        output = output.squeeze(0) # B x N\n",
        "        # output = F.log_softmax(self.out(torch.cat((output, context), 1)))\n",
        "        output = F.log_softmax(self.out(torch.cat((output, context), 1)), dim=-1)\n",
        "        \n",
        "        # Return final output, hidden state, and attention weights (for visualization)\n",
        "        return output, hidden, attn_weights"
      ],
      "execution_count": 0,
      "outputs": []
    },
    {
      "metadata": {
        "id": "qq9r0senjM_U",
        "colab_type": "text"
      },
      "cell_type": "markdown",
      "source": [
        "Now we can build a decoder that plugs this Attn module in after the RNN to calculate attention weights, and apply those weights to the encoder outputs to get a context vector."
      ]
    },
    {
      "metadata": {
        "id": "8WQ5ZymQjM_U",
        "colab_type": "code",
        "colab": {
          "autoexec": {
            "startup": false,
            "wait_interval": 0
          }
        }
      },
      "cell_type": "code",
      "source": [
        "class LuongAttnDecoderRNN(nn.Module):\n",
        "    def __init__(self, attn_model, hidden_size, output_size, n_layers=1, dropout=0.1):\n",
        "        super(LuongAttnDecoderRNN, self).__init__()\n",
        "\n",
        "        # Keep for reference\n",
        "        self.attn_model = attn_model\n",
        "        self.hidden_size = hidden_size\n",
        "        self.output_size = output_size\n",
        "        self.n_layers = n_layers\n",
        "        self.dropout = dropout\n",
        "\n",
        "        # Define layers\n",
        "        self.embedding = nn.Embedding(output_size, hidden_size)\n",
        "        self.embedding_dropout = nn.Dropout(dropout)\n",
        "        self.gru = nn.GRU(hidden_size, hidden_size, n_layers, dropout=dropout)\n",
        "        self.concat = nn.Linear(hidden_size * 2, hidden_size)\n",
        "        self.out = nn.Linear(hidden_size, output_size)\n",
        "        \n",
        "        # Choose attention model\n",
        "        if attn_model != 'none':\n",
        "            self.attn = Attn(attn_model, hidden_size)\n",
        "\n",
        "    def forward(self, input_seq, last_hidden, encoder_outputs):\n",
        "        # Note: we run this one step at a time\n",
        "\n",
        "        # Get the embedding of the current input word (last output word)\n",
        "        batch_size = input_seq.size(0)\n",
        "        embedded = self.embedding(input_seq)\n",
        "        embedded = self.embedding_dropout(embedded)\n",
        "        embedded = embedded.view(1, batch_size, self.hidden_size) # S=1 x B x N\n",
        "\n",
        "        # Get current hidden state from input word and last hidden state\n",
        "        rnn_output, hidden = self.gru(embedded, last_hidden)\n",
        "\n",
        "        # Calculate attention from current RNN state and all encoder outputs;\n",
        "        # apply to encoder outputs to get weighted average\n",
        "        attn_weights = self.attn(rnn_output, encoder_outputs)\n",
        "        context = attn_weights.bmm(encoder_outputs.transpose(0, 1)) # B x S=1 x N\n",
        "\n",
        "        # Attentional vector using the RNN hidden state and context vector\n",
        "        # concatenated together (Luong eq. 5)\n",
        "        rnn_output = rnn_output.squeeze(0) # S=1 x B x N -> B x N\n",
        "        context = context.squeeze(1)       # B x S=1 x N -> B x N\n",
        "        concat_input = torch.cat((rnn_output, context), 1)\n",
        "        concat_output = F.tanh(self.concat(concat_input))\n",
        "\n",
        "        # Finally predict next token (Luong eq. 6, without softmax)\n",
        "        output = self.out(concat_output)\n",
        "\n",
        "        # Return final output, hidden state, and attention weights (for visualization)\n",
        "        return output, hidden, attn_weights"
      ],
      "execution_count": 0,
      "outputs": []
    },
    {
      "metadata": {
        "id": "4GlQFiBXjM_W",
        "colab_type": "text"
      },
      "cell_type": "markdown",
      "source": [
        "## Testing the models\n",
        "\n",
        "To make sure the encoder and decoder modules are working (and working together) we'll do a full test with a small batch."
      ]
    },
    {
      "metadata": {
        "id": "1Jl3G8A3jM_W",
        "colab_type": "code",
        "colab": {
          "autoexec": {
            "startup": false,
            "wait_interval": 0
          },
          "base_uri": "https://localhost:8080/",
          "height": 51
        },
        "outputId": "5bb3b685-72f5-4b4e-f716-29c769f38973",
        "executionInfo": {
          "elapsed": 561,
          "status": "ok",
          "timestamp": 1525502851542,
          "user": {
            "displayName": "Wojtek Czarnowski",
            "photoUrl": "//lh6.googleusercontent.com/-Sx8k456RbyI/AAAAAAAAAAI/AAAAAAAAEig/wmURGqbv_J8/s50-c-k-no/photo.jpg",
            "userId": "115130698336476923651"
          },
          "user_tz": -120
        }
      },
      "cell_type": "code",
      "source": [
        "small_batch_size = 3\n",
        "input_batches, input_lengths, target_batches, target_lengths = random_batch(small_batch_size)\n",
        "\n",
        "print('input_batches', input_batches.size()) # (max_len x batch_size)\n",
        "print('target_batches', target_batches.size()) # (max_len x batch_size)"
      ],
      "execution_count": 0,
      "outputs": [
        {
          "output_type": "stream",
          "text": [
            "input_batches torch.Size([5, 3])\n",
            "target_batches torch.Size([6, 3])\n"
          ],
          "name": "stdout"
        }
      ]
    },
    {
      "metadata": {
        "id": "eFNjmpOZjM_Z",
        "colab_type": "text"
      },
      "cell_type": "markdown",
      "source": [
        "Create models with a small size (a good idea for eyeball inspection):"
      ]
    },
    {
      "metadata": {
        "id": "nS0S6358jM_c",
        "colab_type": "code",
        "colab": {
          "autoexec": {
            "startup": false,
            "wait_interval": 0
          }
        }
      },
      "cell_type": "code",
      "source": [
        "small_hidden_size = 8\n",
        "small_n_layers = 2\n",
        "\n",
        "encoder_test = EncoderRNN(input_lang.n_words, small_hidden_size, small_n_layers)\n",
        "decoder_test = LuongAttnDecoderRNN('general', small_hidden_size, output_lang.n_words, small_n_layers)\n",
        "\n",
        "if USE_CUDA:\n",
        "    encoder_test.cuda()\n",
        "    decoder_test.cuda()"
      ],
      "execution_count": 0,
      "outputs": []
    },
    {
      "metadata": {
        "id": "yJLRqxZQjM_g",
        "colab_type": "text"
      },
      "cell_type": "markdown",
      "source": [
        "To test the encoder, run the input batch through to get per-batch encoder outputs:"
      ]
    },
    {
      "metadata": {
        "id": "_biyc0SPjM_h",
        "colab_type": "code",
        "colab": {
          "autoexec": {
            "startup": false,
            "wait_interval": 0
          },
          "base_uri": "https://localhost:8080/",
          "height": 51
        },
        "outputId": "afb56fb8-0a11-4060-c3ca-1eab5468bffc",
        "executionInfo": {
          "elapsed": 532,
          "status": "ok",
          "timestamp": 1525502854557,
          "user": {
            "displayName": "Wojtek Czarnowski",
            "photoUrl": "//lh6.googleusercontent.com/-Sx8k456RbyI/AAAAAAAAAAI/AAAAAAAAEig/wmURGqbv_J8/s50-c-k-no/photo.jpg",
            "userId": "115130698336476923651"
          },
          "user_tz": -120
        }
      },
      "cell_type": "code",
      "source": [
        "encoder_outputs, encoder_hidden = encoder_test(input_batches, input_lengths, None)\n",
        "\n",
        "print('encoder_outputs', encoder_outputs.size()) # max_len x batch_size x hidden_size\n",
        "print('encoder_hidden', encoder_hidden.size()) # n_layers * 2 x batch_size x hidden_size"
      ],
      "execution_count": 0,
      "outputs": [
        {
          "output_type": "stream",
          "text": [
            "encoder_outputs torch.Size([5, 3, 8])\n",
            "encoder_hidden torch.Size([4, 3, 8])\n"
          ],
          "name": "stdout"
        }
      ]
    },
    {
      "metadata": {
        "id": "ambBXpSVjM_m",
        "colab_type": "text"
      },
      "cell_type": "markdown",
      "source": [
        "Then starting with a SOS token, run word tokens through the decoder to get each next word token. Instead of doing this with the whole sequence, it is done one at a time, to support using it's own predictions to make the next prediction. This will be one time step at a time, but batched per time step. In order to get this to work for short padded sequences, the batch size is going to get smaller each time."
      ]
    },
    {
      "metadata": {
        "id": "j6Vc_e9fjM_n",
        "colab_type": "code",
        "colab": {
          "autoexec": {
            "startup": false,
            "wait_interval": 0
          },
          "base_uri": "https://localhost:8080/",
          "height": 34
        },
        "outputId": "829d23f7-d861-473d-e608-b56bb2ef5f6b",
        "executionInfo": {
          "elapsed": 583,
          "status": "ok",
          "timestamp": 1525502856850,
          "user": {
            "displayName": "Wojtek Czarnowski",
            "photoUrl": "//lh6.googleusercontent.com/-Sx8k456RbyI/AAAAAAAAAAI/AAAAAAAAEig/wmURGqbv_J8/s50-c-k-no/photo.jpg",
            "userId": "115130698336476923651"
          },
          "user_tz": -120
        }
      },
      "cell_type": "code",
      "source": [
        "max_target_length = max(target_lengths)\n",
        "\n",
        "# Prepare decoder input and outputs\n",
        "decoder_input = Variable(torch.LongTensor([SOS_token] * small_batch_size))\n",
        "decoder_hidden = encoder_hidden[:decoder_test.n_layers] # Use last (forward) hidden state from encoder\n",
        "all_decoder_outputs = Variable(torch.zeros(max_target_length, small_batch_size, decoder_test.output_size))\n",
        "\n",
        "if USE_CUDA:\n",
        "    all_decoder_outputs = all_decoder_outputs.cuda()\n",
        "    decoder_input = decoder_input.cuda()\n",
        "\n",
        "# Run through decoder one time step at a time\n",
        "for t in range(max_target_length):\n",
        "    decoder_output, decoder_hidden, decoder_attn = decoder_test(\n",
        "        decoder_input, decoder_hidden, encoder_outputs\n",
        "    )\n",
        "    all_decoder_outputs[t] = decoder_output # Store this step's outputs\n",
        "    decoder_input = target_batches[t] # Next input is current target\n",
        "\n",
        "# Test masked cross entropy loss\n",
        "loss = masked_cross_entropy(\n",
        "    all_decoder_outputs.transpose(0, 1).contiguous(),\n",
        "    target_batches.transpose(0, 1).contiguous(),\n",
        "    target_lengths\n",
        ")\n",
        "# print('loss', loss.data[0])\n",
        "print('loss', loss.item())"
      ],
      "execution_count": 0,
      "outputs": [
        {
          "output_type": "stream",
          "text": [
            "loss 7.568764686584473\n"
          ],
          "name": "stdout"
        }
      ]
    },
    {
      "metadata": {
        "id": "dXDizgVajM_p",
        "colab_type": "text"
      },
      "cell_type": "markdown",
      "source": [
        "# Training\n",
        "\n",
        "## Defining a training iteration\n",
        "\n",
        "To train we first run the input sentence through the encoder word by word, and keep track of every output and the latest hidden state. Next the decoder is given the last hidden state of the decoder as its first hidden state, and the `<SOS>` token as its first input. From there we iterate to predict a next token from the decoder.\n",
        "\n",
        "### Teacher Forcing vs. Scheduled Sampling\n",
        "\n",
        "\"Teacher Forcing\", or maximum likelihood sampling, means using the real target outputs as each next input when training. The alternative is using the decoder's own guess as the next input. Using teacher forcing may cause the network to converge faster, but [when the trained network is exploited, it may exhibit instability](http://minds.jacobs-university.de/sites/default/files/uploads/papers/ESNTutorialRev.pdf).\n",
        "\n",
        "You can observe outputs of teacher-forced networks that read with coherent grammar but wander far from the correct translation - you could think of it as having learned how to listen to the teacher's instructions, without learning how to venture out on its own.\n",
        "\n",
        "The solution to the teacher-forcing \"problem\" is known as [Scheduled Sampling](https://arxiv.org/abs/1506.03099), which simply alternates between using the target values and predicted values when training. We will randomly choose to use teacher forcing with an if statement while training - sometimes we'll feed use real target as the input (ignoring the decoder's output), sometimes we'll use the decoder's output."
      ]
    },
    {
      "metadata": {
        "id": "LkxmrG0GjM_q",
        "colab_type": "code",
        "colab": {
          "autoexec": {
            "startup": false,
            "wait_interval": 0
          }
        }
      },
      "cell_type": "code",
      "source": [
        "def train(input_batches, input_lengths, target_batches, target_lengths, encoder, decoder, encoder_optimizer, decoder_optimizer, criterion, max_length=MAX_LENGTH):\n",
        "    \n",
        "    # Zero gradients of both optimizers\n",
        "    encoder_optimizer.zero_grad()\n",
        "    decoder_optimizer.zero_grad()\n",
        "    loss = 0 # Added onto for each word\n",
        "\n",
        "    # Run words through encoder\n",
        "    encoder_outputs, encoder_hidden = encoder(input_batches, input_lengths, None)\n",
        "    \n",
        "    # Prepare input and output variables\n",
        "    decoder_input = Variable(torch.LongTensor([SOS_token] * batch_size))\n",
        "    decoder_hidden = encoder_hidden[:decoder.n_layers] # Use last (forward) hidden state from encoder\n",
        "\n",
        "    max_target_length = max(target_lengths)\n",
        "    all_decoder_outputs = Variable(torch.zeros(max_target_length, batch_size, decoder.output_size))\n",
        "\n",
        "    # Move new Variables to CUDA\n",
        "    if USE_CUDA:\n",
        "        decoder_input = decoder_input.cuda()\n",
        "        all_decoder_outputs = all_decoder_outputs.cuda()\n",
        "\n",
        "    # Run through decoder one time step at a time\n",
        "    for t in range(max_target_length):\n",
        "        decoder_output, decoder_hidden, decoder_attn = decoder(\n",
        "            decoder_input, decoder_hidden, encoder_outputs\n",
        "        )\n",
        "\n",
        "        all_decoder_outputs[t] = decoder_output\n",
        "        decoder_input = target_batches[t] # Next input is current target\n",
        "\n",
        "    # Loss calculation and backpropagation\n",
        "    loss = masked_cross_entropy(\n",
        "        all_decoder_outputs.transpose(0, 1).contiguous(), # -> batch x seq\n",
        "        target_batches.transpose(0, 1).contiguous(), # -> batch x seq\n",
        "        target_lengths\n",
        "    )\n",
        "    loss.backward()\n",
        "    \n",
        "    # Clip gradient norms\n",
        "#     ec = torch.nn.utils.clip_grad_norm(encoder.parameters(), clip)\n",
        "#     dc = torch.nn.utils.clip_grad_norm(decoder.parameters(), clip)\n",
        "    ec = torch.nn.utils.clip_grad_norm_(encoder.parameters(), clip)\n",
        "    dc = torch.nn.utils.clip_grad_norm_(decoder.parameters(), clip)\n",
        "\n",
        "    # Update parameters with optimizers\n",
        "    encoder_optimizer.step()\n",
        "    decoder_optimizer.step()\n",
        "    \n",
        "#     return loss.data[0], ec, dc\n",
        "    return loss.item(), ec, dc  "
      ],
      "execution_count": 0,
      "outputs": []
    },
    {
      "metadata": {
        "id": "fm2GZxu2jM_s",
        "colab_type": "text"
      },
      "cell_type": "markdown",
      "source": [
        "## Running training\n",
        "\n",
        "With everything in place we can actually initialize a network and start training.\n",
        "\n",
        "To start, we initialize models, optimizers, a loss function (criterion), and set up variables for plotting and tracking progress:"
      ]
    },
    {
      "metadata": {
        "id": "y8QsdydpjM_s",
        "colab_type": "code",
        "colab": {
          "autoexec": {
            "startup": false,
            "wait_interval": 0
          }
        }
      },
      "cell_type": "code",
      "source": [
        "# Configure models\n",
        "attn_model = 'dot'\n",
        "hidden_size = 500\n",
        "n_layers = 2\n",
        "dropout = 0.1\n",
        "batch_size = 50 # 1600  # 100\n",
        "# batch_size = 50\n",
        "\n",
        "# Configure training/optimization\n",
        "clip = 50.0\n",
        "teacher_forcing_ratio = 0.5\n",
        "learning_rate = 0.0001\n",
        "decoder_learning_ratio = 5.0\n",
        "n_epochs = 50000\n",
        "epoch = 0\n",
        "plot_every = 10\n",
        "print_every = 50  # 100\n",
        "evaluate_every = 250 # 1000\n",
        "\n",
        "# Initialize models\n",
        "encoder = EncoderRNN(input_lang.n_words, hidden_size, n_layers, dropout=dropout)\n",
        "decoder = LuongAttnDecoderRNN(attn_model, hidden_size, output_lang.n_words, n_layers, dropout=dropout)\n",
        "\n",
        "# Initialize optimizers and criterion\n",
        "encoder_optimizer = optim.Adam(encoder.parameters(), lr=learning_rate)\n",
        "decoder_optimizer = optim.Adam(decoder.parameters(), lr=learning_rate * decoder_learning_ratio)\n",
        "criterion = nn.CrossEntropyLoss()\n",
        "\n",
        "# Move models to GPU\n",
        "if USE_CUDA:\n",
        "    encoder.cuda()\n",
        "    decoder.cuda()"
      ],
      "execution_count": 0,
      "outputs": []
    },
    {
      "metadata": {
        "id": "mEGr4sQnYXSG",
        "colab_type": "code",
        "colab": {
          "autoexec": {
            "startup": false,
            "wait_interval": 0
          }
        }
      },
      "cell_type": "code",
      "source": [
        "from torchnet.logger import VisdomPlotLogger, VisdomLogger, VisdomTextLogger\n",
        "from tqdm import tqdm\n",
        "import io\n",
        "import json\n",
        "\n",
        "# Start a job\n",
        "\n",
        "class Job:\n",
        "    def __init__(self, name, params={}, hostname='localhost', port=8890, n_epochs=10):\n",
        "        self.name = name\n",
        "        self.params = params\n",
        "        self.hostname = hostname\n",
        "        self.avg_train_loss_logger = VisdomPlotLogger(\n",
        "        'line', port=port, opts={'title': f'{name}_Train Loss'})\n",
        "        self.job_logger = VisdomTextLogger(port=port, opts={'title': f'{name}_Job Info'})\n",
        "        self.log_logger = VisdomTextLogger(port=port, opts={'title': f'{name}_Train Loss Log'}, update_type='APPEND')\n",
        "        self.pbar = tqdm(total=n_epochs, ncols=60, mininterval=1.0, ascii=True, file=io.StringIO())\n",
        "        self.progress_logger = VisdomTextLogger(port=port, opts=dict(title=f'{name}_Progress Bar',\n",
        "            width=500,\n",
        "            height=50,\n",
        "        ))\n",
        "\n",
        "        self.start()\n",
        "\n",
        "    def start(self):\n",
        "#         j = {'name': self.name, 'params': self.params, 'hostname': self.hostname}\n",
        "        j_str = json.dumps(self.params, indent=4)\n",
        "        j_str = j_str.replace('\\n', '<br/>\\n').replace(' ', '&nbsp;')\n",
        "        self.job_logger.log(f'{j_str}')\n",
        "\n",
        "        self.job_id = '#job_id'# body['id']\n",
        "        print(\"Starting job %s at %s\" % (self.job_id, time.strftime('%Y-%m-%d %H:%M:%S', time.localtime())))\n",
        "        self.start_time = time.time()\n",
        "\n",
        "        self.log_every = 50\n",
        "        self.plot_every = 50\n",
        "        self.loss_avg = 0\n",
        "\n",
        "    def stop(self, ):\n",
        "        j = {'status': 'done'}\n",
        "        print(j)\n",
        "\n",
        "    def log(self, l):\n",
        "        def time_since(since):\n",
        "            now = time.time()\n",
        "            s = now - since\n",
        "            m = math.floor(s / 60)\n",
        "            s -= m * 60\n",
        "            return '%dm %ds' % (m, s)\n",
        "        # print('[log] %s' % time_since(self.start_time), l)\n",
        "        self.log_logger.log(l)\n",
        "\n",
        "    def plot(self, x, y):\n",
        "        # print(f'[plot] ({x}, {y})')\n",
        "        self.avg_train_loss_logger.log(x, y)\n",
        "\n",
        "    def record(self, e, loss):\n",
        "        self.loss_avg += loss\n",
        "\n",
        "        if e > 0 and e % self.log_every == 0:\n",
        "            self.log('(%s) %.4f' % (e, loss))\n",
        "\n",
        "        if e > 0 and e % self.plot_every == 0:\n",
        "            self.plot(e, self.loss_avg / self.plot_every)\n",
        "            self.loss_avg = 0\n",
        "\n",
        "    def update_progress(self, ):\n",
        "        self.pbar.update(1)\n",
        "        text = f'{self.pbar}'.replace(' ', '<font color=\"white\">#</font>')\n",
        "        self.progress_logger.log(text)"
      ],
      "execution_count": 0,
      "outputs": []
    },
    {
      "metadata": {
        "id": "N2cXAJPC-Epg",
        "colab_type": "code",
        "colab": {
          "autoexec": {
            "startup": false,
            "wait_interval": 0
          }
        },
        "outputId": "0cc6a6cd-8377-43c0-ce74-c3471541fecb"
      },
      "cell_type": "code",
      "source": [
        "# import sconce\n",
        "# job = sconce.Job('seq2seq-translate', {\n",
        "job = Job('seq2seq-translate', {\n",
        "    'attn_model': attn_model,\n",
        "    'n_layers': n_layers,\n",
        "    'dropout': dropout,\n",
        "    'hidden_size': hidden_size,\n",
        "    'learning_rate': learning_rate,\n",
        "    'clip': clip,\n",
        "    'teacher_forcing_ratio': teacher_forcing_ratio,\n",
        "    'decoder_learning_ratio': decoder_learning_ratio,\n",
        "}, n_epochs=n_epochs)\n",
        "job.plot_every = plot_every\n",
        "job.log_every = print_every\n",
        "\n",
        "# Keep track of time elapsed and running averages\n",
        "start = time.time()\n",
        "plot_losses = []\n",
        "print_loss_total = 0 # Reset every print_every\n",
        "plot_loss_total = 0 # Reset every plot_every"
      ],
      "execution_count": 0,
      "outputs": [
        {
          "output_type": "stream",
          "text": [
            "Starting job #job_id at 2018-05-06 22:52:40\n"
          ],
          "name": "stdout"
        }
      ]
    },
    {
      "metadata": {
        "id": "ph62r4pIYXSL",
        "colab_type": "text"
      },
      "cell_type": "markdown",
      "source": [
        "# what sconce tracks?\n",
        "<img src=\"https://camo.githubusercontent.com/2c1ef7128da7b272869d80024e6664b0f3e4e4b9/68747470733a2f2f692e696d6775722e636f6d2f6362354578715a2e706e67\" style=\"float: right\" />"
      ]
    },
    {
      "metadata": {
        "id": "LH8SacdtYXSM",
        "colab_type": "raw"
      },
      "cell_type": "markdown",
      "source": [
        "what sconce tracks?\n",
        "https://github.com/spro/sconce-python\n",
        "- loss\n",
        "- compares job results against other jobs with same name\n",
        "- job.record(x, y) - Sconce averages the values and plots them every *plot_every* calls."
      ]
    },
    {
      "metadata": {
        "id": "r2vuBPuijM_t",
        "colab_type": "text"
      },
      "cell_type": "markdown",
      "source": [
        "Plus helper functions to print time elapsed and estimated time remaining, given the current time and progress."
      ]
    },
    {
      "metadata": {
        "id": "MDT8rrLFjM_u",
        "colab_type": "code",
        "colab": {
          "autoexec": {
            "startup": false,
            "wait_interval": 0
          }
        }
      },
      "cell_type": "code",
      "source": [
        "def as_minutes(s):\n",
        "    m = math.floor(s / 60)\n",
        "    s -= m * 60\n",
        "    return '%dm %ds' % (m, s)\n",
        "\n",
        "def time_since(since, percent):\n",
        "    now = time.time()\n",
        "    s = now - since\n",
        "    es = s / (percent)\n",
        "    rs = es - s\n",
        "    return '%s (- %s)' % (as_minutes(s), as_minutes(rs))"
      ],
      "execution_count": 0,
      "outputs": []
    },
    {
      "metadata": {
        "id": "vMjoLgjRjM_v",
        "colab_type": "text"
      },
      "cell_type": "markdown",
      "source": [
        "# Evaluating the network\n",
        "\n",
        "Evaluation is mostly the same as training, but there are no targets. Instead we always feed the decoder's predictions back to itself. Every time it predicts a word, we add it to the output string. If it predicts the EOS token we stop there. We also store the decoder's attention outputs for each step to display later."
      ]
    },
    {
      "metadata": {
        "id": "cZyepm7XjM_v",
        "colab_type": "code",
        "colab": {
          "autoexec": {
            "startup": false,
            "wait_interval": 0
          }
        }
      },
      "cell_type": "code",
      "source": [
        "def evaluate(input_seq, max_length=MAX_LENGTH):\n",
        "    # https://github.com/spro/practical-pytorch/issues/95\n",
        "    # input_lengths = [len(input_seq)]\n",
        "    \n",
        "    # UserWarning: volatile was removed and now has no effect. Use `with torch.no_grad():` instead.\n",
        "    # https://discuss.pytorch.org/t/torch-no-grad/12296\n",
        "    \n",
        "    input_seqs = [indexes_from_sentence(input_lang, input_seq)]\n",
        "    input_lengths = [len(input_seqs[0])]\n",
        "\n",
        "    # input_batches = Variable(torch.LongTensor(input_seqs), volatile=True).transpose(0, 1)\n",
        "    input_batches = Variable(torch.LongTensor(input_seqs)).transpose(0, 1)\n",
        "\n",
        "    if USE_CUDA:\n",
        "        input_batches = input_batches.cuda()\n",
        "\n",
        "    # Set to not-training mode to disable dropout\n",
        "    encoder.train(False)\n",
        "    decoder.train(False)\n",
        "\n",
        "    # Run through encoder\n",
        "    with torch.no_grad():\n",
        "        encoder_outputs, encoder_hidden = encoder(input_batches, input_lengths, None)\n",
        "\n",
        "    # Create starting vectors for decoder\n",
        "    # decoder_input = Variable(torch.LongTensor([SOS_token]), volatile=True) # SOS\n",
        "    decoder_input = Variable(torch.LongTensor([SOS_token])) # SOS\n",
        "    decoder_hidden = encoder_hidden[:decoder.n_layers] # Use last (forward) hidden state from encoder\n",
        "\n",
        "    if USE_CUDA:\n",
        "        decoder_input = decoder_input.cuda()\n",
        "\n",
        "    # Store output words and attention states\n",
        "    decoded_words = []\n",
        "    decoder_attentions = torch.zeros(max_length + 1, max_length + 1)\n",
        "\n",
        "    # Run through decoder\n",
        "    for di in range(max_length):\n",
        "        with torch.no_grad():\n",
        "            decoder_output, decoder_hidden, decoder_attention = decoder(\n",
        "                decoder_input, decoder_hidden, encoder_outputs\n",
        "            )\n",
        "        decoder_attentions[di,:decoder_attention.size(2)] += decoder_attention.squeeze(0).squeeze(0).cpu().data\n",
        "\n",
        "        # Choose top word from output\n",
        "        topv, topi = decoder_output.data.topk(1)\n",
        "        ni = topi[0][0]\n",
        "        if ni == EOS_token:\n",
        "            decoded_words.append('<EOS>')\n",
        "            break\n",
        "        else:\n",
        "            decoded_words.append(output_lang.index2word[ni.item()])\n",
        "\n",
        "        # Next input is chosen word\n",
        "        decoder_input = Variable(torch.LongTensor([ni]))\n",
        "        if USE_CUDA: decoder_input = decoder_input.cuda()\n",
        "\n",
        "    # Set back to training mode\n",
        "    encoder.train(True)\n",
        "    decoder.train(True)\n",
        "    \n",
        "    return decoded_words, decoder_attentions[:di+1, :len(encoder_outputs)]"
      ],
      "execution_count": 0,
      "outputs": []
    },
    {
      "metadata": {
        "id": "kyY9aX0mjM_y",
        "colab_type": "text"
      },
      "cell_type": "markdown",
      "source": [
        "We can evaluate random sentences from the training set and print out the input, target, and output to make some subjective quality judgements:"
      ]
    },
    {
      "metadata": {
        "id": "CpGS1t6AjM_z",
        "colab_type": "code",
        "colab": {
          "autoexec": {
            "startup": false,
            "wait_interval": 0
          }
        }
      },
      "cell_type": "code",
      "source": [
        "def evaluate_randomly():\n",
        "    [input_sentence, target_sentence] = random.choice(pairs)\n",
        "    evaluate_and_show_attention(input_sentence, target_sentence)"
      ],
      "execution_count": 0,
      "outputs": []
    },
    {
      "metadata": {
        "id": "MVBji1kAjM_1",
        "colab_type": "text"
      },
      "cell_type": "markdown",
      "source": [
        "# Visualizing attention\n",
        "\n",
        "A useful property of the attention mechanism is its highly interpretable outputs. Because it is used to weight specific encoder outputs of the input sequence, we can imagine looking where the network is focused most at each time step.\n",
        "\n",
        "You could simply run `plt.matshow(attentions)` to see attention output displayed as a matrix, with the columns being input steps and rows being output steps:"
      ]
    },
    {
      "metadata": {
        "id": "73IB60mJjM_1",
        "colab_type": "code",
        "colab": {
          "autoexec": {
            "startup": false,
            "wait_interval": 0
          }
        }
      },
      "cell_type": "code",
      "source": [
        "import io\n",
        "import torchvision\n",
        "from PIL import Image\n",
        "import visdom"
      ],
      "execution_count": 0,
      "outputs": []
    },
    {
      "metadata": {
        "id": "-M099fekjM_3",
        "colab_type": "text"
      },
      "cell_type": "markdown",
      "source": [
        "For a better viewing experience we will do the extra work of adding axes and labels:"
      ]
    },
    {
      "metadata": {
        "id": "bjgNvhWrjM_3",
        "colab_type": "code",
        "colab": {
          "autoexec": {
            "startup": false,
            "wait_interval": 0
          }
        }
      },
      "cell_type": "code",
      "source": [
        "def show_attention(input_sentence, output_words, attentions):\n",
        "    mpl.style.use('default')\n",
        "    # Set up figure with colorbar\n",
        "    fig = plt.figure()\n",
        "    ax = fig.add_subplot(111)    \n",
        "    cax = ax.matshow(attentions.numpy(), cmap='jet') # cmap='bone')\n",
        "    fig.colorbar(cax)\n",
        "\n",
        "    # Set up axes\n",
        "    ax.set_xticklabels([''] + input_sentence.split(' ') + ['<EOS>'], rotation=90)\n",
        "    ax.set_yticklabels([''] + output_words)\n",
        "\n",
        "    # Show label at every tick\n",
        "    ax.xaxis.set_major_locator(ticker.MultipleLocator(1))\n",
        "    ax.yaxis.set_major_locator(ticker.MultipleLocator(1))\n",
        "\n",
        "    show_plot_visdom()\n",
        "    plt.show()\n",
        "    plt.close()"
      ],
      "execution_count": 0,
      "outputs": []
    },
    {
      "metadata": {
        "id": "46Dts5BjjM_5",
        "colab_type": "code",
        "colab": {
          "autoexec": {
            "startup": false,
            "wait_interval": 0
          }
        }
      },
      "cell_type": "code",
      "source": [
        "def evaluate_and_show_attention(input_sentence, target_sentence=None):\n",
        "    output_words, attentions = evaluate(input_sentence)\n",
        "    output_sentence = ' '.join(output_words)\n",
        "    print('>', input_sentence)\n",
        "    if target_sentence is not None:\n",
        "        print('=', target_sentence)\n",
        "    print('<', output_sentence)\n",
        "    \n",
        "    show_attention(input_sentence, output_words, attentions)\n",
        "    \n",
        "    # Show input, target, output text in visdom\n",
        "    win = 'evaluted (%s)' % hostname\n",
        "    text = '<p>&gt; %s</p><p>= %s</p><p>&lt; %s</p>' % (input_sentence, target_sentence, output_sentence)\n",
        "    vis.text(text, win=win, opts={'title': win})"
      ],
      "execution_count": 0,
      "outputs": []
    },
    {
      "metadata": {
        "id": "4-BmvDLCjM_6",
        "colab_type": "text"
      },
      "cell_type": "markdown",
      "source": [
        "# Putting it all together\n",
        "\n",
        "**TODO** Run `train_epochs` for `n_epochs`"
      ]
    },
    {
      "metadata": {
        "id": "od07gsWkjM_7",
        "colab_type": "text"
      },
      "cell_type": "markdown",
      "source": [
        "To actually train, we call the train function many times, printing a summary as we go.\n",
        "\n",
        "*Note:* If you're running this notebook you can **train, interrupt, evaluate, and come back to continue training**. Simply run the notebook starting from the following cell (running from the previous cell will reset the models)."
      ]
    },
    {
      "metadata": {
        "id": "0ahWiXo5jM_7",
        "colab_type": "code",
        "colab": {
          "autoexec": {
            "startup": false,
            "wait_interval": 0
          }
        },
        "outputId": "ce4a1520-a8d4-46ec-e705-16bfab1ef181"
      },
      "cell_type": "code",
      "source": [
        "# Begin!\n",
        "ecs = []\n",
        "dcs = []\n",
        "eca = 0\n",
        "dca = 0\n",
        "\n",
        "while epoch < n_epochs:\n",
        "    epoch += 1\n",
        "    \n",
        "    # Get training data for this cycle\n",
        "    input_batches, input_lengths, target_batches, target_lengths = random_batch(batch_size)\n",
        "\n",
        "    # Run the train function\n",
        "    loss, ec, dc = train(\n",
        "        input_batches, input_lengths, target_batches, target_lengths,\n",
        "        encoder, decoder,\n",
        "        encoder_optimizer, decoder_optimizer, criterion\n",
        "    )\n",
        "\n",
        "    # Keep track of loss\n",
        "    print_loss_total += loss\n",
        "    plot_loss_total += loss\n",
        "    eca += ec\n",
        "    dca += dc\n",
        "    \n",
        "    job.record(epoch, loss)\n",
        "    job.update_progress()\n",
        "\n",
        "    if epoch % print_every == 0:\n",
        "        print(f'{job.pbar}')\n",
        "        print_loss_avg = print_loss_total / print_every\n",
        "        print_loss_total = 0\n",
        "        print_summary = '%s (%d %d%%) %.4f' % (time_since(start, epoch / n_epochs), epoch, epoch / n_epochs * 100, print_loss_avg)\n",
        "        print(print_summary)\n",
        "        \n",
        "    if epoch % evaluate_every == 0:\n",
        "        evaluate_randomly()\n",
        "\n",
        "    if epoch % plot_every == 0:\n",
        "        plot_loss_avg = plot_loss_total / plot_every\n",
        "        plot_losses.append(plot_loss_avg)\n",
        "        plot_loss_total = 0\n",
        "        \n",
        "        # TODO: Running average helper\n",
        "        ecs.append(eca / plot_every)\n",
        "        dcs.append(dca / plot_every)\n",
        "        ecs_win = 'encoder grad (%s)' % hostname\n",
        "        dcs_win = 'decoder grad (%s)' % hostname\n",
        "        vis.line(np.array(ecs), win=ecs_win, opts={'title': ecs_win})\n",
        "        vis.line(np.array(dcs), win=dcs_win, opts={'title': dcs_win})\n",
        "        eca = 0\n",
        "        dca = 0"
      ],
      "execution_count": 0,
      "outputs": [
        {
          "output_type": "stream",
          "text": [
            "  0%|                 | 50/50000 [00:58<14:25:40,  1.04s/it]\n",
            "0m 58s (- 966m 4s) (50 0%) 4.4948\n",
            "  0%|                | 100/50000 [01:49<14:28:29,  1.04s/it]\n",
            "1m 49s (- 914m 31s) (100 0%) 3.5729\n",
            "  0%|                | 150/50000 [02:43<14:36:02,  1.05s/it]\n",
            "2m 43s (- 904m 43s) (150 0%) 3.2191\n",
            "  0%|                | 200/50000 [03:35<14:35:02,  1.05s/it]\n",
            "3m 35s (- 894m 10s) (200 0%) 2.8085\n",
            "  0%|                | 250/50000 [04:28<15:03:09,  1.09s/it]\n",
            "4m 28s (- 889m 24s) (250 0%) 2.5160\n",
            "> leave tom .\n",
            "= zostaw toma .\n",
            "< tom nie lubi toma . <EOS>\n"
          ],
          "name": "stdout"
        },
        {
          "output_type": "display_data",
          "data": {
            "image/png": "[encoded data removed]",
            "text/plain": [
              "<Figure size 640x480 with 2 Axes>"
            ]
          },
          "metadata": {
            "tags": []
          }
        },
        {
          "output_type": "stream",
          "text": [
            "  1%|                | 300/50000 [05:20<14:25:18,  1.04s/it]\n",
            "5m 20s (- 883m 48s) (300 0%) 2.2405\n",
            "  1%|1               | 350/50000 [06:12<14:18:11,  1.04s/it]\n",
            "6m 12s (- 881m 25s) (350 0%) 1.9770\n",
            "  1%|1               | 400/50000 [07:06<14:56:02,  1.08s/it]\n",
            "7m 6s (- 880m 42s) (400 0%) 1.7505\n",
            "  1%|1               | 450/50000 [07:59<14:49:54,  1.08s/it]\n",
            "7m 59s (- 879m 7s) (450 0%) 1.5304\n",
            "  1%|1               | 500/50000 [08:51<14:01:59,  1.02s/it]\n",
            "8m 51s (- 876m 31s) (500 1%) 1.3431\n",
            "> i do remember it .\n",
            "= pamiętam to .\n",
            "< pamiętam to . <EOS>\n"
          ],
          "name": "stdout"
        },
        {
          "output_type": "display_data",
          "data": {
            "image/png": "[encoded data removed]",
            "text/plain": [
              "<Figure size 640x480 with 2 Axes>"
            ]
          },
          "metadata": {
            "tags": []
          }
        },
        {
          "output_type": "stream",
          "text": [
            "  1%|1               | 550/50000 [09:45<15:27:47,  1.13s/it]\n",
            "9m 45s (- 876m 46s) (550 1%) 1.1725\n",
            "  1%|1               | 600/50000 [10:37<14:15:19,  1.04s/it]\n",
            "10m 37s (- 875m 25s) (600 1%) 1.0318\n",
            "  1%|2               | 650/50000 [11:30<14:30:06,  1.06s/it]\n",
            "11m 30s (- 873m 8s) (650 1%) 0.8805\n",
            "  1%|2               | 700/50000 [12:23<14:25:27,  1.05s/it]\n",
            "12m 23s (- 872m 24s) (700 1%) 0.8199\n",
            "  2%|2               | 750/50000 [13:16<15:19:28,  1.12s/it]\n",
            "13m 16s (- 872m 14s) (750 1%) 0.7191\n",
            "> that's the idea .\n",
            "= to jest pomysł .\n",
            "< to jest pomysł . <EOS>\n"
          ],
          "name": "stdout"
        },
        {
          "output_type": "display_data",
          "data": {
            "image/png": "[encoded data removed]",
            "text/plain": [
              "<Figure size 640x480 with 2 Axes>"
            ]
          },
          "metadata": {
            "tags": []
          }
        },
        {
          "output_type": "stream",
          "text": [
            "  2%|2               | 800/50000 [14:10<14:23:41,  1.05s/it]\n",
            "14m 10s (- 871m 39s) (800 1%) 0.5988\n",
            "  2%|2               | 850/50000 [15:03<14:38:06,  1.07s/it]\n",
            "15m 3s (- 870m 24s) (850 1%) 0.5321\n",
            "  2%|2               | 900/50000 [15:56<14:25:24,  1.06s/it]\n",
            "15m 56s (- 869m 28s) (900 1%) 0.4796\n",
            "  2%|3               | 950/50000 [16:49<14:14:57,  1.05s/it]\n",
            "16m 49s (- 868m 16s) (950 1%) 0.4150\n",
            "  2%|3              | 1000/50000 [17:41<14:28:53,  1.06s/it]\n",
            "17m 41s (- 866m 36s) (1000 2%) 0.3820\n",
            "> it's too loud .\n",
            "= jest za głośno .\n",
            "< to za głośno . <EOS>\n"
          ],
          "name": "stdout"
        },
        {
          "output_type": "display_data",
          "data": {
            "image/png": "[encoded data removed]",
            "text/plain": [
              "<Figure size 640x480 with 2 Axes>"
            ]
          },
          "metadata": {
            "tags": []
          }
        },
        {
          "output_type": "stream",
          "text": [
            "  2%|3              | 1050/50000 [18:33<14:21:53,  1.06s/it]\n",
            "18m 33s (- 864m 47s) (1050 2%) 0.3314\n",
            "  2%|3              | 1100/50000 [19:25<14:28:56,  1.07s/it]\n",
            "19m 25s (- 863m 32s) (1100 2%) 0.2889\n",
            "  2%|3              | 1150/50000 [20:18<15:03:46,  1.11s/it]\n",
            "20m 18s (- 862m 40s) (1150 2%) 0.2623\n",
            "  2%|3              | 1200/50000 [21:11<14:34:06,  1.07s/it]\n",
            "21m 11s (- 861m 35s) (1200 2%) 0.2329\n",
            "  2%|3              | 1250/50000 [22:03<14:20:30,  1.06s/it]\n",
            "22m 3s (- 860m 35s) (1250 2%) 0.2209\n",
            "> tom didn't want to cry .\n",
            "= tom nie chciał płakać .\n",
            "< tom nie chciał płakać . <EOS>\n"
          ],
          "name": "stdout"
        },
        {
          "output_type": "display_data",
          "data": {
            "image/png": "[encoded data removed]",
            "text/plain": [
              "<Figure size 640x480 with 2 Axes>"
            ]
          },
          "metadata": {
            "tags": []
          }
        },
        {
          "output_type": "stream",
          "text": [
            "  3%|3              | 1300/50000 [22:57<16:02:17,  1.19s/it]\n",
            "22m 57s (- 860m 4s) (1300 2%) 0.2152\n",
            "  3%|4              | 1350/50000 [23:50<14:28:26,  1.07s/it]\n",
            "23m 50s (- 858m 55s) (1350 2%) 0.1943\n",
            "  3%|4              | 1400/50000 [24:42<13:53:19,  1.03s/it]\n",
            "24m 42s (- 857m 44s) (1400 2%) 0.1789\n",
            "  3%|4              | 1450/50000 [25:35<14:35:53,  1.08s/it]\n",
            "25m 35s (- 856m 53s) (1450 2%) 0.1517\n",
            "  3%|4              | 1500/50000 [26:27<14:11:02,  1.05s/it]\n",
            "26m 27s (- 855m 36s) (1500 3%) 0.1503\n",
            "> i have an old bicycle .\n",
            "= mam stary rower .\n",
            "< mam stary rower . <EOS>\n"
          ],
          "name": "stdout"
        },
        {
          "output_type": "display_data",
          "data": {
            "image/png": "[encoded data removed]",
            "text/plain": [
              "<Figure size 640x480 with 2 Axes>"
            ]
          },
          "metadata": {
            "tags": []
          }
        },
        {
          "output_type": "stream",
          "text": [
            "  3%|4              | 1550/50000 [27:21<14:44:29,  1.10s/it]\n",
            "27m 21s (- 855m 5s) (1550 3%) 0.1389\n",
            "  3%|4              | 1600/50000 [28:14<14:31:33,  1.08s/it]\n",
            "28m 14s (- 854m 11s) (1600 3%) 0.1267\n",
            "  3%|4              | 1650/50000 [29:06<14:08:23,  1.05s/it]\n",
            "29m 6s (- 853m 5s) (1650 3%) 0.1207\n",
            "  3%|5              | 1700/50000 [30:00<14:24:02,  1.07s/it]\n",
            "30m 0s (- 852m 23s) (1700 3%) 0.1006\n",
            "  4%|5              | 1750/50000 [30:52<13:59:53,  1.04s/it]\n",
            "30m 52s (- 851m 4s) (1750 3%) 0.0956\n",
            "> tom wants to be a pilot .\n",
            "= tom chce zostać pilotem .\n",
            "< tom chce zostać pilotem . <EOS>\n"
          ],
          "name": "stdout"
        },
        {
          "output_type": "display_data",
          "data": {
            "image/png": "[encoded data removed]",
            "text/plain": [
              "<Figure size 640x480 with 2 Axes>"
            ]
          },
          "metadata": {
            "tags": []
          }
        },
        {
          "output_type": "stream",
          "text": [
            "  4%|5              | 1800/50000 [31:45<13:51:43,  1.04s/it]\n",
            "31m 45s (- 850m 34s) (1800 3%) 0.0999\n",
            "  4%|5              | 1850/50000 [32:39<14:23:36,  1.08s/it]\n",
            "32m 39s (- 849m 47s) (1850 3%) 0.0923\n",
            "  4%|5              | 1900/50000 [33:32<13:41:22,  1.02s/it]\n",
            "33m 32s (- 849m 1s) (1900 3%) 0.0821\n",
            "  4%|5              | 1950/50000 [34:25<14:10:58,  1.06s/it]\n",
            "34m 25s (- 848m 27s) (1950 3%) 0.0774\n",
            "  4%|6              | 2000/50000 [35:18<14:31:42,  1.09s/it]\n",
            "35m 18s (- 847m 29s) (2000 4%) 0.0755\n",
            "> that was our home .\n",
            "= to był nasz dom .\n",
            "< to był nasz dom . <EOS>\n"
          ],
          "name": "stdout"
        },
        {
          "output_type": "display_data",
          "data": {
            "image/png": "[encoded data removed]",
            "text/plain": [
              "<Figure size 640x480 with 2 Axes>"
            ]
          },
          "metadata": {
            "tags": []
          }
        },
        {
          "output_type": "stream",
          "text": [
            "  4%|6              | 2050/50000 [36:10<14:15:31,  1.07s/it]\n",
            "36m 10s (- 846m 18s) (2050 4%) 0.0802\n",
            "  4%|6              | 2100/50000 [37:05<14:14:19,  1.07s/it]\n",
            "37m 5s (- 845m 54s) (2100 4%) 0.0732\n"
          ],
          "name": "stdout"
        },
        {
          "output_type": "error",
          "ename": "KeyboardInterrupt",
          "evalue": "",
          "traceback": [
            "\u001b[0;31m---------------------------------------------------------------------------\u001b[0m",
            "\u001b[0;31mKeyboardInterrupt\u001b[0m                         Traceback (most recent call last)",
            "\u001b[0;32m<ipython-input-46-7c7db8d06281>\u001b[0m in \u001b[0;36m<module>\u001b[0;34m()\u001b[0m\n\u001b[1;32m     15\u001b[0m         \u001b[0minput_batches\u001b[0m\u001b[0;34m,\u001b[0m \u001b[0minput_lengths\u001b[0m\u001b[0;34m,\u001b[0m \u001b[0mtarget_batches\u001b[0m\u001b[0;34m,\u001b[0m \u001b[0mtarget_lengths\u001b[0m\u001b[0;34m,\u001b[0m\u001b[0;34m\u001b[0m\u001b[0m\n\u001b[1;32m     16\u001b[0m         \u001b[0mencoder\u001b[0m\u001b[0;34m,\u001b[0m \u001b[0mdecoder\u001b[0m\u001b[0;34m,\u001b[0m\u001b[0;34m\u001b[0m\u001b[0m\n\u001b[0;32m---> 17\u001b[0;31m         \u001b[0mencoder_optimizer\u001b[0m\u001b[0;34m,\u001b[0m \u001b[0mdecoder_optimizer\u001b[0m\u001b[0;34m,\u001b[0m \u001b[0mcriterion\u001b[0m\u001b[0;34m\u001b[0m\u001b[0m\n\u001b[0m\u001b[1;32m     18\u001b[0m     )\n\u001b[1;32m     19\u001b[0m \u001b[0;34m\u001b[0m\u001b[0m\n",
            "\u001b[0;32m<ipython-input-22-17294e539735>\u001b[0m in \u001b[0;36mtrain\u001b[0;34m(input_batches, input_lengths, target_batches, target_lengths, encoder, decoder, encoder_optimizer, decoder_optimizer, criterion, max_length)\u001b[0m\n\u001b[1;32m     24\u001b[0m     \u001b[0;32mfor\u001b[0m \u001b[0mt\u001b[0m \u001b[0;32min\u001b[0m \u001b[0mrange\u001b[0m\u001b[0;34m(\u001b[0m\u001b[0mmax_target_length\u001b[0m\u001b[0;34m)\u001b[0m\u001b[0;34m:\u001b[0m\u001b[0;34m\u001b[0m\u001b[0m\n\u001b[1;32m     25\u001b[0m         decoder_output, decoder_hidden, decoder_attn = decoder(\n\u001b[0;32m---> 26\u001b[0;31m             \u001b[0mdecoder_input\u001b[0m\u001b[0;34m,\u001b[0m \u001b[0mdecoder_hidden\u001b[0m\u001b[0;34m,\u001b[0m \u001b[0mencoder_outputs\u001b[0m\u001b[0;34m\u001b[0m\u001b[0m\n\u001b[0m\u001b[1;32m     27\u001b[0m         )\n\u001b[1;32m     28\u001b[0m \u001b[0;34m\u001b[0m\u001b[0m\n",
            "\u001b[0;32m/workspace/fairseq-py/miniconda3/envs/fastai/lib/python3.6/site-packages/torch/nn/modules/module.py\u001b[0m in \u001b[0;36m__call__\u001b[0;34m(self, *input, **kwargs)\u001b[0m\n\u001b[1;32m    489\u001b[0m             \u001b[0mresult\u001b[0m \u001b[0;34m=\u001b[0m \u001b[0mself\u001b[0m\u001b[0;34m.\u001b[0m\u001b[0m_slow_forward\u001b[0m\u001b[0;34m(\u001b[0m\u001b[0;34m*\u001b[0m\u001b[0minput\u001b[0m\u001b[0;34m,\u001b[0m \u001b[0;34m**\u001b[0m\u001b[0mkwargs\u001b[0m\u001b[0;34m)\u001b[0m\u001b[0;34m\u001b[0m\u001b[0m\n\u001b[1;32m    490\u001b[0m         \u001b[0;32melse\u001b[0m\u001b[0;34m:\u001b[0m\u001b[0;34m\u001b[0m\u001b[0m\n\u001b[0;32m--> 491\u001b[0;31m             \u001b[0mresult\u001b[0m \u001b[0;34m=\u001b[0m \u001b[0mself\u001b[0m\u001b[0;34m.\u001b[0m\u001b[0mforward\u001b[0m\u001b[0;34m(\u001b[0m\u001b[0;34m*\u001b[0m\u001b[0minput\u001b[0m\u001b[0;34m,\u001b[0m \u001b[0;34m**\u001b[0m\u001b[0mkwargs\u001b[0m\u001b[0;34m)\u001b[0m\u001b[0;34m\u001b[0m\u001b[0m\n\u001b[0m\u001b[1;32m    492\u001b[0m         \u001b[0;32mfor\u001b[0m \u001b[0mhook\u001b[0m \u001b[0;32min\u001b[0m \u001b[0mself\u001b[0m\u001b[0;34m.\u001b[0m\u001b[0m_forward_hooks\u001b[0m\u001b[0;34m.\u001b[0m\u001b[0mvalues\u001b[0m\u001b[0;34m(\u001b[0m\u001b[0;34m)\u001b[0m\u001b[0;34m:\u001b[0m\u001b[0;34m\u001b[0m\u001b[0m\n\u001b[1;32m    493\u001b[0m             \u001b[0mhook_result\u001b[0m \u001b[0;34m=\u001b[0m \u001b[0mhook\u001b[0m\u001b[0;34m(\u001b[0m\u001b[0mself\u001b[0m\u001b[0;34m,\u001b[0m \u001b[0minput\u001b[0m\u001b[0;34m,\u001b[0m \u001b[0mresult\u001b[0m\u001b[0;34m)\u001b[0m\u001b[0;34m\u001b[0m\u001b[0m\n",
            "\u001b[0;32m<ipython-input-17-43d7954b3ba4>\u001b[0m in \u001b[0;36mforward\u001b[0;34m(self, input_seq, last_hidden, encoder_outputs)\u001b[0m\n\u001b[1;32m     35\u001b[0m         \u001b[0;31m# Calculate attention from current RNN state and all encoder outputs;\u001b[0m\u001b[0;34m\u001b[0m\u001b[0;34m\u001b[0m\u001b[0m\n\u001b[1;32m     36\u001b[0m         \u001b[0;31m# apply to encoder outputs to get weighted average\u001b[0m\u001b[0;34m\u001b[0m\u001b[0;34m\u001b[0m\u001b[0m\n\u001b[0;32m---> 37\u001b[0;31m         \u001b[0mattn_weights\u001b[0m \u001b[0;34m=\u001b[0m \u001b[0mself\u001b[0m\u001b[0;34m.\u001b[0m\u001b[0mattn\u001b[0m\u001b[0;34m(\u001b[0m\u001b[0mrnn_output\u001b[0m\u001b[0;34m,\u001b[0m \u001b[0mencoder_outputs\u001b[0m\u001b[0;34m)\u001b[0m\u001b[0;34m\u001b[0m\u001b[0m\n\u001b[0m\u001b[1;32m     38\u001b[0m         \u001b[0mcontext\u001b[0m \u001b[0;34m=\u001b[0m \u001b[0mattn_weights\u001b[0m\u001b[0;34m.\u001b[0m\u001b[0mbmm\u001b[0m\u001b[0;34m(\u001b[0m\u001b[0mencoder_outputs\u001b[0m\u001b[0;34m.\u001b[0m\u001b[0mtranspose\u001b[0m\u001b[0;34m(\u001b[0m\u001b[0;36m0\u001b[0m\u001b[0;34m,\u001b[0m \u001b[0;36m1\u001b[0m\u001b[0;34m)\u001b[0m\u001b[0;34m)\u001b[0m \u001b[0;31m# B x S=1 x N\u001b[0m\u001b[0;34m\u001b[0m\u001b[0m\n\u001b[1;32m     39\u001b[0m \u001b[0;34m\u001b[0m\u001b[0m\n",
            "\u001b[0;32m/workspace/fairseq-py/miniconda3/envs/fastai/lib/python3.6/site-packages/torch/nn/modules/module.py\u001b[0m in \u001b[0;36m__call__\u001b[0;34m(self, *input, **kwargs)\u001b[0m\n\u001b[1;32m    489\u001b[0m             \u001b[0mresult\u001b[0m \u001b[0;34m=\u001b[0m \u001b[0mself\u001b[0m\u001b[0;34m.\u001b[0m\u001b[0m_slow_forward\u001b[0m\u001b[0;34m(\u001b[0m\u001b[0;34m*\u001b[0m\u001b[0minput\u001b[0m\u001b[0;34m,\u001b[0m \u001b[0;34m**\u001b[0m\u001b[0mkwargs\u001b[0m\u001b[0;34m)\u001b[0m\u001b[0;34m\u001b[0m\u001b[0m\n\u001b[1;32m    490\u001b[0m         \u001b[0;32melse\u001b[0m\u001b[0;34m:\u001b[0m\u001b[0;34m\u001b[0m\u001b[0m\n\u001b[0;32m--> 491\u001b[0;31m             \u001b[0mresult\u001b[0m \u001b[0;34m=\u001b[0m \u001b[0mself\u001b[0m\u001b[0;34m.\u001b[0m\u001b[0mforward\u001b[0m\u001b[0;34m(\u001b[0m\u001b[0;34m*\u001b[0m\u001b[0minput\u001b[0m\u001b[0;34m,\u001b[0m \u001b[0;34m**\u001b[0m\u001b[0mkwargs\u001b[0m\u001b[0;34m)\u001b[0m\u001b[0;34m\u001b[0m\u001b[0m\n\u001b[0m\u001b[1;32m    492\u001b[0m         \u001b[0;32mfor\u001b[0m \u001b[0mhook\u001b[0m \u001b[0;32min\u001b[0m \u001b[0mself\u001b[0m\u001b[0;34m.\u001b[0m\u001b[0m_forward_hooks\u001b[0m\u001b[0;34m.\u001b[0m\u001b[0mvalues\u001b[0m\u001b[0;34m(\u001b[0m\u001b[0;34m)\u001b[0m\u001b[0;34m:\u001b[0m\u001b[0;34m\u001b[0m\u001b[0m\n\u001b[1;32m    493\u001b[0m             \u001b[0mhook_result\u001b[0m \u001b[0;34m=\u001b[0m \u001b[0mhook\u001b[0m\u001b[0;34m(\u001b[0m\u001b[0mself\u001b[0m\u001b[0;34m,\u001b[0m \u001b[0minput\u001b[0m\u001b[0;34m,\u001b[0m \u001b[0mresult\u001b[0m\u001b[0;34m)\u001b[0m\u001b[0;34m\u001b[0m\u001b[0m\n",
            "\u001b[0;32m<ipython-input-15-e86d53ca0614>\u001b[0m in \u001b[0;36mforward\u001b[0;34m(self, hidden, encoder_outputs)\u001b[0m\n\u001b[1;32m     27\u001b[0m             \u001b[0;31m# Calculate energy for each encoder output\u001b[0m\u001b[0;34m\u001b[0m\u001b[0;34m\u001b[0m\u001b[0m\n\u001b[1;32m     28\u001b[0m             \u001b[0;32mfor\u001b[0m \u001b[0mi\u001b[0m \u001b[0;32min\u001b[0m \u001b[0mrange\u001b[0m\u001b[0;34m(\u001b[0m\u001b[0mmax_len\u001b[0m\u001b[0;34m)\u001b[0m\u001b[0;34m:\u001b[0m\u001b[0;34m\u001b[0m\u001b[0m\n\u001b[0;32m---> 29\u001b[0;31m                 \u001b[0mattn_energies\u001b[0m\u001b[0;34m[\u001b[0m\u001b[0mb\u001b[0m\u001b[0;34m,\u001b[0m \u001b[0mi\u001b[0m\u001b[0;34m]\u001b[0m \u001b[0;34m=\u001b[0m \u001b[0mself\u001b[0m\u001b[0;34m.\u001b[0m\u001b[0mscore\u001b[0m\u001b[0;34m(\u001b[0m\u001b[0mhidden\u001b[0m\u001b[0;34m[\u001b[0m\u001b[0;34m:\u001b[0m\u001b[0;34m,\u001b[0m \u001b[0mb\u001b[0m\u001b[0;34m]\u001b[0m\u001b[0;34m,\u001b[0m \u001b[0mencoder_outputs\u001b[0m\u001b[0;34m[\u001b[0m\u001b[0mi\u001b[0m\u001b[0;34m,\u001b[0m \u001b[0mb\u001b[0m\u001b[0;34m]\u001b[0m\u001b[0;34m.\u001b[0m\u001b[0munsqueeze\u001b[0m\u001b[0;34m(\u001b[0m\u001b[0;36m0\u001b[0m\u001b[0;34m)\u001b[0m\u001b[0;34m)\u001b[0m\u001b[0;34m\u001b[0m\u001b[0m\n\u001b[0m\u001b[1;32m     30\u001b[0m \u001b[0;34m\u001b[0m\u001b[0m\n\u001b[1;32m     31\u001b[0m         \u001b[0;31m# Normalize energies to weights in range 0 to 1, resize to 1 x B x S\u001b[0m\u001b[0;34m\u001b[0m\u001b[0;34m\u001b[0m\u001b[0m\n",
            "\u001b[0;32m<ipython-input-15-e86d53ca0614>\u001b[0m in \u001b[0;36mscore\u001b[0;34m(self, hidden, encoder_output)\u001b[0m\n\u001b[1;32m     51\u001b[0m     \u001b[0;32mdef\u001b[0m \u001b[0mscore\u001b[0m\u001b[0;34m(\u001b[0m\u001b[0mself\u001b[0m\u001b[0;34m,\u001b[0m \u001b[0mhidden\u001b[0m\u001b[0;34m,\u001b[0m \u001b[0mencoder_output\u001b[0m\u001b[0;34m)\u001b[0m\u001b[0;34m:\u001b[0m\u001b[0;34m\u001b[0m\u001b[0m\n\u001b[1;32m     52\u001b[0m         \u001b[0;32mif\u001b[0m \u001b[0mself\u001b[0m\u001b[0;34m.\u001b[0m\u001b[0mmethod\u001b[0m \u001b[0;34m==\u001b[0m \u001b[0;34m'dot'\u001b[0m\u001b[0;34m:\u001b[0m\u001b[0;34m\u001b[0m\u001b[0m\n\u001b[0;32m---> 53\u001b[0;31m             \u001b[0menergy\u001b[0m \u001b[0;34m=\u001b[0m\u001b[0mtorch\u001b[0m\u001b[0;34m.\u001b[0m\u001b[0mdot\u001b[0m\u001b[0;34m(\u001b[0m\u001b[0mhidden\u001b[0m\u001b[0;34m.\u001b[0m\u001b[0mview\u001b[0m\u001b[0;34m(\u001b[0m\u001b[0;34m-\u001b[0m\u001b[0;36m1\u001b[0m\u001b[0;34m)\u001b[0m\u001b[0;34m,\u001b[0m \u001b[0mencoder_output\u001b[0m\u001b[0;34m.\u001b[0m\u001b[0mview\u001b[0m\u001b[0;34m(\u001b[0m\u001b[0;34m-\u001b[0m\u001b[0;36m1\u001b[0m\u001b[0;34m)\u001b[0m\u001b[0;34m)\u001b[0m\u001b[0;34m\u001b[0m\u001b[0m\n\u001b[0m\u001b[1;32m     54\u001b[0m         \u001b[0;32melif\u001b[0m \u001b[0mself\u001b[0m\u001b[0;34m.\u001b[0m\u001b[0mmethod\u001b[0m \u001b[0;34m==\u001b[0m \u001b[0;34m'general'\u001b[0m\u001b[0;34m:\u001b[0m\u001b[0;34m\u001b[0m\u001b[0m\n\u001b[1;32m     55\u001b[0m             \u001b[0menergy\u001b[0m \u001b[0;34m=\u001b[0m \u001b[0mself\u001b[0m\u001b[0;34m.\u001b[0m\u001b[0mattn\u001b[0m\u001b[0;34m(\u001b[0m\u001b[0mencoder_output\u001b[0m\u001b[0;34m)\u001b[0m\u001b[0;34m\u001b[0m\u001b[0m\n",
            "\u001b[0;31mKeyboardInterrupt\u001b[0m: "
          ]
        }
      ]
    },
    {
      "metadata": {
        "id": "YpEnUGovjNAA",
        "colab_type": "text"
      },
      "cell_type": "markdown",
      "source": [
        "## Plotting training loss\n",
        "\n",
        "Plotting is done with matplotlib, using the array `plot_losses` that was created while training."
      ]
    },
    {
      "metadata": {
        "id": "E4uxpB9ljNAB",
        "colab_type": "code",
        "colab": {
          "autoexec": {
            "startup": false,
            "wait_interval": 0
          }
        }
      },
      "cell_type": "code",
      "source": [
        "def show_plot(points):\n",
        "    plt.figure()\n",
        "    fig, ax = plt.subplots()\n",
        "    loc = ticker.MultipleLocator(base=0.2) # put ticks at regular intervals\n",
        "    ax.yaxis.set_major_locator(loc)\n",
        "    plt.plot(points)\n",
        "\n",
        "show_plot(plot_losses)"
      ],
      "execution_count": 0,
      "outputs": []
    },
    {
      "metadata": {
        "id": "TQFXl0RuYXSs",
        "colab_type": "code",
        "colab": {
          "autoexec": {
            "startup": false,
            "wait_interval": 0
          }
        }
      },
      "cell_type": "code",
      "source": [
        "xxx=[print(random.choice(pairs)) for i in range(10)]"
      ],
      "execution_count": 0,
      "outputs": []
    },
    {
      "metadata": {
        "id": "vQoeHfjfjNAC",
        "colab_type": "code",
        "colab": {
          "autoexec": {
            "startup": false,
            "wait_interval": 0
          }
        }
      },
      "cell_type": "code",
      "source": [
        "output_words, attentions = evaluate(\"it's time for lunch .\")\n",
        "plt.matshow(attentions.numpy())\n",
        "show_plot_visdom()"
      ],
      "execution_count": 0,
      "outputs": []
    },
    {
      "metadata": {
        "id": "yt5xbOUMYXSy",
        "colab_type": "raw"
      },
      "cell_type": "markdown",
      "source": [
        "['i failed after all .', 'nie udało mi się jednak .']\n",
        "['i like you very much .', 'bardzo cię lubię .']\n",
        "[\"i can't leave .\", 'nie mogę wyjść .']\n",
        "['i feel very good .', 'czuję się bardzo dobrze .']\n",
        "[\"we've been here an hour .\", 'jesteśmy tutaj godzinę .']\n",
        "[\"i don't like it .\", 'nie lubię tego .']\n",
        "['tom likes boston .', 'tom lubi boston .']\n",
        "['that works .', 'to działa .']\n",
        "['i will try it again .', 'spróbuję ponownie .']\n",
        "['tom drank some beer .', 'tom wypił piwo .']"
      ]
    },
    {
      "metadata": {
        "id": "Mb-wKK0yjNAE",
        "colab_type": "code",
        "colab": {
          "autoexec": {
            "startup": false,
            "wait_interval": 0
          }
        },
        "outputId": "179d8835-54e7-45bb-d336-518959660663"
      },
      "cell_type": "code",
      "source": [
        "evaluate_and_show_attention('i failed after all .', 'nie udało mi się jednak .')"
      ],
      "execution_count": 0,
      "outputs": [
        {
          "output_type": "stream",
          "text": [
            "> i failed after all .\n",
            "= nie udało mi się jednak .\n",
            "< nie udało mi się jednak . <EOS>\n"
          ],
          "name": "stdout"
        },
        {
          "output_type": "display_data",
          "data": {
            "image/png": "[encoded data removed]",
            "text/plain": [
              "<Figure size 640x480 with 2 Axes>"
            ]
          },
          "metadata": {
            "tags": []
          }
        }
      ]
    },
    {
      "metadata": {
        "id": "MjIOvXDajNAG",
        "colab_type": "code",
        "colab": {
          "autoexec": {
            "startup": false,
            "wait_interval": 0
          }
        },
        "outputId": "f350214b-4c89-400e-fb9d-ca634af4dc4a"
      },
      "cell_type": "code",
      "source": [
        "evaluate_and_show_attention('i like you very much .', 'bardzo cię lubię .')"
      ],
      "execution_count": 0,
      "outputs": [
        {
          "output_type": "stream",
          "text": [
            "> i like you very much .\n",
            "= bardzo cię lubię .\n",
            "< bardzo cię lubię . <EOS>\n"
          ],
          "name": "stdout"
        },
        {
          "output_type": "display_data",
          "data": {
            "image/png": "[encoded data removed]",
            "text/plain": [
              "<Figure size 640x480 with 2 Axes>"
            ]
          },
          "metadata": {
            "tags": []
          }
        }
      ]
    },
    {
      "metadata": {
        "id": "KygYF6nwjNAH",
        "colab_type": "code",
        "colab": {
          "autoexec": {
            "startup": false,
            "wait_interval": 0
          }
        },
        "outputId": "6804035f-6a49-47fc-da7c-d906b8270fd8"
      },
      "cell_type": "code",
      "source": [
        "evaluate_and_show_attention(\"i can't leave .\", 'nie mogę wyjść .')"
      ],
      "execution_count": 0,
      "outputs": [
        {
          "output_type": "stream",
          "text": [
            "> i can't leave .\n",
            "= nie mogę wyjść .\n",
            "< nie mogę wyjść . <EOS>\n"
          ],
          "name": "stdout"
        },
        {
          "output_type": "display_data",
          "data": {
            "image/png": "[encoded data removed]",
            "text/plain": [
              "<Figure size 640x480 with 2 Axes>"
            ]
          },
          "metadata": {
            "tags": []
          }
        }
      ]
    },
    {
      "metadata": {
        "id": "2hL33p-mjNAK",
        "colab_type": "code",
        "colab": {
          "autoexec": {
            "startup": false,
            "wait_interval": 0
          }
        },
        "outputId": "e0f9e12a-3e21-44ab-9dba-4937ea9ef271"
      },
      "cell_type": "code",
      "source": [
        "evaluate_and_show_attention('i feel very good .', 'czuję się bardzo dobrze .')"
      ],
      "execution_count": 0,
      "outputs": [
        {
          "output_type": "stream",
          "text": [
            "> i feel very good .\n",
            "= czuję się bardzo dobrze .\n",
            "< czuję się bardzo dobrze . <EOS>\n"
          ],
          "name": "stdout"
        },
        {
          "output_type": "display_data",
          "data": {
            "image/png": "[encoded data removed]",
            "text/plain": [
              "<Figure size 640x480 with 2 Axes>"
            ]
          },
          "metadata": {
            "tags": []
          }
        }
      ]
    },
    {
      "metadata": {
        "id": "QE9BdY7RjNAL",
        "colab_type": "code",
        "colab": {
          "autoexec": {
            "startup": false,
            "wait_interval": 0
          }
        },
        "outputId": "26621b5e-af0d-4635-b66f-98616f7c6d42"
      },
      "cell_type": "code",
      "source": [
        "evaluate_and_show_attention(\"we've been here an hour .\", 'jesteśmy tutaj godzinę .')"
      ],
      "execution_count": 0,
      "outputs": [
        {
          "output_type": "stream",
          "text": [
            "> we've been here an hour .\n",
            "= jesteśmy tutaj godzinę .\n",
            "< jesteśmy tutaj godzinę . <EOS>\n"
          ],
          "name": "stdout"
        },
        {
          "output_type": "display_data",
          "data": {
            "image/png": "[encoded data removed]",
            "text/plain": [
              "<Figure size 640x480 with 2 Axes>"
            ]
          },
          "metadata": {
            "tags": []
          }
        }
      ]
    },
    {
      "metadata": {
        "id": "8qyorxdcjNAM",
        "colab_type": "code",
        "colab": {
          "autoexec": {
            "startup": false,
            "wait_interval": 0
          }
        },
        "outputId": "06852f27-c699-4d83-d9f1-5e6613a8da1d"
      },
      "cell_type": "code",
      "source": [
        "evaluate_and_show_attention(\"i don't like it .\", 'nie lubię tego .')"
      ],
      "execution_count": 0,
      "outputs": [
        {
          "output_type": "stream",
          "text": [
            "> i don't like it .\n",
            "= nie lubię tego .\n",
            "< to mi się nie podoba . <EOS>\n"
          ],
          "name": "stdout"
        },
        {
          "output_type": "display_data",
          "data": {
            "image/png": "[encoded data removed]",
            "text/plain": [
              "<Figure size 640x480 with 2 Axes>"
            ]
          },
          "metadata": {
            "tags": []
          }
        }
      ]
    },
    {
      "metadata": {
        "id": "8zBBVHQXjNAS",
        "colab_type": "text"
      },
      "cell_type": "markdown",
      "source": [
        "# Exercises\n",
        "\n",
        "* Try with a different dataset\n",
        "    * Another language pair\n",
        "    * Human &rarr; Machine (e.g. IOT commands)\n",
        "    * Chat &rarr; Response\n",
        "    * Question &rarr; Answer\n",
        "* Replace the embedding pre-trained word embeddings such as word2vec or GloVe\n",
        "* Try with more layers, more hidden units, and more sentences. Compare the training time and results.\n",
        "* If you use a translation file where pairs have two of the same phrase (`I am test \\t I am test`), you can use this as an autoencoder. Try this:\n",
        "    * Train as an autoencoder\n",
        "    * Save only the Encoder network\n",
        "    * Train a new Decoder for translation from there"
      ]
    }
  ]
}