{
 "cells": [
  {
   "cell_type": "markdown",
   "metadata": {
    "colab_type": "text",
    "id": "iVsYe7S5XM5G"
   },
   "source": [
    "![](https://i.imgur.com/eBRPvWB.png)\n",
    "\n",
    "# Practical PyTorch: Generating Shakespeare with a Character-Level RNN\n",
    "\n",
    "[In the RNN classification tutorial](https://github.com/spro/practical-pytorch/blob/master/char-rnn-classification/char-rnn-classification.ipynb) we used a RNN to classify text one character at a time. This time we'll generate text one character at a time.\n",
    "\n",
    "```\n",
    "> python generate.py -n 500\n",
    "\n",
    "PAOLTREDN:\n",
    "Let, yil exter shis owrach we so sain, fleas,\n",
    "Be wast the shall deas, puty sonse my sheete.\n",
    "\n",
    "BAUFIO:\n",
    "Sirh carrow out with the knonuot my comest sifard queences\n",
    "O all a man unterd.\n",
    "\n",
    "PROMENSJO:\n",
    "Ay, I to Heron, I sack, againous; bepear, Butch,\n",
    "An as shalp will of that seal think.\n",
    "\n",
    "NUKINUS:\n",
    "And house it to thee word off hee:\n",
    "And thou charrota the son hange of that shall denthand\n",
    "For the say hor you are of I folles muth me?\n",
    "```\n",
    "\n",
    "This one might make you question the series title &mdash; \"is that really practical?\" However, these sorts of generative models form the basis of machine translation, image captioning, question answering and more. See the [Sequence to Sequence Translation tutorial](https://github.com/spro/practical-pytorch/blob/master/seq2seq-translation/seq2seq-translation.ipynb) for more on that topic."
   ]
  },
  {
   "cell_type": "markdown",
   "metadata": {
    "colab_type": "text",
    "id": "WamMk47AXM5I"
   },
   "source": [
    "# Recommended Reading\n",
    "\n",
    "I assume you have at least installed PyTorch, know Python, and understand Tensors:\n",
    "\n",
    "* http://pytorch.org/ For installation instructions\n",
    "* [Deep Learning with PyTorch: A 60-minute Blitz](https://github.com/pytorch/tutorials/blob/master/Deep%20Learning%20with%20PyTorch.ipynb) to get started with PyTorch in general\n",
    "* [jcjohnson's PyTorch examples](https://github.com/jcjohnson/pytorch-examples) for an in depth overview\n",
    "* [Introduction to PyTorch for former Torchies](https://github.com/pytorch/tutorials/blob/master/Introduction%20to%20PyTorch%20for%20former%20Torchies.ipynb) if you are former Lua Torch user\n",
    "\n",
    "It would also be useful to know about RNNs and how they work:\n",
    "\n",
    "* [The Unreasonable Effectiveness of Recurrent Neural Networks](http://karpathy.github.io/2015/05/21/rnn-effectiveness/) shows a bunch of real life examples\n",
    "* [Understanding LSTM Networks](http://colah.github.io/posts/2015-08-Understanding-LSTMs/) is about LSTMs specifically but also informative about RNNs in general\n",
    "\n",
    "Also see these related tutorials from the series:\n",
    "\n",
    "* [Classifying Names with a Character-Level RNN](https://github.com/spro/practical-pytorch/blob/master/char-rnn-classification/char-rnn-classification.ipynb) uses an RNN for classification\n",
    "* [Generating Names with a Conditional Character-Level RNN](https://github.com/spro/practical-pytorch/blob/master/conditional-char-rnn/conditional-char-rnn.ipynb) builds on this model to add a category as input"
   ]
  },
  {
   "cell_type": "markdown",
   "metadata": {
    "colab_type": "text",
    "id": "lGN3xU17XpWC"
   },
   "source": [
    "# setup"
   ]
  },
  {
   "cell_type": "code",
   "execution_count": 20,
   "metadata": {
    "colab": {
     "autoexec": {
      "startup": false,
      "wait_interval": 0
     },
     "base_uri": "https://localhost:8080/",
     "height": 34
    },
    "colab_type": "code",
    "executionInfo": {
     "elapsed": 3988,
     "status": "ok",
     "timestamp": 1524581968244,
     "user": {
      "displayName": "Kamsiulek Malutki",
      "photoUrl": "https://lh3.googleusercontent.com/a/default-user=s128",
      "userId": "118138569128465864586"
     },
     "user_tz": -120
    },
    "id": "kkkCqSEBXsYh",
    "outputId": "00d599a8-12a7-4ca3-a078-65c28e1c0862"
   },
   "outputs": [
    {
     "name": "stdout",
     "output_type": "stream",
     "text": [
      "/Users/wcz/Google Drive/fastai_seminars.gt/rnn_generator_sylables\n"
     ]
    }
   ],
   "source": [
    "!pwd"
   ]
  },
  {
   "cell_type": "code",
   "execution_count": 5,
   "metadata": {
    "colab": {
     "autoexec": {
      "startup": false,
      "wait_interval": 0
     }
    },
    "colab_type": "code",
    "id": "80ZjgATAXsVn"
   },
   "outputs": [],
   "source": [
    "from pathlib import Path\n",
    "dataset_path = Path('data/rnn_generator'); dataset_path\n",
    "tmp_path = dataset_path / 'tmp/'\n",
    "!mkdir -p $tmp_path"
   ]
  },
  {
   "cell_type": "code",
   "execution_count": 6,
   "metadata": {},
   "outputs": [
    {
     "data": {
      "text/plain": [
       "PosixPath('data/rnn_generator')"
      ]
     },
     "execution_count": 6,
     "metadata": {},
     "output_type": "execute_result"
    }
   ],
   "source": [
    "dataset_path"
   ]
  },
  {
   "cell_type": "code",
   "execution_count": 13,
   "metadata": {
    "colab": {
     "autoexec": {
      "startup": false,
      "wait_interval": 0
     },
     "base_uri": "https://localhost:8080/",
     "height": 136
    },
    "colab_type": "code",
    "executionInfo": {
     "elapsed": 1549,
     "status": "ok",
     "timestamp": 1524653633236,
     "user": {
      "displayName": "Wojtek Czarnowski",
      "photoUrl": "//lh6.googleusercontent.com/-Sx8k456RbyI/AAAAAAAAAAI/AAAAAAAAEVg/Bn2jWaJ_hM0/s50-c-k-no/photo.jpg",
      "userId": "115130698336476923651"
     },
     "user_tz": 0
    },
    "id": "n4wAU8Y6XsSl",
    "outputId": "3f30dafc-74c3-4317-8651-0c8d04ac5742"
   },
   "outputs": [
    {
     "name": "stdout",
     "output_type": "stream",
     "text": [
      "total 512\n",
      "drwxr-xr-x  4 wcz  staff   128B Apr 30 13:27 \u001b[34m.\u001b[m\u001b[m/\n",
      "drwxr-xr-x  4 wcz  staff   128B Apr 30 13:27 \u001b[34m..\u001b[m\u001b[m/\n",
      "-rw-rw-rw-@ 1 wcz  staff   218K Apr 23 19:58 pan_tadeusz.txt\n",
      "drwxr-xr-x  2 wcz  staff    64B Apr 30 13:27 \u001b[34mtmp\u001b[m\u001b[m/\n"
     ]
    }
   ],
   "source": [
    "ls -lah $dataset_path/"
   ]
  },
  {
   "cell_type": "markdown",
   "metadata": {
    "colab_type": "text",
    "id": "2tJDT2lCceZL"
   },
   "source": [
    "# vm monitoring"
   ]
  },
  {
   "cell_type": "code",
   "execution_count": 14,
   "metadata": {
    "colab": {
     "autoexec": {
      "startup": false,
      "wait_interval": 0
     }
    },
    "colab_type": "code",
    "id": "bKdCiolHcg4e"
   },
   "outputs": [],
   "source": [
    "import os\n",
    "import psutil\n",
    "\n",
    "def print_memsize():\n",
    "  process = psutil.Process(os.getpid())\n",
    "  print(f'{process.memory_info().rss / 1024**3:.5} GB')"
   ]
  },
  {
   "cell_type": "code",
   "execution_count": 15,
   "metadata": {
    "colab": {
     "autoexec": {
      "startup": false,
      "wait_interval": 0
     },
     "base_uri": "https://localhost:8080/",
     "height": 34
    },
    "colab_type": "code",
    "executionInfo": {
     "elapsed": 537,
     "status": "ok",
     "timestamp": 1524653634376,
     "user": {
      "displayName": "Wojtek Czarnowski",
      "photoUrl": "//lh6.googleusercontent.com/-Sx8k456RbyI/AAAAAAAAAAI/AAAAAAAAEVg/Bn2jWaJ_hM0/s50-c-k-no/photo.jpg",
      "userId": "115130698336476923651"
     },
     "user_tz": 0
    },
    "id": "diBUUyOociRy",
    "outputId": "df1553c3-49c8-4ca5-f313-ab952c2438ec"
   },
   "outputs": [
    {
     "name": "stdout",
     "output_type": "stream",
     "text": [
      "0.037697 GB\n"
     ]
    }
   ],
   "source": [
    "print_memsize()"
   ]
  },
  {
   "cell_type": "code",
   "execution_count": 16,
   "metadata": {
    "colab": {
     "autoexec": {
      "startup": false,
      "wait_interval": 0
     },
     "base_uri": "https://localhost:8080/",
     "height": 33
    },
    "colab_type": "code",
    "executionInfo": {
     "elapsed": 1936,
     "status": "ok",
     "timestamp": 1524677119088,
     "user": {
      "displayName": "Wojtek Czarnowski",
      "photoUrl": "//lh6.googleusercontent.com/-Sx8k456RbyI/AAAAAAAAAAI/AAAAAAAAEVg/Bn2jWaJ_hM0/s50-c-k-no/photo.jpg",
      "userId": "115130698336476923651"
     },
     "user_tz": -120
    },
    "id": "TuHoo0ARtjz_",
    "outputId": "ce4f75e9-d71b-42eb-d22e-2e4ec6a65c4a"
   },
   "outputs": [
    {
     "name": "stdout",
     "output_type": "stream",
     "text": [
      "13:28  up 12 days,  3:41, 5 users, load averages: 1.56 1.82 1.79\n"
     ]
    }
   ],
   "source": [
    "!uptime"
   ]
  },
  {
   "cell_type": "markdown",
   "metadata": {
    "colab_type": "text",
    "id": "2cIY0S4g0gZo"
   },
   "source": [
    "# GPU"
   ]
  },
  {
   "cell_type": "code",
   "execution_count": 17,
   "metadata": {
    "colab": {
     "autoexec": {
      "startup": false,
      "wait_interval": 0
     },
     "base_uri": "https://localhost:8080/",
     "height": 34
    },
    "colab_type": "code",
    "executionInfo": {
     "elapsed": 689,
     "status": "ok",
     "timestamp": 1524653640696,
     "user": {
      "displayName": "Wojtek Czarnowski",
      "photoUrl": "//lh6.googleusercontent.com/-Sx8k456RbyI/AAAAAAAAAAI/AAAAAAAAEVg/Bn2jWaJ_hM0/s50-c-k-no/photo.jpg",
      "userId": "115130698336476923651"
     },
     "user_tz": 0
    },
    "id": "2hTjsshick9K",
    "outputId": "dd5df0b3-a8de-4efe-af91-030e9b0f6f3d"
   },
   "outputs": [
    {
     "name": "stdout",
     "output_type": "stream",
     "text": [
      "USE_GPU=False\n"
     ]
    }
   ],
   "source": [
    "import torch\n",
    "\n",
    "USE_GPU = torch.cuda.is_available(); \n",
    "# USE_GPU = False; \n",
    "\n",
    "print(f'USE_GPU={USE_GPU}')\n",
    "\n",
    "def to_gpu(x, *args, **kwargs):\n",
    "    return x.cuda(*args, **kwargs) if USE_GPU else x"
   ]
  },
  {
   "cell_type": "markdown",
   "metadata": {
    "colab_type": "text",
    "id": "g8KbaMvrXM5J"
   },
   "source": [
    "# Prepare data\n",
    "\n",
    "The file we are using is a plain text file. We turn any potential unicode characters into plain ASCII by using the `unidecode` package (which you can install via `pip` or `conda`)."
   ]
  },
  {
   "cell_type": "code",
   "execution_count": 18,
   "metadata": {
    "colab": {
     "autoexec": {
      "startup": false,
      "wait_interval": 0
     }
    },
    "colab_type": "code",
    "id": "YLH7c2gwoLlP"
   },
   "outputs": [],
   "source": [
    "# fn = 'data/tiny-shakespeare.txt'\n",
    "# fn = dataset_path / 'mickiewicz.txt'\n",
    "# fn = dataset_path / 'witkacy_szewcy.txt'\n",
    "fn = dataset_path / 'pan_tadeusz.txt'"
   ]
  },
  {
   "cell_type": "code",
   "execution_count": 19,
   "metadata": {
    "colab": {
     "autoexec": {
      "startup": false,
      "wait_interval": 0
     },
     "base_uri": "https://localhost:8080/",
     "height": 68
    },
    "colab_type": "code",
    "executionInfo": {
     "elapsed": 572,
     "status": "ok",
     "timestamp": 1524653643979,
     "user": {
      "displayName": "Wojtek Czarnowski",
      "photoUrl": "//lh6.googleusercontent.com/-Sx8k456RbyI/AAAAAAAAAAI/AAAAAAAAEVg/Bn2jWaJ_hM0/s50-c-k-no/photo.jpg",
      "userId": "115130698336476923651"
     },
     "user_tz": 0
    },
    "id": "g9H83p3sXM5L",
    "outputId": "91debee2-7706-4fe4-fc03-427ecf7655bc"
   },
   "outputs": [
    {
     "name": "stdout",
     "output_type": "stream",
     "text": [
      "file_len = 203037\n",
      "['\\n', ' ', '!', '\"', '%', \"'\", '(', ')', ',', '-']\n",
      "89\n"
     ]
    }
   ],
   "source": [
    "# import unidecode\n",
    "import string\n",
    "import random\n",
    "import re\n",
    "\n",
    "# file = unidecode.unidecode(open(fn).read())\n",
    "file = open(fn).read()\n",
    "file_len = len(file)\n",
    "print('file_len =', file_len)\n",
    "\n",
    "# ascii only\n",
    "# all_characters = string.printable\n",
    "# n_characters = len(all_characters)\n",
    "\n",
    "\n",
    "# all chars found in file\n",
    "all_characters = sorted(list(set(file))); print(all_characters[:10])\n",
    "n_characters = len(all_characters); print(n_characters)"
   ]
  },
  {
   "cell_type": "markdown",
   "metadata": {
    "colab_type": "text",
    "id": "lL_XOG-fXM5T"
   },
   "source": [
    "To make inputs out of this big string of data, we will be splitting it into chunks."
   ]
  },
  {
   "cell_type": "code",
   "execution_count": 9,
   "metadata": {
    "colab": {
     "autoexec": {
      "startup": false,
      "wait_interval": 0
     },
     "base_uri": "https://localhost:8080/",
     "height": 221
    },
    "colab_type": "code",
    "executionInfo": {
     "elapsed": 509,
     "status": "ok",
     "timestamp": 1524653644841,
     "user": {
      "displayName": "Wojtek Czarnowski",
      "photoUrl": "//lh6.googleusercontent.com/-Sx8k456RbyI/AAAAAAAAAAI/AAAAAAAAEVg/Bn2jWaJ_hM0/s50-c-k-no/photo.jpg",
      "userId": "115130698336476923651"
     },
     "user_tz": 0
    },
    "id": "_zwmRSAHXM5T",
    "outputId": "2b3be3de-3d66-4d4f-e993-cdfad27e3226"
   },
   "outputs": [
    {
     "name": "stdout",
     "output_type": "stream",
     "text": [
      "ki,\n",
      "Nie daje czasu szukać mody i gawędki.\n",
      "Teraz grzmi oręż, a nam starym serca rosną,\n",
      "Że znowu o Polakach tak na świecie głośno;\n",
      "Jest sława, a więc będzie i Rzeczpospolita!\n",
      "Zawżdy z wawrzynów drzewo wolności wykwita.\n",
      "Tylko smutno, że nam ach! tak się lata wleką\n",
      "\n",
      "W nieczynności! a oni tak zawsze daleko!\n",
      "Tak długo czekać! nawet tak randka nowina --\n",
      "Ojcze Robaku (ciszéj rzekł do Bernardyna)\n",
      "Słyszałem,\n"
     ]
    }
   ],
   "source": [
    "chunk_len = 400\n",
    "\n",
    "def random_chunk():\n",
    "    start_index = random.randint(0, file_len - chunk_len)\n",
    "    end_index = start_index + chunk_len + 1\n",
    "    return file[start_index:end_index]\n",
    "\n",
    "print(random_chunk())"
   ]
  },
  {
   "cell_type": "markdown",
   "metadata": {
    "colab_type": "text",
    "id": "X5cFLx6WXM5X"
   },
   "source": [
    "# Build the Model\n",
    "\n",
    "This model will take as input the character for step $t_{-1}$ and is expected to output the next character $t$. There are three layers - one linear layer that encodes the input character into an internal state, one GRU layer (which may itself have multiple layers) that operates on that internal state and a hidden state, and a decoder layer that outputs the probability distribution."
   ]
  },
  {
   "cell_type": "code",
   "execution_count": null,
   "metadata": {
    "colab": {
     "autoexec": {
      "startup": false,
      "wait_interval": 0
     }
    },
    "colab_type": "code",
    "id": "tZ8chQcVXM5X"
   },
   "outputs": [],
   "source": [
    "import torch\n",
    "import torch.nn as nn\n",
    "from torch.autograd import Variable\n",
    "\n",
    "class RNN(nn.Module):\n",
    "    def __init__(self, input_size, hidden_size, output_size, n_layers=1):\n",
    "        super(RNN, self).__init__()\n",
    "        self.input_size = input_size\n",
    "        self.hidden_size = hidden_size\n",
    "        self.output_size = output_size\n",
    "        self.n_layers = n_layers\n",
    "        \n",
    "        self.encoder = nn.Embedding(input_size, hidden_size)\n",
    "        self.gru = nn.GRU(hidden_size, hidden_size, n_layers)\n",
    "        self.decoder = nn.Linear(hidden_size, output_size)\n",
    "    \n",
    "    def forward(self, input, hidden):\n",
    "        input = self.encoder(input.view(1, -1))\n",
    "        output, hidden = self.gru(input.view(1, 1, -1), hidden)\n",
    "        output = self.decoder(output.view(1, -1))\n",
    "        return output, hidden\n",
    "\n",
    "    def init_hidden(self):\n",
    "        return Variable(to_gpu(torch.zeros(self.n_layers, 1, self.hidden_size)))"
   ]
  },
  {
   "cell_type": "markdown",
   "metadata": {
    "colab_type": "text",
    "id": "62XSRFgkXM5Z"
   },
   "source": [
    "# Inputs and Targets"
   ]
  },
  {
   "cell_type": "markdown",
   "metadata": {
    "colab_type": "text",
    "id": "UaOPvn0rXM5Z"
   },
   "source": [
    "Each chunk will be turned into a tensor, specifically a `LongTensor` (used for integer values), by looping through the characters of the string and looking up the index of each character in `all_characters`."
   ]
  },
  {
   "cell_type": "code",
   "execution_count": 11,
   "metadata": {
    "colab": {
     "autoexec": {
      "startup": false,
      "wait_interval": 0
     },
     "base_uri": "https://localhost:8080/",
     "height": 255
    },
    "colab_type": "code",
    "executionInfo": {
     "elapsed": 3008,
     "status": "ok",
     "timestamp": 1524653649012,
     "user": {
      "displayName": "Wojtek Czarnowski",
      "photoUrl": "//lh6.googleusercontent.com/-Sx8k456RbyI/AAAAAAAAAAI/AAAAAAAAEVg/Bn2jWaJ_hM0/s50-c-k-no/photo.jpg",
      "userId": "115130698336476923651"
     },
     "user_tz": 0
    },
    "id": "q0H2nwMMXM5a",
    "outputId": "9fcc34f1-27a6-4ee0-e90c-9ec90ec99d35"
   },
   "outputs": [
    {
     "name": "stdout",
     "output_type": "stream",
     "text": [
      "Variable containing:\n",
      " 41\n",
      " 52\n",
      " 41\n",
      "  1\n",
      " 53\n",
      " 41\n",
      "  1\n",
      " 51\n",
      " 55\n",
      " 59\n",
      " 41\n",
      "[torch.cuda.LongTensor of size 11 (GPU 0)]\n",
      "\n"
     ]
    }
   ],
   "source": [
    "# Turn string into list of longs\n",
    "def char_tensor(string):\n",
    "    tensor = torch.zeros(len(string)).long()\n",
    "    for c in range(len(string)):\n",
    "        tensor[c] = all_characters.index(string[c])\n",
    "    return Variable(to_gpu(tensor))\n",
    "\n",
    "print(char_tensor('ala ma kota'))"
   ]
  },
  {
   "cell_type": "markdown",
   "metadata": {
    "colab_type": "text",
    "id": "0Su49JvFXM5d"
   },
   "source": [
    "Finally we can assemble a pair of input and target tensors for training, from a random chunk. The input will be all characters *up to the last*, and the target will be all characters *from the first*. So if our chunk is \"abc\" the input will correspond to \"ab\" while the target is \"bc\"."
   ]
  },
  {
   "cell_type": "code",
   "execution_count": null,
   "metadata": {
    "colab": {
     "autoexec": {
      "startup": false,
      "wait_interval": 0
     }
    },
    "colab_type": "code",
    "id": "mLzzsbTRXM5d"
   },
   "outputs": [],
   "source": [
    "def random_training_set():    \n",
    "    chunk = random_chunk()\n",
    "    inp = char_tensor(chunk[:-1])\n",
    "    target = char_tensor(chunk[1:])\n",
    "    return inp, target"
   ]
  },
  {
   "cell_type": "markdown",
   "metadata": {
    "colab_type": "text",
    "id": "vSJ_szQTXM5f"
   },
   "source": [
    "# Evaluating\n",
    "\n",
    "To evaluate the network we will feed one character at a time, use the outputs of the network as a probability distribution for the next character, and repeat. To start generation we pass a priming string to start building up the hidden state, from which we then generate one character at a time."
   ]
  },
  {
   "cell_type": "code",
   "execution_count": null,
   "metadata": {
    "colab": {
     "autoexec": {
      "startup": false,
      "wait_interval": 0
     }
    },
    "colab_type": "code",
    "id": "2ecqC4rWXM5f"
   },
   "outputs": [],
   "source": [
    "def evaluate(prime_str='A', predict_len=100, temperature=0.8):\n",
    "    hidden = decoder.init_hidden()\n",
    "    prime_input = char_tensor(prime_str)\n",
    "    predicted = prime_str\n",
    "\n",
    "    # Use priming string to \"build up\" hidden state\n",
    "    for p in range(len(prime_str) - 1):\n",
    "        _, hidden = decoder(prime_input[p], hidden)\n",
    "    inp = prime_input[-1]\n",
    "    \n",
    "    for p in range(predict_len):\n",
    "        output, hidden = decoder(inp, hidden)\n",
    "        \n",
    "        # Sample from the network as a multinomial distribution\n",
    "        output_dist = output.data.view(-1).div(temperature).exp()\n",
    "        top_i = torch.multinomial(output_dist, 1)[0]\n",
    "        \n",
    "        # Add predicted character to string and use as next input\n",
    "        predicted_char = all_characters[top_i]\n",
    "        predicted += predicted_char\n",
    "        inp = char_tensor(predicted_char)\n",
    "\n",
    "    return predicted"
   ]
  },
  {
   "cell_type": "markdown",
   "metadata": {
    "colab_type": "text",
    "id": "lZY0fPgEXM5h"
   },
   "source": [
    "# Training"
   ]
  },
  {
   "cell_type": "markdown",
   "metadata": {
    "colab_type": "text",
    "id": "-pM5T97tXM5h"
   },
   "source": [
    "A helper to print the amount of time passed:"
   ]
  },
  {
   "cell_type": "code",
   "execution_count": null,
   "metadata": {
    "colab": {
     "autoexec": {
      "startup": false,
      "wait_interval": 0
     }
    },
    "colab_type": "code",
    "id": "hQnLeX-TXM5h"
   },
   "outputs": [],
   "source": [
    "import time, math\n",
    "\n",
    "def time_since(since):\n",
    "    s = time.time() - since\n",
    "    m = math.floor(s / 60)\n",
    "    s -= m * 60\n",
    "    return '%dm %ds' % (m, s)"
   ]
  },
  {
   "cell_type": "markdown",
   "metadata": {
    "colab_type": "text",
    "id": "0pntPTWEXM5i"
   },
   "source": [
    "The main training function"
   ]
  },
  {
   "cell_type": "code",
   "execution_count": null,
   "metadata": {
    "colab": {
     "autoexec": {
      "startup": false,
      "wait_interval": 0
     }
    },
    "colab_type": "code",
    "id": "QKb7-MeXXM5j"
   },
   "outputs": [],
   "source": [
    "def train(inp, target):\n",
    "    hidden = decoder.init_hidden()\n",
    "    decoder.zero_grad()\n",
    "    loss = 0\n",
    "\n",
    "    for c in range(chunk_len):\n",
    "        output, hidden = decoder(inp[c], hidden)\n",
    "        loss += criterion(output, target[c])\n",
    "\n",
    "    loss.backward()\n",
    "    decoder_optimizer.step()\n",
    "\n",
    "    return loss.data[0] / chunk_len"
   ]
  },
  {
   "cell_type": "markdown",
   "metadata": {
    "colab_type": "text",
    "id": "tyo69fakXM5k"
   },
   "source": [
    "Then we define the training parameters, instantiate the model, and start training:"
   ]
  },
  {
   "cell_type": "code",
   "execution_count": 16,
   "metadata": {
    "colab": {
     "autoexec": {
      "startup": false,
      "wait_interval": 0
     },
     "base_uri": "https://localhost:8080/",
     "height": 4321
    },
    "colab_type": "code",
    "executionInfo": {
     "elapsed": 7879078,
     "status": "ok",
     "timestamp": 1524661530421,
     "user": {
      "displayName": "Wojtek Czarnowski",
      "photoUrl": "//lh6.googleusercontent.com/-Sx8k456RbyI/AAAAAAAAAAI/AAAAAAAAEVg/Bn2jWaJ_hM0/s50-c-k-no/photo.jpg",
      "userId": "115130698336476923651"
     },
     "user_tz": 0
    },
    "id": "ILThkaRPXM5k",
    "outputId": "0938f6c7-c7ac-476a-d885-85af92e51287"
   },
   "outputs": [
    {
     "name": "stdout",
     "output_type": "stream",
     "text": [
      "RNN(\n",
      "  (encoder): Embedding(89, 400)\n",
      "  (gru): GRU(400, 400, num_layers=3)\n",
      "  (decoder): Linear(in_features=400, out_features=89)\n",
      ")\n"
     ]
    },
    {
     "name": "stderr",
     "output_type": "stream",
     "text": [
      "  3%|▎         | 99/3000 [04:23<2:08:51,  2.67s/it]"
     ]
    },
    {
     "name": "stdout",
     "output_type": "stream",
     "text": [
      "\n",
      "[4m 26s (100 3%) 2.6981]\n",
      "Whli owie chi jicime siem  zywie  rrzercz zrywprhorzy mią to w roniie, irze sionię  ki jadziedzica zrzemo rzopoto nizty w śżyczy s śmimo si mi szzrzy iczam szny,\n",
      "\n",
      "Po waciajm ch konie si i y riwiem sie c \n",
      "\n"
     ]
    },
    {
     "name": "stderr",
     "output_type": "stream",
     "text": [
      "  7%|▋         | 199/3000 [08:48<2:03:53,  2.65s/it]"
     ]
    },
    {
     "name": "stdout",
     "output_type": "stream",
     "text": [
      "\n",
      "[8m 51s (200 6%) 2.5770]\n",
      "Whiewie pawiemwiemł wie zadzi sęlerzysnie,\n",
      "Wiwianie wiwiécich\n",
      "Lam podrał czynomi wurze wkał rłodzae ci mudał młordało ona nie oni ewiędziekli.\n",
      "\n",
      "««Wi punieduwiéł je wrzetacę wi w grzymroby znie zykru wak \n",
      "\n"
     ]
    },
    {
     "name": "stderr",
     "output_type": "stream",
     "text": [
      " 10%|▉         | 299/3000 [13:11<1:59:12,  2.65s/it]"
     ]
    },
    {
     "name": "stdout",
     "output_type": "stream",
     "text": [
      "\n",
      "[13m 14s (300 10%) 2.6266]\n",
      "Whaciegi, głogów tusząc fłych skicy!\n",
      "Piały,\n",
      "Ogarodanéj musok wieprzechy na biéj tów sielna,\n",
      "Ońchnićł i się omiaby, w ony rugi, kiłe! na w pomogo się na bów kosieje!\n",
      "Bo przedy chłużek zastróg róm kłó str \n",
      "\n"
     ]
    },
    {
     "name": "stderr",
     "output_type": "stream",
     "text": [
      " 13%|█▎        | 399/3000 [17:35<1:54:41,  2.65s/it]"
     ]
    },
    {
     "name": "stdout",
     "output_type": "stream",
     "text": [
      "\n",
      "[17m 38s (400 13%) 2.4263]\n",
      "Whata sz matawie się o redwe się kanali techych w słożynianił krześci wanoczenie ktumi ła w ć s cała wyczaną dukwił, la kucić pomam dźla docodziczyła poddym czydziać kocajiącka! rycostrodka wywani się c \n",
      "\n"
     ]
    },
    {
     "name": "stderr",
     "output_type": "stream",
     "text": [
      " 17%|█▋        | 499/3000 [21:58<1:50:09,  2.64s/it]"
     ]
    },
    {
     "name": "stdout",
     "output_type": "stream",
     "text": [
      "\n",
      "[22m 1s (500 16%) 2.3191]\n",
      "Whak mielaczy;\n",
      "A głowaść zwieźjak się w jak po stała nieści,\n",
      "Acze  czeci, jak marzytarzą gwa zawach ni straczczaja,\n",
      "Bałami kocho zosz droza,\n",
      "Ale za mielają czarzyk za i poznar krópia prawni, powiszwanéj \n",
      "\n"
     ]
    },
    {
     "name": "stderr",
     "output_type": "stream",
     "text": [
      " 20%|█▉        | 599/3000 [26:20<1:45:36,  2.64s/it]"
     ]
    },
    {
     "name": "stdout",
     "output_type": "stream",
     "text": [
      "\n",
      "[26m 23s (600 20%) 2.4612]\n",
      "Whacząc w dumiąc ludy\n",
      "Sawnéprych,\n",
      "Wszy s laty a wymygli brędzią naśsy mowszy brzędzyny; słyka rodzieta,\n",
      "Szerdzinicy s smu nad urzykom się i że drabiadiny\n",
      "Tado u mym szczuny\n",
      "Grzed goskienniku oszysią zmu \n",
      "\n"
     ]
    },
    {
     "name": "stderr",
     "output_type": "stream",
     "text": [
      " 23%|██▎       | 699/3000 [30:44<1:41:11,  2.64s/it]"
     ]
    },
    {
     "name": "stdout",
     "output_type": "stream",
     "text": [
      "\n",
      "[30m 47s (700 23%) 2.2175]\n",
      "Whyczy mieli, jest rodeże wieni\n",
      "Strzykę zarzą, w Przedzy był przecz z przesz rosze za będzię talém mu nie się rudy krąś; braz cie  popiele uczech znada jutw, rętem czyle i miło tyją by, głody tak w tóle \n",
      "\n"
     ]
    },
    {
     "name": "stderr",
     "output_type": "stream",
     "text": [
      " 27%|██▋       | 799/3000 [35:07<1:36:44,  2.64s/it]"
     ]
    },
    {
     "name": "stdout",
     "output_type": "stream",
     "text": [
      "\n",
      "[35m 10s (800 26%) 2.1725]\n",
      "Whać z tawo, ubyć sławną s tabli się starturą obniść, koli;\n",
      "Pesta sasiego pale to zadlewi był ktrzecz tajem spodając cząsz się rzeczę, sławie, cał stoli zwiecierze wzsi szkomo zastwszy.\n",
      "\n",
      "Potoli s posętą \n",
      "\n"
     ]
    },
    {
     "name": "stderr",
     "output_type": "stream",
     "text": [
      " 30%|██▉       | 899/3000 [39:29<1:32:17,  2.64s/it]"
     ]
    },
    {
     "name": "stdout",
     "output_type": "stream",
     "text": [
      "\n",
      "[39m 32s (900 30%) 2.2470]\n",
      "Whażne, patraz papiodej jaki niebka miedzie, d do straze,\n",
      "Prza kusiamsia, pazdać, jego po którach przy zdacha, te złociczach sukliży, czadź widzienie, co w pieściach paczaza, dyba jak plechach, na końco \n",
      "\n"
     ]
    },
    {
     "name": "stderr",
     "output_type": "stream",
     "text": [
      " 33%|███▎      | 999/3000 [43:52<1:27:52,  2.64s/it]"
     ]
    },
    {
     "name": "stdout",
     "output_type": "stream",
     "text": [
      "\n",
      "[43m 55s (1000 33%) 2.3208]\n",
      "Whołodziem zapomiła\n",
      "Iż gosłędzinym kurcią taki wiedzie, tak pięcac się, Zutraz ptakonił niczenia,\n",
      "I między, że się cznami popanieciałsza, że Pużam ciegę piędzyny,\n",
      "                                        \n",
      "\n"
     ]
    },
    {
     "name": "stderr",
     "output_type": "stream",
     "text": [
      " 37%|███▋      | 1099/3000 [48:13<1:23:25,  2.63s/it]"
     ]
    },
    {
     "name": "stdout",
     "output_type": "stream",
     "text": [
      "\n",
      "[48m 16s (1100 36%) 2.2826]\n",
      "Whać być: tam tLégtrzynągcą wartrania,\n",
      "Odeż natło, drzeszy dworzy\n",
      "Jeżśna, tale szczytniéj sodów.\n",
      "Ożyły\n",
      "I z zbodził stoty wrzyściał;\n",
      "Jeżeli s téchu w głowy.\n",
      "Wznienie w niefięzło się Podrząd na do w ury,\n",
      " \n",
      "\n"
     ]
    },
    {
     "name": "stderr",
     "output_type": "stream",
     "text": [
      " 40%|███▉      | 1199/3000 [52:35<1:18:59,  2.63s/it]"
     ]
    },
    {
     "name": "stdout",
     "output_type": "stream",
     "text": [
      "\n",
      "[52m 38s (1200 40%) 2.1264]\n",
      "Whytarzać nasz zaszczył się siestała,\n",
      "Wdział gdyskał obie stało szaka strzelskiéj niesiedził\n",
      "I i dził Xamusze dza obłajszem mieszeganego, jéj mu niabardonu na stała sam jeszcz,\n",
      "Z piesz Ramienego w znast \n",
      "\n"
     ]
    },
    {
     "name": "stderr",
     "output_type": "stream",
     "text": [
      " 43%|████▎     | 1299/3000 [56:57<1:14:34,  2.63s/it]"
     ]
    },
    {
     "name": "stdout",
     "output_type": "stream",
     "text": [
      "\n",
      "[57m 0s (1300 43%) 2.2270]\n",
      "Whołą»\n",
      "Ponienie spoleninią obyś potętnie!\n",
      "\n",
      "Onnie tém zeknoty upnoty zagrzymo żoniom borzyknęł go pojerzyną:\n",
      "\n",
      "  Gomieciać oburny\n",
      "\n",
      "Tuż zaniotor to w obrazy popynał zamkom;\n",
      "Bo na już nie złodzieszczęło kto \n",
      "\n"
     ]
    },
    {
     "name": "stderr",
     "output_type": "stream",
     "text": [
      " 47%|████▋     | 1399/3000 [1:01:19<1:10:10,  2.63s/it]"
     ]
    },
    {
     "name": "stdout",
     "output_type": "stream",
     "text": [
      "\n",
      "[61m 22s (1400 46%) 2.2493]\n",
      "Whierzem, bi z wistry zwaślićm,\n",
      "Zazatwienszy wiesszegać, sławy, bez zaczęka jesz razem, białem, wysiadziać szyro, myślić zamu,\n",
      "Jostawy, trewa w drodzie, biego, byłem śszany.\n",
      "Głowa po stołotnie,\n",
      "Traby, p \n",
      "\n"
     ]
    },
    {
     "name": "stderr",
     "output_type": "stream",
     "text": [
      " 50%|████▉     | 1499/3000 [1:05:41<1:05:47,  2.63s/it]"
     ]
    },
    {
     "name": "stdout",
     "output_type": "stream",
     "text": [
      "\n",
      "[65m 44s (1500 50%) 2.3593]\n",
      "Whaniała korane\n",
      "Nimeca nowa, ludzieniać, wiatnem mermał osiadł wieni, czoso ściśniudami śmości\n",
      "Makie zamienie na kracznych radzać, -- i na czartwo\n",
      "Sarca taracał ze wierzego na tajana zwiego dzierza, jes \n",
      "\n"
     ]
    },
    {
     "name": "stderr",
     "output_type": "stream",
     "text": [
      " 53%|█████▎    | 1599/3000 [1:10:02<1:01:22,  2.63s/it]"
     ]
    },
    {
     "name": "stdout",
     "output_type": "stream",
     "text": [
      "\n",
      "[70m 5s (1600 53%) 2.1795]\n",
      "Whołononączyny,\n",
      "Maszyku że z nienscyczy pazmycze\n",
      "Dodzi raz przewli\n",
      "Pozrzycie szczymy;\n",
      "A jerząc zaca tych ponąły byłukszy zarą były po należa mał chwieli wiąka\n",
      "W twórzyni znańtem Wonycznych wienym trawą. \n",
      "\n"
     ]
    },
    {
     "name": "stderr",
     "output_type": "stream",
     "text": [
      " 57%|█████▋    | 1699/3000 [1:14:23<56:58,  2.63s/it]"
     ]
    },
    {
     "name": "stdout",
     "output_type": "stream",
     "text": [
      "\n",
      "[74m 26s (1700 56%) 2.1626]\n",
      "Whojmietni tardowa.\n",
      "\n",
      "\n",
      "Od witgły z wróczna roskonie spówry;\n",
      "Chwiżo w wilkieniem opawił rzecznić gróżnił\n",
      "Obia, tam w w Paracał mólnie -- Sitelem, treni i wydroptów\n",
      "Który kolicić, -- Hrabi! rzastem\n",
      "Leczcy  \n",
      "\n"
     ]
    },
    {
     "name": "stderr",
     "output_type": "stream",
     "text": [
      " 60%|█████▉    | 1799/3000 [1:18:45<52:34,  2.63s/it]"
     ]
    },
    {
     "name": "stdout",
     "output_type": "stream",
     "text": [
      "\n",
      "[78m 48s (1800 60%) 2.1891]\n",
      "Whota gała i króg się nóż gd niezscu mała,\n",
      "I dziinana się głowna dawnia, wpodłu głodzna, tak do się ładami śpitał się biąs wie dam głowa tąb żerba\n",
      "Słodka się z gwiał sucząc wycumiał i pał módzani, dzion \n",
      "\n"
     ]
    },
    {
     "name": "stderr",
     "output_type": "stream",
     "text": [
      " 63%|██████▎   | 1899/3000 [1:23:06<48:11,  2.63s/it]"
     ]
    },
    {
     "name": "stdout",
     "output_type": "stream",
     "text": [
      "\n",
      "[83m 9s (1900 63%) 2.1531]\n",
      "Whstarzy oborynne się war tajach zana mata za zyrasy.\n",
      "\n",
      "«I czy wyca zadrząd badawał obasny tekał; trafek to lożał,\n",
      "Ale krafi! Woś środyś onierkę; darubik świed mierzela żedrm w ich pana się na dartka.\n",
      "\n",
      "K \n",
      "\n"
     ]
    },
    {
     "name": "stderr",
     "output_type": "stream",
     "text": [
      " 67%|██████▋   | 1999/3000 [1:27:27<43:47,  2.63s/it]"
     ]
    },
    {
     "name": "stdout",
     "output_type": "stream",
     "text": [
      "\n",
      "[87m 30s (2000 66%) 2.3255]\n",
      "Whodziot pot Re niedak_ wyślewnień «rzenity\n",
      "Kbie, skończyłe Naszki, kale zatodów dod wieświecia,\n",
      "Na o polotkie wilny niecie, ogonną,\n",
      "W szcieść we odwata;\n",
      "O ze się dobogienie nie wstatce wierzegośnie;\n",
      "Na \n",
      "\n"
     ]
    },
    {
     "name": "stderr",
     "output_type": "stream",
     "text": [
      " 70%|██████▉   | 2099/3000 [1:31:49<39:25,  2.62s/it]"
     ]
    },
    {
     "name": "stdout",
     "output_type": "stream",
     "text": [
      "\n",
      "[91m 52s (2100 70%) 2.2949]\n",
      "Whondział wszysty; zwszysczycząc czystwo,\n",
      "Chrogo w ropuszych wyprużyła wedział,\n",
      "W tam wyśle chwałny był strony, w w ża sywu wypięca,\n",
      "Międzieł wylorony wywięty zbuliszy wsię, ktuniał rawadzył zamnielenie \n",
      "\n"
     ]
    },
    {
     "name": "stderr",
     "output_type": "stream",
     "text": [
      " 73%|███████▎  | 2199/3000 [1:36:12<35:02,  2.63s/it]"
     ]
    },
    {
     "name": "stdout",
     "output_type": "stream",
     "text": [
      "\n",
      "[96m 15s (2200 73%) 2.2441]\n",
      "Whaskoszy zwojlicy\n",
      "Stajki, rzędaonię jusichoła;\n",
      "Polis kwięc roskawię niesła:\n",
      "Postarnojski jat trwojskie\n",
      "Coch zając ży więc sptowody,\n",
      "Bo stamniecała mistkał wiski, niUstony.\n",
      "Bo obliczy, chcianiła szyszan \n",
      "\n"
     ]
    },
    {
     "name": "stderr",
     "output_type": "stream",
     "text": [
      " 77%|███████▋  | 2299/3000 [1:40:34<30:40,  2.62s/it]"
     ]
    },
    {
     "name": "stdout",
     "output_type": "stream",
     "text": [
      "\n",
      "[100m 37s (2300 76%) 2.3869]\n",
      "Whatanki, jak, się w jeleczy,\n",
      "Jaki i i miejąc kolemię, biarzy,,\n",
      "Takim się wejdził się i zdobak stardy,\n",
      "Wiąsi różnięta się zarów czelim,\n",
      "Miniże, w kim się Spów, masych się rękawi,\n",
      "W pełabiem, miców o pią \n",
      "\n"
     ]
    },
    {
     "name": "stderr",
     "output_type": "stream",
     "text": [
      " 80%|███████▉  | 2399/3000 [1:44:56<26:17,  2.62s/it]"
     ]
    },
    {
     "name": "stdout",
     "output_type": "stream",
     "text": [
      "\n",
      "[104m 59s (2400 80%) 2.3576]\n",
      "Whodło.\n",
      "\n",
      "W skodziedł w mniewiedź co namogło, że Slimadaiéją strymów knie i taki i o nieboki\n",
      "Niéczywał siezby , Parski,\n",
      "Cuszawiłońcm nika,\n",
      "Czył krzecił wystra niewiedź czynie balskiéj,\n",
      "A łary nim w story \n",
      "\n"
     ]
    },
    {
     "name": "stderr",
     "output_type": "stream",
     "text": [
      " 83%|████████▎ | 2499/3000 [1:49:18<21:54,  2.62s/it]"
     ]
    },
    {
     "name": "stdout",
     "output_type": "stream",
     "text": [
      "\n",
      "[109m 22s (2500 83%) 2.2536]\n",
      "Whonno z lachać siąbie dart, w żelko go ciartnielerk nie\n",
      "Przyjecz strzyczy stoko na gole sąbaty\n",
      "Preszko mię nas jeszcze jezjki może nieszach, sta strat owkastali;\n",
      "Przertów op łasu bratą niemyszci zbonom \n",
      "\n"
     ]
    },
    {
     "name": "stderr",
     "output_type": "stream",
     "text": [
      " 87%|████████▋ | 2599/3000 [1:53:41<17:32,  2.62s/it]"
     ]
    },
    {
     "name": "stdout",
     "output_type": "stream",
     "text": [
      "\n",
      "[113m 44s (2600 86%) 2.3752]\n",
      "Whomestrzyczeniem.»\n",
      "\n",
      "Bas z powrócizał spozniePleżany strawany.\n",
      "Postońżą urzędem,\n",
      "Twiecznędzi wszystkąwał strzeżniem worestem! w miemiżdzi w dwarnie, wpa grzuse\n",
      "Ogościąc jeprważnéj rostem to niebu\n",
      "Buszcz \n",
      "\n"
     ]
    },
    {
     "name": "stderr",
     "output_type": "stream",
     "text": [
      " 90%|████████▉ | 2699/3000 [1:58:04<13:10,  2.62s/it]"
     ]
    },
    {
     "name": "stdout",
     "output_type": "stream",
     "text": [
      "\n",
      "[118m 7s (2700 90%) 2.1845]\n",
      "Whrerm posznnekać nierza leczy\n",
      "Gzeczków lace wstrzeni Palekłym, w cuso mier z Darcewsząc bałaniem mie zwosiło, niechciem\n",
      "Rzekę, Wieczę piechłe,\n",
      "Jadko poszconiu?\n",
      "Pojecznie z z wpopoki mierwsze sucieł,\n",
      "Bo \n",
      "\n"
     ]
    },
    {
     "name": "stderr",
     "output_type": "stream",
     "text": [
      " 93%|█████████▎| 2799/3000 [2:02:28<08:47,  2.63s/it]"
     ]
    },
    {
     "name": "stdout",
     "output_type": "stream",
     "text": [
      "\n",
      "[122m 31s (2800 93%) 2.2805]\n",
      "Whący,\n",
      "Wystym pusztsiak i jedkomy drostłaców się napzydenicą pramie,\n",
      "Przczość massy duchociłym się muje strzecze,\n",
      "Aż panę widząc się,\n",
      "To Ow padzi, myślićcha, jak wiet niemiewty,\n",
      "Sędzię, mał nie b prwszy \n",
      "\n"
     ]
    },
    {
     "name": "stderr",
     "output_type": "stream",
     "text": [
      " 97%|█████████▋| 2899/3000 [2:06:51<04:25,  2.63s/it]"
     ]
    },
    {
     "name": "stdout",
     "output_type": "stream",
     "text": [
      "\n",
      "[126m 54s (2900 96%) 2.0958]\n",
      "Whustą mycza,\n",
      "Na na wszyscystkie nie w ruszą się grytego mowa,\n",
      "Ściam runem kimem traczyne,\n",
      "Pie towa oczychwejsz cez jak młody\n",
      "Jak trzed łannę pananciem powiedzie wniedy sam Tole na mówi, narowem nie w s \n",
      "\n"
     ]
    },
    {
     "name": "stderr",
     "output_type": "stream",
     "text": [
      "100%|█████████▉| 2999/3000 [2:11:14<00:02,  2.63s/it]"
     ]
    },
    {
     "name": "stdout",
     "output_type": "stream",
     "text": [
      "\n",
      "[131m 17s (3000 100%) 2.5879]\n",
      "Whaca\n",
      "Jakom jak niechać sęcz jednami jęch,\n",
      "Tolnie wradnie, rozumieczn ulski wielki,\n",
      "Mierciali z okroga romno i siadu.\n",
      "Juch rem siegli w parobinie!\n",
      "ITa z zporwająca by oluczy pomezercieli\n",
      "\n",
      "Mie porcy, sta \n",
      "\n"
     ]
    },
    {
     "name": "stderr",
     "output_type": "stream",
     "text": [
      "100%|██████████| 3000/3000 [2:11:17<00:00,  2.63s/it]\n"
     ]
    }
   ],
   "source": [
    "USE_GPU = True\n",
    "n_epochs = 3000   # 2000\n",
    "print_every = 100 # 100\n",
    "plot_every = 1\n",
    "hidden_size = 400 # 100\n",
    "n_layers = 3 # 1\n",
    "lr = 0.005\n",
    "\n",
    "decoder = RNN(n_characters, hidden_size, n_characters, n_layers)\n",
    "if USE_GPU:\n",
    "  decoder.cuda()\n",
    "print(decoder, flush=True)\n",
    "decoder_optimizer = torch.optim.Adam(decoder.parameters(), lr=lr)\n",
    "criterion = nn.CrossEntropyLoss()\n",
    "if USE_GPU:\n",
    "  criterion.cuda()\n",
    "\n",
    "start = time.time()\n",
    "all_losses = []\n",
    "loss_avg = 0\n",
    "\n",
    "from tqdm import tqdm\n",
    "\n",
    "for epoch in tqdm(range(1, n_epochs + 1)):\n",
    "    loss = train(*random_training_set())       \n",
    "    loss_avg += loss\n",
    "\n",
    "    if epoch % print_every == 0:\n",
    "        e = evaluate('Wh', 200)\n",
    "        print('\\n[%s (%d %d%%) %.4f]' % (time_since(start), epoch, epoch / n_epochs * 100, loss))\n",
    "        print(e, '\\n', flush=True)\n",
    "\n",
    "    if epoch % plot_every == 0:\n",
    "        all_losses.append(loss_avg / plot_every)\n",
    "        loss_avg = 0"
   ]
  },
  {
   "cell_type": "markdown",
   "metadata": {
    "colab_type": "text",
    "id": "dXrPD94SXM5m"
   },
   "source": [
    "# Plotting the Training Losses\n",
    "\n",
    "Plotting the historical loss from all_losses shows the network learning:"
   ]
  },
  {
   "cell_type": "code",
   "execution_count": 18,
   "metadata": {
    "colab": {
     "autoexec": {
      "startup": false,
      "wait_interval": 0
     },
     "base_uri": "https://localhost:8080/",
     "height": 280
    },
    "colab_type": "code",
    "executionInfo": {
     "elapsed": 2025,
     "status": "ok",
     "timestamp": 1524669366298,
     "user": {
      "displayName": "Wojtek Czarnowski",
      "photoUrl": "//lh6.googleusercontent.com/-Sx8k456RbyI/AAAAAAAAAAI/AAAAAAAAEVg/Bn2jWaJ_hM0/s50-c-k-no/photo.jpg",
      "userId": "115130698336476923651"
     },
     "user_tz": -120
    },
    "id": "meKCxPo3XM5n",
    "outputId": "1ee1297d-485b-41f1-aa9e-ea2089f6848f"
   },
   "outputs": [
    {
     "data": {
      "text/plain": [
       "[<matplotlib.lines.Line2D at 0x7fe93e4c94a8>]"
      ]
     },
     "execution_count": 18,
     "metadata": {
      "tags": []
     },
     "output_type": "execute_result"
    },
    {
     "data": {
      "image/png": "[encoded data removed]",
      "text/plain": [
       "<matplotlib.figure.Figure at 0x7fe980c36048>"
      ]
     },
     "metadata": {
      "tags": []
     },
     "output_type": "display_data"
    }
   ],
   "source": [
    "import matplotlib.pyplot as plt\n",
    "import matplotlib.ticker as ticker\n",
    "%matplotlib inline\n",
    "\n",
    "plt.figure()\n",
    "plt.plot(all_losses)"
   ]
  },
  {
   "cell_type": "markdown",
   "metadata": {
    "colab_type": "text",
    "id": "2fEFWi-FXM5p"
   },
   "source": [
    "# Evaluating at different \"temperatures\"\n",
    "\n",
    "In the `evaluate` function above, every time a prediction is made the outputs are divided by the \"temperature\" argument passed. Using a higher number makes all actions more equally likely, and thus gives us \"more random\" outputs. Using a lower value (less than 1) makes high probabilities contribute more. As we turn the temperature towards zero we are choosing only the most likely outputs.\n",
    "\n",
    "We can see the effects of this by adjusting the `temperature` argument."
   ]
  },
  {
   "cell_type": "code",
   "execution_count": 19,
   "metadata": {
    "colab": {
     "autoexec": {
      "startup": false,
      "wait_interval": 0
     },
     "base_uri": "https://localhost:8080/",
     "height": 115
    },
    "colab_type": "code",
    "executionInfo": {
     "elapsed": 4165,
     "status": "ok",
     "timestamp": 1524669374175,
     "user": {
      "displayName": "Wojtek Czarnowski",
      "photoUrl": "//lh6.googleusercontent.com/-Sx8k456RbyI/AAAAAAAAAAI/AAAAAAAAEVg/Bn2jWaJ_hM0/s50-c-k-no/photo.jpg",
      "userId": "115130698336476923651"
     },
     "user_tz": -120
    },
    "id": "gBm5ibSnXM5p",
    "outputId": "d4523472-167e-4125-f467-8f561bd93016"
   },
   "outputs": [
    {
     "name": "stdout",
     "output_type": "stream",
     "text": [
      "Thać wlesz, spoja zabanie ośliwa!\n",
      "I sakon tak chwa siodo, w śroty,\n",
      "Na jerz by oborać możnie marumarzał,\n",
      "I cość by obacyś odwarze wimypa! mucze, bywa spymu mówi»\n",
      "Da pryciącą wspodziona kusse\n",
      "Obzyznie klu\n"
     ]
    }
   ],
   "source": [
    "print(evaluate('Th', 200, temperature=0.8))"
   ]
  },
  {
   "cell_type": "markdown",
   "metadata": {
    "colab_type": "text",
    "id": "DnStt-FzXM5r"
   },
   "source": [
    "Lower temperatures are less varied, choosing only the more probable outputs:"
   ]
  },
  {
   "cell_type": "code",
   "execution_count": 20,
   "metadata": {
    "colab": {
     "autoexec": {
      "startup": false,
      "wait_interval": 0
     },
     "base_uri": "https://localhost:8080/",
     "height": 66
    },
    "colab_type": "code",
    "executionInfo": {
     "elapsed": 2412,
     "status": "ok",
     "timestamp": 1524669376720,
     "user": {
      "displayName": "Wojtek Czarnowski",
      "photoUrl": "//lh6.googleusercontent.com/-Sx8k456RbyI/AAAAAAAAAAI/AAAAAAAAEVg/Bn2jWaJ_hM0/s50-c-k-no/photo.jpg",
      "userId": "115130698336476923651"
     },
     "user_tz": -120
    },
    "id": "D3mkq_sCXM5r",
    "outputId": "be77e86b-f50c-46f8-f81c-708a0edf047b"
   },
   "outputs": [
    {
     "name": "stdout",
     "output_type": "stream",
     "text": [
      "Tha się się się się w się się się piliwie się się się się się pięcie,\n",
      "Jak się się w szy wielki się w się się panie,\n",
      "Jak się podzieliwa wielkim się wielki mawanie zam pierwszy wiele wielka się się się si\n"
     ]
    }
   ],
   "source": [
    "print(evaluate('Th', 200, temperature=0.2))"
   ]
  },
  {
   "cell_type": "markdown",
   "metadata": {
    "colab_type": "text",
    "id": "l508QP1LXM5t"
   },
   "source": [
    "Higher temperatures more varied, choosing less probable outputs:"
   ]
  },
  {
   "cell_type": "code",
   "execution_count": 23,
   "metadata": {
    "colab": {
     "autoexec": {
      "startup": false,
      "wait_interval": 0
     },
     "base_uri": "https://localhost:8080/",
     "height": 86
    },
    "colab_type": "code",
    "executionInfo": {
     "elapsed": 1051,
     "status": "ok",
     "timestamp": 1524580775398,
     "user": {
      "displayName": "Wojtek Czarnowski",
      "photoUrl": "//lh6.googleusercontent.com/-Sx8k456RbyI/AAAAAAAAAAI/AAAAAAAAEVg/Bn2jWaJ_hM0/s50-c-k-no/photo.jpg",
      "userId": "115130698336476923651"
     },
     "user_tz": -120
    },
    "id": "SxhfgI-PXM5u",
    "outputId": "2e41a589-1a59-444e-cb52-2b481ebd2d6c"
   },
   "outputs": [
    {
     "name": "stdout",
     "output_type": "stream",
     "text": [
      "Thńi! za tw cielon! (jękę --\n",
      "\n",
      "Pyłachwi z trwoliejs, Phonia. łędzał niech, lezna.\n",
      "Zrob- czlościDowy ożna, opryzknojąc wądły (chwiał, ma Bwe z u wzkołali ów elstki wszędzeszki, ożgęzył, hurgowę, bymałem  \n"
     ]
    }
   ],
   "source": [
    "print(evaluate('Th', 200, temperature=1.4))"
   ]
  },
  {
   "cell_type": "markdown",
   "metadata": {
    "colab_type": "text",
    "id": "-UQoZYk2XM5v"
   },
   "source": [
    "# Exercises\n",
    "\n",
    "* Train with your own dataset, e.g.\n",
    "    * Text from another author\n",
    "    * Blog posts\n",
    "    * Code\n",
    "* Increase number of layers and network size to get better results"
   ]
  },
  {
   "cell_type": "markdown",
   "metadata": {
    "colab_type": "text",
    "id": "pFHHvkI6XM5w"
   },
   "source": [
    "**Next**: [Generating Names with a Conditional Character-Level RNN](https://github.com/spro/practical-pytorch/blob/master/conditional-char-rnn/conditional-char-rnn.ipynb)"
   ]
  },
  {
   "cell_type": "markdown",
   "metadata": {
    "colab_type": "text",
    "id": "EtK-9BuuB-GX"
   },
   "source": [
    "# save model"
   ]
  },
  {
   "cell_type": "code",
   "execution_count": null,
   "metadata": {
    "colab": {
     "autoexec": {
      "startup": false,
      "wait_interval": 0
     }
    },
    "colab_type": "code",
    "id": "aSA3Utpc6dXV"
   },
   "outputs": [],
   "source": [
    "ALLCHARS, MODEL = ['all_characters', 'model']\n",
    "\n",
    "fn_pan_tadeusz = {ALLCHARS: 'all_characters.pan_tadeusz.p', MODEL: 'pan_tadeusz.h400.l3.3000.gpu.torch'}\n",
    "\n",
    "fn_dict = fn_pan_tadeusz"
   ]
  },
  {
   "cell_type": "code",
   "execution_count": null,
   "metadata": {
    "colab": {
     "autoexec": {
      "startup": false,
      "wait_interval": 0
     }
    },
    "colab_type": "code",
    "id": "XJ-j5_4I6d0g"
   },
   "outputs": [],
   "source": [
    "# save all_characters\n",
    "import pickle\n",
    "\n",
    "pickle.dump(all_characters, open(tmp_path / fn_dict[ALLCHARS], 'wb'))"
   ]
  },
  {
   "cell_type": "code",
   "execution_count": null,
   "metadata": {
    "colab": {
     "autoexec": {
      "startup": false,
      "wait_interval": 0
     }
    },
    "colab_type": "code",
    "id": "CDm3bjJy6d3S"
   },
   "outputs": [],
   "source": [
    "# all_characters = pickle.load( open( tmp_path / fn_dict[ALLCHARS], 'rb' ) )\n",
    "# n_characters = len(all_characters)"
   ]
  },
  {
   "cell_type": "code",
   "execution_count": 23,
   "metadata": {
    "colab": {
     "autoexec": {
      "startup": false,
      "wait_interval": 0
     },
     "base_uri": "https://localhost:8080/",
     "height": 99
    },
    "colab_type": "code",
    "executionInfo": {
     "elapsed": 1592,
     "status": "ok",
     "timestamp": 1524669389158,
     "user": {
      "displayName": "Wojtek Czarnowski",
      "photoUrl": "//lh6.googleusercontent.com/-Sx8k456RbyI/AAAAAAAAAAI/AAAAAAAAEVg/Bn2jWaJ_hM0/s50-c-k-no/photo.jpg",
      "userId": "115130698336476923651"
     },
     "user_tz": -120
    },
    "id": "qHbGgVULB_cp",
    "outputId": "861597e7-1d11-4d35-9b78-6741888cd82c"
   },
   "outputs": [
    {
     "data": {
      "text/plain": [
       "<bound method Module.state_dict of RNN(\n",
       "  (encoder): Embedding(89, 400)\n",
       "  (gru): GRU(400, 400, num_layers=3)\n",
       "  (decoder): Linear(in_features=400, out_features=89)\n",
       ")>"
      ]
     },
     "execution_count": 23,
     "metadata": {
      "tags": []
     },
     "output_type": "execute_result"
    }
   ],
   "source": [
    "decoder.state_dict"
   ]
  },
  {
   "cell_type": "code",
   "execution_count": 26,
   "metadata": {
    "colab": {
     "autoexec": {
      "startup": false,
      "wait_interval": 0
     },
     "base_uri": "https://localhost:8080/",
     "height": 69
    },
    "colab_type": "code",
    "executionInfo": {
     "elapsed": 1228,
     "status": "ok",
     "timestamp": 1524669486029,
     "user": {
      "displayName": "Wojtek Czarnowski",
      "photoUrl": "//lh6.googleusercontent.com/-Sx8k456RbyI/AAAAAAAAAAI/AAAAAAAAEVg/Bn2jWaJ_hM0/s50-c-k-no/photo.jpg",
      "userId": "115130698336476923651"
     },
     "user_tz": -120
    },
    "id": "nRXLplmTCumA",
    "outputId": "7b4d8564-2a96-4331-d374-950743889b4e"
   },
   "outputs": [
    {
     "name": "stderr",
     "output_type": "stream",
     "text": [
      "/usr/local/lib/python3.6/dist-packages/torch/serialization.py:158: UserWarning: Couldn't retrieve source code for container of type RNN. It won't be checked for correctness upon loading.\n",
      "  \"type \" + obj.__name__ + \". It won't be checked \"\n"
     ]
    }
   ],
   "source": [
    "# save model\n",
    "model_path = tmp_path / fn_dict[MODEL]\n",
    "torch.save(decoder, model_path)"
   ]
  },
  {
   "cell_type": "code",
   "execution_count": null,
   "metadata": {
    "colab": {
     "autoexec": {
      "startup": false,
      "wait_interval": 0
     }
    },
    "colab_type": "code",
    "id": "-D9_ONXNMHPK"
   },
   "outputs": [],
   "source": [
    "# decoder = torch.load(model_path)"
   ]
  }
 ],
 "metadata": {
  "accelerator": "GPU",
  "colab": {
   "collapsed_sections": [],
   "default_view": {},
   "name": "char-rnn-generation-wcz3-gpu.ipynb",
   "provenance": [
    {
     "file_id": "1DztHxtFb_tfNmrLeOcav9myCNqeTlZ82",
     "timestamp": 1524492157904
    },
    {
     "file_id": "1sv_cPvPEWEOrG9wS3fPjAOj-Wvs6kc0P",
     "timestamp": 1524467882593
    }
   ],
   "toc_visible": true,
   "version": "0.3.2",
   "views": {}
  },
  "kernelspec": {
   "display_name": "Python 3",
   "language": "python",
   "name": "python3"
  },
  "language_info": {
   "codemirror_mode": {
    "name": "ipython",
    "version": 3
   },
   "file_extension": ".py",
   "mimetype": "text/x-python",
   "name": "python",
   "nbconvert_exporter": "python",
   "pygments_lexer": "ipython3",
   "version": "3.6.5"
  }
 },
 "nbformat": 4,
 "nbformat_minor": 2
}
