{
 "cells": [
  {
   "cell_type": "markdown",
   "metadata": {
    "colab_type": "text",
    "id": "iVsYe7S5XM5G"
   },
   "source": [
    "![](https://i.imgur.com/eBRPvWB.png)\n",
    "\n",
    "# Practical PyTorch: Generating Shakespeare with a Character-Level RNN\n",
    "\n",
    "[In the RNN classification tutorial](https://github.com/spro/practical-pytorch/blob/master/char-rnn-classification/char-rnn-classification.ipynb) we used a RNN to classify text one character at a time. This time we'll generate text one character at a time.\n",
    "\n",
    "```\n",
    "> python generate.py -n 500\n",
    "\n",
    "PAOLTREDN:\n",
    "Let, yil exter shis owrach we so sain, fleas,\n",
    "Be wast the shall deas, puty sonse my sheete.\n",
    "\n",
    "BAUFIO:\n",
    "Sirh carrow out with the knonuot my comest sifard queences\n",
    "O all a man unterd.\n",
    "\n",
    "PROMENSJO:\n",
    "Ay, I to Heron, I sack, againous; bepear, Butch,\n",
    "An as shalp will of that seal think.\n",
    "\n",
    "NUKINUS:\n",
    "And house it to thee word off hee:\n",
    "And thou charrota the son hange of that shall denthand\n",
    "For the say hor you are of I folles muth me?\n",
    "```\n",
    "\n",
    "This one might make you question the series title &mdash; \"is that really practical?\" However, these sorts of generative models form the basis of machine translation, image captioning, question answering and more. See the [Sequence to Sequence Translation tutorial](https://github.com/spro/practical-pytorch/blob/master/seq2seq-translation/seq2seq-translation.ipynb) for more on that topic."
   ]
  },
  {
   "cell_type": "markdown",
   "metadata": {
    "colab_type": "text",
    "id": "WamMk47AXM5I"
   },
   "source": [
    "# Recommended Reading\n",
    "\n",
    "I assume you have at least installed PyTorch, know Python, and understand Tensors:\n",
    "\n",
    "* http://pytorch.org/ For installation instructions\n",
    "* [Deep Learning with PyTorch: A 60-minute Blitz](https://github.com/pytorch/tutorials/blob/master/Deep%20Learning%20with%20PyTorch.ipynb) to get started with PyTorch in general\n",
    "* [jcjohnson's PyTorch examples](https://github.com/jcjohnson/pytorch-examples) for an in depth overview\n",
    "* [Introduction to PyTorch for former Torchies](https://github.com/pytorch/tutorials/blob/master/Introduction%20to%20PyTorch%20for%20former%20Torchies.ipynb) if you are former Lua Torch user\n",
    "\n",
    "It would also be useful to know about RNNs and how they work:\n",
    "\n",
    "* [The Unreasonable Effectiveness of Recurrent Neural Networks](http://karpathy.github.io/2015/05/21/rnn-effectiveness/) shows a bunch of real life examples\n",
    "* [Understanding LSTM Networks](http://colah.github.io/posts/2015-08-Understanding-LSTMs/) is about LSTMs specifically but also informative about RNNs in general\n",
    "\n",
    "Also see these related tutorials from the series:\n",
    "\n",
    "* [Classifying Names with a Character-Level RNN](https://github.com/spro/practical-pytorch/blob/master/char-rnn-classification/char-rnn-classification.ipynb) uses an RNN for classification\n",
    "* [Generating Names with a Conditional Character-Level RNN](https://github.com/spro/practical-pytorch/blob/master/conditional-char-rnn/conditional-char-rnn.ipynb) builds on this model to add a category as input"
   ]
  },
  {
   "cell_type": "markdown",
   "metadata": {
    "colab_type": "text",
    "id": "lGN3xU17XpWC"
   },
   "source": [
    "# setup"
   ]
  },
  {
   "cell_type": "code",
   "execution_count": 35,
   "metadata": {
    "colab": {
     "autoexec": {
      "startup": false,
      "wait_interval": 0
     },
     "base_uri": "https://localhost:8080/",
     "height": 34
    },
    "colab_type": "code",
    "executionInfo": {
     "elapsed": 3988,
     "status": "ok",
     "timestamp": 1524581968244,
     "user": {
      "displayName": "Kamsiulek Malutki",
      "photoUrl": "https://lh3.googleusercontent.com/a/default-user=s128",
      "userId": "118138569128465864586"
     },
     "user_tz": -120
    },
    "id": "kkkCqSEBXsYh",
    "outputId": "00d599a8-12a7-4ca3-a078-65c28e1c0862"
   },
   "outputs": [
    {
     "name": "stdout",
     "output_type": "stream",
     "text": [
      "/Users/wcz/Google Drive/fastai_seminars.gt/rnn_generator_sylables\n"
     ]
    }
   ],
   "source": [
    "!pwd"
   ]
  },
  {
   "cell_type": "code",
   "execution_count": 226,
   "metadata": {
    "colab": {
     "autoexec": {
      "startup": false,
      "wait_interval": 0
     }
    },
    "colab_type": "code",
    "id": "80ZjgATAXsVn"
   },
   "outputs": [],
   "source": [
    "from pathlib import Path\n",
    "dataset_path = Path('data/rnn_generator'); dataset_path\n",
    "tmp_path = dataset_path / 'tmp/'\n",
    "!mkdir -p $tmp_path"
   ]
  },
  {
   "cell_type": "code",
   "execution_count": 227,
   "metadata": {},
   "outputs": [
    {
     "data": {
      "text/plain": [
       "PosixPath('data/rnn_generator')"
      ]
     },
     "execution_count": 227,
     "metadata": {},
     "output_type": "execute_result"
    }
   ],
   "source": [
    "dataset_path"
   ]
  },
  {
   "cell_type": "code",
   "execution_count": 228,
   "metadata": {
    "colab": {
     "autoexec": {
      "startup": false,
      "wait_interval": 0
     },
     "base_uri": "https://localhost:8080/",
     "height": 136
    },
    "colab_type": "code",
    "executionInfo": {
     "elapsed": 1549,
     "status": "ok",
     "timestamp": 1524653633236,
     "user": {
      "displayName": "Wojtek Czarnowski",
      "photoUrl": "//lh6.googleusercontent.com/-Sx8k456RbyI/AAAAAAAAAAI/AAAAAAAAEVg/Bn2jWaJ_hM0/s50-c-k-no/photo.jpg",
      "userId": "115130698336476923651"
     },
     "user_tz": 0
    },
    "id": "n4wAU8Y6XsSl",
    "outputId": "3f30dafc-74c3-4317-8651-0c8d04ac5742"
   },
   "outputs": [
    {
     "name": "stdout",
     "output_type": "stream",
     "text": [
      "total 1280\n",
      "drwxr-xr-x  5 wcz  staff   160B Apr 30 13:56 \u001b[34m.\u001b[m\u001b[m/\n",
      "drwxr-xr-x  4 wcz  staff   128B Apr 30 13:27 \u001b[34m..\u001b[m\u001b[m/\n",
      "-rw-r--r--  1 wcz  staff   362K Apr 30 16:23 pan_tadeusz.syl1.txt\n",
      "-rw-rw-rw-@ 1 wcz  staff   218K Apr 23 19:58 pan_tadeusz.txt\n",
      "drwxr-xr-x  2 wcz  staff    64B Apr 30 13:27 \u001b[34mtmp\u001b[m\u001b[m/\n"
     ]
    }
   ],
   "source": [
    "ls -lah $dataset_path/"
   ]
  },
  {
   "cell_type": "markdown",
   "metadata": {
    "colab_type": "text",
    "id": "2tJDT2lCceZL"
   },
   "source": [
    "# vm monitoring"
   ]
  },
  {
   "cell_type": "code",
   "execution_count": 229,
   "metadata": {
    "colab": {
     "autoexec": {
      "startup": false,
      "wait_interval": 0
     }
    },
    "colab_type": "code",
    "id": "bKdCiolHcg4e"
   },
   "outputs": [],
   "source": [
    "import os\n",
    "import psutil\n",
    "\n",
    "def print_memsize():\n",
    "  process = psutil.Process(os.getpid())\n",
    "  print(f'{process.memory_info().rss / 1024**3:.5} GB')"
   ]
  },
  {
   "cell_type": "code",
   "execution_count": 230,
   "metadata": {
    "colab": {
     "autoexec": {
      "startup": false,
      "wait_interval": 0
     },
     "base_uri": "https://localhost:8080/",
     "height": 34
    },
    "colab_type": "code",
    "executionInfo": {
     "elapsed": 537,
     "status": "ok",
     "timestamp": 1524653634376,
     "user": {
      "displayName": "Wojtek Czarnowski",
      "photoUrl": "//lh6.googleusercontent.com/-Sx8k456RbyI/AAAAAAAAAAI/AAAAAAAAEVg/Bn2jWaJ_hM0/s50-c-k-no/photo.jpg",
      "userId": "115130698336476923651"
     },
     "user_tz": 0
    },
    "id": "diBUUyOociRy",
    "outputId": "df1553c3-49c8-4ca5-f313-ab952c2438ec"
   },
   "outputs": [
    {
     "name": "stdout",
     "output_type": "stream",
     "text": [
      "0.14095 GB\n"
     ]
    }
   ],
   "source": [
    "print_memsize()"
   ]
  },
  {
   "cell_type": "code",
   "execution_count": 231,
   "metadata": {
    "colab": {
     "autoexec": {
      "startup": false,
      "wait_interval": 0
     },
     "base_uri": "https://localhost:8080/",
     "height": 33
    },
    "colab_type": "code",
    "executionInfo": {
     "elapsed": 1936,
     "status": "ok",
     "timestamp": 1524677119088,
     "user": {
      "displayName": "Wojtek Czarnowski",
      "photoUrl": "//lh6.googleusercontent.com/-Sx8k456RbyI/AAAAAAAAAAI/AAAAAAAAEVg/Bn2jWaJ_hM0/s50-c-k-no/photo.jpg",
      "userId": "115130698336476923651"
     },
     "user_tz": -120
    },
    "id": "TuHoo0ARtjz_",
    "outputId": "ce4f75e9-d71b-42eb-d22e-2e4ec6a65c4a"
   },
   "outputs": [
    {
     "name": "stdout",
     "output_type": "stream",
     "text": [
      "16:44  up 12 days,  6:56, 5 users, load averages: 1.92 1.93 1.94\n"
     ]
    }
   ],
   "source": [
    "!uptime"
   ]
  },
  {
   "cell_type": "markdown",
   "metadata": {
    "colab_type": "text",
    "id": "2cIY0S4g0gZo"
   },
   "source": [
    "# GPU"
   ]
  },
  {
   "cell_type": "code",
   "execution_count": 232,
   "metadata": {
    "colab": {
     "autoexec": {
      "startup": false,
      "wait_interval": 0
     },
     "base_uri": "https://localhost:8080/",
     "height": 34
    },
    "colab_type": "code",
    "executionInfo": {
     "elapsed": 689,
     "status": "ok",
     "timestamp": 1524653640696,
     "user": {
      "displayName": "Wojtek Czarnowski",
      "photoUrl": "//lh6.googleusercontent.com/-Sx8k456RbyI/AAAAAAAAAAI/AAAAAAAAEVg/Bn2jWaJ_hM0/s50-c-k-no/photo.jpg",
      "userId": "115130698336476923651"
     },
     "user_tz": 0
    },
    "id": "2hTjsshick9K",
    "outputId": "dd5df0b3-a8de-4efe-af91-030e9b0f6f3d"
   },
   "outputs": [
    {
     "name": "stdout",
     "output_type": "stream",
     "text": [
      "USE_GPU=False\n"
     ]
    }
   ],
   "source": [
    "import torch\n",
    "\n",
    "USE_GPU = torch.cuda.is_available(); \n",
    "# USE_GPU = False; \n",
    "\n",
    "print(f'USE_GPU={USE_GPU}')\n",
    "\n",
    "def to_gpu(x, *args, **kwargs):\n",
    "    return x.cuda(*args, **kwargs) if USE_GPU else x"
   ]
  },
  {
   "cell_type": "markdown",
   "metadata": {
    "colab_type": "text",
    "id": "g8KbaMvrXM5J"
   },
   "source": [
    "# Prepare data\n",
    "\n",
    "The file we are using is a plain text file. We turn any potential unicode characters into plain ASCII by using the `unidecode` package (which you can install via `pip` or `conda`)."
   ]
  },
  {
   "cell_type": "code",
   "execution_count": 234,
   "metadata": {
    "colab": {
     "autoexec": {
      "startup": false,
      "wait_interval": 0
     },
     "base_uri": "https://localhost:8080/",
     "height": 68
    },
    "colab_type": "code",
    "executionInfo": {
     "elapsed": 572,
     "status": "ok",
     "timestamp": 1524653643979,
     "user": {
      "displayName": "Wojtek Czarnowski",
      "photoUrl": "//lh6.googleusercontent.com/-Sx8k456RbyI/AAAAAAAAAAI/AAAAAAAAEVg/Bn2jWaJ_hM0/s50-c-k-no/photo.jpg",
      "userId": "115130698336476923651"
     },
     "user_tz": 0
    },
    "id": "g9H83p3sXM5L",
    "outputId": "91debee2-7706-4fe4-fc03-427ecf7655bc"
   },
   "outputs": [],
   "source": [
    "# import unidecode\n",
    "import string\n",
    "import random\n",
    "import re"
   ]
  },
  {
   "cell_type": "raw",
   "metadata": {
    "colab": {
     "autoexec": {
      "startup": false,
      "wait_interval": 0
     }
    },
    "colab_type": "code",
    "id": "YLH7c2gwoLlP"
   },
   "source": [
    "# fn = 'data/tiny-shakespeare.txt'\n",
    "# fn = dataset_path / 'mickiewicz.txt'\n",
    "# fn = dataset_path / 'witkacy_szewcy.txt'\n",
    "fn = dataset_path / 'pan_tadeusz.txt'"
   ]
  },
  {
   "cell_type": "raw",
   "metadata": {
    "colab": {
     "autoexec": {
      "startup": false,
      "wait_interval": 0
     },
     "base_uri": "https://localhost:8080/",
     "height": 68
    },
    "colab_type": "code",
    "executionInfo": {
     "elapsed": 572,
     "status": "ok",
     "timestamp": 1524653643979,
     "user": {
      "displayName": "Wojtek Czarnowski",
      "photoUrl": "//lh6.googleusercontent.com/-Sx8k456RbyI/AAAAAAAAAAI/AAAAAAAAEVg/Bn2jWaJ_hM0/s50-c-k-no/photo.jpg",
      "userId": "115130698336476923651"
     },
     "user_tz": 0
    },
    "id": "g9H83p3sXM5L",
    "outputId": "91debee2-7706-4fe4-fc03-427ecf7655bc"
   },
   "source": [
    "# file = unidecode.unidecode(open(fn).read())\n",
    "file = open(fn).read()\n",
    "file_len = len(file)\n",
    "print('file_len =', file_len)\n",
    "\n",
    "# ascii only\n",
    "# all_characters = string.printable\n",
    "# n_characters = len(all_characters)\n",
    "\n",
    "\n",
    "# all chars found in file\n",
    "all_characters = sorted(list(set(file))); print(all_characters[:10])\n",
    "n_characters = len(all_characters); print(n_characters)"
   ]
  },
  {
   "cell_type": "code",
   "execution_count": 235,
   "metadata": {},
   "outputs": [
    {
     "name": "stdout",
     "output_type": "stream",
     "text": [
      "5776 ['!', '\"', '%', \"'\", '(', ')', ',', '--', '--CIA', '--DAR++', '--GA', '--GI', '--KA', '--LO++', '--MA++', '--MEK', '--MIZ++', '--NIA', '--PO++', '--RWSZA', '--S++', '--STWO', '--TA', '--TY++', '--WY', '--a++', '--aczéj', '--ał', '--b++', '--ba', '--ba++', '--bach', '--baj++', '--bak', '--ban', '--ban++', '--bar++', '--barz', '--baw', '--baw++', '--bał', '--baż', '--bcem', '--be++', '--bek', '--bel', '--bel++', '--belg', '--bem', '--ber++', '--bez++', '--beł', '--bi', '--bi++', '--bia', '--bia++', '--biad', '--biar++', '--biać', '--biał', '--bic', '--bie', '--bie++', '--biec', '--biedz', '--bieg++', '--biegł', '--biem', '--bier++', '--biet', '--biet++', '--bieć', '--bień++', '--bij++', '--bik', '--bim', '--bin', '--bin++', '--bio', '--bio++', '--bior', '--bios', '--bis++', '--bisz', '--bit++', '--biu', '--biw++', '--bié++', '--biór', '--biów', '--bią', '--bią++', '--biąc', '--bić', '--bię', '--bił', '--bił++', '--bla++', '--blad++', '--bled++', '--bli++', '--blis++', '--bliż++', '--bliżéj', '--blu', '--bnie', '--bnych', '--bną', '--bo', '--bo++', '--bo-bra++', '--boc++', '--boj++', '--bok', '--bom', '--bor', '--bor++', '--boszcz', '--bot++', '--boż++', '--br++', '--bra++', '--braw++', '--brać', '--brał', '--bre', '--bre++', '--brno++', '--bro++', '--bron++', '--bru++', '--bry', '--bry++', '--brych', '--brym', '--brzmia++', '--brzy++', '--brzyń++', '--bu', '--bu++', '--buch', '--bud++', '--bum', '--bun', '--bur++', '--by', '--by++', '--bym', '--byt++', '--bytéj']\n"
     ]
    }
   ],
   "source": [
    "fn_corpus_char = dataset_path/'pan_tadeusz.txt'\n",
    "fn_corpus_syl = dataset_path/'pan_tadeusz.syl1.txt'\n",
    "\n",
    "fn_corpus_char = dataset_path/'pan_tadeusz.txt'\n",
    "fn_corpus_syl = dataset_path/'pan_tadeusz.syl1.txt'\n",
    "\n",
    "# taken from fastai/text.py\n",
    "import re, string\n",
    "# remove +,- chars from punctuation set to keep sylables e.g.'--PO++' intact\n",
    "punctuation=re.sub('[\\+-]', '', string.punctuation)\n",
    "re_tok = re.compile(f'([{punctuation}“”¨«»®´·º½¾¿¡§£₤‘’])')\n",
    "def tokenize(s): return re_tok.sub(r' \\1 ', s).split()\n",
    "\n",
    "corpus_syl_tok = tokenize(corpus_syl); len(corpus_syl_tok), corpus_syl_tok[:8]\n",
    "\n",
    "all_tokens = sorted(list(set(corpus_syl_tok)))\n",
    "n_tokens = len(all_tokens); print(n_tokens, all_tokens[:150])"
   ]
  },
  {
   "cell_type": "code",
   "execution_count": 236,
   "metadata": {},
   "outputs": [],
   "source": [
    "# map to old variable names\n",
    "file = corpus_syl_tok\n",
    "file_len = len(file)\n",
    "all_characters = all_tokens\n",
    "n_characters = n_tokens"
   ]
  },
  {
   "cell_type": "markdown",
   "metadata": {
    "colab_type": "text",
    "id": "lL_XOG-fXM5T"
   },
   "source": [
    "To make inputs out of this big string of data, we will be splitting it into chunks."
   ]
  },
  {
   "cell_type": "code",
   "execution_count": 242,
   "metadata": {
    "colab": {
     "autoexec": {
      "startup": false,
      "wait_interval": 0
     },
     "base_uri": "https://localhost:8080/",
     "height": 221
    },
    "colab_type": "code",
    "executionInfo": {
     "elapsed": 509,
     "status": "ok",
     "timestamp": 1524653644841,
     "user": {
      "displayName": "Wojtek Czarnowski",
      "photoUrl": "//lh6.googleusercontent.com/-Sx8k456RbyI/AAAAAAAAAAI/AAAAAAAAEVg/Bn2jWaJ_hM0/s50-c-k-no/photo.jpg",
      "userId": "115130698336476923651"
     },
     "user_tz": 0
    },
    "id": "_zwmRSAHXM5T",
    "outputId": "2b3be3de-3d66-4d4f-e993-cdfad27e3226"
   },
   "outputs": [],
   "source": [
    "chunk_len = 100\n",
    "\n",
    "def random_chunk():\n",
    "    start_index = random.randint(0, file_len - chunk_len)\n",
    "    end_index = start_index + chunk_len + 1\n",
    "    return file[start_index:end_index]\n",
    "\n",
    "# print(random_chunk())"
   ]
  },
  {
   "cell_type": "code",
   "execution_count": 349,
   "metadata": {},
   "outputs": [
    {
     "name": "stdout",
     "output_type": "stream",
     "text": [
      "--cu gdzie sta/ła , tyl/ko po/rzu/co/ny Ko/szyk ma/ły z ro/ki/ty , den/kiem wy/wró/co/ny . Po/gu/biw/szy o/wo/ce na li/ściach za/wi/sał , I wśród fa/li zie/lonéj je/sz/cze się ko/ły/sał . Po chwi/li wszę/dzie by/ło sa/mo/tnie i głu/cho ; Hra/bia o/czy w dom u/tkwił i na/tę/żył u/cho , Za/wsze du/mał , a strzel/cy za/wsze nie/ru/cho/mie Za nim sta/li . -- Aż w ci/chym i sa/mo/tnym do/mie Wszczął się na/przód szmer , potém gwar i krzyk we/so/ły , Jak w ulu pu/stym kie/dy weń wia/ta/ją pszczo/ły : Był to znak że wra/ca/li go/ście s po/lo/wa/nia , I krzą/ta/ła się służ/ba o/ko/ło śnia/da/nia . Ja/koż po wszy/s/t/kich iz/bach pa/no/wał ruch wiel/ki , Roz/no/szo/no po/tra/wy , sztu/czce i bu/tel/ki ; Mę/sz/czyz/ni tak jak we/szli , w swych zie/lo/nych stro/jach , S ta/le/rza/mi , s szklan/ka/mi , cho/dząc po po/ko/jach , Jed/li , pi/li , lub wspar/ci na o/kien u/sza/kach , Ro/spra/wia/li o flin/tach , char/tach i sza/ra/kach ; Pod/ko/mor/stwo i Sę/dzia przy sto/le ; a w kąt/ku Pan/ny szep/ta/ły s so/bą ; nie/by/ło po/rząd/ku , Ja/ki się przy o/bia/dach i wie/cze/rzach cho/wa , By/ła to w sta/ro/pol/skim do/mie mo/da no/wa ; Przy śnia/da/niach , Pan Sę/dzia choć nuie/rad po/zwa/lał Na ta/ki nie/po/rzą/dek , lecz go nie/po/chwa/lał . Róż/ne też by/ły dla dam i mę/sz/czyzn po/tra/wy : Tu roz/no/szo/no ta/ce s ca/łą służ/bą ka/wy , Ta/ce o/grom/ne , w kwia/ty śli/cz/nie ma/lo++\n"
     ]
    }
   ],
   "source": [
    "def syl2str(a_list, delim='/'): return ' '.join(a_list).replace('++ --', delim)\n",
    "print(syl2str(random_chunk()))"
   ]
  },
  {
   "cell_type": "markdown",
   "metadata": {
    "colab_type": "text",
    "id": "X5cFLx6WXM5X"
   },
   "source": [
    "# Build the Model\n",
    "\n",
    "This model will take as input the character for step $t_{-1}$ and is expected to output the next character $t$. There are three layers - one linear layer that encodes the input character into an internal state, one GRU layer (which may itself have multiple layers) that operates on that internal state and a hidden state, and a decoder layer that outputs the probability distribution."
   ]
  },
  {
   "cell_type": "code",
   "execution_count": 238,
   "metadata": {
    "colab": {
     "autoexec": {
      "startup": false,
      "wait_interval": 0
     }
    },
    "colab_type": "code",
    "id": "tZ8chQcVXM5X"
   },
   "outputs": [],
   "source": [
    "import torch\n",
    "import torch.nn as nn\n",
    "from torch.autograd import Variable\n",
    "\n",
    "class RNN(nn.Module):\n",
    "    def __init__(self, input_size, hidden_size, output_size, n_layers=1):\n",
    "        super(RNN, self).__init__()\n",
    "        self.input_size = input_size\n",
    "        self.hidden_size = hidden_size\n",
    "        self.output_size = output_size\n",
    "        self.n_layers = n_layers\n",
    "        \n",
    "        self.encoder = nn.Embedding(input_size, hidden_size)\n",
    "        self.gru = nn.GRU(hidden_size, hidden_size, n_layers)\n",
    "        self.decoder = nn.Linear(hidden_size, output_size)\n",
    "    \n",
    "    def forward(self, input, hidden):\n",
    "        input = self.encoder(input.view(1, -1))\n",
    "        output, hidden = self.gru(input.view(1, 1, -1), hidden)\n",
    "        output = self.decoder(output.view(1, -1))\n",
    "        return output, hidden\n",
    "\n",
    "    def init_hidden(self):\n",
    "        return Variable(to_gpu(torch.zeros(self.n_layers, 1, self.hidden_size)))"
   ]
  },
  {
   "cell_type": "markdown",
   "metadata": {
    "colab_type": "text",
    "id": "62XSRFgkXM5Z"
   },
   "source": [
    "# Inputs and Targets"
   ]
  },
  {
   "cell_type": "markdown",
   "metadata": {
    "colab_type": "text",
    "id": "UaOPvn0rXM5Z"
   },
   "source": [
    "Each chunk will be turned into a tensor, specifically a `LongTensor` (used for integer values), by looping through the characters of the string and looking up the index of each character in `all_characters`."
   ]
  },
  {
   "cell_type": "code",
   "execution_count": 261,
   "metadata": {
    "colab": {
     "autoexec": {
      "startup": false,
      "wait_interval": 0
     },
     "base_uri": "https://localhost:8080/",
     "height": 255
    },
    "colab_type": "code",
    "executionInfo": {
     "elapsed": 3008,
     "status": "ok",
     "timestamp": 1524653649012,
     "user": {
      "displayName": "Wojtek Czarnowski",
      "photoUrl": "//lh6.googleusercontent.com/-Sx8k456RbyI/AAAAAAAAAAI/AAAAAAAAEVg/Bn2jWaJ_hM0/s50-c-k-no/photo.jpg",
      "userId": "115130698336476923651"
     },
     "user_tz": 0
    },
    "id": "q0H2nwMMXM5a",
    "outputId": "9fcc34f1-27a6-4ee0-e90c-9ec90ec99d35"
   },
   "outputs": [],
   "source": [
    "# Turn string into list of longs\n",
    "def char_tensor(string):\n",
    "    tensor = torch.zeros(len(string)).long()\n",
    "    for c in range(len(string)):\n",
    "        tensor[c] = all_characters.index(string[c])\n",
    "    return Variable(to_gpu(tensor))\n",
    "\n",
    "# print(char_tensor('ala ma kota'))"
   ]
  },
  {
   "cell_type": "code",
   "execution_count": 262,
   "metadata": {},
   "outputs": [
    {
     "name": "stdout",
     "output_type": "stream",
     "text": [
      "['--ka++', '--nie', 'się', 'pié++', '--rwsze', 'w', 'po++', '--koi++', '--ku', ',']\n",
      "Variable containing:\n",
      "  948\n",
      " 1379\n",
      " 4856\n",
      " 4619\n",
      " 1641\n",
      " 5218\n",
      " 4643\n",
      " 1016\n",
      " 1062\n",
      "    6\n",
      "[torch.LongTensor of size 10]\n",
      "\n"
     ]
    }
   ],
   "source": [
    "a_token_list = corpus_syl_tok[20:30]; print(a_token_list)\n",
    "print(char_tensor(a_token_list))"
   ]
  },
  {
   "cell_type": "markdown",
   "metadata": {
    "colab_type": "text",
    "id": "0Su49JvFXM5d"
   },
   "source": [
    "Finally we can assemble a pair of input and target tensors for training, from a random chunk. The input will be all characters *up to the last*, and the target will be all characters *from the first*. So if our chunk is \"abc\" the input will correspond to \"ab\" while the target is \"bc\"."
   ]
  },
  {
   "cell_type": "code",
   "execution_count": 245,
   "metadata": {
    "colab": {
     "autoexec": {
      "startup": false,
      "wait_interval": 0
     }
    },
    "colab_type": "code",
    "id": "mLzzsbTRXM5d"
   },
   "outputs": [],
   "source": [
    "def random_training_set():    \n",
    "    chunk = random_chunk()\n",
    "    inp = char_tensor(chunk[:-1])\n",
    "    target = char_tensor(chunk[1:])\n",
    "    return inp, target"
   ]
  },
  {
   "cell_type": "markdown",
   "metadata": {
    "colab_type": "text",
    "id": "vSJ_szQTXM5f"
   },
   "source": [
    "# Evaluating\n",
    "\n",
    "To evaluate the network we will feed one character at a time, use the outputs of the network as a probability distribution for the next character, and repeat. To start generation we pass a priming string to start building up the hidden state, from which we then generate one character at a time."
   ]
  },
  {
   "cell_type": "code",
   "execution_count": 472,
   "metadata": {
    "colab": {
     "autoexec": {
      "startup": false,
      "wait_interval": 0
     }
    },
    "colab_type": "code",
    "id": "2ecqC4rWXM5f"
   },
   "outputs": [],
   "source": [
    "# Turn string into list of longs\n",
    "# def char_tensor(string):\n",
    "# #     print(f'char_tensor({string})')\n",
    "#     tensor = torch.zeros(len(string)).long()\n",
    "#     for c in range(len(string)):\n",
    "# #         print(c)\n",
    "#         tensor[c] = all_characters.index(string[c])\n",
    "#     return Variable(to_gpu(tensor))\n",
    "\n",
    "# def evaluate(prime_str='A', predict_len=100, temperature=0.8):\n",
    "def evaluate(prime_str=[all_tokens[1]], predict_len=100, temperature=0.8):\n",
    "#     print(f'prime_str={prime_str}')\n",
    "    hidden = decoder.init_hidden()\n",
    "    prime_input = char_tensor(prime_str)\n",
    "#     predicted = prime_str\n",
    "    predicted = list(prime_str)  # need a copy of the list\n",
    "\n",
    "    # Use priming string to \"build up\" hidden state\n",
    "    for p in range(len(prime_str) - 1):\n",
    "        _, hidden = decoder(prime_input[p], hidden)\n",
    "    inp = prime_input[-1]\n",
    "    \n",
    "    for p in range(predict_len):\n",
    "        output, hidden = decoder(inp, hidden)\n",
    "        \n",
    "        # Sample from the network as a multinomial distribution\n",
    "        output_dist = output.data.view(-1).div(temperature).exp()\n",
    "        top_i = torch.multinomial(output_dist, 1)[0]\n",
    "        \n",
    "        # Add predicted character to string and use as next input\n",
    "        predicted_char = all_characters[top_i]\n",
    "#         print(f'predicted_char = {predicted_char}')\n",
    "#         predicted += predicted_char\n",
    "        predicted.append(predicted_char)\n",
    "#         print(f'predicted = {predicted}')\n",
    "        inp = char_tensor([predicted_char])\n",
    "#         inp = char_tensor(predicted_char)\n",
    "\n",
    "#     print(f'predicted = {predicted}')\n",
    "    return predicted"
   ]
  },
  {
   "cell_type": "code",
   "execution_count": 310,
   "metadata": {},
   "outputs": [
    {
     "name": "stdout",
     "output_type": "stream",
     "text": [
      "Po/wrot pa/ni/cza\n",
      "Po/wrot pa/ni/cza . wy/cią++ już drze/szym , któ/ląc sta/nął , Do/ląc czar++ , A nad++ pad++ czy++\n"
     ]
    }
   ],
   "source": [
    "ac = all_characters\n",
    "# prime_str = [ac[10], ac[20], ac[30]]; \n",
    "prime_str = [ac[10], ac[20], ac[30]]; \n",
    "prime_str = corpus_syl_tok[13:18]\n",
    "print(syl2str(prime_str))\n",
    "print(syl2str(evaluate(prime_str, 20, temperature=0.8)))"
   ]
  },
  {
   "cell_type": "markdown",
   "metadata": {
    "colab_type": "text",
    "id": "lZY0fPgEXM5h"
   },
   "source": [
    "# Training"
   ]
  },
  {
   "cell_type": "markdown",
   "metadata": {
    "colab_type": "text",
    "id": "-pM5T97tXM5h"
   },
   "source": [
    "A helper to print the amount of time passed:"
   ]
  },
  {
   "cell_type": "code",
   "execution_count": 247,
   "metadata": {
    "colab": {
     "autoexec": {
      "startup": false,
      "wait_interval": 0
     }
    },
    "colab_type": "code",
    "id": "hQnLeX-TXM5h"
   },
   "outputs": [],
   "source": [
    "import time, math\n",
    "\n",
    "def time_since(since):\n",
    "    s = time.time() - since\n",
    "    m = math.floor(s / 60)\n",
    "    s -= m * 60\n",
    "    return '%dm %ds' % (m, s)"
   ]
  },
  {
   "cell_type": "markdown",
   "metadata": {
    "colab_type": "text",
    "id": "0pntPTWEXM5i"
   },
   "source": [
    "The main training function"
   ]
  },
  {
   "cell_type": "code",
   "execution_count": 248,
   "metadata": {
    "colab": {
     "autoexec": {
      "startup": false,
      "wait_interval": 0
     }
    },
    "colab_type": "code",
    "id": "QKb7-MeXXM5j"
   },
   "outputs": [],
   "source": [
    "def train(inp, target):\n",
    "    hidden = decoder.init_hidden()\n",
    "    decoder.zero_grad()\n",
    "    loss = 0\n",
    "\n",
    "    for c in range(chunk_len):\n",
    "        output, hidden = decoder(inp[c], hidden)\n",
    "        loss += criterion(output, target[c])\n",
    "\n",
    "    loss.backward()\n",
    "    decoder_optimizer.step()\n",
    "\n",
    "    return loss.data[0] / chunk_len"
   ]
  },
  {
   "cell_type": "markdown",
   "metadata": {
    "colab_type": "text",
    "id": "tyo69fakXM5k"
   },
   "source": [
    "Then we define the training parameters, instantiate the model, and start training:"
   ]
  },
  {
   "cell_type": "code",
   "execution_count": 396,
   "metadata": {},
   "outputs": [],
   "source": [
    "import visdom\n",
    "import numpy as np\n",
    "\n",
    "vis = visdom.Visdom()\n",
    "\n",
    "def vis_update_line_chart(vis, name, x, y, first_step):\n",
    "    vis.line(Y=np.array([y]), X=np.array([x]),\n",
    "             win=name, opts=dict(title=name),\n",
    "             update=None if first_step else 'append')\n",
    "\n",
    "def vis_update_text_win(vis, name, text):\n",
    "    vis.text(text, win=name, opts=dict(title=name), append=False)"
   ]
  },
  {
   "cell_type": "code",
   "execution_count": 446,
   "metadata": {},
   "outputs": [
    {
     "name": "stdout",
     "output_type": "stream",
     "text": [
      "Po<font color=\"lightgray\">/</font>wrot pa<font color=\"lightgray\">/</font>ni<font color=\"lightgray\">/</font>cza Re<font color=\"lightgray\">/</font>nych , I <font color=\"red\">--</font>ma<font color=\"blue\">++</font> Szla<font color=\"lightgray\">/</font>i<font color=\"blue\">++</font> po<font color=\"blue\">++</font> gry<font color=\"blue\">++</font> złotém w i <font color=\"red\">--</font>strze<font color=\"lightgray\">/</font>cie<font color=\"lightgray\">/</font>żyw<font color=\"lightgray\">/</font>zja<font color=\"blue\">++</font> na <font color=\"red\">--</font>dzie<font color=\"lightgray\">/</font>de<font color=\"blue\">++</font> się Bir<font color=\"blue\">++</font> s na <font color=\"red\">--</font>rze , że<font color=\"blue\">++</font> pań<font color=\"blue\">++</font> , <font color=\"red\">--</font>ni , ob<font color=\"lightgray\">/</font>ni od<font color=\"lightgray\">/</font>ga<font color=\"lightgray\">/</font>chta do<font color=\"blue\">++</font> i <font color=\"red\">--</font>na Zo<font color=\"lightgray\">/</font>cy i <font color=\"red\">--</font>sach ob<font color=\"lightgray\">/</font>łó<font color=\"blue\">++</font> na , I po<font color=\"lightgray\">/</font>brać o<font color=\"blue\">++</font> do <font color=\"red\">--</font>sta<font color=\"blue\">++</font> , ; <font color=\"red\">--</font>dzią <font color=\"red\">--</font> bły<font color=\"lightgray\">/</font>mie<font color=\"lightgray\">/</font>ło<font color=\"blue\">++</font> , <font color=\"red\">--</font>t<font color=\"blue\">++</font> , na on <font color=\"red\">--</font>cież <font color=\"red\">--</font>my , ko<font color=\"lightgray\">/</font>ści <font color=\"red\">--</font>li<font color=\"blue\">++</font> , wszy<font color=\"lightgray\">/</font>cza<font color=\"blue\">++</font> się <font color=\"red\">--</font>ny nie<font color=\"lightgray\">/</font>mu nie<font color=\"lightgray\">/</font>bił ją<font color=\"blue\">++</font> i bez się o<font color=\"blue\">++</font> pło<font color=\"blue\">++</font> s rę<font color=\"blue\">++</font> i w <font color=\"red\">--</font>mi <font color=\"red\">--</font>lem mię<font color=\"blue\">++</font> za<font color=\"lightgray\">/</font>cóż <font color=\"red\">--</font>dał <font color=\"red\">--</font>ku<font color=\"lightgray\">/</font> <font color=\"red\">--</font>la<font color=\"blue\">++</font> , kunszt\n"
     ]
    }
   ],
   "source": [
    "# print(e_str)\n",
    "\n",
    "class X(str):\n",
    "    def rpl(self, p, c='lightgray'):\n",
    "        return X(self.replace(p, f'<font color=\"{c}\">{p}</font>'))\n",
    "\n",
    "# def rpl(s, p): return s.replace(p, f'<font color=\"gray\">{p}</font>')\n",
    "out = X(e_str).rpl('/').rpl('--', c='red').rpl('++', c='blue')\n",
    "print(out)\n",
    "# e_str = e_str.replace('--', '<font color=\"gray\">--</font>').replace('++', '<font color=\"lightgray\">++</font>')"
   ]
  },
  {
   "cell_type": "code",
   "execution_count": 463,
   "metadata": {},
   "outputs": [
    {
     "name": "stdout",
     "output_type": "stream",
     "text": [
      "Po/wrot pa/ni/cza --li w wszy++ ma --ciętéj --me/sz++ we++ , I --czy++ w --ki , --ką , Go++ o++ u/cią/szyz/my e/ła++ ? i i --mkiem --łem raz łu/nia , lecz --ta/ły , , do DRU++ , --gał się --my --sta/da/gi Do++ , --lec++ po/ły , s --lar++ chwa++ i ran/dża/ło --dzić --nik --li++ mę++ czy++ się --ruj Do/gaić , Do++ naj++ , u++ zna++ , I , niż --czął --znać plan --czył się , --le/ma : --rwa/da --ne , I --li sto/wią++ ob++ , s za\n",
      "105\n",
      "0.4380952380952381\n"
     ]
    }
   ],
   "source": [
    "print(e_str)\n",
    "cc = len(e_syl); print(cc)\n",
    "# print(e_syl)\n",
    "def bad_words(e_syl): e_str = syl2str(e_syl); return (e_str.count('++') + e_str.count('--')) / len(e_syl)\n",
    "print(bad_words(e_syl))"
   ]
  },
  {
   "cell_type": "code",
   "execution_count": 481,
   "metadata": {
    "colab": {
     "autoexec": {
      "startup": false,
      "wait_interval": 0
     },
     "base_uri": "https://localhost:8080/",
     "height": 4321
    },
    "colab_type": "code",
    "executionInfo": {
     "elapsed": 7879078,
     "status": "ok",
     "timestamp": 1524661530421,
     "user": {
      "displayName": "Wojtek Czarnowski",
      "photoUrl": "//lh6.googleusercontent.com/-Sx8k456RbyI/AAAAAAAAAAI/AAAAAAAAEVg/Bn2jWaJ_hM0/s50-c-k-no/photo.jpg",
      "userId": "115130698336476923651"
     },
     "user_tz": 0
    },
    "id": "ILThkaRPXM5k",
    "outputId": "0938f6c7-c7ac-476a-d885-85af92e51287"
   },
   "outputs": [
    {
     "name": "stdout",
     "output_type": "stream",
     "text": [
      "RNN(\n",
      "  (encoder): Embedding(5776, 100)\n",
      "  (gru): GRU(100, 100)\n",
      "  (decoder): Linear(in_features=100, out_features=5776, bias=True)\n",
      ")\n"
     ]
    },
    {
     "name": "stderr",
     "output_type": "stream",
     "text": [
      "  5%|▍         | 99/2000 [01:40<32:09,  1.01s/it, loss=6.84]"
     ]
    },
    {
     "name": "stdout",
     "output_type": "stream",
     "text": [
      "\n",
      "[1m 40s (100 5%) loss=6.8424 bw=0.2000]\n",
      "Po/wrot pa/ni/cza , ja/ko --mał , drżą/cie ; ró/do++ nad po/wie/lo/wa/zy , --mę++ nie++ pię/li/cy --rę , lub za++ złość w wrzas++ gło++ so/wy i księ++ w strza++ wo++ , strze++ sie++ po/wie/bia++ , mak --cie , że dwóch --tem , źre/co/sz/tem , śmierć --do++ , --bra++ I i --da --si s -- Z --go --je , A krzy++ rze/wał na/kształt --to/wy ; Pod/wa++ ja/ko prze/ko/gdzie się , I --ste --łu , W --rzy++ szpieg , mil/li/sz/go++ \n",
      "\n"
     ]
    },
    {
     "name": "stderr",
     "output_type": "stream",
     "text": [
      " 10%|▉         | 199/2000 [03:23<30:45,  1.02s/it, loss=5.99]"
     ]
    },
    {
     "name": "stdout",
     "output_type": "stream",
     "text": [
      "\n",
      "[3m 24s (200 10%) loss=5.9889 bw=0.1238]\n",
      "Po/wrot pa/ni/cza ; Po jak gło/jąc po/grą++ , dwa Te/li/me/na ; sa/li nie/da/da wy/wią/wą . sad --li/cy u/sta/nie , trzeź/ro/ków , Słu++ nie/na/mi da/w/ne ; Ger/wa/dzi Ten nie/dba/nia o/czy/kiem się przy/bli/ło/zi/ra/ny i pod/bie/mu ; Gdy za/je/nia i wnu/wie , I o/czu --stwem --dziéj ; --żu/lich tych , A w --ców hi++ , Sto/nar/my , O/ko/mo/li --ścić , i nikt spad++ \n",
      "\n"
     ]
    },
    {
     "name": "stderr",
     "output_type": "stream",
     "text": [
      " 15%|█▍        | 299/2000 [05:17<30:05,  1.06s/it, loss=4.87]"
     ]
    },
    {
     "name": "stdout",
     "output_type": "stream",
     "text": [
      "\n",
      "[5m 17s (300 15%) loss=4.8745 bw=0.0381]\n",
      "Po/wrot pa/ni/cza , nie/spo/chyb/ta . Ale po/je/wo i ko/gut++ , Znak --len/łem -- U/nąw/szy , Za gó/ry , w pu/sz/ka , na/wet , jak sku/rą/ni/cę . Po/wo/ły ja/rzy/szy , wpad/ni , ro/spię/ka , dłu/go z oj/ni , ni Pan gnie/s/te/ki i ha/ła/szy , I wo/lę ; U/pie++ tu na bie/gu nie --cha/wał , I ciot/ka się go , nie++ kres/cho/my , i w u/stach \n",
      "\n"
     ]
    },
    {
     "name": "stderr",
     "output_type": "stream",
     "text": [
      " 20%|█▉        | 399/2000 [07:05<28:27,  1.07s/it, loss=5.21]"
     ]
    },
    {
     "name": "stdout",
     "output_type": "stream",
     "text": [
      "\n",
      "[7m 5s (400 20%) loss=5.2063 bw=0.0381]\n",
      "Po/wrot pa/ni/cza , że nie/cier/pli/wa , raz się stem/pel przez roz/da/mi . -- Na/zy/tów ko/ło z la/tach pań/skie po/lo/wa/nie in/ter/es/mo/rzy , Wlaw/dzi i e/chem , O/pa/brał co nim u/cych , a na nich sto/łu , Wprzód się w cu/dzych J nim słoń/ca , Dzie++ flin/ka o/gro/ra/ją po/wia/dał . Grzę/li/wiec do/my , po/ło/jo/sza so/bie się ty/łu . On li/ca , Że Sta++ \n",
      "\n"
     ]
    },
    {
     "name": "stderr",
     "output_type": "stream",
     "text": [
      " 25%|██▍       | 499/2000 [08:54<26:46,  1.07s/it, loss=4.16]"
     ]
    },
    {
     "name": "stdout",
     "output_type": "stream",
     "text": [
      "\n",
      "[8m 54s (500 25%) loss=4.1570 bw=0.0286]\n",
      "Po/wrot pa/ni/cza , Nikt z o/czu , czy na pa/sie ? -- czy pięk/ny , I prze/rwać , i po/rzu/ca/ła na ko/ło o/prócz się nie/by/ła ciem/ki , Zga/dnij++ rę/ce ? Ów --dzia/ne _ krąg/łe , Pa/nien/ła z roz/dar/ku . Tak to nie/bo za/żył Klu/cz/nik , pu/dy stał wszy/s/t/kim za/le/tę w ro/ga/łu/ło ! Gło/ski , Vul/na/ny , A rzę/dem się ro/dzi/no , , pra++ \n",
      "\n"
     ]
    },
    {
     "name": "stderr",
     "output_type": "stream",
     "text": [
      " 30%|██▉       | 599/2000 [10:42<25:03,  1.07s/it, loss=4.58]"
     ]
    },
    {
     "name": "stdout",
     "output_type": "stream",
     "text": [
      "\n",
      "[10m 42s (600 30%) loss=4.5840 bw=0.0190]\n",
      "Po/wrot pa/ni/cza --cz/nik , Ale i wes/li/cmaj/ster szu/kać nam --jazd od/wra/sty ; I za nią Pan pod mo/że ? krzyk/nę/ła , As/ses/sor , Pan po/ra/dzał , Za/ba/wić i przy/ja/cie/le , I pod/ska++ nie/żył , A s po/ra/nek i przy/brał le/ża/wym , Potém rę/ce sie/bie roz/go/mo/rze/mu i go/ści , pra/wa , człek mąd/ry wa/run/le . Hra/bia u/sieść na bra/mę , S któ/re \n",
      "\n"
     ]
    },
    {
     "name": "stderr",
     "output_type": "stream",
     "text": [
      " 35%|███▍      | 699/2000 [12:31<23:19,  1.08s/it, loss=2.92]"
     ]
    },
    {
     "name": "stdout",
     "output_type": "stream",
     "text": [
      "\n",
      "[12m 32s (700 35%) loss=2.9199 bw=0.0286]\n",
      "Po/wrot pa/ni/cza już do go/d/nie ; Tyl/ko znak --rę je/sz/cze , na/ra/żać , Bo zda/rać o/sza się , po li/sa za/py/ta , W bie/gu A/mal/tei , sa/mi mu/zy/ce się ciąg/le , s po/dmu/chem Ca/ły kwiat , o/gro/tym rzeź/ka/jąc na/dziei i lu/dzie ; Tyl/ko wi/dzia/na strzel/cy krę/ci się , prze/jrzy/rzy/ga/la na/ra/zów , Pier/w/szy raz w gwiaz/dy , na/tchnio/niec w \n",
      "\n"
     ]
    },
    {
     "name": "stderr",
     "output_type": "stream",
     "text": [
      " 40%|███▉      | 799/2000 [14:26<21:41,  1.08s/it, loss=4.37]"
     ]
    },
    {
     "name": "stdout",
     "output_type": "stream",
     "text": [
      "\n",
      "[14m 26s (800 40%) loss=4.3650 bw=0.0286]\n",
      "Po/wrot pa/ni/cza , w kształt ser/cem u/jrzał co mu rzu/cił , w głos cio/ciu przy gra/ni/ca , Jak skrom++ przed pra/la/rzy/nę dol/nym gło/wę : Jak kot z od/głos dzię/ku żub/ła/mi , Jak kot z dwoj/dem , go/s/ną/nym da/je , na po/wró/cił źmi/ja , Dwoistém --le/wa wie/cze/rzy ; Tak Pod/ko/mo/rzy , Mil/czą/cy , dru/gie/mi je/sz/cze słu/la/li , Któ/ry już po/no mo/dem i zie++ \n",
      "\n"
     ]
    },
    {
     "name": "stderr",
     "output_type": "stream",
     "text": [
      " 45%|████▍     | 899/2000 [16:19<19:59,  1.09s/it, loss=2.11]"
     ]
    },
    {
     "name": "stdout",
     "output_type": "stream",
     "text": [
      "\n",
      "[16m 19s (900 45%) loss=2.1117 bw=0.0000]\n",
      "Po/wrot pa/ni/cza blas/ku , i choć niż/ży u/ro/dzi ; więc wszys/cy , rześ/ki za/ję/ty , rześ/ki pro/stac/ni/ły cieś/ne ze słów iz/bie ich dziś , do w ro/gu , do/tąd wy/ro/bio/ry , ci --ła w bie/rze , bo tak był to są , by/ło krzy/ku , Je/d/ną no/gą » a więc na ro/gu ; go w pół o/łó/wek , sprzę/ty jéj wy/stą/pił pan/ny . -- A Pan Sę/dzia go bu++ \n",
      "\n"
     ]
    },
    {
     "name": "stderr",
     "output_type": "stream",
     "text": [
      " 50%|████▉     | 999/2000 [18:09<18:12,  1.09s/it, loss=3.23]"
     ]
    },
    {
     "name": "stdout",
     "output_type": "stream",
     "text": [
      "\n",
      "[18m 10s (1000 50%) loss=3.2283 bw=0.0286]\n",
      "Po/wrot pa/ni/cza , już tuż przy siod/le , swa/wol/nie mó/wię roz/ma/wiał , Za/rą++ by/ło w po/le , jak śnieg pod/nios/ły mu od/pu/ściw/szy , Mi/ja/ły , I chcąc jak przy/cho/wych na swym pę/ka/mi po/dzię/ni , U/zbyt się , je/sz/cze dym szedł z gó/ry , na/zbyt ściś/wi/łem ; Czy to wszy/s/t/ko los zwykł rzu/ca/jąc w las dro/gą , Z ge/stów ćwi/wo/wa/ły w go/wa/nia \n",
      "\n"
     ]
    },
    {
     "name": "stderr",
     "output_type": "stream",
     "text": [
      " 55%|█████▍    | 1099/2000 [19:59<16:23,  1.09s/it, loss=2.93]"
     ]
    },
    {
     "name": "stdout",
     "output_type": "stream",
     "text": [
      "\n",
      "[19m 59s (1100 55%) loss=2.9268 bw=0.0476]\n",
      "Po/wrot pa/ni/cza --pał prze/mo/cha : Je/ś/li znaj/dziesz wszy/s/t/kie ra/mio/tów ; wi/do/ka/nie , Cią/g/nął woź/nień/skim u/słu/gi , Wy/dep/tał li/cz/ne/mi , przy/sięg/li przez chciał po/pie/lił : Bo gło/wę , i tak ob/ras/ku , O/rzeł nie/ską/pił , bla/sza/ny , Jak wąż boa do stro/ny , Ow++ pod je bia/łe , lecz po/wie/rzy , Że mu gło/wę , wy/mie/szał U/li/wy : \n",
      "\n"
     ]
    },
    {
     "name": "stderr",
     "output_type": "stream",
     "text": [
      " 60%|█████▉    | 1199/2000 [21:49<14:34,  1.09s/it, loss=3.67]"
     ]
    },
    {
     "name": "stdout",
     "output_type": "stream",
     "text": [
      "\n",
      "[21m 49s (1200 60%) loss=3.6658 bw=0.0286]\n",
      "Po/wrot pa/ni/cza ! He ! Klu/cz/ni/ka , Lecz za/raz w o/czach się w biór/ku . U/da/jąc z nóg téj z ma/lo/wał . Wi/dać że mu dzie/wi/li/cza przy/siadł , Zaś kwe/starz Ro/bak się cał/kiem o/pa/sa/ne , Gdzie z roz/sąd/kiem , I on zmie/nił się o/kry/ły na/kształt ro/by/niach o/żył ; Pod/cza/je , Twarz w go/ściom i ' kwe/starz u/stach dziec/ka po/czci/ko/wał , I waszéj bro++ \n",
      "\n"
     ]
    },
    {
     "name": "stderr",
     "output_type": "stream",
     "text": [
      " 65%|██████▍   | 1299/2000 [23:39<12:46,  1.09s/it, loss=2.81]"
     ]
    },
    {
     "name": "stdout",
     "output_type": "stream",
     "text": [
      "\n",
      "[23m 39s (1300 65%) loss=2.8095 bw=0.0000]\n",
      "Po/wrot pa/ni/cza ! z wi/dzieć , cóż to od/mó/nia na skle/pie/niu , Słu/chaj to na ka/pi/ta/ły , I by chciał za/wsze ja/god --sza/łem , Pod/ko/mo/rzy mó/wił , Wi/dać rzekł Hra/bia , prze/cież wy/dzi/łem -- od le/piéj zna się pro/ces/be/ni , Nie/mógł o nim dla za/ba/to/wał . Po/do/b/ny spra/wy Krup --nio/na ! Wszy/s/t/ko ! Wszy/s/t/ko strwo/nił do dwo/ru ; Po/do++ \n",
      "\n"
     ]
    },
    {
     "name": "stderr",
     "output_type": "stream",
     "text": [
      " 70%|██████▉   | 1399/2000 [25:28<10:56,  1.09s/it, loss=2.91]"
     ]
    },
    {
     "name": "stdout",
     "output_type": "stream",
     "text": [
      "\n",
      "[25m 28s (1400 70%) loss=2.9137 bw=0.0095]\n",
      "Po/wrot pa/ni/cza Zmy/cza , ro/zu/cz/ki po/lo/wa/nia , I krzą/ta/ła się służ/ba się z ra/ju , w Re/jen/tem wzmog/ła się ko/ni , I po/do/b/ne wszy/s/t/kich o/rze/lał , A s ty/łu już , By się za/czy/na , I na/słał z dalszéj do łok/cia , ale gdzie na rui/sa/mi wspiął Księ/dza mo/dzie szu/kać ; Tak strzel/cy blis/ka w po/moc da mi swą --ły się mnó/stwo , peł/ni \n",
      "\n"
     ]
    },
    {
     "name": "stderr",
     "output_type": "stream",
     "text": [
      " 75%|███████▍  | 1499/2000 [27:14<09:06,  1.09s/it, loss=2.24]"
     ]
    },
    {
     "name": "stdout",
     "output_type": "stream",
     "text": [
      "\n",
      "[27m 14s (1500 75%) loss=2.2431 bw=0.0190]\n",
      "Po/wrot pa/ni/cza , i już go grze++ da/jem ; No/gi , wy/ciętéj gło/wę , już u/rząd schy/lo/nym , skro/biąc o/sta/t/nich szó/stym dniu stwo/ci/nie ; Ka/ło rzekł na o/czu , nie Wać nie za/go/nie ; Ta/de/usz za nim , i w o/gród się wpa/try/wał . Dzi/wna wy/tem , I w ja/dziéj Au/no ; -- ) Wdział więc się u/ro/dze/nia , Od/kry/ły ot/wo/cha/li , te --łe nie/wié , \n",
      "\n"
     ]
    },
    {
     "name": "stderr",
     "output_type": "stream",
     "text": [
      " 80%|███████▉  | 1599/2000 [29:00<07:16,  1.09s/it, loss=2.27]"
     ]
    },
    {
     "name": "stdout",
     "output_type": "stream",
     "text": [
      "\n",
      "[29m 0s (1600 80%) loss=2.2688 bw=0.0095]\n",
      "Po/wrot pa/ni/cza w du/mę chwi/lę trwa/ło pio/ru/łe , mój pies --ra/to/stwo go grze/cz/ne in/nych kłót/ni/czym O mu/zy/ce , cien/ki , wstrzy/mać się bo/ko/wał ; Na/wet w do/brych sztu/cz/nie Ze sztu/ki . Kró/t/kie drze/wa się gość --ża , Wszak/ca w o/gro/dzie źmi/ja , Dwoistém żąd/łem zio/ły w do/brych Czwa++ ! Nikt ze mie/się/giem --miec/kim nie/ma/ło . Tu nie/bę/dzie , Owe sła/wa , \n",
      "\n"
     ]
    },
    {
     "name": "stderr",
     "output_type": "stream",
     "text": [
      " 85%|████████▍ | 1699/2000 [30:44<05:26,  1.09s/it, loss=1.88]"
     ]
    },
    {
     "name": "stdout",
     "output_type": "stream",
     "text": [
      "\n",
      "[30m 44s (1700 85%) loss=1.8826 bw=0.0381]\n",
      "Po/wrot pa/ni/cza wśród --la/ry . I nie/śmie/ny na miej/s/cu cór/ka , Po/la/ło się grzy/bo-bra/nia , I zna się w kłę/bach krzy/cząc z o/błą/wio/ny , S Sop/li/cy o nim , kie/dy bić się w cza/sów ; Chwi/lę z je/go do/mu gło/wą , A nie/bios pro/ga/la/sów/ki , mło/dzie/niec za/mę/ściu ? Czy wsi ? O/sta/t/t/nie zni/dzie w Lit/wie dwo/rzan o/gon Drze/wa . Też wi++ \n",
      "\n"
     ]
    },
    {
     "name": "stderr",
     "output_type": "stream",
     "text": [
      " 90%|████████▉ | 1799/2000 [32:27<03:37,  1.08s/it, loss=1.49]"
     ]
    },
    {
     "name": "stdout",
     "output_type": "stream",
     "text": [
      "\n",
      "[32m 27s (1800 90%) loss=1.4854 bw=0.0190]\n",
      "Po/wrot pa/ni/cza , w środ/ku je/den chwy/ci/li : » Ta/de/usz ja/s/ny i kwia/ty , Wspie/ra do po/lo/wa/nia , Le/rze mu wio/nął , w dół Bo/na/to/to/wą od/kry/te war/ko/czu Wy/smuk/ły bob . Po/pra/wa , pół bie/cha/ła w je/że/cz/kim skło/nio/na , Wszak/że już , w le/wo skrzy/la/ny ; Aż z rąk wy/ciś/nie , Cy/wa ci/ci i ro/zum , za/le/dwo w \n",
      "\n"
     ]
    },
    {
     "name": "stderr",
     "output_type": "stream",
     "text": [
      " 95%|█████████▍| 1899/2000 [34:14<01:49,  1.08s/it, loss=2.64]"
     ]
    },
    {
     "name": "stdout",
     "output_type": "stream",
     "text": [
      "\n",
      "[34m 14s (1900 95%) loss=2.6365 bw=0.0095]\n",
      "Po/wrot pa/ni/cza , z o/stre/kiem do paz/nok/cia In/de/xu , a już był u nas pta/ki go/rą/cość szep/nię . W tém łac/niéj w Lit/wie da/je , Aby zga/dnąć , jak się nie i tak cu/dne/go koń/cu kró/t/kie , jak len bia/łe , i psiar/nie księ/dzu i Hra/bie/go wpa/try/wał , I w dru/giéj Ca/cie się wzno/si Przed Ho/re/sz/ków ; Dzie/cho/dzi/wie w gu/ber/skim rzą/dzie ; Dość gdzie \n",
      "\n"
     ]
    },
    {
     "name": "stderr",
     "output_type": "stream",
     "text": [
      "100%|█████████▉| 1999/2000 [36:03<00:01,  1.08s/it, loss=2.02]"
     ]
    },
    {
     "name": "stdout",
     "output_type": "stream",
     "text": [
      "\n",
      "[36m 3s (2000 100%) loss=2.0164 bw=0.0190]\n",
      "Po/wrot pa/ni/cza , On w sam pro/mie/ni o moim lo/sów nie/dźwie/dzi , Je/mu koń/cu . Pan spać lu/bi ci/che chro/mie/nia I owe od/szedł z la/da wsi . » Tak zwykł ma/wiać pięk/ność , Pan mu ja/dasz , to za cza/sy trwał , nie/mu o/gro/dem , Jak przed sta/ną na wieś , a na miej/s/cu swém siad/ła , Tam/ten mu/chom , czem pa/zu/ra/li , w ko/nie sko/ki , Świe/cił je/s++ \n",
      "\n"
     ]
    },
    {
     "name": "stderr",
     "output_type": "stream",
     "text": []
    }
   ],
   "source": [
    "# USE_GPU = True\n",
    "n_epochs = 2000   # 2000\n",
    "print_every = 100 # 100\n",
    "plot_every = 100\n",
    "hidden_size = 100 # 100\n",
    "n_layers = 1 # 1\n",
    "lr = 0.005\n",
    "\n",
    "decoder = RNN(n_characters, hidden_size, n_characters, n_layers)\n",
    "if USE_GPU:\n",
    "  decoder.cuda()\n",
    "print(decoder, flush=True)\n",
    "decoder_optimizer = torch.optim.Adam(decoder.parameters(), lr=lr)\n",
    "criterion = nn.CrossEntropyLoss()\n",
    "if USE_GPU:\n",
    "  criterion.cuda()\n",
    "\n",
    "start = time.time()\n",
    "all_losses = []\n",
    "loss_avg = 0\n",
    "all_bw = []\n",
    "bw_avg = 0\n",
    "\n",
    "from tqdm import tqdm\n",
    "\n",
    "iterable = range(1, n_epochs + 1)\n",
    "tqdm_ = tqdm(iterable, '', leave=False, dynamic_ncols=True)\n",
    "first_step = True\n",
    "\n",
    "for epoch in tqdm_:\n",
    "    loss = train(*random_training_set())       \n",
    "    loss_avg += loss\n",
    "\n",
    "    # current loss chart\n",
    "    vis_update_line_chart(vis, 'loss', epoch, loss, epoch == 1)\n",
    "    \n",
    "    # progress_bar\n",
    "    tqdm_.set_postfix({'loss': loss})\n",
    "    text = f'&nbsp;<font color=\"red\">{tqdm_}</font>'\n",
    "    vis.text(text, win='progress_bar', opts=dict(title='progress_bar'))#, append=False)\n",
    "\n",
    "    # bad words\n",
    "    bw = bad_words(evaluate(prime_str, 100))\n",
    "    bw_avg += bw\n",
    "\n",
    "    # current bad words chart\n",
    "    vis_update_line_chart(vis, 'bad_words', epoch, bw, epoch == 1)\n",
    "    \n",
    "    if epoch % print_every == 0:\n",
    "#         prime_str = 'Wh'\n",
    "        prime_str = corpus_syl_tok[13:18]\n",
    "        e_syl = evaluate(prime_str, 100)\n",
    "        e_str = syl2str(e_syl)\n",
    "#         bw = bad_words(e_syl)\n",
    "        stats_str = '\\n[%s (%d %d%%) loss=%.4f bw=%.4f]' % (time_since(start), epoch, epoch / n_epochs * 100, loss, bw)\n",
    "        print(stats_str)\n",
    "#         e_str = e_str.replace('--', '<font color=\"gray\">--</font>').replace('++', '<font color=\"lightgray\">++</font>')\n",
    "        e_html = X(e_str).rpl('/').rpl('--', c='red').rpl('++', c='red')\n",
    "        print(e_str, '\\n', flush=True)\n",
    "        text = f'<b>{stats_str}</b><br />{e_html}'\n",
    "        vis.text(text, win='evaluation', opts=dict(title='evaluation'))#, append=False)\n",
    "\n",
    "    if epoch % plot_every == 0:\n",
    "        # loss_avg chart\n",
    "        vis_update_line_chart(vis, 'loss_avg', epoch, loss_avg / plot_every, first_step)\n",
    "        # bad_words_avg chart\n",
    "#         e_syl = evaluate(prime_str, 1000)\n",
    "#         bw = bad_words(e_syl)\n",
    "        vis_update_line_chart(vis, 'bad_words_avg', epoch, bw_avg / plot_every, first_step)\n",
    "        all_bw.append(bw)\n",
    "        bw_avg = 0\n",
    "        \n",
    "        first_step = False\n",
    "        \n",
    "        all_losses.append(loss_avg / plot_every)\n",
    "        loss_avg = 0\n",
    "        "
   ]
  },
  {
   "cell_type": "markdown",
   "metadata": {
    "colab_type": "text",
    "id": "dXrPD94SXM5m"
   },
   "source": [
    "# Plotting the Training Losses\n",
    "\n",
    "Plotting the historical loss from all_losses shows the network learning:"
   ]
  },
  {
   "cell_type": "code",
   "execution_count": 482,
   "metadata": {
    "colab": {
     "autoexec": {
      "startup": false,
      "wait_interval": 0
     },
     "base_uri": "https://localhost:8080/",
     "height": 280
    },
    "colab_type": "code",
    "executionInfo": {
     "elapsed": 2025,
     "status": "ok",
     "timestamp": 1524669366298,
     "user": {
      "displayName": "Wojtek Czarnowski",
      "photoUrl": "//lh6.googleusercontent.com/-Sx8k456RbyI/AAAAAAAAAAI/AAAAAAAAEVg/Bn2jWaJ_hM0/s50-c-k-no/photo.jpg",
      "userId": "115130698336476923651"
     },
     "user_tz": -120
    },
    "id": "meKCxPo3XM5n",
    "outputId": "1ee1297d-485b-41f1-aa9e-ea2089f6848f"
   },
   "outputs": [
    {
     "data": {
      "image/png": "[encoded data removed]",
      "text/plain": [
       "<Figure size 640x480 with 1 Axes>"
      ]
     },
     "metadata": {
      "image/png": {
       "height": 408,
       "width": 529
      }
     },
     "output_type": "display_data"
    }
   ],
   "source": [
    "import matplotlib.pyplot as plt\n",
    "import matplotlib.ticker as ticker\n",
    "%matplotlib inline\n",
    "\n",
    "import matplotlib.style\n",
    "import matplotlib as mpl\n",
    "mpl.style.use('default')\n",
    "mpl.style.use('dark_background')\n",
    "mpl.style.use('bmh')\n",
    "%config InlineBackend.figure_format = 'retina'\n",
    "\n",
    "plt.figure()\n",
    "_ = plt.plot(all_losses)"
   ]
  },
  {
   "cell_type": "markdown",
   "metadata": {
    "colab_type": "text",
    "id": "2fEFWi-FXM5p"
   },
   "source": [
    "# Evaluating at different \"temperatures\"\n",
    "\n",
    "In the `evaluate` function above, every time a prediction is made the outputs are divided by the \"temperature\" argument passed. Using a higher number makes all actions more equally likely, and thus gives us \"more random\" outputs. Using a lower value (less than 1) makes high probabilities contribute more. As we turn the temperature towards zero we are choosing only the most likely outputs.\n",
    "\n",
    "We can see the effects of this by adjusting the `temperature` argument."
   ]
  },
  {
   "cell_type": "code",
   "execution_count": 483,
   "metadata": {
    "colab": {
     "autoexec": {
      "startup": false,
      "wait_interval": 0
     },
     "base_uri": "https://localhost:8080/",
     "height": 115
    },
    "colab_type": "code",
    "executionInfo": {
     "elapsed": 4165,
     "status": "ok",
     "timestamp": 1524669374175,
     "user": {
      "displayName": "Wojtek Czarnowski",
      "photoUrl": "//lh6.googleusercontent.com/-Sx8k456RbyI/AAAAAAAAAAI/AAAAAAAAEVg/Bn2jWaJ_hM0/s50-c-k-no/photo.jpg",
      "userId": "115130698336476923651"
     },
     "user_tz": -120
    },
    "id": "gBm5ibSnXM5p",
    "outputId": "d4523472-167e-4125-f467-8f561bd93016"
   },
   "outputs": [
    {
     "name": "stdout",
     "output_type": "stream",
     "text": [
      "Po/wrot pa/ni/cza , w wiel/kim gnie/wie ; Bar++ nad++ strzel/by krzy/czeć ? czy nie/ste/ty chwy/ci/da chwi/li . Pan Woj/ski sta/li : nie/co trwo/dzie/ście O/szczep , i s te/go pa/ła/sze . -- Lecz by/ły sko/ra ! Ta/de/usz się w pro/gu pa/pi/wie jak bi/ją/ca . Wie/dział się że z za/ko/dzi/ny , że mu głos sza/lał , Dru/gie wzię/ła w róż/kim nie/zgo/dzi , szczérze --ka/lu/je , Tam/ten W koń/cu sta/re , Ta/de/usz wy/szedł za/stą/pić sum/nie/niem , Chłod po/bieg/ła się ku/ran/ty za/ba/wić , A Ger/wa/zy się ha/ła/sy , Ja/ko był wiel/ka na ko/goś roz/mó/wę , Ale tre/ści miej/s/ca zej/dzie pa/miąt/kę , szu/ka/li go na ło/wach ; Za/mku Ho/re/sz/ków Pół/ko/zic jaś/niał , ko/jaś/na na szma/py mo/sz/czę go na trzy/król/skie I\n"
     ]
    }
   ],
   "source": [
    "prime_str = corpus_syl_tok[13:18]\n",
    "print(syl2str(evaluate(prime_str, 200, temperature=0.8), delim='/'))"
   ]
  },
  {
   "cell_type": "markdown",
   "metadata": {
    "colab_type": "text",
    "id": "DnStt-FzXM5r"
   },
   "source": [
    "Lower temperatures are less varied, choosing only the more probable outputs:"
   ]
  },
  {
   "cell_type": "code",
   "execution_count": 492,
   "metadata": {
    "colab": {
     "autoexec": {
      "startup": false,
      "wait_interval": 0
     },
     "base_uri": "https://localhost:8080/",
     "height": 66
    },
    "colab_type": "code",
    "executionInfo": {
     "elapsed": 2412,
     "status": "ok",
     "timestamp": 1524669376720,
     "user": {
      "displayName": "Wojtek Czarnowski",
      "photoUrl": "//lh6.googleusercontent.com/-Sx8k456RbyI/AAAAAAAAAAI/AAAAAAAAEVg/Bn2jWaJ_hM0/s50-c-k-no/photo.jpg",
      "userId": "115130698336476923651"
     },
     "user_tz": -120
    },
    "id": "D3mkq_sCXM5r",
    "outputId": "be77e86b-f50c-46f8-f81c-708a0edf047b"
   },
   "outputs": [
    {
     "name": "stdout",
     "output_type": "stream",
     "text": [
      "Po/wrot pa/ni/cza , w Rze/cie . W tém pan o/bo/je nie/dźwie/dzi . Sa/ma jak la/ty , aż ją od/stra/szo/ny Gra/fie . Strzel/cy roz/są/dzić się zni/ty . Woj/ski sta/ry , pra/w/da że twarz ła/dną , Ki/bić mia/ła wy/smuk/łą , ale nie/bę/dzie po li/tew/skich ob/ła/wni/cy , I o/czy/ma cie/ka/ła się , aż się u/spo/koi/ły , Czy/li z bo/ru , za/czem wszys/cy , nie/dźwiedź , od/ga/dniesz że się w pra/wo , w le/wo , ska/cze skroś stru/mie/ni , Wo++ cu/dów ka/ż/de/go z Pa/nów moich , wi/wat za nim wrzask psów i As/ses/sor , pu/ścił s ko/lei przed/sta/wia : Na/przód Ta/de/u/sza wy/cią/g/nąć s po/ba/ka , zwła/sz/cza/li się , aż się Pan Woj/ski sta/ry , w o/czy wpa/da/jąc , Jak dru/dzy ku/lę je/go koń/ca\n"
     ]
    }
   ],
   "source": [
    "print(syl2str(evaluate(prime_str, 200, temperature=0.2), delim='/'))"
   ]
  },
  {
   "cell_type": "markdown",
   "metadata": {
    "colab_type": "text",
    "id": "l508QP1LXM5t"
   },
   "source": [
    "Higher temperatures more varied, choosing less probable outputs:"
   ]
  },
  {
   "cell_type": "code",
   "execution_count": 491,
   "metadata": {
    "colab": {
     "autoexec": {
      "startup": false,
      "wait_interval": 0
     },
     "base_uri": "https://localhost:8080/",
     "height": 86
    },
    "colab_type": "code",
    "executionInfo": {
     "elapsed": 1051,
     "status": "ok",
     "timestamp": 1524580775398,
     "user": {
      "displayName": "Wojtek Czarnowski",
      "photoUrl": "//lh6.googleusercontent.com/-Sx8k456RbyI/AAAAAAAAAAI/AAAAAAAAEVg/Bn2jWaJ_hM0/s50-c-k-no/photo.jpg",
      "userId": "115130698336476923651"
     },
     "user_tz": -120
    },
    "id": "SxhfgI-PXM5u",
    "outputId": "2e41a589-1a59-444e-cb52-2b481ebd2d6c"
   },
   "outputs": [
    {
     "name": "stdout",
     "output_type": "stream",
     "text": [
      "Po/wrot pa/ni/cza wo/tu/wis/wać swe ra/mio/nym , --nu go świe/rze ja/ki , do Bo/gu ; Lecz ob/li/cyi Ta/jem/for/mo/tny Hra/bie++ gło/wę . Że też sta/li/nął cio/niem Je/den za/słu/chi/cia/ło Kró++ . Przy nim gnie/wu --dru/strzyg/ja . We dwóch iz/bach ros/ciąg/nio/mi potém ścia/ny , oba bla/nie/rzy/ją stą/pa/nie Po/ma/wiał ; Da/sia++ w służ/ba nie/dźwie/wą wy/łe , ale gość Do++ wpadł --ne/mi na/wra/ca/jąc czas du/szy chciał bi/czem . Więc ło/wiąc Prze/j/li dzi/wał i w śmiech swą Zo++ ; Pod/ko/mo/rzy naj/zwa/cić że/ści . To potém dwa róż/nie rzecz --chaw/szy , dał miał Wy/cho/lę ; Gdzie Je/s/tem już swéj roz/wie Jak las/ni/nia . Po/do/sły++ snuł po/waż/ny rę/ką ob/nia Wiész przy/bra/ne ; U/cz++ głoś/ny Mar++ za prze/cież ma/ją/chy ? Wy złoś/go wła/da/no gdzie e/lił wca++\n"
     ]
    }
   ],
   "source": [
    "print(syl2str(evaluate(prime_str, 200, temperature=1.4), delim='/'))"
   ]
  },
  {
   "cell_type": "markdown",
   "metadata": {
    "colab_type": "text",
    "id": "-UQoZYk2XM5v"
   },
   "source": [
    "# Exercises\n",
    "\n",
    "* Train with your own dataset, e.g.\n",
    "    * Text from another author\n",
    "    * Blog posts\n",
    "    * Code\n",
    "* Increase number of layers and network size to get better results"
   ]
  },
  {
   "cell_type": "markdown",
   "metadata": {
    "colab_type": "text",
    "id": "pFHHvkI6XM5w"
   },
   "source": [
    "**Next**: [Generating Names with a Conditional Character-Level RNN](https://github.com/spro/practical-pytorch/blob/master/conditional-char-rnn/conditional-char-rnn.ipynb)"
   ]
  },
  {
   "cell_type": "markdown",
   "metadata": {
    "colab_type": "text",
    "id": "EtK-9BuuB-GX"
   },
   "source": [
    "# save model"
   ]
  },
  {
   "cell_type": "code",
   "execution_count": 486,
   "metadata": {
    "colab": {
     "autoexec": {
      "startup": false,
      "wait_interval": 0
     }
    },
    "colab_type": "code",
    "id": "aSA3Utpc6dXV"
   },
   "outputs": [],
   "source": [
    "ALLCHARS, MODEL = ['all_characters', 'model']\n",
    "\n",
    "fn_pan_tadeusz = {ALLCHARS: 'all_characters.pan_tadeusz.p', MODEL: 'pan_tadeusz.h100.l1.e2000.cpu.torch'}\n",
    "\n",
    "fn_dict = fn_pan_tadeusz"
   ]
  },
  {
   "cell_type": "code",
   "execution_count": 487,
   "metadata": {
    "colab": {
     "autoexec": {
      "startup": false,
      "wait_interval": 0
     }
    },
    "colab_type": "code",
    "id": "XJ-j5_4I6d0g"
   },
   "outputs": [],
   "source": [
    "# save all_characters\n",
    "import pickle\n",
    "\n",
    "pickle.dump(all_characters, open(tmp_path / fn_dict[ALLCHARS], 'wb'))"
   ]
  },
  {
   "cell_type": "code",
   "execution_count": 488,
   "metadata": {
    "colab": {
     "autoexec": {
      "startup": false,
      "wait_interval": 0
     }
    },
    "colab_type": "code",
    "id": "CDm3bjJy6d3S"
   },
   "outputs": [],
   "source": [
    "# all_characters = pickle.load( open( tmp_path / fn_dict[ALLCHARS], 'rb' ) )\n",
    "# n_characters = len(all_characters)"
   ]
  },
  {
   "cell_type": "code",
   "execution_count": 489,
   "metadata": {
    "colab": {
     "autoexec": {
      "startup": false,
      "wait_interval": 0
     },
     "base_uri": "https://localhost:8080/",
     "height": 99
    },
    "colab_type": "code",
    "executionInfo": {
     "elapsed": 1592,
     "status": "ok",
     "timestamp": 1524669389158,
     "user": {
      "displayName": "Wojtek Czarnowski",
      "photoUrl": "//lh6.googleusercontent.com/-Sx8k456RbyI/AAAAAAAAAAI/AAAAAAAAEVg/Bn2jWaJ_hM0/s50-c-k-no/photo.jpg",
      "userId": "115130698336476923651"
     },
     "user_tz": -120
    },
    "id": "qHbGgVULB_cp",
    "outputId": "861597e7-1d11-4d35-9b78-6741888cd82c"
   },
   "outputs": [
    {
     "data": {
      "text/plain": [
       "<bound method Module.state_dict of RNN(\n",
       "  (encoder): Embedding(5776, 100)\n",
       "  (gru): GRU(100, 100)\n",
       "  (decoder): Linear(in_features=100, out_features=5776, bias=True)\n",
       ")>"
      ]
     },
     "execution_count": 489,
     "metadata": {},
     "output_type": "execute_result"
    }
   ],
   "source": [
    "decoder.state_dict"
   ]
  },
  {
   "cell_type": "code",
   "execution_count": 490,
   "metadata": {
    "colab": {
     "autoexec": {
      "startup": false,
      "wait_interval": 0
     },
     "base_uri": "https://localhost:8080/",
     "height": 69
    },
    "colab_type": "code",
    "executionInfo": {
     "elapsed": 1228,
     "status": "ok",
     "timestamp": 1524669486029,
     "user": {
      "displayName": "Wojtek Czarnowski",
      "photoUrl": "//lh6.googleusercontent.com/-Sx8k456RbyI/AAAAAAAAAAI/AAAAAAAAEVg/Bn2jWaJ_hM0/s50-c-k-no/photo.jpg",
      "userId": "115130698336476923651"
     },
     "user_tz": -120
    },
    "id": "nRXLplmTCumA",
    "outputId": "7b4d8564-2a96-4331-d374-950743889b4e"
   },
   "outputs": [
    {
     "name": "stderr",
     "output_type": "stream",
     "text": [
      "/Users/wcz/anaconda3/envs/fastai-cpu/lib/python3.6/site-packages/torch/serialization.py:159: UserWarning: Couldn't retrieve source code for container of type RNN. It won't be checked for correctness upon loading.\n",
      "  \"type \" + obj.__name__ + \". It won't be checked \"\n"
     ]
    }
   ],
   "source": [
    "# save model\n",
    "model_path = tmp_path / fn_dict[MODEL]\n",
    "torch.save(decoder, model_path)"
   ]
  },
  {
   "cell_type": "code",
   "execution_count": null,
   "metadata": {
    "colab": {
     "autoexec": {
      "startup": false,
      "wait_interval": 0
     }
    },
    "colab_type": "code",
    "id": "-D9_ONXNMHPK"
   },
   "outputs": [],
   "source": [
    "# decoder = torch.load(model_path)"
   ]
  }
 ],
 "metadata": {
  "accelerator": "GPU",
  "colab": {
   "collapsed_sections": [],
   "default_view": {},
   "name": "char-rnn-generation-wcz3-gpu.ipynb",
   "provenance": [
    {
     "file_id": "1DztHxtFb_tfNmrLeOcav9myCNqeTlZ82",
     "timestamp": 1524492157904
    },
    {
     "file_id": "1sv_cPvPEWEOrG9wS3fPjAOj-Wvs6kc0P",
     "timestamp": 1524467882593
    }
   ],
   "toc_visible": true,
   "version": "0.3.2",
   "views": {}
  },
  "kernelspec": {
   "display_name": "Python 3",
   "language": "python",
   "name": "python3"
  },
  "language_info": {
   "codemirror_mode": {
    "name": "ipython",
    "version": 3
   },
   "file_extension": ".py",
   "mimetype": "text/x-python",
   "name": "python",
   "nbconvert_exporter": "python",
   "pygments_lexer": "ipython3",
   "version": "3.6.5"
  }
 },
 "nbformat": 4,
 "nbformat_minor": 2
}
