{
 "cells": [
  {
   "cell_type": "code",
   "execution_count": null,
   "metadata": {},
   "outputs": [],
   "source": [
    "from pathlib import Path\n",
    "dataset_path = Path('data/rnn_generator'); dataset_path\n",
    "tmp_path = dataset_path / 'tmp/'\n",
    "!mkdir -p $tmp_path"
   ]
  },
  {
   "cell_type": "code",
   "execution_count": null,
   "metadata": {},
   "outputs": [],
   "source": []
  },
  {
   "cell_type": "code",
   "execution_count": null,
   "metadata": {},
   "outputs": [],
   "source": []
  },
  {
   "cell_type": "code",
   "execution_count": null,
   "metadata": {},
   "outputs": [],
   "source": []
  },
  {
   "cell_type": "code",
   "execution_count": 2,
   "metadata": {},
   "outputs": [
    {
     "name": "stdout",
     "output_type": "stream",
     "text": [
      "Stemmer 2.0.3 2018-04-19 (macOS i386)\n",
      "For Korrida database, spellchecker and hyphenator copyright (C) 1993-2018 Wojciech Czarnowski\n",
      "For Stemmer copyright (C) 2018 Krzysztof Wolk and Wojciech Czarnowski\n",
      "Wojciech Czarnowski: wojtek.czarnowski@gmail.com, +48(608)202-272\n",
      "Krzysztof Wolk: krz.wolk@gmail.com, +48(606)918-623\n",
      "\n",
      "Usage: stemmer options\n",
      "\n",
      "Options:\n",
      "-v, --verbose\n",
      "--version\n",
      "-s number, --stem=number\n",
      "-d file or --dict=<file.dic>\n",
      "-i file or --file_in=<file>\n",
      "-o file or --file_out=<file>\n",
      "-l file or --log=<file>\n",
      "-e file or --exclude=<file>\n",
      "--stem_delim=\"string\"\n",
      "--code_delim=\"string\"\n",
      "--divide_after=number\n",
      "\n",
      "Stemming options:\n",
      "  1 stem \"nie\" prefix\n",
      "  2 stem extra prefixes\n",
      "  4 stem prefixes in root\n",
      "  8 stem in suffix\n",
      "\n",
      "POS options:\n",
      " 16 output POS and inflection group\n",
      " 32 output additional POS info\n",
      "\n",
      "Output Korrida codes:\n",
      " 64 group code\n",
      "128 base suffix codes\n",
      "256 suffix code\n",
      "\n",
      "Division options:\n",
      " 512 divide words\n",
      "1024 divide with dictionary\n",
      "2048 divide algorithmically\n",
      "4096 divide unknown words\n",
      "\n",
      "Using 512 division option turns off stemming.\n",
      "\n",
      "Defaults:\n",
      "- stem delimiter: \"++ --\"\n",
      "- code delimiter: \"@@\"\n",
      "- options: 1+2\n",
      "- divide after 1 character\n",
      "\n",
      "Sample sets of options:\n",
      "3=1+2          (stem more words)\n",
      "15=1+2+3+4+8   (stem more words and in roots and suffixes)\n",
      "320=64+256     (output old Korrida codes)\n",
      "195=1+2+64+128 (stem more words, output new Korrida codes)\n",
      "147=1+2+16+128 (stem more words, output POS and base suffix codes)\n",
      "7683=1+2+512+1024+2048+4096 (divide (more) words with dictionary, then algorithmically and also unknown words)\n"
     ]
    }
   ],
   "source": [
    "!bin/stemmer.macos -h"
   ]
  },
  {
   "cell_type": "code",
   "execution_count": null,
   "metadata": {},
   "outputs": [],
   "source": []
  }
 ],
 "metadata": {
  "kernelspec": {
   "display_name": "Python 3",
   "language": "python",
   "name": "python3"
  },
  "language_info": {
   "codemirror_mode": {
    "name": "ipython",
    "version": 3
   },
   "file_extension": ".py",
   "mimetype": "text/x-python",
   "name": "python",
   "nbconvert_exporter": "python",
   "pygments_lexer": "ipython3",
   "version": "3.6.5"
  }
 },
 "nbformat": 4,
 "nbformat_minor": 2
}
