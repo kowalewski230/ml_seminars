{
  "nbformat": 4,
  "nbformat_minor": 0,
  "metadata": {
    "colab": {
      "name": "char-rnn-classification-en.ipynb",
      "version": "0.3.2",
      "views": {},
      "default_view": {},
      "provenance": [
        {
          "file_id": "1MnuFodDCXwmRCAboH5EhJ0-c6gEHp6L1",
          "timestamp": 1524808584077
        }
      ],
      "collapsed_sections": [],
      "toc_visible": true
    },
    "kernelspec": {
      "name": "python3",
      "display_name": "Python 3"
    },
    "accelerator": "GPU"
  },
  "cells": [
    {
      "metadata": {
        "id": "p8R8cWSlrBRK",
        "colab_type": "text"
      },
      "cell_type": "markdown",
      "source": [
        "![](https://i.imgur.com/eBRPvWB.png)\n",
        "\n",
        "# Practical PyTorch: Classifying Names with a Character-Level RNN\n",
        "\n",
        "We will be building and training a basic character-level RNN to classify words. A character-level RNN reads words as a series of characters - outputting a prediction and \"hidden state\" at each step, feeding its previous hidden state into each next step. We take the final prediction to be the output, i.e. which class the word belongs to.\n",
        "\n",
        "Specifically, we'll train on a few thousand surnames from 18 languages of origin, and predict which language a name is from based on the spelling:\n",
        "\n",
        "```\n",
        "$ python predict.py Hinton\n",
        "(-0.47) Scottish\n",
        "(-1.52) English\n",
        "(-3.57) Irish\n",
        "\n",
        "$ python predict.py Schmidhuber\n",
        "(-0.19) German\n",
        "(-2.48) Czech\n",
        "(-2.68) Dutch\n",
        "```"
      ]
    },
    {
      "metadata": {
        "id": "CVuGznp_rBRM",
        "colab_type": "text"
      },
      "cell_type": "markdown",
      "source": [
        "# Recommended Reading\n",
        "\n",
        "I assume you have at least installed PyTorch, know Python, and understand Tensors:\n",
        "\n",
        "* http://pytorch.org/ For installation instructions\n",
        "* [Deep Learning with PyTorch: A 60-minute Blitz](http://pytorch.org/tutorials/beginner/deep_learning_60min_blitz.html) to get started with PyTorch in general\n",
        "* [jcjohnson's PyTorch examples](https://github.com/jcjohnson/pytorch-examples) for an in depth overview\n",
        "* [Introduction to PyTorch for former Torchies](https://github.com/pytorch/tutorials/blob/master/Introduction%20to%20PyTorch%20for%20former%20Torchies.ipynb) if you are former Lua Torch user\n",
        "\n",
        "It would also be useful to know about RNNs and how they work:\n",
        "\n",
        "* [The Unreasonable Effectiveness of Recurrent Neural Networks](http://karpathy.github.io/2015/05/21/rnn-effectiveness/) shows a bunch of real life examples\n",
        "* [Understanding LSTM Networks](http://colah.github.io/posts/2015-08-Understanding-LSTMs/) is about LSTMs specifically but also informative about RNNs in general"
      ]
    },
    {
      "metadata": {
        "id": "V6C-QlCarBRN",
        "colab_type": "text"
      },
      "cell_type": "markdown",
      "source": [
        "# Preparing the Data\n",
        "\n",
        "Included in the `data/names` directory are 18 text files named as \"[Language].txt\". Each file contains a bunch of names, one name per line, mostly romanized (but we still need to convert from Unicode to ASCII).\n",
        "\n",
        "We'll end up with a dictionary of lists of names per language, `{language: [names ...]}`. The generic variables \"category\" and \"line\" (for language and name in our case) are used for later extensibility."
      ]
    },
    {
      "metadata": {
        "id": "a71GOs1JrBRO",
        "colab_type": "code",
        "colab": {
          "autoexec": {
            "startup": false,
            "wait_interval": 0
          }
        }
      },
      "cell_type": "code",
      "source": [
        "import glob\n",
        "\n",
        "all_filenames = glob.glob('data/names/*.txt')\n",
        "print(all_filenames)"
      ],
      "execution_count": 0,
      "outputs": []
    },
    {
      "metadata": {
        "id": "2vKAFyRurBRX",
        "colab_type": "code",
        "colab": {
          "autoexec": {
            "startup": false,
            "wait_interval": 0
          }
        }
      },
      "cell_type": "code",
      "source": [
        "# Build the category_lines dictionary, a list of names per language\n",
        "category_lines = {}\n",
        "all_categories = []\n",
        "\n",
        "# Read a file and split into lines\n",
        "def readLines(filename):\n",
        "    lines = open(filename).read().strip().split('\\n')\n",
        "    return lines\n",
        "\n",
        "for filename in all_filenames:\n",
        "    category = filename.split('/')[-1].split('.')[0]\n",
        "    all_categories.append(category)\n",
        "    lines = readLines(filename)\n",
        "    category_lines[category] = lines\n",
        "\n",
        "n_categories = len(all_categories)\n",
        "print('n_categories =', n_categories)"
      ],
      "execution_count": 0,
      "outputs": []
    },
    {
      "metadata": {
        "id": "lYmQPq5m-BJZ",
        "colab_type": "code",
        "colab": {
          "autoexec": {
            "startup": false,
            "wait_interval": 0
          }
        }
      },
      "cell_type": "code",
      "source": [
        "all_letters = ''.join(sorted(list(set(''.join([''.join(v) for k,v in category_lines.items()])))))\n",
        "n_letters = len(all_letters)\n",
        "\n",
        "print(f'all_letters = {all_letters}')\n",
        "print(f'n_letters = {n_letters}')"
      ],
      "execution_count": 0,
      "outputs": []
    },
    {
      "metadata": {
        "id": "jcWSPZdEMuWP",
        "colab_type": "code",
        "colab": {
          "autoexec": {
            "startup": false,
            "wait_interval": 0
          }
        }
      },
      "cell_type": "code",
      "source": [
        "import itertools\n",
        "ab = itertools.chain(*category_lines.values())\n",
        "n_samples = len(list(ab))"
      ],
      "execution_count": 0,
      "outputs": []
    },
    {
      "metadata": {
        "id": "rEuKRvtfrBRa",
        "colab_type": "text"
      },
      "cell_type": "markdown",
      "source": [
        "Now we have `category_lines`, a dictionary mapping each category (language) to a list of lines (names). We also kept track of `all_categories` (just a list of languages) and `n_categories` for later reference."
      ]
    },
    {
      "metadata": {
        "id": "kW_eF9IMrBRb",
        "colab_type": "code",
        "colab": {
          "autoexec": {
            "startup": false,
            "wait_interval": 0
          }
        }
      },
      "cell_type": "code",
      "source": [
        "c = category_lines['Polish']; print(len(c))\n",
        "print(c[:5])"
      ],
      "execution_count": 0,
      "outputs": []
    },
    {
      "metadata": {
        "id": "NQkKmBA1rBRe",
        "colab_type": "text"
      },
      "cell_type": "markdown",
      "source": [
        "# Turning Names into Tensors\n",
        "\n",
        "Now that we have all the names organized, we need to turn them into Tensors to make any use of them.\n",
        "\n",
        "To represent a single letter, we use a \"one-hot vector\" of size `<1 x n_letters>`. A one-hot vector is filled with 0s except for a 1 at index of the current letter, e.g. `\"b\" = <0 1 0 0 0 ...>`.\n",
        "\n",
        "To make a word we join a bunch of those into a 2D matrix `<line_length x 1 x n_letters>`.\n",
        "\n",
        "That extra 1 dimension is because PyTorch assumes everything is in batches - we're just using a batch size of 1 here."
      ]
    },
    {
      "metadata": {
        "id": "vRuqxAfdrBRf",
        "colab_type": "code",
        "colab": {
          "autoexec": {
            "startup": false,
            "wait_interval": 0
          }
        }
      },
      "cell_type": "code",
      "source": [
        "import torch\n",
        "\n",
        "# Just for demonstration, turn a letter into a <1 x n_letters> Tensor\n",
        "def letter_to_tensor(letter):\n",
        "    tensor = torch.zeros(1, n_letters)\n",
        "    letter_index = all_letters.find(letter)\n",
        "    tensor[0][letter_index] = 1\n",
        "    return tensor\n",
        "\n",
        "# Turn a line into a <line_length x 1 x n_letters>,\n",
        "# or an array of one-hot letter vectors\n",
        "def line_to_tensor(line):\n",
        "    tensor = torch.zeros(len(line), 1, n_letters)\n",
        "    for li, letter in enumerate(line):\n",
        "        letter_index = all_letters.find(letter)\n",
        "        tensor[li][0][letter_index] = 1\n",
        "    return tensor"
      ],
      "execution_count": 0,
      "outputs": []
    },
    {
      "metadata": {
        "id": "AmbVgnZRrBRh",
        "colab_type": "code",
        "colab": {
          "autoexec": {
            "startup": false,
            "wait_interval": 0
          }
        }
      },
      "cell_type": "code",
      "source": [
        "print(letter_to_tensor('c'))"
      ],
      "execution_count": 0,
      "outputs": []
    },
    {
      "metadata": {
        "id": "UlM0VMsHrBRk",
        "colab_type": "code",
        "colab": {
          "autoexec": {
            "startup": false,
            "wait_interval": 0
          }
        }
      },
      "cell_type": "code",
      "source": [
        "print(line_to_tensor('Jones').size())"
      ],
      "execution_count": 0,
      "outputs": []
    },
    {
      "metadata": {
        "id": "sKEVhPdqrBRn",
        "colab_type": "text"
      },
      "cell_type": "markdown",
      "source": [
        "# Creating the Network\n",
        "\n",
        "Before autograd, creating a recurrent neural network in Torch involved cloning the parameters of a layer over several timesteps. The layers held hidden state and gradients which are now entirely handled by the graph itself. This means you can implement a RNN in a very \"pure\" way, as regular feed-forward layers.\n",
        "\n",
        "This RNN module (mostly copied from [the PyTorch for Torch users tutorial](https://pytorch.org/tutorials/beginner/former_torchies_tutorial.html)) is just 2 linear layers which operate on an input and hidden state, with a LogSoftmax layer after the output.\n",
        "\n",
        "![](https://i.imgur.com/Z2xbySO.png)"
      ]
    },
    {
      "metadata": {
        "id": "-H_F5WHwrBRo",
        "colab_type": "code",
        "colab": {
          "autoexec": {
            "startup": false,
            "wait_interval": 0
          }
        }
      },
      "cell_type": "code",
      "source": [
        "import torch.nn as nn\n",
        "from torch.autograd import Variable\n",
        "\n",
        "class RNN(nn.Module):\n",
        "    def __init__(self, input_size, hidden_size, output_size):\n",
        "        super(RNN, self).__init__()\n",
        "        \n",
        "        self.input_size = input_size\n",
        "        self.hidden_size = hidden_size\n",
        "        self.output_size = output_size\n",
        "        \n",
        "        self.i2h = nn.Linear(input_size + hidden_size, hidden_size)\n",
        "        self.i2o = nn.Linear(input_size + hidden_size, output_size)\n",
        "        self.softmax = nn.LogSoftmax(dim=-1)\n",
        "    \n",
        "    def forward(self, input, hidden):\n",
        "        combined = torch.cat((input, hidden), 1)\n",
        "        hidden = self.i2h(combined)\n",
        "        output = self.i2o(combined)\n",
        "        output = self.softmax(output)\n",
        "        return output, hidden\n",
        "\n",
        "    def init_hidden(self):\n",
        "        return Variable(torch.zeros(1, self.hidden_size))"
      ],
      "execution_count": 0,
      "outputs": []
    },
    {
      "metadata": {
        "id": "oO72znMkrBRq",
        "colab_type": "text"
      },
      "cell_type": "markdown",
      "source": [
        "## Manually testing the network\n",
        "\n",
        "With our custom `RNN` class defined, we can create a new instance:"
      ]
    },
    {
      "metadata": {
        "id": "5CbBFv3LrBRq",
        "colab_type": "code",
        "colab": {
          "autoexec": {
            "startup": false,
            "wait_interval": 0
          }
        }
      },
      "cell_type": "code",
      "source": [
        "n_hidden = 128\n",
        "rnn = RNN(n_letters, n_hidden, n_categories)\n",
        "print(rnn)"
      ],
      "execution_count": 0,
      "outputs": []
    },
    {
      "metadata": {
        "id": "m5D65D12rBRr",
        "colab_type": "text"
      },
      "cell_type": "markdown",
      "source": [
        "To run a step of this network we need to pass an input (in our case, the Tensor for the current letter) and a previous hidden state (which we initialize as zeros at first). We'll get back the output (probability of each language) and a next hidden state (which we keep for the next step).\n",
        "\n",
        "Remember that PyTorch modules operate on Variables rather than straight up Tensors."
      ]
    },
    {
      "metadata": {
        "id": "0VztWCSkrBRs",
        "colab_type": "code",
        "colab": {
          "autoexec": {
            "startup": false,
            "wait_interval": 0
          }
        }
      },
      "cell_type": "code",
      "source": [
        "input = Variable(letter_to_tensor('A'))\n",
        "hidden = rnn.init_hidden()\n",
        "\n",
        "output, next_hidden = rnn(input, hidden)\n",
        "print('output.size =', output.size())"
      ],
      "execution_count": 0,
      "outputs": []
    },
    {
      "metadata": {
        "id": "7V3WjmyyrBRu",
        "colab_type": "text"
      },
      "cell_type": "markdown",
      "source": [
        "For the sake of efficiency we don't want to be creating a new Tensor for every step, so we will use `line_to_tensor` instead of `letter_to_tensor` and use slices. This could be further optimized by pre-computing batches of Tensors."
      ]
    },
    {
      "metadata": {
        "id": "e225Ggi8rBRu",
        "colab_type": "code",
        "colab": {
          "autoexec": {
            "startup": false,
            "wait_interval": 0
          }
        }
      },
      "cell_type": "code",
      "source": [
        "input = Variable(line_to_tensor('Albert'))\n",
        "hidden = Variable(torch.zeros(1, n_hidden))\n",
        "\n",
        "output, next_hidden = rnn(input[0], hidden)\n",
        "output"
      ],
      "execution_count": 0,
      "outputs": []
    },
    {
      "metadata": {
        "id": "1_m-H2UxrBRw",
        "colab_type": "text"
      },
      "cell_type": "markdown",
      "source": [
        "As you can see the output is a `<1 x n_categories>` Tensor, where every item is the likelihood of that category (higher is more likely)."
      ]
    },
    {
      "metadata": {
        "id": "dA-nDwW7dC74",
        "colab_type": "code",
        "colab": {
          "autoexec": {
            "startup": false,
            "wait_interval": 0
          }
        }
      },
      "cell_type": "code",
      "source": [
        "# https://discuss.pytorch.org/t/how-do-i-check-the-number-of-parameters-of-a-model/4325/10\n",
        "def count_parameters(model):\n",
        "  return sum(p.numel() for p in model.parameters() if p.requires_grad)\n",
        "\n",
        "count_parameters(rnn)"
      ],
      "execution_count": 0,
      "outputs": []
    },
    {
      "metadata": {
        "id": "7YnU8U1vrBRw",
        "colab_type": "text"
      },
      "cell_type": "markdown",
      "source": [
        "# Preparing for Training\n",
        "\n",
        "Before going into training we should make a few helper functions. The first is to interpret the output of the network, which we know to be a likelihood of each category. We can use `Tensor.topk` to get the index of the greatest value:"
      ]
    },
    {
      "metadata": {
        "id": "Hwu8mcP7rBRx",
        "colab_type": "code",
        "colab": {
          "autoexec": {
            "startup": false,
            "wait_interval": 0
          }
        }
      },
      "cell_type": "code",
      "source": [
        "def category_from_output(output):\n",
        "    top_n, top_i = output.data.topk(1) # Tensor out of Variable with .data\n",
        "    category_i = top_i[0][0]\n",
        "    return all_categories[category_i], category_i\n",
        "\n",
        "print(category_from_output(output))"
      ],
      "execution_count": 0,
      "outputs": []
    },
    {
      "metadata": {
        "id": "5vMB6vperBRz",
        "colab_type": "text"
      },
      "cell_type": "markdown",
      "source": [
        "We will also want a quick way to get a training example (a name and its language):"
      ]
    },
    {
      "metadata": {
        "id": "yrRTTzbyrBRz",
        "colab_type": "code",
        "colab": {
          "autoexec": {
            "startup": false,
            "wait_interval": 0
          }
        }
      },
      "cell_type": "code",
      "source": [
        "import random\n",
        "\n",
        "def random_training_pair():                                                                                                               \n",
        "    category = random.choice(all_categories)\n",
        "    line = random.choice(category_lines[category])\n",
        "    category_tensor = Variable(torch.LongTensor([all_categories.index(category)]))\n",
        "    line_tensor = Variable(line_to_tensor(line))\n",
        "    return category, line, category_tensor, line_tensor\n",
        "\n",
        "for i in range(10):\n",
        "    category, line, category_tensor, line_tensor = random_training_pair()\n",
        "    print('category =', category, '/ line =', line)"
      ],
      "execution_count": 0,
      "outputs": []
    },
    {
      "metadata": {
        "id": "DOyloI9erBR1",
        "colab_type": "text"
      },
      "cell_type": "markdown",
      "source": [
        "# Training the Network\n",
        "\n",
        "Now all it takes to train this network is show it a bunch of examples, have it make guesses, and tell it if it's wrong.\n",
        "\n",
        "For the [loss function `nn.NLLLoss`](http://pytorch.org/docs/nn.html#nllloss) is appropriate, since the last layer of the RNN is `nn.LogSoftmax`."
      ]
    },
    {
      "metadata": {
        "id": "8A9iRTXNrBR1",
        "colab_type": "code",
        "colab": {
          "autoexec": {
            "startup": false,
            "wait_interval": 0
          }
        }
      },
      "cell_type": "code",
      "source": [
        "criterion = nn.NLLLoss()"
      ],
      "execution_count": 0,
      "outputs": []
    },
    {
      "metadata": {
        "id": "in9q2gr8rBR2",
        "colab_type": "text"
      },
      "cell_type": "markdown",
      "source": [
        "We will also create an \"optimizer\" which updates the parameters of our model according to its gradients. We will use the vanilla SGD algorithm with a low learning rate."
      ]
    },
    {
      "metadata": {
        "id": "2lhQHB5-rBR2",
        "colab_type": "code",
        "colab": {
          "autoexec": {
            "startup": false,
            "wait_interval": 0
          }
        }
      },
      "cell_type": "code",
      "source": [
        "learning_rate = 0.005 # If you set this too high, it might explode. If too low, it might not learn\n",
        "optimizer = torch.optim.SGD(rnn.parameters(), lr=learning_rate)"
      ],
      "execution_count": 0,
      "outputs": []
    },
    {
      "metadata": {
        "id": "wXH_ipl2rBR4",
        "colab_type": "text"
      },
      "cell_type": "markdown",
      "source": [
        "Each loop of training will:\n",
        "\n",
        "* Create input and target tensors\n",
        "* Create a zeroed initial hidden state\n",
        "* Read each letter in and\n",
        "    * Keep hidden state for next letter\n",
        "* Compare final output to target\n",
        "* Back-propagate\n",
        "* Return the output and loss"
      ]
    },
    {
      "metadata": {
        "id": "CkoFAE12rBR4",
        "colab_type": "code",
        "colab": {
          "autoexec": {
            "startup": false,
            "wait_interval": 0
          }
        }
      },
      "cell_type": "code",
      "source": [
        "def train(category_tensor, line_tensor):\n",
        "    rnn.zero_grad()\n",
        "    hidden = rnn.init_hidden()\n",
        "    \n",
        "    for i in range(line_tensor.size()[0]):\n",
        "        output, hidden = rnn(line_tensor[i], hidden)\n",
        "\n",
        "    loss = criterion(output, category_tensor)\n",
        "    loss.backward()\n",
        "\n",
        "    optimizer.step()\n",
        "\n",
        "    return output, loss.item()"
      ],
      "execution_count": 0,
      "outputs": []
    },
    {
      "metadata": {
        "id": "2vtXC_N6rBR5",
        "colab_type": "text"
      },
      "cell_type": "markdown",
      "source": [
        "Now we just have to run that with a bunch of examples. Since the `train` function returns both the output and loss we can print its guesses and also keep track of loss for plotting. Since there are 1000s of examples we print only every `print_every` time steps, and take an average of the loss."
      ]
    },
    {
      "metadata": {
        "id": "BYBA0bxYrBR6",
        "colab_type": "code",
        "colab": {
          "autoexec": {
            "startup": false,
            "wait_interval": 0
          }
        },
        "cellView": "code"
      },
      "cell_type": "code",
      "source": [
        "import time\n",
        "import math\n",
        "\n",
        "n_epochs = 5\n",
        "n_iters = n_epochs*n_samples\n",
        "print_every = 5000\n",
        "plot_every = 1000\n",
        "\n",
        "# Keep track of losses for plotting\n",
        "current_loss = 0\n",
        "all_losses = []\n",
        "\n",
        "def time_since(since):\n",
        "    now = time.time()\n",
        "    s = now - since\n",
        "    m = math.floor(s / 60)\n",
        "    s -= m * 60\n",
        "    return '%dm %ds' % (m, s)\n",
        "\n",
        "start = time.time()\n",
        "\n",
        "print(f'n_iters = {n_iters}')\n",
        "\n",
        "for it in range(1, n_iters + 1):\n",
        "    epoch = it // n_samples\n",
        "    # Get a random training input and target\n",
        "    category, line, category_tensor, line_tensor = random_training_pair()\n",
        "    output, loss = train(category_tensor, line_tensor)\n",
        "    current_loss += loss\n",
        "    \n",
        "    # Print iter number, loss, name and guess\n",
        "    if it % print_every == 0:\n",
        "        guess, guess_i = category_from_output(output)\n",
        "        correct = '✓' if guess == category else '✗ (%s)' % category\n",
        "        print('%d %d %d%% (%s) %.4f %s / %s %s' % (epoch, it, it / n_iters * 100, time_since(start), loss, line, guess, correct))\n",
        "\n",
        "    # Add current loss avg to list of losses\n",
        "    if it % plot_every == 0:\n",
        "        all_losses.append(current_loss / plot_every)\n",
        "        current_loss = 0"
      ],
      "execution_count": 0,
      "outputs": []
    },
    {
      "metadata": {
        "id": "s-KyWZH7rBR7",
        "colab_type": "text"
      },
      "cell_type": "markdown",
      "source": [
        "# Plotting the Results\n",
        "\n",
        "Plotting the historical loss from `all_losses` shows the network learning:"
      ]
    },
    {
      "metadata": {
        "id": "_nEE9-iyrBR7",
        "colab_type": "code",
        "colab": {
          "autoexec": {
            "startup": false,
            "wait_interval": 0
          }
        }
      },
      "cell_type": "code",
      "source": [
        "import matplotlib.pyplot as plt\n",
        "import matplotlib.ticker as ticker\n",
        "%matplotlib inline\n",
        "\n",
        "import matplotlib.style\n",
        "import matplotlib as mpl\n",
        "mpl.style.use('seaborn')\n",
        "\n",
        "fig=plt.figure()\n",
        "aaa = plt.plot(all_losses)"
      ],
      "execution_count": 0,
      "outputs": []
    },
    {
      "metadata": {
        "id": "aKYxf_5FYVcd",
        "colab_type": "code",
        "colab": {
          "autoexec": {
            "startup": false,
            "wait_interval": 0
          }
        }
      },
      "cell_type": "code",
      "source": [
        "y = all_losses\n",
        "n = 10\n",
        "averages = []\n",
        "for i in range(len(y) - n):\n",
        "    window = y[i:i+n]\n",
        "    avg = sum(window) / n\n",
        "    # print(window, avg)\n",
        "    averages.append(avg)"
      ],
      "execution_count": 0,
      "outputs": []
    },
    {
      "metadata": {
        "id": "xY5cCyaxYVj8",
        "colab_type": "code",
        "colab": {
          "autoexec": {
            "startup": false,
            "wait_interval": 0
          }
        }
      },
      "cell_type": "code",
      "source": [
        "len(all_losses), len(averages)"
      ],
      "execution_count": 0,
      "outputs": []
    },
    {
      "metadata": {
        "id": "QSKtEbz4YVmd",
        "colab_type": "code",
        "colab": {
          "autoexec": {
            "startup": false,
            "wait_interval": 0
          }
        }
      },
      "cell_type": "code",
      "source": [
        "fig=plt.figure()\n",
        "aaa = plt.plot(averages)"
      ],
      "execution_count": 0,
      "outputs": []
    },
    {
      "metadata": {
        "id": "A3m-_xnWrBR9",
        "colab_type": "text"
      },
      "cell_type": "markdown",
      "source": [
        "# Evaluating the Results\n",
        "\n",
        "To see how well the network performs on different categories, we will create a confusion matrix, indicating for every actual language (rows) which language the network guesses (columns). To calculate the confusion matrix a bunch of samples are run through the network with `evaluate()`, which is the same as `train()` minus the backprop."
      ]
    },
    {
      "metadata": {
        "id": "nqJksaTmrBR-",
        "colab_type": "code",
        "colab": {
          "autoexec": {
            "startup": false,
            "wait_interval": 0
          }
        }
      },
      "cell_type": "code",
      "source": [
        "# Keep track of correct guesses in a confusion matrix\n",
        "confusion = torch.zeros(n_categories, n_categories)\n",
        "n_confusion = 10000\n",
        "\n",
        "# Just return an output given a line\n",
        "def evaluate(line_tensor):\n",
        "    hidden = rnn.init_hidden()\n",
        "    \n",
        "    for i in range(line_tensor.size()[0]):\n",
        "        output, hidden = rnn(line_tensor[i], hidden)\n",
        "    \n",
        "    return output\n",
        "\n",
        "# Go through a bunch of examples and record which are correctly guessed\n",
        "for i in range(n_confusion):\n",
        "    category, line, category_tensor, line_tensor = random_training_pair()\n",
        "    output = evaluate(line_tensor)\n",
        "    guess, guess_i = category_from_output(output)\n",
        "    category_i = all_categories.index(category)\n",
        "    confusion[category_i][guess_i] += 1\n",
        "    \n",
        "# Normalize by dividing every row by its sum\n",
        "for i in range(n_categories):\n",
        "    confusion[i] = confusion[i] / confusion[i].sum()"
      ],
      "execution_count": 0,
      "outputs": []
    },
    {
      "metadata": {
        "id": "dcbKRGvbWSQl",
        "colab_type": "code",
        "colab": {
          "autoexec": {
            "startup": false,
            "wait_interval": 0
          }
        }
      },
      "cell_type": "code",
      "source": [
        "# confusion2 = np.log(confusion.numpy())"
      ],
      "execution_count": 0,
      "outputs": []
    },
    {
      "metadata": {
        "id": "Oo7SNvk9WnAT",
        "colab_type": "code",
        "colab": {
          "autoexec": {
            "startup": false,
            "wait_interval": 0
          }
        }
      },
      "cell_type": "code",
      "source": [
        "# confusion2"
      ],
      "execution_count": 0,
      "outputs": []
    },
    {
      "metadata": {
        "id": "o_Xi2OlygdrL",
        "colab_type": "code",
        "colab": {
          "autoexec": {
            "startup": false,
            "wait_interval": 0
          }
        }
      },
      "cell_type": "code",
      "source": [
        "mpl.style.use('default')\n",
        "mpl.style.use('seaborn-ticks')\n",
        "\n",
        "mpl.pyplot.set_cmap('hot_r')\n",
        "\n",
        "# Set up plot\n",
        "fig = plt.figure()\n",
        "ax = fig.add_subplot(111)\n",
        "cax = ax.matshow(confusion.numpy())\n",
        "# cax = ax.matshow(confusion2)\n",
        "fig.colorbar(cax)\n",
        "\n",
        "# Set up axes\n",
        "ax.set_xticklabels([''] + all_categories, rotation=90)\n",
        "ax.set_yticklabels([''] + all_categories)\n",
        "\n",
        "# Force label at every tick\n",
        "ax.xaxis.set_major_locator(ticker.MultipleLocator(1))\n",
        "ax.yaxis.set_major_locator(ticker.MultipleLocator(1))\n",
        "\n",
        "plt.show()"
      ],
      "execution_count": 0,
      "outputs": []
    },
    {
      "metadata": {
        "id": "-0cYQCsRrBR_",
        "colab_type": "text"
      },
      "cell_type": "markdown",
      "source": [
        "You can pick out bright spots off the main axis that show which languages it guesses incorrectly, e.g. Chinese for Korean, and Spanish for Italian. It seems to do very well with Greek, and very poorly with English (perhaps because of overlap with other languages)."
      ]
    },
    {
      "metadata": {
        "id": "n4Q4jXBOrBSA",
        "colab_type": "text"
      },
      "cell_type": "markdown",
      "source": [
        "# Running on User Input"
      ]
    },
    {
      "metadata": {
        "id": "TgYOUqrjrBSA",
        "colab_type": "code",
        "colab": {
          "autoexec": {
            "startup": false,
            "wait_interval": 0
          }
        }
      },
      "cell_type": "code",
      "source": [
        "import numpy as np\n",
        "\n",
        "def predict(input_line, n_predictions=3):\n",
        "    print('\\n> %s' % input_line)\n",
        "    output = evaluate(Variable(line_to_tensor(input_line)))\n",
        "\n",
        "    # Get top N categories\n",
        "    topv, topi = output.data.topk(n_predictions, 1, True)\n",
        "    predictions = []\n",
        "\n",
        "    for i in range(n_predictions):\n",
        "        value = topv[0][i]\n",
        "        category_index = topi[0][i]\n",
        "        pred = np.exp(value)\n",
        "        print('(%.2f%%) %s' % (pred*100, all_categories[category_index]))\n",
        "        # print('(%.2f) %s' % (value, all_categories[category_index]))\n",
        "        predictions.append([value, all_categories[category_index]])\n",
        "\n",
        "predict('Dovesky')\n",
        "predict('Jackson')\n",
        "predict('Satoshi')\n",
        "predict('Czarnowski')\n",
        "predict('Kazimierczak')"
      ],
      "execution_count": 0,
      "outputs": []
    },
    {
      "metadata": {
        "id": "0UXIXIQtrBSB",
        "colab_type": "text"
      },
      "cell_type": "markdown",
      "source": [
        "The final versions of the scripts [in the Practical PyTorch repo](https://github.com/spro/practical-pytorch/tree/master/char-rnn-classification) split the above code into a few files:\n",
        "\n",
        "* `data.py` (loads files)\n",
        "* `model.py` (defines the RNN)\n",
        "* `train.py` (runs training)\n",
        "* `predict.py` (runs `predict()` with command line arguments)\n",
        "* `server.py` (serve prediction as a JSON API with bottle.py)\n",
        "\n",
        "Run `train.py` to train and save the network.\n",
        "\n",
        "Run `predict.py` with a name to view predictions: \n",
        "\n",
        "```\n",
        "$ python predict.py Hazaki\n",
        "(-0.42) Japanese\n",
        "(-1.39) Polish\n",
        "(-3.51) Czech\n",
        "```\n",
        "\n",
        "Run `server.py` and visit http://localhost:5533/Yourname to get JSON output of predictions."
      ]
    },
    {
      "metadata": {
        "id": "M6kOTILyrBSC",
        "colab_type": "text"
      },
      "cell_type": "markdown",
      "source": [
        "# Exercises\n",
        "\n",
        "* Try with a different dataset of line -> category, for example:\n",
        "    * Any word -> language\n",
        "    * First name -> gender\n",
        "    * Character name -> writer\n",
        "    * Page title -> blog or subreddit\n",
        "* Get better results with a bigger and/or better shaped network\n",
        "    * Add more linear layers\n",
        "    * Try the `nn.LSTM` and `nn.GRU` layers\n",
        "    * Combine multiple of these RNNs as a higher level network"
      ]
    },
    {
      "metadata": {
        "id": "ZDA3v0tFrBSC",
        "colab_type": "text"
      },
      "cell_type": "markdown",
      "source": [
        "**Next**: [Generating Shakespeare with a Character-Level RNN](https://github.com/spro/practical-pytorch/blob/master/char-rnn-generation/char-rnn-generation.ipynb)"
      ]
    }
  ]
}