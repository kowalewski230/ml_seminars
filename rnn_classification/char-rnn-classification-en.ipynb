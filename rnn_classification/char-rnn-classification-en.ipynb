{
  "nbformat": 4,
  "nbformat_minor": 0,
  "metadata": {
    "colab": {
      "name": "char-rnn-classification-en.ipynb",
      "version": "0.3.2",
      "views": {},
      "default_view": {},
      "provenance": [
        {
          "file_id": "1MnuFodDCXwmRCAboH5EhJ0-c6gEHp6L1",
          "timestamp": 1524808584077
        }
      ],
      "collapsed_sections": []
    },
    "kernelspec": {
      "name": "python3",
      "display_name": "Python 3"
    },
    "accelerator": "GPU"
  },
  "cells": [
    {
      "metadata": {
        "id": "p8R8cWSlrBRK",
        "colab_type": "text"
      },
      "cell_type": "markdown",
      "source": [
        "![](https://i.imgur.com/eBRPvWB.png)\n",
        "\n",
        "# Practical PyTorch: Classifying Names with a Character-Level RNN\n",
        "\n",
        "We will be building and training a basic character-level RNN to classify words. A character-level RNN reads words as a series of characters - outputting a prediction and \"hidden state\" at each step, feeding its previous hidden state into each next step. We take the final prediction to be the output, i.e. which class the word belongs to.\n",
        "\n",
        "Specifically, we'll train on a few thousand surnames from 18 languages of origin, and predict which language a name is from based on the spelling:\n",
        "\n",
        "```\n",
        "$ python predict.py Hinton\n",
        "(-0.47) Scottish\n",
        "(-1.52) English\n",
        "(-3.57) Irish\n",
        "\n",
        "$ python predict.py Schmidhuber\n",
        "(-0.19) German\n",
        "(-2.48) Czech\n",
        "(-2.68) Dutch\n",
        "```"
      ]
    },
    {
      "metadata": {
        "id": "CVuGznp_rBRM",
        "colab_type": "text"
      },
      "cell_type": "markdown",
      "source": [
        "# Recommended Reading\n",
        "\n",
        "I assume you have at least installed PyTorch, know Python, and understand Tensors:\n",
        "\n",
        "* http://pytorch.org/ For installation instructions\n",
        "* [Deep Learning with PyTorch: A 60-minute Blitz](http://pytorch.org/tutorials/beginner/deep_learning_60min_blitz.html) to get started with PyTorch in general\n",
        "* [jcjohnson's PyTorch examples](https://github.com/jcjohnson/pytorch-examples) for an in depth overview\n",
        "* [Introduction to PyTorch for former Torchies](https://github.com/pytorch/tutorials/blob/master/Introduction%20to%20PyTorch%20for%20former%20Torchies.ipynb) if you are former Lua Torch user\n",
        "\n",
        "It would also be useful to know about RNNs and how they work:\n",
        "\n",
        "* [The Unreasonable Effectiveness of Recurrent Neural Networks](http://karpathy.github.io/2015/05/21/rnn-effectiveness/) shows a bunch of real life examples\n",
        "* [Understanding LSTM Networks](http://colah.github.io/posts/2015-08-Understanding-LSTMs/) is about LSTMs specifically but also informative about RNNs in general"
      ]
    },
    {
      "metadata": {
        "id": "V6C-QlCarBRN",
        "colab_type": "text"
      },
      "cell_type": "markdown",
      "source": [
        "# Preparing the Data\n",
        "\n",
        "Included in the `data/names` directory are 18 text files named as \"[Language].txt\". Each file contains a bunch of names, one name per line, mostly romanized (but we still need to convert from Unicode to ASCII).\n",
        "\n",
        "We'll end up with a dictionary of lists of names per language, `{language: [names ...]}`. The generic variables \"category\" and \"line\" (for language and name in our case) are used for later extensibility."
      ]
    },
    {
      "metadata": {
        "id": "a71GOs1JrBRO",
        "colab_type": "code",
        "colab": {
          "autoexec": {
            "startup": false,
            "wait_interval": 0
          },
          "base_uri": "https://localhost:8080/",
          "height": 54
        },
        "outputId": "75ce2c41-0508-4115-ba37-cc96ef961fb2",
        "executionInfo": {
          "status": "ok",
          "timestamp": 1528387882222,
          "user_tz": -120,
          "elapsed": 607,
          "user": {
            "displayName": "Wojtek Czarnowski",
            "photoUrl": "//lh6.googleusercontent.com/-Sx8k456RbyI/AAAAAAAAAAI/AAAAAAAAEig/wmURGqbv_J8/s50-c-k-no/photo.jpg",
            "userId": "115130698336476923651"
          }
        }
      },
      "cell_type": "code",
      "source": [
        "import glob\n",
        "\n",
        "all_filenames = glob.glob('data/names/*.txt')\n",
        "print(all_filenames)"
      ],
      "execution_count": 1,
      "outputs": [
        {
          "output_type": "stream",
          "text": [
            "['data/names/English.txt', 'data/names/Russian.txt', 'data/names/Chinese.txt', 'data/names/Scottish.txt', 'data/names/Korean.txt', 'data/names/Arabic.txt', 'data/names/Polish.txt', 'data/names/Spanish.txt', 'data/names/Dutch.txt', 'data/names/Portuguese.txt', 'data/names/Vietnamese.txt', 'data/names/German.txt', 'data/names/Czech.txt', 'data/names/Italian.txt', 'data/names/French.txt', 'data/names/Greek.txt', 'data/names/Irish.txt', 'data/names/Japanese.txt']\n"
          ],
          "name": "stdout"
        }
      ]
    },
    {
      "metadata": {
        "id": "2vKAFyRurBRX",
        "colab_type": "code",
        "colab": {
          "autoexec": {
            "startup": false,
            "wait_interval": 0
          },
          "base_uri": "https://localhost:8080/",
          "height": 34
        },
        "outputId": "ac2765d7-f68d-4678-fb29-426a374f9775",
        "executionInfo": {
          "status": "ok",
          "timestamp": 1528387882788,
          "user_tz": -120,
          "elapsed": 460,
          "user": {
            "displayName": "Wojtek Czarnowski",
            "photoUrl": "//lh6.googleusercontent.com/-Sx8k456RbyI/AAAAAAAAAAI/AAAAAAAAEig/wmURGqbv_J8/s50-c-k-no/photo.jpg",
            "userId": "115130698336476923651"
          }
        }
      },
      "cell_type": "code",
      "source": [
        "# Build the category_lines dictionary, a list of names per language\n",
        "category_lines = {}\n",
        "all_categories = []\n",
        "\n",
        "# Read a file and split into lines\n",
        "def readLines(filename):\n",
        "    lines = open(filename).read().strip().split('\\n')\n",
        "    return lines\n",
        "\n",
        "for filename in all_filenames:\n",
        "    category = filename.split('/')[-1].split('.')[0]\n",
        "    all_categories.append(category)\n",
        "    lines = readLines(filename)\n",
        "    category_lines[category] = lines\n",
        "\n",
        "n_categories = len(all_categories)\n",
        "print('n_categories =', n_categories)"
      ],
      "execution_count": 2,
      "outputs": [
        {
          "output_type": "stream",
          "text": [
            "n_categories = 18\n"
          ],
          "name": "stdout"
        }
      ]
    },
    {
      "metadata": {
        "id": "lYmQPq5m-BJZ",
        "colab_type": "code",
        "colab": {
          "autoexec": {
            "startup": false,
            "wait_interval": 0
          },
          "base_uri": "https://localhost:8080/",
          "height": 51
        },
        "outputId": "9d4952c2-5bb7-43b0-875d-d2f6dae11060",
        "executionInfo": {
          "status": "ok",
          "timestamp": 1528387883408,
          "user_tz": -120,
          "elapsed": 521,
          "user": {
            "displayName": "Wojtek Czarnowski",
            "photoUrl": "//lh6.googleusercontent.com/-Sx8k456RbyI/AAAAAAAAAAI/AAAAAAAAEig/wmURGqbv_J8/s50-c-k-no/photo.jpg",
            "userId": "115130698336476923651"
          }
        }
      },
      "cell_type": "code",
      "source": [
        "all_letters = ''.join(sorted(list(set(''.join([''.join(v) for k,v in category_lines.items()])))))\n",
        "n_letters = len(all_letters)\n",
        "\n",
        "print(f'all_letters = {all_letters}')\n",
        "print(f'n_letters = {n_letters}')"
      ],
      "execution_count": 3,
      "outputs": [
        {
          "output_type": "stream",
          "text": [
            "all_letters =  ',-/1:ABCDEFGHIJKLMNOPQRSTUVWXYZabcdefghijklmnopqrstuvwxyz ÁÉßàáãäçèéêìíñòóõöùúüąłńŚŻż\n",
            "n_letters = 87\n"
          ],
          "name": "stdout"
        }
      ]
    },
    {
      "metadata": {
        "id": "rEuKRvtfrBRa",
        "colab_type": "text"
      },
      "cell_type": "markdown",
      "source": [
        "Now we have `category_lines`, a dictionary mapping each category (language) to a list of lines (names). We also kept track of `all_categories` (just a list of languages) and `n_categories` for later reference."
      ]
    },
    {
      "metadata": {
        "id": "kW_eF9IMrBRb",
        "colab_type": "code",
        "colab": {
          "autoexec": {
            "startup": false,
            "wait_interval": 0
          },
          "base_uri": "https://localhost:8080/",
          "height": 51
        },
        "outputId": "39f09015-68bd-4207-d4c5-b3d03e334323",
        "executionInfo": {
          "status": "ok",
          "timestamp": 1528387883975,
          "user_tz": -120,
          "elapsed": 511,
          "user": {
            "displayName": "Wojtek Czarnowski",
            "photoUrl": "//lh6.googleusercontent.com/-Sx8k456RbyI/AAAAAAAAAAI/AAAAAAAAEig/wmURGqbv_J8/s50-c-k-no/photo.jpg",
            "userId": "115130698336476923651"
          }
        }
      },
      "cell_type": "code",
      "source": [
        "c = category_lines['Polish']; print(len(c))\n",
        "print(c[:5])"
      ],
      "execution_count": 4,
      "outputs": [
        {
          "output_type": "stream",
          "text": [
            "139\n",
            "['Adamczak', 'Adamczyk', 'Andrysiak', 'Auttenberg', 'Bartosz']\n"
          ],
          "name": "stdout"
        }
      ]
    },
    {
      "metadata": {
        "id": "NQkKmBA1rBRe",
        "colab_type": "text"
      },
      "cell_type": "markdown",
      "source": [
        "# Turning Names into Tensors\n",
        "\n",
        "Now that we have all the names organized, we need to turn them into Tensors to make any use of them.\n",
        "\n",
        "To represent a single letter, we use a \"one-hot vector\" of size `<1 x n_letters>`. A one-hot vector is filled with 0s except for a 1 at index of the current letter, e.g. `\"b\" = <0 1 0 0 0 ...>`.\n",
        "\n",
        "To make a word we join a bunch of those into a 2D matrix `<line_length x 1 x n_letters>`.\n",
        "\n",
        "That extra 1 dimension is because PyTorch assumes everything is in batches - we're just using a batch size of 1 here."
      ]
    },
    {
      "metadata": {
        "id": "vRuqxAfdrBRf",
        "colab_type": "code",
        "colab": {
          "autoexec": {
            "startup": false,
            "wait_interval": 0
          }
        }
      },
      "cell_type": "code",
      "source": [
        "import torch\n",
        "\n",
        "# Just for demonstration, turn a letter into a <1 x n_letters> Tensor\n",
        "def letter_to_tensor(letter):\n",
        "    tensor = torch.zeros(1, n_letters)\n",
        "    letter_index = all_letters.find(letter)\n",
        "    tensor[0][letter_index] = 1\n",
        "    return tensor\n",
        "\n",
        "# Turn a line into a <line_length x 1 x n_letters>,\n",
        "# or an array of one-hot letter vectors\n",
        "def line_to_tensor(line):\n",
        "    tensor = torch.zeros(len(line), 1, n_letters)\n",
        "    for li, letter in enumerate(line):\n",
        "        letter_index = all_letters.find(letter)\n",
        "        tensor[li][0][letter_index] = 1\n",
        "    return tensor"
      ],
      "execution_count": 0,
      "outputs": []
    },
    {
      "metadata": {
        "id": "AmbVgnZRrBRh",
        "colab_type": "code",
        "colab": {
          "autoexec": {
            "startup": false,
            "wait_interval": 0
          },
          "base_uri": "https://localhost:8080/",
          "height": 153
        },
        "outputId": "298f8d85-5b5f-449f-ace1-de89c1fe53d2",
        "executionInfo": {
          "status": "ok",
          "timestamp": 1528387885424,
          "user_tz": -120,
          "elapsed": 580,
          "user": {
            "displayName": "Wojtek Czarnowski",
            "photoUrl": "//lh6.googleusercontent.com/-Sx8k456RbyI/AAAAAAAAAAI/AAAAAAAAEig/wmURGqbv_J8/s50-c-k-no/photo.jpg",
            "userId": "115130698336476923651"
          }
        }
      },
      "cell_type": "code",
      "source": [
        "print(letter_to_tensor('c'))"
      ],
      "execution_count": 6,
      "outputs": [
        {
          "output_type": "stream",
          "text": [
            "tensor([[ 0.,  0.,  0.,  0.,  0.,  0.,  0.,  0.,  0.,  0.,  0.,  0.,\n",
            "          0.,  0.,  0.,  0.,  0.,  0.,  0.,  0.,  0.,  0.,  0.,  0.,\n",
            "          0.,  0.,  0.,  0.,  0.,  0.,  0.,  0.,  0.,  0.,  0.,  1.,\n",
            "          0.,  0.,  0.,  0.,  0.,  0.,  0.,  0.,  0.,  0.,  0.,  0.,\n",
            "          0.,  0.,  0.,  0.,  0.,  0.,  0.,  0.,  0.,  0.,  0.,  0.,\n",
            "          0.,  0.,  0.,  0.,  0.,  0.,  0.,  0.,  0.,  0.,  0.,  0.,\n",
            "          0.,  0.,  0.,  0.,  0.,  0.,  0.,  0.,  0.,  0.,  0.,  0.,\n",
            "          0.,  0.,  0.]])\n"
          ],
          "name": "stdout"
        }
      ]
    },
    {
      "metadata": {
        "id": "UlM0VMsHrBRk",
        "colab_type": "code",
        "colab": {
          "autoexec": {
            "startup": false,
            "wait_interval": 0
          },
          "base_uri": "https://localhost:8080/",
          "height": 34
        },
        "outputId": "b2e3aaf9-4661-4eff-c7df-f1cdefa6fe99",
        "executionInfo": {
          "status": "ok",
          "timestamp": 1528387885990,
          "user_tz": -120,
          "elapsed": 499,
          "user": {
            "displayName": "Wojtek Czarnowski",
            "photoUrl": "//lh6.googleusercontent.com/-Sx8k456RbyI/AAAAAAAAAAI/AAAAAAAAEig/wmURGqbv_J8/s50-c-k-no/photo.jpg",
            "userId": "115130698336476923651"
          }
        }
      },
      "cell_type": "code",
      "source": [
        "print(line_to_tensor('Jones').size())"
      ],
      "execution_count": 7,
      "outputs": [
        {
          "output_type": "stream",
          "text": [
            "torch.Size([5, 1, 87])\n"
          ],
          "name": "stdout"
        }
      ]
    },
    {
      "metadata": {
        "id": "sKEVhPdqrBRn",
        "colab_type": "text"
      },
      "cell_type": "markdown",
      "source": [
        "# Creating the Network\n",
        "\n",
        "Before autograd, creating a recurrent neural network in Torch involved cloning the parameters of a layer over several timesteps. The layers held hidden state and gradients which are now entirely handled by the graph itself. This means you can implement a RNN in a very \"pure\" way, as regular feed-forward layers.\n",
        "\n",
        "This RNN module (mostly copied from [the PyTorch for Torch users tutorial](https://github.com/pytorch/tutorials/blob/master/Introduction%20to%20PyTorch%20for%20former%20Torchies.ipynb)) is just 2 linear layers which operate on an input and hidden state, with a LogSoftmax layer after the output.\n",
        "\n",
        "![](https://i.imgur.com/Z2xbySO.png)"
      ]
    },
    {
      "metadata": {
        "id": "-H_F5WHwrBRo",
        "colab_type": "code",
        "colab": {
          "autoexec": {
            "startup": false,
            "wait_interval": 0
          }
        }
      },
      "cell_type": "code",
      "source": [
        "import torch.nn as nn\n",
        "from torch.autograd import Variable\n",
        "\n",
        "class RNN(nn.Module):\n",
        "    def __init__(self, input_size, hidden_size, output_size):\n",
        "        super(RNN, self).__init__()\n",
        "        \n",
        "        self.input_size = input_size\n",
        "        self.hidden_size = hidden_size\n",
        "        self.output_size = output_size\n",
        "        \n",
        "        self.i2h = nn.Linear(input_size + hidden_size, hidden_size)\n",
        "        self.i2o = nn.Linear(input_size + hidden_size, output_size)\n",
        "        self.softmax = nn.LogSoftmax(dim=-1)\n",
        "    \n",
        "    def forward(self, input, hidden):\n",
        "        combined = torch.cat((input, hidden), 1)\n",
        "        hidden = self.i2h(combined)\n",
        "        output = self.i2o(combined)\n",
        "        output = self.softmax(output)\n",
        "        return output, hidden\n",
        "\n",
        "    def init_hidden(self):\n",
        "        return Variable(torch.zeros(1, self.hidden_size))"
      ],
      "execution_count": 0,
      "outputs": []
    },
    {
      "metadata": {
        "id": "oO72znMkrBRq",
        "colab_type": "text"
      },
      "cell_type": "markdown",
      "source": [
        "## Manually testing the network\n",
        "\n",
        "With our custom `RNN` class defined, we can create a new instance:"
      ]
    },
    {
      "metadata": {
        "id": "5CbBFv3LrBRq",
        "colab_type": "code",
        "colab": {
          "autoexec": {
            "startup": false,
            "wait_interval": 0
          },
          "base_uri": "https://localhost:8080/",
          "height": 102
        },
        "outputId": "30218f40-53a0-4b27-e31d-24a24681b86c",
        "executionInfo": {
          "status": "ok",
          "timestamp": 1528387887184,
          "user_tz": -120,
          "elapsed": 556,
          "user": {
            "displayName": "Wojtek Czarnowski",
            "photoUrl": "//lh6.googleusercontent.com/-Sx8k456RbyI/AAAAAAAAAAI/AAAAAAAAEig/wmURGqbv_J8/s50-c-k-no/photo.jpg",
            "userId": "115130698336476923651"
          }
        }
      },
      "cell_type": "code",
      "source": [
        "n_hidden = 128\n",
        "rnn = RNN(n_letters, n_hidden, n_categories)\n",
        "print(rnn)"
      ],
      "execution_count": 9,
      "outputs": [
        {
          "output_type": "stream",
          "text": [
            "RNN(\n",
            "  (i2h): Linear(in_features=215, out_features=128, bias=True)\n",
            "  (i2o): Linear(in_features=215, out_features=18, bias=True)\n",
            "  (softmax): LogSoftmax()\n",
            ")\n"
          ],
          "name": "stdout"
        }
      ]
    },
    {
      "metadata": {
        "id": "m5D65D12rBRr",
        "colab_type": "text"
      },
      "cell_type": "markdown",
      "source": [
        "To run a step of this network we need to pass an input (in our case, the Tensor for the current letter) and a previous hidden state (which we initialize as zeros at first). We'll get back the output (probability of each language) and a next hidden state (which we keep for the next step).\n",
        "\n",
        "Remember that PyTorch modules operate on Variables rather than straight up Tensors."
      ]
    },
    {
      "metadata": {
        "id": "0VztWCSkrBRs",
        "colab_type": "code",
        "colab": {
          "autoexec": {
            "startup": false,
            "wait_interval": 0
          },
          "base_uri": "https://localhost:8080/",
          "height": 34
        },
        "outputId": "e94cd606-c7a7-42bc-a523-ef1ab0971062",
        "executionInfo": {
          "status": "ok",
          "timestamp": 1528387887742,
          "user_tz": -120,
          "elapsed": 500,
          "user": {
            "displayName": "Wojtek Czarnowski",
            "photoUrl": "//lh6.googleusercontent.com/-Sx8k456RbyI/AAAAAAAAAAI/AAAAAAAAEig/wmURGqbv_J8/s50-c-k-no/photo.jpg",
            "userId": "115130698336476923651"
          }
        }
      },
      "cell_type": "code",
      "source": [
        "input = Variable(letter_to_tensor('A'))\n",
        "hidden = rnn.init_hidden()\n",
        "\n",
        "output, next_hidden = rnn(input, hidden)\n",
        "print('output.size =', output.size())"
      ],
      "execution_count": 10,
      "outputs": [
        {
          "output_type": "stream",
          "text": [
            "output.size = torch.Size([1, 18])\n"
          ],
          "name": "stdout"
        }
      ]
    },
    {
      "metadata": {
        "id": "7V3WjmyyrBRu",
        "colab_type": "text"
      },
      "cell_type": "markdown",
      "source": [
        "For the sake of efficiency we don't want to be creating a new Tensor for every step, so we will use `line_to_tensor` instead of `letter_to_tensor` and use slices. This could be further optimized by pre-computing batches of Tensors."
      ]
    },
    {
      "metadata": {
        "id": "e225Ggi8rBRu",
        "colab_type": "code",
        "colab": {
          "autoexec": {
            "startup": false,
            "wait_interval": 0
          },
          "base_uri": "https://localhost:8080/",
          "height": 68
        },
        "outputId": "a7f8026d-f31d-40a3-819e-70f2e795a4a2",
        "executionInfo": {
          "status": "ok",
          "timestamp": 1528387888300,
          "user_tz": -120,
          "elapsed": 507,
          "user": {
            "displayName": "Wojtek Czarnowski",
            "photoUrl": "//lh6.googleusercontent.com/-Sx8k456RbyI/AAAAAAAAAAI/AAAAAAAAEig/wmURGqbv_J8/s50-c-k-no/photo.jpg",
            "userId": "115130698336476923651"
          }
        }
      },
      "cell_type": "code",
      "source": [
        "input = Variable(line_to_tensor('Albert'))\n",
        "hidden = Variable(torch.zeros(1, n_hidden))\n",
        "\n",
        "output, next_hidden = rnn(input[0], hidden)\n",
        "output"
      ],
      "execution_count": 11,
      "outputs": [
        {
          "output_type": "execute_result",
          "data": {
            "text/plain": [
              "tensor([[-2.8586, -2.9253, -2.8786, -2.9335, -2.8780, -2.8562, -2.8815,\n",
              "         -2.8267, -2.9501, -2.8633, -2.8972, -2.8620, -2.9904, -2.9574,\n",
              "         -2.9417, -2.8150, -2.8365, -2.8947]])"
            ]
          },
          "metadata": {
            "tags": []
          },
          "execution_count": 11
        }
      ]
    },
    {
      "metadata": {
        "id": "1_m-H2UxrBRw",
        "colab_type": "text"
      },
      "cell_type": "markdown",
      "source": [
        "As you can see the output is a `<1 x n_categories>` Tensor, where every item is the likelihood of that category (higher is more likely)."
      ]
    },
    {
      "metadata": {
        "id": "7YnU8U1vrBRw",
        "colab_type": "text"
      },
      "cell_type": "markdown",
      "source": [
        "# Preparing for Training\n",
        "\n",
        "Before going into training we should make a few helper functions. The first is to interpret the output of the network, which we know to be a likelihood of each category. We can use `Tensor.topk` to get the index of the greatest value:"
      ]
    },
    {
      "metadata": {
        "id": "Hwu8mcP7rBRx",
        "colab_type": "code",
        "colab": {
          "autoexec": {
            "startup": false,
            "wait_interval": 0
          },
          "base_uri": "https://localhost:8080/",
          "height": 34
        },
        "outputId": "94d28a54-5546-428e-e902-6faff44dec45",
        "executionInfo": {
          "status": "ok",
          "timestamp": 1528387888892,
          "user_tz": -120,
          "elapsed": 462,
          "user": {
            "displayName": "Wojtek Czarnowski",
            "photoUrl": "//lh6.googleusercontent.com/-Sx8k456RbyI/AAAAAAAAAAI/AAAAAAAAEig/wmURGqbv_J8/s50-c-k-no/photo.jpg",
            "userId": "115130698336476923651"
          }
        }
      },
      "cell_type": "code",
      "source": [
        "def category_from_output(output):\n",
        "    top_n, top_i = output.data.topk(1) # Tensor out of Variable with .data\n",
        "    category_i = top_i[0][0]\n",
        "    return all_categories[category_i], category_i\n",
        "\n",
        "print(category_from_output(output))"
      ],
      "execution_count": 12,
      "outputs": [
        {
          "output_type": "stream",
          "text": [
            "('Greek', tensor(15))\n"
          ],
          "name": "stdout"
        }
      ]
    },
    {
      "metadata": {
        "id": "5vMB6vperBRz",
        "colab_type": "text"
      },
      "cell_type": "markdown",
      "source": [
        "We will also want a quick way to get a training example (a name and its language):"
      ]
    },
    {
      "metadata": {
        "id": "yrRTTzbyrBRz",
        "colab_type": "code",
        "colab": {
          "autoexec": {
            "startup": false,
            "wait_interval": 0
          },
          "base_uri": "https://localhost:8080/",
          "height": 187
        },
        "outputId": "5f148a5e-2522-4ac1-a37f-84807c1f5ef5",
        "executionInfo": {
          "status": "ok",
          "timestamp": 1528387889469,
          "user_tz": -120,
          "elapsed": 475,
          "user": {
            "displayName": "Wojtek Czarnowski",
            "photoUrl": "//lh6.googleusercontent.com/-Sx8k456RbyI/AAAAAAAAAAI/AAAAAAAAEig/wmURGqbv_J8/s50-c-k-no/photo.jpg",
            "userId": "115130698336476923651"
          }
        }
      },
      "cell_type": "code",
      "source": [
        "import random\n",
        "\n",
        "def random_training_pair():                                                                                                               \n",
        "    category = random.choice(all_categories)\n",
        "    line = random.choice(category_lines[category])\n",
        "    category_tensor = Variable(torch.LongTensor([all_categories.index(category)]))\n",
        "    line_tensor = Variable(line_to_tensor(line))\n",
        "    return category, line, category_tensor, line_tensor\n",
        "\n",
        "for i in range(10):\n",
        "    category, line, category_tensor, line_tensor = random_training_pair()\n",
        "    print('category =', category, '/ line =', line)"
      ],
      "execution_count": 13,
      "outputs": [
        {
          "output_type": "stream",
          "text": [
            "category = Portuguese / line = Basurto\n",
            "category = Russian / line = Deripaska\n",
            "category = Polish / line = Auttenberg\n",
            "category = Korean / line = Pae\n",
            "category = Chinese / line = Wen\n",
            "category = Chinese / line = Xiao\n",
            "category = German / line = Muhlfeld\n",
            "category = Chinese / line = Shu\n",
            "category = Dutch / line = Smeets\n",
            "category = French / line = Marie\n"
          ],
          "name": "stdout"
        }
      ]
    },
    {
      "metadata": {
        "id": "DOyloI9erBR1",
        "colab_type": "text"
      },
      "cell_type": "markdown",
      "source": [
        "# Training the Network\n",
        "\n",
        "Now all it takes to train this network is show it a bunch of examples, have it make guesses, and tell it if it's wrong.\n",
        "\n",
        "For the [loss function `nn.NLLLoss`](http://pytorch.org/docs/nn.html#nllloss) is appropriate, since the last layer of the RNN is `nn.LogSoftmax`."
      ]
    },
    {
      "metadata": {
        "id": "8A9iRTXNrBR1",
        "colab_type": "code",
        "colab": {
          "autoexec": {
            "startup": false,
            "wait_interval": 0
          }
        }
      },
      "cell_type": "code",
      "source": [
        "criterion = nn.NLLLoss()"
      ],
      "execution_count": 0,
      "outputs": []
    },
    {
      "metadata": {
        "id": "in9q2gr8rBR2",
        "colab_type": "text"
      },
      "cell_type": "markdown",
      "source": [
        "We will also create an \"optimizer\" which updates the parameters of our model according to its gradients. We will use the vanilla SGD algorithm with a low learning rate."
      ]
    },
    {
      "metadata": {
        "id": "2lhQHB5-rBR2",
        "colab_type": "code",
        "colab": {
          "autoexec": {
            "startup": false,
            "wait_interval": 0
          }
        }
      },
      "cell_type": "code",
      "source": [
        "learning_rate = 0.005 # If you set this too high, it might explode. If too low, it might not learn\n",
        "optimizer = torch.optim.SGD(rnn.parameters(), lr=learning_rate)"
      ],
      "execution_count": 0,
      "outputs": []
    },
    {
      "metadata": {
        "id": "wXH_ipl2rBR4",
        "colab_type": "text"
      },
      "cell_type": "markdown",
      "source": [
        "Each loop of training will:\n",
        "\n",
        "* Create input and target tensors\n",
        "* Create a zeroed initial hidden state\n",
        "* Read each letter in and\n",
        "    * Keep hidden state for next letter\n",
        "* Compare final output to target\n",
        "* Back-propagate\n",
        "* Return the output and loss"
      ]
    },
    {
      "metadata": {
        "id": "CkoFAE12rBR4",
        "colab_type": "code",
        "colab": {
          "autoexec": {
            "startup": false,
            "wait_interval": 0
          }
        }
      },
      "cell_type": "code",
      "source": [
        "def train(category_tensor, line_tensor):\n",
        "    rnn.zero_grad()\n",
        "    hidden = rnn.init_hidden()\n",
        "    \n",
        "    for i in range(line_tensor.size()[0]):\n",
        "        output, hidden = rnn(line_tensor[i], hidden)\n",
        "\n",
        "    loss = criterion(output, category_tensor)\n",
        "    loss.backward()\n",
        "\n",
        "    optimizer.step()\n",
        "\n",
        "    return output, loss.item()"
      ],
      "execution_count": 0,
      "outputs": []
    },
    {
      "metadata": {
        "id": "2vtXC_N6rBR5",
        "colab_type": "text"
      },
      "cell_type": "markdown",
      "source": [
        "Now we just have to run that with a bunch of examples. Since the `train` function returns both the output and loss we can print its guesses and also keep track of loss for plotting. Since there are 1000s of examples we print only every `print_every` time steps, and take an average of the loss."
      ]
    },
    {
      "metadata": {
        "id": "BYBA0bxYrBR6",
        "colab_type": "code",
        "colab": {
          "autoexec": {
            "startup": false,
            "wait_interval": 0
          },
          "base_uri": "https://localhost:8080/",
          "height": 357
        },
        "outputId": "a0e81058-160e-432d-87af-7744626136f4",
        "executionInfo": {
          "status": "ok",
          "timestamp": 1528388063343,
          "user_tz": -120,
          "elapsed": 172120,
          "user": {
            "displayName": "Wojtek Czarnowski",
            "photoUrl": "//lh6.googleusercontent.com/-Sx8k456RbyI/AAAAAAAAAAI/AAAAAAAAEig/wmURGqbv_J8/s50-c-k-no/photo.jpg",
            "userId": "115130698336476923651"
          }
        }
      },
      "cell_type": "code",
      "source": [
        "import time\n",
        "import math\n",
        "\n",
        "n_epochs = 100000\n",
        "print_every = 5000\n",
        "plot_every = 1000\n",
        "\n",
        "# Keep track of losses for plotting\n",
        "current_loss = 0\n",
        "all_losses = []\n",
        "\n",
        "def time_since(since):\n",
        "    now = time.time()\n",
        "    s = now - since\n",
        "    m = math.floor(s / 60)\n",
        "    s -= m * 60\n",
        "    return '%dm %ds' % (m, s)\n",
        "\n",
        "start = time.time()\n",
        "\n",
        "for epoch in range(1, n_epochs + 1):\n",
        "    # Get a random training input and target\n",
        "    category, line, category_tensor, line_tensor = random_training_pair()\n",
        "    output, loss = train(category_tensor, line_tensor)\n",
        "    current_loss += loss\n",
        "    \n",
        "    # Print epoch number, loss, name and guess\n",
        "    if epoch % print_every == 0:\n",
        "        guess, guess_i = category_from_output(output)\n",
        "        correct = '✓' if guess == category else '✗ (%s)' % category\n",
        "        print('%d %d%% (%s) %.4f %s / %s %s' % (epoch, epoch / n_epochs * 100, time_since(start), loss, line, guess, correct))\n",
        "\n",
        "    # Add current loss avg to list of losses\n",
        "    if epoch % plot_every == 0:\n",
        "        all_losses.append(current_loss / plot_every)\n",
        "        current_loss = 0"
      ],
      "execution_count": 17,
      "outputs": [
        {
          "output_type": "stream",
          "text": [
            "5000 5% (0m 8s) 2.8287 Nagel / Czech ✗ (Dutch)\n",
            "10000 10% (0m 17s) 2.1392 Wasem / Arabic ✓\n",
            "15000 15% (0m 25s) 1.1133 Kanaan / Arabic ✓\n",
            "20000 20% (0m 34s) 2.2172 Hautem / Spanish ✗ (Dutch)\n",
            "25000 25% (0m 42s) 0.9693 Kouri / Arabic ✓\n",
            "30000 30% (0m 51s) 2.9430 Guirguis / Greek ✗ (Arabic)\n",
            "35000 35% (1m 0s) 1.4545 Accorso / Spanish ✗ (Italian)\n",
            "40000 40% (1m 8s) 2.8163 Kerr / German ✗ (Scottish)\n",
            "45000 45% (1m 17s) 2.9585 Andel / Spanish ✗ (Dutch)\n",
            "50000 50% (1m 25s) 0.0577 Missiakos / Greek ✓\n",
            "55000 55% (1m 34s) 0.6161 Haschenko / Russian ✓\n",
            "60000 60% (1m 42s) 3.0466 Chastain / Scottish ✗ (French)\n",
            "65000 65% (1m 51s) 0.5728 Schlusser / German ✓\n",
            "70000 70% (2m 0s) 0.4979 Savatier / French ✓\n",
            "75000 75% (2m 8s) 0.6176 Close / Greek ✓\n",
            "80000 80% (2m 17s) 0.6075 Ahearn / Irish ✓\n",
            "85000 85% (2m 25s) 0.1491 Truong / Vietnamese ✓\n",
            "90000 90% (2m 34s) 0.5636 Niall / Irish ✓\n",
            "95000 95% (2m 42s) 3.8594 Beal / Chinese ✗ (English)\n",
            "100000 100% (2m 51s) 0.1465 Antonelli / Italian ✓\n"
          ],
          "name": "stdout"
        }
      ]
    },
    {
      "metadata": {
        "id": "s-KyWZH7rBR7",
        "colab_type": "text"
      },
      "cell_type": "markdown",
      "source": [
        "# Plotting the Results\n",
        "\n",
        "Plotting the historical loss from `all_losses` shows the network learning:"
      ]
    },
    {
      "metadata": {
        "id": "_nEE9-iyrBR7",
        "colab_type": "code",
        "colab": {
          "autoexec": {
            "startup": false,
            "wait_interval": 0
          },
          "base_uri": "https://localhost:8080/",
          "height": 347
        },
        "outputId": "19e5e54d-6358-481b-8057-8037af86dad6",
        "executionInfo": {
          "status": "ok",
          "timestamp": 1528388064066,
          "user_tz": -120,
          "elapsed": 710,
          "user": {
            "displayName": "Wojtek Czarnowski",
            "photoUrl": "//lh6.googleusercontent.com/-Sx8k456RbyI/AAAAAAAAAAI/AAAAAAAAEig/wmURGqbv_J8/s50-c-k-no/photo.jpg",
            "userId": "115130698336476923651"
          }
        }
      },
      "cell_type": "code",
      "source": [
        "import matplotlib.pyplot as plt\n",
        "import matplotlib.ticker as ticker\n",
        "%matplotlib inline\n",
        "\n",
        "import matplotlib.style\n",
        "import matplotlib as mpl\n",
        "mpl.style.use('seaborn')\n",
        "\n",
        "fig=plt.figure()\n",
        "aaa = plt.plot(all_losses)"
      ],
      "execution_count": 18,
      "outputs": [
        {
          "output_type": "display_data",
          "data": {
            "image/png": "[encoded data removed]",
            "text/plain": [
              "<matplotlib.figure.Figure at 0x7f7d2d407b70>"
            ]
          },
          "metadata": {
            "tags": []
          }
        }
      ]
    },
    {
      "metadata": {
        "id": "aKYxf_5FYVcd",
        "colab_type": "code",
        "colab": {
          "autoexec": {
            "startup": false,
            "wait_interval": 0
          }
        }
      },
      "cell_type": "code",
      "source": [
        "y = all_losses\n",
        "n = 10\n",
        "averages = []\n",
        "for i in range(len(y) - n):\n",
        "    window = y[i:i+n]\n",
        "    avg = sum(window) / n\n",
        "    # print(window, avg)\n",
        "    averages.append(avg)"
      ],
      "execution_count": 0,
      "outputs": []
    },
    {
      "metadata": {
        "id": "xY5cCyaxYVj8",
        "colab_type": "code",
        "colab": {
          "autoexec": {
            "startup": false,
            "wait_interval": 0
          },
          "base_uri": "https://localhost:8080/",
          "height": 34
        },
        "outputId": "e0fc9ed5-6718-457b-b4a4-e48fa4bebe82",
        "executionInfo": {
          "status": "ok",
          "timestamp": 1528388065225,
          "user_tz": -120,
          "elapsed": 538,
          "user": {
            "displayName": "Wojtek Czarnowski",
            "photoUrl": "//lh6.googleusercontent.com/-Sx8k456RbyI/AAAAAAAAAAI/AAAAAAAAEig/wmURGqbv_J8/s50-c-k-no/photo.jpg",
            "userId": "115130698336476923651"
          }
        }
      },
      "cell_type": "code",
      "source": [
        "len(all_losses), len(averages)"
      ],
      "execution_count": 20,
      "outputs": [
        {
          "output_type": "execute_result",
          "data": {
            "text/plain": [
              "(100, 90)"
            ]
          },
          "metadata": {
            "tags": []
          },
          "execution_count": 20
        }
      ]
    },
    {
      "metadata": {
        "id": "QSKtEbz4YVmd",
        "colab_type": "code",
        "colab": {
          "autoexec": {
            "startup": false,
            "wait_interval": 0
          },
          "base_uri": "https://localhost:8080/",
          "height": 347
        },
        "outputId": "a0057360-2f25-4347-b627-cc795f2fd76d",
        "executionInfo": {
          "status": "ok",
          "timestamp": 1528388065842,
          "user_tz": -120,
          "elapsed": 540,
          "user": {
            "displayName": "Wojtek Czarnowski",
            "photoUrl": "//lh6.googleusercontent.com/-Sx8k456RbyI/AAAAAAAAAAI/AAAAAAAAEig/wmURGqbv_J8/s50-c-k-no/photo.jpg",
            "userId": "115130698336476923651"
          }
        }
      },
      "cell_type": "code",
      "source": [
        "fig=plt.figure()\n",
        "aaa = plt.plot(averages)"
      ],
      "execution_count": 21,
      "outputs": [
        {
          "output_type": "display_data",
          "data": {
            "image/png": "[encoded data removed]",
            "text/plain": [
              "<matplotlib.figure.Figure at 0x7f7ce499f278>"
            ]
          },
          "metadata": {
            "tags": []
          }
        }
      ]
    },
    {
      "metadata": {
        "id": "A3m-_xnWrBR9",
        "colab_type": "text"
      },
      "cell_type": "markdown",
      "source": [
        "# Evaluating the Results\n",
        "\n",
        "To see how well the network performs on different categories, we will create a confusion matrix, indicating for every actual language (rows) which language the network guesses (columns). To calculate the confusion matrix a bunch of samples are run through the network with `evaluate()`, which is the same as `train()` minus the backprop."
      ]
    },
    {
      "metadata": {
        "id": "nqJksaTmrBR-",
        "colab_type": "code",
        "colab": {
          "autoexec": {
            "startup": false,
            "wait_interval": 0
          }
        }
      },
      "cell_type": "code",
      "source": [
        "# Keep track of correct guesses in a confusion matrix\n",
        "confusion = torch.zeros(n_categories, n_categories)\n",
        "n_confusion = 10000\n",
        "\n",
        "# Just return an output given a line\n",
        "def evaluate(line_tensor):\n",
        "    hidden = rnn.init_hidden()\n",
        "    \n",
        "    for i in range(line_tensor.size()[0]):\n",
        "        output, hidden = rnn(line_tensor[i], hidden)\n",
        "    \n",
        "    return output\n",
        "\n",
        "# Go through a bunch of examples and record which are correctly guessed\n",
        "for i in range(n_confusion):\n",
        "    category, line, category_tensor, line_tensor = random_training_pair()\n",
        "    output = evaluate(line_tensor)\n",
        "    guess, guess_i = category_from_output(output)\n",
        "    category_i = all_categories.index(category)\n",
        "    confusion[category_i][guess_i] += 1\n",
        "    \n",
        "# Normalize by dividing every row by its sum\n",
        "for i in range(n_categories):\n",
        "    confusion[i] = confusion[i] / confusion[i].sum()"
      ],
      "execution_count": 0,
      "outputs": []
    },
    {
      "metadata": {
        "id": "o_Xi2OlygdrL",
        "colab_type": "code",
        "colab": {
          "autoexec": {
            "startup": false,
            "wait_interval": 0
          },
          "base_uri": "https://localhost:8080/",
          "height": 518
        },
        "outputId": "6e13f4e5-f61a-426b-b8a1-503f048e2ee0",
        "executionInfo": {
          "status": "ok",
          "timestamp": 1528388076609,
          "user_tz": -120,
          "elapsed": 1138,
          "user": {
            "displayName": "Wojtek Czarnowski",
            "photoUrl": "//lh6.googleusercontent.com/-Sx8k456RbyI/AAAAAAAAAAI/AAAAAAAAEig/wmURGqbv_J8/s50-c-k-no/photo.jpg",
            "userId": "115130698336476923651"
          }
        }
      },
      "cell_type": "code",
      "source": [
        "mpl.style.use('default')\n",
        "mpl.style.use('seaborn-ticks')\n",
        "\n",
        "mpl.pyplot.set_cmap('hot_r')\n",
        "\n",
        "# Set up plot\n",
        "fig = plt.figure()\n",
        "ax = fig.add_subplot(111)\n",
        "cax = ax.matshow(confusion.numpy())\n",
        "fig.colorbar(cax)\n",
        "\n",
        "# Set up axes\n",
        "ax.set_xticklabels([''] + all_categories, rotation=90)\n",
        "ax.set_yticklabels([''] + all_categories)\n",
        "\n",
        "# Force label at every tick\n",
        "ax.xaxis.set_major_locator(ticker.MultipleLocator(1))\n",
        "ax.yaxis.set_major_locator(ticker.MultipleLocator(1))\n",
        "\n",
        "plt.show()"
      ],
      "execution_count": 23,
      "outputs": [
        {
          "output_type": "display_data",
          "data": {
            "text/plain": [
              "<matplotlib.figure.Figure at 0x7f7ce48d24e0>"
            ]
          },
          "metadata": {
            "tags": []
          }
        },
        {
          "output_type": "display_data",
          "data": {
            "image/png": "[encoded data removed]",
            "text/plain": [
              "<matplotlib.figure.Figure at 0x7f7ce48d2320>"
            ]
          },
          "metadata": {
            "tags": []
          }
        }
      ]
    },
    {
      "metadata": {
        "id": "-0cYQCsRrBR_",
        "colab_type": "text"
      },
      "cell_type": "markdown",
      "source": [
        "You can pick out bright spots off the main axis that show which languages it guesses incorrectly, e.g. Chinese for Korean, and Spanish for Italian. It seems to do very well with Greek, and very poorly with English (perhaps because of overlap with other languages)."
      ]
    },
    {
      "metadata": {
        "id": "n4Q4jXBOrBSA",
        "colab_type": "text"
      },
      "cell_type": "markdown",
      "source": [
        "# Running on User Input"
      ]
    },
    {
      "metadata": {
        "id": "TgYOUqrjrBSA",
        "colab_type": "code",
        "colab": {
          "autoexec": {
            "startup": false,
            "wait_interval": 0
          },
          "base_uri": "https://localhost:8080/",
          "height": 442
        },
        "outputId": "5165bff2-52fe-485b-eb1b-ad98bf4d8533",
        "executionInfo": {
          "status": "ok",
          "timestamp": 1528388077201,
          "user_tz": -120,
          "elapsed": 580,
          "user": {
            "displayName": "Wojtek Czarnowski",
            "photoUrl": "//lh6.googleusercontent.com/-Sx8k456RbyI/AAAAAAAAAAI/AAAAAAAAEig/wmURGqbv_J8/s50-c-k-no/photo.jpg",
            "userId": "115130698336476923651"
          }
        }
      },
      "cell_type": "code",
      "source": [
        "import numpy as np\n",
        "\n",
        "def predict(input_line, n_predictions=3):\n",
        "    print('\\n> %s' % input_line)\n",
        "    output = evaluate(Variable(line_to_tensor(input_line)))\n",
        "\n",
        "    # Get top N categories\n",
        "    topv, topi = output.data.topk(n_predictions, 1, True)\n",
        "    predictions = []\n",
        "\n",
        "    for i in range(n_predictions):\n",
        "        value = topv[0][i]\n",
        "        category_index = topi[0][i]\n",
        "        pred = np.exp(value)\n",
        "        print('(%.2f%%) %s' % (pred*100, all_categories[category_index]))\n",
        "        # print('(%.2f) %s' % (value, all_categories[category_index]))\n",
        "        predictions.append([value, all_categories[category_index]])\n",
        "\n",
        "predict('Dovesky')\n",
        "predict('Jackson')\n",
        "predict('Satoshi')\n",
        "predict('Czarnowski')\n",
        "predict('Kazimierczak')"
      ],
      "execution_count": 24,
      "outputs": [
        {
          "output_type": "stream",
          "text": [
            "\n",
            "> Dovesky\n",
            "(54.26%) Czech\n",
            "(26.30%) Russian\n",
            "(8.09%) Polish\n",
            "\n",
            "> Jackson\n",
            "(43.15%) Scottish\n",
            "(32.28%) English\n",
            "(8.03%) Russian\n",
            "\n",
            "> Satoshi\n",
            "(54.91%) Japanese\n",
            "(12.52%) Arabic\n",
            "(8.67%) Italian\n",
            "\n",
            "> Czarnowski\n",
            "(89.09%) Polish\n",
            "(4.72%) Japanese\n",
            "(2.57%) Czech\n",
            "\n",
            "> Kazimierczak\n",
            "(95.02%) Polish\n",
            "(3.83%) Czech\n",
            "(0.72%) Greek\n"
          ],
          "name": "stdout"
        }
      ]
    },
    {
      "metadata": {
        "id": "0UXIXIQtrBSB",
        "colab_type": "text"
      },
      "cell_type": "markdown",
      "source": [
        "The final versions of the scripts [in the Practical PyTorch repo](https://github.com/spro/practical-pytorch/tree/master/char-rnn-classification) split the above code into a few files:\n",
        "\n",
        "* `data.py` (loads files)\n",
        "* `model.py` (defines the RNN)\n",
        "* `train.py` (runs training)\n",
        "* `predict.py` (runs `predict()` with command line arguments)\n",
        "* `server.py` (serve prediction as a JSON API with bottle.py)\n",
        "\n",
        "Run `train.py` to train and save the network.\n",
        "\n",
        "Run `predict.py` with a name to view predictions: \n",
        "\n",
        "```\n",
        "$ python predict.py Hazaki\n",
        "(-0.42) Japanese\n",
        "(-1.39) Polish\n",
        "(-3.51) Czech\n",
        "```\n",
        "\n",
        "Run `server.py` and visit http://localhost:5533/Yourname to get JSON output of predictions."
      ]
    },
    {
      "metadata": {
        "id": "M6kOTILyrBSC",
        "colab_type": "text"
      },
      "cell_type": "markdown",
      "source": [
        "# Exercises\n",
        "\n",
        "* Try with a different dataset of line -> category, for example:\n",
        "    * Any word -> language\n",
        "    * First name -> gender\n",
        "    * Character name -> writer\n",
        "    * Page title -> blog or subreddit\n",
        "* Get better results with a bigger and/or better shaped network\n",
        "    * Add more linear layers\n",
        "    * Try the `nn.LSTM` and `nn.GRU` layers\n",
        "    * Combine multiple of these RNNs as a higher level network"
      ]
    },
    {
      "metadata": {
        "id": "ZDA3v0tFrBSC",
        "colab_type": "text"
      },
      "cell_type": "markdown",
      "source": [
        "**Next**: [Generating Shakespeare with a Character-Level RNN](https://github.com/spro/practical-pytorch/blob/master/char-rnn-generation/char-rnn-generation.ipynb)"
      ]
    }
  ]
}