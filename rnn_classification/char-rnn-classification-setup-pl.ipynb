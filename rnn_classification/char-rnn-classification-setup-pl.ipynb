{
  "nbformat": 4,
  "nbformat_minor": 0,
  "metadata": {
    "colab": {
      "name": "char-rnn-classification-setup-pl.ipynb",
      "version": "0.3.2",
      "views": {},
      "default_view": {},
      "provenance": [],
      "private_outputs": true,
      "collapsed_sections": []
    },
    "kernelspec": {
      "display_name": "Python 3",
      "language": "python",
      "name": "python3"
    },
    "accelerator": "GPU"
  },
  "cells": [
    {
      "metadata": {
        "id": "CH3K-upNE28D",
        "colab_type": "text"
      },
      "cell_type": "markdown",
      "source": [
        "# Ustawianie środowiska pod RNN"
      ]
    },
    {
      "metadata": {
        "id": "pvNsvobjFNKz",
        "colab_type": "text"
      },
      "cell_type": "markdown",
      "source": [
        "## Konfiguracja integracji z Dyskiem Google\n",
        "\n"
      ]
    },
    {
      "metadata": {
        "id": "PZlXy_NvFN9i",
        "colab_type": "code",
        "colab": {
          "autoexec": {
            "startup": false,
            "wait_interval": 0
          }
        }
      },
      "cell_type": "code",
      "source": [
        "!apt-get install -y -qq software-properties-common python-software-properties module-init-tools\n",
        "!add-apt-repository -y ppa:alessandro-strada/ppa 2>&1 > /dev/null\n",
        "!apt-get update -qq 2>&1 > /dev/null\n",
        "!apt-get -y install -qq google-drive-ocamlfuse fuse\n",
        "from google.colab import auth\n",
        "auth.authenticate_user()\n",
        "from oauth2client.client import GoogleCredentials\n",
        "creds = GoogleCredentials.get_application_default()\n",
        "import getpass\n",
        "!google-drive-ocamlfuse -headless -id={creds.client_id} -secret={creds.client_secret} < /dev/null 2>&1 | grep URL\n",
        "vcode = getpass.getpass()\n",
        "!echo {vcode} | google-drive-ocamlfuse -headless -id={creds.client_id} -secret={creds.client_secret}\n",
        "\n",
        "!mkdir -p drive\n",
        "!google-drive-ocamlfuse drive -o nonempty"
      ],
      "execution_count": 0,
      "outputs": []
    },
    {
      "metadata": {
        "id": "71gU7PngExlh",
        "colab_type": "text"
      },
      "cell_type": "markdown",
      "source": [
        "## Instalacja PyTorch"
      ]
    },
    {
      "metadata": {
        "id": "NTQYNZFKG_a5",
        "colab_type": "code",
        "colab": {
          "autoexec": {
            "startup": false,
            "wait_interval": 0
          }
        }
      },
      "cell_type": "code",
      "source": [
        "# http://pytorch.org/\n",
        "from os import path\n",
        "from wheel.pep425tags import get_abbr_impl, get_impl_ver, get_abi_tag\n",
        "platform = '{}{}-{}'.format(get_abbr_impl(), get_impl_ver(), get_abi_tag())\n",
        "\n",
        "accelerator = 'cu80' if path.exists('/opt/bin/nvidia-smi') else 'cpu'\n",
        "\n",
        "# !pip install -q http://download.pytorch.org/whl/{accelerator}/torch-0.3.0.post4-{platform}-linux_x86_64.whl torchvision\n",
        "!pip install -q http://download.pytorch.org/whl/{accelerator}/torch-0.4.0-{platform}-linux_x86_64.whl torchvision\n",
        "\n",
        "import torch"
      ],
      "execution_count": 0,
      "outputs": []
    },
    {
      "metadata": {
        "id": "cdLsetH6JBes",
        "colab_type": "text"
      },
      "cell_type": "markdown",
      "source": [
        "## Instalacja bibliotek"
      ]
    },
    {
      "metadata": {
        "id": "HNwsxvdnJDw5",
        "colab_type": "code",
        "colab": {
          "autoexec": {
            "startup": false,
            "wait_interval": 0
          }
        }
      },
      "cell_type": "code",
      "source": [
        "!pip install unidecode tqdm dill pysmi visdom"
      ],
      "execution_count": 0,
      "outputs": []
    },
    {
      "metadata": {
        "id": "1Kk5FdvHFDeu",
        "colab_type": "text"
      },
      "cell_type": "markdown",
      "source": [
        "## Instalacja biblioteki PyDrive wrapper & import "
      ]
    },
    {
      "metadata": {
        "id": "AmbL-sxAFERR",
        "colab_type": "code",
        "colab": {
          "autoexec": {
            "startup": false,
            "wait_interval": 0
          }
        }
      },
      "cell_type": "code",
      "source": [
        "# This only needs to be done once per notebook.\n",
        "!pip install -U -q PyDrive\n",
        "\n",
        "from pydrive.auth import GoogleAuth\n",
        "from pydrive.drive import GoogleDrive\n",
        "from google.colab import auth\n",
        "from oauth2client.client import GoogleCredentials\n",
        "\n",
        "# Authenticate and create the PyDrive client.\n",
        "# This only needs to be done once per notebook.\n",
        "auth.authenticate_user()\n",
        "gauth = GoogleAuth()\n",
        "gauth.credentials = GoogleCredentials.get_application_default()\n",
        "drive = GoogleDrive(gauth)\n",
        "\n",
        "from pathlib import Path\n",
        "import os\n",
        "\n",
        "def download_and_save(file_name, file_id):\n",
        "  downloaded = drive.CreateFile({'id': file_id})\n",
        "  # fetch file\n",
        "  downloaded.FetchContent()\n",
        "  # write file\n",
        "  with open(file_name,'wb') as f:\n",
        "       f.write(downloaded.content.read())\n",
        "      \n",
        "  print(f'Saved {file_name}')\n",
        "  \n",
        "FILE_NAME, FILE_ID = ['file_name', 'file_id']"
      ],
      "execution_count": 0,
      "outputs": []
    },
    {
      "metadata": {
        "id": "6a-q1f8LFI5y",
        "colab_type": "text"
      },
      "cell_type": "markdown",
      "source": [
        "# Pobranie danych"
      ]
    },
    {
      "metadata": {
        "id": "YLHSxEQmFe_u",
        "colab_type": "code",
        "colab": {
          "autoexec": {
            "startup": false,
            "wait_interval": 0
          }
        }
      },
      "cell_type": "code",
      "source": [
        "from pathlib import Path\n",
        "dataset_path = Path('/content/'); dataset_path  #/ 'data/rnn_generator'; dataset_path\n",
        "# !mkdir -p $dataset_path\n",
        "!ls -lh $dataset_path/\n",
        "# tmp_path = dataset_path / 'tmp/'\n",
        "# !mkdir -p $tmp_path"
      ],
      "execution_count": 0,
      "outputs": []
    },
    {
      "metadata": {
        "id": "ihRsb3C_FeG0",
        "colab_type": "text"
      },
      "cell_type": "markdown",
      "source": [
        "## Pobranie datasetu data-names"
      ]
    },
    {
      "metadata": {
        "id": "f-ovnDNe0wO8",
        "colab_type": "code",
        "colab": {
          "autoexec": {
            "startup": false,
            "wait_interval": 0
          }
        }
      },
      "cell_type": "code",
      "source": [
        "# data-names.tgz, https://drive.google.com/file/d/17tzhbLwlfdIsimJDTNghFfx22cT9n7OB\n",
        "names = {FILE_NAME: 'data-names.tgz', FILE_ID: '17tzhbLwlfdIsimJDTNghFfx22cT9n7OB'}\n",
        "names_path = dataset_path / names[FILE_NAME]\n",
        "\n",
        "download_and_save(names_path, names[FILE_ID])"
      ],
      "execution_count": 0,
      "outputs": []
    },
    {
      "metadata": {
        "id": "Zl_zASTIF9KN",
        "colab_type": "code",
        "colab": {
          "autoexec": {
            "startup": false,
            "wait_interval": 0
          }
        }
      },
      "cell_type": "code",
      "source": [
        "# unpack\n",
        "\n",
        "!tar -xf $names_path -C $dataset_path"
      ],
      "execution_count": 0,
      "outputs": []
    },
    {
      "metadata": {
        "id": "LBjvOVCPmWwn",
        "colab_type": "code",
        "colab": {
          "autoexec": {
            "startup": false,
            "wait_interval": 0
          }
        }
      },
      "cell_type": "code",
      "source": [
        "!ls -lh $dataset_path/data/names"
      ],
      "execution_count": 0,
      "outputs": []
    },
    {
      "metadata": {
        "id": "USMDLfIuo6Fd",
        "colab_type": "text"
      },
      "cell_type": "markdown",
      "source": [
        "# Monitorowanie maszyny wirtualnej"
      ]
    },
    {
      "metadata": {
        "id": "fPB9Yk66qHtz",
        "colab_type": "code",
        "colab": {
          "autoexec": {
            "startup": false,
            "wait_interval": 0
          }
        }
      },
      "cell_type": "code",
      "source": [
        "!uptime"
      ],
      "execution_count": 0,
      "outputs": []
    },
    {
      "metadata": {
        "id": "rV8DxmR8pKlA",
        "colab_type": "text"
      },
      "cell_type": "markdown",
      "source": [
        "# start visdom server"
      ]
    },
    {
      "metadata": {
        "id": "5l3MtDdRpRs_",
        "colab_type": "code",
        "colab": {
          "autoexec": {
            "startup": false,
            "wait_interval": 0
          }
        }
      },
      "cell_type": "code",
      "source": [
        "!python -m visdom.server -p 8890"
      ],
      "execution_count": 0,
      "outputs": []
    }
  ]
}