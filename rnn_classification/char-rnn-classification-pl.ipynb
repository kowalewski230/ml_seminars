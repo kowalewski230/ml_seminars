{
  "nbformat": 4,
  "nbformat_minor": 0,
  "metadata": {
    "colab": {
      "name": "char-rnn-classification-en.ipynb",
      "version": "0.3.2",
      "views": {},
      "default_view": {},
      "provenance": [
        {
          "file_id": "1MnuFodDCXwmRCAboH5EhJ0-c6gEHp6L1",
          "timestamp": 1524808584077
        }
      ],
      "collapsed_sections": []
    },
    "kernelspec": {
      "name": "python3",
      "display_name": "Python 3"
    },
    "accelerator": "GPU"
  },
  "cells": [
    {
      "metadata": {
        "id": "p8R8cWSlrBRK",
        "colab_type": "text"
      },
      "cell_type": "markdown",
      "source": [
        "![](https://i.imgur.com/eBRPvWB.png)\n",
        "\n",
        "# PyTorch: Klasyfikacja nazwisk na poziomie znaków używając RNN\n",
        "\n",
        "Będziemy budować i trenować klasyfikator RNN na poziomie znaku, aby klasyfikował całe słowa. RNN na poziomie znaku odczytuje słowa jako serię znaków - wyprowadzając prognozę i \"stan ukryty\" na każdym etapie, wprowadzając swój poprzedni stan ukryty do każdego kolejnego kroku. Ostateczną prognozę przyjmujemy jako wynik, tj. Do której klasy należy dane słowo.\n",
        "\n",
        "Mówiąc dokładniej trening sieci przeprowadzimy na kilku tysiącach nazwisk z 18 języków pochodzenia aby przewidzieć język z którego nazwa pochodzi:\n",
        "\n",
        "```\n",
        "$ python predict.py Hinton\n",
        "(-0.47) Scottish\n",
        "(-1.52) English\n",
        "(-3.57) Irish\n",
        "\n",
        "$ python predict.py Schmidhuber\n",
        "(-0.19) German\n",
        "(-2.48) Czech\n",
        "(-2.68) Dutch\n",
        "```"
      ]
    },
    {
      "metadata": {
        "id": "CVuGznp_rBRM",
        "colab_type": "text"
      },
      "cell_type": "markdown",
      "source": [
        "# Polecane piśmiennictwo\n",
        "\n",
        "Zakładam że jest już zainstalowany PyTorch, znasz Python'a, oraz znasz pojęcie Tensor'ów:\n",
        "\n",
        "* http://pytorch.org/ - instalacja PyTorch\n",
        "* [Deep Learning with PyTorch: A 60-minute Blitz](http://pytorch.org/tutorials/beginner/deep_learning_60min_blitz.html) - Podstawy PyTorch\n",
        "* [jcjohnson's PyTorch examples](https://github.com/jcjohnson/pytorch-examples) przykłady wykorzystania PyTorch\n",
        "* [Introduction to PyTorch for former Torchies](https://github.com/pytorch/tutorials/blob/master/Introduction%20to%20PyTorch%20for%20former%20Torchies.ipynb) jeżeli znasz Lua\n",
        "\n",
        "Trochę wiedzy o RNN:\n",
        "\n",
        "* [The Unreasonable Effectiveness of Recurrent Neural Networks](http://karpathy.github.io/2015/05/21/rnn-effectiveness/) przykłady z życia wzięte\n",
        "* [Understanding LSTM Networks](http://colah.github.io/posts/2015-08-Understanding-LSTMs/) RNN i LSTM w pigułce"
      ]
    },
    {
      "metadata": {
        "id": "V6C-QlCarBRN",
        "colab_type": "text"
      },
      "cell_type": "markdown",
      "source": [
        "# Przygotowanie danych\n",
        "\n",
        "Dane znajdują się w folderze `data/names` są podzilone na 18 plików tekstowych nazwanych wg schematu \"[Language].txt\". Każdy plik zawiara wiele nazwisk, po 1 w każdej linii w losowej kolejności. Wymagają konwersji z Unicode do ASCII.\n",
        "\n",
        "Otrzymamy coś w rodzaju słownika składającego się z list nazwisk dla każdego z języków, `{language: [names ...]}`. A dokładniej generyczna zmienna \"kategoria\" oraz \"linia\" (dla języka i nazwiska w naszym przypadku) są używane dla zapewnienia przyszłej łatwej rozszeżalności."
      ]
    },
    {
      "metadata": {
        "id": "a71GOs1JrBRO",
        "colab_type": "code",
        "colab": {
          "autoexec": {
            "startup": false,
            "wait_interval": 0
          },
          "base_uri": "https://localhost:8080/",
          "height": 54
        },
        "outputId": "8aac462d-0f7c-493b-9815-3b04f1423ddf",
        "executionInfo": {
          "status": "ok",
          "timestamp": 1529928902962,
          "user_tz": -120,
          "elapsed": 669,
          "user": {
            "displayName": "Krzysztof Wolk",
            "photoUrl": "//lh6.googleusercontent.com/-vxodwYhllYc/AAAAAAAAAAI/AAAAAAAAAjI/mEKLqWllhJ4/s50-c-k-no/photo.jpg",
            "userId": "102132335037063292985"
          }
        }
      },
      "cell_type": "code",
      "source": [
        "import glob\n",
        "\n",
        "all_filenames = glob.glob('data/names/*.txt')\n",
        "print(all_filenames)"
      ],
      "execution_count": 1,
      "outputs": [
        {
          "output_type": "stream",
          "text": [
            "['data/names/Spanish.txt', 'data/names/Portuguese.txt', 'data/names/Chinese.txt', 'data/names/Dutch.txt', 'data/names/Italian.txt', 'data/names/Vietnamese.txt', 'data/names/Polish.txt', 'data/names/Greek.txt', 'data/names/Arabic.txt', 'data/names/English.txt', 'data/names/Korean.txt', 'data/names/Irish.txt', 'data/names/Russian.txt', 'data/names/French.txt', 'data/names/Japanese.txt', 'data/names/Scottish.txt', 'data/names/Czech.txt', 'data/names/German.txt']\n"
          ],
          "name": "stdout"
        }
      ]
    },
    {
      "metadata": {
        "id": "2vKAFyRurBRX",
        "colab_type": "code",
        "colab": {
          "autoexec": {
            "startup": false,
            "wait_interval": 0
          },
          "base_uri": "https://localhost:8080/",
          "height": 34
        },
        "outputId": "30dfd096-15ec-4ea8-eb95-dc9204eca8c9",
        "executionInfo": {
          "status": "ok",
          "timestamp": 1529928905998,
          "user_tz": -120,
          "elapsed": 1882,
          "user": {
            "displayName": "Krzysztof Wolk",
            "photoUrl": "//lh6.googleusercontent.com/-vxodwYhllYc/AAAAAAAAAAI/AAAAAAAAAjI/mEKLqWllhJ4/s50-c-k-no/photo.jpg",
            "userId": "102132335037063292985"
          }
        }
      },
      "cell_type": "code",
      "source": [
        "# Build the category_lines dictionary, a list of names per language\n",
        "category_lines = {}\n",
        "all_categories = []\n",
        "\n",
        "# Read a file and split into lines\n",
        "def readLines(filename):\n",
        "    lines = open(filename).read().strip().split('\\n')\n",
        "    return lines\n",
        "\n",
        "for filename in all_filenames:\n",
        "    category = filename.split('/')[-1].split('.')[0]\n",
        "    all_categories.append(category)\n",
        "    lines = readLines(filename)\n",
        "    category_lines[category] = lines\n",
        "\n",
        "n_categories = len(all_categories)\n",
        "print('n_categories =', n_categories)"
      ],
      "execution_count": 2,
      "outputs": [
        {
          "output_type": "stream",
          "text": [
            "n_categories = 18\n"
          ],
          "name": "stdout"
        }
      ]
    },
    {
      "metadata": {
        "id": "lYmQPq5m-BJZ",
        "colab_type": "code",
        "colab": {
          "autoexec": {
            "startup": false,
            "wait_interval": 0
          },
          "base_uri": "https://localhost:8080/",
          "height": 51
        },
        "outputId": "38744a22-de6f-4832-e2fe-84bec7149882",
        "executionInfo": {
          "status": "ok",
          "timestamp": 1529928907349,
          "user_tz": -120,
          "elapsed": 1268,
          "user": {
            "displayName": "Krzysztof Wolk",
            "photoUrl": "//lh6.googleusercontent.com/-vxodwYhllYc/AAAAAAAAAAI/AAAAAAAAAjI/mEKLqWllhJ4/s50-c-k-no/photo.jpg",
            "userId": "102132335037063292985"
          }
        }
      },
      "cell_type": "code",
      "source": [
        "all_letters = ''.join(sorted(list(set(''.join([''.join(v) for k,v in category_lines.items()])))))\n",
        "n_letters = len(all_letters)\n",
        "\n",
        "print(f'all_letters = {all_letters}')\n",
        "print(f'n_letters = {n_letters}')"
      ],
      "execution_count": 3,
      "outputs": [
        {
          "output_type": "stream",
          "text": [
            "all_letters =  ',-/1:ABCDEFGHIJKLMNOPQRSTUVWXYZabcdefghijklmnopqrstuvwxyz ÁÉßàáãäçèéêìíñòóõöùúüąłńŚŻż\n",
            "n_letters = 87\n"
          ],
          "name": "stdout"
        }
      ]
    },
    {
      "metadata": {
        "id": "rEuKRvtfrBRa",
        "colab_type": "text"
      },
      "cell_type": "markdown",
      "source": [
        "Teraz mamy \"category_lines\", słownik mapujący każdą kategorię (język) do listy nazwisk. Przechowujemy także \"all_categories\" (po prostu lsitę języków) oraz \"n_categories\" dla przyszłego użytku."
      ]
    },
    {
      "metadata": {
        "id": "kW_eF9IMrBRb",
        "colab_type": "code",
        "colab": {
          "autoexec": {
            "startup": false,
            "wait_interval": 0
          },
          "base_uri": "https://localhost:8080/",
          "height": 51
        },
        "outputId": "c49040e8-d214-45c1-97ec-c4a13c66686d",
        "executionInfo": {
          "status": "ok",
          "timestamp": 1529928908455,
          "user_tz": -120,
          "elapsed": 1027,
          "user": {
            "displayName": "Krzysztof Wolk",
            "photoUrl": "//lh6.googleusercontent.com/-vxodwYhllYc/AAAAAAAAAAI/AAAAAAAAAjI/mEKLqWllhJ4/s50-c-k-no/photo.jpg",
            "userId": "102132335037063292985"
          }
        }
      },
      "cell_type": "code",
      "source": [
        "c = category_lines['Polish']; print(len(c))\n",
        "print(c[:5])"
      ],
      "execution_count": 4,
      "outputs": [
        {
          "output_type": "stream",
          "text": [
            "139\n",
            "['Adamczak', 'Adamczyk', 'Andrysiak', 'Auttenberg', 'Bartosz']\n"
          ],
          "name": "stdout"
        }
      ]
    },
    {
      "metadata": {
        "id": "NQkKmBA1rBRe",
        "colab_type": "text"
      },
      "cell_type": "markdown",
      "source": [
        "# Konwersja nazwisk na Tensory\n",
        "\n",
        "Teraz jak już wszystkie nazwiska są zorganizowane musimy je przekonwertować na Tensory.\n",
        "\n",
        "Do preprezentacji pojedynczej litery używamy metody \"one-hot vector\" rozmiaru <1 x n_letters>. One-hot vector jest wypełniony 0 za wyjątkiem 1 znajdującej w miejscu przynależnym do pożądanej litery np. `\"b\" = <0 1 0 0 0 ...>`.\n",
        "\n",
        "Aby zbudować słowo łączymy kilka takich wektorów w pojedynczą macież o wymiarach: `<line_length x 1 x n_letters>`.\n",
        "\n",
        "Dodatkowy wymiar oznaczony 1 jest potrzebny ponieważ PyTorch zakłada że wszystko jest ładowane w batchach - my deklarujemy rozmiar batchu równy 1.\n"
      ]
    },
    {
      "metadata": {
        "id": "vRuqxAfdrBRf",
        "colab_type": "code",
        "colab": {
          "autoexec": {
            "startup": false,
            "wait_interval": 0
          },
          "base_uri": "https://localhost:8080/",
          "height": 37
        },
        "outputId": "ac79fed8-ea52-43a5-bde4-8291ba0d79e8",
        "executionInfo": {
          "status": "ok",
          "timestamp": 1529928909160,
          "user_tz": -120,
          "elapsed": 659,
          "user": {
            "displayName": "Krzysztof Wolk",
            "photoUrl": "//lh6.googleusercontent.com/-vxodwYhllYc/AAAAAAAAAAI/AAAAAAAAAjI/mEKLqWllhJ4/s50-c-k-no/photo.jpg",
            "userId": "102132335037063292985"
          }
        }
      },
      "cell_type": "code",
      "source": [
        "import torch\n",
        "\n",
        "# Just for demonstration, turn a letter into a <1 x n_letters> Tensor\n",
        "def letter_to_tensor(letter):\n",
        "    tensor = torch.zeros(1, n_letters)\n",
        "    letter_index = all_letters.find(letter)\n",
        "    tensor[0][letter_index] = 1\n",
        "    return tensor\n",
        "\n",
        "# Turn a line into a <line_length x 1 x n_letters>,\n",
        "# or an array of one-hot letter vectors\n",
        "def line_to_tensor(line):\n",
        "    tensor = torch.zeros(len(line), 1, n_letters)\n",
        "    for li, letter in enumerate(line):\n",
        "        letter_index = all_letters.find(letter)\n",
        "        tensor[li][0][letter_index] = 1\n",
        "    return tensor"
      ],
      "execution_count": 5,
      "outputs": []
    },
    {
      "metadata": {
        "id": "AmbVgnZRrBRh",
        "colab_type": "code",
        "colab": {
          "autoexec": {
            "startup": false,
            "wait_interval": 0
          },
          "base_uri": "https://localhost:8080/",
          "height": 153
        },
        "outputId": "77dd129d-f200-4f9d-8bab-0eb92c4d1fa5",
        "executionInfo": {
          "status": "ok",
          "timestamp": 1529928910253,
          "user_tz": -120,
          "elapsed": 1011,
          "user": {
            "displayName": "Krzysztof Wolk",
            "photoUrl": "//lh6.googleusercontent.com/-vxodwYhllYc/AAAAAAAAAAI/AAAAAAAAAjI/mEKLqWllhJ4/s50-c-k-no/photo.jpg",
            "userId": "102132335037063292985"
          }
        }
      },
      "cell_type": "code",
      "source": [
        "print(letter_to_tensor('c'))"
      ],
      "execution_count": 6,
      "outputs": [
        {
          "output_type": "stream",
          "text": [
            "tensor([[ 0.,  0.,  0.,  0.,  0.,  0.,  0.,  0.,  0.,  0.,  0.,  0.,\n",
            "          0.,  0.,  0.,  0.,  0.,  0.,  0.,  0.,  0.,  0.,  0.,  0.,\n",
            "          0.,  0.,  0.,  0.,  0.,  0.,  0.,  0.,  0.,  0.,  0.,  1.,\n",
            "          0.,  0.,  0.,  0.,  0.,  0.,  0.,  0.,  0.,  0.,  0.,  0.,\n",
            "          0.,  0.,  0.,  0.,  0.,  0.,  0.,  0.,  0.,  0.,  0.,  0.,\n",
            "          0.,  0.,  0.,  0.,  0.,  0.,  0.,  0.,  0.,  0.,  0.,  0.,\n",
            "          0.,  0.,  0.,  0.,  0.,  0.,  0.,  0.,  0.,  0.,  0.,  0.,\n",
            "          0.,  0.,  0.]])\n"
          ],
          "name": "stdout"
        }
      ]
    },
    {
      "metadata": {
        "id": "UlM0VMsHrBRk",
        "colab_type": "code",
        "colab": {
          "autoexec": {
            "startup": false,
            "wait_interval": 0
          },
          "base_uri": "https://localhost:8080/",
          "height": 34
        },
        "outputId": "26b78be1-278a-4406-a8eb-c94f66a663dc",
        "executionInfo": {
          "status": "ok",
          "timestamp": 1529928911078,
          "user_tz": -120,
          "elapsed": 717,
          "user": {
            "displayName": "Krzysztof Wolk",
            "photoUrl": "//lh6.googleusercontent.com/-vxodwYhllYc/AAAAAAAAAAI/AAAAAAAAAjI/mEKLqWllhJ4/s50-c-k-no/photo.jpg",
            "userId": "102132335037063292985"
          }
        }
      },
      "cell_type": "code",
      "source": [
        "print(line_to_tensor('Jones').size())"
      ],
      "execution_count": 7,
      "outputs": [
        {
          "output_type": "stream",
          "text": [
            "torch.Size([5, 1, 87])\n"
          ],
          "name": "stdout"
        }
      ]
    },
    {
      "metadata": {
        "id": "sKEVhPdqrBRn",
        "colab_type": "text"
      },
      "cell_type": "markdown",
      "source": [
        "# Budowa sieci rekurencyjnej\n",
        "\n",
        "Przed zastosowaniem mtody autograd, niezbędne było stworzenie RNN w Torchu. Wiązało się to ze sklonowaniem parametrów warstwy kilkukrotnie. Warstwy przechowują stany ukryte oraz gradienty które są obsługiwane w formie grafu. Oznaczna to że możesz zaimplementować RNN w bardzo przsytęnej formie podobnie jak zwyczajne wartwy przechodzące.\n",
        "\n",
        "Ten moduł RNN (zainspirowany [the PyTorch for Torch users tutorial](https://github.com/pytorch/tutorials/blob/master/Introduction%20to%20PyTorch%20for%20former%20Torchies.ipynb)) to tylko 2 linearne warstwy które operują na wejściu oraz stanie ukrytym a także aplikują wartwę LogSoftmax na wyjściu.\n",
        "\n",
        "![](https://i.imgur.com/Z2xbySO.png)"
      ]
    },
    {
      "metadata": {
        "id": "-H_F5WHwrBRo",
        "colab_type": "code",
        "colab": {
          "autoexec": {
            "startup": false,
            "wait_interval": 0
          },
          "base_uri": "https://localhost:8080/",
          "height": 37
        },
        "outputId": "776d5d33-a517-4a79-95c8-17b289a0188c",
        "executionInfo": {
          "status": "ok",
          "timestamp": 1529928912500,
          "user_tz": -120,
          "elapsed": 1345,
          "user": {
            "displayName": "Krzysztof Wolk",
            "photoUrl": "//lh6.googleusercontent.com/-vxodwYhllYc/AAAAAAAAAAI/AAAAAAAAAjI/mEKLqWllhJ4/s50-c-k-no/photo.jpg",
            "userId": "102132335037063292985"
          }
        }
      },
      "cell_type": "code",
      "source": [
        "import torch.nn as nn\n",
        "from torch.autograd import Variable\n",
        "\n",
        "class RNN(nn.Module):\n",
        "    def __init__(self, input_size, hidden_size, output_size):\n",
        "        super(RNN, self).__init__()\n",
        "        \n",
        "        self.input_size = input_size\n",
        "        self.hidden_size = hidden_size\n",
        "        self.output_size = output_size\n",
        "        \n",
        "        self.i2h = nn.Linear(input_size + hidden_size, hidden_size)\n",
        "        self.i2o = nn.Linear(input_size + hidden_size, output_size)\n",
        "        self.softmax = nn.LogSoftmax(dim=-1)\n",
        "    \n",
        "    def forward(self, input, hidden):\n",
        "        combined = torch.cat((input, hidden), 1)\n",
        "        hidden = self.i2h(combined)\n",
        "        output = self.i2o(combined)\n",
        "        output = self.softmax(output)\n",
        "        return output, hidden\n",
        "\n",
        "    def init_hidden(self):\n",
        "        return Variable(torch.zeros(1, self.hidden_size))"
      ],
      "execution_count": 8,
      "outputs": []
    },
    {
      "metadata": {
        "id": "oO72znMkrBRq",
        "colab_type": "text"
      },
      "cell_type": "markdown",
      "source": [
        "\n",
        "\n",
        "```\n",
        "# This is formatted as code\n",
        "```\n",
        "\n",
        "## Ręczne testowanie sieci\n",
        "\n",
        "Oto nasza skustomizowana sieć `RNN`, stwórzmy jej nową instancję:"
      ]
    },
    {
      "metadata": {
        "id": "5CbBFv3LrBRq",
        "colab_type": "code",
        "colab": {
          "autoexec": {
            "startup": false,
            "wait_interval": 0
          },
          "base_uri": "https://localhost:8080/",
          "height": 102
        },
        "outputId": "8c39c976-d939-4c85-895c-ebcf1a3521ea",
        "executionInfo": {
          "status": "ok",
          "timestamp": 1529928913823,
          "user_tz": -120,
          "elapsed": 1261,
          "user": {
            "displayName": "Krzysztof Wolk",
            "photoUrl": "//lh6.googleusercontent.com/-vxodwYhllYc/AAAAAAAAAAI/AAAAAAAAAjI/mEKLqWllhJ4/s50-c-k-no/photo.jpg",
            "userId": "102132335037063292985"
          }
        }
      },
      "cell_type": "code",
      "source": [
        "n_hidden = 128\n",
        "rnn = RNN(n_letters, n_hidden, n_categories)\n",
        "print(rnn)"
      ],
      "execution_count": 9,
      "outputs": [
        {
          "output_type": "stream",
          "text": [
            "RNN(\n",
            "  (i2h): Linear(in_features=215, out_features=128, bias=True)\n",
            "  (i2o): Linear(in_features=215, out_features=18, bias=True)\n",
            "  (softmax): LogSoftmax()\n",
            ")\n"
          ],
          "name": "stdout"
        }
      ]
    },
    {
      "metadata": {
        "id": "m5D65D12rBRr",
        "colab_type": "text"
      },
      "cell_type": "markdown",
      "source": [
        "Aby uruchomić jakiś krok w naszej sieci musimy najpierw przekazać jakieś dane wejściowe (w tym przypadku Tensor litery) oraz poprzedni stan ukryty (który inicjalizujemy zerami). W taki sposób otrzymamy wynik (prawdopodobieństwo dla każdego języka) oraz następny stan ukryty (niezbędny w kolejnym kroku).\n",
        "\n",
        "Pamiętaj że PyTorch operuje na zmiennych a nie bezpośrednio na Tensorach.\n"
      ]
    },
    {
      "metadata": {
        "id": "0VztWCSkrBRs",
        "colab_type": "code",
        "colab": {
          "autoexec": {
            "startup": false,
            "wait_interval": 0
          },
          "base_uri": "https://localhost:8080/",
          "height": 34
        },
        "outputId": "57bb7eec-39fe-4188-bd0d-57d49a047430",
        "executionInfo": {
          "status": "ok",
          "timestamp": 1529928915124,
          "user_tz": -120,
          "elapsed": 1215,
          "user": {
            "displayName": "Krzysztof Wolk",
            "photoUrl": "//lh6.googleusercontent.com/-vxodwYhllYc/AAAAAAAAAAI/AAAAAAAAAjI/mEKLqWllhJ4/s50-c-k-no/photo.jpg",
            "userId": "102132335037063292985"
          }
        }
      },
      "cell_type": "code",
      "source": [
        "input = Variable(letter_to_tensor('A'))\n",
        "hidden = rnn.init_hidden()\n",
        "\n",
        "output, next_hidden = rnn(input, hidden)\n",
        "print('output.size =', output.size())"
      ],
      "execution_count": 10,
      "outputs": [
        {
          "output_type": "stream",
          "text": [
            "output.size = torch.Size([1, 18])\n"
          ],
          "name": "stdout"
        }
      ]
    },
    {
      "metadata": {
        "id": "7V3WjmyyrBRu",
        "colab_type": "text"
      },
      "cell_type": "markdown",
      "source": [
        "Na potrzeby wydajności nie chcemy tworzyć nowego Tensora dla każdego kroku więc używamy metody `line_to_tensor` zamiast `letter_to_tensor` a także tzw. wyciunków (slices). Można to jeszcze zoptymalizować obliczając wcześniej batche Tensorów."
      ]
    },
    {
      "metadata": {
        "id": "e225Ggi8rBRu",
        "colab_type": "code",
        "colab": {
          "autoexec": {
            "startup": false,
            "wait_interval": 0
          },
          "base_uri": "https://localhost:8080/",
          "height": 68
        },
        "outputId": "88e098bd-b4b7-4149-c38d-618390ac289c",
        "executionInfo": {
          "status": "ok",
          "timestamp": 1529928916159,
          "user_tz": -120,
          "elapsed": 952,
          "user": {
            "displayName": "Krzysztof Wolk",
            "photoUrl": "//lh6.googleusercontent.com/-vxodwYhllYc/AAAAAAAAAAI/AAAAAAAAAjI/mEKLqWllhJ4/s50-c-k-no/photo.jpg",
            "userId": "102132335037063292985"
          }
        }
      },
      "cell_type": "code",
      "source": [
        "input = Variable(line_to_tensor('Albert'))\n",
        "hidden = Variable(torch.zeros(1, n_hidden))\n",
        "\n",
        "output, next_hidden = rnn(input[0], hidden)\n",
        "output"
      ],
      "execution_count": 11,
      "outputs": [
        {
          "output_type": "execute_result",
          "data": {
            "text/plain": [
              "tensor([[-2.8393, -2.7913, -2.9793, -2.8770, -2.9051, -2.9198, -2.7846,\n",
              "         -2.8421, -2.8834, -2.8229, -2.9544, -2.9841, -2.9177, -2.9573,\n",
              "         -2.7896, -2.9585, -2.9470, -2.9116]])"
            ]
          },
          "metadata": {
            "tags": []
          },
          "execution_count": 11
        }
      ]
    },
    {
      "metadata": {
        "id": "1_m-H2UxrBRw",
        "colab_type": "text"
      },
      "cell_type": "markdown",
      "source": [
        "Tak jak widać wynikiem jest Tensor `<1 x n_categories>`, gdzie każdy element jest prawdopodobieństwem."
      ]
    },
    {
      "metadata": {
        "id": "7YnU8U1vrBRw",
        "colab_type": "text"
      },
      "cell_type": "markdown",
      "source": [
        "# Przygotowanie do treningu sieci\n",
        "\n",
        "Zanim rozpoczeniemy trening musimy zaimplementować kilka przydatnych funkcji.\n",
        "Pierwsza to interpreter wyjść naszej sieci. Użyjemu tu `Tensor.topk` aby uzyskać indeks najbardziej prawdopodobnego wyniku:"
      ]
    },
    {
      "metadata": {
        "id": "Hwu8mcP7rBRx",
        "colab_type": "code",
        "colab": {
          "autoexec": {
            "startup": false,
            "wait_interval": 0
          },
          "base_uri": "https://localhost:8080/",
          "height": 34
        },
        "outputId": "2b2441f1-0a4e-4345-ee4c-299ed8152b51",
        "executionInfo": {
          "status": "ok",
          "timestamp": 1529928917015,
          "user_tz": -120,
          "elapsed": 775,
          "user": {
            "displayName": "Krzysztof Wolk",
            "photoUrl": "//lh6.googleusercontent.com/-vxodwYhllYc/AAAAAAAAAAI/AAAAAAAAAjI/mEKLqWllhJ4/s50-c-k-no/photo.jpg",
            "userId": "102132335037063292985"
          }
        }
      },
      "cell_type": "code",
      "source": [
        "def category_from_output(output):\n",
        "    top_n, top_i = output.data.topk(1) # Tensor out of Variable with .data\n",
        "    category_i = top_i[0][0]\n",
        "    return all_categories[category_i], category_i\n",
        "\n",
        "print(category_from_output(output))"
      ],
      "execution_count": 12,
      "outputs": [
        {
          "output_type": "stream",
          "text": [
            "('Polish', tensor(6))\n"
          ],
          "name": "stdout"
        }
      ]
    },
    {
      "metadata": {
        "id": "5vMB6vperBRz",
        "colab_type": "text"
      },
      "cell_type": "markdown",
      "source": [
        "Potrzebna będzie także metoda otrzymywania przykladów treningowych (nazwisko oraz język):\n"
      ]
    },
    {
      "metadata": {
        "id": "yrRTTzbyrBRz",
        "colab_type": "code",
        "colab": {
          "autoexec": {
            "startup": false,
            "wait_interval": 0
          },
          "base_uri": "https://localhost:8080/",
          "height": 187
        },
        "outputId": "004070df-a282-45ef-8fcb-096ec879c3bb",
        "executionInfo": {
          "status": "ok",
          "timestamp": 1529928917882,
          "user_tz": -120,
          "elapsed": 789,
          "user": {
            "displayName": "Krzysztof Wolk",
            "photoUrl": "//lh6.googleusercontent.com/-vxodwYhllYc/AAAAAAAAAAI/AAAAAAAAAjI/mEKLqWllhJ4/s50-c-k-no/photo.jpg",
            "userId": "102132335037063292985"
          }
        }
      },
      "cell_type": "code",
      "source": [
        "import random\n",
        "\n",
        "def random_training_pair():                                                                                                               \n",
        "    category = random.choice(all_categories)\n",
        "    line = random.choice(category_lines[category])\n",
        "    category_tensor = Variable(torch.LongTensor([all_categories.index(category)]))\n",
        "    line_tensor = Variable(line_to_tensor(line))\n",
        "    return category, line, category_tensor, line_tensor\n",
        "\n",
        "for i in range(10):\n",
        "    category, line, category_tensor, line_tensor = random_training_pair()\n",
        "    print('category =', category, '/ line =', line)"
      ],
      "execution_count": 13,
      "outputs": [
        {
          "output_type": "stream",
          "text": [
            "category = Vietnamese / line = Bach\n",
            "category = Chinese / line = Ying\n",
            "category = Spanish / line = Gutiérrez\n",
            "category = Polish / line = Krakowski\n",
            "category = Vietnamese / line = Nghiem\n",
            "category = French / line = Lachapelle\n",
            "category = Russian / line = Yakubonis\n",
            "category = Portuguese / line = Coelho\n",
            "category = Portuguese / line = Pinho\n",
            "category = Japanese / line = Goto\n"
          ],
          "name": "stdout"
        }
      ]
    },
    {
      "metadata": {
        "id": "DOyloI9erBR1",
        "colab_type": "text"
      },
      "cell_type": "markdown",
      "source": [
        "# Trening sieci\n",
        "\n",
        "Aby wytrenować sieć musimy jej \"pokazać\" wiele przykładów, pozwolić jej zgadywać i dać klucz z odpowiedziami.\n",
        "\n",
        "Dla funkcji straty metoda: `nn.NLLLoss`](http://pytorch.org/docs/nn.html#nllloss) jest włąściwa, ponieważ ostatnia wartwa RNN to `nn.LogSoftmax`."
      ]
    },
    {
      "metadata": {
        "id": "8A9iRTXNrBR1",
        "colab_type": "code",
        "colab": {
          "autoexec": {
            "startup": false,
            "wait_interval": 0
          },
          "base_uri": "https://localhost:8080/",
          "height": 37
        },
        "outputId": "975fb7e6-ca1b-4382-b9a6-d65eda8a3e52",
        "executionInfo": {
          "status": "ok",
          "timestamp": 1529928918543,
          "user_tz": -120,
          "elapsed": 594,
          "user": {
            "displayName": "Krzysztof Wolk",
            "photoUrl": "//lh6.googleusercontent.com/-vxodwYhllYc/AAAAAAAAAAI/AAAAAAAAAjI/mEKLqWllhJ4/s50-c-k-no/photo.jpg",
            "userId": "102132335037063292985"
          }
        }
      },
      "cell_type": "code",
      "source": [
        "criterion = nn.NLLLoss()"
      ],
      "execution_count": 14,
      "outputs": []
    },
    {
      "metadata": {
        "id": "in9q2gr8rBR2",
        "colab_type": "text"
      },
      "cell_type": "markdown",
      "source": [
        "Dodatkowo tworzymy skrypt optymalizujący który będzie aktualizował parametry naszego modelu zależnie od gradientów. Wykorzsytujemy to algorytm vanilla SGD z niskim krokiem uczenia."
      ]
    },
    {
      "metadata": {
        "id": "2lhQHB5-rBR2",
        "colab_type": "code",
        "colab": {
          "autoexec": {
            "startup": false,
            "wait_interval": 0
          },
          "base_uri": "https://localhost:8080/",
          "height": 37
        },
        "outputId": "507f8c4b-da4f-497e-93c7-7863295a74d7",
        "executionInfo": {
          "status": "ok",
          "timestamp": 1529928920640,
          "user_tz": -120,
          "elapsed": 2037,
          "user": {
            "displayName": "Krzysztof Wolk",
            "photoUrl": "//lh6.googleusercontent.com/-vxodwYhllYc/AAAAAAAAAAI/AAAAAAAAAjI/mEKLqWllhJ4/s50-c-k-no/photo.jpg",
            "userId": "102132335037063292985"
          }
        }
      },
      "cell_type": "code",
      "source": [
        "learning_rate = 0.005 # If you set this too high, it might explode. If too low, it might not learn\n",
        "optimizer = torch.optim.SGD(rnn.parameters(), lr=learning_rate)"
      ],
      "execution_count": 15,
      "outputs": []
    },
    {
      "metadata": {
        "id": "wXH_ipl2rBR4",
        "colab_type": "text"
      },
      "cell_type": "markdown",
      "source": [
        "W każdej pętli treningu:\n",
        "\n",
        "* Tworzymy wejściowe i wyjściowe tensory\n",
        "* Tworzymy zerowy stan wejściowy\n",
        "* Odczytujemy każdą literę\n",
        "    * przechowujemy stan ukryty dla następnej litery\n",
        "* Porównujemy otrzymany wynik z wartością oczekiwaną\n",
        "* Robimy wteczną propagację\n",
        "* Zwracamy wynik i stratę"
      ]
    },
    {
      "metadata": {
        "id": "CkoFAE12rBR4",
        "colab_type": "code",
        "colab": {
          "autoexec": {
            "startup": false,
            "wait_interval": 0
          },
          "base_uri": "https://localhost:8080/",
          "height": 37
        },
        "outputId": "f38dea77-9e01-448d-f2f3-b6b3ca9a0b11",
        "executionInfo": {
          "status": "ok",
          "timestamp": 1529928921469,
          "user_tz": -120,
          "elapsed": 772,
          "user": {
            "displayName": "Krzysztof Wolk",
            "photoUrl": "//lh6.googleusercontent.com/-vxodwYhllYc/AAAAAAAAAAI/AAAAAAAAAjI/mEKLqWllhJ4/s50-c-k-no/photo.jpg",
            "userId": "102132335037063292985"
          }
        }
      },
      "cell_type": "code",
      "source": [
        "def train(category_tensor, line_tensor):\n",
        "    rnn.zero_grad()\n",
        "    hidden = rnn.init_hidden()\n",
        "    \n",
        "    for i in range(line_tensor.size()[0]):\n",
        "        output, hidden = rnn(line_tensor[i], hidden)\n",
        "\n",
        "    loss = criterion(output, category_tensor)\n",
        "    loss.backward()\n",
        "\n",
        "    optimizer.step()\n",
        "\n",
        "    return output, loss.item()"
      ],
      "execution_count": 16,
      "outputs": []
    },
    {
      "metadata": {
        "id": "2vtXC_N6rBR5",
        "colab_type": "text"
      },
      "cell_type": "markdown",
      "source": [
        "Teraz wystarczy to powtórzyć dla wielu próbek. Skoro funkcja `train` zwraca wynik i stratę można wypisać jej predykcje i zachować zmiany w fukcji straty. Ponieważ mamy 1000 próbek wypisujemy po każdej z próbek i wyciągamy śrędnią stratę.\n"
      ]
    },
    {
      "metadata": {
        "id": "BYBA0bxYrBR6",
        "colab_type": "code",
        "colab": {
          "autoexec": {
            "startup": false,
            "wait_interval": 0
          },
          "base_uri": "https://localhost:8080/",
          "height": 357
        },
        "outputId": "3dba60a8-751d-480f-c369-5fd16aee3fe8",
        "executionInfo": {
          "status": "ok",
          "timestamp": 1529929090788,
          "user_tz": -120,
          "elapsed": 169267,
          "user": {
            "displayName": "Krzysztof Wolk",
            "photoUrl": "//lh6.googleusercontent.com/-vxodwYhllYc/AAAAAAAAAAI/AAAAAAAAAjI/mEKLqWllhJ4/s50-c-k-no/photo.jpg",
            "userId": "102132335037063292985"
          }
        }
      },
      "cell_type": "code",
      "source": [
        "import time\n",
        "import math\n",
        "\n",
        "n_epochs = 100000\n",
        "print_every = 5000\n",
        "plot_every = 1000\n",
        "\n",
        "# Keep track of losses for plotting\n",
        "current_loss = 0\n",
        "all_losses = []\n",
        "\n",
        "def time_since(since):\n",
        "    now = time.time()\n",
        "    s = now - since\n",
        "    m = math.floor(s / 60)\n",
        "    s -= m * 60\n",
        "    return '%dm %ds' % (m, s)\n",
        "\n",
        "start = time.time()\n",
        "\n",
        "for epoch in range(1, n_epochs + 1):\n",
        "    # Get a random training input and target\n",
        "    category, line, category_tensor, line_tensor = random_training_pair()\n",
        "    output, loss = train(category_tensor, line_tensor)\n",
        "    current_loss += loss\n",
        "    \n",
        "    # Print epoch number, loss, name and guess\n",
        "    if epoch % print_every == 0:\n",
        "        guess, guess_i = category_from_output(output)\n",
        "        correct = '✓' if guess == category else '✗ (%s)' % category\n",
        "        print('%d %d%% (%s) %.4f %s / %s %s' % (epoch, epoch / n_epochs * 100, time_since(start), loss, line, guess, correct))\n",
        "\n",
        "    # Add current loss avg to list of losses\n",
        "    if epoch % plot_every == 0:\n",
        "        all_losses.append(current_loss / plot_every)\n",
        "        current_loss = 0"
      ],
      "execution_count": 17,
      "outputs": [
        {
          "output_type": "stream",
          "text": [
            "5000 5% (0m 8s) 2.6103 Meeuwissen / Greek ✗ (Dutch)\n",
            "10000 10% (0m 16s) 3.0314 Rubio / Korean ✗ (Spanish)\n",
            "15000 15% (0m 25s) 2.3801 Kingsley / French ✗ (English)\n",
            "20000 20% (0m 33s) 2.0614 Durant / French ✓\n",
            "25000 25% (0m 41s) 2.2742 Cousineau / Scottish ✗ (French)\n",
            "30000 30% (0m 50s) 2.6081 Hora / Japanese ✗ (Czech)\n",
            "35000 35% (0m 58s) 1.2041 Nelissen / Dutch ✓\n",
            "40000 40% (1m 7s) 3.6777 Botros / Greek ✗ (Arabic)\n",
            "45000 45% (1m 16s) 1.2428 Schwarz / German ✓\n",
            "50000 50% (1m 24s) 4.7391 Morcos / Portuguese ✗ (Arabic)\n",
            "55000 55% (1m 32s) 1.8819 Izzard / Japanese ✗ (English)\n",
            "60000 60% (1m 41s) 1.0775 Mueller / German ✓\n",
            "65000 65% (1m 49s) 2.0866 Rietveld / French ✗ (Dutch)\n",
            "70000 70% (1m 57s) 0.7310 Etxeberria / Spanish ✓\n",
            "75000 75% (2m 6s) 2.2709 Thayer / Arabic ✗ (French)\n",
            "80000 80% (2m 14s) 0.1821 Zhai / Chinese ✓\n",
            "85000 85% (2m 22s) 0.1613 Ferreiro / Portuguese ✓\n",
            "90000 90% (2m 31s) 1.4027 Mutsu / Japanese ✓\n",
            "95000 95% (2m 39s) 0.8578 Bitar / Arabic ✓\n",
            "100000 100% (2m 47s) 0.4870 Cho / Korean ✓\n"
          ],
          "name": "stdout"
        }
      ]
    },
    {
      "metadata": {
        "id": "s-KyWZH7rBR7",
        "colab_type": "text"
      },
      "cell_type": "markdown",
      "source": [
        "# Kreślenie wyników\n",
        "\n",
        "Kreślenie historycznej straty z funkcji `all_losses` pokazuje przebieg uczenia sieci:"
      ]
    },
    {
      "metadata": {
        "id": "_nEE9-iyrBR7",
        "colab_type": "code",
        "colab": {
          "autoexec": {
            "startup": false,
            "wait_interval": 0
          },
          "base_uri": "https://localhost:8080/",
          "height": 347
        },
        "outputId": "2a3b9a67-4929-448b-d901-0059441ab63f",
        "executionInfo": {
          "status": "ok",
          "timestamp": 1529929092004,
          "user_tz": -120,
          "elapsed": 1181,
          "user": {
            "displayName": "Krzysztof Wolk",
            "photoUrl": "//lh6.googleusercontent.com/-vxodwYhllYc/AAAAAAAAAAI/AAAAAAAAAjI/mEKLqWllhJ4/s50-c-k-no/photo.jpg",
            "userId": "102132335037063292985"
          }
        }
      },
      "cell_type": "code",
      "source": [
        "import matplotlib.pyplot as plt\n",
        "import matplotlib.ticker as ticker\n",
        "%matplotlib inline\n",
        "\n",
        "import matplotlib.style\n",
        "import matplotlib as mpl\n",
        "mpl.style.use('seaborn')\n",
        "\n",
        "fig=plt.figure()\n",
        "aaa = plt.plot(all_losses)"
      ],
      "execution_count": 18,
      "outputs": [
        {
          "output_type": "display_data",
          "data": {
            "image/png": "[encoded data removed]",
            "text/plain": [
              "<matplotlib.figure.Figure at 0x7f124561ed30>"
            ]
          },
          "metadata": {
            "tags": []
          }
        }
      ]
    },
    {
      "metadata": {
        "id": "aKYxf_5FYVcd",
        "colab_type": "code",
        "colab": {
          "autoexec": {
            "startup": false,
            "wait_interval": 0
          },
          "base_uri": "https://localhost:8080/",
          "height": 37
        },
        "outputId": "8c34d165-18c5-491b-c07b-f17446f631fc",
        "executionInfo": {
          "status": "ok",
          "timestamp": 1529929092680,
          "user_tz": -120,
          "elapsed": 619,
          "user": {
            "displayName": "Krzysztof Wolk",
            "photoUrl": "//lh6.googleusercontent.com/-vxodwYhllYc/AAAAAAAAAAI/AAAAAAAAAjI/mEKLqWllhJ4/s50-c-k-no/photo.jpg",
            "userId": "102132335037063292985"
          }
        }
      },
      "cell_type": "code",
      "source": [
        "y = all_losses\n",
        "n = 10\n",
        "averages = []\n",
        "for i in range(len(y) - n):\n",
        "    window = y[i:i+n]\n",
        "    avg = sum(window) / n\n",
        "    # print(window, avg)\n",
        "    averages.append(avg)"
      ],
      "execution_count": 19,
      "outputs": []
    },
    {
      "metadata": {
        "id": "xY5cCyaxYVj8",
        "colab_type": "code",
        "colab": {
          "autoexec": {
            "startup": false,
            "wait_interval": 0
          },
          "base_uri": "https://localhost:8080/",
          "height": 34
        },
        "outputId": "affa7bf9-5dee-46a9-c80a-ee3dfb9194a1",
        "executionInfo": {
          "status": "ok",
          "timestamp": 1529929094315,
          "user_tz": -120,
          "elapsed": 1607,
          "user": {
            "displayName": "Krzysztof Wolk",
            "photoUrl": "//lh6.googleusercontent.com/-vxodwYhllYc/AAAAAAAAAAI/AAAAAAAAAjI/mEKLqWllhJ4/s50-c-k-no/photo.jpg",
            "userId": "102132335037063292985"
          }
        }
      },
      "cell_type": "code",
      "source": [
        "len(all_losses), len(averages)"
      ],
      "execution_count": 20,
      "outputs": [
        {
          "output_type": "execute_result",
          "data": {
            "text/plain": [
              "(100, 90)"
            ]
          },
          "metadata": {
            "tags": []
          },
          "execution_count": 20
        }
      ]
    },
    {
      "metadata": {
        "id": "QSKtEbz4YVmd",
        "colab_type": "code",
        "colab": {
          "autoexec": {
            "startup": false,
            "wait_interval": 0
          },
          "base_uri": "https://localhost:8080/",
          "height": 347
        },
        "outputId": "b263a927-9a1a-471e-b812-93c4de29ede3",
        "executionInfo": {
          "status": "ok",
          "timestamp": 1529929095122,
          "user_tz": -120,
          "elapsed": 740,
          "user": {
            "displayName": "Krzysztof Wolk",
            "photoUrl": "//lh6.googleusercontent.com/-vxodwYhllYc/AAAAAAAAAAI/AAAAAAAAAjI/mEKLqWllhJ4/s50-c-k-no/photo.jpg",
            "userId": "102132335037063292985"
          }
        }
      },
      "cell_type": "code",
      "source": [
        "fig=plt.figure()\n",
        "aaa = plt.plot(averages)"
      ],
      "execution_count": 21,
      "outputs": [
        {
          "output_type": "display_data",
          "data": {
            "image/png": "[encoded data removed]",
            "text/plain": [
              "<matplotlib.figure.Figure at 0x7f11fdd405c0>"
            ]
          },
          "metadata": {
            "tags": []
          }
        }
      ]
    },
    {
      "metadata": {
        "id": "A3m-_xnWrBR9",
        "colab_type": "text"
      },
      "cell_type": "markdown",
      "source": [
        "# Ocenianie Wyników\n",
        "\n",
        "Aby sprawdzić jak dobrze sieć radzi sobie z różnymi kategoriami tworzymy macież zmieszania w której dla każdego języka (wiersz) pokazane są wynika predykcji (kolumny). Aby wyliczyć macierz zmieszania przez sieć przepuszczamy serię próbek przez funkcję  `evaluate()`, która robie to samo co  `train()` za wyjątkiem wstecznej propagacji."
      ]
    },
    {
      "metadata": {
        "id": "nqJksaTmrBR-",
        "colab_type": "code",
        "colab": {
          "autoexec": {
            "startup": false,
            "wait_interval": 0
          },
          "base_uri": "https://localhost:8080/",
          "height": 37
        },
        "outputId": "ce35567e-2533-4bf5-81db-431310981207",
        "executionInfo": {
          "status": "ok",
          "timestamp": 1529929104674,
          "user_tz": -120,
          "elapsed": 9515,
          "user": {
            "displayName": "Krzysztof Wolk",
            "photoUrl": "//lh6.googleusercontent.com/-vxodwYhllYc/AAAAAAAAAAI/AAAAAAAAAjI/mEKLqWllhJ4/s50-c-k-no/photo.jpg",
            "userId": "102132335037063292985"
          }
        }
      },
      "cell_type": "code",
      "source": [
        "# Keep track of correct guesses in a confusion matrix\n",
        "confusion = torch.zeros(n_categories, n_categories)\n",
        "n_confusion = 10000\n",
        "\n",
        "# Just return an output given a line\n",
        "def evaluate(line_tensor):\n",
        "    hidden = rnn.init_hidden()\n",
        "    \n",
        "    for i in range(line_tensor.size()[0]):\n",
        "        output, hidden = rnn(line_tensor[i], hidden)\n",
        "    \n",
        "    return output\n",
        "\n",
        "# Go through a bunch of examples and record which are correctly guessed\n",
        "for i in range(n_confusion):\n",
        "    category, line, category_tensor, line_tensor = random_training_pair()\n",
        "    output = evaluate(line_tensor)\n",
        "    guess, guess_i = category_from_output(output)\n",
        "    category_i = all_categories.index(category)\n",
        "    confusion[category_i][guess_i] += 1\n",
        "    \n",
        "# Normalize by dividing every row by its sum\n",
        "for i in range(n_categories):\n",
        "    confusion[i] = confusion[i] / confusion[i].sum()"
      ],
      "execution_count": 22,
      "outputs": []
    },
    {
      "metadata": {
        "id": "o_Xi2OlygdrL",
        "colab_type": "code",
        "colab": {
          "autoexec": {
            "startup": false,
            "wait_interval": 0
          },
          "base_uri": "https://localhost:8080/",
          "height": 518
        },
        "outputId": "339e1136-e635-4d99-ef92-814665e50444",
        "executionInfo": {
          "status": "ok",
          "timestamp": 1529929106221,
          "user_tz": -120,
          "elapsed": 1511,
          "user": {
            "displayName": "Krzysztof Wolk",
            "photoUrl": "//lh6.googleusercontent.com/-vxodwYhllYc/AAAAAAAAAAI/AAAAAAAAAjI/mEKLqWllhJ4/s50-c-k-no/photo.jpg",
            "userId": "102132335037063292985"
          }
        }
      },
      "cell_type": "code",
      "source": [
        "mpl.style.use('default')\n",
        "mpl.style.use('seaborn-ticks')\n",
        "\n",
        "mpl.pyplot.set_cmap('hot_r')\n",
        "\n",
        "# Set up plot\n",
        "fig = plt.figure()\n",
        "ax = fig.add_subplot(111)\n",
        "cax = ax.matshow(confusion.numpy())\n",
        "fig.colorbar(cax)\n",
        "\n",
        "# Set up axes\n",
        "ax.set_xticklabels([''] + all_categories, rotation=90)\n",
        "ax.set_yticklabels([''] + all_categories)\n",
        "\n",
        "# Force label at every tick\n",
        "ax.xaxis.set_major_locator(ticker.MultipleLocator(1))\n",
        "ax.yaxis.set_major_locator(ticker.MultipleLocator(1))\n",
        "\n",
        "plt.show()"
      ],
      "execution_count": 23,
      "outputs": [
        {
          "output_type": "display_data",
          "data": {
            "text/plain": [
              "<matplotlib.figure.Figure at 0x7f11fdc7e4a8>"
            ]
          },
          "metadata": {
            "tags": []
          }
        },
        {
          "output_type": "display_data",
          "data": {
            "image/png": "[encoded data removed]",
            "text/plain": [
              "<matplotlib.figure.Figure at 0x7f11fdc7e518>"
            ]
          },
          "metadata": {
            "tags": []
          }
        }
      ]
    },
    {
      "metadata": {
        "id": "-0cYQCsRrBR_",
        "colab_type": "text"
      },
      "cell_type": "markdown",
      "source": [
        "Można wybrać jasne kwadraciki na wykresie aby zobaczyć które przewidywania nie są prawidłowe.\n"
      ]
    },
    {
      "metadata": {
        "id": "n4Q4jXBOrBSA",
        "colab_type": "text"
      },
      "cell_type": "markdown",
      "source": [
        "# Running on User Input"
      ]
    },
    {
      "metadata": {
        "id": "TgYOUqrjrBSA",
        "colab_type": "code",
        "colab": {
          "autoexec": {
            "startup": false,
            "wait_interval": 0
          },
          "base_uri": "https://localhost:8080/",
          "height": 527
        },
        "outputId": "5cd15228-5771-44f1-c32f-3918240cc29e",
        "executionInfo": {
          "status": "ok",
          "timestamp": 1529929108102,
          "user_tz": -120,
          "elapsed": 1834,
          "user": {
            "displayName": "Krzysztof Wolk",
            "photoUrl": "//lh6.googleusercontent.com/-vxodwYhllYc/AAAAAAAAAAI/AAAAAAAAAjI/mEKLqWllhJ4/s50-c-k-no/photo.jpg",
            "userId": "102132335037063292985"
          }
        }
      },
      "cell_type": "code",
      "source": [
        "import numpy as np\n",
        "\n",
        "def predict(input_line, n_predictions=3):\n",
        "    print('\\n> %s' % input_line)\n",
        "    output = evaluate(Variable(line_to_tensor(input_line)))\n",
        "\n",
        "    # Get top N categories\n",
        "    topv, topi = output.data.topk(n_predictions, 1, True)\n",
        "    predictions = []\n",
        "\n",
        "    for i in range(n_predictions):\n",
        "        value = topv[0][i]\n",
        "        category_index = topi[0][i]\n",
        "        pred = np.exp(value)\n",
        "        print('(%.2f%%) %s' % (pred*100, all_categories[category_index]))\n",
        "        # print('(%.2f) %s' % (value, all_categories[category_index]))\n",
        "        predictions.append([value, all_categories[category_index]])\n",
        "\n",
        "predict('Dovesky')\n",
        "predict('Jackson')\n",
        "predict('Satoshi')\n",
        "predict('Czarnowski')\n",
        "predict('Kazimierczak')\n",
        "predict('Wołk')"
      ],
      "execution_count": 24,
      "outputs": [
        {
          "output_type": "stream",
          "text": [
            "\n",
            "> Dovesky\n",
            "(59.43%) Russian\n",
            "(27.79%) Czech\n",
            "(5.13%) Polish\n",
            "\n",
            "> Jackson\n",
            "(79.99%) Scottish\n",
            "(9.67%) English\n",
            "(4.73%) Russian\n",
            "\n",
            "> Satoshi\n",
            "(47.51%) Japanese\n",
            "(26.99%) Arabic\n",
            "(10.29%) Polish\n",
            "\n",
            "> Czarnowski\n",
            "(79.13%) Polish\n",
            "(6.21%) Russian\n",
            "(6.04%) Czech\n",
            "\n",
            "> Kazimierczak\n",
            "(98.97%) Polish\n",
            "(0.73%) Czech\n",
            "(0.14%) Russian\n",
            "\n",
            "> Wołk\n",
            "(52.46%) Korean\n",
            "(17.54%) Czech\n",
            "(4.57%) Polish\n"
          ],
          "name": "stdout"
        }
      ]
    },
    {
      "metadata": {
        "id": "0UXIXIQtrBSB",
        "colab_type": "text"
      },
      "cell_type": "markdown",
      "source": [
        ""
      ]
    },
    {
      "metadata": {
        "id": "M6kOTILyrBSC",
        "colab_type": "text"
      },
      "cell_type": "markdown",
      "source": [
        "# Ćwiczenia\n",
        "\n",
        "* Wypróbuj inny zbiór danych typu wartość -> kategoria, np.:\n",
        "    * słowo -> język\n",
        "    * imię -> gender\n",
        "    * bohater -> pisarz\n",
        "   \n",
        "* Popraw wyniki tworząc większą sieć lub sieć o lepszej struktórze\n",
        "    * Więcej warstw\n",
        "    * Wypróbuj `nn.LSTM` oraz `nn.GRU` \n",
        "    * Połacz wiele wartw oraz optymalizatorów w hierarchi"
      ]
    },
    {
      "metadata": {
        "id": "ZDA3v0tFrBSC",
        "colab_type": "text"
      },
      "cell_type": "markdown",
      "source": [
        "# "
      ]
    }
  ]
}