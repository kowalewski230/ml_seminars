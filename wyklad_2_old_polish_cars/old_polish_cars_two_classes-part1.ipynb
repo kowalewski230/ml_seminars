{
  "nbformat": 4,
  "nbformat_minor": 0,
  "metadata": {
    "colab": {
      "name": "old_polish_cars_two_classes-part1.ipynb",
      "version": "0.3.2",
      "views": {},
      "default_view": {},
      "provenance": [],
      "collapsed_sections": []
    },
    "kernelspec": {
      "display_name": "Python 3",
      "language": "python",
      "name": "python3"
    },
    "accelerator": "GPU"
  },
  "cells": [
    {
      "metadata": {
        "id": "eTmIFSt2CzHx",
        "colab_type": "text"
      },
      "cell_type": "markdown",
      "source": [
        "# Klasyfikacja obrazu za pomocą konwolucyjnych sieci neuronowych "
      ]
    },
    {
      "metadata": {
        "id": "BbPrpvQF2QKr",
        "colab_type": "text"
      },
      "cell_type": "markdown",
      "source": [
        "Wykorzystamy konwolucyjne sieci neuronowe (ang. convolutional neural networks - CNNs), by nauczyć nasz komputer jak widzieć - a jest to coś, co jest możliwe jedynie dzięki głębokiemu uczeniu (ang. deep learning)."
      ]
    },
    {
      "metadata": {
        "id": "k1InJDsgCzH1",
        "colab_type": "text"
      },
      "cell_type": "markdown",
      "source": [
        "## Wprowadzenie do zadania \"Old Polish Cars\""
      ]
    },
    {
      "metadata": {
        "id": "eTDVyOHFCzH3",
        "colab_type": "text"
      },
      "cell_type": "markdown",
      "source": [
        "Spróbujemy stworzyć model, który pozwoli rozróżnić dwie marki starych polskich samochodów. Dostępne jest 2400 oznakowanych zdjęć samochodów do trenowania i 270 w zestawie testowym, które musimy spróbować oznakować."
      ]
    },
    {
      "metadata": {
        "id": "wSK7Sy_RCzH4",
        "colab_type": "code",
        "colab": {
          "autoexec": {
            "startup": false,
            "wait_interval": 0
          }
        }
      },
      "cell_type": "code",
      "source": [
        "# Umieść je na górze każdego notatnika, aby uzyskać automatyczne ponowne ładowanie\n",
        "%reload_ext autoreload\n",
        "%autoreload 2\n",
        "\n",
        "#matplotlib setup\n",
        "import matplotlib.pyplot as plt\n",
        "import matplotlib.ticker as ticker\n",
        "\n",
        "import matplotlib.style\n",
        "import matplotlib as mpl\n",
        "mpl.style.use('default')\n",
        "mpl.style.use('seaborn-ticks')\n",
        "# %config InlineBackend.figure_format = 'retina'\n",
        "\n",
        "import warnings\n",
        "warnings.filterwarnings('ignore')\n",
        "from pathlib import Path\n",
        "import shutil as sh"
      ],
      "execution_count": 0,
      "outputs": []
    },
    {
      "metadata": {
        "id": "kK1Bq_0-CzH9",
        "colab_type": "text"
      },
      "cell_type": "markdown",
      "source": [
        "Tutaj importujemy niezbędne biblioteki, do czego konkretnie które służą dowiemy się podczas kursu (http://course.fast.ai)."
      ]
    },
    {
      "metadata": {
        "id": "Rx1gyH2zEfUT",
        "colab_type": "code",
        "colab": {
          "autoexec": {
            "startup": false,
            "wait_interval": 0
          }
        }
      },
      "cell_type": "code",
      "source": [
        "# cd fastai/"
      ],
      "execution_count": 0,
      "outputs": []
    },
    {
      "metadata": {
        "id": "FItIz0RbCzIB",
        "colab_type": "code",
        "colab": {
          "autoexec": {
            "startup": false,
            "wait_interval": 0
          }
        }
      },
      "cell_type": "code",
      "source": [
        "# Ten plik zawiera wszystkie główne biblioteki zewnętrzne, których użyjemy.\n",
        "from fastai.imports import *\n",
        "\n",
        "from fastai.transforms import *\n",
        "from fastai.conv_learner import *\n",
        "from fastai.model import *\n",
        "from fastai.dataset import *\n",
        "from fastai.sgdr import *\n",
        "from fastai.plots import *"
      ],
      "execution_count": 0,
      "outputs": []
    },
    {
      "metadata": {
        "id": "hj-vw5MgCzID",
        "colab_type": "text"
      },
      "cell_type": "markdown",
      "source": [
        "`PATH` jest ścieżką do twoich danych - jeśli wykorzystasz zalecaną metodę konfiguracji tej lekcji, nie będziesz musiał tego zmieniać. `sz` to rozmiar, do którego obrazy zostaną przeskalowane w celu uzyskania szybkich przebiegów treningowych. Podczas kursu będziemy sporo rozmawiać o tym parametrze. Zostaw na razie `224`."
      ]
    },
    {
      "metadata": {
        "id": "BG9qVA-rCzID",
        "colab_type": "code",
        "colab": {
          "autoexec": {
            "startup": false,
            "wait_interval": 0
          }
        }
      },
      "cell_type": "code",
      "source": [
        "PATH = \"/content/data/old_polish_cars/old_polish_cars_two_classes_v2a-512-split/\"\n",
        "sz=224"
      ],
      "execution_count": 0,
      "outputs": []
    },
    {
      "metadata": {
        "id": "xlYRk9DrCzIF",
        "colab_type": "text"
      },
      "cell_type": "markdown",
      "source": [
        "Ważne jest, aby mieć działający GPU NVidii. Zestaw bibliotek stosowany za kulisami do pracy z procesorami graficznymi NVidii nosi nazwę CUDA. Dlatego zanim przejdzisz dalej, upewnij się, że następująca linia zwraca wartość `True`. Jeśli masz z tym problemy, sprawdź FAQ i poproś o pomoc [na forum](http://forums.fast.ai)."
      ]
    },
    {
      "metadata": {
        "id": "8dz_nejWCzIG",
        "colab_type": "code",
        "colab": {
          "autoexec": {
            "startup": false,
            "wait_interval": 0
          }
        }
      },
      "cell_type": "code",
      "source": [
        "torch.cuda.is_available()"
      ],
      "execution_count": 0,
      "outputs": []
    },
    {
      "metadata": {
        "id": "7Jor5wmQCzIL",
        "colab_type": "text"
      },
      "cell_type": "markdown",
      "source": [
        "Ponadto NVidia zapewnia specjalne przyspieszone funkcje do głębokiego uczenia w pakiecie o nazwie CuDNN. Chociaż nie jest to bezwzględnie konieczne, znacznie poprawi wydajność treningów i jest domyślnie uwzględnione we wszystkich obsługiwanych konfiguracjach fastai. Dlatego jeśli poniższe nie zwróci wartości `True`, warto sprawdzić, dlaczego."
      ]
    },
    {
      "metadata": {
        "id": "d-YAGIzICzIM",
        "colab_type": "code",
        "colab": {
          "autoexec": {
            "startup": false,
            "wait_interval": 0
          }
        }
      },
      "cell_type": "code",
      "source": [
        "torch.backends.cudnn.enabled"
      ],
      "execution_count": 0,
      "outputs": []
    },
    {
      "metadata": {
        "id": "qgEwE9upCzIU",
        "colab_type": "text"
      },
      "cell_type": "markdown",
      "source": [
        "## Najpierw obejrzyj zdjęcia samochodów"
      ]
    },
    {
      "metadata": {
        "id": "1Mtl7fy_CzIU",
        "colab_type": "text"
      },
      "cell_type": "markdown",
      "source": [
        "Biblioteka `fastai` zakłada, że posiadasz katalogi *train* i *valid*. Zakłada się także, że każdy katalog będzie zawierał podkatalogi dla każdej klasy, która ma zostać rozpoznana (w tym przypadku \"maluch\", \"polonez\" itp.)."
      ]
    },
    {
      "metadata": {
        "id": "Hao8v-boCzIU",
        "colab_type": "code",
        "colab": {
          "autoexec": {
            "startup": false,
            "wait_interval": 0
          }
        }
      },
      "cell_type": "code",
      "source": [
        "os.listdir(PATH)"
      ],
      "execution_count": 0,
      "outputs": []
    },
    {
      "metadata": {
        "id": "3tIQw1MgCzIW",
        "colab_type": "code",
        "colab": {
          "autoexec": {
            "startup": false,
            "wait_interval": 0
          }
        }
      },
      "cell_type": "code",
      "source": [
        "os.listdir(f'{PATH}valid')"
      ],
      "execution_count": 0,
      "outputs": []
    },
    {
      "metadata": {
        "id": "DWZkE8OACzIZ",
        "colab_type": "code",
        "colab": {
          "autoexec": {
            "startup": false,
            "wait_interval": 0
          }
        }
      },
      "cell_type": "code",
      "source": [
        "files = os.listdir(f'{PATH}valid/maluch')[:5]\n",
        "files"
      ],
      "execution_count": 0,
      "outputs": []
    },
    {
      "metadata": {
        "id": "3n1F1sn0CzIb",
        "colab_type": "code",
        "colab": {
          "autoexec": {
            "startup": false,
            "wait_interval": 0
          }
        }
      },
      "cell_type": "code",
      "source": [
        "img = plt.imread(f'{PATH}valid/maluch/{files[2]}')\n",
        "plt.imshow(img);"
      ],
      "execution_count": 0,
      "outputs": []
    },
    {
      "metadata": {
        "id": "KjBLgzY1CzId",
        "colab_type": "text"
      },
      "cell_type": "markdown",
      "source": [
        "Oto jak wyglądają dane surowe."
      ]
    },
    {
      "metadata": {
        "id": "nEyT4MFqCzId",
        "colab_type": "code",
        "colab": {
          "autoexec": {
            "startup": false,
            "wait_interval": 0
          }
        }
      },
      "cell_type": "code",
      "source": [
        "img.shape"
      ],
      "execution_count": 0,
      "outputs": []
    },
    {
      "metadata": {
        "id": "Ok-ZFOzICzIf",
        "colab_type": "code",
        "colab": {
          "autoexec": {
            "startup": false,
            "wait_interval": 0
          }
        }
      },
      "cell_type": "code",
      "source": [
        "img[:4,:4]"
      ],
      "execution_count": 0,
      "outputs": []
    },
    {
      "metadata": {
        "id": "sAj1l5UTCzIh",
        "colab_type": "text"
      },
      "cell_type": "markdown",
      "source": [
        "## Nasz pierwszy model: szybki start"
      ]
    },
    {
      "metadata": {
        "id": "DwiTJMKlCzIh",
        "colab_type": "text"
      },
      "cell_type": "markdown",
      "source": [
        "\n",
        "Użyjemy **wcześniej wytrenowanego** (ang. pre-trained) modelu, czyli modelu stworzonego przez kogoś innego dla rozwiązania innego problemu. Zamiast budować model od zera, aby rozwiązać podobny problem, jako punkt wyjścia wykorzystamy model wytrenowany na ImageNet (1,2 miliona obrazów i 1000 klas). Model ten to Convolutional Neural Network (CNN), rodzaj sieci neuronowej, którą używa się budując najnowocześniejsze modele rozpoznawania obrazów. Podczas tego kursu będziemy się uczyć wszystkiego o CNN.\n",
        "\n",
        "Będziemy używać model **resnet34**. resnet34 to wersja modelu, który wygrał konkurs ImageNet 2015. Tutaj jest więcej informacji na temat [modeli resnet](https://github.com/KaimingHe/deep-residual-networks). Przyjrzymy się im dogłębnie później, ale na razie skupimy się na ich efektywnym wykorzystaniu.\n",
        "\n",
        "Oto jak wytrenować i zewaluować model *old polish cars* przy pomocy 3 linii kodu i w mniej niż 20 sekund:"
      ]
    },
    {
      "metadata": {
        "id": "kNO3nLkjCzIi",
        "colab_type": "code",
        "colab": {
          "autoexec": {
            "startup": false,
            "wait_interval": 0
          }
        }
      },
      "cell_type": "code",
      "source": [
        "# Odkomentuj poniższe polecenie, jeśli chcesz zresetować cache-owane aktywacje\n",
        "# shutil.rmtree(f'{PATH}tmp', ignore_errors=True)"
      ],
      "execution_count": 0,
      "outputs": []
    },
    {
      "metadata": {
        "id": "o5oyj7UCCzIj",
        "colab_type": "code",
        "colab": {
          "autoexec": {
            "startup": false,
            "wait_interval": 0
          }
        }
      },
      "cell_type": "code",
      "source": [
        "arch=resnet34\n",
        "data = ImageClassifierData.from_paths(PATH, tfms=tfms_from_model(arch, sz))\n",
        "learn = ConvLearner.pretrained(arch, data, precompute=True)\n",
        "learn.fit(0.01, 3)"
      ],
      "execution_count": 0,
      "outputs": []
    },
    {
      "metadata": {
        "id": "rXJvEjkyCzIl",
        "colab_type": "text"
      },
      "cell_type": "markdown",
      "source": [
        "Jak dobry jest ten model? Kilka lat temu, przy podobnym zadaniu, osiągano maksymalnie 80% dokładności. Ale konkurs rozpoznawania obrazów ogłoszony przez Kaggle, spowodował ogromny skok do 98,9% dokładności, a autor pewnej popularnej biblioteki deep learning zwyciężył w tym konkursie."
      ]
    },
    {
      "metadata": {
        "id": "KjLsgmvNCzIm",
        "colab_type": "text"
      },
      "cell_type": "markdown",
      "source": [
        "## Analizowanie wyników: oglądanie zdjęć"
      ]
    },
    {
      "metadata": {
        "id": "hJKcExNOCzIm",
        "colab_type": "text"
      },
      "cell_type": "markdown",
      "source": [
        "Oprócz ogólnego spojrzenia na wskaźniki warto przyjrzeć się poniższym przykładom:\n",
        "\n",
        "1. Kilka losowo wybranych poprawnych rozpoznań\n",
        "2. Kilka losowo wybranych nieprawidłowych rozpoznań\n",
        "3. Najbardziej poprawnie rozpoznania każdej klasy (tj. te z najwyższym prawdopodobieństwem z poprawnych)\n",
        "4. Najbardziej niepoprawne rozpoznania każdej klasy (tj. te z najwyższym prawdopodobieństwem z nieprawidłowych)\n",
        "5. Najbardziej niepewne rozpoznania (tj. te z prawdopodobieństwem najbliższym 0,5)."
      ]
    },
    {
      "metadata": {
        "id": "dO0rwfIeCzIn",
        "colab_type": "code",
        "colab": {
          "autoexec": {
            "startup": false,
            "wait_interval": 0
          }
        }
      },
      "cell_type": "code",
      "source": [
        "# To są etykiety dla danych walidacyjnych\n",
        "data.val_y"
      ],
      "execution_count": 0,
      "outputs": []
    },
    {
      "metadata": {
        "id": "t1gtI8n8CzIp",
        "colab_type": "code",
        "colab": {
          "autoexec": {
            "startup": false,
            "wait_interval": 0
          }
        }
      },
      "cell_type": "code",
      "source": [
        "# stąd wiemy, że \"maluch\" to etykieta dla 0, a \"polonez\" to etykieta dla 1\n",
        "data.classes"
      ],
      "execution_count": 0,
      "outputs": []
    },
    {
      "metadata": {
        "id": "9vg2yAqtCzIq",
        "colab_type": "code",
        "colab": {
          "autoexec": {
            "startup": false,
            "wait_interval": 0
          }
        }
      },
      "cell_type": "code",
      "source": [
        "# to tworzy prognozę dla zestawu walidacyjnego. Prognozy są w skali logarytmicznej\n",
        "log_preds = learn.predict()\n",
        "log_preds.shape"
      ],
      "execution_count": 0,
      "outputs": []
    },
    {
      "metadata": {
        "id": "Tb205BdICzIs",
        "colab_type": "code",
        "colab": {
          "autoexec": {
            "startup": false,
            "wait_interval": 0
          }
        }
      },
      "cell_type": "code",
      "source": [
        "log_preds[:10]"
      ],
      "execution_count": 0,
      "outputs": []
    },
    {
      "metadata": {
        "id": "hhv6BInECzIt",
        "colab_type": "code",
        "colab": {
          "autoexec": {
            "startup": false,
            "wait_interval": 0
          }
        }
      },
      "cell_type": "code",
      "source": [
        "preds = np.argmax(log_preds, axis=1)  # od logarytmu prawdopodobieństwa do 0 lub 1\n",
        "probs = np.exp(log_preds[:,1])        # pr(polonez)"
      ],
      "execution_count": 0,
      "outputs": []
    },
    {
      "metadata": {
        "id": "DV6NWhf-CzIu",
        "colab_type": "code",
        "colab": {
          "autoexec": {
            "startup": false,
            "wait_interval": 0
          }
        }
      },
      "cell_type": "code",
      "source": [
        "def rand_by_mask(mask): return np.random.choice(np.where(mask)[0], 4, replace=False)\n",
        "def rand_by_correct(is_correct): return rand_by_mask((preds == data.val_y)==is_correct)"
      ],
      "execution_count": 0,
      "outputs": []
    },
    {
      "metadata": {
        "id": "7rvxIeSYCzIv",
        "colab_type": "code",
        "colab": {
          "autoexec": {
            "startup": false,
            "wait_interval": 0
          }
        }
      },
      "cell_type": "code",
      "source": [
        "def plot_val_with_title(idxs, title):\n",
        "    imgs = np.stack([data.val_ds[x][0] for x in idxs])\n",
        "    title_probs = [probs[x] for x in idxs]\n",
        "    print(title)\n",
        "    return plots(data.val_ds.denorm(imgs), rows=1, titles=title_probs)"
      ],
      "execution_count": 0,
      "outputs": []
    },
    {
      "metadata": {
        "id": "3KpQuoKVCzIw",
        "colab_type": "code",
        "colab": {
          "autoexec": {
            "startup": false,
            "wait_interval": 0
          }
        }
      },
      "cell_type": "code",
      "source": [
        "def plots(ims, figsize=(12,6), rows=1, titles=None):\n",
        "    f = plt.figure(figsize=figsize)\n",
        "    for i in range(len(ims)):\n",
        "        sp = f.add_subplot(rows, len(ims)//rows, i+1)\n",
        "        sp.axis('Off')\n",
        "        if titles is not None: sp.set_title(titles[i], fontsize=16)\n",
        "        plt.imshow(ims[i])"
      ],
      "execution_count": 0,
      "outputs": []
    },
    {
      "metadata": {
        "id": "x0azZQfhCzIx",
        "colab_type": "code",
        "colab": {
          "autoexec": {
            "startup": false,
            "wait_interval": 0
          }
        }
      },
      "cell_type": "code",
      "source": [
        "def load_img_id(ds, idx): return np.array(PIL.Image.open(PATH+ds.fnames[idx]))\n",
        "\n",
        "def plot_val_with_title(idxs, title):\n",
        "    imgs = [load_img_id(data.val_ds,x) for x in idxs]\n",
        "    title_probs = [probs[x] for x in idxs]\n",
        "    print(title)\n",
        "    return plots(imgs, rows=1, titles=title_probs, figsize=(16,8))"
      ],
      "execution_count": 0,
      "outputs": []
    },
    {
      "metadata": {
        "id": "S_GlGeykCzIx",
        "colab_type": "code",
        "colab": {
          "autoexec": {
            "startup": false,
            "wait_interval": 0
          }
        }
      },
      "cell_type": "code",
      "source": [
        "# 1. Kilka losowo wybranych poprawnych rozpoznań\n",
        "plot_val_with_title(rand_by_correct(True), \"Correctly classified\")"
      ],
      "execution_count": 0,
      "outputs": []
    },
    {
      "metadata": {
        "id": "fViFKoLQCzIz",
        "colab_type": "code",
        "colab": {
          "autoexec": {
            "startup": false,
            "wait_interval": 0
          }
        }
      },
      "cell_type": "code",
      "source": [
        "# 2. Kilka losowo wybranych nieprawidłowych rozpoznań\n",
        "plot_val_with_title(rand_by_correct(False), \"Incorrectly classified\")"
      ],
      "execution_count": 0,
      "outputs": []
    },
    {
      "metadata": {
        "id": "y6n9FMkLCzI0",
        "colab_type": "code",
        "colab": {
          "autoexec": {
            "startup": false,
            "wait_interval": 0
          }
        }
      },
      "cell_type": "code",
      "source": [
        "def most_by_mask(mask, mult):\n",
        "    idxs = np.where(mask)[0]\n",
        "    return idxs[np.argsort(mult * probs[idxs])[:4]]\n",
        "\n",
        "def most_by_correct(y, is_correct): \n",
        "    mult = -1 if (y==1)==is_correct else 1\n",
        "    return most_by_mask(((preds == data.val_y)==is_correct) & (data.val_y == y), mult)"
      ],
      "execution_count": 0,
      "outputs": []
    },
    {
      "metadata": {
        "id": "tvVnlwwYCzI1",
        "colab_type": "code",
        "colab": {
          "autoexec": {
            "startup": false,
            "wait_interval": 0
          }
        }
      },
      "cell_type": "code",
      "source": [
        "plot_val_with_title(most_by_correct(0, True), \"Most correct maluchs\")"
      ],
      "execution_count": 0,
      "outputs": []
    },
    {
      "metadata": {
        "id": "CJn-wGspCzI2",
        "colab_type": "code",
        "colab": {
          "autoexec": {
            "startup": false,
            "wait_interval": 0
          }
        }
      },
      "cell_type": "code",
      "source": [
        "plot_val_with_title(most_by_correct(1, True), \"Most correct polonezes\")"
      ],
      "execution_count": 0,
      "outputs": []
    },
    {
      "metadata": {
        "id": "VyKUcgXSCzI4",
        "colab_type": "code",
        "colab": {
          "autoexec": {
            "startup": false,
            "wait_interval": 0
          }
        }
      },
      "cell_type": "code",
      "source": [
        "plot_val_with_title(most_by_correct(0, False), \"Most incorrect maluchs\")"
      ],
      "execution_count": 0,
      "outputs": []
    },
    {
      "metadata": {
        "id": "onP7TissCzI5",
        "colab_type": "code",
        "colab": {
          "autoexec": {
            "startup": false,
            "wait_interval": 0
          }
        }
      },
      "cell_type": "code",
      "source": [
        "plot_val_with_title(most_by_correct(1, False), \"Most incorrect polonezes\")"
      ],
      "execution_count": 0,
      "outputs": []
    },
    {
      "metadata": {
        "id": "XfrTU7GSCzI6",
        "colab_type": "code",
        "colab": {
          "autoexec": {
            "startup": false,
            "wait_interval": 0
          }
        }
      },
      "cell_type": "code",
      "source": [
        "most_uncertain = np.argsort(np.abs(probs -0.5))[:4]\n",
        "plot_val_with_title(most_uncertain, \"Most uncertain predictions\")"
      ],
      "execution_count": 0,
      "outputs": []
    },
    {
      "metadata": {
        "id": "9DSMHJV_CzJV",
        "colab_type": "text"
      },
      "cell_type": "markdown",
      "source": [
        "## Analizowanie wyników"
      ]
    },
    {
      "metadata": {
        "id": "CRkpn44ZCzJW",
        "colab_type": "text"
      },
      "cell_type": "markdown",
      "source": [
        "### Tablica pomyłek"
      ]
    },
    {
      "metadata": {
        "id": "uYu6sycDCzJW",
        "colab_type": "code",
        "colab": {
          "autoexec": {
            "startup": false,
            "wait_interval": 0
          }
        }
      },
      "cell_type": "code",
      "source": [
        "log_preds = learn.predict()\n",
        "y = data.val_y\n",
        "probs = np.exp(log_preds)\n",
        "preds = np.argmax(probs, axis=1)\n",
        "probs = probs[:,1]"
      ],
      "execution_count": 0,
      "outputs": []
    },
    {
      "metadata": {
        "id": "sucz1bd7CzJX",
        "colab_type": "text"
      },
      "cell_type": "markdown",
      "source": [
        "Popularnym sposobem analizy wyniku modelu klasyfikacyjnego jest użycie [tablicy pomyłek (macierzy błędów)](http://www.dataschool.io/simple-guide-to-confusion-matrix-terminology/). Scikit-learn ma wygodną funkcję, którą możemy wykorzystać w tym celu:\n"
      ]
    },
    {
      "metadata": {
        "id": "waWb1krGCzJX",
        "colab_type": "code",
        "colab": {
          "autoexec": {
            "startup": false,
            "wait_interval": 0
          }
        }
      },
      "cell_type": "code",
      "source": [
        "from sklearn.metrics import confusion_matrix\n",
        "cm = confusion_matrix(y, preds)"
      ],
      "execution_count": 0,
      "outputs": []
    },
    {
      "metadata": {
        "id": "SL6EqSVnCzJX",
        "colab_type": "text"
      },
      "cell_type": "markdown",
      "source": [
        "Możemy po prostu wyświetlić macierz błędów tekstowo lub wykreślić graficznie (co jest przydatne głównie dla zależności z większą liczbą kategorii)."
      ]
    },
    {
      "metadata": {
        "id": "ViiNbHZQCzJX",
        "colab_type": "code",
        "colab": {
          "autoexec": {
            "startup": false,
            "wait_interval": 0
          }
        }
      },
      "cell_type": "code",
      "source": [
        "mpl.style.use('default')\n",
        "mpl.style.use('seaborn-ticks')\n",
        "\n",
        "plot_confusion_matrix(cm, data.classes)"
      ],
      "execution_count": 0,
      "outputs": []
    },
    {
      "metadata": {
        "id": "aZsIjZ8kCzJb",
        "colab_type": "text"
      },
      "cell_type": "markdown",
      "source": [
        "## Zrozumienie kodu naszego pierwszego modelu"
      ]
    },
    {
      "metadata": {
        "id": "S5BZUUUxCzJc",
        "colab_type": "text"
      },
      "cell_type": "markdown",
      "source": [
        "Spójrzmy na kod linia po linii.\n",
        "\n",
        "**tfms** oznacza *transformacje*. `tfms_from_model` zajmuje się zmianą rozmiaru, kadrowaniem obrazu, wstępną normalizacją (tworzeniem danych z (mean,stdev) równym (0,1)), i nie tylko."
      ]
    },
    {
      "metadata": {
        "id": "2EiMyRn4CzJc",
        "colab_type": "code",
        "colab": {
          "autoexec": {
            "startup": false,
            "wait_interval": 0
          }
        }
      },
      "cell_type": "code",
      "source": [
        "tfms = tfms_from_model(resnet34, sz)"
      ],
      "execution_count": 0,
      "outputs": []
    },
    {
      "metadata": {
        "id": "OkKeC-0vCzJc",
        "colab_type": "text"
      },
      "cell_type": "markdown",
      "source": [
        "Potrzebujemy **ścieżkę (PATH)** wskazującą na zbiór danych (dataset). W tej ścieżce będziemy również przechowywać tymczasowe dane i końcowe wyniki. `ImageClassifierData.from_paths` odczytuje dane z podanej ścieżki i tworzy zestaw danych gotowy na trening."
      ]
    },
    {
      "metadata": {
        "id": "apPPuy5tCzJd",
        "colab_type": "code",
        "colab": {
          "autoexec": {
            "startup": false,
            "wait_interval": 0
          }
        }
      },
      "cell_type": "code",
      "source": [
        "data = ImageClassifierData.from_paths(PATH, tfms=tfms)"
      ],
      "execution_count": 0,
      "outputs": []
    },
    {
      "metadata": {
        "id": "yugLXdJOCzJd",
        "colab_type": "text"
      },
      "cell_type": "markdown",
      "source": [
        "`ConvLearner.pretrained` buduje *ucznia*, który zawiera wcześniej wytrenowany model. Ostatnia warstwa modelu musi zostać zastąpiona warstwą odpowiednich wymiarów. Ten model został wytrenowany dla 1000 klas, a ostateczna warstwa prognozuje wektor z 1000-cem prawdopodobieństw. Model dla old polish cars musi oddać wektor dwuwymiarowy. Poniższy schemat pokazuje na przykładzie, w jaki sposób zostało to zrobione w jednej z najwcześniej odnoszących sukces sieci konwolucyjnych CNN. Warstwa \"FC8\" zostanie tutaj zastąpiona nową warstwą z 2 wyjściami.\n",
        "\n",
        "<img src=\"https://github.com/fastai/fastai/raw/12558d73b0e9487251315204d1033e35df9f5053/courses/dl1/images/pretrained.png\" width=\"500\">\n",
        "[original image](https://image.slidesharecdn.com/practicaldeeplearning-160329181459/95/practical-deep-learning-16-638.jpg)"
      ]
    },
    {
      "metadata": {
        "id": "24oRP-_bCzJe",
        "colab_type": "code",
        "colab": {
          "autoexec": {
            "startup": false,
            "wait_interval": 0
          }
        }
      },
      "cell_type": "code",
      "source": [
        "learn = ConvLearner.pretrained(resnet34, data, precompute=True)"
      ],
      "execution_count": 0,
      "outputs": []
    },
    {
      "metadata": {
        "id": "7yrmM053CzJe",
        "colab_type": "text"
      },
      "cell_type": "markdown",
      "source": [
        "Uczymy się *parametrów* poprzez dopasowanie modelu do danych. *Hiperparametr* to inny rodzaj parametru, którego nie można bezpośrednio nauczyć się ze zwykłego procesu treningowego. Parametry te wyrażają właściwości modelu \"wyższego poziomu\", takie jak jego złożoność, czy jak szybko ma się uczyć. Dwa przykłady hiperparametrów to *tempo uczenia się* i *liczba epok*.\n",
        "\n",
        "Podczas iteracyjnego trenowania sieci neuronowej, *wsad (batch)* lub *mini-wsad (mini-batch)* jest podzbiorem treningowych próbek użytych w jednej iteracji metody stochastycznego gradientu prostego, ang. Stochastic Gradient Descent (SGD). *Epoka* to pojedyncze przejście przez cały zestaw treningowy, na nią składa się wiele iteracji SGD.\n",
        "\n",
        "Możemy teraz *dopasować (fit)* model; to znaczy, użyć *metody gradientu prostego (gradient descent)*, aby znaleźć najlepsze parametry dla w pełni połączonej warstwy (fully connected layer - FC), którą dodaliśmy, aby oddzielać zdjęcia maluchów od polonezów. Musimy podać dwa hipertermery: *tempo uczenia się (learning rate)* (zazwyczaj 1e-2 lub 1e-3 jest dobrym punktem wyjścia, później przyjrzymy się temu bliżej) i *liczbę epok* (możesz podać większą liczbę i po prostu przerwij trening, gdy zauważysz, że dokładność (accuracy) już się nie poprawia, a następnie uruchom ponownie trening z liczbą epok, którą ustaliłeś)."
      ]
    },
    {
      "metadata": {
        "id": "0lO6CCA3CzJe",
        "colab_type": "code",
        "colab": {
          "autoexec": {
            "startup": false,
            "wait_interval": 0
          }
        }
      },
      "cell_type": "code",
      "source": [
        "learn.fit(1e-2, 1)"
      ],
      "execution_count": 0,
      "outputs": []
    }
  ]
}