{
  "nbformat": 4,
  "nbformat_minor": 0,
  "metadata": {
    "colab": {
      "name": "Wykład2_FastAI_Google_Colab_Setup.ipynb",
      "version": "0.3.2",
      "views": {},
      "default_view": {},
      "provenance": [
        {
          "file_id": "1zOomPbd5XTdd8fUw36YP-KVN8hZ_oUoH",
          "timestamp": 1523609350741
        }
      ],
      "private_outputs": true,
      "collapsed_sections": [],
      "toc_visible": true
    },
    "kernelspec": {
      "name": "python3",
      "display_name": "Python 3"
    },
    "accelerator": "GPU"
  },
  "cells": [
    {
      "metadata": {
        "id": "ATbCCN2YOgn4",
        "colab_type": "text"
      },
      "cell_type": "markdown",
      "source": [
        "#Konfiguracja i integracja z Dyskiem Google"
      ]
    },
    {
      "metadata": {
        "id": "og-0W-o8-rQQ",
        "colab_type": "code",
        "colab": {
          "autoexec": {
            "startup": false,
            "wait_interval": 0
          }
        }
      },
      "cell_type": "code",
      "source": [
        "!apt-get install -y -qq software-properties-common python-software-properties module-init-tools\n",
        "!add-apt-repository -y ppa:alessandro-strada/ppa 2>&1 > /dev/null\n",
        "!apt-get update -qq 2>&1 > /dev/null\n",
        "!apt-get -y install -qq google-drive-ocamlfuse fuse\n",
        "from google.colab import auth\n",
        "auth.authenticate_user()\n",
        "from oauth2client.client import GoogleCredentials\n",
        "creds = GoogleCredentials.get_application_default()\n",
        "import getpass\n",
        "!google-drive-ocamlfuse -headless -id={creds.client_id} -secret={creds.client_secret} < /dev/null 2>&1 | grep URL\n",
        "vcode = getpass.getpass()\n",
        "!echo {vcode} | google-drive-ocamlfuse -headless -id={creds.client_id} -secret={creds.client_secret}\n",
        "\n",
        "!mkdir -p drive\n",
        "!google-drive-ocamlfuse drive -o nonempty"
      ],
      "execution_count": 0,
      "outputs": []
    },
    {
      "metadata": {
        "id": "sYy_AwMEOjZ2",
        "colab_type": "text"
      },
      "cell_type": "markdown",
      "source": [
        "## Konfiguracja Fast.AI"
      ]
    },
    {
      "metadata": {
        "id": "ZS4ewO3D-6fD",
        "colab_type": "code",
        "colab": {
          "autoexec": {
            "startup": false,
            "wait_interval": 0
          }
        }
      },
      "cell_type": "code",
      "source": [
        "!git clone https://github.com/fastai/fastai.git\n",
        "import os\n",
        "os.chdir(\"fastai\")\n",
        "!git pull"
      ],
      "execution_count": 0,
      "outputs": []
    },
    {
      "metadata": {
        "id": "HLpl6fVt_sRU",
        "colab_type": "code",
        "colab": {
          "autoexec": {
            "startup": false,
            "wait_interval": 0
          }
        }
      },
      "cell_type": "code",
      "source": [
        "os.chdir(\"..\")\n",
        "!pip install https://github.com/fastai/fastai/archive/master.zip"
      ],
      "execution_count": 0,
      "outputs": []
    },
    {
      "metadata": {
        "id": "BPAN13XjOlLd",
        "colab_type": "text"
      },
      "cell_type": "markdown",
      "source": [
        "## Konfiguracja PyTorch"
      ]
    },
    {
      "metadata": {
        "id": "zVAenoU1GnVS",
        "colab_type": "code",
        "colab": {
          "autoexec": {
            "startup": false,
            "wait_interval": 0
          }
        }
      },
      "cell_type": "code",
      "source": [
        "# http://pytorch.org/\n",
        "from os import path\n",
        "from wheel.pep425tags import get_abbr_impl, get_impl_ver, get_abi_tag\n",
        "platform = '{}{}-{}'.format(get_abbr_impl(), get_impl_ver(), get_abi_tag())\n",
        "\n",
        "accelerator = 'cu80' if path.exists('/opt/bin/nvidia-smi') else 'cpu'\n",
        "\n",
        "# !pip install -q http://download.pytorch.org/whl/{accelerator}/torch-0.3.0.post4-{platform}-linux_x86_64.whl torchvision\n",
        "!pip install -q http://download.pytorch.org/whl/{accelerator}/torch-0.4.0-{platform}-linux_x86_64.whl torchvision\n",
        "  \n",
        "import torch"
      ],
      "execution_count": 0,
      "outputs": []
    },
    {
      "metadata": {
        "id": "tj9c5c4ZOn8M",
        "colab_type": "text"
      },
      "cell_type": "markdown",
      "source": [
        "## ipywidgets fix"
      ]
    },
    {
      "metadata": {
        "id": "CTOIOhCJJn-k",
        "colab_type": "code",
        "colab": {
          "autoexec": {
            "startup": false,
            "wait_interval": 0
          }
        }
      },
      "cell_type": "code",
      "source": [
        "!pip install ipywidgets==6.0.0"
      ],
      "execution_count": 0,
      "outputs": []
    },
    {
      "metadata": {
        "id": "FJMfvpMGEg8z",
        "colab_type": "code",
        "colab": {
          "autoexec": {
            "startup": false,
            "wait_interval": 0
          }
        }
      },
      "cell_type": "code",
      "source": [
        "#Now go to your Google Drive and open the lesson1 notebook\n",
        "#Make sure you have runtime type for this as well as the notebook in google drive to GPU"
      ],
      "execution_count": 0,
      "outputs": []
    },
    {
      "metadata": {
        "id": "YMIR9I9w4XmJ",
        "colab_type": "text"
      },
      "cell_type": "markdown",
      "source": [
        "## Instalacja biblioteki PyDrive wrapper & import bibliotek"
      ]
    },
    {
      "metadata": {
        "id": "f1QfUX25K5hL",
        "colab_type": "code",
        "colab": {
          "autoexec": {
            "startup": false,
            "wait_interval": 0
          }
        }
      },
      "cell_type": "code",
      "source": [
        "# This only needs to be done once per notebook.\n",
        "!pip install -U -q PyDrive\n",
        "\n",
        "from pydrive.auth import GoogleAuth\n",
        "from pydrive.drive import GoogleDrive\n",
        "from google.colab import auth\n",
        "from oauth2client.client import GoogleCredentials\n",
        "\n",
        "# Authenticate and create the PyDrive client.\n",
        "# This only needs to be done once per notebook.\n",
        "auth.authenticate_user()\n",
        "gauth = GoogleAuth()\n",
        "gauth.credentials = GoogleCredentials.get_application_default()\n",
        "drive = GoogleDrive(gauth)\n",
        "\n",
        "from pathlib import Path\n",
        "import os\n",
        "\n",
        "def download_and_save(file_name, file_id):\n",
        "  downloaded = drive.CreateFile({'id': file_id})\n",
        "  # fetch file\n",
        "  downloaded.FetchContent()\n",
        "  # write file\n",
        "  with open(file_name,'wb') as f:\n",
        "       f.write(downloaded.content.read())\n",
        "      \n",
        "  print(f'Saved {file_name}')\n",
        "  \n",
        "FILE_NAME, FILE_ID = ['file_name', 'file_id']"
      ],
      "execution_count": 0,
      "outputs": []
    },
    {
      "metadata": {
        "id": "5ZXypyBX-JB-",
        "colab_type": "text"
      },
      "cell_type": "markdown",
      "source": [
        "# Pobranie danych"
      ]
    },
    {
      "metadata": {
        "id": "5TL75Rydtgp4",
        "colab_type": "code",
        "colab": {
          "autoexec": {
            "startup": false,
            "wait_interval": 0
          }
        }
      },
      "cell_type": "code",
      "source": [
        "from pathlib import Path\n",
        "\n",
        "dataset_path = Path('/content/data/old_polish_cars/'; dataset_path\n",
        "!mkdir -p $dataset_path\n",
        "ls -la $dataset_path/"
      ],
      "execution_count": 0,
      "outputs": []
    },
    {
      "metadata": {
        "id": "gVWb5xflsdAn",
        "colab_type": "text"
      },
      "cell_type": "markdown",
      "source": [
        "## Pobranie old_polish_cars_two_classes_v2a-split\n",
        "https://drive.google.com/file/d/1L0XBjL5fFE41OrrahDBWbDrICK2OpiMC/view?usp=sharing"
      ]
    },
    {
      "metadata": {
        "id": "c9LXc16Sss5h",
        "colab_type": "code",
        "colab": {
          "autoexec": {
            "startup": false,
            "wait_interval": 0
          }
        }
      },
      "cell_type": "code",
      "source": [
        "# old_polish_cars_two_classes_v2a-512-split.tgz, https://drive.google.com/open?id=1EZDytxee_Sn0ETt0PYg0ES_P9ZUf9nG8\n",
        "old_polish_cars = {FILE_NAME: 'old_polish_cars_two_classes_v2a-512-split.tgz', FILE_ID: '1EZDytxee_Sn0ETt0PYg0ES_P9ZUf9nG8'}\n",
        "old_polish_cars_path = dataset_path / old_polish_cars[FILE_NAME]\n",
        "\n",
        "download_and_save(old_polish_cars_path, old_polish_cars[FILE_ID])"
      ],
      "execution_count": 0,
      "outputs": []
    },
    {
      "metadata": {
        "id": "mdFB6mJawoce",
        "colab_type": "code",
        "colab": {
          "autoexec": {
            "startup": false,
            "wait_interval": 0
          }
        }
      },
      "cell_type": "code",
      "source": [
        "# unpack\n",
        "\n",
        "!tar -xf $old_polish_cars_path -C $dataset_path"
      ],
      "execution_count": 0,
      "outputs": []
    },
    {
      "metadata": {
        "id": "9A3hJEzvwxcO",
        "colab_type": "text"
      },
      "cell_type": "markdown",
      "source": [
        "## Pobranie przykładowego modelu dla prognozowania"
      ]
    },
    {
      "metadata": {
        "id": "BCGgQbrO-mZ5",
        "colab_type": "code",
        "colab": {
          "autoexec": {
            "startup": false,
            "wait_interval": 0
          }
        }
      },
      "cell_type": "code",
      "source": [
        "models_path = dataset_path / 'old_polish_cars_two_classes_v2a-512-split/models/'\n",
        "!mkdir -p $models_path"
      ],
      "execution_count": 0,
      "outputs": []
    },
    {
      "metadata": {
        "id": "Y-H9gi9qxkzb",
        "colab_type": "code",
        "colab": {
          "autoexec": {
            "startup": false,
            "wait_interval": 0
          }
        }
      },
      "cell_type": "code",
      "source": [
        "# 224_epoch9.h5, https://drive.google.com/open?id=1APQQCeDAqMCOpjoNgmWTnBJFykifCS6w\n",
        "m224_epoch9 = {FILE_NAME: '224_epoch9.h5', FILE_ID: '1APQQCeDAqMCOpjoNgmWTnBJFykifCS6w'}\n",
        "\n",
        "download_and_save(models_path / m224_epoch9[FILE_NAME], m224_epoch9[FILE_ID])"
      ],
      "execution_count": 0,
      "outputs": []
    },
    {
      "metadata": {
        "id": "HhGIlUmiw5LN",
        "colab_type": "text"
      },
      "cell_type": "markdown",
      "source": [
        "## Pobranie folderu test2 dla prognozowania"
      ]
    },
    {
      "metadata": {
        "id": "5Ao6h_LZxA-e",
        "colab_type": "code",
        "colab": {
          "autoexec": {
            "startup": false,
            "wait_interval": 0
          }
        }
      },
      "cell_type": "code",
      "source": [
        "# test2.zip, https://drive.google.com/file/d/1Ki7n3xQ1mNsh19hi9k7VS5LQkynMk24p\n",
        "test2 = {FILE_NAME: 'test2.zip', FILE_ID: '1Ki7n3xQ1mNsh19hi9k7VS5LQkynMk24p'}\n",
        "file_folder = dataset_path / 'old_polish_cars_two_classes_v2a-512-split/'\n",
        "\n",
        "download_and_save(file_folder / test2[FILE_NAME], test2[FILE_ID])"
      ],
      "execution_count": 0,
      "outputs": []
    },
    {
      "metadata": {
        "id": "PM9Kws1LxFUC",
        "colab_type": "code",
        "colab": {
          "autoexec": {
            "startup": false,
            "wait_interval": 0
          }
        }
      },
      "cell_type": "code",
      "source": [
        "!unzip -q -o $file_name -d $file_folder"
      ],
      "execution_count": 0,
      "outputs": []
    },
    {
      "metadata": {
        "id": "nCZbfBq96BBT",
        "colab_type": "text"
      },
      "cell_type": "markdown",
      "source": [
        "# Monitorowanie maszyny wirtualnej"
      ]
    },
    {
      "metadata": {
        "id": "oFQgJQf7Nzs0",
        "colab_type": "code",
        "colab": {
          "autoexec": {
            "startup": false,
            "wait_interval": 0
          }
        }
      },
      "cell_type": "code",
      "source": [
        "!pwd"
      ],
      "execution_count": 0,
      "outputs": []
    },
    {
      "metadata": {
        "id": "85zVajp3N27-",
        "colab_type": "code",
        "colab": {
          "autoexec": {
            "startup": false,
            "wait_interval": 0
          }
        }
      },
      "cell_type": "code",
      "source": [
        "!df -h"
      ],
      "execution_count": 0,
      "outputs": []
    },
    {
      "metadata": {
        "id": "Uh0F8bWKFY_n",
        "colab_type": "code",
        "colab": {
          "autoexec": {
            "startup": false,
            "wait_interval": 0
          }
        }
      },
      "cell_type": "code",
      "source": [
        "!ls -lah ~/data/old_polish_cars/old_polish_cars_two_classes_v2a-split/test2"
      ],
      "execution_count": 0,
      "outputs": []
    },
    {
      "metadata": {
        "id": "nm03bS_8H8S5",
        "colab_type": "code",
        "colab": {
          "autoexec": {
            "startup": false,
            "wait_interval": 0
          }
        }
      },
      "cell_type": "code",
      "source": [
        "who"
      ],
      "execution_count": 0,
      "outputs": []
    },
    {
      "metadata": {
        "id": "Q69oELsC5-go",
        "colab_type": "code",
        "colab": {
          "autoexec": {
            "startup": false,
            "wait_interval": 0
          }
        }
      },
      "cell_type": "code",
      "source": [
        "!uptime"
      ],
      "execution_count": 0,
      "outputs": []
    },
    {
      "metadata": {
        "id": "OOrHXXns6Yb9",
        "colab_type": "code",
        "colab": {
          "autoexec": {
            "startup": false,
            "wait_interval": 0
          }
        }
      },
      "cell_type": "code",
      "source": [
        "!/opt/bin/nvidia-smi"
      ],
      "execution_count": 0,
      "outputs": []
    },
    {
      "metadata": {
        "id": "UZmqalcuXsEg",
        "colab_type": "code",
        "colab": {
          "autoexec": {
            "startup": false,
            "wait_interval": 0
          }
        }
      },
      "cell_type": "code",
      "source": [
        "!top -n 1"
      ],
      "execution_count": 0,
      "outputs": []
    },
    {
      "metadata": {
        "id": "VaLG8jhT6U3Y",
        "colab_type": "code",
        "colab": {
          "autoexec": {
            "startup": false,
            "wait_interval": 0
          }
        }
      },
      "cell_type": "code",
      "source": [
        "import os\n",
        "import psutil\n",
        "\n",
        "def print_memsize():\n",
        "  process = psutil.Process(os.getpid())\n",
        "  print(f'{process.memory_info().rss / 1024**3:.5} GB')"
      ],
      "execution_count": 0,
      "outputs": []
    },
    {
      "metadata": {
        "id": "D-UWeMDf7m3-",
        "colab_type": "code",
        "colab": {
          "autoexec": {
            "startup": false,
            "wait_interval": 0
          }
        }
      },
      "cell_type": "code",
      "source": [
        "print_memsize()"
      ],
      "execution_count": 0,
      "outputs": []
    },
    {
      "metadata": {
        "id": "gh-u6RD6F3sH",
        "colab_type": "code",
        "colab": {
          "autoexec": {
            "startup": false,
            "wait_interval": 0
          }
        }
      },
      "cell_type": "code",
      "source": [
        "!ps ax|grep python"
      ],
      "execution_count": 0,
      "outputs": []
    }
  ]
}