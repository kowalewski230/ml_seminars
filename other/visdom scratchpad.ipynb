{
 "cells": [
  {
   "cell_type": "code",
   "execution_count": 1,
   "metadata": {},
   "outputs": [],
   "source": [
    "import visdom"
   ]
  },
  {
   "cell_type": "code",
   "execution_count": 4,
   "metadata": {},
   "outputs": [
    {
     "data": {
      "text/plain": [
       "'/Users/wcz/anaconda3/envs/fastai-cpu/lib/python3.6/site-packages/visdom/__init__.py'"
      ]
     },
     "execution_count": 4,
     "metadata": {},
     "output_type": "execute_result"
    }
   ],
   "source": [
    "visdom.__file__"
   ]
  },
  {
   "cell_type": "code",
   "execution_count": 6,
   "metadata": {},
   "outputs": [
    {
     "data": {
      "text/plain": [
       "'pane_362f2f67cb42fc'"
      ]
     },
     "execution_count": 6,
     "metadata": {},
     "output_type": "execute_result"
    }
   ],
   "source": [
    "import visdom\n",
    "import numpy as np\n",
    "vis = visdom.Visdom()\n",
    "vis.text('Hello, world!')\n",
    "vis.image(np.ones((3, 10, 10)))"
   ]
  },
  {
   "cell_type": "code",
   "execution_count": 7,
   "metadata": {},
   "outputs": [
    {
     "ename": "SyntaxError",
     "evalue": "invalid syntax (<ipython-input-7-147f388b505c>, line 1)",
     "output_type": "error",
     "traceback": [
      "\u001b[0;36m  File \u001b[0;32m\"<ipython-input-7-147f388b505c>\"\u001b[0;36m, line \u001b[0;32m1\u001b[0m\n\u001b[0;31m    require 'image'\u001b[0m\n\u001b[0m                  ^\u001b[0m\n\u001b[0;31mSyntaxError\u001b[0m\u001b[0;31m:\u001b[0m invalid syntax\n"
     ]
    }
   ],
   "source": [
    "require 'image'\n",
    "vis = require 'visdom'()\n",
    "vis:text{text = 'Hello, world!'}\n",
    "vis:image{img = image.fabio()}"
   ]
  },
  {
   "cell_type": "code",
   "execution_count": 10,
   "metadata": {},
   "outputs": [
    {
     "name": "stderr",
     "output_type": "stream",
     "text": [
      "100%|██████████| 100/100 [00:00<00:00, 135.20it/s]\n"
     ]
    }
   ],
   "source": [
    "import visdom\n",
    "import numpy as np\n",
    "import time\n",
    "import math\n",
    "from tqdm import tqdm\n",
    "\n",
    "vis_env='main'\n",
    "\n",
    "# vis = visdom.Visdom(env=vis_env, server='http://localhost', port=8890)\n",
    "vis = visdom.Visdom(env=vis_env, server='http://localhost', port=8097)\n",
    "# vis = visdom.Visdom(env=vis_env, server='http://bekaes.beanflows.com', port=8097)\n",
    "# vis.image(np.ones((3, 10, 10)))\n",
    "\n",
    "def custom_plot():\n",
    "    wnd = vis.text('Hello, world!', env='main')\n",
    "    trace = dict(x=[1, 2, 3], y=[4, 5, 6], mode=\"markers+lines\", type='custom',\n",
    "                 marker={'color': 'red', 'symbol': 104, 'size': \"3\"},\n",
    "                 text=[\"one\", \"two\", \"three\"], name='1st Trace', env='main')\n",
    "    layout = dict(title=\"First Plot\", xaxis={'title': 'x1'}, yaxis={'title': 'x2'})\n",
    "\n",
    "    # vis._send({'data': [trace], 'layout': layout, 'win': 'mywin'})\n",
    "\n",
    "    x = []\n",
    "    y = []\n",
    "\n",
    "    for i in range(200):\n",
    "        time.sleep(0.1)\n",
    "        xi = i*1.0/50\n",
    "        yi = math.sin(xi)\n",
    "        x.append(xi)\n",
    "        y.append(yi)\n",
    "        trace['x'] = x\n",
    "        trace['y'] = y\n",
    "        vis._send({'data': [trace], 'layout': layout, 'win': 'mywin'})\n",
    "        text = f'Hello, world! ({xi}, {yi:0.3})'\n",
    "        vis.text(text, wnd, env='main')\n",
    "\n",
    "# custom_plot()\n",
    "# x=[1, 2, 3]\n",
    "# y=[4, 5, 6]\n",
    "\n",
    "# vis.updateTrace\n",
    "x = [0]\n",
    "y = [0]\n",
    "name = 'loss'\n",
    "vis.line(Y=np.array([y[0]]), X=np.array([x[0]]),\n",
    "                      win=name,\n",
    "                      opts=dict(title=name),\n",
    "                      update=None if x == [0] else 'append'\n",
    "                      )\n",
    "\n",
    "n_iter = 100\n",
    "\n",
    "pbar = tqdm(total=n_iter)\n",
    "for i in range(n_iter):\n",
    "    pbar.update(1)\n",
    "    # time.sleep(0.1)\n",
    "    xi = i * 1.0 / 50\n",
    "    yi = math.sin(xi)\n",
    "    x.append(xi)\n",
    "    y.append(yi)\n",
    "    text = f' &nbsp;Hello, world!<br/>&nbsp;<strong>({xi},{yi:0.2})</strong><br/>&nbsp; <font color=\"red\">{pbar}</font>'\n",
    "    vis.text(text, win='text_log', opts=dict(title='text'), env=vis_env) #, append=False)\n",
    "\n",
    "    vis.line(Y=np.array([yi]), X=np.array([xi]),\n",
    "                          win=name,\n",
    "                          opts=dict(title=name),\n",
    "                          update=None if x == 0 else 'append'\n",
    "                          )\n",
    "pbar.close()\n"
   ]
  },
  {
   "cell_type": "code",
   "execution_count": null,
   "metadata": {},
   "outputs": [],
   "source": []
  }
 ],
 "metadata": {
  "kernelspec": {
   "display_name": "Python 3",
   "language": "python",
   "name": "python3"
  },
  "language_info": {
   "codemirror_mode": {
    "name": "ipython",
    "version": 3
   },
   "file_extension": ".py",
   "mimetype": "text/x-python",
   "name": "python",
   "nbconvert_exporter": "python",
   "pygments_lexer": "ipython3",
   "version": "3.6.5"
  }
 },
 "nbformat": 4,
 "nbformat_minor": 2
}
