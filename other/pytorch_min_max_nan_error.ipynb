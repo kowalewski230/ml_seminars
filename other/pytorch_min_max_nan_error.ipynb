{
  "nbformat": 4,
  "nbformat_minor": 0,
  "metadata": {
    "colab": {
      "name": "pytorch min max nan error.ipynb",
      "version": "0.3.2",
      "views": {},
      "default_view": {},
      "provenance": [],
      "collapsed_sections": [],
      "toc_visible": true
    },
    "kernelspec": {
      "name": "python3",
      "display_name": "Python 3"
    },
    "accelerator": "GPU"
  },
  "cells": [
    {
      "metadata": {
        "id": "6WUax35jESoS",
        "colab_type": "code",
        "colab": {
          "autoexec": {
            "startup": false,
            "wait_interval": 0
          },
          "base_uri": "https://localhost:8080/",
          "height": 94
        },
        "outputId": "3af85a26-efbb-471d-cd60-f21d28145237",
        "executionInfo": {
          "status": "ok",
          "timestamp": 1526735574612,
          "user_tz": -120,
          "elapsed": 28923,
          "user": {
            "displayName": "Wojciech Czarnowski",
            "photoUrl": "https://lh3.googleusercontent.com/a/default-user=s128",
            "userId": "105015059258053548919"
          }
        }
      },
      "cell_type": "code",
      "source": [
        "# http://pytorch.org/\n",
        "from os import path\n",
        "from wheel.pep425tags import get_abbr_impl, get_impl_ver, get_abi_tag\n",
        "platform = '{}{}-{}'.format(get_abbr_impl(), get_impl_ver(), get_abi_tag())\n",
        "\n",
        "accelerator = 'cu80' if path.exists('/opt/bin/nvidia-smi') else 'cpu'\n",
        "\n",
        "# !pip install -q http://download.pytorch.org/whl/{accelerator}/torch-0.3.0.post4-{platform}-linux_x86_64.whl torchvision\n",
        "# !pip install -q http://download.pytorch.org/whl/cu80/torch-0.3.1-{platform}-linux_x86_64.whl\n",
        "!pip install -q http://download.pytorch.org/whl/{accelerator}/torch-0.4.0-{platform}-linux_x86_64.whl torchvision\n",
        "\n",
        "import torch"
      ],
      "execution_count": 13,
      "outputs": [
        {
          "output_type": "stream",
          "text": [
            "tcmalloc: large alloc 1073750016 bytes == 0x5b274000 @  0x7f0fb89d51c4 0x46d6a4 0x5fcbcc 0x4c494d 0x54f3c4 0x553aaf 0x54e4c8 0x54f4f6 0x553aaf 0x54efc1 0x54f24d 0x553aaf 0x54efc1 0x54f24d 0x553aaf 0x54efc1 0x54f24d 0x551ee0 0x54e4c8 0x54f4f6 0x553aaf 0x54efc1 0x54f24d 0x551ee0 0x54efc1 0x54f24d 0x551ee0 0x54e4c8 0x54f4f6 0x553aaf 0x54e4c8\r\n"
          ],
          "name": "stdout"
        }
      ]
    },
    {
      "metadata": {
        "id": "4e9R2O86GbJ-",
        "colab_type": "code",
        "colab": {
          "autoexec": {
            "startup": false,
            "wait_interval": 0
          }
        }
      },
      "cell_type": "code",
      "source": [
        "# install pytorch-nightly is possible only through conda\n",
        "# conda install pytorch-nightly -c pytorch"
      ],
      "execution_count": 0,
      "outputs": []
    },
    {
      "metadata": {
        "id": "2jvoeXi4ExG1",
        "colab_type": "code",
        "colab": {
          "autoexec": {
            "startup": false,
            "wait_interval": 0
          },
          "base_uri": "https://localhost:8080/",
          "height": 34
        },
        "outputId": "d4d4f026-f9ae-402a-aca3-8f92dc0aca0b",
        "executionInfo": {
          "status": "ok",
          "timestamp": 1526735779389,
          "user_tz": -120,
          "elapsed": 1349,
          "user": {
            "displayName": "Wojciech Czarnowski",
            "photoUrl": "https://lh3.googleusercontent.com/a/default-user=s128",
            "userId": "105015059258053548919"
          }
        }
      },
      "cell_type": "code",
      "source": [
        "torch.__version__"
      ],
      "execution_count": 14,
      "outputs": [
        {
          "output_type": "execute_result",
          "data": {
            "text/plain": [
              "'0.4.0'"
            ]
          },
          "metadata": {
            "tags": []
          },
          "execution_count": 14
        }
      ]
    },
    {
      "metadata": {
        "id": "BZEfPokAEf2R",
        "colab_type": "code",
        "colab": {
          "autoexec": {
            "startup": false,
            "wait_interval": 0
          },
          "base_uri": "https://localhost:8080/",
          "height": 136
        },
        "outputId": "c6abccbc-e6bc-4958-82a1-55541da58474",
        "executionInfo": {
          "status": "ok",
          "timestamp": 1526735765873,
          "user_tz": -120,
          "elapsed": 911,
          "user": {
            "displayName": "Wojciech Czarnowski",
            "photoUrl": "https://lh3.googleusercontent.com/a/default-user=s128",
            "userId": "105015059258053548919"
          }
        }
      },
      "cell_type": "code",
      "source": [
        "import torch\n",
        "print(torch.__version__)\n",
        "a = torch.Tensor(4, 3).fill_(1)\n",
        "a = a.cuda()\n",
        "a[1, 2] = float('nan')\n",
        "a\n",
        "print(torch.max(a))\n",
        "print(torch.min(a))\n",
        "a = torch.Tensor(4, 3).fill_(float('nan'))\n",
        "a = torch.Tensor(4, 3).fill_(float('Inf'))\n",
        "print(torch.max(a))\n",
        "print(torch.min(a))\n",
        "a = a.cuda()\n",
        "https://discuss.pytorch.org/t/how-to-set-inf-in-tensor-variable-to-0/10235\n",
        "a[a == float(\"Inf\")] = 0\n",
        "a[a == float(\"nan\")] = 0\n",
        "print(torch.max(a))\n",
        "print(torch.min(a))"
      ],
      "execution_count": 13,
      "outputs": [
        {
          "output_type": "stream",
          "text": [
            "0.4.0\n",
            "tensor(1., device='cuda:0')\n",
            "tensor(1., device='cuda:0')\n",
            "tensor(inf.)\n",
            "tensor(inf.)\n",
            "tensor(0., device='cuda:0')\n",
            "tensor(0., device='cuda:0')\n"
          ],
          "name": "stdout"
        }
      ]
    },
    {
      "metadata": {
        "id": "pVf8nHGtE2oO",
        "colab_type": "code",
        "colab": {
          "autoexec": {
            "startup": false,
            "wait_interval": 0
          },
          "base_uri": "https://localhost:8080/",
          "height": 34
        },
        "outputId": "cdd88877-6f9e-4495-cf20-e9a577b69d5c",
        "executionInfo": {
          "status": "ok",
          "timestamp": 1526731869536,
          "user_tz": -120,
          "elapsed": 3291,
          "user": {
            "displayName": "Wojciech Czarnowski",
            "photoUrl": "https://lh3.googleusercontent.com/a/default-user=s128",
            "userId": "105015059258053548919"
          }
        }
      },
      "cell_type": "code",
      "source": [
        "!uptime"
      ],
      "execution_count": 4,
      "outputs": [
        {
          "output_type": "stream",
          "text": [
            " 12:11:07 up  1:10,  0 users,  load average: 0.32, 0.27, 0.15\r\n"
          ],
          "name": "stdout"
        }
      ]
    },
    {
      "metadata": {
        "id": "gRqFvcHWE7Bu",
        "colab_type": "code",
        "colab": {
          "autoexec": {
            "startup": false,
            "wait_interval": 0
          },
          "base_uri": "https://localhost:8080/",
          "height": 119
        },
        "outputId": "30f8460e-ab7b-46a6-943e-c35ba6dbcb34",
        "executionInfo": {
          "status": "ok",
          "timestamp": 1526735091120,
          "user_tz": -120,
          "elapsed": 670,
          "user": {
            "displayName": "Wojciech Czarnowski",
            "photoUrl": "https://lh3.googleusercontent.com/a/default-user=s128",
            "userId": "105015059258053548919"
          }
        }
      },
      "cell_type": "code",
      "source": [
        "# https://discuss.pytorch.org/t/how-to-set-inf-in-tensor-variable-to-0/10235/2\n",
        "x = torch.Tensor([1, float(\"Inf\"), 2, float(\"Inf\")])\n",
        "x"
      ],
      "execution_count": 7,
      "outputs": [
        {
          "output_type": "execute_result",
          "data": {
            "text/plain": [
              "\n",
              "  1\n",
              "inf\n",
              "  2\n",
              "inf\n",
              "[torch.FloatTensor of size 4]"
            ]
          },
          "metadata": {
            "tags": []
          },
          "execution_count": 7
        }
      ]
    },
    {
      "metadata": {
        "id": "N4Ib-YaBgG7a",
        "colab_type": "code",
        "colab": {
          "autoexec": {
            "startup": false,
            "wait_interval": 0
          },
          "base_uri": "https://localhost:8080/",
          "height": 119
        },
        "outputId": "86c6a94f-24d6-4c7f-8acc-e7c0f2ae48e9",
        "executionInfo": {
          "status": "ok",
          "timestamp": 1526735092739,
          "user_tz": -120,
          "elapsed": 630,
          "user": {
            "displayName": "Wojciech Czarnowski",
            "photoUrl": "https://lh3.googleusercontent.com/a/default-user=s128",
            "userId": "105015059258053548919"
          }
        }
      },
      "cell_type": "code",
      "source": [
        "x[x == float(\"Inf\")] = 0\n",
        "x  # should be 1, 0, 2, 0 now"
      ],
      "execution_count": 8,
      "outputs": [
        {
          "output_type": "execute_result",
          "data": {
            "text/plain": [
              "\n",
              " 1\n",
              " 0\n",
              " 2\n",
              " 0\n",
              "[torch.FloatTensor of size 4]"
            ]
          },
          "metadata": {
            "tags": []
          },
          "execution_count": 8
        }
      ]
    },
    {
      "metadata": {
        "id": "zgbxICOugLk_",
        "colab_type": "code",
        "colab": {
          "autoexec": {
            "startup": false,
            "wait_interval": 0
          }
        }
      },
      "cell_type": "code",
      "source": [
        ""
      ],
      "execution_count": 0,
      "outputs": []
    }
  ]
}