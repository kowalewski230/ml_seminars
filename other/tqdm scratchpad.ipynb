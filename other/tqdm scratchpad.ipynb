{
  "nbformat": 4,
  "nbformat_minor": 0,
  "metadata": {
    "colab": {
      "name": "tqdm scratchpad.ipynb",
      "version": "0.3.2",
      "views": {},
      "default_view": {},
      "provenance": []
    },
    "kernelspec": {
      "display_name": "Python 3",
      "language": "python",
      "name": "python3"
    },
    "accelerator": "GPU"
  },
  "cells": [
    {
      "metadata": {
        "id": "0kxIha4BsFAh",
        "colab_type": "code",
        "colab": {
          "autoexec": {
            "startup": false,
            "wait_interval": 0
          },
          "base_uri": "https://localhost:8080/",
          "height": 272
        },
        "outputId": "3cc25687-9a4c-4648-a728-1e8fb48f96c4",
        "executionInfo": {
          "status": "ok",
          "timestamp": 1529305180200,
          "user_tz": -120,
          "elapsed": 2165,
          "user": {
            "displayName": "Wojtek Czarnowski",
            "photoUrl": "//lh6.googleusercontent.com/-Sx8k456RbyI/AAAAAAAAAAI/AAAAAAAAEig/wmURGqbv_J8/s50-c-k-no/photo.jpg",
            "userId": "115130698336476923651"
          }
        }
      },
      "cell_type": "code",
      "source": [
        "\"\"\"Redirecting writing\n",
        "\n",
        "If using a library that can print messages to the console, editing the library\n",
        "by  replacing `print()` with `tqdm.write()` may not be desirable.\n",
        "In that case, redirecting `sys.stdout` to `tqdm.write()` is an option.\n",
        "\n",
        "To redirect `sys.stdout`, create a file-like class that will write\n",
        "any input string to `tqdm.write()`, and supply the arguments\n",
        "`file=sys.stdout, dynamic_ncols=True`.\n",
        "\n",
        "A reusable canonical example is given below:\n",
        "\"\"\"\n",
        "from __future__ import print_function\n",
        "from time import sleep\n",
        "import contextlib\n",
        "import sys\n",
        "from tqdm import tqdm\n",
        "\n",
        "\n",
        "class DummyTqdmFile(object):\n",
        "    \"\"\"Dummy file-like that will write to tqdm\"\"\"\n",
        "    file = None\n",
        "\n",
        "    def __init__(self, file):\n",
        "        self.file = file\n",
        "\n",
        "    def write(self, x):\n",
        "        # Avoid print() second call (useless \\n)\n",
        "        if len(x.rstrip()) > 0:\n",
        "            tqdm.write(x, file=self.file)\n",
        "\n",
        "    def flush(self):\n",
        "        return getattr(self.file, \"flush\", lambda: None)()\n",
        "\n",
        "\n",
        "@contextlib.contextmanager\n",
        "def std_out_err_redirect_tqdm():\n",
        "    orig_out_err = sys.stdout, sys.stderr\n",
        "    try:\n",
        "        # sys.stdout = sys.stderr = DummyTqdmFile(orig_out_err[0])\n",
        "        sys.stdout, sys.stderr = map(DummyTqdmFile, orig_out_err)\n",
        "        yield orig_out_err[0]\n",
        "    # Relay exceptions\n",
        "    except Exception as exc:\n",
        "        raise exc\n",
        "    # Always restore sys.stdout/err if necessary\n",
        "    finally:\n",
        "        sys.stdout, sys.stderr = orig_out_err\n",
        "\n",
        "\n",
        "def some_fun(i):\n",
        "    print(\"Fee, fi, fo,\".split()[i])\n",
        "\n",
        "\n",
        "# Redirect stdout to tqdm.write()\n",
        "with std_out_err_redirect_tqdm() as orig_stdout:\n",
        "    # tqdm needs the original stdout\n",
        "    # and dynamic_ncols=True to autodetect console width\n",
        "    for i in tqdm(range(3), file=orig_stdout, dynamic_ncols=True):\n",
        "        # order of the following two lines should not matter\n",
        "        some_fun(i)\n",
        "        sleep(.5)\n",
        "\n",
        "# After the `with`, printing is restored\n",
        "print(\"Done!\")"
      ],
      "execution_count": 4,
      "outputs": [
        {
          "output_type": "stream",
          "text": [
            "\n",
            "  0%|          | 0/3 [00:00<?, ?it/s]\u001b[A\n",
            "\u001b[AFee,\n",
            "\n",
            "  0%|          | 0/3 [00:00<?, ?it/s]\u001b[A\n",
            " 33%|███▎      | 1/3 [00:00<00:01,  1.93it/s]\u001b[A\n",
            "\u001b[Afi,\n",
            "\n",
            " 33%|███▎      | 1/3 [00:00<00:01,  1.88it/s]\u001b[A\n",
            " 67%|██████▋   | 2/3 [00:01<00:00,  1.92it/s]\u001b[A\n",
            "\u001b[Afo,\n",
            "\n",
            " 67%|██████▋   | 2/3 [00:01<00:00,  1.89it/s]\u001b[A\n",
            "100%|██████████| 3/3 [00:01<00:00,  1.92it/s]\u001b[A\n",
            "\u001b[ADone!\n"
          ],
          "name": "stdout"
        }
      ]
    },
    {
      "metadata": {
        "id": "VgdyNJbdsFAn",
        "colab_type": "code",
        "colab": {
          "autoexec": {
            "startup": false,
            "wait_interval": 0
          },
          "base_uri": "https://localhost:8080/",
          "height": 2646
        },
        "outputId": "bc50e831-1feb-4489-fa08-66727338dfda",
        "executionInfo": {
          "status": "error",
          "timestamp": 1529305200720,
          "user_tz": -120,
          "elapsed": 14177,
          "user": {
            "displayName": "Wojtek Czarnowski",
            "photoUrl": "//lh6.googleusercontent.com/-Sx8k456RbyI/AAAAAAAAAAI/AAAAAAAAEig/wmURGqbv_J8/s50-c-k-no/photo.jpg",
            "userId": "115130698336476923651"
          }
        }
      },
      "cell_type": "code",
      "source": [
        "\"\"\"\n",
        "# Simple tqdm examples and profiling\n",
        "\n",
        "# Benchmark\n",
        "for i in _range(int(1e8)):\n",
        "    pass\n",
        "\n",
        "# Basic demo\n",
        "import tqdm\n",
        "for i in tqdm.trange(int(1e8)):\n",
        "    pass\n",
        "\n",
        "# Some decorations\n",
        "import tqdm\n",
        "for i in tqdm.trange(int(1e8), miniters=int(1e6), ascii=True,\n",
        "                     desc=\"cool\", dynamic_ncols=True):\n",
        "    pass\n",
        "\n",
        "# Nested bars\n",
        "from tqdm import trange\n",
        "for i in trange(10):\n",
        "    for j in trange(int(1e7), leave=False, unit_scale=True):\n",
        "        pass\n",
        "\n",
        "# Experimental GUI demo\n",
        "import tqdm\n",
        "for i in tqdm.tgrange(int(1e8)):\n",
        "    pass\n",
        "\n",
        "# Comparison to https://code.google.com/p/python-progressbar/\n",
        "try:\n",
        "    from progressbar.progressbar import ProgressBar\n",
        "except ImportError:\n",
        "    pass\n",
        "else:\n",
        "    for i in ProgressBar()(_range(int(1e8))):\n",
        "        pass\n",
        "\n",
        "# Dynamic miniters benchmark\n",
        "from tqdm import trange\n",
        "for i in trange(int(1e8), miniters=None, mininterval=0.1, smoothing=0):\n",
        "    pass\n",
        "\n",
        "# Fixed miniters benchmark\n",
        "from tqdm import trange\n",
        "for i in trange(int(1e8), miniters=4500000, mininterval=0.1, smoothing=0):\n",
        "    pass\n",
        "\"\"\"\n",
        "\n",
        "from time import sleep\n",
        "from timeit import timeit\n",
        "import re\n",
        "\n",
        "# Simple demo\n",
        "from tqdm import trange\n",
        "for i in trange(16, leave=True):\n",
        "    sleep(0.1)\n",
        "\n",
        "# Profiling/overhead tests\n",
        "stmts = filter(None, re.split(r'\\n\\s*#.*?\\n', __doc__))\n",
        "for s in stmts:\n",
        "    print(s.replace('import tqdm\\n', ''))\n",
        "    print(timeit(stmt='try:\\n\\t_range = xrange'\n",
        "                 '\\nexcept:\\n\\t_range = range\\n' + s, number=1), 'seconds')"
      ],
      "execution_count": 5,
      "outputs": [
        {
          "output_type": "stream",
          "text": [
            "\n",
            "  0%|          | 0/16 [00:00<?, ?it/s]\u001b[A\n",
            "  6%|▋         | 1/16 [00:00<00:01,  9.85it/s]\u001b[A\n",
            " 12%|█▎        | 2/16 [00:00<00:01,  9.78it/s]\u001b[A\n",
            " 19%|█▉        | 3/16 [00:00<00:01,  9.77it/s]\u001b[A\n",
            " 25%|██▌       | 4/16 [00:00<00:01,  9.74it/s]\u001b[A\n",
            " 31%|███▏      | 5/16 [00:00<00:01,  9.68it/s]\u001b[A\n",
            " 38%|███▊      | 6/16 [00:00<00:01,  9.68it/s]\u001b[A\n",
            " 44%|████▍     | 7/16 [00:00<00:00,  9.62it/s]\u001b[A\n",
            " 50%|█████     | 8/16 [00:00<00:00,  9.63it/s]\u001b[A\n",
            " 56%|█████▋    | 9/16 [00:00<00:00,  9.63it/s]\u001b[A\n",
            " 62%|██████▎   | 10/16 [00:01<00:00,  9.64it/s]\u001b[A\n",
            " 69%|██████▉   | 11/16 [00:01<00:00,  9.64it/s]\u001b[A\n",
            " 75%|███████▌  | 12/16 [00:01<00:00,  9.63it/s]\u001b[A\n",
            " 81%|████████▏ | 13/16 [00:01<00:00,  9.61it/s]\u001b[A\n",
            " 88%|████████▊ | 14/16 [00:01<00:00,  9.59it/s]\u001b[A\n",
            " 94%|█████████▍| 15/16 [00:01<00:00,  9.57it/s]\u001b[A\n",
            "100%|██████████| 16/16 [00:01<00:00,  9.58it/s]\u001b[A\n",
            "\u001b[A"
          ],
          "name": "stderr"
        },
        {
          "output_type": "stream",
          "text": [
            "for i in _range(int(1e8)):\n",
            "    pass\n"
          ],
          "name": "stdout"
        },
        {
          "output_type": "stream",
          "text": [
            "cool:  48%|####8     | 48000000/100000000 [00:30<00:32, 1597459.64it/s]\n",
            "  0%|          | 0/100000000 [00:00<?, ?it/s]\u001b[A\n",
            "  0%|          | 284344/100000000 [00:00<00:35, 2814282.02it/s]\u001b[A"
          ],
          "name": "stderr"
        },
        {
          "output_type": "stream",
          "text": [
            "2.137384172999191 seconds\n",
            "for i in tqdm.trange(int(1e8)):\n",
            "    pass\n"
          ],
          "name": "stdout"
        },
        {
          "output_type": "stream",
          "text": [
            "\n",
            "  1%|          | 546495/100000000 [00:00<00:36, 2719235.73it/s]\u001b[A\n",
            "  1%|          | 831578/100000000 [00:00<00:35, 2757635.86it/s]\u001b[A\n",
            "  1%|          | 1142703/100000000 [00:00<00:34, 2843811.77it/s]\u001b[A\n",
            "  1%|▏         | 1439663/100000000 [00:00<00:34, 2870328.30it/s]\u001b[A\n",
            "  2%|▏         | 1774617/100000000 [00:00<00:33, 2950945.98it/s]\u001b[A\n",
            "  2%|▏         | 2101431/100000000 [00:00<00:32, 2994391.89it/s]\u001b[A\n",
            "  2%|▏         | 2448560/100000000 [00:00<00:31, 3055096.12it/s]\u001b[A\n",
            "  3%|▎         | 2806778/100000000 [00:00<00:31, 3100791.42it/s]\u001b[A\n",
            "  3%|▎         | 3146161/100000000 [00:01<00:30, 3140829.32it/s]\u001b[A\n",
            "  4%|▎         | 3511439/100000000 [00:01<00:30, 3188502.94it/s]\u001b[A\n",
            "  4%|▍         | 3855987/100000000 [00:01<00:29, 3207993.31it/s]\u001b[A\n",
            "  4%|▍         | 4208002/100000000 [00:01<00:29, 3233572.91it/s]\u001b[A\n",
            "  5%|▍         | 4561407/100000000 [00:01<00:29, 3254102.19it/s]\u001b[A\n",
            "  5%|▍         | 4924363/100000000 [00:01<00:28, 3278962.83it/s]\u001b[A\n",
            "  5%|▌         | 5277809/100000000 [00:01<00:28, 3294866.04it/s]\u001b[A\n",
            "  6%|▌         | 5648516/100000000 [00:01<00:28, 3319755.79it/s]\u001b[A\n",
            "  6%|▌         | 6006197/100000000 [00:01<00:28, 3327368.47it/s]\u001b[A\n",
            "  6%|▋         | 6387214/100000000 [00:01<00:27, 3354705.16it/s]\u001b[A\n",
            "  7%|▋         | 6750050/100000000 [00:02<00:27, 3339843.33it/s]\u001b[A\n",
            "  7%|▋         | 7104266/100000000 [00:02<00:27, 3349288.55it/s]\u001b[A\n",
            "  7%|▋         | 7465457/100000000 [00:02<00:27, 3360242.49it/s]\u001b[A\n",
            "  8%|▊         | 7842598/100000000 [00:02<00:27, 3378623.74it/s]\u001b[A\n",
            "  8%|▊         | 8202579/100000000 [00:02<00:27, 3385723.10it/s]\u001b[A\n",
            "  9%|▊         | 8580809/100000000 [00:02<00:26, 3401864.12it/s]\u001b[A\n",
            "  9%|▉         | 8945479/100000000 [00:02<00:26, 3407585.18it/s]\u001b[A\n",
            "  9%|▉         | 9322666/100000000 [00:02<00:26, 3421031.45it/s]\u001b[A\n",
            " 10%|▉         | 9689116/100000000 [00:02<00:26, 3426766.63it/s]\u001b[A\n",
            " 10%|█         | 10057685/100000000 [00:02<00:26, 3435901.78it/s]\u001b[A\n",
            " 10%|█         | 10428937/100000000 [00:03<00:25, 3445421.61it/s]\u001b[A\n",
            " 11%|█         | 10797669/100000000 [00:03<00:25, 3452987.42it/s]\u001b[A\n",
            " 11%|█         | 11169199/100000000 [00:03<00:25, 3461244.45it/s]\u001b[A"
          ],
          "name": "stderr"
        },
        {
          "output_type": "stream",
          "text": [
            "\n",
            " 12%|█▏        | 11540046/100000000 [00:03<00:25, 3468505.57it/s]\u001b[A\n",
            " 12%|█▏        | 11918025/100000000 [00:03<00:25, 3473018.35it/s]\u001b[A\n",
            " 12%|█▏        | 12290028/100000000 [00:03<00:25, 3478361.01it/s]\u001b[A\n",
            " 13%|█▎        | 12671870/100000000 [00:03<00:25, 3489700.56it/s]\u001b[A\n",
            " 13%|█▎        | 13043786/100000000 [00:03<00:24, 3494512.39it/s]\u001b[A\n",
            " 13%|█▎        | 13429530/100000000 [00:03<00:24, 3503901.86it/s]\u001b[A\n",
            " 14%|█▍        | 13804914/100000000 [00:03<00:24, 3510186.83it/s]\u001b[A\n",
            " 14%|█▍        | 14182331/100000000 [00:04<00:24, 3516777.49it/s]\u001b[A\n",
            " 15%|█▍        | 14558090/100000000 [00:04<00:24, 3521282.23it/s]\u001b[A\n",
            " 15%|█▍        | 14936306/100000000 [00:04<00:24, 3527287.24it/s]\u001b[A\n",
            " 15%|█▌        | 15311551/100000000 [00:04<00:23, 3529753.35it/s]\u001b[A\n",
            " 16%|█▌        | 15697095/100000000 [00:04<00:23, 3537188.61it/s]\u001b[A\n",
            " 16%|█▌        | 16072806/100000000 [00:04<00:23, 3538181.65it/s]\u001b[A\n",
            " 16%|█▋        | 16455791/100000000 [00:04<00:23, 3544617.87it/s]\u001b[A\n",
            " 17%|█▋        | 16830005/100000000 [00:04<00:23, 3546875.32it/s]\u001b[A\n",
            " 17%|█▋        | 17202014/100000000 [00:04<00:23, 3550484.91it/s]\u001b[A\n",
            " 18%|█▊        | 17573953/100000000 [00:04<00:23, 3553050.81it/s]\u001b[A\n",
            " 18%|█▊        | 17944723/100000000 [00:05<00:23, 3548161.30it/s]\u001b[A\n",
            " 18%|█▊        | 18303678/100000000 [00:05<00:23, 3543000.94it/s]\u001b[A\n",
            " 19%|█▊        | 18676340/100000000 [00:05<00:22, 3546617.68it/s]\u001b[A\n",
            " 19%|█▉        | 19033452/100000000 [00:05<00:22, 3545682.34it/s]\u001b[A\n",
            " 19%|█▉        | 19396594/100000000 [00:05<00:22, 3547317.96it/s]\u001b[A\n",
            " 20%|█▉        | 19758367/100000000 [00:05<00:22, 3548897.03it/s]\u001b[A\n",
            " 20%|██        | 20127144/100000000 [00:05<00:22, 3551400.48it/s]\u001b[A\n",
            " 20%|██        | 20489091/100000000 [00:05<00:22, 3551341.28it/s]\u001b[A\n",
            " 21%|██        | 20852471/100000000 [00:05<00:22, 3552863.27it/s]\u001b[A\n",
            " 21%|██        | 21217452/100000000 [00:05<00:22, 3554687.21it/s]\u001b[A\n",
            " 22%|██▏       | 21583755/100000000 [00:06<00:22, 3556387.68it/s]\u001b[A\n",
            " 22%|██▏       | 21947314/100000000 [00:06<00:21, 3556365.74it/s]\u001b[A\n",
            " 22%|██▏       | 22327710/100000000 [00:06<00:21, 3560394.53it/s]\u001b[A\n",
            " 23%|██▎       | 22694890/100000000 [00:06<00:21, 3560016.56it/s]"
          ],
          "name": "stderr"
        },
        {
          "output_type": "stream",
          "text": [
            "\u001b[A\n",
            " 23%|██▎       | 23067168/100000000 [00:06<00:21, 3562524.19it/s]\u001b[A\n",
            " 23%|██▎       | 23435954/100000000 [00:06<00:21, 3564243.75it/s]\u001b[A\n",
            " 24%|██▍       | 23814634/100000000 [00:06<00:21, 3567729.34it/s]\u001b[A\n",
            " 24%|██▍       | 24184964/100000000 [00:06<00:21, 3568988.03it/s]\u001b[A\n",
            " 25%|██▍       | 24556666/100000000 [00:06<00:21, 3571398.39it/s]\u001b[A\n",
            " 25%|██▍       | 24926508/100000000 [00:06<00:21, 3571639.35it/s]\u001b[A\n",
            " 25%|██▌       | 25297453/100000000 [00:07<00:20, 3573630.44it/s]\u001b[A\n",
            " 26%|██▌       | 25666416/100000000 [00:07<00:20, 3574168.64it/s]\u001b[A\n",
            " 26%|██▌       | 26042566/100000000 [00:07<00:20, 3578102.40it/s]\u001b[A\n",
            " 26%|██▋       | 26420024/100000000 [00:07<00:20, 3580732.95it/s]\u001b[A\n",
            " 27%|██▋       | 26792810/100000000 [00:07<00:20, 3580020.94it/s]\u001b[A\n",
            " 27%|██▋       | 27172500/100000000 [00:07<00:20, 3582795.76it/s]\u001b[A\n",
            " 28%|██▊       | 27547181/100000000 [00:07<00:20, 3584831.81it/s]\u001b[A\n",
            " 28%|██▊       | 27930773/100000000 [00:07<00:20, 3588021.35it/s]\u001b[A\n",
            " 28%|██▊       | 28306137/100000000 [00:07<00:19, 3588491.02it/s]\u001b[A\n",
            " 29%|██▊       | 28690633/100000000 [00:07<00:19, 3591718.67it/s]\u001b[A\n",
            " 29%|██▉       | 29065960/100000000 [00:08<00:19, 3583223.09it/s]\u001b[A\n",
            " 29%|██▉       | 29432933/100000000 [00:08<00:19, 3580877.06it/s]\u001b[A\n",
            " 30%|██▉       | 29790630/100000000 [00:08<00:19, 3581810.83it/s]\u001b[A\n",
            " 30%|███       | 30158582/100000000 [00:08<00:19, 3585300.23it/s]\u001b[A\n",
            " 31%|███       | 30520245/100000000 [00:08<00:19, 3585558.18it/s]\u001b[A\n",
            " 31%|███       | 30888217/100000000 [00:08<00:19, 3586225.77it/s]\u001b[A\n",
            " 31%|███▏      | 31251301/100000000 [00:08<00:19, 3585218.71it/s]\u001b[A\n",
            " 32%|███▏      | 31619758/100000000 [00:08<00:19, 3586276.36it/s]\u001b[A\n",
            " 32%|███▏      | 31980963/100000000 [00:08<00:18, 3584285.02it/s]\u001b[A\n",
            " 32%|███▏      | 32361425/100000000 [00:09<00:18, 3587295.20it/s]\u001b[A\n",
            " 33%|███▎      | 32725291/100000000 [00:09<00:18, 3587426.09it/s]\u001b[A\n",
            " 33%|███▎      | 33097139/100000000 [00:09<00:18, 3588954.36it/s]\u001b[A\n",
            " 33%|███▎      | 33467357/100000000 [00:09<00:18, 3590000.52it/s]\u001b[A\n",
            " 34%|███▍      | 33834276/100000000 [00:09<00:18, 3587835.94it/s]\u001b[A\n",
            " 34%|███▍      | 34202267/100000000 [00:09<00:18, 3588884.43it/s]"
          ],
          "name": "stderr"
        },
        {
          "output_type": "stream",
          "text": [
            "\u001b[A\n",
            " 35%|███▍      | 34569915/100000000 [00:09<00:18, 3589609.31it/s]\u001b[A\n",
            " 35%|███▍      | 34939004/100000000 [00:09<00:18, 3590715.74it/s]\u001b[A"
          ],
          "name": "stderr"
        },
        {
          "output_type": "error",
          "ename": "KeyboardInterrupt",
          "evalue": "ignored",
          "traceback": [
            "\u001b[0;31m---------------------------------------------------------------------------\u001b[0m",
            "\u001b[0;31mKeyboardInterrupt\u001b[0m                         Traceback (most recent call last)",
            "\u001b[0;32m<ipython-input-5-a63d02d4445d>\u001b[0m in \u001b[0;36m<module>\u001b[0;34m()\u001b[0m\n\u001b[1;32m     62\u001b[0m     \u001b[0mprint\u001b[0m\u001b[0;34m(\u001b[0m\u001b[0ms\u001b[0m\u001b[0;34m.\u001b[0m\u001b[0mreplace\u001b[0m\u001b[0;34m(\u001b[0m\u001b[0;34m'import tqdm\\n'\u001b[0m\u001b[0;34m,\u001b[0m \u001b[0;34m''\u001b[0m\u001b[0;34m)\u001b[0m\u001b[0;34m)\u001b[0m\u001b[0;34m\u001b[0m\u001b[0m\n\u001b[1;32m     63\u001b[0m     print(timeit(stmt='try:\\n\\t_range = xrange'\n\u001b[0;32m---> 64\u001b[0;31m                  '\\nexcept:\\n\\t_range = range\\n' + s, number=1), 'seconds')\n\u001b[0m",
            "\u001b[0;32m/usr/lib/python3.6/timeit.py\u001b[0m in \u001b[0;36mtimeit\u001b[0;34m(stmt, setup, timer, number, globals)\u001b[0m\n\u001b[1;32m    231\u001b[0m            number=default_number, globals=None):\n\u001b[1;32m    232\u001b[0m     \u001b[0;34m\"\"\"Convenience function to create Timer object and call timeit method.\"\"\"\u001b[0m\u001b[0;34m\u001b[0m\u001b[0m\n\u001b[0;32m--> 233\u001b[0;31m     \u001b[0;32mreturn\u001b[0m \u001b[0mTimer\u001b[0m\u001b[0;34m(\u001b[0m\u001b[0mstmt\u001b[0m\u001b[0;34m,\u001b[0m \u001b[0msetup\u001b[0m\u001b[0;34m,\u001b[0m \u001b[0mtimer\u001b[0m\u001b[0;34m,\u001b[0m \u001b[0mglobals\u001b[0m\u001b[0;34m)\u001b[0m\u001b[0;34m.\u001b[0m\u001b[0mtimeit\u001b[0m\u001b[0;34m(\u001b[0m\u001b[0mnumber\u001b[0m\u001b[0;34m)\u001b[0m\u001b[0;34m\u001b[0m\u001b[0m\n\u001b[0m\u001b[1;32m    234\u001b[0m \u001b[0;34m\u001b[0m\u001b[0m\n\u001b[1;32m    235\u001b[0m def repeat(stmt=\"pass\", setup=\"pass\", timer=default_timer,\n",
            "\u001b[0;32m/usr/lib/python3.6/timeit.py\u001b[0m in \u001b[0;36mtimeit\u001b[0;34m(self, number)\u001b[0m\n\u001b[1;32m    176\u001b[0m         \u001b[0mgc\u001b[0m\u001b[0;34m.\u001b[0m\u001b[0mdisable\u001b[0m\u001b[0;34m(\u001b[0m\u001b[0;34m)\u001b[0m\u001b[0;34m\u001b[0m\u001b[0m\n\u001b[1;32m    177\u001b[0m         \u001b[0;32mtry\u001b[0m\u001b[0;34m:\u001b[0m\u001b[0;34m\u001b[0m\u001b[0m\n\u001b[0;32m--> 178\u001b[0;31m             \u001b[0mtiming\u001b[0m \u001b[0;34m=\u001b[0m \u001b[0mself\u001b[0m\u001b[0;34m.\u001b[0m\u001b[0minner\u001b[0m\u001b[0;34m(\u001b[0m\u001b[0mit\u001b[0m\u001b[0;34m,\u001b[0m \u001b[0mself\u001b[0m\u001b[0;34m.\u001b[0m\u001b[0mtimer\u001b[0m\u001b[0;34m)\u001b[0m\u001b[0;34m\u001b[0m\u001b[0m\n\u001b[0m\u001b[1;32m    179\u001b[0m         \u001b[0;32mfinally\u001b[0m\u001b[0;34m:\u001b[0m\u001b[0;34m\u001b[0m\u001b[0m\n\u001b[1;32m    180\u001b[0m             \u001b[0;32mif\u001b[0m \u001b[0mgcold\u001b[0m\u001b[0;34m:\u001b[0m\u001b[0;34m\u001b[0m\u001b[0m\n",
            "\u001b[0;32m/usr/lib/python3.6/timeit.py\u001b[0m in \u001b[0;36minner\u001b[0;34m(_it, _timer)\u001b[0m\n",
            "\u001b[0;32m/usr/local/lib/python3.6/dist-packages/tqdm/_tqdm.py\u001b[0m in \u001b[0;36m__iter__\u001b[0;34m(self)\u001b[0m\n\u001b[1;32m    934\u001b[0m                 \u001b[0mn\u001b[0m \u001b[0;34m+=\u001b[0m \u001b[0;36m1\u001b[0m\u001b[0;34m\u001b[0m\u001b[0m\n\u001b[1;32m    935\u001b[0m                 \u001b[0;31m# check counter first to avoid calls to time()\u001b[0m\u001b[0;34m\u001b[0m\u001b[0;34m\u001b[0m\u001b[0m\n\u001b[0;32m--> 936\u001b[0;31m                 \u001b[0;32mif\u001b[0m \u001b[0mn\u001b[0m \u001b[0;34m-\u001b[0m \u001b[0mlast_print_n\u001b[0m \u001b[0;34m>=\u001b[0m \u001b[0mself\u001b[0m\u001b[0;34m.\u001b[0m\u001b[0mminiters\u001b[0m\u001b[0;34m:\u001b[0m\u001b[0;34m\u001b[0m\u001b[0m\n\u001b[0m\u001b[1;32m    937\u001b[0m                     \u001b[0mminiters\u001b[0m \u001b[0;34m=\u001b[0m \u001b[0mself\u001b[0m\u001b[0;34m.\u001b[0m\u001b[0mminiters\u001b[0m  \u001b[0;31m# watch monitoring thread changes\u001b[0m\u001b[0;34m\u001b[0m\u001b[0m\n\u001b[1;32m    938\u001b[0m                     \u001b[0mdelta_t\u001b[0m \u001b[0;34m=\u001b[0m \u001b[0m_time\u001b[0m\u001b[0;34m(\u001b[0m\u001b[0;34m)\u001b[0m \u001b[0;34m-\u001b[0m \u001b[0mlast_print_t\u001b[0m\u001b[0;34m\u001b[0m\u001b[0m\n",
            "\u001b[0;31mKeyboardInterrupt\u001b[0m: "
          ]
        }
      ]
    },
    {
      "metadata": {
        "id": "yfu4kybgsFAq",
        "colab_type": "code",
        "colab": {
          "autoexec": {
            "startup": false,
            "wait_interval": 0
          },
          "base_uri": "https://localhost:8080/",
          "height": 351
        },
        "outputId": "ea3f7e7e-af76-4fce-cd76-8b830d6e12a0",
        "executionInfo": {
          "status": "error",
          "timestamp": 1529305171545,
          "user_tz": -120,
          "elapsed": 12189,
          "user": {
            "displayName": "Wojtek Czarnowski",
            "photoUrl": "//lh6.googleusercontent.com/-Sx8k456RbyI/AAAAAAAAAAI/AAAAAAAAEig/wmURGqbv_J8/s50-c-k-no/photo.jpg",
            "userId": "115130698336476923651"
          }
        }
      },
      "cell_type": "code",
      "source": [
        "import tqdm\n",
        "for i in tqdm.trange(int(1e8), miniters=int(1e6), ascii=True,\n",
        "                     desc=\"cool\", dynamic_ncols=True):\n",
        "    pass\n"
      ],
      "execution_count": 3,
      "outputs": [
        {
          "output_type": "stream",
          "text": [
            "cool:  48%|####8     | 48000000/100000000 [00:11<00:12, 4269544.76it/s]"
          ],
          "name": "stderr"
        },
        {
          "output_type": "error",
          "ename": "KeyboardInterrupt",
          "evalue": "ignored",
          "traceback": [
            "\u001b[0;31m---------------------------------------------------------------------------\u001b[0m",
            "\u001b[0;31mKeyboardInterrupt\u001b[0m                         Traceback (most recent call last)",
            "\u001b[0;32m<ipython-input-3-5efb662a29a7>\u001b[0m in \u001b[0;36m<module>\u001b[0;34m()\u001b[0m\n\u001b[1;32m      1\u001b[0m \u001b[0;32mimport\u001b[0m \u001b[0mtqdm\u001b[0m\u001b[0;34m\u001b[0m\u001b[0m\n\u001b[1;32m      2\u001b[0m for i in tqdm.trange(int(1e8), miniters=int(1e6), ascii=True,\n\u001b[0;32m----> 3\u001b[0;31m                      desc=\"cool\", dynamic_ncols=True):\n\u001b[0m\u001b[1;32m      4\u001b[0m     \u001b[0;32mpass\u001b[0m\u001b[0;34m\u001b[0m\u001b[0m\n",
            "\u001b[0;32m/usr/local/lib/python3.6/dist-packages/tqdm/_tqdm.py\u001b[0m in \u001b[0;36m__iter__\u001b[0;34m(self)\u001b[0m\n\u001b[1;32m    934\u001b[0m                 \u001b[0mn\u001b[0m \u001b[0;34m+=\u001b[0m \u001b[0;36m1\u001b[0m\u001b[0;34m\u001b[0m\u001b[0m\n\u001b[1;32m    935\u001b[0m                 \u001b[0;31m# check counter first to avoid calls to time()\u001b[0m\u001b[0;34m\u001b[0m\u001b[0;34m\u001b[0m\u001b[0m\n\u001b[0;32m--> 936\u001b[0;31m                 \u001b[0;32mif\u001b[0m \u001b[0mn\u001b[0m \u001b[0;34m-\u001b[0m \u001b[0mlast_print_n\u001b[0m \u001b[0;34m>=\u001b[0m \u001b[0mself\u001b[0m\u001b[0;34m.\u001b[0m\u001b[0mminiters\u001b[0m\u001b[0;34m:\u001b[0m\u001b[0;34m\u001b[0m\u001b[0m\n\u001b[0m\u001b[1;32m    937\u001b[0m                     \u001b[0mminiters\u001b[0m \u001b[0;34m=\u001b[0m \u001b[0mself\u001b[0m\u001b[0;34m.\u001b[0m\u001b[0mminiters\u001b[0m  \u001b[0;31m# watch monitoring thread changes\u001b[0m\u001b[0;34m\u001b[0m\u001b[0m\n\u001b[1;32m    938\u001b[0m                     \u001b[0mdelta_t\u001b[0m \u001b[0;34m=\u001b[0m \u001b[0m_time\u001b[0m\u001b[0;34m(\u001b[0m\u001b[0;34m)\u001b[0m \u001b[0;34m-\u001b[0m \u001b[0mlast_print_t\u001b[0m\u001b[0;34m\u001b[0m\u001b[0m\n",
            "\u001b[0;31mKeyboardInterrupt\u001b[0m: "
          ]
        }
      ]
    },
    {
      "metadata": {
        "id": "HVYmYixPsFAt",
        "colab_type": "code",
        "colab": {
          "autoexec": {
            "startup": false,
            "wait_interval": 0
          },
          "base_uri": "https://localhost:8080/",
          "height": 34
        },
        "outputId": "82e445bb-e039-4cb3-c3e1-2b8d64ec1316",
        "executionInfo": {
          "status": "ok",
          "timestamp": 1529305154983,
          "user_tz": -120,
          "elapsed": 2558,
          "user": {
            "displayName": "Wojtek Czarnowski",
            "photoUrl": "//lh6.googleusercontent.com/-Sx8k456RbyI/AAAAAAAAAAI/AAAAAAAAEig/wmURGqbv_J8/s50-c-k-no/photo.jpg",
            "userId": "115130698336476923651"
          }
        }
      },
      "cell_type": "code",
      "source": [
        "from time import sleep\n",
        "# from tqdm import tqdm\n",
        "import tqdm\n",
        "\n",
        "pbar = tqdm.tqdm([\"a\", \"b\", \"c\", \"d\"])\n",
        "# pbar = tqdm.tqdm_gui([\"a\", \"b\", \"c\", \"d\"])\n",
        "for char in pbar:\n",
        "#     pbar.set_description(\"Processing %s\" % char)\n",
        "    sleep(0.5)\n",
        "    i = ord(char)\n",
        "    pbar.set_postfix({'i': i})"
      ],
      "execution_count": 2,
      "outputs": [
        {
          "output_type": "stream",
          "text": [
            "100%|██████████| 4/4 [00:02<00:00,  1.98it/s, i=100]\n"
          ],
          "name": "stderr"
        }
      ]
    },
    {
      "metadata": {
        "id": "eLPC3l2dtGq6",
        "colab_type": "text"
      },
      "cell_type": "markdown",
      "source": [
        "# in colab notebook"
      ]
    },
    {
      "metadata": {
        "id": "K-iRXNxCsFAw",
        "colab_type": "code",
        "colab": {
          "autoexec": {
            "startup": false,
            "wait_interval": 0
          }
        }
      },
      "cell_type": "code",
      "source": [
        "from time import sleep\n",
        "from tqdm import tqdm_notebook as tqdm"
      ],
      "execution_count": 0,
      "outputs": []
    },
    {
      "metadata": {
        "id": "Zn2ahqsOtF4P",
        "colab_type": "code",
        "colab": {
          "autoexec": {
            "startup": false,
            "wait_interval": 0
          }
        }
      },
      "cell_type": "code",
      "source": [
        "from tqdm import tqdm, trange\n",
        "tnrange=trange\n",
        "tqdm_notebook=tqdm"
      ],
      "execution_count": 0,
      "outputs": []
    },
    {
      "metadata": {
        "id": "4_qS3VK7tKNJ",
        "colab_type": "code",
        "colab": {
          "autoexec": {
            "startup": false,
            "wait_interval": 0
          },
          "base_uri": "https://localhost:8080/",
          "height": 34
        },
        "outputId": "0f320361-6bad-4030-e95d-f5224f5137fc",
        "executionInfo": {
          "status": "ok",
          "timestamp": 1529305440938,
          "user_tz": -120,
          "elapsed": 2556,
          "user": {
            "displayName": "Wojtek Czarnowski",
            "photoUrl": "//lh6.googleusercontent.com/-Sx8k456RbyI/AAAAAAAAAAI/AAAAAAAAEig/wmURGqbv_J8/s50-c-k-no/photo.jpg",
            "userId": "115130698336476923651"
          }
        }
      },
      "cell_type": "code",
      "source": [
        "pbar = tqdm([\"a\", \"b\", \"c\", \"d\"])\n",
        "# pbar = tqdm.tqdm_gui([\"a\", \"b\", \"c\", \"d\"])\n",
        "for char in pbar:\n",
        "#     pbar.set_description(\"Processing %s\" % char)\n",
        "    sleep(0.5)\n",
        "    i = ord(char)\n",
        "    pbar.set_postfix({'i': i})"
      ],
      "execution_count": 7,
      "outputs": [
        {
          "output_type": "stream",
          "text": [
            "100%|██████████| 4/4 [00:02<00:00,  1.99it/s, i=100]\n"
          ],
          "name": "stderr"
        }
      ]
    },
    {
      "metadata": {
        "id": "YYW0K0dsstEV",
        "colab_type": "code",
        "colab": {
          "autoexec": {
            "startup": false,
            "wait_interval": 0
          }
        }
      },
      "cell_type": "code",
      "source": [
        ""
      ],
      "execution_count": 0,
      "outputs": []
    }
  ]
}